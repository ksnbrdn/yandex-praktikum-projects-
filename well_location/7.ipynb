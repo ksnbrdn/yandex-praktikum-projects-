{
 "cells": [
  {
   "cell_type": "markdown",
   "metadata": {},
   "source": [
    "# Выбор локации для скважины"
   ]
  },
  {
   "cell_type": "markdown",
   "metadata": {},
   "source": [
    "<b>Описание проекта</b>  \n",
    "\n",
    "Мы работаем в добывающей компании «ГлавРосГосНефть». Нужно решить, где бурить новую скважину.\n",
    "\n",
    "Нам предоставлены пробы нефти в трёх регионах: в каждом 10 000 месторождений, где измерили качество нефти и объём её запасов. Построим модель машинного обучения, которая поможет определить регион, где добыча принесёт наибольшую прибыль. Проанализируем возможную прибыль и риски техникой Bootstrap.\n",
    "\n",
    "Шаги для выбора локации:\n",
    "\n",
    "    В избранном регионе ищут месторождения, для каждого определяют значения признаков;\n",
    "    Строят модель и оценивают объём запасов;\n",
    "    Выбирают месторождения с самым высокими оценками значений. Количество месторождений зависит от бюджета компании и стоимости разработки одной скважины;\n",
    "    Прибыль равна суммарной прибыли отобранных месторождений.\n",
    "\n",
    "Описание данных\n",
    "\n",
    "Признаки:\n",
    "id — уникальный идентификатор скважины;\n",
    "f0, f1, f2 — три признака точек (неважно, что они означают, но сами признаки значимы);\n",
    "Целевой признак:\n",
    "product — объём запасов в скважине (тыс. баррелей).\n",
    "\n",
    "Условия задачи:\n",
    "\n",
    "    Для обучения модели подходит только линейная регрессия (остальные — недостаточно предсказуемые).\n",
    "    При разведке региона исследуют 500 точек, из которых с помощью машинного обучения выбирают 200 лучших для разработки.\n",
    "    Бюджет на разработку скважин в регионе — 10 млрд рублей.\n",
    "    При нынешних ценах один баррель сырья приносит 450 рублей дохода. Доход с каждой единицы продукта составляет 450 тыс. рублей, поскольку объём указан в тысячах баррелей.\n",
    "    После оценки рисков нужно оставить лишь те регионы, в которых вероятность убытков меньше 2.5%. Среди них выбирают регион с наибольшей средней прибылью.\n",
    "    \n",
    "\n",
    "План проведения работы\n",
    "\n",
    "1. Загрузим и подготовим данные. Поясним порядок действий.  \n",
    "2. Обучим и проверим модель для каждого региона:  \n",
    "2.1. Разобьём данные на обучающую и валидационную выборки в соотношении 75:25.  \n",
    "2.2. Обучим модель и сделаем предсказания на валидационной выборке.  \n",
    "2.3. Сохраним предсказания и правильные ответы на валидационной выборке.  \n",
    "2.4. Напечатаем на экране средний запас предсказанного сырья и RMSE модели.  \n",
    "2.5. Проанализируем результаты.  \n",
    "3. Подготовимся к расчёту прибыли:  \n",
    "3.1. Рассчитаем достаточный объём сырья для безубыточной разработки новой скважины. Сравним полученный объём сырья со средним запасом в каждом регионе.  \n",
    "3.2. Напишем выводы по этапу подготовки расчёта прибыли.  \n",
    "4. Напишем функцию для расчёта прибыли по выбранным скважинам и предсказаниям модели:  \n",
    "4.1. Выберем скважины с максимальными значениями предсказаний.  \n",
    "4.2. Просуммируем целевое значение объёма сырья, соответствующее этим предсказаниям.  \n",
    "4.3. Рассчитаем прибыль для полученного объёма сырья.  \n",
    "5. Посчитаем риски и прибыль для каждого региона:  \n",
    "5.1. Применим технику Bootstrap с 1000 выборок, чтобы найти распределение прибыли.  \n",
    "5.2. Найдём среднюю прибыль, 95%-й доверительный интервал и риск убытков. Убыток — это отрицательная прибыль.  \n",
    "5.3. Напишем выводы: предложим регион для разработки скважин и обоснуем выбор.  \n",
    "\n",
    "    \n",
    "\n"
   ]
  },
  {
   "cell_type": "markdown",
   "metadata": {},
   "source": [
    "## Загрузка и подготовка данных"
   ]
  },
  {
   "cell_type": "code",
   "execution_count": 23,
   "metadata": {},
   "outputs": [],
   "source": [
    "# Импортируем библиотеки\n",
    "import pandas as pd\n",
    "import numpy as np\n",
    "from scipy import stats as st\n",
    "\n",
    "from sklearn.linear_model import LinearRegression\n",
    "\n",
    "from sklearn.model_selection import train_test_split\n",
    "from sklearn.metrics import mean_squared_error"
   ]
  },
  {
   "cell_type": "code",
   "execution_count": 24,
   "metadata": {},
   "outputs": [],
   "source": [
    "# Сохраним константы в переменных\n",
    "# Бюджет на разработку скважин в регионе, тыс.руб\n",
    "BUDGET = 10000000 \n",
    "# Доход с каждой единицы продукта, тыс.руб\n",
    "INCOME_ONE_BARREL = 450\n",
    "# Количество скважин для разведки региона\n",
    "TOTAL_WELL = 500\n",
    "# Количество скважин для разработки\n",
    "BEST_WELL = 200"
   ]
  },
  {
   "cell_type": "code",
   "execution_count": 25,
   "metadata": {},
   "outputs": [],
   "source": [
    "# Читаем данные из csv-файлов и сохраним в переменные\n",
    "data_0 = pd.read_csv('https://code.s3.yandex.net/datasets/geo_data_0.csv')\n",
    "data_1 = pd.read_csv('https://code.s3.yandex.net/datasets/geo_data_1.csv')\n",
    "data_2 = pd.read_csv('https://code.s3.yandex.net/datasets/geo_data_2.csv') "
   ]
  },
  {
   "cell_type": "code",
   "execution_count": 26,
   "metadata": {},
   "outputs": [],
   "source": [
    "# Напишем функцию для изучения общей информации о полученных датафреймах \n",
    "def review(data): \n",
    "    info = display(data.head(), data.info(), data.describe(), \n",
    "    data.corr(numeric_only = True)\n",
    "    .style.background_gradient(cmap='PRGn'))                  \n",
    "    print('Количество дупликатов:', data.duplicated().sum()) "
   ]
  },
  {
   "cell_type": "code",
   "execution_count": 27,
   "metadata": {},
   "outputs": [
    {
     "name": "stdout",
     "output_type": "stream",
     "text": [
      "<class 'pandas.core.frame.DataFrame'>\n",
      "RangeIndex: 100000 entries, 0 to 99999\n",
      "Data columns (total 5 columns):\n",
      " #   Column   Non-Null Count   Dtype  \n",
      "---  ------   --------------   -----  \n",
      " 0   id       100000 non-null  object \n",
      " 1   f0       100000 non-null  float64\n",
      " 2   f1       100000 non-null  float64\n",
      " 3   f2       100000 non-null  float64\n",
      " 4   product  100000 non-null  float64\n",
      "dtypes: float64(4), object(1)\n",
      "memory usage: 3.8+ MB\n"
     ]
    },
    {
     "data": {
      "text/html": [
       "<div>\n",
       "<style scoped>\n",
       "    .dataframe tbody tr th:only-of-type {\n",
       "        vertical-align: middle;\n",
       "    }\n",
       "\n",
       "    .dataframe tbody tr th {\n",
       "        vertical-align: top;\n",
       "    }\n",
       "\n",
       "    .dataframe thead th {\n",
       "        text-align: right;\n",
       "    }\n",
       "</style>\n",
       "<table border=\"1\" class=\"dataframe\">\n",
       "  <thead>\n",
       "    <tr style=\"text-align: right;\">\n",
       "      <th></th>\n",
       "      <th>id</th>\n",
       "      <th>f0</th>\n",
       "      <th>f1</th>\n",
       "      <th>f2</th>\n",
       "      <th>product</th>\n",
       "    </tr>\n",
       "  </thead>\n",
       "  <tbody>\n",
       "    <tr>\n",
       "      <th>0</th>\n",
       "      <td>txEyH</td>\n",
       "      <td>0.705745</td>\n",
       "      <td>-0.497823</td>\n",
       "      <td>1.221170</td>\n",
       "      <td>105.280062</td>\n",
       "    </tr>\n",
       "    <tr>\n",
       "      <th>1</th>\n",
       "      <td>2acmU</td>\n",
       "      <td>1.334711</td>\n",
       "      <td>-0.340164</td>\n",
       "      <td>4.365080</td>\n",
       "      <td>73.037750</td>\n",
       "    </tr>\n",
       "    <tr>\n",
       "      <th>2</th>\n",
       "      <td>409Wp</td>\n",
       "      <td>1.022732</td>\n",
       "      <td>0.151990</td>\n",
       "      <td>1.419926</td>\n",
       "      <td>85.265647</td>\n",
       "    </tr>\n",
       "    <tr>\n",
       "      <th>3</th>\n",
       "      <td>iJLyR</td>\n",
       "      <td>-0.032172</td>\n",
       "      <td>0.139033</td>\n",
       "      <td>2.978566</td>\n",
       "      <td>168.620776</td>\n",
       "    </tr>\n",
       "    <tr>\n",
       "      <th>4</th>\n",
       "      <td>Xdl7t</td>\n",
       "      <td>1.988431</td>\n",
       "      <td>0.155413</td>\n",
       "      <td>4.751769</td>\n",
       "      <td>154.036647</td>\n",
       "    </tr>\n",
       "  </tbody>\n",
       "</table>\n",
       "</div>"
      ],
      "text/plain": [
       "      id        f0        f1        f2     product\n",
       "0  txEyH  0.705745 -0.497823  1.221170  105.280062\n",
       "1  2acmU  1.334711 -0.340164  4.365080   73.037750\n",
       "2  409Wp  1.022732  0.151990  1.419926   85.265647\n",
       "3  iJLyR -0.032172  0.139033  2.978566  168.620776\n",
       "4  Xdl7t  1.988431  0.155413  4.751769  154.036647"
      ]
     },
     "metadata": {},
     "output_type": "display_data"
    },
    {
     "data": {
      "text/plain": [
       "None"
      ]
     },
     "metadata": {},
     "output_type": "display_data"
    },
    {
     "data": {
      "text/html": [
       "<div>\n",
       "<style scoped>\n",
       "    .dataframe tbody tr th:only-of-type {\n",
       "        vertical-align: middle;\n",
       "    }\n",
       "\n",
       "    .dataframe tbody tr th {\n",
       "        vertical-align: top;\n",
       "    }\n",
       "\n",
       "    .dataframe thead th {\n",
       "        text-align: right;\n",
       "    }\n",
       "</style>\n",
       "<table border=\"1\" class=\"dataframe\">\n",
       "  <thead>\n",
       "    <tr style=\"text-align: right;\">\n",
       "      <th></th>\n",
       "      <th>f0</th>\n",
       "      <th>f1</th>\n",
       "      <th>f2</th>\n",
       "      <th>product</th>\n",
       "    </tr>\n",
       "  </thead>\n",
       "  <tbody>\n",
       "    <tr>\n",
       "      <th>count</th>\n",
       "      <td>100000.000000</td>\n",
       "      <td>100000.000000</td>\n",
       "      <td>100000.000000</td>\n",
       "      <td>100000.000000</td>\n",
       "    </tr>\n",
       "    <tr>\n",
       "      <th>mean</th>\n",
       "      <td>0.500419</td>\n",
       "      <td>0.250143</td>\n",
       "      <td>2.502647</td>\n",
       "      <td>92.500000</td>\n",
       "    </tr>\n",
       "    <tr>\n",
       "      <th>std</th>\n",
       "      <td>0.871832</td>\n",
       "      <td>0.504433</td>\n",
       "      <td>3.248248</td>\n",
       "      <td>44.288691</td>\n",
       "    </tr>\n",
       "    <tr>\n",
       "      <th>min</th>\n",
       "      <td>-1.408605</td>\n",
       "      <td>-0.848218</td>\n",
       "      <td>-12.088328</td>\n",
       "      <td>0.000000</td>\n",
       "    </tr>\n",
       "    <tr>\n",
       "      <th>25%</th>\n",
       "      <td>-0.072580</td>\n",
       "      <td>-0.200881</td>\n",
       "      <td>0.287748</td>\n",
       "      <td>56.497507</td>\n",
       "    </tr>\n",
       "    <tr>\n",
       "      <th>50%</th>\n",
       "      <td>0.502360</td>\n",
       "      <td>0.250252</td>\n",
       "      <td>2.515969</td>\n",
       "      <td>91.849972</td>\n",
       "    </tr>\n",
       "    <tr>\n",
       "      <th>75%</th>\n",
       "      <td>1.073581</td>\n",
       "      <td>0.700646</td>\n",
       "      <td>4.715088</td>\n",
       "      <td>128.564089</td>\n",
       "    </tr>\n",
       "    <tr>\n",
       "      <th>max</th>\n",
       "      <td>2.362331</td>\n",
       "      <td>1.343769</td>\n",
       "      <td>16.003790</td>\n",
       "      <td>185.364347</td>\n",
       "    </tr>\n",
       "  </tbody>\n",
       "</table>\n",
       "</div>"
      ],
      "text/plain": [
       "                  f0             f1             f2        product\n",
       "count  100000.000000  100000.000000  100000.000000  100000.000000\n",
       "mean        0.500419       0.250143       2.502647      92.500000\n",
       "std         0.871832       0.504433       3.248248      44.288691\n",
       "min        -1.408605      -0.848218     -12.088328       0.000000\n",
       "25%        -0.072580      -0.200881       0.287748      56.497507\n",
       "50%         0.502360       0.250252       2.515969      91.849972\n",
       "75%         1.073581       0.700646       4.715088     128.564089\n",
       "max         2.362331       1.343769      16.003790     185.364347"
      ]
     },
     "metadata": {},
     "output_type": "display_data"
    },
    {
     "data": {
      "text/html": [
       "<style type=\"text/css\">\n",
       "#T_adb3e_row0_col0, #T_adb3e_row1_col1, #T_adb3e_row2_col2, #T_adb3e_row3_col3 {\n",
       "  background-color: #00441b;\n",
       "  color: #f1f1f1;\n",
       "}\n",
       "#T_adb3e_row0_col1, #T_adb3e_row0_col2, #T_adb3e_row1_col0, #T_adb3e_row1_col3 {\n",
       "  background-color: #40004b;\n",
       "  color: #f1f1f1;\n",
       "}\n",
       "#T_adb3e_row0_col3 {\n",
       "  background-color: #bb9cc9;\n",
       "  color: #f1f1f1;\n",
       "}\n",
       "#T_adb3e_row1_col2 {\n",
       "  background-color: #42024d;\n",
       "  color: #f1f1f1;\n",
       "}\n",
       "#T_adb3e_row2_col0 {\n",
       "  background-color: #c3a6cf;\n",
       "  color: #000000;\n",
       "}\n",
       "#T_adb3e_row2_col1 {\n",
       "  background-color: #c4a8d0;\n",
       "  color: #000000;\n",
       "}\n",
       "#T_adb3e_row2_col3 {\n",
       "  background-color: #e2f2de;\n",
       "  color: #000000;\n",
       "}\n",
       "#T_adb3e_row3_col0 {\n",
       "  background-color: #e8d5e9;\n",
       "  color: #000000;\n",
       "}\n",
       "#T_adb3e_row3_col1 {\n",
       "  background-color: #8f5da0;\n",
       "  color: #f1f1f1;\n",
       "}\n",
       "#T_adb3e_row3_col2 {\n",
       "  background-color: #f5f2f5;\n",
       "  color: #000000;\n",
       "}\n",
       "</style>\n",
       "<table id=\"T_adb3e\">\n",
       "  <thead>\n",
       "    <tr>\n",
       "      <th class=\"blank level0\" >&nbsp;</th>\n",
       "      <th id=\"T_adb3e_level0_col0\" class=\"col_heading level0 col0\" >f0</th>\n",
       "      <th id=\"T_adb3e_level0_col1\" class=\"col_heading level0 col1\" >f1</th>\n",
       "      <th id=\"T_adb3e_level0_col2\" class=\"col_heading level0 col2\" >f2</th>\n",
       "      <th id=\"T_adb3e_level0_col3\" class=\"col_heading level0 col3\" >product</th>\n",
       "    </tr>\n",
       "  </thead>\n",
       "  <tbody>\n",
       "    <tr>\n",
       "      <th id=\"T_adb3e_level0_row0\" class=\"row_heading level0 row0\" >f0</th>\n",
       "      <td id=\"T_adb3e_row0_col0\" class=\"data row0 col0\" >1.000000</td>\n",
       "      <td id=\"T_adb3e_row0_col1\" class=\"data row0 col1\" >-0.440723</td>\n",
       "      <td id=\"T_adb3e_row0_col2\" class=\"data row0 col2\" >-0.003153</td>\n",
       "      <td id=\"T_adb3e_row0_col3\" class=\"data row0 col3\" >0.143536</td>\n",
       "    </tr>\n",
       "    <tr>\n",
       "      <th id=\"T_adb3e_level0_row1\" class=\"row_heading level0 row1\" >f1</th>\n",
       "      <td id=\"T_adb3e_row1_col0\" class=\"data row1 col0\" >-0.440723</td>\n",
       "      <td id=\"T_adb3e_row1_col1\" class=\"data row1 col1\" >1.000000</td>\n",
       "      <td id=\"T_adb3e_row1_col2\" class=\"data row1 col2\" >0.001724</td>\n",
       "      <td id=\"T_adb3e_row1_col3\" class=\"data row1 col3\" >-0.192356</td>\n",
       "    </tr>\n",
       "    <tr>\n",
       "      <th id=\"T_adb3e_level0_row2\" class=\"row_heading level0 row2\" >f2</th>\n",
       "      <td id=\"T_adb3e_row2_col0\" class=\"data row2 col0\" >-0.003153</td>\n",
       "      <td id=\"T_adb3e_row2_col1\" class=\"data row2 col1\" >0.001724</td>\n",
       "      <td id=\"T_adb3e_row2_col2\" class=\"data row2 col2\" >1.000000</td>\n",
       "      <td id=\"T_adb3e_row2_col3\" class=\"data row2 col3\" >0.483663</td>\n",
       "    </tr>\n",
       "    <tr>\n",
       "      <th id=\"T_adb3e_level0_row3\" class=\"row_heading level0 row3\" >product</th>\n",
       "      <td id=\"T_adb3e_row3_col0\" class=\"data row3 col0\" >0.143536</td>\n",
       "      <td id=\"T_adb3e_row3_col1\" class=\"data row3 col1\" >-0.192356</td>\n",
       "      <td id=\"T_adb3e_row3_col2\" class=\"data row3 col2\" >0.483663</td>\n",
       "      <td id=\"T_adb3e_row3_col3\" class=\"data row3 col3\" >1.000000</td>\n",
       "    </tr>\n",
       "  </tbody>\n",
       "</table>\n"
      ],
      "text/plain": [
       "<pandas.io.formats.style.Styler at 0x130ed6333d0>"
      ]
     },
     "metadata": {},
     "output_type": "display_data"
    },
    {
     "name": "stdout",
     "output_type": "stream",
     "text": [
      "Количество дупликатов: 0\n"
     ]
    }
   ],
   "source": [
    "# Изучим данные 1 региона\n",
    "review(data_0)"
   ]
  },
  {
   "cell_type": "code",
   "execution_count": 28,
   "metadata": {},
   "outputs": [
    {
     "name": "stdout",
     "output_type": "stream",
     "text": [
      "<class 'pandas.core.frame.DataFrame'>\n",
      "RangeIndex: 100000 entries, 0 to 99999\n",
      "Data columns (total 5 columns):\n",
      " #   Column   Non-Null Count   Dtype  \n",
      "---  ------   --------------   -----  \n",
      " 0   id       100000 non-null  object \n",
      " 1   f0       100000 non-null  float64\n",
      " 2   f1       100000 non-null  float64\n",
      " 3   f2       100000 non-null  float64\n",
      " 4   product  100000 non-null  float64\n",
      "dtypes: float64(4), object(1)\n",
      "memory usage: 3.8+ MB\n"
     ]
    },
    {
     "data": {
      "text/html": [
       "<div>\n",
       "<style scoped>\n",
       "    .dataframe tbody tr th:only-of-type {\n",
       "        vertical-align: middle;\n",
       "    }\n",
       "\n",
       "    .dataframe tbody tr th {\n",
       "        vertical-align: top;\n",
       "    }\n",
       "\n",
       "    .dataframe thead th {\n",
       "        text-align: right;\n",
       "    }\n",
       "</style>\n",
       "<table border=\"1\" class=\"dataframe\">\n",
       "  <thead>\n",
       "    <tr style=\"text-align: right;\">\n",
       "      <th></th>\n",
       "      <th>id</th>\n",
       "      <th>f0</th>\n",
       "      <th>f1</th>\n",
       "      <th>f2</th>\n",
       "      <th>product</th>\n",
       "    </tr>\n",
       "  </thead>\n",
       "  <tbody>\n",
       "    <tr>\n",
       "      <th>0</th>\n",
       "      <td>kBEdx</td>\n",
       "      <td>-15.001348</td>\n",
       "      <td>-8.276000</td>\n",
       "      <td>-0.005876</td>\n",
       "      <td>3.179103</td>\n",
       "    </tr>\n",
       "    <tr>\n",
       "      <th>1</th>\n",
       "      <td>62mP7</td>\n",
       "      <td>14.272088</td>\n",
       "      <td>-3.475083</td>\n",
       "      <td>0.999183</td>\n",
       "      <td>26.953261</td>\n",
       "    </tr>\n",
       "    <tr>\n",
       "      <th>2</th>\n",
       "      <td>vyE1P</td>\n",
       "      <td>6.263187</td>\n",
       "      <td>-5.948386</td>\n",
       "      <td>5.001160</td>\n",
       "      <td>134.766305</td>\n",
       "    </tr>\n",
       "    <tr>\n",
       "      <th>3</th>\n",
       "      <td>KcrkZ</td>\n",
       "      <td>-13.081196</td>\n",
       "      <td>-11.506057</td>\n",
       "      <td>4.999415</td>\n",
       "      <td>137.945408</td>\n",
       "    </tr>\n",
       "    <tr>\n",
       "      <th>4</th>\n",
       "      <td>AHL4O</td>\n",
       "      <td>12.702195</td>\n",
       "      <td>-8.147433</td>\n",
       "      <td>5.004363</td>\n",
       "      <td>134.766305</td>\n",
       "    </tr>\n",
       "  </tbody>\n",
       "</table>\n",
       "</div>"
      ],
      "text/plain": [
       "      id         f0         f1        f2     product\n",
       "0  kBEdx -15.001348  -8.276000 -0.005876    3.179103\n",
       "1  62mP7  14.272088  -3.475083  0.999183   26.953261\n",
       "2  vyE1P   6.263187  -5.948386  5.001160  134.766305\n",
       "3  KcrkZ -13.081196 -11.506057  4.999415  137.945408\n",
       "4  AHL4O  12.702195  -8.147433  5.004363  134.766305"
      ]
     },
     "metadata": {},
     "output_type": "display_data"
    },
    {
     "data": {
      "text/plain": [
       "None"
      ]
     },
     "metadata": {},
     "output_type": "display_data"
    },
    {
     "data": {
      "text/html": [
       "<div>\n",
       "<style scoped>\n",
       "    .dataframe tbody tr th:only-of-type {\n",
       "        vertical-align: middle;\n",
       "    }\n",
       "\n",
       "    .dataframe tbody tr th {\n",
       "        vertical-align: top;\n",
       "    }\n",
       "\n",
       "    .dataframe thead th {\n",
       "        text-align: right;\n",
       "    }\n",
       "</style>\n",
       "<table border=\"1\" class=\"dataframe\">\n",
       "  <thead>\n",
       "    <tr style=\"text-align: right;\">\n",
       "      <th></th>\n",
       "      <th>f0</th>\n",
       "      <th>f1</th>\n",
       "      <th>f2</th>\n",
       "      <th>product</th>\n",
       "    </tr>\n",
       "  </thead>\n",
       "  <tbody>\n",
       "    <tr>\n",
       "      <th>count</th>\n",
       "      <td>100000.000000</td>\n",
       "      <td>100000.000000</td>\n",
       "      <td>100000.000000</td>\n",
       "      <td>100000.000000</td>\n",
       "    </tr>\n",
       "    <tr>\n",
       "      <th>mean</th>\n",
       "      <td>1.141296</td>\n",
       "      <td>-4.796579</td>\n",
       "      <td>2.494541</td>\n",
       "      <td>68.825000</td>\n",
       "    </tr>\n",
       "    <tr>\n",
       "      <th>std</th>\n",
       "      <td>8.965932</td>\n",
       "      <td>5.119872</td>\n",
       "      <td>1.703572</td>\n",
       "      <td>45.944423</td>\n",
       "    </tr>\n",
       "    <tr>\n",
       "      <th>min</th>\n",
       "      <td>-31.609576</td>\n",
       "      <td>-26.358598</td>\n",
       "      <td>-0.018144</td>\n",
       "      <td>0.000000</td>\n",
       "    </tr>\n",
       "    <tr>\n",
       "      <th>25%</th>\n",
       "      <td>-6.298551</td>\n",
       "      <td>-8.267985</td>\n",
       "      <td>1.000021</td>\n",
       "      <td>26.953261</td>\n",
       "    </tr>\n",
       "    <tr>\n",
       "      <th>50%</th>\n",
       "      <td>1.153055</td>\n",
       "      <td>-4.813172</td>\n",
       "      <td>2.011479</td>\n",
       "      <td>57.085625</td>\n",
       "    </tr>\n",
       "    <tr>\n",
       "      <th>75%</th>\n",
       "      <td>8.621015</td>\n",
       "      <td>-1.332816</td>\n",
       "      <td>3.999904</td>\n",
       "      <td>107.813044</td>\n",
       "    </tr>\n",
       "    <tr>\n",
       "      <th>max</th>\n",
       "      <td>29.421755</td>\n",
       "      <td>18.734063</td>\n",
       "      <td>5.019721</td>\n",
       "      <td>137.945408</td>\n",
       "    </tr>\n",
       "  </tbody>\n",
       "</table>\n",
       "</div>"
      ],
      "text/plain": [
       "                  f0             f1             f2        product\n",
       "count  100000.000000  100000.000000  100000.000000  100000.000000\n",
       "mean        1.141296      -4.796579       2.494541      68.825000\n",
       "std         8.965932       5.119872       1.703572      45.944423\n",
       "min       -31.609576     -26.358598      -0.018144       0.000000\n",
       "25%        -6.298551      -8.267985       1.000021      26.953261\n",
       "50%         1.153055      -4.813172       2.011479      57.085625\n",
       "75%         8.621015      -1.332816       3.999904     107.813044\n",
       "max        29.421755      18.734063       5.019721     137.945408"
      ]
     },
     "metadata": {},
     "output_type": "display_data"
    },
    {
     "data": {
      "text/html": [
       "<style type=\"text/css\">\n",
       "#T_c9ea2_row0_col0, #T_c9ea2_row1_col1, #T_c9ea2_row2_col2, #T_c9ea2_row2_col3, #T_c9ea2_row3_col2, #T_c9ea2_row3_col3 {\n",
       "  background-color: #00441b;\n",
       "  color: #f1f1f1;\n",
       "}\n",
       "#T_c9ea2_row0_col1 {\n",
       "  background-color: #9568a6;\n",
       "  color: #f1f1f1;\n",
       "}\n",
       "#T_c9ea2_row0_col2, #T_c9ea2_row0_col3, #T_c9ea2_row1_col2, #T_c9ea2_row3_col0, #T_c9ea2_row3_col1 {\n",
       "  background-color: #40004b;\n",
       "  color: #f1f1f1;\n",
       "}\n",
       "#T_c9ea2_row1_col0 {\n",
       "  background-color: #9b72ac;\n",
       "  color: #f1f1f1;\n",
       "}\n",
       "#T_c9ea2_row1_col3 {\n",
       "  background-color: #4b0856;\n",
       "  color: #f1f1f1;\n",
       "}\n",
       "#T_c9ea2_row2_col0 {\n",
       "  background-color: #4f0c5a;\n",
       "  color: #f1f1f1;\n",
       "}\n",
       "#T_c9ea2_row2_col1 {\n",
       "  background-color: #42024d;\n",
       "  color: #f1f1f1;\n",
       "}\n",
       "</style>\n",
       "<table id=\"T_c9ea2\">\n",
       "  <thead>\n",
       "    <tr>\n",
       "      <th class=\"blank level0\" >&nbsp;</th>\n",
       "      <th id=\"T_c9ea2_level0_col0\" class=\"col_heading level0 col0\" >f0</th>\n",
       "      <th id=\"T_c9ea2_level0_col1\" class=\"col_heading level0 col1\" >f1</th>\n",
       "      <th id=\"T_c9ea2_level0_col2\" class=\"col_heading level0 col2\" >f2</th>\n",
       "      <th id=\"T_c9ea2_level0_col3\" class=\"col_heading level0 col3\" >product</th>\n",
       "    </tr>\n",
       "  </thead>\n",
       "  <tbody>\n",
       "    <tr>\n",
       "      <th id=\"T_c9ea2_level0_row0\" class=\"row_heading level0 row0\" >f0</th>\n",
       "      <td id=\"T_c9ea2_row0_col0\" class=\"data row0 col0\" >1.000000</td>\n",
       "      <td id=\"T_c9ea2_row0_col1\" class=\"data row0 col1\" >0.182287</td>\n",
       "      <td id=\"T_c9ea2_row0_col2\" class=\"data row0 col2\" >-0.001777</td>\n",
       "      <td id=\"T_c9ea2_row0_col3\" class=\"data row0 col3\" >-0.030491</td>\n",
       "    </tr>\n",
       "    <tr>\n",
       "      <th id=\"T_c9ea2_level0_row1\" class=\"row_heading level0 row1\" >f1</th>\n",
       "      <td id=\"T_c9ea2_row1_col0\" class=\"data row1 col0\" >0.182287</td>\n",
       "      <td id=\"T_c9ea2_row1_col1\" class=\"data row1 col1\" >1.000000</td>\n",
       "      <td id=\"T_c9ea2_row1_col2\" class=\"data row1 col2\" >-0.002595</td>\n",
       "      <td id=\"T_c9ea2_row1_col3\" class=\"data row1 col3\" >-0.010155</td>\n",
       "    </tr>\n",
       "    <tr>\n",
       "      <th id=\"T_c9ea2_level0_row2\" class=\"row_heading level0 row2\" >f2</th>\n",
       "      <td id=\"T_c9ea2_row2_col0\" class=\"data row2 col0\" >-0.001777</td>\n",
       "      <td id=\"T_c9ea2_row2_col1\" class=\"data row2 col1\" >-0.002595</td>\n",
       "      <td id=\"T_c9ea2_row2_col2\" class=\"data row2 col2\" >1.000000</td>\n",
       "      <td id=\"T_c9ea2_row2_col3\" class=\"data row2 col3\" >0.999397</td>\n",
       "    </tr>\n",
       "    <tr>\n",
       "      <th id=\"T_c9ea2_level0_row3\" class=\"row_heading level0 row3\" >product</th>\n",
       "      <td id=\"T_c9ea2_row3_col0\" class=\"data row3 col0\" >-0.030491</td>\n",
       "      <td id=\"T_c9ea2_row3_col1\" class=\"data row3 col1\" >-0.010155</td>\n",
       "      <td id=\"T_c9ea2_row3_col2\" class=\"data row3 col2\" >0.999397</td>\n",
       "      <td id=\"T_c9ea2_row3_col3\" class=\"data row3 col3\" >1.000000</td>\n",
       "    </tr>\n",
       "  </tbody>\n",
       "</table>\n"
      ],
      "text/plain": [
       "<pandas.io.formats.style.Styler at 0x130ecd81060>"
      ]
     },
     "metadata": {},
     "output_type": "display_data"
    },
    {
     "name": "stdout",
     "output_type": "stream",
     "text": [
      "Количество дупликатов: 0\n"
     ]
    }
   ],
   "source": [
    "# Изучим данные 2 региона\n",
    "review(data_1)"
   ]
  },
  {
   "cell_type": "code",
   "execution_count": 29,
   "metadata": {},
   "outputs": [
    {
     "name": "stdout",
     "output_type": "stream",
     "text": [
      "<class 'pandas.core.frame.DataFrame'>\n",
      "RangeIndex: 100000 entries, 0 to 99999\n",
      "Data columns (total 5 columns):\n",
      " #   Column   Non-Null Count   Dtype  \n",
      "---  ------   --------------   -----  \n",
      " 0   id       100000 non-null  object \n",
      " 1   f0       100000 non-null  float64\n",
      " 2   f1       100000 non-null  float64\n",
      " 3   f2       100000 non-null  float64\n",
      " 4   product  100000 non-null  float64\n",
      "dtypes: float64(4), object(1)\n",
      "memory usage: 3.8+ MB\n"
     ]
    },
    {
     "data": {
      "text/html": [
       "<div>\n",
       "<style scoped>\n",
       "    .dataframe tbody tr th:only-of-type {\n",
       "        vertical-align: middle;\n",
       "    }\n",
       "\n",
       "    .dataframe tbody tr th {\n",
       "        vertical-align: top;\n",
       "    }\n",
       "\n",
       "    .dataframe thead th {\n",
       "        text-align: right;\n",
       "    }\n",
       "</style>\n",
       "<table border=\"1\" class=\"dataframe\">\n",
       "  <thead>\n",
       "    <tr style=\"text-align: right;\">\n",
       "      <th></th>\n",
       "      <th>id</th>\n",
       "      <th>f0</th>\n",
       "      <th>f1</th>\n",
       "      <th>f2</th>\n",
       "      <th>product</th>\n",
       "    </tr>\n",
       "  </thead>\n",
       "  <tbody>\n",
       "    <tr>\n",
       "      <th>0</th>\n",
       "      <td>fwXo0</td>\n",
       "      <td>-1.146987</td>\n",
       "      <td>0.963328</td>\n",
       "      <td>-0.828965</td>\n",
       "      <td>27.758673</td>\n",
       "    </tr>\n",
       "    <tr>\n",
       "      <th>1</th>\n",
       "      <td>WJtFt</td>\n",
       "      <td>0.262778</td>\n",
       "      <td>0.269839</td>\n",
       "      <td>-2.530187</td>\n",
       "      <td>56.069697</td>\n",
       "    </tr>\n",
       "    <tr>\n",
       "      <th>2</th>\n",
       "      <td>ovLUW</td>\n",
       "      <td>0.194587</td>\n",
       "      <td>0.289035</td>\n",
       "      <td>-5.586433</td>\n",
       "      <td>62.871910</td>\n",
       "    </tr>\n",
       "    <tr>\n",
       "      <th>3</th>\n",
       "      <td>q6cA6</td>\n",
       "      <td>2.236060</td>\n",
       "      <td>-0.553760</td>\n",
       "      <td>0.930038</td>\n",
       "      <td>114.572842</td>\n",
       "    </tr>\n",
       "    <tr>\n",
       "      <th>4</th>\n",
       "      <td>WPMUX</td>\n",
       "      <td>-0.515993</td>\n",
       "      <td>1.716266</td>\n",
       "      <td>5.899011</td>\n",
       "      <td>149.600746</td>\n",
       "    </tr>\n",
       "  </tbody>\n",
       "</table>\n",
       "</div>"
      ],
      "text/plain": [
       "      id        f0        f1        f2     product\n",
       "0  fwXo0 -1.146987  0.963328 -0.828965   27.758673\n",
       "1  WJtFt  0.262778  0.269839 -2.530187   56.069697\n",
       "2  ovLUW  0.194587  0.289035 -5.586433   62.871910\n",
       "3  q6cA6  2.236060 -0.553760  0.930038  114.572842\n",
       "4  WPMUX -0.515993  1.716266  5.899011  149.600746"
      ]
     },
     "metadata": {},
     "output_type": "display_data"
    },
    {
     "data": {
      "text/plain": [
       "None"
      ]
     },
     "metadata": {},
     "output_type": "display_data"
    },
    {
     "data": {
      "text/html": [
       "<div>\n",
       "<style scoped>\n",
       "    .dataframe tbody tr th:only-of-type {\n",
       "        vertical-align: middle;\n",
       "    }\n",
       "\n",
       "    .dataframe tbody tr th {\n",
       "        vertical-align: top;\n",
       "    }\n",
       "\n",
       "    .dataframe thead th {\n",
       "        text-align: right;\n",
       "    }\n",
       "</style>\n",
       "<table border=\"1\" class=\"dataframe\">\n",
       "  <thead>\n",
       "    <tr style=\"text-align: right;\">\n",
       "      <th></th>\n",
       "      <th>f0</th>\n",
       "      <th>f1</th>\n",
       "      <th>f2</th>\n",
       "      <th>product</th>\n",
       "    </tr>\n",
       "  </thead>\n",
       "  <tbody>\n",
       "    <tr>\n",
       "      <th>count</th>\n",
       "      <td>100000.000000</td>\n",
       "      <td>100000.000000</td>\n",
       "      <td>100000.000000</td>\n",
       "      <td>100000.000000</td>\n",
       "    </tr>\n",
       "    <tr>\n",
       "      <th>mean</th>\n",
       "      <td>0.002023</td>\n",
       "      <td>-0.002081</td>\n",
       "      <td>2.495128</td>\n",
       "      <td>95.000000</td>\n",
       "    </tr>\n",
       "    <tr>\n",
       "      <th>std</th>\n",
       "      <td>1.732045</td>\n",
       "      <td>1.730417</td>\n",
       "      <td>3.473445</td>\n",
       "      <td>44.749921</td>\n",
       "    </tr>\n",
       "    <tr>\n",
       "      <th>min</th>\n",
       "      <td>-8.760004</td>\n",
       "      <td>-7.084020</td>\n",
       "      <td>-11.970335</td>\n",
       "      <td>0.000000</td>\n",
       "    </tr>\n",
       "    <tr>\n",
       "      <th>25%</th>\n",
       "      <td>-1.162288</td>\n",
       "      <td>-1.174820</td>\n",
       "      <td>0.130359</td>\n",
       "      <td>59.450441</td>\n",
       "    </tr>\n",
       "    <tr>\n",
       "      <th>50%</th>\n",
       "      <td>0.009424</td>\n",
       "      <td>-0.009482</td>\n",
       "      <td>2.484236</td>\n",
       "      <td>94.925613</td>\n",
       "    </tr>\n",
       "    <tr>\n",
       "      <th>75%</th>\n",
       "      <td>1.158535</td>\n",
       "      <td>1.163678</td>\n",
       "      <td>4.858794</td>\n",
       "      <td>130.595027</td>\n",
       "    </tr>\n",
       "    <tr>\n",
       "      <th>max</th>\n",
       "      <td>7.238262</td>\n",
       "      <td>7.844801</td>\n",
       "      <td>16.739402</td>\n",
       "      <td>190.029838</td>\n",
       "    </tr>\n",
       "  </tbody>\n",
       "</table>\n",
       "</div>"
      ],
      "text/plain": [
       "                  f0             f1             f2        product\n",
       "count  100000.000000  100000.000000  100000.000000  100000.000000\n",
       "mean        0.002023      -0.002081       2.495128      95.000000\n",
       "std         1.732045       1.730417       3.473445      44.749921\n",
       "min        -8.760004      -7.084020     -11.970335       0.000000\n",
       "25%        -1.162288      -1.174820       0.130359      59.450441\n",
       "50%         0.009424      -0.009482       2.484236      94.925613\n",
       "75%         1.158535       1.163678       4.858794     130.595027\n",
       "max         7.238262       7.844801      16.739402     190.029838"
      ]
     },
     "metadata": {},
     "output_type": "display_data"
    },
    {
     "data": {
      "text/html": [
       "<style type=\"text/css\">\n",
       "#T_1c6ab_row0_col0, #T_1c6ab_row1_col1, #T_1c6ab_row2_col2, #T_1c6ab_row3_col3 {\n",
       "  background-color: #00441b;\n",
       "  color: #f1f1f1;\n",
       "}\n",
       "#T_1c6ab_row0_col1, #T_1c6ab_row0_col2, #T_1c6ab_row0_col3, #T_1c6ab_row1_col0, #T_1c6ab_row1_col2, #T_1c6ab_row1_col3, #T_1c6ab_row2_col0, #T_1c6ab_row2_col1, #T_1c6ab_row3_col0, #T_1c6ab_row3_col1 {\n",
       "  background-color: #40004b;\n",
       "  color: #f1f1f1;\n",
       "}\n",
       "#T_1c6ab_row2_col3, #T_1c6ab_row3_col2 {\n",
       "  background-color: #efe4ef;\n",
       "  color: #000000;\n",
       "}\n",
       "</style>\n",
       "<table id=\"T_1c6ab\">\n",
       "  <thead>\n",
       "    <tr>\n",
       "      <th class=\"blank level0\" >&nbsp;</th>\n",
       "      <th id=\"T_1c6ab_level0_col0\" class=\"col_heading level0 col0\" >f0</th>\n",
       "      <th id=\"T_1c6ab_level0_col1\" class=\"col_heading level0 col1\" >f1</th>\n",
       "      <th id=\"T_1c6ab_level0_col2\" class=\"col_heading level0 col2\" >f2</th>\n",
       "      <th id=\"T_1c6ab_level0_col3\" class=\"col_heading level0 col3\" >product</th>\n",
       "    </tr>\n",
       "  </thead>\n",
       "  <tbody>\n",
       "    <tr>\n",
       "      <th id=\"T_1c6ab_level0_row0\" class=\"row_heading level0 row0\" >f0</th>\n",
       "      <td id=\"T_1c6ab_row0_col0\" class=\"data row0 col0\" >1.000000</td>\n",
       "      <td id=\"T_1c6ab_row0_col1\" class=\"data row0 col1\" >0.000528</td>\n",
       "      <td id=\"T_1c6ab_row0_col2\" class=\"data row0 col2\" >-0.000448</td>\n",
       "      <td id=\"T_1c6ab_row0_col3\" class=\"data row0 col3\" >-0.001987</td>\n",
       "    </tr>\n",
       "    <tr>\n",
       "      <th id=\"T_1c6ab_level0_row1\" class=\"row_heading level0 row1\" >f1</th>\n",
       "      <td id=\"T_1c6ab_row1_col0\" class=\"data row1 col0\" >0.000528</td>\n",
       "      <td id=\"T_1c6ab_row1_col1\" class=\"data row1 col1\" >1.000000</td>\n",
       "      <td id=\"T_1c6ab_row1_col2\" class=\"data row1 col2\" >0.000779</td>\n",
       "      <td id=\"T_1c6ab_row1_col3\" class=\"data row1 col3\" >-0.001012</td>\n",
       "    </tr>\n",
       "    <tr>\n",
       "      <th id=\"T_1c6ab_level0_row2\" class=\"row_heading level0 row2\" >f2</th>\n",
       "      <td id=\"T_1c6ab_row2_col0\" class=\"data row2 col0\" >-0.000448</td>\n",
       "      <td id=\"T_1c6ab_row2_col1\" class=\"data row2 col1\" >0.000779</td>\n",
       "      <td id=\"T_1c6ab_row2_col2\" class=\"data row2 col2\" >1.000000</td>\n",
       "      <td id=\"T_1c6ab_row2_col3\" class=\"data row2 col3\" >0.445871</td>\n",
       "    </tr>\n",
       "    <tr>\n",
       "      <th id=\"T_1c6ab_level0_row3\" class=\"row_heading level0 row3\" >product</th>\n",
       "      <td id=\"T_1c6ab_row3_col0\" class=\"data row3 col0\" >-0.001987</td>\n",
       "      <td id=\"T_1c6ab_row3_col1\" class=\"data row3 col1\" >-0.001012</td>\n",
       "      <td id=\"T_1c6ab_row3_col2\" class=\"data row3 col2\" >0.445871</td>\n",
       "      <td id=\"T_1c6ab_row3_col3\" class=\"data row3 col3\" >1.000000</td>\n",
       "    </tr>\n",
       "  </tbody>\n",
       "</table>\n"
      ],
      "text/plain": [
       "<pandas.io.formats.style.Styler at 0x130e8782770>"
      ]
     },
     "metadata": {},
     "output_type": "display_data"
    },
    {
     "name": "stdout",
     "output_type": "stream",
     "text": [
      "Количество дупликатов: 0\n"
     ]
    }
   ],
   "source": [
    "# Изучим данные 3 региона\n",
    "review(data_2)"
   ]
  },
  {
   "cell_type": "markdown",
   "metadata": {},
   "source": [
    "Признаки 'id' в каждой таблице - идентификаторы скважины - не несут ценности для обучения будущей модели, поэтому их можно удалить. "
   ]
  },
  {
   "cell_type": "code",
   "execution_count": 30,
   "metadata": {},
   "outputs": [],
   "source": [
    "data_0.drop(columns='id', inplace=True)\n",
    "data_1.drop(columns='id', inplace=True)\n",
    "data_2.drop(columns='id', inplace=True)"
   ]
  },
  {
   "cell_type": "markdown",
   "metadata": {},
   "source": [
    "В каждой таблице по 5 столбцов и 100000 строк. Пропусков и явных дупликатов нет. Все данные выглядят корректно. Нет явно выбивающихся значений. Признаки 'id' - идентификаторы скважины - не несут ценности для обучения будущей модели, поэтому мы их удалили. Имеется высокая зависимость показателя объёма запасов нефти от признака f2 для 1 и 3 региона. В регионе 2 мы видим прямую и линейную зависимость целевого показателя 'product' от f2, такая зависмость можеть дать нам высокие оценки предсказаний для нашей модели. "
   ]
  },
  {
   "cell_type": "markdown",
   "metadata": {},
   "source": [
    "## Обучение и проверка модели"
   ]
  },
  {
   "cell_type": "markdown",
   "metadata": {},
   "source": [
    "### Разобьем данные на обучающую и валидационную выборки в соотношении 75:25."
   ]
  },
  {
   "cell_type": "markdown",
   "metadata": {},
   "source": [
    "Подготовим данные для 1 региона"
   ]
  },
  {
   "cell_type": "code",
   "execution_count": 31,
   "metadata": {},
   "outputs": [
    {
     "name": "stdout",
     "output_type": "stream",
     "text": [
      "Размер валидационной выборки: 25%\n",
      "Размер тренировочной выборки: 75%\n"
     ]
    }
   ],
   "source": [
    "# Запишем признаки в переменные\n",
    "target_0=data_0['product']\n",
    "features_0=data_0.drop(['product'], axis=1)\n",
    "\n",
    "# Разобьём данные на обучающую и валидационную выборки\n",
    "features_train_0, features_valid_0, target_train_0, target_valid_0 = train_test_split(features_0, target_0, \n",
    "                                                                                      test_size=0.25, random_state=42)\n",
    "\n",
    "# Выведем на экран размеры этих выборок\n",
    "print('Размер валидационной выборки: {:.0%}'.format(target_valid_0.shape[0]/target_0.shape[0]))\n",
    "print('Размер тренировочной выборки: {:.0%}'.format(target_train_0.shape[0]/target_0.shape[0]))"
   ]
  },
  {
   "cell_type": "markdown",
   "metadata": {},
   "source": [
    "Подготовим данные для 2 региона"
   ]
  },
  {
   "cell_type": "code",
   "execution_count": 32,
   "metadata": {},
   "outputs": [
    {
     "name": "stdout",
     "output_type": "stream",
     "text": [
      "Размер валидационной выборки: 25%\n",
      "Размер тренировочной выборки: 75%\n"
     ]
    }
   ],
   "source": [
    "# Запишем признаки в переменные\n",
    "target_1=data_1['product']\n",
    "features_1=data_1.drop(['product'], axis=1)\n",
    "\n",
    "# Разобьём данные на обучающую и валидационную выборки\n",
    "features_train_1, features_valid_1, target_train_1, target_valid_1 = train_test_split(features_1, target_1,\n",
    "                                                                                      test_size=0.25, random_state=42)\n",
    "\n",
    "# Выведем на экран размеры этих выборок\n",
    "print('Размер валидационной выборки: {:.0%}'.format(target_valid_1.shape[0]/target_1.shape[0]))\n",
    "print('Размер тренировочной выборки: {:.0%}'.format(target_train_1.shape[0]/target_1.shape[0]))"
   ]
  },
  {
   "cell_type": "markdown",
   "metadata": {},
   "source": [
    "Подготовим данные для 3 региона"
   ]
  },
  {
   "cell_type": "code",
   "execution_count": 33,
   "metadata": {},
   "outputs": [
    {
     "name": "stdout",
     "output_type": "stream",
     "text": [
      "Размер валидационной выборки: 25%\n",
      "Размер тренировочной выборки: 75%\n"
     ]
    }
   ],
   "source": [
    "# Запишем признаки в переменные\n",
    "target_2=data_2['product']\n",
    "features_2=data_2.drop(['product'], axis=1)\n",
    "\n",
    "# Разобьём данные на обучающую и валидационную выборки\n",
    "features_train_2, features_valid_2, target_train_2, target_valid_2 = train_test_split(features_2, target_2,\n",
    "                                                                                      test_size=0.25, random_state=42)\n",
    "\n",
    "# Выведем на экран размеры этих выборок\n",
    "print('Размер валидационной выборки: {:.0%}'.format(target_valid_2.shape[0]/target_2.shape[0]))\n",
    "print('Размер тренировочной выборки: {:.0%}'.format(target_train_2.shape[0]/target_2.shape[0]))"
   ]
  },
  {
   "cell_type": "markdown",
   "metadata": {},
   "source": [
    "### Обучим модель и сделаем предсказания на валидационной выборке."
   ]
  },
  {
   "cell_type": "code",
   "execution_count": 34,
   "metadata": {},
   "outputs": [],
   "source": [
    "# Обучим модель для 1 региона\n",
    "model_0=LinearRegression()\n",
    "model_0.fit(features_train_0,target_train_0)\n",
    "predictions_0=model_0.predict(features_valid_0)"
   ]
  },
  {
   "cell_type": "code",
   "execution_count": 35,
   "metadata": {},
   "outputs": [],
   "source": [
    "# Обучим модель для 2 региона\n",
    "model_1=LinearRegression()\n",
    "model_1.fit(features_train_1,target_train_1)\n",
    "predictions_1=model_1.predict(features_valid_1)"
   ]
  },
  {
   "cell_type": "code",
   "execution_count": 36,
   "metadata": {},
   "outputs": [],
   "source": [
    "# Обучим модель для 3 региона\n",
    "model_2=LinearRegression()\n",
    "model_2.fit(features_train_2,target_train_2)\n",
    "predictions_2=model_2.predict(features_valid_2)"
   ]
  },
  {
   "cell_type": "markdown",
   "metadata": {},
   "source": [
    "### Сохраним предсказания и правильные ответы на валидационной выборке"
   ]
  },
  {
   "cell_type": "code",
   "execution_count": 37,
   "metadata": {},
   "outputs": [
    {
     "name": "stdout",
     "output_type": "stream",
     "text": [
      "1 регион:\n",
      "- предсказания модели: predict_0\n",
      "- правильные ответы: target_valid_0\n",
      "\n",
      "2 регион:\n",
      "- предсказания модели: predict_1\n",
      "- правильные ответы: target_valid_1\n",
      "\n",
      "3 регион:\n",
      "- предсказания модели: predict_2\n",
      "- правильные ответы: target_valid_2\n"
     ]
    }
   ],
   "source": [
    "print('1 регион:\\n- предсказания модели: predict_0\\n- правильные ответы: target_valid_0\\n')\n",
    "\n",
    "print('2 регион:\\n- предсказания модели: predict_1\\n- правильные ответы: target_valid_1\\n')\n",
    "\n",
    "print('3 регион:\\n- предсказания модели: predict_2\\n- правильные ответы: target_valid_2')"
   ]
  },
  {
   "cell_type": "markdown",
   "metadata": {},
   "source": [
    "### Напечатаем на экране средний запас предсказанного сырья и RMSE модели."
   ]
  },
  {
   "cell_type": "code",
   "execution_count": 38,
   "metadata": {},
   "outputs": [
    {
     "data": {
      "text/html": [
       "<div>\n",
       "<style scoped>\n",
       "    .dataframe tbody tr th:only-of-type {\n",
       "        vertical-align: middle;\n",
       "    }\n",
       "\n",
       "    .dataframe tbody tr th {\n",
       "        vertical-align: top;\n",
       "    }\n",
       "\n",
       "    .dataframe thead th {\n",
       "        text-align: right;\n",
       "    }\n",
       "</style>\n",
       "<table border=\"1\" class=\"dataframe\">\n",
       "  <thead>\n",
       "    <tr style=\"text-align: right;\">\n",
       "      <th></th>\n",
       "      <th>1 регион</th>\n",
       "      <th>2 регион</th>\n",
       "      <th>3 регион</th>\n",
       "    </tr>\n",
       "  </thead>\n",
       "  <tbody>\n",
       "    <tr>\n",
       "      <th>средний запас предсказанного сырья</th>\n",
       "      <td>92.3988</td>\n",
       "      <td>68.712878</td>\n",
       "      <td>94.771024</td>\n",
       "    </tr>\n",
       "    <tr>\n",
       "      <th>RMSE модели</th>\n",
       "      <td>37.7566</td>\n",
       "      <td>0.890280</td>\n",
       "      <td>40.145872</td>\n",
       "    </tr>\n",
       "  </tbody>\n",
       "</table>\n",
       "</div>"
      ],
      "text/plain": [
       "                                    1 регион   2 регион   3 регион\n",
       "средний запас предсказанного сырья   92.3988  68.712878  94.771024\n",
       "RMSE модели                          37.7566   0.890280  40.145872"
      ]
     },
     "execution_count": 38,
     "metadata": {},
     "output_type": "execute_result"
    }
   ],
   "source": [
    "av_table = pd.DataFrame(index=['средний запас предсказанного сырья','RMSE модели'], columns=['1 регион','2 регион','3 регион'])\n",
    "av_table['1 регион'] = predictions_0.mean(), mean_squared_error(target_valid_0, predictions_0)**0.5\n",
    "av_table['2 регион'] = predictions_1.mean(), mean_squared_error(target_valid_1, predictions_1)**0.5\n",
    "av_table['3 регион'] = predictions_2.mean(), mean_squared_error(target_valid_2, predictions_2)**0.5\n",
    "av_table"
   ]
  },
  {
   "cell_type": "markdown",
   "metadata": {},
   "source": [
    "В 1 и 3 регионе средние значение объема в месторождении примерно одинаковые, при этом модели имеют большую погрешность.\n",
    "В 2 регионе средние запасы нефти в месторождениях ниже больше чем в 2 раза, но и погрешность модели значительно ниже. "
   ]
  },
  {
   "cell_type": "markdown",
   "metadata": {},
   "source": [
    "## Подготовка к расчёту прибыли"
   ]
  },
  {
   "cell_type": "markdown",
   "metadata": {},
   "source": [
    "### Рассчитаем достаточный объём сырья для безубыточной разработки новой скважины."
   ]
  },
  {
   "cell_type": "code",
   "execution_count": 39,
   "metadata": {},
   "outputs": [
    {
     "name": "stdout",
     "output_type": "stream",
     "text": [
      "Бюджет на разработку одной скважины: 50.0 млн.руб\n"
     ]
    }
   ],
   "source": [
    "# Посчитаем бюджет на разработку одной скважины\n",
    "budget_for_well=(BUDGET/BEST_WELL/1000)\n",
    "print('Бюджет на разработку одной скважины:', budget_for_well,'млн.руб')"
   ]
  },
  {
   "cell_type": "code",
   "execution_count": 40,
   "metadata": {},
   "outputs": [
    {
     "name": "stdout",
     "output_type": "stream",
     "text": [
      "Достаточный объём сырья для безубыточной разработки новой скважины не менее: 111.11 тыс.баррелей\n"
     ]
    }
   ],
   "source": [
    "vol_barrel = budget_for_well / INCOME_ONE_BARREL * 1000\n",
    "print('Достаточный объём сырья для безубыточной разработки новой скважины не менее: %.2f'%vol_barrel,'тыс.баррелей')"
   ]
  },
  {
   "cell_type": "code",
   "execution_count": 41,
   "metadata": {},
   "outputs": [
    {
     "name": "stdout",
     "output_type": "stream",
     "text": [
      "Cредний запас сырья в 1 регионе: 92.50 тыс.баррелей\n",
      "Cредний запас сырья в 2 регионе: 68.83 тыс.баррелей\n",
      "Cредний запас сырья в 3 регионе: 95.00 тыс.баррелей\n"
     ]
    }
   ],
   "source": [
    "# Посчитаем средний запас сырья для каждого региона\n",
    "print('Cредний запас сырья в 1 регионе: %.2f тыс.баррелей'%data_0['product'].mean())\n",
    "print('Cредний запас сырья в 2 регионе: %.2f тыс.баррелей'%data_1['product'].mean())\n",
    "print('Cредний запас сырья в 3 регионе: %.2f тыс.баррелей'%data_2['product'].mean())"
   ]
  },
  {
   "cell_type": "markdown",
   "metadata": {},
   "source": [
    "Среднее количество запасов сырья по всем трём регионам недостаточное для безубыточной разработки новой скважины."
   ]
  },
  {
   "cell_type": "markdown",
   "metadata": {},
   "source": [
    "## Напишем функцию для расчёта прибыли по лучшим скважинам и предсказаниям модели"
   ]
  },
  {
   "cell_type": "code",
   "execution_count": 42,
   "metadata": {},
   "outputs": [],
   "source": [
    "def total_profit_one(predictions, target, count):\n",
    "    # Отсортируем предсказания модели для скважин по убыванию \n",
    "    well_sorted = pd.Series(predictions, index=target.index).sort_values(ascending=False)\n",
    "    # Просуммируем показатели самых прибыльных скважин\n",
    "    max_sorted = target[well_sorted.index][:count].sum()\n",
    "    # Рассчитаем прибыль для полученного объёма сырья\n",
    "    revenue = (max_sorted * INCOME_ONE_BARREL) - BUDGET\n",
    "    print('Суммарный запас сырья в 200 лучших скважинах составит: %.2f тыс.баррелей'%max_sorted)\n",
    "    print('Прибыль для полученного объёма сырья составит %.2f млн.рублей'%(revenue/1000))"
   ]
  },
  {
   "cell_type": "code",
   "execution_count": 43,
   "metadata": {},
   "outputs": [
    {
     "name": "stdout",
     "output_type": "stream",
     "text": [
      "Суммарный запас сырья в 200 лучших скважинах составит: 29686.98 тыс.баррелей\n",
      "Прибыль для полученного объёма сырья составит 3359.14 млн.рублей\n"
     ]
    }
   ],
   "source": [
    "# Рассчет для 1 региона\n",
    "total_profit_one(predictions_0, target_valid_0, BEST_WELL)"
   ]
  },
  {
   "cell_type": "code",
   "execution_count": 44,
   "metadata": {},
   "outputs": [
    {
     "name": "stdout",
     "output_type": "stream",
     "text": [
      "Суммарный запас сырья в 200 лучших скважинах составит: 27589.08 тыс.баррелей\n",
      "Прибыль для полученного объёма сырья составит 2415.09 млн.рублей\n"
     ]
    }
   ],
   "source": [
    "# Рассчет для 2 региона\n",
    "total_profit_one(predictions_1, target_valid_1, BEST_WELL)"
   ]
  },
  {
   "cell_type": "code",
   "execution_count": 45,
   "metadata": {},
   "outputs": [
    {
     "name": "stdout",
     "output_type": "stream",
     "text": [
      "Суммарный запас сырья в 200 лучших скважинах составит: 27996.83 тыс.баррелей\n",
      "Прибыль для полученного объёма сырья составит 2598.57 млн.рублей\n"
     ]
    }
   ],
   "source": [
    "# Рассчет для 3 региона\n",
    "total_profit_one(predictions_2, target_valid_2, BEST_WELL)"
   ]
  },
  {
   "cell_type": "markdown",
   "metadata": {},
   "source": [
    "## Расчёт прибыли и рисков "
   ]
  },
  {
   "cell_type": "markdown",
   "metadata": {},
   "source": [
    "### Сделаем бутстреп для каждого региона, посмотрим на прибыль и 95% доверительный интервал."
   ]
  },
  {
   "cell_type": "code",
   "execution_count": 46,
   "metadata": {},
   "outputs": [],
   "source": [
    "def total_profit_two(predictions, target, count):\n",
    "    well_sorted = pd.Series(predictions).sort_values(ascending=False)\n",
    "    max_well = target[well_sorted.index][:count].sum()   \n",
    "    revenue = (max_well * INCOME_ONE_BARREL) - BUDGET\n",
    "    return revenue \n",
    "\n",
    "def bootstap_1000(target,predictions):\n",
    "    values = []\n",
    "    count=0\n",
    "    state = np.random.RandomState(42)\n",
    "    predictions = pd.Series(predictions, index=target.index)\n",
    "    \n",
    "    for i in range(1000):\n",
    "        target_subsample = target.sample(n=TOTAL_WELL,replace=True, random_state=state)\n",
    "  \n",
    "        probs_subsample = predictions[target_subsample.index]\n",
    "        values.append(total_profit_two(probs_subsample,target_subsample, BEST_WELL))  \n",
    "    for i in values:\n",
    "        if i < 0:\n",
    "            count +=1\n",
    "            \n",
    "    values = pd.Series(values)\n",
    "    mean = values.mean()\n",
    "    confidence_interval = st.norm.interval(0.95, len(values)-1, values.mean())    \n",
    "    \n",
    "    lower = values.quantile(0.025)\n",
    "    higher = values.quantile(0.975)\n",
    "    \n",
    "    print(\"Средняя прибыль в регионе составит {:.2f} млн.руб\".format(mean/1000))\n",
    "    print('С вероятностью 95% прибыль в данном регионе будет составлять: от {:.2f} млн.руб до {:.2f} млн.руб'.format((lower/1000),(higher/1000)))\n",
    "    print(\"95%-ый доверительный интервал: от {:.2f} млн.руб до {:.2f} млн.руб\". format((confidence_interval[0]/1000),(confidence_interval[1]/1000)))\n",
    "    print ('Процент вероятности убытка в данном регионе составит - {:.1%}'.format(count/1000))\n"
   ]
  },
  {
   "cell_type": "code",
   "execution_count": 47,
   "metadata": {},
   "outputs": [
    {
     "name": "stdout",
     "output_type": "stream",
     "text": [
      "Средняя прибыль в регионе составит 427.85 млн.руб\n",
      "С вероятностью 95% прибыль в данном регионе будет составлять: от -97.25 млн.руб до 954.22 млн.руб\n",
      "95%-ый доверительный интервал: от -837.57 млн.руб до 839.56 млн.руб\n",
      "Процент вероятности убытка в данном регионе составит - 5.5%\n"
     ]
    }
   ],
   "source": [
    "# Проведем расчеты для 1 региона\n",
    "bootstap_1000(target_valid_0, predictions_0)"
   ]
  },
  {
   "cell_type": "code",
   "execution_count": 48,
   "metadata": {},
   "outputs": [
    {
     "name": "stdout",
     "output_type": "stream",
     "text": [
      "Средняя прибыль в регионе составит 511.36 млн.руб\n",
      "С вероятностью 95% прибыль в данном регионе будет составлять: от 98.87 млн.руб до 940.72 млн.руб\n",
      "95%-ый доверительный интервал: от -1001.25 млн.руб до 1003.25 млн.руб\n",
      "Процент вероятности убытка в данном регионе составит - 0.9%\n"
     ]
    }
   ],
   "source": [
    "# Проведем расчеты для 2 региона\n",
    "bootstap_1000(target_valid_1, predictions_1)"
   ]
  },
  {
   "cell_type": "code",
   "execution_count": 49,
   "metadata": {},
   "outputs": [
    {
     "name": "stdout",
     "output_type": "stream",
     "text": [
      "Средняя прибыль в регионе составит 402.58 млн.руб\n",
      "С вероятностью 95% прибыль в данном регионе будет составлять: от -137.16 млн.руб до 929.89 млн.руб\n",
      "95%-ый доверительный интервал: от -788.03 млн.руб до 790.03 млн.руб\n",
      "Процент вероятности убытка в данном регионе составит - 7.4%\n"
     ]
    }
   ],
   "source": [
    "# Проведем расчеты для 3 региона\n",
    "bootstap_1000(target_valid_2, predictions_2)"
   ]
  },
  {
   "cell_type": "markdown",
   "metadata": {},
   "source": [
    "По условиям задачи нам надо оставить регионы с вероятность убытков меньше 2.5% и выбрать среди них самы прибыльный. Для заданных условий подходит только один регион - регион 2: процент вероятности убытка в данном регионе составит - 0.9% и средняя прибыль в регионе составит 511.36 млн.руб. "
   ]
  },
  {
   "cell_type": "markdown",
   "metadata": {},
   "source": [
    "## Общий вывод"
   ]
  },
  {
   "cell_type": "markdown",
   "metadata": {},
   "source": [
    "Было проведено исследование, чтобы спрогнозировать регион, где добыча нефти принесёт наибольшую прибыль. Надо было проанализировать возможную прибыль и риски техникой Bootstrap с разделением каждого предсказанного значения прибыли по регионам на 1000 выборок. Далее оставить лишь те регионы, в которых вероятность убытков меньше 2.5%. Среди них выбирать регион с наибольшей средней прибылью.  \n",
    "В ходе работы была выполнена предобработка данных.  \n",
    "Признаки 'id' удалили, это идентификаторы скважины - не несут ценности для обучения будущей модели.\n",
    "Пропусков и явных дупликатов не нашлось. Все данные выглядят корректно. Нет явно выбивающихся значений. Выявили высокую зависимость показателей объёма запасов нефти от признака f2 для 1 и 3 региона. В регионе 2 мы видим прямую и линейную зависимость целевого показателя 'product' от f2.  \n",
    "Разобили данные на обучающую и валидационную выборки в соотношении 75:25. Обучили модель и выполнили предсказания на валидационной выборке при помощи линейной регрессии.    \n",
    "В 1 и 3 регионе средние значение объема в месторождении примерно одинаковые, при этом модели имеют большую погрешность. В 2 регионе средние запасы нефти в месторождениях ниже больше чем в 2 раза, но и погрешность модели значительно ниже.  \n",
    "Определили, что среднее количество запасов сырья по всем трём регионам недостаточное даже для безубыточной разработки новой скважины.  \n",
    "Применили технологию bootstrap. По результатам полученных данных мы определили доверительный интревал получения прибыли в 95%, ограничив вероятность убытка величиной менее 2,5%. И на основе этих данных смогли выбрать более перспективный регион для разработки 200 скважин.  \n",
    "Т.о., мы можем порекоммендовать для дальнейшей разработки регион 2: процент вероятности убытка в данном регионе составит - 0.9% и средняя прибыль выше чем в остальных регионах - 511.36 млн.руб.  \n"
   ]
  }
 ],
 "metadata": {
  "ExecuteTimeLog": [
   {
    "duration": 1523,
    "start_time": "2023-04-15T05:06:10.979Z"
   },
   {
    "duration": 1420,
    "start_time": "2023-04-15T05:06:12.504Z"
   },
   {
    "duration": 57,
    "start_time": "2023-04-15T05:06:13.926Z"
   },
   {
    "duration": 50,
    "start_time": "2023-04-15T05:06:43.747Z"
   },
   {
    "duration": 48,
    "start_time": "2023-04-15T05:06:58.009Z"
   },
   {
    "duration": 46,
    "start_time": "2023-04-15T05:07:07.850Z"
   },
   {
    "duration": 48,
    "start_time": "2023-04-15T05:07:23.536Z"
   },
   {
    "duration": 50,
    "start_time": "2023-04-15T05:07:59.457Z"
   },
   {
    "duration": 48,
    "start_time": "2023-04-15T05:08:02.566Z"
   },
   {
    "duration": 49,
    "start_time": "2023-04-15T05:08:03.492Z"
   },
   {
    "duration": 62,
    "start_time": "2023-04-15T05:12:35.290Z"
   },
   {
    "duration": 67,
    "start_time": "2023-04-15T05:12:41.427Z"
   },
   {
    "duration": 55,
    "start_time": "2023-04-15T05:12:42.343Z"
   },
   {
    "duration": 355,
    "start_time": "2023-04-15T05:13:38.464Z"
   },
   {
    "duration": 118,
    "start_time": "2023-04-15T05:13:39.221Z"
   },
   {
    "duration": 54,
    "start_time": "2023-04-15T05:13:49.115Z"
   },
   {
    "duration": 109,
    "start_time": "2023-04-15T05:30:18.511Z"
   },
   {
    "duration": 100,
    "start_time": "2023-04-15T05:30:26.931Z"
   },
   {
    "duration": 101,
    "start_time": "2023-04-15T05:30:30.908Z"
   },
   {
    "duration": 66,
    "start_time": "2023-04-15T05:43:01.895Z"
   },
   {
    "duration": 54,
    "start_time": "2023-04-15T05:43:11.628Z"
   },
   {
    "duration": 90,
    "start_time": "2023-04-15T05:43:12.712Z"
   },
   {
    "duration": 91,
    "start_time": "2023-04-15T05:43:13.857Z"
   },
   {
    "duration": 4,
    "start_time": "2023-04-15T05:43:24.504Z"
   },
   {
    "duration": 365,
    "start_time": "2023-04-15T05:43:24.947Z"
   },
   {
    "duration": 52,
    "start_time": "2023-04-15T05:43:25.364Z"
   },
   {
    "duration": 95,
    "start_time": "2023-04-15T05:44:25.262Z"
   },
   {
    "duration": 98,
    "start_time": "2023-04-15T05:44:30.747Z"
   },
   {
    "duration": 104,
    "start_time": "2023-04-15T05:44:35.033Z"
   },
   {
    "duration": 12,
    "start_time": "2023-04-15T06:18:36.149Z"
   },
   {
    "duration": 3,
    "start_time": "2023-04-15T06:22:54.710Z"
   },
   {
    "duration": 333,
    "start_time": "2023-04-15T06:22:55.053Z"
   },
   {
    "duration": 101,
    "start_time": "2023-04-15T06:22:55.388Z"
   },
   {
    "duration": 107,
    "start_time": "2023-04-15T06:22:55.491Z"
   },
   {
    "duration": 111,
    "start_time": "2023-04-15T06:22:55.599Z"
   },
   {
    "duration": 14,
    "start_time": "2023-04-15T06:22:56.009Z"
   },
   {
    "duration": 1670,
    "start_time": "2023-04-18T08:13:47.168Z"
   },
   {
    "duration": 2099,
    "start_time": "2023-04-18T08:13:48.841Z"
   },
   {
    "duration": 130,
    "start_time": "2023-04-18T08:13:50.941Z"
   },
   {
    "duration": 140,
    "start_time": "2023-04-18T08:13:51.073Z"
   },
   {
    "duration": 126,
    "start_time": "2023-04-18T08:13:51.215Z"
   },
   {
    "duration": 15,
    "start_time": "2023-04-18T08:13:51.343Z"
   },
   {
    "duration": 117,
    "start_time": "2023-04-18T08:23:08.113Z"
   },
   {
    "duration": 16,
    "start_time": "2023-04-18T08:23:35.222Z"
   },
   {
    "duration": 16,
    "start_time": "2023-04-18T08:23:37.619Z"
   },
   {
    "duration": 13,
    "start_time": "2023-04-18T08:23:44.245Z"
   },
   {
    "duration": 23,
    "start_time": "2023-04-18T08:24:58.443Z"
   },
   {
    "duration": 13,
    "start_time": "2023-04-18T08:25:25.235Z"
   },
   {
    "duration": 14,
    "start_time": "2023-04-18T08:25:27.339Z"
   },
   {
    "duration": 5,
    "start_time": "2023-04-18T08:25:55.907Z"
   },
   {
    "duration": 369,
    "start_time": "2023-04-18T08:25:55.915Z"
   },
   {
    "duration": 120,
    "start_time": "2023-04-18T08:25:56.286Z"
   },
   {
    "duration": 135,
    "start_time": "2023-04-18T08:25:56.407Z"
   },
   {
    "duration": 125,
    "start_time": "2023-04-18T08:25:56.545Z"
   },
   {
    "duration": 25,
    "start_time": "2023-04-18T08:25:56.672Z"
   },
   {
    "duration": 23,
    "start_time": "2023-04-18T08:25:56.699Z"
   },
   {
    "duration": 12,
    "start_time": "2023-04-18T08:27:10.721Z"
   },
   {
    "duration": 33,
    "start_time": "2023-04-18T08:27:19.712Z"
   },
   {
    "duration": 15,
    "start_time": "2023-04-18T08:27:50.237Z"
   },
   {
    "duration": 104,
    "start_time": "2023-04-18T08:39:30.938Z"
   },
   {
    "duration": 6,
    "start_time": "2023-04-18T08:39:36.564Z"
   },
   {
    "duration": 23,
    "start_time": "2023-04-18T08:43:01.622Z"
   },
   {
    "duration": 6,
    "start_time": "2023-04-18T08:43:33.006Z"
   },
   {
    "duration": 434,
    "start_time": "2023-04-18T08:43:33.756Z"
   },
   {
    "duration": 351,
    "start_time": "2023-04-18T08:44:02.840Z"
   },
   {
    "duration": 7,
    "start_time": "2023-04-18T08:46:11.566Z"
   },
   {
    "duration": 387,
    "start_time": "2023-04-18T08:46:13.017Z"
   },
   {
    "duration": 5,
    "start_time": "2023-04-18T08:46:49.497Z"
   },
   {
    "duration": 396,
    "start_time": "2023-04-18T08:46:51.415Z"
   },
   {
    "duration": 10,
    "start_time": "2023-04-18T08:48:01.319Z"
   },
   {
    "duration": 125,
    "start_time": "2023-04-18T08:48:02.978Z"
   },
   {
    "duration": 9,
    "start_time": "2023-04-18T08:49:09.712Z"
   },
   {
    "duration": 578,
    "start_time": "2023-04-18T08:49:11.812Z"
   },
   {
    "duration": 6,
    "start_time": "2023-04-18T08:49:36.445Z"
   },
   {
    "duration": 491,
    "start_time": "2023-04-18T08:49:36.910Z"
   },
   {
    "duration": 8,
    "start_time": "2023-04-18T08:50:16.011Z"
   },
   {
    "duration": 623,
    "start_time": "2023-04-18T08:50:16.571Z"
   },
   {
    "duration": 6,
    "start_time": "2023-04-18T08:51:49.256Z"
   },
   {
    "duration": 608,
    "start_time": "2023-04-18T08:51:50.183Z"
   },
   {
    "duration": 4,
    "start_time": "2023-04-18T08:54:59.620Z"
   },
   {
    "duration": 90,
    "start_time": "2023-04-18T08:55:12.259Z"
   },
   {
    "duration": 6,
    "start_time": "2023-04-18T09:00:50.428Z"
   },
   {
    "duration": 525,
    "start_time": "2023-04-18T09:00:51.080Z"
   },
   {
    "duration": 8,
    "start_time": "2023-04-18T09:01:30.852Z"
   },
   {
    "duration": 477,
    "start_time": "2023-04-18T09:01:31.423Z"
   },
   {
    "duration": 5,
    "start_time": "2023-04-18T09:08:01.112Z"
   },
   {
    "duration": 178,
    "start_time": "2023-04-18T09:08:01.635Z"
   },
   {
    "duration": 6,
    "start_time": "2023-04-18T09:08:42.764Z"
   },
   {
    "duration": 376,
    "start_time": "2023-04-18T09:08:43.022Z"
   },
   {
    "duration": 85,
    "start_time": "2023-04-18T09:11:43.023Z"
   },
   {
    "duration": 349,
    "start_time": "2023-04-18T09:11:43.454Z"
   },
   {
    "duration": 6,
    "start_time": "2023-04-18T09:13:15.818Z"
   },
   {
    "duration": 227,
    "start_time": "2023-04-18T09:13:17.164Z"
   },
   {
    "duration": 5,
    "start_time": "2023-04-18T09:14:38.022Z"
   },
   {
    "duration": 571,
    "start_time": "2023-04-18T09:14:38.220Z"
   },
   {
    "duration": 187,
    "start_time": "2023-04-18T09:22:48.607Z"
   },
   {
    "duration": 6,
    "start_time": "2023-04-18T09:25:48.022Z"
   },
   {
    "duration": 219,
    "start_time": "2023-04-18T09:25:48.571Z"
   },
   {
    "duration": 19,
    "start_time": "2023-04-18T09:32:44.829Z"
   },
   {
    "duration": 21,
    "start_time": "2023-04-18T09:33:42.919Z"
   },
   {
    "duration": 18,
    "start_time": "2023-04-18T09:34:50.532Z"
   },
   {
    "duration": 22,
    "start_time": "2023-04-18T09:35:00.716Z"
   },
   {
    "duration": 15,
    "start_time": "2023-04-18T09:35:18.920Z"
   },
   {
    "duration": 18,
    "start_time": "2023-04-18T09:37:40.016Z"
   },
   {
    "duration": 15,
    "start_time": "2023-04-18T09:37:41.263Z"
   },
   {
    "duration": 16,
    "start_time": "2023-04-18T09:37:45.270Z"
   },
   {
    "duration": 4,
    "start_time": "2023-04-18T09:43:39.827Z"
   },
   {
    "duration": 17,
    "start_time": "2023-04-18T09:43:52.024Z"
   },
   {
    "duration": 14,
    "start_time": "2023-04-18T09:53:09.727Z"
   },
   {
    "duration": 14,
    "start_time": "2023-04-18T09:53:10.123Z"
   },
   {
    "duration": 19,
    "start_time": "2023-04-18T09:53:10.311Z"
   },
   {
    "duration": 6,
    "start_time": "2023-04-18T09:54:31.828Z"
   },
   {
    "duration": 6,
    "start_time": "2023-04-18T09:56:01.360Z"
   },
   {
    "duration": 7,
    "start_time": "2023-04-18T09:56:22.044Z"
   },
   {
    "duration": 7,
    "start_time": "2023-04-18T09:56:44.431Z"
   },
   {
    "duration": 6,
    "start_time": "2023-04-18T09:56:52.942Z"
   },
   {
    "duration": 81,
    "start_time": "2023-04-18T09:57:58.864Z"
   },
   {
    "duration": 4,
    "start_time": "2023-04-18T09:58:10.942Z"
   },
   {
    "duration": 14,
    "start_time": "2023-04-18T10:04:30.027Z"
   },
   {
    "duration": 13,
    "start_time": "2023-04-18T10:04:54.025Z"
   },
   {
    "duration": 13,
    "start_time": "2023-04-18T10:05:27.273Z"
   },
   {
    "duration": 13,
    "start_time": "2023-04-18T10:05:41.878Z"
   },
   {
    "duration": 11,
    "start_time": "2023-04-18T10:05:42.260Z"
   },
   {
    "duration": 11,
    "start_time": "2023-04-18T10:05:42.923Z"
   },
   {
    "duration": 18,
    "start_time": "2023-04-18T10:05:58.047Z"
   },
   {
    "duration": 13,
    "start_time": "2023-04-18T10:06:04.715Z"
   },
   {
    "duration": 13,
    "start_time": "2023-04-18T10:06:12.674Z"
   },
   {
    "duration": 12,
    "start_time": "2023-04-18T10:06:14.723Z"
   },
   {
    "duration": 12,
    "start_time": "2023-04-18T10:06:14.968Z"
   },
   {
    "duration": 4,
    "start_time": "2023-04-18T10:06:15.623Z"
   },
   {
    "duration": 12,
    "start_time": "2023-04-18T10:06:16.965Z"
   },
   {
    "duration": 15,
    "start_time": "2023-04-18T10:07:14.719Z"
   },
   {
    "duration": 14,
    "start_time": "2023-04-18T10:09:04.584Z"
   },
   {
    "duration": 15,
    "start_time": "2023-04-18T10:13:17.727Z"
   },
   {
    "duration": 16,
    "start_time": "2023-04-18T10:13:27.328Z"
   },
   {
    "duration": 14,
    "start_time": "2023-04-18T10:14:19.251Z"
   },
   {
    "duration": 15,
    "start_time": "2023-04-18T10:14:46.827Z"
   },
   {
    "duration": 3,
    "start_time": "2023-04-18T10:22:44.267Z"
   },
   {
    "duration": 13,
    "start_time": "2023-04-18T10:27:02.360Z"
   },
   {
    "duration": 7,
    "start_time": "2023-04-18T10:29:39.227Z"
   },
   {
    "duration": 3,
    "start_time": "2023-04-18T10:34:51.819Z"
   },
   {
    "duration": 7,
    "start_time": "2023-04-18T10:34:52.564Z"
   },
   {
    "duration": 15,
    "start_time": "2023-04-18T10:40:59.880Z"
   },
   {
    "duration": 4,
    "start_time": "2023-04-18T10:41:13.349Z"
   },
   {
    "duration": 5,
    "start_time": "2023-04-18T10:45:05.530Z"
   },
   {
    "duration": 10,
    "start_time": "2023-04-18T10:48:34.443Z"
   },
   {
    "duration": 4,
    "start_time": "2023-04-18T10:48:43.019Z"
   },
   {
    "duration": 8,
    "start_time": "2023-04-18T10:48:43.375Z"
   },
   {
    "duration": 4,
    "start_time": "2023-04-18T10:48:43.571Z"
   },
   {
    "duration": 5,
    "start_time": "2023-04-18T10:48:44.424Z"
   },
   {
    "duration": 4,
    "start_time": "2023-04-18T10:48:57.481Z"
   },
   {
    "duration": 4,
    "start_time": "2023-04-18T10:49:11.061Z"
   },
   {
    "duration": 5,
    "start_time": "2023-04-18T10:50:24.872Z"
   },
   {
    "duration": 3,
    "start_time": "2023-04-18T10:50:25.834Z"
   },
   {
    "duration": 74,
    "start_time": "2023-04-18T10:52:05.273Z"
   },
   {
    "duration": 4,
    "start_time": "2023-04-18T10:52:10.120Z"
   },
   {
    "duration": 4,
    "start_time": "2023-04-18T10:52:36.122Z"
   },
   {
    "duration": 4,
    "start_time": "2023-04-18T10:52:39.420Z"
   },
   {
    "duration": 5,
    "start_time": "2023-04-18T10:53:09.637Z"
   },
   {
    "duration": 12,
    "start_time": "2023-04-18T10:56:02.817Z"
   },
   {
    "duration": 3,
    "start_time": "2023-04-18T10:56:05.755Z"
   },
   {
    "duration": 8,
    "start_time": "2023-04-18T10:56:05.946Z"
   },
   {
    "duration": 4,
    "start_time": "2023-04-18T10:56:06.114Z"
   },
   {
    "duration": 5,
    "start_time": "2023-04-18T10:56:06.409Z"
   },
   {
    "duration": 4,
    "start_time": "2023-04-18T10:57:12.111Z"
   },
   {
    "duration": 5,
    "start_time": "2023-04-18T10:57:12.616Z"
   },
   {
    "duration": 4,
    "start_time": "2023-04-18T10:58:09.108Z"
   },
   {
    "duration": 6,
    "start_time": "2023-04-18T11:01:36.177Z"
   },
   {
    "duration": 3,
    "start_time": "2023-04-18T11:05:12.876Z"
   },
   {
    "duration": 4,
    "start_time": "2023-04-18T11:56:19.084Z"
   },
   {
    "duration": 10,
    "start_time": "2023-04-18T11:56:19.315Z"
   },
   {
    "duration": 8,
    "start_time": "2023-04-18T11:56:19.469Z"
   },
   {
    "duration": 3,
    "start_time": "2023-04-18T11:56:22.770Z"
   },
   {
    "duration": 5,
    "start_time": "2023-04-18T11:56:23.122Z"
   },
   {
    "duration": 4,
    "start_time": "2023-04-18T11:56:23.273Z"
   },
   {
    "duration": 7,
    "start_time": "2023-04-18T11:56:23.419Z"
   },
   {
    "duration": 4,
    "start_time": "2023-04-18T11:56:42.634Z"
   },
   {
    "duration": 5,
    "start_time": "2023-04-18T11:56:43.786Z"
   },
   {
    "duration": 7,
    "start_time": "2023-04-18T11:59:33.924Z"
   },
   {
    "duration": 8,
    "start_time": "2023-04-18T11:59:40.686Z"
   },
   {
    "duration": 4,
    "start_time": "2023-04-18T12:06:06.915Z"
   },
   {
    "duration": 4,
    "start_time": "2023-04-18T12:06:08.772Z"
   },
   {
    "duration": 5,
    "start_time": "2023-04-18T12:06:13.753Z"
   },
   {
    "duration": 1063,
    "start_time": "2023-04-18T12:06:13.760Z"
   },
   {
    "duration": 172,
    "start_time": "2023-04-18T12:06:14.826Z"
   },
   {
    "duration": 169,
    "start_time": "2023-04-18T12:06:15.002Z"
   },
   {
    "duration": 170,
    "start_time": "2023-04-18T12:06:15.174Z"
   },
   {
    "duration": 27,
    "start_time": "2023-04-18T12:06:15.346Z"
   },
   {
    "duration": 37,
    "start_time": "2023-04-18T12:06:15.375Z"
   },
   {
    "duration": 28,
    "start_time": "2023-04-18T12:06:15.416Z"
   },
   {
    "duration": 22,
    "start_time": "2023-04-18T12:06:15.447Z"
   },
   {
    "duration": 37,
    "start_time": "2023-04-18T12:06:15.473Z"
   },
   {
    "duration": 90,
    "start_time": "2023-04-18T12:06:15.526Z"
   },
   {
    "duration": 173,
    "start_time": "2023-04-18T12:06:15.623Z"
   },
   {
    "duration": 9,
    "start_time": "2023-04-18T12:06:15.801Z"
   },
   {
    "duration": 110,
    "start_time": "2023-04-18T12:06:15.820Z"
   },
   {
    "duration": 4,
    "start_time": "2023-04-18T12:06:15.933Z"
   },
   {
    "duration": 23,
    "start_time": "2023-04-18T12:06:15.940Z"
   },
   {
    "duration": 17,
    "start_time": "2023-04-18T12:06:15.966Z"
   },
   {
    "duration": 35,
    "start_time": "2023-04-18T12:06:15.986Z"
   },
   {
    "duration": 5,
    "start_time": "2023-04-18T12:06:16.024Z"
   },
   {
    "duration": 5,
    "start_time": "2023-04-18T12:08:41.648Z"
   },
   {
    "duration": 4,
    "start_time": "2023-04-18T12:13:39.158Z"
   },
   {
    "duration": 9,
    "start_time": "2023-04-18T12:17:10.405Z"
   },
   {
    "duration": 16,
    "start_time": "2023-04-18T12:18:09.531Z"
   },
   {
    "duration": 17,
    "start_time": "2023-04-18T12:18:19.849Z"
   },
   {
    "duration": 3,
    "start_time": "2023-04-18T12:18:28.854Z"
   },
   {
    "duration": 7,
    "start_time": "2023-04-18T12:18:29.343Z"
   },
   {
    "duration": 7,
    "start_time": "2023-04-18T12:19:29.224Z"
   },
   {
    "duration": 7,
    "start_time": "2023-04-18T12:19:29.655Z"
   },
   {
    "duration": 7,
    "start_time": "2023-04-18T12:25:20.951Z"
   },
   {
    "duration": 7,
    "start_time": "2023-04-18T12:25:21.121Z"
   },
   {
    "duration": 8,
    "start_time": "2023-04-18T12:25:21.276Z"
   },
   {
    "duration": 4,
    "start_time": "2023-04-18T12:30:57.024Z"
   },
   {
    "duration": 8,
    "start_time": "2023-04-18T12:30:57.352Z"
   },
   {
    "duration": 8,
    "start_time": "2023-04-18T12:30:57.544Z"
   },
   {
    "duration": 9,
    "start_time": "2023-04-18T12:30:57.712Z"
   },
   {
    "duration": 5,
    "start_time": "2023-04-18T12:34:47.854Z"
   },
   {
    "duration": 13,
    "start_time": "2023-04-18T12:34:48.087Z"
   },
   {
    "duration": 8,
    "start_time": "2023-04-18T12:34:48.267Z"
   },
   {
    "duration": 7,
    "start_time": "2023-04-18T12:34:48.431Z"
   },
   {
    "duration": 5,
    "start_time": "2023-04-18T12:40:53.948Z"
   },
   {
    "duration": 25,
    "start_time": "2023-04-18T12:41:42.881Z"
   },
   {
    "duration": 8,
    "start_time": "2023-04-18T12:42:04.784Z"
   },
   {
    "duration": 19,
    "start_time": "2023-04-18T12:42:05.422Z"
   },
   {
    "duration": 7,
    "start_time": "2023-04-18T12:42:56.036Z"
   },
   {
    "duration": 14,
    "start_time": "2023-04-18T12:42:56.453Z"
   },
   {
    "duration": 6,
    "start_time": "2023-04-18T12:45:59.970Z"
   },
   {
    "duration": 28,
    "start_time": "2023-04-18T12:46:02.180Z"
   },
   {
    "duration": 9,
    "start_time": "2023-04-18T12:59:53.172Z"
   },
   {
    "duration": 9,
    "start_time": "2023-04-18T13:02:28.253Z"
   },
   {
    "duration": 10,
    "start_time": "2023-04-18T13:02:38.238Z"
   },
   {
    "duration": 5,
    "start_time": "2023-04-18T13:02:43.517Z"
   },
   {
    "duration": 542,
    "start_time": "2023-04-18T13:02:43.525Z"
   },
   {
    "duration": 146,
    "start_time": "2023-04-18T13:02:44.069Z"
   },
   {
    "duration": 124,
    "start_time": "2023-04-18T13:02:44.222Z"
   },
   {
    "duration": 129,
    "start_time": "2023-04-18T13:02:44.348Z"
   },
   {
    "duration": 38,
    "start_time": "2023-04-18T13:02:44.479Z"
   },
   {
    "duration": 19,
    "start_time": "2023-04-18T13:02:44.519Z"
   },
   {
    "duration": 17,
    "start_time": "2023-04-18T13:02:44.540Z"
   },
   {
    "duration": 29,
    "start_time": "2023-04-18T13:02:44.560Z"
   },
   {
    "duration": 41,
    "start_time": "2023-04-18T13:02:44.593Z"
   },
   {
    "duration": 120,
    "start_time": "2023-04-18T13:02:44.689Z"
   },
   {
    "duration": 163,
    "start_time": "2023-04-18T13:02:44.835Z"
   },
   {
    "duration": 21,
    "start_time": "2023-04-18T13:02:45.009Z"
   },
   {
    "duration": 40,
    "start_time": "2023-04-18T13:02:45.091Z"
   },
   {
    "duration": 6,
    "start_time": "2023-04-18T13:02:45.133Z"
   },
   {
    "duration": 15,
    "start_time": "2023-04-18T13:02:45.141Z"
   },
   {
    "duration": 5,
    "start_time": "2023-04-18T13:02:45.157Z"
   },
   {
    "duration": 10,
    "start_time": "2023-04-18T13:02:45.164Z"
   },
   {
    "duration": 19,
    "start_time": "2023-04-18T13:02:45.176Z"
   },
   {
    "duration": 22,
    "start_time": "2023-04-18T13:02:45.197Z"
   },
   {
    "duration": 9,
    "start_time": "2023-04-18T13:02:45.223Z"
   },
   {
    "duration": 12,
    "start_time": "2023-04-18T13:02:45.233Z"
   },
   {
    "duration": 8,
    "start_time": "2023-04-18T13:02:45.247Z"
   },
   {
    "duration": 18,
    "start_time": "2023-04-18T13:02:45.258Z"
   },
   {
    "duration": 54,
    "start_time": "2023-04-18T13:03:30.221Z"
   },
   {
    "duration": 76,
    "start_time": "2023-04-18T13:03:41.537Z"
   },
   {
    "duration": 13,
    "start_time": "2023-04-18T13:04:27.217Z"
   },
   {
    "duration": 4,
    "start_time": "2023-04-18T13:04:31.329Z"
   },
   {
    "duration": 487,
    "start_time": "2023-04-18T13:04:31.336Z"
   },
   {
    "duration": 169,
    "start_time": "2023-04-18T13:04:31.825Z"
   },
   {
    "duration": 158,
    "start_time": "2023-04-18T13:04:31.996Z"
   },
   {
    "duration": 161,
    "start_time": "2023-04-18T13:04:32.156Z"
   },
   {
    "duration": 14,
    "start_time": "2023-04-18T13:04:32.320Z"
   },
   {
    "duration": 27,
    "start_time": "2023-04-18T13:04:32.336Z"
   },
   {
    "duration": 29,
    "start_time": "2023-04-18T13:04:32.364Z"
   },
   {
    "duration": 18,
    "start_time": "2023-04-18T13:04:32.400Z"
   },
   {
    "duration": 76,
    "start_time": "2023-04-18T13:04:32.421Z"
   },
   {
    "duration": 100,
    "start_time": "2023-04-18T13:04:32.499Z"
   },
   {
    "duration": 92,
    "start_time": "2023-04-18T13:04:32.601Z"
   },
   {
    "duration": 8,
    "start_time": "2023-04-18T13:04:32.695Z"
   },
   {
    "duration": 124,
    "start_time": "2023-04-18T13:04:32.708Z"
   },
   {
    "duration": 3,
    "start_time": "2023-04-18T13:04:32.834Z"
   },
   {
    "duration": 11,
    "start_time": "2023-04-18T13:04:32.839Z"
   },
   {
    "duration": 49,
    "start_time": "2023-04-18T13:04:32.852Z"
   },
   {
    "duration": 8,
    "start_time": "2023-04-18T13:04:32.904Z"
   },
   {
    "duration": 4,
    "start_time": "2023-04-18T13:04:32.914Z"
   },
   {
    "duration": 13,
    "start_time": "2023-04-18T13:04:32.920Z"
   },
   {
    "duration": 7,
    "start_time": "2023-04-18T13:04:32.935Z"
   },
   {
    "duration": 19,
    "start_time": "2023-04-18T13:04:32.945Z"
   },
   {
    "duration": 33,
    "start_time": "2023-04-18T13:04:32.966Z"
   },
   {
    "duration": 64,
    "start_time": "2023-04-18T13:04:33.006Z"
   },
   {
    "duration": 8,
    "start_time": "2023-04-18T13:04:57.919Z"
   },
   {
    "duration": 4,
    "start_time": "2023-04-18T13:05:00.248Z"
   },
   {
    "duration": 514,
    "start_time": "2023-04-18T13:05:00.254Z"
   },
   {
    "duration": 129,
    "start_time": "2023-04-18T13:05:00.771Z"
   },
   {
    "duration": 126,
    "start_time": "2023-04-18T13:05:00.904Z"
   },
   {
    "duration": 136,
    "start_time": "2023-04-18T13:05:01.033Z"
   },
   {
    "duration": 31,
    "start_time": "2023-04-18T13:05:01.171Z"
   },
   {
    "duration": 80,
    "start_time": "2023-04-18T13:05:01.204Z"
   },
   {
    "duration": 58,
    "start_time": "2023-04-18T13:05:01.286Z"
   },
   {
    "duration": 75,
    "start_time": "2023-04-18T13:05:01.346Z"
   },
   {
    "duration": 49,
    "start_time": "2023-04-18T13:05:01.423Z"
   },
   {
    "duration": 125,
    "start_time": "2023-04-18T13:05:01.475Z"
   },
   {
    "duration": 97,
    "start_time": "2023-04-18T13:05:01.605Z"
   },
   {
    "duration": 7,
    "start_time": "2023-04-18T13:05:01.711Z"
   },
   {
    "duration": 184,
    "start_time": "2023-04-18T13:05:01.721Z"
   },
   {
    "duration": 22,
    "start_time": "2023-04-18T13:05:01.907Z"
   },
   {
    "duration": 32,
    "start_time": "2023-04-18T13:05:01.931Z"
   },
   {
    "duration": 47,
    "start_time": "2023-04-18T13:05:01.965Z"
   },
   {
    "duration": 41,
    "start_time": "2023-04-18T13:05:02.014Z"
   },
   {
    "duration": 78,
    "start_time": "2023-04-18T13:05:02.057Z"
   },
   {
    "duration": 38,
    "start_time": "2023-04-18T13:05:02.137Z"
   },
   {
    "duration": 30,
    "start_time": "2023-04-18T13:05:02.176Z"
   },
   {
    "duration": 27,
    "start_time": "2023-04-18T13:05:02.208Z"
   },
   {
    "duration": 23,
    "start_time": "2023-04-18T13:05:02.237Z"
   },
   {
    "duration": 99,
    "start_time": "2023-04-18T13:05:02.262Z"
   },
   {
    "duration": 8,
    "start_time": "2023-04-18T13:05:38.723Z"
   },
   {
    "duration": 1886,
    "start_time": "2023-04-18T13:05:39.663Z"
   },
   {
    "duration": 1840,
    "start_time": "2023-04-18T13:06:25.917Z"
   },
   {
    "duration": 1969,
    "start_time": "2023-04-18T13:06:27.759Z"
   },
   {
    "duration": 14,
    "start_time": "2023-04-18T13:08:24.419Z"
   },
   {
    "duration": 29,
    "start_time": "2023-04-18T13:08:24.576Z"
   },
   {
    "duration": 18,
    "start_time": "2023-04-18T13:08:24.743Z"
   },
   {
    "duration": 17,
    "start_time": "2023-04-18T13:08:24.919Z"
   },
   {
    "duration": 5,
    "start_time": "2023-04-18T13:09:14.749Z"
   },
   {
    "duration": 9,
    "start_time": "2023-04-18T13:09:15.224Z"
   },
   {
    "duration": 13,
    "start_time": "2023-04-18T13:09:15.421Z"
   },
   {
    "duration": 7,
    "start_time": "2023-04-18T13:09:16.446Z"
   },
   {
    "duration": 13,
    "start_time": "2023-04-18T13:09:42.721Z"
   },
   {
    "duration": 1919,
    "start_time": "2023-04-18T13:09:43.446Z"
   },
   {
    "duration": 1938,
    "start_time": "2023-04-18T13:09:45.367Z"
   },
   {
    "duration": 1918,
    "start_time": "2023-04-18T13:09:47.316Z"
   },
   {
    "duration": 9,
    "start_time": "2023-04-18T13:10:17.947Z"
   },
   {
    "duration": 1852,
    "start_time": "2023-04-18T13:10:18.358Z"
   },
   {
    "duration": 1949,
    "start_time": "2023-04-18T13:10:20.213Z"
   },
   {
    "duration": 1766,
    "start_time": "2023-04-18T13:10:22.164Z"
   },
   {
    "duration": 11,
    "start_time": "2023-04-18T13:11:30.011Z"
   },
   {
    "duration": 15,
    "start_time": "2023-04-18T13:11:30.334Z"
   },
   {
    "duration": 24,
    "start_time": "2023-04-18T13:11:30.505Z"
   },
   {
    "duration": 12,
    "start_time": "2023-04-18T13:11:51.545Z"
   },
   {
    "duration": 1753,
    "start_time": "2023-04-18T13:11:51.805Z"
   },
   {
    "duration": 1715,
    "start_time": "2023-04-18T13:11:53.560Z"
   },
   {
    "duration": 1702,
    "start_time": "2023-04-18T13:11:55.277Z"
   },
   {
    "duration": 7,
    "start_time": "2023-04-18T13:12:28.519Z"
   },
   {
    "duration": 2046,
    "start_time": "2023-04-18T13:12:28.913Z"
   },
   {
    "duration": 2062,
    "start_time": "2023-04-18T13:12:30.961Z"
   },
   {
    "duration": 1956,
    "start_time": "2023-04-18T13:12:33.025Z"
   },
   {
    "duration": 9,
    "start_time": "2023-04-18T13:12:57.320Z"
   },
   {
    "duration": 1863,
    "start_time": "2023-04-18T13:12:57.565Z"
   },
   {
    "duration": 2037,
    "start_time": "2023-04-18T13:12:59.430Z"
   },
   {
    "duration": 1881,
    "start_time": "2023-04-18T13:13:01.470Z"
   },
   {
    "duration": 6,
    "start_time": "2023-04-18T13:14:35.252Z"
   },
   {
    "duration": 1685,
    "start_time": "2023-04-18T13:14:35.513Z"
   },
   {
    "duration": 1734,
    "start_time": "2023-04-18T13:14:37.205Z"
   },
   {
    "duration": 12,
    "start_time": "2023-04-18T13:14:55.813Z"
   },
   {
    "duration": 1748,
    "start_time": "2023-04-18T13:14:56.017Z"
   },
   {
    "duration": 1806,
    "start_time": "2023-04-18T13:14:57.767Z"
   },
   {
    "duration": 1800,
    "start_time": "2023-04-18T13:14:59.575Z"
   },
   {
    "duration": 4,
    "start_time": "2023-04-18T13:16:37.149Z"
   },
   {
    "duration": 447,
    "start_time": "2023-04-18T13:16:37.155Z"
   },
   {
    "duration": 132,
    "start_time": "2023-04-18T13:16:37.603Z"
   },
   {
    "duration": 131,
    "start_time": "2023-04-18T13:16:37.737Z"
   },
   {
    "duration": 134,
    "start_time": "2023-04-18T13:16:37.870Z"
   },
   {
    "duration": 24,
    "start_time": "2023-04-18T13:16:38.005Z"
   },
   {
    "duration": 14,
    "start_time": "2023-04-18T13:16:38.031Z"
   },
   {
    "duration": 13,
    "start_time": "2023-04-18T13:16:38.047Z"
   },
   {
    "duration": 43,
    "start_time": "2023-04-18T13:16:38.062Z"
   },
   {
    "duration": 20,
    "start_time": "2023-04-18T13:16:38.109Z"
   },
   {
    "duration": 80,
    "start_time": "2023-04-18T13:16:38.133Z"
   },
   {
    "duration": 95,
    "start_time": "2023-04-18T13:16:38.216Z"
   },
   {
    "duration": 81,
    "start_time": "2023-04-18T13:16:38.314Z"
   },
   {
    "duration": 112,
    "start_time": "2023-04-18T13:16:38.401Z"
   },
   {
    "duration": 4,
    "start_time": "2023-04-18T13:16:38.516Z"
   },
   {
    "duration": 18,
    "start_time": "2023-04-18T13:16:38.521Z"
   },
   {
    "duration": 8,
    "start_time": "2023-04-18T13:16:38.541Z"
   },
   {
    "duration": 7,
    "start_time": "2023-04-18T13:16:38.551Z"
   },
   {
    "duration": 9,
    "start_time": "2023-04-18T13:16:38.560Z"
   },
   {
    "duration": 29,
    "start_time": "2023-04-18T13:16:38.570Z"
   },
   {
    "duration": 23,
    "start_time": "2023-04-18T13:16:38.602Z"
   },
   {
    "duration": 14,
    "start_time": "2023-04-18T13:16:38.627Z"
   },
   {
    "duration": 8,
    "start_time": "2023-04-18T13:16:38.642Z"
   },
   {
    "duration": 1680,
    "start_time": "2023-04-18T13:16:38.652Z"
   },
   {
    "duration": 1715,
    "start_time": "2023-04-18T13:16:40.335Z"
   },
   {
    "duration": 1615,
    "start_time": "2023-04-18T13:16:42.052Z"
   },
   {
    "duration": 8,
    "start_time": "2023-04-18T13:18:19.273Z"
   },
   {
    "duration": 1796,
    "start_time": "2023-04-18T13:18:19.441Z"
   },
   {
    "duration": 1833,
    "start_time": "2023-04-18T13:18:21.240Z"
   },
   {
    "duration": 1696,
    "start_time": "2023-04-18T13:18:23.075Z"
   },
   {
    "duration": 8,
    "start_time": "2023-04-18T13:18:35.639Z"
   },
   {
    "duration": 1671,
    "start_time": "2023-04-18T13:18:36.505Z"
   },
   {
    "duration": 1710,
    "start_time": "2023-04-18T13:18:38.178Z"
   },
   {
    "duration": 1809,
    "start_time": "2023-04-18T13:18:39.893Z"
   },
   {
    "duration": 2,
    "start_time": "2023-04-18T13:21:50.207Z"
   },
   {
    "duration": 4,
    "start_time": "2023-04-18T13:56:40.257Z"
   },
   {
    "duration": 441,
    "start_time": "2023-04-18T13:56:40.264Z"
   },
   {
    "duration": 155,
    "start_time": "2023-04-18T13:56:40.708Z"
   },
   {
    "duration": 149,
    "start_time": "2023-04-18T13:56:40.864Z"
   },
   {
    "duration": 136,
    "start_time": "2023-04-18T13:56:41.016Z"
   },
   {
    "duration": 16,
    "start_time": "2023-04-18T13:56:41.154Z"
   },
   {
    "duration": 41,
    "start_time": "2023-04-18T13:56:41.172Z"
   },
   {
    "duration": 19,
    "start_time": "2023-04-18T13:56:41.215Z"
   },
   {
    "duration": 19,
    "start_time": "2023-04-18T13:56:41.239Z"
   },
   {
    "duration": 59,
    "start_time": "2023-04-18T13:56:41.261Z"
   },
   {
    "duration": 118,
    "start_time": "2023-04-18T13:56:41.401Z"
   },
   {
    "duration": 84,
    "start_time": "2023-04-18T13:56:41.526Z"
   },
   {
    "duration": 92,
    "start_time": "2023-04-18T13:56:41.620Z"
   },
   {
    "duration": 27,
    "start_time": "2023-04-18T13:56:41.788Z"
   },
   {
    "duration": 4,
    "start_time": "2023-04-18T13:56:41.817Z"
   },
   {
    "duration": 15,
    "start_time": "2023-04-18T13:56:41.823Z"
   },
   {
    "duration": 34,
    "start_time": "2023-04-18T13:56:41.840Z"
   },
   {
    "duration": 29,
    "start_time": "2023-04-18T13:56:41.875Z"
   },
   {
    "duration": 6,
    "start_time": "2023-04-18T13:56:41.913Z"
   },
   {
    "duration": 18,
    "start_time": "2023-04-18T13:56:41.922Z"
   },
   {
    "duration": 13,
    "start_time": "2023-04-18T13:56:41.942Z"
   },
   {
    "duration": 9,
    "start_time": "2023-04-18T13:56:41.958Z"
   },
   {
    "duration": 25,
    "start_time": "2023-04-18T13:56:41.969Z"
   },
   {
    "duration": 1583,
    "start_time": "2023-04-18T13:56:41.997Z"
   },
   {
    "duration": 1593,
    "start_time": "2023-04-18T13:56:43.583Z"
   },
   {
    "duration": 1622,
    "start_time": "2023-04-18T13:56:45.179Z"
   },
   {
    "duration": 5,
    "start_time": "2023-04-18T13:57:30.444Z"
   },
   {
    "duration": 3,
    "start_time": "2023-04-18T13:58:06.806Z"
   },
   {
    "duration": 412,
    "start_time": "2023-04-18T13:58:09.033Z"
   },
   {
    "duration": 126,
    "start_time": "2023-04-18T13:58:09.447Z"
   },
   {
    "duration": 108,
    "start_time": "2023-04-18T13:58:09.627Z"
   },
   {
    "duration": 133,
    "start_time": "2023-04-18T13:58:10.068Z"
   },
   {
    "duration": 16,
    "start_time": "2023-04-18T13:58:10.898Z"
   },
   {
    "duration": 15,
    "start_time": "2023-04-18T13:58:19.057Z"
   },
   {
    "duration": 21,
    "start_time": "2023-04-18T13:58:23.255Z"
   },
   {
    "duration": 15,
    "start_time": "2023-04-18T13:58:24.206Z"
   },
   {
    "duration": 22,
    "start_time": "2023-04-18T13:58:24.902Z"
   },
   {
    "duration": 13,
    "start_time": "2023-04-18T13:58:26.354Z"
   },
   {
    "duration": 16,
    "start_time": "2023-04-18T13:59:11.804Z"
   },
   {
    "duration": 15,
    "start_time": "2023-04-18T13:59:32.259Z"
   },
   {
    "duration": 21,
    "start_time": "2023-04-18T13:59:47.390Z"
   },
   {
    "duration": 4,
    "start_time": "2023-04-18T14:02:00.580Z"
   },
   {
    "duration": 528,
    "start_time": "2023-04-18T14:02:00.587Z"
   },
   {
    "duration": 131,
    "start_time": "2023-04-18T14:02:01.117Z"
   },
   {
    "duration": 147,
    "start_time": "2023-04-18T14:02:01.250Z"
   },
   {
    "duration": 121,
    "start_time": "2023-04-18T14:02:01.404Z"
   },
   {
    "duration": 15,
    "start_time": "2023-04-18T14:02:01.527Z"
   },
   {
    "duration": 36,
    "start_time": "2023-04-18T14:02:01.543Z"
   },
   {
    "duration": 55,
    "start_time": "2023-04-18T14:02:01.581Z"
   },
   {
    "duration": 38,
    "start_time": "2023-04-18T14:02:01.639Z"
   },
   {
    "duration": 54,
    "start_time": "2023-04-18T14:02:01.679Z"
   },
   {
    "duration": 165,
    "start_time": "2023-04-18T14:02:01.736Z"
   },
   {
    "duration": 95,
    "start_time": "2023-04-18T14:02:01.905Z"
   },
   {
    "duration": 9,
    "start_time": "2023-04-18T14:02:02.005Z"
   },
   {
    "duration": 105,
    "start_time": "2023-04-18T14:02:02.097Z"
   },
   {
    "duration": 3,
    "start_time": "2023-04-18T14:02:02.205Z"
   },
   {
    "duration": 22,
    "start_time": "2023-04-18T14:02:02.210Z"
   },
   {
    "duration": 37,
    "start_time": "2023-04-18T14:02:02.234Z"
   },
   {
    "duration": 29,
    "start_time": "2023-04-18T14:02:02.273Z"
   },
   {
    "duration": 14,
    "start_time": "2023-04-18T14:02:02.305Z"
   },
   {
    "duration": 21,
    "start_time": "2023-04-18T14:02:02.321Z"
   },
   {
    "duration": 23,
    "start_time": "2023-04-18T14:02:02.344Z"
   },
   {
    "duration": 24,
    "start_time": "2023-04-18T14:02:02.369Z"
   },
   {
    "duration": 14,
    "start_time": "2023-04-18T14:02:02.397Z"
   },
   {
    "duration": 1567,
    "start_time": "2023-04-18T14:02:02.413Z"
   },
   {
    "duration": 1623,
    "start_time": "2023-04-18T14:02:03.983Z"
   },
   {
    "duration": 1524,
    "start_time": "2023-04-18T14:02:05.608Z"
   },
   {
    "duration": 4,
    "start_time": "2023-04-18T14:09:55.880Z"
   },
   {
    "duration": 5,
    "start_time": "2023-04-18T14:10:00.808Z"
   },
   {
    "duration": 469,
    "start_time": "2023-04-18T14:10:00.816Z"
   },
   {
    "duration": 131,
    "start_time": "2023-04-18T14:10:01.287Z"
   },
   {
    "duration": 130,
    "start_time": "2023-04-18T14:10:01.421Z"
   },
   {
    "duration": 153,
    "start_time": "2023-04-18T14:10:01.554Z"
   },
   {
    "duration": 18,
    "start_time": "2023-04-18T14:10:01.710Z"
   },
   {
    "duration": 31,
    "start_time": "2023-04-18T14:10:01.731Z"
   },
   {
    "duration": 49,
    "start_time": "2023-04-18T14:10:01.764Z"
   },
   {
    "duration": 16,
    "start_time": "2023-04-18T14:10:01.814Z"
   },
   {
    "duration": 73,
    "start_time": "2023-04-18T14:10:01.833Z"
   },
   {
    "duration": 176,
    "start_time": "2023-04-18T14:10:01.912Z"
   },
   {
    "duration": 107,
    "start_time": "2023-04-18T14:10:02.091Z"
   },
   {
    "duration": 90,
    "start_time": "2023-04-18T14:10:02.202Z"
   },
   {
    "duration": 120,
    "start_time": "2023-04-18T14:10:02.293Z"
   },
   {
    "duration": 20,
    "start_time": "2023-04-18T14:10:02.415Z"
   },
   {
    "duration": 32,
    "start_time": "2023-04-18T14:10:02.437Z"
   },
   {
    "duration": 29,
    "start_time": "2023-04-18T14:10:02.471Z"
   },
   {
    "duration": 15,
    "start_time": "2023-04-18T14:10:02.502Z"
   },
   {
    "duration": 9,
    "start_time": "2023-04-18T14:10:02.518Z"
   },
   {
    "duration": 44,
    "start_time": "2023-04-18T14:10:02.528Z"
   },
   {
    "duration": 12,
    "start_time": "2023-04-18T14:10:02.574Z"
   },
   {
    "duration": 32,
    "start_time": "2023-04-18T14:10:02.588Z"
   },
   {
    "duration": 39,
    "start_time": "2023-04-18T14:10:02.622Z"
   },
   {
    "duration": 1538,
    "start_time": "2023-04-18T14:10:02.663Z"
   },
   {
    "duration": 1494,
    "start_time": "2023-04-18T14:10:04.206Z"
   },
   {
    "duration": 1490,
    "start_time": "2023-04-18T14:10:05.701Z"
   },
   {
    "duration": 3,
    "start_time": "2023-04-18T14:11:34.203Z"
   },
   {
    "duration": 1309,
    "start_time": "2023-04-18T16:08:43.657Z"
   },
   {
    "duration": 944,
    "start_time": "2023-04-18T16:08:44.968Z"
   },
   {
    "duration": 154,
    "start_time": "2023-04-18T16:08:45.915Z"
   },
   {
    "duration": 148,
    "start_time": "2023-04-18T16:08:46.071Z"
   },
   {
    "duration": 151,
    "start_time": "2023-04-18T16:08:46.221Z"
   },
   {
    "duration": 23,
    "start_time": "2023-04-18T16:08:46.374Z"
   },
   {
    "duration": 38,
    "start_time": "2023-04-18T16:08:46.399Z"
   },
   {
    "duration": 48,
    "start_time": "2023-04-18T16:08:46.441Z"
   },
   {
    "duration": 23,
    "start_time": "2023-04-18T16:08:46.491Z"
   },
   {
    "duration": 34,
    "start_time": "2023-04-18T16:08:46.517Z"
   },
   {
    "duration": 191,
    "start_time": "2023-04-18T16:08:46.554Z"
   },
   {
    "duration": 123,
    "start_time": "2023-04-18T16:08:46.748Z"
   },
   {
    "duration": 187,
    "start_time": "2023-04-18T16:08:46.873Z"
   },
   {
    "duration": 116,
    "start_time": "2023-04-18T16:08:47.063Z"
   },
   {
    "duration": 0,
    "start_time": "2023-04-18T16:08:47.182Z"
   },
   {
    "duration": 0,
    "start_time": "2023-04-18T16:08:47.183Z"
   },
   {
    "duration": 0,
    "start_time": "2023-04-18T16:08:47.184Z"
   },
   {
    "duration": 0,
    "start_time": "2023-04-18T16:08:47.186Z"
   },
   {
    "duration": 0,
    "start_time": "2023-04-18T16:08:47.187Z"
   },
   {
    "duration": 0,
    "start_time": "2023-04-18T16:08:47.188Z"
   },
   {
    "duration": 0,
    "start_time": "2023-04-18T16:08:47.189Z"
   },
   {
    "duration": 0,
    "start_time": "2023-04-18T16:08:47.190Z"
   },
   {
    "duration": 0,
    "start_time": "2023-04-18T16:08:47.192Z"
   },
   {
    "duration": 0,
    "start_time": "2023-04-18T16:08:47.193Z"
   },
   {
    "duration": 0,
    "start_time": "2023-04-18T16:08:47.194Z"
   },
   {
    "duration": 0,
    "start_time": "2023-04-18T16:08:47.196Z"
   },
   {
    "duration": 19,
    "start_time": "2023-04-18T16:22:49.873Z"
   },
   {
    "duration": 21,
    "start_time": "2023-04-18T16:23:16.068Z"
   },
   {
    "duration": 7,
    "start_time": "2023-04-18T16:28:46.565Z"
   },
   {
    "duration": 8,
    "start_time": "2023-04-18T16:28:48.741Z"
   },
   {
    "duration": 3,
    "start_time": "2023-04-18T16:28:49.326Z"
   },
   {
    "duration": 7,
    "start_time": "2023-04-18T16:28:52.026Z"
   },
   {
    "duration": 5,
    "start_time": "2023-04-18T16:32:30.313Z"
   },
   {
    "duration": 7,
    "start_time": "2023-04-18T16:32:31.076Z"
   },
   {
    "duration": 8,
    "start_time": "2023-04-18T16:32:31.313Z"
   },
   {
    "duration": 8,
    "start_time": "2023-04-18T16:32:31.469Z"
   },
   {
    "duration": 9,
    "start_time": "2023-04-18T16:33:35.429Z"
   },
   {
    "duration": 1820,
    "start_time": "2023-04-18T16:36:14.573Z"
   },
   {
    "duration": 1649,
    "start_time": "2023-04-18T16:36:16.396Z"
   },
   {
    "duration": 1661,
    "start_time": "2023-04-18T16:36:18.051Z"
   },
   {
    "duration": 1434,
    "start_time": "2023-04-18T16:37:55.923Z"
   },
   {
    "duration": 499,
    "start_time": "2023-04-18T16:37:57.359Z"
   },
   {
    "duration": 167,
    "start_time": "2023-04-18T16:37:57.862Z"
   },
   {
    "duration": 158,
    "start_time": "2023-04-18T16:37:58.031Z"
   },
   {
    "duration": 188,
    "start_time": "2023-04-18T16:37:58.192Z"
   },
   {
    "duration": 22,
    "start_time": "2023-04-18T16:37:58.382Z"
   },
   {
    "duration": 39,
    "start_time": "2023-04-18T16:37:58.406Z"
   },
   {
    "duration": 70,
    "start_time": "2023-04-18T16:37:58.447Z"
   },
   {
    "duration": 38,
    "start_time": "2023-04-18T16:37:58.519Z"
   },
   {
    "duration": 87,
    "start_time": "2023-04-18T16:37:58.562Z"
   },
   {
    "duration": 118,
    "start_time": "2023-04-18T16:37:58.652Z"
   },
   {
    "duration": 90,
    "start_time": "2023-04-18T16:37:58.773Z"
   },
   {
    "duration": 181,
    "start_time": "2023-04-18T16:37:58.867Z"
   },
   {
    "duration": 193,
    "start_time": "2023-04-18T16:37:59.051Z"
   },
   {
    "duration": 0,
    "start_time": "2023-04-18T16:37:59.250Z"
   },
   {
    "duration": 0,
    "start_time": "2023-04-18T16:37:59.251Z"
   },
   {
    "duration": 0,
    "start_time": "2023-04-18T16:37:59.252Z"
   },
   {
    "duration": 0,
    "start_time": "2023-04-18T16:37:59.253Z"
   },
   {
    "duration": 0,
    "start_time": "2023-04-18T16:37:59.254Z"
   },
   {
    "duration": 0,
    "start_time": "2023-04-18T16:37:59.255Z"
   },
   {
    "duration": 0,
    "start_time": "2023-04-18T16:37:59.256Z"
   },
   {
    "duration": 0,
    "start_time": "2023-04-18T16:37:59.257Z"
   },
   {
    "duration": 0,
    "start_time": "2023-04-18T16:37:59.258Z"
   },
   {
    "duration": 0,
    "start_time": "2023-04-18T16:37:59.259Z"
   },
   {
    "duration": 0,
    "start_time": "2023-04-18T16:37:59.260Z"
   },
   {
    "duration": 0,
    "start_time": "2023-04-18T16:37:59.262Z"
   },
   {
    "duration": 1093,
    "start_time": "2023-04-19T07:07:43.063Z"
   },
   {
    "duration": 1604,
    "start_time": "2023-04-19T07:07:44.158Z"
   },
   {
    "duration": 160,
    "start_time": "2023-04-19T07:07:45.764Z"
   },
   {
    "duration": 113,
    "start_time": "2023-04-19T07:07:45.925Z"
   },
   {
    "duration": 147,
    "start_time": "2023-04-19T07:07:46.041Z"
   },
   {
    "duration": 18,
    "start_time": "2023-04-19T07:07:46.189Z"
   },
   {
    "duration": 22,
    "start_time": "2023-04-19T07:07:46.209Z"
   },
   {
    "duration": 31,
    "start_time": "2023-04-19T07:07:46.232Z"
   },
   {
    "duration": 18,
    "start_time": "2023-04-19T07:07:46.265Z"
   },
   {
    "duration": 82,
    "start_time": "2023-04-19T07:07:46.284Z"
   },
   {
    "duration": 96,
    "start_time": "2023-04-19T07:07:46.368Z"
   },
   {
    "duration": 98,
    "start_time": "2023-04-19T07:07:46.466Z"
   },
   {
    "duration": 4,
    "start_time": "2023-04-19T07:07:46.566Z"
   },
   {
    "duration": 278,
    "start_time": "2023-04-19T07:07:46.573Z"
   },
   {
    "duration": 0,
    "start_time": "2023-04-19T07:07:46.853Z"
   },
   {
    "duration": 0,
    "start_time": "2023-04-19T07:07:46.863Z"
   },
   {
    "duration": 0,
    "start_time": "2023-04-19T07:07:46.864Z"
   },
   {
    "duration": 0,
    "start_time": "2023-04-19T07:07:46.865Z"
   },
   {
    "duration": 0,
    "start_time": "2023-04-19T07:07:46.867Z"
   },
   {
    "duration": 0,
    "start_time": "2023-04-19T07:07:46.868Z"
   },
   {
    "duration": 0,
    "start_time": "2023-04-19T07:07:46.869Z"
   },
   {
    "duration": 0,
    "start_time": "2023-04-19T07:07:46.871Z"
   },
   {
    "duration": 0,
    "start_time": "2023-04-19T07:07:46.872Z"
   },
   {
    "duration": 0,
    "start_time": "2023-04-19T07:07:46.874Z"
   },
   {
    "duration": 0,
    "start_time": "2023-04-19T07:07:46.875Z"
   },
   {
    "duration": 0,
    "start_time": "2023-04-19T07:07:46.877Z"
   },
   {
    "duration": 113,
    "start_time": "2023-04-19T07:08:25.078Z"
   },
   {
    "duration": 96,
    "start_time": "2023-04-19T07:08:30.912Z"
   },
   {
    "duration": 100,
    "start_time": "2023-04-19T07:08:31.075Z"
   },
   {
    "duration": 17,
    "start_time": "2023-04-19T07:08:39.774Z"
   },
   {
    "duration": 4,
    "start_time": "2023-04-19T07:09:10.750Z"
   },
   {
    "duration": 385,
    "start_time": "2023-04-19T07:09:10.756Z"
   },
   {
    "duration": 120,
    "start_time": "2023-04-19T07:09:11.143Z"
   },
   {
    "duration": 124,
    "start_time": "2023-04-19T07:09:11.265Z"
   },
   {
    "duration": 119,
    "start_time": "2023-04-19T07:09:11.392Z"
   },
   {
    "duration": 16,
    "start_time": "2023-04-19T07:09:11.513Z"
   },
   {
    "duration": 40,
    "start_time": "2023-04-19T07:09:11.531Z"
   },
   {
    "duration": 15,
    "start_time": "2023-04-19T07:09:11.572Z"
   },
   {
    "duration": 12,
    "start_time": "2023-04-19T07:09:11.589Z"
   },
   {
    "duration": 69,
    "start_time": "2023-04-19T07:09:11.602Z"
   },
   {
    "duration": 104,
    "start_time": "2023-04-19T07:09:11.674Z"
   },
   {
    "duration": 192,
    "start_time": "2023-04-19T07:09:11.780Z"
   },
   {
    "duration": 89,
    "start_time": "2023-04-19T07:09:11.976Z"
   },
   {
    "duration": 100,
    "start_time": "2023-04-19T07:09:12.069Z"
   },
   {
    "duration": 0,
    "start_time": "2023-04-19T07:09:12.171Z"
   },
   {
    "duration": 0,
    "start_time": "2023-04-19T07:09:12.172Z"
   },
   {
    "duration": 0,
    "start_time": "2023-04-19T07:09:12.173Z"
   },
   {
    "duration": 0,
    "start_time": "2023-04-19T07:09:12.174Z"
   },
   {
    "duration": 0,
    "start_time": "2023-04-19T07:09:12.176Z"
   },
   {
    "duration": 0,
    "start_time": "2023-04-19T07:09:12.177Z"
   },
   {
    "duration": 0,
    "start_time": "2023-04-19T07:09:12.178Z"
   },
   {
    "duration": 0,
    "start_time": "2023-04-19T07:09:12.179Z"
   },
   {
    "duration": 0,
    "start_time": "2023-04-19T07:09:12.180Z"
   },
   {
    "duration": 0,
    "start_time": "2023-04-19T07:09:12.183Z"
   },
   {
    "duration": 0,
    "start_time": "2023-04-19T07:09:12.184Z"
   },
   {
    "duration": 0,
    "start_time": "2023-04-19T07:09:12.185Z"
   },
   {
    "duration": 17,
    "start_time": "2023-04-19T07:10:27.834Z"
   },
   {
    "duration": 6,
    "start_time": "2023-04-19T07:19:02.848Z"
   },
   {
    "duration": 1294,
    "start_time": "2023-04-19T07:19:09.294Z"
   },
   {
    "duration": 1293,
    "start_time": "2023-04-19T07:19:10.590Z"
   },
   {
    "duration": 1291,
    "start_time": "2023-04-19T07:19:11.885Z"
   },
   {
    "duration": 4,
    "start_time": "2023-04-19T07:19:46.403Z"
   },
   {
    "duration": 7,
    "start_time": "2023-04-19T07:19:47.018Z"
   },
   {
    "duration": 8,
    "start_time": "2023-04-19T07:19:47.850Z"
   },
   {
    "duration": 7,
    "start_time": "2023-04-19T07:19:48.381Z"
   },
   {
    "duration": 5,
    "start_time": "2023-04-19T07:20:40.573Z"
   },
   {
    "duration": 8,
    "start_time": "2023-04-19T07:20:41.163Z"
   },
   {
    "duration": 9,
    "start_time": "2023-04-19T07:20:41.495Z"
   },
   {
    "duration": 8,
    "start_time": "2023-04-19T07:20:41.755Z"
   },
   {
    "duration": 82,
    "start_time": "2023-04-19T07:22:07.739Z"
   },
   {
    "duration": 595,
    "start_time": "2023-04-19T07:25:30.002Z"
   },
   {
    "duration": 81,
    "start_time": "2023-04-19T07:25:40.147Z"
   },
   {
    "duration": 103,
    "start_time": "2023-04-19T07:25:40.811Z"
   },
   {
    "duration": 120,
    "start_time": "2023-04-19T07:26:30.467Z"
   },
   {
    "duration": 118,
    "start_time": "2023-04-19T07:26:31.351Z"
   },
   {
    "duration": 113,
    "start_time": "2023-04-19T07:26:31.495Z"
   },
   {
    "duration": 4,
    "start_time": "2023-04-19T07:31:53.058Z"
   },
   {
    "duration": 19,
    "start_time": "2023-04-19T07:31:54.923Z"
   },
   {
    "duration": 11,
    "start_time": "2023-04-19T07:31:55.416Z"
   },
   {
    "duration": 11,
    "start_time": "2023-04-19T07:31:55.966Z"
   },
   {
    "duration": 4,
    "start_time": "2023-04-19T07:32:02.680Z"
   },
   {
    "duration": 48,
    "start_time": "2023-04-19T07:32:02.686Z"
   },
   {
    "duration": 393,
    "start_time": "2023-04-19T07:32:02.736Z"
   },
   {
    "duration": 136,
    "start_time": "2023-04-19T07:32:03.131Z"
   },
   {
    "duration": 126,
    "start_time": "2023-04-19T07:32:03.269Z"
   },
   {
    "duration": 140,
    "start_time": "2023-04-19T07:32:03.397Z"
   },
   {
    "duration": 30,
    "start_time": "2023-04-19T07:32:03.541Z"
   },
   {
    "duration": 24,
    "start_time": "2023-04-19T07:32:03.573Z"
   },
   {
    "duration": 23,
    "start_time": "2023-04-19T07:32:03.598Z"
   },
   {
    "duration": 40,
    "start_time": "2023-04-19T07:32:03.623Z"
   },
   {
    "duration": 111,
    "start_time": "2023-04-19T07:32:03.665Z"
   },
   {
    "duration": 14,
    "start_time": "2023-04-19T07:32:03.864Z"
   },
   {
    "duration": 188,
    "start_time": "2023-04-19T07:32:03.882Z"
   },
   {
    "duration": 103,
    "start_time": "2023-04-19T07:32:04.074Z"
   },
   {
    "duration": 98,
    "start_time": "2023-04-19T07:32:04.179Z"
   },
   {
    "duration": 15,
    "start_time": "2023-04-19T07:32:04.279Z"
   },
   {
    "duration": 11,
    "start_time": "2023-04-19T07:32:04.296Z"
   },
   {
    "duration": 11,
    "start_time": "2023-04-19T07:32:04.309Z"
   },
   {
    "duration": 7,
    "start_time": "2023-04-19T07:32:04.321Z"
   },
   {
    "duration": 25,
    "start_time": "2023-04-19T07:32:04.330Z"
   },
   {
    "duration": 19,
    "start_time": "2023-04-19T07:32:04.356Z"
   },
   {
    "duration": 10,
    "start_time": "2023-04-19T07:32:04.377Z"
   },
   {
    "duration": 16,
    "start_time": "2023-04-19T07:32:04.389Z"
   },
   {
    "duration": 9,
    "start_time": "2023-04-19T07:32:04.407Z"
   },
   {
    "duration": 1347,
    "start_time": "2023-04-19T07:32:04.418Z"
   },
   {
    "duration": 1302,
    "start_time": "2023-04-19T07:32:05.767Z"
   },
   {
    "duration": 2231,
    "start_time": "2023-04-19T07:32:07.071Z"
   },
   {
    "duration": 11,
    "start_time": "2023-04-19T07:32:44.464Z"
   },
   {
    "duration": 1352,
    "start_time": "2023-04-19T07:32:46.816Z"
   },
   {
    "duration": 1402,
    "start_time": "2023-04-19T07:32:48.171Z"
   },
   {
    "duration": 1337,
    "start_time": "2023-04-19T07:32:49.574Z"
   },
   {
    "duration": 7,
    "start_time": "2023-04-19T07:37:29.860Z"
   },
   {
    "duration": 1336,
    "start_time": "2023-04-19T07:37:31.866Z"
   },
   {
    "duration": 0,
    "start_time": "2023-04-19T07:37:33.204Z"
   },
   {
    "duration": 0,
    "start_time": "2023-04-19T07:37:33.205Z"
   },
   {
    "duration": 6,
    "start_time": "2023-04-19T07:37:48.723Z"
   },
   {
    "duration": 1325,
    "start_time": "2023-04-19T07:37:50.716Z"
   },
   {
    "duration": 0,
    "start_time": "2023-04-19T07:37:52.043Z"
   },
   {
    "duration": 0,
    "start_time": "2023-04-19T07:37:52.044Z"
   },
   {
    "duration": 11,
    "start_time": "2023-04-19T07:41:09.637Z"
   },
   {
    "duration": 1363,
    "start_time": "2023-04-19T07:41:12.274Z"
   },
   {
    "duration": 7,
    "start_time": "2023-04-19T07:41:41.136Z"
   },
   {
    "duration": 1386,
    "start_time": "2023-04-19T07:41:43.333Z"
   },
   {
    "duration": 0,
    "start_time": "2023-04-19T07:41:44.721Z"
   },
   {
    "duration": 0,
    "start_time": "2023-04-19T07:41:44.721Z"
   },
   {
    "duration": 3,
    "start_time": "2023-04-19T07:41:52.240Z"
   },
   {
    "duration": 7,
    "start_time": "2023-04-19T07:41:52.244Z"
   },
   {
    "duration": 380,
    "start_time": "2023-04-19T07:41:52.252Z"
   },
   {
    "duration": 129,
    "start_time": "2023-04-19T07:41:52.634Z"
   },
   {
    "duration": 133,
    "start_time": "2023-04-19T07:41:52.766Z"
   },
   {
    "duration": 120,
    "start_time": "2023-04-19T07:41:52.901Z"
   },
   {
    "duration": 11,
    "start_time": "2023-04-19T07:41:53.023Z"
   },
   {
    "duration": 31,
    "start_time": "2023-04-19T07:41:53.035Z"
   },
   {
    "duration": 17,
    "start_time": "2023-04-19T07:41:53.068Z"
   },
   {
    "duration": 15,
    "start_time": "2023-04-19T07:41:53.087Z"
   },
   {
    "duration": 59,
    "start_time": "2023-04-19T07:41:53.104Z"
   },
   {
    "duration": 102,
    "start_time": "2023-04-19T07:41:53.165Z"
   },
   {
    "duration": 99,
    "start_time": "2023-04-19T07:41:53.269Z"
   },
   {
    "duration": 96,
    "start_time": "2023-04-19T07:41:53.373Z"
   },
   {
    "duration": 111,
    "start_time": "2023-04-19T07:41:53.471Z"
   },
   {
    "duration": 3,
    "start_time": "2023-04-19T07:41:53.584Z"
   },
   {
    "duration": 6,
    "start_time": "2023-04-19T07:41:53.588Z"
   },
   {
    "duration": 13,
    "start_time": "2023-04-19T07:41:53.595Z"
   },
   {
    "duration": 20,
    "start_time": "2023-04-19T07:41:53.609Z"
   },
   {
    "duration": 4,
    "start_time": "2023-04-19T07:41:53.630Z"
   },
   {
    "duration": 13,
    "start_time": "2023-04-19T07:41:53.636Z"
   },
   {
    "duration": 12,
    "start_time": "2023-04-19T07:41:53.651Z"
   },
   {
    "duration": 17,
    "start_time": "2023-04-19T07:41:53.665Z"
   },
   {
    "duration": 8,
    "start_time": "2023-04-19T07:41:53.683Z"
   },
   {
    "duration": 1413,
    "start_time": "2023-04-19T07:41:53.692Z"
   },
   {
    "duration": 0,
    "start_time": "2023-04-19T07:41:55.107Z"
   },
   {
    "duration": 0,
    "start_time": "2023-04-19T07:41:55.108Z"
   },
   {
    "duration": 7,
    "start_time": "2023-04-19T07:47:33.818Z"
   },
   {
    "duration": 1424,
    "start_time": "2023-04-19T07:47:35.776Z"
   },
   {
    "duration": 0,
    "start_time": "2023-04-19T07:47:37.202Z"
   },
   {
    "duration": 0,
    "start_time": "2023-04-19T07:47:37.203Z"
   },
   {
    "duration": 6,
    "start_time": "2023-04-19T07:48:48.049Z"
   },
   {
    "duration": 1312,
    "start_time": "2023-04-19T07:48:49.636Z"
   },
   {
    "duration": 1347,
    "start_time": "2023-04-19T07:48:55.738Z"
   },
   {
    "duration": 1380,
    "start_time": "2023-04-19T07:48:59.548Z"
   },
   {
    "duration": 4,
    "start_time": "2023-04-19T07:49:31.589Z"
   },
   {
    "duration": 14,
    "start_time": "2023-04-19T07:49:31.594Z"
   },
   {
    "duration": 423,
    "start_time": "2023-04-19T07:49:31.609Z"
   },
   {
    "duration": 141,
    "start_time": "2023-04-19T07:49:32.034Z"
   },
   {
    "duration": 133,
    "start_time": "2023-04-19T07:49:32.178Z"
   },
   {
    "duration": 124,
    "start_time": "2023-04-19T07:49:32.312Z"
   },
   {
    "duration": 12,
    "start_time": "2023-04-19T07:49:32.437Z"
   },
   {
    "duration": 23,
    "start_time": "2023-04-19T07:49:32.464Z"
   },
   {
    "duration": 21,
    "start_time": "2023-04-19T07:49:32.489Z"
   },
   {
    "duration": 19,
    "start_time": "2023-04-19T07:49:32.512Z"
   },
   {
    "duration": 35,
    "start_time": "2023-04-19T07:49:32.533Z"
   },
   {
    "duration": 107,
    "start_time": "2023-04-19T07:49:32.569Z"
   },
   {
    "duration": 97,
    "start_time": "2023-04-19T07:49:32.680Z"
   },
   {
    "duration": 89,
    "start_time": "2023-04-19T07:49:32.781Z"
   },
   {
    "duration": 95,
    "start_time": "2023-04-19T07:49:32.872Z"
   },
   {
    "duration": 11,
    "start_time": "2023-04-19T07:49:32.969Z"
   },
   {
    "duration": 15,
    "start_time": "2023-04-19T07:49:32.982Z"
   },
   {
    "duration": 17,
    "start_time": "2023-04-19T07:49:32.999Z"
   },
   {
    "duration": 8,
    "start_time": "2023-04-19T07:49:33.018Z"
   },
   {
    "duration": 7,
    "start_time": "2023-04-19T07:49:33.027Z"
   },
   {
    "duration": 48,
    "start_time": "2023-04-19T07:49:33.035Z"
   },
   {
    "duration": 20,
    "start_time": "2023-04-19T07:49:33.084Z"
   },
   {
    "duration": 52,
    "start_time": "2023-04-19T07:49:33.105Z"
   },
   {
    "duration": 59,
    "start_time": "2023-04-19T07:49:33.159Z"
   },
   {
    "duration": 1496,
    "start_time": "2023-04-19T07:49:33.220Z"
   },
   {
    "duration": 1375,
    "start_time": "2023-04-19T07:49:34.718Z"
   },
   {
    "duration": 1398,
    "start_time": "2023-04-19T07:49:36.094Z"
   },
   {
    "duration": 3,
    "start_time": "2023-04-19T07:51:54.272Z"
   },
   {
    "duration": 16,
    "start_time": "2023-04-19T07:51:54.277Z"
   },
   {
    "duration": 371,
    "start_time": "2023-04-19T07:51:54.295Z"
   },
   {
    "duration": 142,
    "start_time": "2023-04-19T07:51:54.668Z"
   },
   {
    "duration": 109,
    "start_time": "2023-04-19T07:51:54.812Z"
   },
   {
    "duration": 124,
    "start_time": "2023-04-19T07:51:54.922Z"
   },
   {
    "duration": 23,
    "start_time": "2023-04-19T07:51:55.048Z"
   },
   {
    "duration": 15,
    "start_time": "2023-04-19T07:51:55.073Z"
   },
   {
    "duration": 19,
    "start_time": "2023-04-19T07:51:55.090Z"
   },
   {
    "duration": 12,
    "start_time": "2023-04-19T07:51:55.111Z"
   },
   {
    "duration": 52,
    "start_time": "2023-04-19T07:51:55.125Z"
   },
   {
    "duration": 102,
    "start_time": "2023-04-19T07:51:55.178Z"
   },
   {
    "duration": 186,
    "start_time": "2023-04-19T07:51:55.282Z"
   },
   {
    "duration": 6,
    "start_time": "2023-04-19T07:51:55.475Z"
   },
   {
    "duration": 19,
    "start_time": "2023-04-19T07:51:55.563Z"
   },
   {
    "duration": 78,
    "start_time": "2023-04-19T07:51:55.586Z"
   },
   {
    "duration": 12,
    "start_time": "2023-04-19T07:51:55.667Z"
   },
   {
    "duration": 23,
    "start_time": "2023-04-19T07:51:55.681Z"
   },
   {
    "duration": 11,
    "start_time": "2023-04-19T07:51:55.705Z"
   },
   {
    "duration": 3,
    "start_time": "2023-04-19T07:51:55.718Z"
   },
   {
    "duration": 21,
    "start_time": "2023-04-19T07:51:55.723Z"
   },
   {
    "duration": 8,
    "start_time": "2023-04-19T07:51:55.746Z"
   },
   {
    "duration": 8,
    "start_time": "2023-04-19T07:51:55.755Z"
   },
   {
    "duration": 4,
    "start_time": "2023-04-19T07:52:00.716Z"
   },
   {
    "duration": 26,
    "start_time": "2023-04-19T07:52:00.722Z"
   },
   {
    "duration": 443,
    "start_time": "2023-04-19T07:52:00.750Z"
   },
   {
    "duration": 135,
    "start_time": "2023-04-19T07:52:01.196Z"
   },
   {
    "duration": 143,
    "start_time": "2023-04-19T07:52:01.333Z"
   },
   {
    "duration": 134,
    "start_time": "2023-04-19T07:52:01.479Z"
   },
   {
    "duration": 12,
    "start_time": "2023-04-19T07:52:01.615Z"
   },
   {
    "duration": 45,
    "start_time": "2023-04-19T07:52:01.628Z"
   },
   {
    "duration": 28,
    "start_time": "2023-04-19T07:52:01.675Z"
   },
   {
    "duration": 37,
    "start_time": "2023-04-19T07:52:01.705Z"
   },
   {
    "duration": 49,
    "start_time": "2023-04-19T07:52:01.743Z"
   },
   {
    "duration": 99,
    "start_time": "2023-04-19T07:52:01.867Z"
   },
   {
    "duration": 198,
    "start_time": "2023-04-19T07:52:01.968Z"
   },
   {
    "duration": 100,
    "start_time": "2023-04-19T07:52:02.176Z"
   },
   {
    "duration": 98,
    "start_time": "2023-04-19T07:52:02.278Z"
   },
   {
    "duration": 3,
    "start_time": "2023-04-19T07:52:02.378Z"
   },
   {
    "duration": 48,
    "start_time": "2023-04-19T07:52:02.382Z"
   },
   {
    "duration": 18,
    "start_time": "2023-04-19T07:52:02.431Z"
   },
   {
    "duration": 14,
    "start_time": "2023-04-19T07:52:02.450Z"
   },
   {
    "duration": 8,
    "start_time": "2023-04-19T07:52:02.465Z"
   },
   {
    "duration": 20,
    "start_time": "2023-04-19T07:52:02.474Z"
   },
   {
    "duration": 26,
    "start_time": "2023-04-19T07:52:02.496Z"
   },
   {
    "duration": 16,
    "start_time": "2023-04-19T07:52:02.524Z"
   },
   {
    "duration": 7,
    "start_time": "2023-04-19T07:52:02.542Z"
   },
   {
    "duration": 1379,
    "start_time": "2023-04-19T07:52:02.551Z"
   },
   {
    "duration": 1322,
    "start_time": "2023-04-19T07:52:03.932Z"
   },
   {
    "duration": 1346,
    "start_time": "2023-04-19T07:52:05.255Z"
   },
   {
    "duration": 4,
    "start_time": "2023-04-19T07:56:49.204Z"
   },
   {
    "duration": 12,
    "start_time": "2023-04-19T07:56:49.638Z"
   },
   {
    "duration": 3,
    "start_time": "2023-04-19T07:57:05.632Z"
   },
   {
    "duration": 24,
    "start_time": "2023-04-19T07:57:05.638Z"
   },
   {
    "duration": 411,
    "start_time": "2023-04-19T07:57:05.664Z"
   },
   {
    "duration": 142,
    "start_time": "2023-04-19T07:57:06.077Z"
   },
   {
    "duration": 127,
    "start_time": "2023-04-19T07:57:06.221Z"
   },
   {
    "duration": 148,
    "start_time": "2023-04-19T07:57:06.350Z"
   },
   {
    "duration": 14,
    "start_time": "2023-04-19T07:57:06.500Z"
   },
   {
    "duration": 47,
    "start_time": "2023-04-19T07:57:06.515Z"
   },
   {
    "duration": 30,
    "start_time": "2023-04-19T07:57:06.566Z"
   },
   {
    "duration": 0,
    "start_time": "2023-04-19T07:57:06.599Z"
   },
   {
    "duration": 0,
    "start_time": "2023-04-19T07:57:06.602Z"
   },
   {
    "duration": 0,
    "start_time": "2023-04-19T07:57:06.603Z"
   },
   {
    "duration": 0,
    "start_time": "2023-04-19T07:57:06.604Z"
   },
   {
    "duration": 0,
    "start_time": "2023-04-19T07:57:06.606Z"
   },
   {
    "duration": 0,
    "start_time": "2023-04-19T07:57:06.607Z"
   },
   {
    "duration": 0,
    "start_time": "2023-04-19T07:57:06.609Z"
   },
   {
    "duration": 0,
    "start_time": "2023-04-19T07:57:06.610Z"
   },
   {
    "duration": 0,
    "start_time": "2023-04-19T07:57:06.612Z"
   },
   {
    "duration": 0,
    "start_time": "2023-04-19T07:57:06.613Z"
   },
   {
    "duration": 0,
    "start_time": "2023-04-19T07:57:06.614Z"
   },
   {
    "duration": 0,
    "start_time": "2023-04-19T07:57:06.616Z"
   },
   {
    "duration": 0,
    "start_time": "2023-04-19T07:57:06.617Z"
   },
   {
    "duration": 0,
    "start_time": "2023-04-19T07:57:06.619Z"
   },
   {
    "duration": 0,
    "start_time": "2023-04-19T07:57:06.620Z"
   },
   {
    "duration": 0,
    "start_time": "2023-04-19T07:57:06.621Z"
   },
   {
    "duration": 0,
    "start_time": "2023-04-19T07:57:06.623Z"
   },
   {
    "duration": 0,
    "start_time": "2023-04-19T07:57:06.625Z"
   },
   {
    "duration": 0,
    "start_time": "2023-04-19T07:57:06.627Z"
   },
   {
    "duration": 0,
    "start_time": "2023-04-19T07:57:06.628Z"
   },
   {
    "duration": 4,
    "start_time": "2023-04-19T07:59:08.916Z"
   },
   {
    "duration": 14,
    "start_time": "2023-04-19T07:59:09.182Z"
   },
   {
    "duration": 16,
    "start_time": "2023-04-19T07:59:09.351Z"
   },
   {
    "duration": 3,
    "start_time": "2023-04-19T07:59:58.989Z"
   },
   {
    "duration": 13,
    "start_time": "2023-04-19T07:59:59.493Z"
   },
   {
    "duration": 4,
    "start_time": "2023-04-19T08:00:36.297Z"
   },
   {
    "duration": 16,
    "start_time": "2023-04-19T08:00:36.779Z"
   },
   {
    "duration": 12,
    "start_time": "2023-04-19T08:00:40.490Z"
   },
   {
    "duration": 3,
    "start_time": "2023-04-19T08:02:41.096Z"
   },
   {
    "duration": 4,
    "start_time": "2023-04-19T08:02:41.101Z"
   },
   {
    "duration": 384,
    "start_time": "2023-04-19T08:02:41.107Z"
   },
   {
    "duration": 121,
    "start_time": "2023-04-19T08:02:41.493Z"
   },
   {
    "duration": 110,
    "start_time": "2023-04-19T08:02:41.617Z"
   },
   {
    "duration": 115,
    "start_time": "2023-04-19T08:02:41.729Z"
   },
   {
    "duration": 31,
    "start_time": "2023-04-19T08:02:41.846Z"
   },
   {
    "duration": 13,
    "start_time": "2023-04-19T08:02:41.879Z"
   },
   {
    "duration": 12,
    "start_time": "2023-04-19T08:02:41.894Z"
   },
   {
    "duration": 11,
    "start_time": "2023-04-19T08:02:41.908Z"
   },
   {
    "duration": 55,
    "start_time": "2023-04-19T08:02:41.921Z"
   },
   {
    "duration": 20,
    "start_time": "2023-04-19T08:02:42.062Z"
   },
   {
    "duration": 182,
    "start_time": "2023-04-19T08:02:42.084Z"
   },
   {
    "duration": 16,
    "start_time": "2023-04-19T08:02:42.270Z"
   },
   {
    "duration": 18,
    "start_time": "2023-04-19T08:02:42.365Z"
   },
   {
    "duration": 3,
    "start_time": "2023-04-19T08:02:42.385Z"
   },
   {
    "duration": 4,
    "start_time": "2023-04-19T08:02:42.389Z"
   },
   {
    "duration": 5,
    "start_time": "2023-04-19T08:02:42.394Z"
   },
   {
    "duration": 5,
    "start_time": "2023-04-19T08:02:42.400Z"
   },
   {
    "duration": 3,
    "start_time": "2023-04-19T08:02:42.407Z"
   },
   {
    "duration": 12,
    "start_time": "2023-04-19T08:02:42.411Z"
   },
   {
    "duration": 50,
    "start_time": "2023-04-19T08:02:42.424Z"
   },
   {
    "duration": 9,
    "start_time": "2023-04-19T08:02:42.476Z"
   },
   {
    "duration": 7,
    "start_time": "2023-04-19T08:02:42.486Z"
   },
   {
    "duration": 1325,
    "start_time": "2023-04-19T08:02:42.495Z"
   },
   {
    "duration": 2418,
    "start_time": "2023-04-19T08:02:43.821Z"
   },
   {
    "duration": 1334,
    "start_time": "2023-04-19T08:02:46.241Z"
   },
   {
    "duration": 4,
    "start_time": "2023-04-19T08:03:35.658Z"
   },
   {
    "duration": 18,
    "start_time": "2023-04-19T08:03:35.664Z"
   },
   {
    "duration": 392,
    "start_time": "2023-04-19T08:03:35.684Z"
   },
   {
    "duration": 126,
    "start_time": "2023-04-19T08:03:36.078Z"
   },
   {
    "duration": 116,
    "start_time": "2023-04-19T08:03:36.206Z"
   },
   {
    "duration": 120,
    "start_time": "2023-04-19T08:03:36.323Z"
   },
   {
    "duration": 31,
    "start_time": "2023-04-19T08:03:36.445Z"
   },
   {
    "duration": 27,
    "start_time": "2023-04-19T08:03:36.478Z"
   },
   {
    "duration": 22,
    "start_time": "2023-04-19T08:03:36.507Z"
   },
   {
    "duration": 13,
    "start_time": "2023-04-19T08:03:36.531Z"
   },
   {
    "duration": 32,
    "start_time": "2023-04-19T08:03:36.545Z"
   },
   {
    "duration": 17,
    "start_time": "2023-04-19T08:03:36.663Z"
   },
   {
    "duration": 97,
    "start_time": "2023-04-19T08:03:36.685Z"
   },
   {
    "duration": 15,
    "start_time": "2023-04-19T08:03:36.865Z"
   },
   {
    "duration": 94,
    "start_time": "2023-04-19T08:03:36.884Z"
   },
   {
    "duration": 3,
    "start_time": "2023-04-19T08:03:36.980Z"
   },
   {
    "duration": 5,
    "start_time": "2023-04-19T08:03:36.984Z"
   },
   {
    "duration": 5,
    "start_time": "2023-04-19T08:03:36.990Z"
   },
   {
    "duration": 5,
    "start_time": "2023-04-19T08:03:36.997Z"
   },
   {
    "duration": 5,
    "start_time": "2023-04-19T08:03:37.003Z"
   },
   {
    "duration": 12,
    "start_time": "2023-04-19T08:03:37.009Z"
   },
   {
    "duration": 50,
    "start_time": "2023-04-19T08:03:37.023Z"
   },
   {
    "duration": 12,
    "start_time": "2023-04-19T08:03:37.075Z"
   },
   {
    "duration": 7,
    "start_time": "2023-04-19T08:03:37.088Z"
   },
   {
    "duration": 1362,
    "start_time": "2023-04-19T08:03:37.096Z"
   },
   {
    "duration": 1314,
    "start_time": "2023-04-19T08:03:38.466Z"
   },
   {
    "duration": 2263,
    "start_time": "2023-04-19T08:03:39.782Z"
   },
   {
    "duration": 2,
    "start_time": "2023-04-19T08:09:04.039Z"
   },
   {
    "duration": 16,
    "start_time": "2023-04-19T08:09:04.043Z"
   },
   {
    "duration": 350,
    "start_time": "2023-04-19T08:09:04.061Z"
   },
   {
    "duration": 105,
    "start_time": "2023-04-19T08:09:04.413Z"
   },
   {
    "duration": 114,
    "start_time": "2023-04-19T08:09:04.521Z"
   },
   {
    "duration": 128,
    "start_time": "2023-04-19T08:09:04.637Z"
   },
   {
    "duration": 13,
    "start_time": "2023-04-19T08:09:04.767Z"
   },
   {
    "duration": 14,
    "start_time": "2023-04-19T08:09:04.782Z"
   },
   {
    "duration": 13,
    "start_time": "2023-04-19T08:09:04.797Z"
   },
   {
    "duration": 12,
    "start_time": "2023-04-19T08:09:04.811Z"
   },
   {
    "duration": 45,
    "start_time": "2023-04-19T08:09:04.825Z"
   },
   {
    "duration": 100,
    "start_time": "2023-04-19T08:09:04.872Z"
   },
   {
    "duration": 99,
    "start_time": "2023-04-19T08:09:05.065Z"
   },
   {
    "duration": 96,
    "start_time": "2023-04-19T08:09:05.169Z"
   },
   {
    "duration": 107,
    "start_time": "2023-04-19T08:09:05.267Z"
   },
   {
    "duration": 19,
    "start_time": "2023-04-19T08:09:05.376Z"
   },
   {
    "duration": 7,
    "start_time": "2023-04-19T08:09:05.397Z"
   },
   {
    "duration": 12,
    "start_time": "2023-04-19T08:09:05.405Z"
   },
   {
    "duration": 8,
    "start_time": "2023-04-19T08:09:05.418Z"
   },
   {
    "duration": 4,
    "start_time": "2023-04-19T08:09:05.427Z"
   },
   {
    "duration": 11,
    "start_time": "2023-04-19T08:09:05.433Z"
   },
   {
    "duration": 18,
    "start_time": "2023-04-19T08:09:05.445Z"
   },
   {
    "duration": 21,
    "start_time": "2023-04-19T08:09:05.475Z"
   },
   {
    "duration": 26,
    "start_time": "2023-04-19T08:09:05.497Z"
   },
   {
    "duration": 1412,
    "start_time": "2023-04-19T08:09:05.525Z"
   },
   {
    "duration": 1364,
    "start_time": "2023-04-19T08:09:06.939Z"
   },
   {
    "duration": 1362,
    "start_time": "2023-04-19T08:09:08.304Z"
   },
   {
    "duration": 76,
    "start_time": "2023-04-19T08:10:03.486Z"
   },
   {
    "duration": 3,
    "start_time": "2023-04-19T08:10:13.853Z"
   },
   {
    "duration": 17,
    "start_time": "2023-04-19T08:10:13.858Z"
   },
   {
    "duration": 381,
    "start_time": "2023-04-19T08:10:13.876Z"
   },
   {
    "duration": 139,
    "start_time": "2023-04-19T08:10:14.259Z"
   },
   {
    "duration": 120,
    "start_time": "2023-04-19T08:10:14.401Z"
   },
   {
    "duration": 146,
    "start_time": "2023-04-19T08:10:14.523Z"
   },
   {
    "duration": 14,
    "start_time": "2023-04-19T08:10:14.671Z"
   },
   {
    "duration": 14,
    "start_time": "2023-04-19T08:10:14.686Z"
   },
   {
    "duration": 14,
    "start_time": "2023-04-19T08:10:14.702Z"
   },
   {
    "duration": 19,
    "start_time": "2023-04-19T08:10:14.718Z"
   },
   {
    "duration": 36,
    "start_time": "2023-04-19T08:10:14.739Z"
   },
   {
    "duration": 97,
    "start_time": "2023-04-19T08:10:14.777Z"
   },
   {
    "duration": 92,
    "start_time": "2023-04-19T08:10:14.876Z"
   },
   {
    "duration": 8,
    "start_time": "2023-04-19T08:10:14.975Z"
   },
   {
    "duration": 181,
    "start_time": "2023-04-19T08:10:14.985Z"
   },
   {
    "duration": 5,
    "start_time": "2023-04-19T08:10:15.172Z"
   },
   {
    "duration": 23,
    "start_time": "2023-04-19T08:10:15.179Z"
   },
   {
    "duration": 27,
    "start_time": "2023-04-19T08:10:15.204Z"
   },
   {
    "duration": 8,
    "start_time": "2023-04-19T08:10:15.232Z"
   },
   {
    "duration": 4,
    "start_time": "2023-04-19T08:10:15.242Z"
   },
   {
    "duration": 11,
    "start_time": "2023-04-19T08:10:15.247Z"
   },
   {
    "duration": 9,
    "start_time": "2023-04-19T08:10:15.260Z"
   },
   {
    "duration": 8,
    "start_time": "2023-04-19T08:10:15.270Z"
   },
   {
    "duration": 7,
    "start_time": "2023-04-19T08:10:15.279Z"
   },
   {
    "duration": 1446,
    "start_time": "2023-04-19T08:10:15.288Z"
   },
   {
    "duration": 1547,
    "start_time": "2023-04-19T08:10:16.736Z"
   },
   {
    "duration": 1431,
    "start_time": "2023-04-19T08:10:18.284Z"
   },
   {
    "duration": 3,
    "start_time": "2023-04-19T08:10:50.606Z"
   },
   {
    "duration": 3,
    "start_time": "2023-04-19T08:10:53.011Z"
   },
   {
    "duration": 30,
    "start_time": "2023-04-19T08:10:53.016Z"
   },
   {
    "duration": 390,
    "start_time": "2023-04-19T08:10:53.048Z"
   },
   {
    "duration": 150,
    "start_time": "2023-04-19T08:10:53.440Z"
   },
   {
    "duration": 122,
    "start_time": "2023-04-19T08:10:53.592Z"
   },
   {
    "duration": 123,
    "start_time": "2023-04-19T08:10:53.715Z"
   },
   {
    "duration": 13,
    "start_time": "2023-04-19T08:10:53.839Z"
   },
   {
    "duration": 18,
    "start_time": "2023-04-19T08:10:53.865Z"
   },
   {
    "duration": 33,
    "start_time": "2023-04-19T08:10:53.885Z"
   },
   {
    "duration": 31,
    "start_time": "2023-04-19T08:10:53.920Z"
   },
   {
    "duration": 35,
    "start_time": "2023-04-19T08:10:53.953Z"
   },
   {
    "duration": 94,
    "start_time": "2023-04-19T08:10:53.990Z"
   },
   {
    "duration": 111,
    "start_time": "2023-04-19T08:10:54.169Z"
   },
   {
    "duration": 14,
    "start_time": "2023-04-19T08:10:54.367Z"
   },
   {
    "duration": 100,
    "start_time": "2023-04-19T08:10:54.383Z"
   },
   {
    "duration": 24,
    "start_time": "2023-04-19T08:10:54.485Z"
   },
   {
    "duration": 23,
    "start_time": "2023-04-19T08:10:54.511Z"
   },
   {
    "duration": 26,
    "start_time": "2023-04-19T08:10:54.536Z"
   },
   {
    "duration": 26,
    "start_time": "2023-04-19T08:10:54.565Z"
   },
   {
    "duration": 20,
    "start_time": "2023-04-19T08:10:54.592Z"
   },
   {
    "duration": 50,
    "start_time": "2023-04-19T08:10:54.614Z"
   },
   {
    "duration": 11,
    "start_time": "2023-04-19T08:10:54.676Z"
   },
   {
    "duration": 31,
    "start_time": "2023-04-19T08:10:54.689Z"
   },
   {
    "duration": 22,
    "start_time": "2023-04-19T08:10:54.722Z"
   },
   {
    "duration": 1388,
    "start_time": "2023-04-19T08:10:54.746Z"
   },
   {
    "duration": 1422,
    "start_time": "2023-04-19T08:10:56.136Z"
   },
   {
    "duration": 1412,
    "start_time": "2023-04-19T08:10:57.563Z"
   },
   {
    "duration": 1239,
    "start_time": "2023-04-19T10:27:38.616Z"
   },
   {
    "duration": 4,
    "start_time": "2023-04-19T10:27:39.858Z"
   },
   {
    "duration": 381,
    "start_time": "2023-04-19T10:27:39.864Z"
   },
   {
    "duration": 483,
    "start_time": "2023-04-19T10:27:40.247Z"
   },
   {
    "duration": 136,
    "start_time": "2023-04-19T10:27:40.732Z"
   },
   {
    "duration": 152,
    "start_time": "2023-04-19T10:27:40.870Z"
   },
   {
    "duration": 16,
    "start_time": "2023-04-19T10:27:41.024Z"
   },
   {
    "duration": 18,
    "start_time": "2023-04-19T10:27:41.041Z"
   },
   {
    "duration": 42,
    "start_time": "2023-04-19T10:27:41.061Z"
   },
   {
    "duration": 23,
    "start_time": "2023-04-19T10:27:41.105Z"
   },
   {
    "duration": 77,
    "start_time": "2023-04-19T10:27:41.130Z"
   },
   {
    "duration": 96,
    "start_time": "2023-04-19T10:27:41.209Z"
   },
   {
    "duration": 94,
    "start_time": "2023-04-19T10:27:41.308Z"
   },
   {
    "duration": 5,
    "start_time": "2023-04-19T10:27:41.406Z"
   },
   {
    "duration": 184,
    "start_time": "2023-04-19T10:27:41.413Z"
   },
   {
    "duration": 3,
    "start_time": "2023-04-19T10:27:41.599Z"
   },
   {
    "duration": 5,
    "start_time": "2023-04-19T10:27:41.604Z"
   },
   {
    "duration": 5,
    "start_time": "2023-04-19T10:27:41.611Z"
   },
   {
    "duration": 7,
    "start_time": "2023-04-19T10:27:41.618Z"
   },
   {
    "duration": 7,
    "start_time": "2023-04-19T10:27:41.626Z"
   },
   {
    "duration": 12,
    "start_time": "2023-04-19T10:27:41.634Z"
   },
   {
    "duration": 56,
    "start_time": "2023-04-19T10:27:41.647Z"
   },
   {
    "duration": 13,
    "start_time": "2023-04-19T10:27:41.706Z"
   },
   {
    "duration": 8,
    "start_time": "2023-04-19T10:27:41.721Z"
   },
   {
    "duration": 1528,
    "start_time": "2023-04-19T10:27:41.731Z"
   },
   {
    "duration": 1391,
    "start_time": "2023-04-19T10:27:43.262Z"
   },
   {
    "duration": 1415,
    "start_time": "2023-04-19T10:27:44.654Z"
   },
   {
    "duration": 7,
    "start_time": "2023-04-19T10:34:02.965Z"
   },
   {
    "duration": 1431,
    "start_time": "2023-04-19T10:34:07.162Z"
   },
   {
    "duration": 8,
    "start_time": "2023-04-19T10:34:37.013Z"
   },
   {
    "duration": 7,
    "start_time": "2023-04-19T10:36:54.645Z"
   },
   {
    "duration": 1406,
    "start_time": "2023-04-19T10:37:00.554Z"
   },
   {
    "duration": 6,
    "start_time": "2023-04-19T10:38:41.577Z"
   },
   {
    "duration": 1491,
    "start_time": "2023-04-19T10:38:45.030Z"
   },
   {
    "duration": 7,
    "start_time": "2023-04-19T10:40:14.475Z"
   },
   {
    "duration": 1397,
    "start_time": "2023-04-19T10:40:18.017Z"
   }
  ],
  "kernelspec": {
   "display_name": "Python 3 (ipykernel)",
   "language": "python",
   "name": "python3"
  },
  "language_info": {
   "codemirror_mode": {
    "name": "ipython",
    "version": 3
   },
   "file_extension": ".py",
   "mimetype": "text/x-python",
   "name": "python",
   "nbconvert_exporter": "python",
   "pygments_lexer": "ipython3",
   "version": "3.10.9"
  },
  "toc": {
   "base_numbering": 1,
   "nav_menu": {},
   "number_sections": true,
   "sideBar": true,
   "skip_h1_title": true,
   "title_cell": "Table of Contents",
   "title_sidebar": "Contents",
   "toc_cell": false,
   "toc_position": {
    "height": "calc(100% - 180px)",
    "left": "10px",
    "top": "150px",
    "width": "224.833px"
   },
   "toc_section_display": true,
   "toc_window_display": true
  }
 },
 "nbformat": 4,
 "nbformat_minor": 2
}
