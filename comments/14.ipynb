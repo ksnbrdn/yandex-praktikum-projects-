{
 "cells": [
  {
   "cell_type": "markdown",
   "metadata": {
    "toc": true
   },
   "source": [
    "<h1>Содержание<span class=\"tocSkip\"></span></h1>\n",
    "<div class=\"toc\"><ul class=\"toc-item\"><li><span><a href=\"#Изучение-файла-с-данными\" data-toc-modified-id=\"Изучение-файла-с-данными-1\"><span class=\"toc-item-num\">1&nbsp;&nbsp;</span>Изучение файла с данными</a></span></li><li><span><a href=\"#Предобработка-данных\" data-toc-modified-id=\"Предобработка-данных-2\"><span class=\"toc-item-num\">2&nbsp;&nbsp;</span>Предобработка данных</a></span></li><li><span><a href=\"#Обучение\" data-toc-modified-id=\"Обучение-3\"><span class=\"toc-item-num\">3&nbsp;&nbsp;</span>Обучение</a></span><ul class=\"toc-item\"><li><span><a href=\"#LogisticRegression\" data-toc-modified-id=\"LogisticRegression-3.1\"><span class=\"toc-item-num\">3.1&nbsp;&nbsp;</span>LogisticRegression</a></span></li><li><span><a href=\"#RandomForestClassifier\" data-toc-modified-id=\"RandomForestClassifier-3.2\"><span class=\"toc-item-num\">3.2&nbsp;&nbsp;</span>RandomForestClassifier</a></span></li><li><span><a href=\"#LightGBMClassifier\" data-toc-modified-id=\"LightGBMClassifier-3.3\"><span class=\"toc-item-num\">3.3&nbsp;&nbsp;</span>LightGBMClassifier</a></span></li><li><span><a href=\"#CatBoostClassifier\" data-toc-modified-id=\"CatBoostClassifier-3.4\"><span class=\"toc-item-num\">3.4&nbsp;&nbsp;</span>CatBoostClassifier</a></span></li></ul></li><li><span><a href=\"#Тестирование\" data-toc-modified-id=\"Тестирование-4\"><span class=\"toc-item-num\">4&nbsp;&nbsp;</span>Тестирование</a></span></li><li><span><a href=\"#Выводы\" data-toc-modified-id=\"Выводы-5\"><span class=\"toc-item-num\">5&nbsp;&nbsp;</span>Выводы</a></span></li><li><span><a href=\"#Чек-лист-проверки\" data-toc-modified-id=\"Чек-лист-проверки-6\"><span class=\"toc-item-num\">6&nbsp;&nbsp;</span>Чек-лист проверки</a></span></li></ul></div>"
   ]
  },
  {
   "cell_type": "markdown",
   "metadata": {},
   "source": [
    "# Проект для «Викишоп»"
   ]
  },
  {
   "cell_type": "markdown",
   "metadata": {},
   "source": [
    "<b>Описание проекта</b>  "
   ]
  },
  {
   "cell_type": "markdown",
   "metadata": {},
   "source": [
    "Интернет-магазин «Викишоп» запускает новый сервис. Теперь пользователи могут редактировать и дополнять описания товаров, как в вики-сообществах. То есть клиенты предлагают свои правки и комментируют изменения других. Магазину нужен инструмент, который будет искать токсичные комментарии и отправлять их на модерацию. \n",
    "\n",
    "Требуется обучить модель классифицировать комментарии на позитивные и негативные. В нашем распоряжении набор данных с разметкой о токсичности правок.\n",
    "\n",
    "Значение метрики *F1* на должно быть не меньше 0.75. \n",
    "\n",
    "**Нам надо:**\n",
    "\n",
    "1. Загрузить и подготовить данные.\n",
    "2. Обучить разные модели. \n",
    "3. Сделайть выводы.\n",
    "\n",
    "**Описание данных**\n",
    "\n",
    "Данные находятся в файле `toxic_comments.csv`. Столбец *text* в нём содержит текст комментария, а *toxic* — целевой признак."
   ]
  },
  {
   "cell_type": "markdown",
   "metadata": {},
   "source": [
    "## Изучение файла с данными"
   ]
  },
  {
   "cell_type": "code",
   "execution_count": 1,
   "metadata": {},
   "outputs": [
    {
     "name": "stderr",
     "output_type": "stream",
     "text": [
      "[nltk_data] Downloading package stopwords to\n",
      "[nltk_data]     C:\\Users\\Ksu\\AppData\\Roaming\\nltk_data...\n",
      "[nltk_data]   Package stopwords is already up-to-date!\n",
      "[nltk_data] Downloading package wordnet to\n",
      "[nltk_data]     C:\\Users\\Ksu\\AppData\\Roaming\\nltk_data...\n",
      "[nltk_data]   Package wordnet is already up-to-date!\n",
      "[nltk_data] Downloading package omw-1.4 to\n",
      "[nltk_data]     C:\\Users\\Ksu\\AppData\\Roaming\\nltk_data...\n",
      "[nltk_data]   Package omw-1.4 is already up-to-date!\n"
     ]
    }
   ],
   "source": [
    "# Импортируем библиотеки\n",
    "import warnings\n",
    "\n",
    "import numpy as np\n",
    "import pandas as pd\n",
    "import matplotlib.pyplot as plt\n",
    "import re\n",
    "import nltk\n",
    "\n",
    "from nltk.tokenize import word_tokenize\n",
    "from nltk.stem import WordNetLemmatizer\n",
    "from nltk.corpus import wordnet, stopwords\n",
    "from nltk.tag import pos_tag\n",
    "nltk.download('stopwords')\n",
    "nltk.download('wordnet')\n",
    "nltk.download('omw-1.4')\n",
    "\n",
    "from wordcloud import WordCloud\n",
    "from PIL import Image\n",
    "\n",
    "from sklearn.feature_extraction.text import TfidfVectorizer                         \n",
    "from sklearn.linear_model import LogisticRegression\n",
    "from sklearn.ensemble import RandomForestClassifier\n",
    "from lightgbm import LGBMClassifier\n",
    "\n",
    "from sklearn.pipeline import Pipeline\n",
    "from sklearn.model_selection import (RandomizedSearchCV,\n",
    "                                     TimeSeriesSplit,\n",
    "                                     train_test_split)\n",
    "from sklearn.metrics import f1_score\n",
    "\n",
    "from tqdm import notebook\n",
    "from tqdm.notebook import tqdm\n",
    "tqdm.pandas()\n",
    "\n",
    "warnings.filterwarnings('ignore')"
   ]
  },
  {
   "cell_type": "code",
   "execution_count": 2,
   "metadata": {},
   "outputs": [],
   "source": [
    "# загружаем и выводим данные\n",
    "data = pd.read_csv(r'https://code.s3.yandex.net/datasets/toxic_comments.csv', index_col=0)"
   ]
  },
  {
   "cell_type": "code",
   "execution_count": 3,
   "metadata": {},
   "outputs": [
    {
     "name": "stdout",
     "output_type": "stream",
     "text": [
      "<class 'pandas.core.frame.DataFrame'>\n",
      "Int64Index: 159292 entries, 0 to 159450\n",
      "Data columns (total 2 columns):\n",
      " #   Column  Non-Null Count   Dtype \n",
      "---  ------  --------------   ----- \n",
      " 0   text    159292 non-null  object\n",
      " 1   toxic   159292 non-null  int64 \n",
      "dtypes: int64(1), object(1)\n",
      "memory usage: 3.6+ MB\n"
     ]
    },
    {
     "data": {
      "text/plain": [
       "None"
      ]
     },
     "metadata": {},
     "output_type": "display_data"
    },
    {
     "data": {
      "text/html": [
       "<div>\n",
       "<style scoped>\n",
       "    .dataframe tbody tr th:only-of-type {\n",
       "        vertical-align: middle;\n",
       "    }\n",
       "\n",
       "    .dataframe tbody tr th {\n",
       "        vertical-align: top;\n",
       "    }\n",
       "\n",
       "    .dataframe thead th {\n",
       "        text-align: right;\n",
       "    }\n",
       "</style>\n",
       "<table border=\"1\" class=\"dataframe\">\n",
       "  <thead>\n",
       "    <tr style=\"text-align: right;\">\n",
       "      <th></th>\n",
       "      <th>text</th>\n",
       "      <th>toxic</th>\n",
       "    </tr>\n",
       "  </thead>\n",
       "  <tbody>\n",
       "    <tr>\n",
       "      <th>58943</th>\n",
       "      <td>Jack and Jill \\nEric, thank you for your contr...</td>\n",
       "      <td>1</td>\n",
       "    </tr>\n",
       "    <tr>\n",
       "      <th>89941</th>\n",
       "      <td>Well I like to stay true to my userboxes !). I...</td>\n",
       "      <td>0</td>\n",
       "    </tr>\n",
       "    <tr>\n",
       "      <th>24738</th>\n",
       "      <td>\"In addition, your IP address will no longer b...</td>\n",
       "      <td>0</td>\n",
       "    </tr>\n",
       "    <tr>\n",
       "      <th>13765</th>\n",
       "      <td>\"\\n\\nFound something already- Livingstone clai...</td>\n",
       "      <td>0</td>\n",
       "    </tr>\n",
       "    <tr>\n",
       "      <th>101063</th>\n",
       "      <td>\"\\n\\nMEAN SPRITED DUMB ASSES\\nI HOPE YOU GET T...</td>\n",
       "      <td>1</td>\n",
       "    </tr>\n",
       "    <tr>\n",
       "      <th>69125</th>\n",
       "      <td>It was an old convo \\n\\nThat conversation is p...</td>\n",
       "      <td>1</td>\n",
       "    </tr>\n",
       "    <tr>\n",
       "      <th>100894</th>\n",
       "      <td>is gay because he is against anonymous</td>\n",
       "      <td>1</td>\n",
       "    </tr>\n",
       "    <tr>\n",
       "      <th>9420</th>\n",
       "      <td>I don't know if you are aware but sending e-ma...</td>\n",
       "      <td>0</td>\n",
       "    </tr>\n",
       "    <tr>\n",
       "      <th>93268</th>\n",
       "      <td>\"\\nNot to get off topic (or on topic), but I *...</td>\n",
       "      <td>0</td>\n",
       "    </tr>\n",
       "    <tr>\n",
       "      <th>85351</th>\n",
       "      <td>Yes, England and Wales has something like it, ...</td>\n",
       "      <td>0</td>\n",
       "    </tr>\n",
       "  </tbody>\n",
       "</table>\n",
       "</div>"
      ],
      "text/plain": [
       "                                                     text  toxic\n",
       "58943   Jack and Jill \\nEric, thank you for your contr...      1\n",
       "89941   Well I like to stay true to my userboxes !). I...      0\n",
       "24738   \"In addition, your IP address will no longer b...      0\n",
       "13765   \"\\n\\nFound something already- Livingstone clai...      0\n",
       "101063  \"\\n\\nMEAN SPRITED DUMB ASSES\\nI HOPE YOU GET T...      1\n",
       "69125   It was an old convo \\n\\nThat conversation is p...      1\n",
       "100894             is gay because he is against anonymous      1\n",
       "9420    I don't know if you are aware but sending e-ma...      0\n",
       "93268   \"\\nNot to get off topic (or on topic), but I *...      0\n",
       "85351   Yes, England and Wales has something like it, ...      0"
      ]
     },
     "metadata": {},
     "output_type": "display_data"
    },
    {
     "data": {
      "text/html": [
       "<div>\n",
       "<style scoped>\n",
       "    .dataframe tbody tr th:only-of-type {\n",
       "        vertical-align: middle;\n",
       "    }\n",
       "\n",
       "    .dataframe tbody tr th {\n",
       "        vertical-align: top;\n",
       "    }\n",
       "\n",
       "    .dataframe thead th {\n",
       "        text-align: right;\n",
       "    }\n",
       "</style>\n",
       "<table border=\"1\" class=\"dataframe\">\n",
       "  <thead>\n",
       "    <tr style=\"text-align: right;\">\n",
       "      <th></th>\n",
       "      <th>text</th>\n",
       "      <th>toxic</th>\n",
       "    </tr>\n",
       "  </thead>\n",
       "  <tbody>\n",
       "    <tr>\n",
       "      <th>count</th>\n",
       "      <td>159292</td>\n",
       "      <td>159292.0</td>\n",
       "    </tr>\n",
       "    <tr>\n",
       "      <th>unique</th>\n",
       "      <td>159292</td>\n",
       "      <td>NaN</td>\n",
       "    </tr>\n",
       "    <tr>\n",
       "      <th>top</th>\n",
       "      <td>Explanation\\nWhy the edits made under my usern...</td>\n",
       "      <td>NaN</td>\n",
       "    </tr>\n",
       "    <tr>\n",
       "      <th>freq</th>\n",
       "      <td>1</td>\n",
       "      <td>NaN</td>\n",
       "    </tr>\n",
       "    <tr>\n",
       "      <th>mean</th>\n",
       "      <td>NaN</td>\n",
       "      <td>0.1</td>\n",
       "    </tr>\n",
       "    <tr>\n",
       "      <th>std</th>\n",
       "      <td>NaN</td>\n",
       "      <td>0.3</td>\n",
       "    </tr>\n",
       "    <tr>\n",
       "      <th>min</th>\n",
       "      <td>NaN</td>\n",
       "      <td>0.0</td>\n",
       "    </tr>\n",
       "    <tr>\n",
       "      <th>25%</th>\n",
       "      <td>NaN</td>\n",
       "      <td>0.0</td>\n",
       "    </tr>\n",
       "    <tr>\n",
       "      <th>50%</th>\n",
       "      <td>NaN</td>\n",
       "      <td>0.0</td>\n",
       "    </tr>\n",
       "    <tr>\n",
       "      <th>75%</th>\n",
       "      <td>NaN</td>\n",
       "      <td>0.0</td>\n",
       "    </tr>\n",
       "    <tr>\n",
       "      <th>max</th>\n",
       "      <td>NaN</td>\n",
       "      <td>1.0</td>\n",
       "    </tr>\n",
       "  </tbody>\n",
       "</table>\n",
       "</div>"
      ],
      "text/plain": [
       "                                                     text     toxic\n",
       "count                                              159292  159292.0\n",
       "unique                                             159292       NaN\n",
       "top     Explanation\\nWhy the edits made under my usern...       NaN\n",
       "freq                                                    1       NaN\n",
       "mean                                                  NaN       0.1\n",
       "std                                                   NaN       0.3\n",
       "min                                                   NaN       0.0\n",
       "25%                                                   NaN       0.0\n",
       "50%                                                   NaN       0.0\n",
       "75%                                                   NaN       0.0\n",
       "max                                                   NaN       1.0"
      ]
     },
     "metadata": {},
     "output_type": "display_data"
    },
    {
     "data": {
      "text/plain": [
       "text     0\n",
       "toxic    0\n",
       "dtype: int64"
      ]
     },
     "metadata": {},
     "output_type": "display_data"
    },
    {
     "data": {
      "text/plain": [
       "(159292, 2)"
      ]
     },
     "metadata": {},
     "output_type": "display_data"
    },
    {
     "name": "stdout",
     "output_type": "stream",
     "text": [
      "Количество дупликатов: 0\n"
     ]
    }
   ],
   "source": [
    "# Изучим общую информацию о полученном датафрейме\n",
    "display(data.info(), data.sample(10), \n",
    "        data.describe(include='all').round(2),        \n",
    "        data.isna().sum(), data.shape)                                    \n",
    "print('Количество дупликатов:', data.duplicated().sum()) "
   ]
  },
  {
   "cell_type": "code",
   "execution_count": 4,
   "metadata": {},
   "outputs": [
    {
     "data": {
      "image/png": "[encoded data removed]",
      "text/plain": [
       "<Figure size 640x480 with 1 Axes>"
      ]
     },
     "metadata": {},
     "output_type": "display_data"
    }
   ],
   "source": [
    "# Построим график для столбца 'toxic'\n",
    "data['toxic'].value_counts().plot(kind='bar', color=['pink', 'green']);"
   ]
  },
  {
   "cell_type": "code",
   "execution_count": 5,
   "metadata": {},
   "outputs": [
    {
     "data": {
      "text/plain": [
       "0    89.84\n",
       "1    10.16\n",
       "Name: toxic, dtype: float64"
      ]
     },
     "execution_count": 5,
     "metadata": {},
     "output_type": "execute_result"
    }
   ],
   "source": [
    "# Получим количество каждого значения для столбца 'toxic' в %\n",
    "round(data['toxic'].value_counts(normalize=True)*100, 2)"
   ]
  },
  {
   "cell_type": "markdown",
   "metadata": {},
   "source": [
    "В таблице 2 столбца и 159292 строк. Пропуски и явные дупликаты отсутствуют. В нашей таблице позитивных записей около 90% , токсичных чуть больше 10%. Можно сказать, что имеется дисбаланс данных."
   ]
  },
  {
   "cell_type": "markdown",
   "metadata": {},
   "source": [
    "## Предобработка данных"
   ]
  },
  {
   "cell_type": "markdown",
   "metadata": {},
   "source": [
    "В текстах использованы как нижний, так и верхний регистры. Приведем тексты к нижнему регистру."
   ]
  },
  {
   "cell_type": "code",
   "execution_count": 6,
   "metadata": {},
   "outputs": [],
   "source": [
    "data['text'] = data['text'].apply(lambda x: x.lower())"
   ]
  },
  {
   "cell_type": "markdown",
   "metadata": {},
   "source": [
    "Предобработаем записи в столбце 'text'. Упростим их: разобьем текст на токены, удалим стоп слова и приведем слова к начальной форме. "
   ]
  },
  {
   "cell_type": "code",
   "execution_count": 7,
   "metadata": {},
   "outputs": [],
   "source": [
    "def get_wordnet_pos_func(word):\n",
    "    tag = pos_tag([word])[0][1][0].upper()\n",
    "    tag_dict = {\"J\": wordnet.ADJ,\n",
    "                \"N\": wordnet.NOUN,\n",
    "                \"V\": wordnet.VERB,\n",
    "                \"R\": wordnet.ADV}\n",
    "\n",
    "    return tag_dict.get(tag, wordnet.NOUN)"
   ]
  },
  {
   "cell_type": "code",
   "execution_count": 8,
   "metadata": {},
   "outputs": [],
   "source": [
    "stop_words = set(stopwords.words('english'))\n",
    "lemmatizer = WordNetLemmatizer()\n",
    "\n",
    "# Создадим функцию обработки текстов\n",
    "def data_preprocessing(text):\n",
    "    # Оставим только слова\n",
    "    text =  re.sub('[^A-Za-z0-9]+', ' ', text) \n",
    "    # Конвертируем тексты в токены\n",
    "    tokens = word_tokenize(text) \n",
    "    # Убираем стоп слова\n",
    "    text = [word for word in tokens if word not in stop_words] \n",
    "    # Лемматизируем текст\n",
    "    text = [lemmatizer.lemmatize(word, get_wordnet_pos_func(word)) for word in tokens]\n",
    "    # Объединим слова в обработанных текстах\n",
    "    text = ' '.join(text)\n",
    "    \n",
    "    return text"
   ]
  },
  {
   "cell_type": "code",
   "execution_count": 9,
   "metadata": {},
   "outputs": [
    {
     "data": {
      "application/vnd.jupyter.widget-view+json": {
       "model_id": "cb2fde424eac43ccab9df4ee9c0f6c9f",
       "version_major": 2,
       "version_minor": 0
      },
      "text/plain": [
       "  0%|          | 0/159292 [00:00<?, ?it/s]"
      ]
     },
     "metadata": {},
     "output_type": "display_data"
    }
   ],
   "source": [
    "# Применим функцию\n",
    "data['text'] = data['text'].progress_apply(lambda text: data_preprocessing(text))"
   ]
  },
  {
   "cell_type": "code",
   "execution_count": 10,
   "metadata": {
    "scrolled": true
   },
   "outputs": [
    {
     "data": {
      "text/html": [
       "<div>\n",
       "<style scoped>\n",
       "    .dataframe tbody tr th:only-of-type {\n",
       "        vertical-align: middle;\n",
       "    }\n",
       "\n",
       "    .dataframe tbody tr th {\n",
       "        vertical-align: top;\n",
       "    }\n",
       "\n",
       "    .dataframe thead th {\n",
       "        text-align: right;\n",
       "    }\n",
       "</style>\n",
       "<table border=\"1\" class=\"dataframe\">\n",
       "  <thead>\n",
       "    <tr style=\"text-align: right;\">\n",
       "      <th></th>\n",
       "      <th>text</th>\n",
       "      <th>toxic</th>\n",
       "    </tr>\n",
       "  </thead>\n",
       "  <tbody>\n",
       "    <tr>\n",
       "      <th>0</th>\n",
       "      <td>explanation why the edits make under my userna...</td>\n",
       "      <td>0</td>\n",
       "    </tr>\n",
       "    <tr>\n",
       "      <th>1</th>\n",
       "      <td>d aww he match this background colour i m seem...</td>\n",
       "      <td>0</td>\n",
       "    </tr>\n",
       "    <tr>\n",
       "      <th>2</th>\n",
       "      <td>hey man i m really not try to edit war it s ju...</td>\n",
       "      <td>0</td>\n",
       "    </tr>\n",
       "    <tr>\n",
       "      <th>3</th>\n",
       "      <td>more i can t make any real suggestion on impro...</td>\n",
       "      <td>0</td>\n",
       "    </tr>\n",
       "    <tr>\n",
       "      <th>4</th>\n",
       "      <td>you sir be my hero any chance you remember wha...</td>\n",
       "      <td>0</td>\n",
       "    </tr>\n",
       "  </tbody>\n",
       "</table>\n",
       "</div>"
      ],
      "text/plain": [
       "                                                text  toxic\n",
       "0  explanation why the edits make under my userna...      0\n",
       "1  d aww he match this background colour i m seem...      0\n",
       "2  hey man i m really not try to edit war it s ju...      0\n",
       "3  more i can t make any real suggestion on impro...      0\n",
       "4  you sir be my hero any chance you remember wha...      0"
      ]
     },
     "metadata": {},
     "output_type": "display_data"
    }
   ],
   "source": [
    "# Проверим изменения\n",
    "display(data.head())"
   ]
  },
  {
   "cell_type": "markdown",
   "metadata": {},
   "source": [
    "Построим облако слов"
   ]
  },
  {
   "cell_type": "code",
   "execution_count": 11,
   "metadata": {},
   "outputs": [],
   "source": [
    "# Объединим слова в обработанных текстах\n",
    "text_raw = ' '.join(data['text'])"
   ]
  },
  {
   "cell_type": "code",
   "execution_count": 12,
   "metadata": {},
   "outputs": [],
   "source": [
    "# Функция для визуализации облака слов\n",
    "def plot_cloud(wordcloud):\n",
    "    plt.figure(figsize=(10, 8))\n",
    "    plt.imshow(wordcloud) \n",
    "    plt.axis(\"off\")\n",
    "    "
   ]
  },
  {
   "cell_type": "code",
   "execution_count": 13,
   "metadata": {},
   "outputs": [
    {
     "data": {
      "image/png": "[encoded data removed]",
      "text/plain": [
       "<Figure size 1000x800 with 1 Axes>"
      ]
     },
     "metadata": {},
     "output_type": "display_data"
    }
   ],
   "source": [
    "# Превращаем картинку в маску\n",
    "mask = np.array(Image.open(r'C:\\Users\\Ksu\\Desktop\\проекты\\comment.png'))\n",
    "\n",
    "# Генерируем облако слов\n",
    "wordcloud = WordCloud(width = 500, \n",
    "                      height = 100, \n",
    "                      random_state=1, \n",
    "                      background_color='white', \n",
    "                      colormap='Set2', \n",
    "                      collocations=False, \n",
    "                      stopwords = stop_words,\n",
    "                      mask=mask).generate(text_raw)\n",
    "                      \n",
    "# Выводим его на экран\n",
    "plot_cloud(wordcloud)"
   ]
  },
  {
   "cell_type": "markdown",
   "metadata": {},
   "source": [
    "На этапе предобработки данных мы привели записи в столбце 'text' к нижнему регистру и подготовили их для дальнейшего обучения моделей."
   ]
  },
  {
   "cell_type": "markdown",
   "metadata": {},
   "source": [
    "## Обучение"
   ]
  },
  {
   "cell_type": "code",
   "execution_count": 14,
   "metadata": {},
   "outputs": [],
   "source": [
    "# Разобьем данные data на признаки и целевой признак, сохраним в отдельных переменных\n",
    "features = data.drop('toxic', axis=1)\n",
    "target = data.toxic"
   ]
  },
  {
   "cell_type": "code",
   "execution_count": 15,
   "metadata": {},
   "outputs": [],
   "source": [
    "# Разобьем данные на тренировочную и тестовую выборки\n",
    "X_train, X_test, y_train, y_test = train_test_split(features, target, test_size=0.25, random_state=42, stratify=target) "
   ]
  },
  {
   "cell_type": "code",
   "execution_count": 18,
   "metadata": {},
   "outputs": [
    {
     "name": "stdout",
     "output_type": "stream",
     "text": [
      "(119469, 1)\n",
      "(39823, 1)\n",
      "(119469,)\n",
      "(39823,)\n"
     ]
    }
   ],
   "source": [
    "# Проверим размеры выборок\n",
    "print(X_train.shape)\n",
    "print(X_test.shape)\n",
    "print(y_train.shape)\n",
    "print(y_test.shape)"
   ]
  },
  {
   "cell_type": "code",
   "execution_count": 28,
   "metadata": {},
   "outputs": [],
   "source": [
    "features_train = X_train.text\n",
    "features_test = X_test.text"
   ]
  },
  {
   "cell_type": "markdown",
   "metadata": {},
   "source": [
    "Для обучения моделей применим следующие библиотеки: LogisticRegression, RandomForestClassifier и LightGBMClassifier."
   ]
  },
  {
   "cell_type": "markdown",
   "metadata": {},
   "source": [
    "### LogisticRegression"
   ]
  },
  {
   "cell_type": "code",
   "execution_count": 35,
   "metadata": {
    "scrolled": true
   },
   "outputs": [
    {
     "name": "stdout",
     "output_type": "stream",
     "text": [
      "Fitting 5 folds for each of 2 candidates, totalling 10 fits\n",
      "CPU times: total: 7.53 s\n",
      "Wall time: 21.6 s\n"
     ]
    },
    {
     "data": {
      "text/html": [
       "<style>#sk-container-id-4 {color: black;background-color: white;}#sk-container-id-4 pre{padding: 0;}#sk-container-id-4 div.sk-toggleable {background-color: white;}#sk-container-id-4 label.sk-toggleable__label {cursor: pointer;display: block;width: 100%;margin-bottom: 0;padding: 0.3em;box-sizing: border-box;text-align: center;}#sk-container-id-4 label.sk-toggleable__label-arrow:before {content: \"▸\";float: left;margin-right: 0.25em;color: #696969;}#sk-container-id-4 label.sk-toggleable__label-arrow:hover:before {color: black;}#sk-container-id-4 div.sk-estimator:hover label.sk-toggleable__label-arrow:before {color: black;}#sk-container-id-4 div.sk-toggleable__content {max-height: 0;max-width: 0;overflow: hidden;text-align: left;background-color: #f0f8ff;}#sk-container-id-4 div.sk-toggleable__content pre {margin: 0.2em;color: black;border-radius: 0.25em;background-color: #f0f8ff;}#sk-container-id-4 input.sk-toggleable__control:checked~div.sk-toggleable__content {max-height: 200px;max-width: 100%;overflow: auto;}#sk-container-id-4 input.sk-toggleable__control:checked~label.sk-toggleable__label-arrow:before {content: \"▾\";}#sk-container-id-4 div.sk-estimator input.sk-toggleable__control:checked~label.sk-toggleable__label {background-color: #d4ebff;}#sk-container-id-4 div.sk-label input.sk-toggleable__control:checked~label.sk-toggleable__label {background-color: #d4ebff;}#sk-container-id-4 input.sk-hidden--visually {border: 0;clip: rect(1px 1px 1px 1px);clip: rect(1px, 1px, 1px, 1px);height: 1px;margin: -1px;overflow: hidden;padding: 0;position: absolute;width: 1px;}#sk-container-id-4 div.sk-estimator {font-family: monospace;background-color: #f0f8ff;border: 1px dotted black;border-radius: 0.25em;box-sizing: border-box;margin-bottom: 0.5em;}#sk-container-id-4 div.sk-estimator:hover {background-color: #d4ebff;}#sk-container-id-4 div.sk-parallel-item::after {content: \"\";width: 100%;border-bottom: 1px solid gray;flex-grow: 1;}#sk-container-id-4 div.sk-label:hover label.sk-toggleable__label {background-color: #d4ebff;}#sk-container-id-4 div.sk-serial::before {content: \"\";position: absolute;border-left: 1px solid gray;box-sizing: border-box;top: 0;bottom: 0;left: 50%;z-index: 0;}#sk-container-id-4 div.sk-serial {display: flex;flex-direction: column;align-items: center;background-color: white;padding-right: 0.2em;padding-left: 0.2em;position: relative;}#sk-container-id-4 div.sk-item {position: relative;z-index: 1;}#sk-container-id-4 div.sk-parallel {display: flex;align-items: stretch;justify-content: center;background-color: white;position: relative;}#sk-container-id-4 div.sk-item::before, #sk-container-id-4 div.sk-parallel-item::before {content: \"\";position: absolute;border-left: 1px solid gray;box-sizing: border-box;top: 0;bottom: 0;left: 50%;z-index: -1;}#sk-container-id-4 div.sk-parallel-item {display: flex;flex-direction: column;z-index: 1;position: relative;background-color: white;}#sk-container-id-4 div.sk-parallel-item:first-child::after {align-self: flex-end;width: 50%;}#sk-container-id-4 div.sk-parallel-item:last-child::after {align-self: flex-start;width: 50%;}#sk-container-id-4 div.sk-parallel-item:only-child::after {width: 0;}#sk-container-id-4 div.sk-dashed-wrapped {border: 1px dashed gray;margin: 0 0.4em 0.5em 0.4em;box-sizing: border-box;padding-bottom: 0.4em;background-color: white;}#sk-container-id-4 div.sk-label label {font-family: monospace;font-weight: bold;display: inline-block;line-height: 1.2em;}#sk-container-id-4 div.sk-label-container {text-align: center;}#sk-container-id-4 div.sk-container {/* jupyter's `normalize.less` sets `[hidden] { display: none; }` but bootstrap.min.css set `[hidden] { display: none !important; }` so we also need the `!important` here to be able to override the default hidden behavior on the sphinx rendered scikit-learn.org. See: https://github.com/scikit-learn/scikit-learn/issues/21755 */display: inline-block !important;position: relative;}#sk-container-id-4 div.sk-text-repr-fallback {display: none;}</style><div id=\"sk-container-id-4\" class=\"sk-top-container\"><div class=\"sk-text-repr-fallback\"><pre>RandomizedSearchCV(cv=5,\n",
       "                   estimator=Pipeline(steps=[(&#x27;tfidf&#x27;,\n",
       "                                              TfidfVectorizer(stop_words=&#x27;english&#x27;)),\n",
       "                                             (&#x27;logisticregression&#x27;,\n",
       "                                              LogisticRegression(class_weight=&#x27;balanced&#x27;,\n",
       "                                                                 random_state=42))]),\n",
       "                   n_iter=20, n_jobs=-1,\n",
       "                   param_distributions={&#x27;logisticregression__solver&#x27;: [&#x27;lbfgs&#x27;,\n",
       "                                                                       &#x27;liblinear&#x27;]},\n",
       "                   random_state=42, scoring=&#x27;f1&#x27;, verbose=10)</pre><b>In a Jupyter environment, please rerun this cell to show the HTML representation or trust the notebook. <br />On GitHub, the HTML representation is unable to render, please try loading this page with nbviewer.org.</b></div><div class=\"sk-container\" hidden><div class=\"sk-item sk-dashed-wrapped\"><div class=\"sk-label-container\"><div class=\"sk-label sk-toggleable\"><input class=\"sk-toggleable__control sk-hidden--visually\" id=\"sk-estimator-id-13\" type=\"checkbox\" ><label for=\"sk-estimator-id-13\" class=\"sk-toggleable__label sk-toggleable__label-arrow\">RandomizedSearchCV</label><div class=\"sk-toggleable__content\"><pre>RandomizedSearchCV(cv=5,\n",
       "                   estimator=Pipeline(steps=[(&#x27;tfidf&#x27;,\n",
       "                                              TfidfVectorizer(stop_words=&#x27;english&#x27;)),\n",
       "                                             (&#x27;logisticregression&#x27;,\n",
       "                                              LogisticRegression(class_weight=&#x27;balanced&#x27;,\n",
       "                                                                 random_state=42))]),\n",
       "                   n_iter=20, n_jobs=-1,\n",
       "                   param_distributions={&#x27;logisticregression__solver&#x27;: [&#x27;lbfgs&#x27;,\n",
       "                                                                       &#x27;liblinear&#x27;]},\n",
       "                   random_state=42, scoring=&#x27;f1&#x27;, verbose=10)</pre></div></div></div><div class=\"sk-parallel\"><div class=\"sk-parallel-item\"><div class=\"sk-item\"><div class=\"sk-label-container\"><div class=\"sk-label sk-toggleable\"><input class=\"sk-toggleable__control sk-hidden--visually\" id=\"sk-estimator-id-14\" type=\"checkbox\" ><label for=\"sk-estimator-id-14\" class=\"sk-toggleable__label sk-toggleable__label-arrow\">estimator: Pipeline</label><div class=\"sk-toggleable__content\"><pre>Pipeline(steps=[(&#x27;tfidf&#x27;, TfidfVectorizer(stop_words=&#x27;english&#x27;)),\n",
       "                (&#x27;logisticregression&#x27;,\n",
       "                 LogisticRegression(class_weight=&#x27;balanced&#x27;, random_state=42))])</pre></div></div></div><div class=\"sk-serial\"><div class=\"sk-item\"><div class=\"sk-serial\"><div class=\"sk-item\"><div class=\"sk-estimator sk-toggleable\"><input class=\"sk-toggleable__control sk-hidden--visually\" id=\"sk-estimator-id-15\" type=\"checkbox\" ><label for=\"sk-estimator-id-15\" class=\"sk-toggleable__label sk-toggleable__label-arrow\">TfidfVectorizer</label><div class=\"sk-toggleable__content\"><pre>TfidfVectorizer(stop_words=&#x27;english&#x27;)</pre></div></div></div><div class=\"sk-item\"><div class=\"sk-estimator sk-toggleable\"><input class=\"sk-toggleable__control sk-hidden--visually\" id=\"sk-estimator-id-16\" type=\"checkbox\" ><label for=\"sk-estimator-id-16\" class=\"sk-toggleable__label sk-toggleable__label-arrow\">LogisticRegression</label><div class=\"sk-toggleable__content\"><pre>LogisticRegression(class_weight=&#x27;balanced&#x27;, random_state=42)</pre></div></div></div></div></div></div></div></div></div></div></div></div>"
      ],
      "text/plain": [
       "RandomizedSearchCV(cv=5,\n",
       "                   estimator=Pipeline(steps=[('tfidf',\n",
       "                                              TfidfVectorizer(stop_words='english')),\n",
       "                                             ('logisticregression',\n",
       "                                              LogisticRegression(class_weight='balanced',\n",
       "                                                                 random_state=42))]),\n",
       "                   n_iter=20, n_jobs=-1,\n",
       "                   param_distributions={'logisticregression__solver': ['lbfgs',\n",
       "                                                                       'liblinear']},\n",
       "                   random_state=42, scoring='f1', verbose=10)"
      ]
     },
     "execution_count": 35,
     "metadata": {},
     "output_type": "execute_result"
    }
   ],
   "source": [
    "%%time\n",
    "model_lr = LogisticRegression(class_weight='balanced', random_state=42)\n",
    "\n",
    "# Создадим пайплайн\n",
    "pipeline_lr = Pipeline([('tfidf', TfidfVectorizer(stop_words='english')),\n",
    "                       ('logisticregression', model_lr)])\n",
    "\n",
    "# Cловарь с гиперпараметрами и значениями, которые хотим перебрать\n",
    "param_grid_lr = {'logisticregression__solver':['lbfgs', 'liblinear']}\n",
    "\n",
    "# Будем использовать RandomizedSearchCV при переборе комбинаций гиперпараметров\n",
    "random_cv_lr = RandomizedSearchCV(estimator=pipeline_lr, \n",
    "                           param_distributions=param_grid_lr, \n",
    "                           scoring='f1',\n",
    "                           cv=5,\n",
    "                           n_iter=20,\n",
    "                           n_jobs=-1, \n",
    "                           random_state=42,\n",
    "                           verbose=10)\n",
    "\n",
    "random_cv_lr.fit(features_train, y_train)"
   ]
  },
  {
   "cell_type": "code",
   "execution_count": 40,
   "metadata": {},
   "outputs": [
    {
     "name": "stdout",
     "output_type": "stream",
     "text": [
      "best_score: 0.74\n",
      "best_params: {'logisticregression__solver': 'lbfgs'}\n"
     ]
    }
   ],
   "source": [
    "random_cv_lr_best_score = random_cv_lr.best_score_.round(2) \n",
    "random_cv_lr_best_params = random_cv_lr.best_params_\n",
    "\n",
    "# Лучшее значение метрики F1 \n",
    "print(f'best_score: {random_cv_lr_best_score}')\n",
    "# Лучшие гиперпараметры\n",
    "print(f'best_params: {random_cv_lr_best_params}')"
   ]
  },
  {
   "cell_type": "code",
   "execution_count": 63,
   "metadata": {},
   "outputs": [
    {
     "name": "stdout",
     "output_type": "stream",
     "text": [
      "Метрика F1 на тестовой выборке для модели LogisticRegression составила: 0.75\n"
     ]
    }
   ],
   "source": [
    "# Проверим результаты на тестовой выборке\n",
    "predictions_test_lr = random_cv_lr.predict(features_test)\n",
    "f1_lr = round(f1_score(y_test, predictions_test_lr),2)\n",
    "print('Метрика F1 на тестовой выборке для модели LogisticRegression составила:', f1_lr)"
   ]
  },
  {
   "cell_type": "markdown",
   "metadata": {},
   "source": [
    "### RandomForestClassifier"
   ]
  },
  {
   "cell_type": "code",
   "execution_count": 42,
   "metadata": {
    "scrolled": true
   },
   "outputs": [
    {
     "name": "stdout",
     "output_type": "stream",
     "text": [
      "Fitting 3 folds for each of 10 candidates, totalling 30 fits\n"
     ]
    },
    {
     "data": {
      "text/html": [
       "<style>#sk-container-id-5 {color: black;background-color: white;}#sk-container-id-5 pre{padding: 0;}#sk-container-id-5 div.sk-toggleable {background-color: white;}#sk-container-id-5 label.sk-toggleable__label {cursor: pointer;display: block;width: 100%;margin-bottom: 0;padding: 0.3em;box-sizing: border-box;text-align: center;}#sk-container-id-5 label.sk-toggleable__label-arrow:before {content: \"▸\";float: left;margin-right: 0.25em;color: #696969;}#sk-container-id-5 label.sk-toggleable__label-arrow:hover:before {color: black;}#sk-container-id-5 div.sk-estimator:hover label.sk-toggleable__label-arrow:before {color: black;}#sk-container-id-5 div.sk-toggleable__content {max-height: 0;max-width: 0;overflow: hidden;text-align: left;background-color: #f0f8ff;}#sk-container-id-5 div.sk-toggleable__content pre {margin: 0.2em;color: black;border-radius: 0.25em;background-color: #f0f8ff;}#sk-container-id-5 input.sk-toggleable__control:checked~div.sk-toggleable__content {max-height: 200px;max-width: 100%;overflow: auto;}#sk-container-id-5 input.sk-toggleable__control:checked~label.sk-toggleable__label-arrow:before {content: \"▾\";}#sk-container-id-5 div.sk-estimator input.sk-toggleable__control:checked~label.sk-toggleable__label {background-color: #d4ebff;}#sk-container-id-5 div.sk-label input.sk-toggleable__control:checked~label.sk-toggleable__label {background-color: #d4ebff;}#sk-container-id-5 input.sk-hidden--visually {border: 0;clip: rect(1px 1px 1px 1px);clip: rect(1px, 1px, 1px, 1px);height: 1px;margin: -1px;overflow: hidden;padding: 0;position: absolute;width: 1px;}#sk-container-id-5 div.sk-estimator {font-family: monospace;background-color: #f0f8ff;border: 1px dotted black;border-radius: 0.25em;box-sizing: border-box;margin-bottom: 0.5em;}#sk-container-id-5 div.sk-estimator:hover {background-color: #d4ebff;}#sk-container-id-5 div.sk-parallel-item::after {content: \"\";width: 100%;border-bottom: 1px solid gray;flex-grow: 1;}#sk-container-id-5 div.sk-label:hover label.sk-toggleable__label {background-color: #d4ebff;}#sk-container-id-5 div.sk-serial::before {content: \"\";position: absolute;border-left: 1px solid gray;box-sizing: border-box;top: 0;bottom: 0;left: 50%;z-index: 0;}#sk-container-id-5 div.sk-serial {display: flex;flex-direction: column;align-items: center;background-color: white;padding-right: 0.2em;padding-left: 0.2em;position: relative;}#sk-container-id-5 div.sk-item {position: relative;z-index: 1;}#sk-container-id-5 div.sk-parallel {display: flex;align-items: stretch;justify-content: center;background-color: white;position: relative;}#sk-container-id-5 div.sk-item::before, #sk-container-id-5 div.sk-parallel-item::before {content: \"\";position: absolute;border-left: 1px solid gray;box-sizing: border-box;top: 0;bottom: 0;left: 50%;z-index: -1;}#sk-container-id-5 div.sk-parallel-item {display: flex;flex-direction: column;z-index: 1;position: relative;background-color: white;}#sk-container-id-5 div.sk-parallel-item:first-child::after {align-self: flex-end;width: 50%;}#sk-container-id-5 div.sk-parallel-item:last-child::after {align-self: flex-start;width: 50%;}#sk-container-id-5 div.sk-parallel-item:only-child::after {width: 0;}#sk-container-id-5 div.sk-dashed-wrapped {border: 1px dashed gray;margin: 0 0.4em 0.5em 0.4em;box-sizing: border-box;padding-bottom: 0.4em;background-color: white;}#sk-container-id-5 div.sk-label label {font-family: monospace;font-weight: bold;display: inline-block;line-height: 1.2em;}#sk-container-id-5 div.sk-label-container {text-align: center;}#sk-container-id-5 div.sk-container {/* jupyter's `normalize.less` sets `[hidden] { display: none; }` but bootstrap.min.css set `[hidden] { display: none !important; }` so we also need the `!important` here to be able to override the default hidden behavior on the sphinx rendered scikit-learn.org. See: https://github.com/scikit-learn/scikit-learn/issues/21755 */display: inline-block !important;position: relative;}#sk-container-id-5 div.sk-text-repr-fallback {display: none;}</style><div id=\"sk-container-id-5\" class=\"sk-top-container\"><div class=\"sk-text-repr-fallback\"><pre>RandomizedSearchCV(cv=3,\n",
       "                   estimator=Pipeline(steps=[(&#x27;tfidf&#x27;,\n",
       "                                              TfidfVectorizer(stop_words=&#x27;english&#x27;)),\n",
       "                                             (&#x27;randomforestclassifier&#x27;,\n",
       "                                              RandomForestClassifier(class_weight=&#x27;balanced&#x27;,\n",
       "                                                                     random_state=42))]),\n",
       "                   n_jobs=-1,\n",
       "                   param_distributions={&#x27;randomforestclassifier__max_depth&#x27;: range(2, 15),\n",
       "                                        &#x27;randomforestclassifier__min_samples_leaf&#x27;: (1,\n",
       "                                                                                     2,\n",
       "                                                                                     3,\n",
       "                                                                                     4),\n",
       "                                        &#x27;randomforestclassifier__n_estimators&#x27;: range(2, 51, 2)},\n",
       "                   random_state=42, scoring=&#x27;f1_weighted&#x27;, verbose=10)</pre><b>In a Jupyter environment, please rerun this cell to show the HTML representation or trust the notebook. <br />On GitHub, the HTML representation is unable to render, please try loading this page with nbviewer.org.</b></div><div class=\"sk-container\" hidden><div class=\"sk-item sk-dashed-wrapped\"><div class=\"sk-label-container\"><div class=\"sk-label sk-toggleable\"><input class=\"sk-toggleable__control sk-hidden--visually\" id=\"sk-estimator-id-17\" type=\"checkbox\" ><label for=\"sk-estimator-id-17\" class=\"sk-toggleable__label sk-toggleable__label-arrow\">RandomizedSearchCV</label><div class=\"sk-toggleable__content\"><pre>RandomizedSearchCV(cv=3,\n",
       "                   estimator=Pipeline(steps=[(&#x27;tfidf&#x27;,\n",
       "                                              TfidfVectorizer(stop_words=&#x27;english&#x27;)),\n",
       "                                             (&#x27;randomforestclassifier&#x27;,\n",
       "                                              RandomForestClassifier(class_weight=&#x27;balanced&#x27;,\n",
       "                                                                     random_state=42))]),\n",
       "                   n_jobs=-1,\n",
       "                   param_distributions={&#x27;randomforestclassifier__max_depth&#x27;: range(2, 15),\n",
       "                                        &#x27;randomforestclassifier__min_samples_leaf&#x27;: (1,\n",
       "                                                                                     2,\n",
       "                                                                                     3,\n",
       "                                                                                     4),\n",
       "                                        &#x27;randomforestclassifier__n_estimators&#x27;: range(2, 51, 2)},\n",
       "                   random_state=42, scoring=&#x27;f1_weighted&#x27;, verbose=10)</pre></div></div></div><div class=\"sk-parallel\"><div class=\"sk-parallel-item\"><div class=\"sk-item\"><div class=\"sk-label-container\"><div class=\"sk-label sk-toggleable\"><input class=\"sk-toggleable__control sk-hidden--visually\" id=\"sk-estimator-id-18\" type=\"checkbox\" ><label for=\"sk-estimator-id-18\" class=\"sk-toggleable__label sk-toggleable__label-arrow\">estimator: Pipeline</label><div class=\"sk-toggleable__content\"><pre>Pipeline(steps=[(&#x27;tfidf&#x27;, TfidfVectorizer(stop_words=&#x27;english&#x27;)),\n",
       "                (&#x27;randomforestclassifier&#x27;,\n",
       "                 RandomForestClassifier(class_weight=&#x27;balanced&#x27;,\n",
       "                                        random_state=42))])</pre></div></div></div><div class=\"sk-serial\"><div class=\"sk-item\"><div class=\"sk-serial\"><div class=\"sk-item\"><div class=\"sk-estimator sk-toggleable\"><input class=\"sk-toggleable__control sk-hidden--visually\" id=\"sk-estimator-id-19\" type=\"checkbox\" ><label for=\"sk-estimator-id-19\" class=\"sk-toggleable__label sk-toggleable__label-arrow\">TfidfVectorizer</label><div class=\"sk-toggleable__content\"><pre>TfidfVectorizer(stop_words=&#x27;english&#x27;)</pre></div></div></div><div class=\"sk-item\"><div class=\"sk-estimator sk-toggleable\"><input class=\"sk-toggleable__control sk-hidden--visually\" id=\"sk-estimator-id-20\" type=\"checkbox\" ><label for=\"sk-estimator-id-20\" class=\"sk-toggleable__label sk-toggleable__label-arrow\">RandomForestClassifier</label><div class=\"sk-toggleable__content\"><pre>RandomForestClassifier(class_weight=&#x27;balanced&#x27;, random_state=42)</pre></div></div></div></div></div></div></div></div></div></div></div></div>"
      ],
      "text/plain": [
       "RandomizedSearchCV(cv=3,\n",
       "                   estimator=Pipeline(steps=[('tfidf',\n",
       "                                              TfidfVectorizer(stop_words='english')),\n",
       "                                             ('randomforestclassifier',\n",
       "                                              RandomForestClassifier(class_weight='balanced',\n",
       "                                                                     random_state=42))]),\n",
       "                   n_jobs=-1,\n",
       "                   param_distributions={'randomforestclassifier__max_depth': range(2, 15),\n",
       "                                        'randomforestclassifier__min_samples_leaf': (1,\n",
       "                                                                                     2,\n",
       "                                                                                     3,\n",
       "                                                                                     4),\n",
       "                                        'randomforestclassifier__n_estimators': range(2, 51, 2)},\n",
       "                   random_state=42, scoring='f1_weighted', verbose=10)"
      ]
     },
     "execution_count": 42,
     "metadata": {},
     "output_type": "execute_result"
    }
   ],
   "source": [
    "model_rf = RandomForestClassifier(class_weight='balanced', random_state = 42)\n",
    "\n",
    "# Создадим пайплайн\n",
    "pipeline_rf = Pipeline([('tfidf', TfidfVectorizer(stop_words='english')),\n",
    "                        ('randomforestclassifier', model_rf)])\n",
    "\n",
    "# Cловарь с гиперпараметрами и значениями, которые хотим перебрать\n",
    "param_grid_rf = {'randomforestclassifier__n_estimators': range(2, 51, 2),\n",
    "                 'randomforestclassifier__max_depth': range(2, 15),\n",
    "                 'randomforestclassifier__min_samples_leaf': (1, 2, 3, 4)}\n",
    "                                  \n",
    "# Будем использовать RandomizedSearchCV при переборе комбинаций гиперпараметров\n",
    "random_cv_rf = RandomizedSearchCV(estimator=pipeline_rf, \n",
    "                           param_distributions=param_grid_rf, \n",
    "                           scoring='f1_weighted',\n",
    "                           cv=3,\n",
    "                           n_iter=10,\n",
    "                           n_jobs=-1, \n",
    "                           random_state=42,\n",
    "                           verbose=10)\n",
    "\n",
    "random_cv_rf.fit(features_train, y_train)"
   ]
  },
  {
   "cell_type": "code",
   "execution_count": 43,
   "metadata": {},
   "outputs": [
    {
     "name": "stdout",
     "output_type": "stream",
     "text": [
      "best_score: 0.769\n",
      "best_params: {'randomforestclassifier__n_estimators': 40, 'randomforestclassifier__min_samples_leaf': 4, 'randomforestclassifier__max_depth': 14}\n"
     ]
    }
   ],
   "source": [
    "random_cv_rf_best_score = random_cv_rf.best_score_.round(3) \n",
    "random_cv_rf_best_params = random_cv_rf.best_params_\n",
    "\n",
    "# Лучшее значение метрики F1 \n",
    "print(f'best_score: {random_cv_rf_best_score}')\n",
    "# Лучшие гиперпараметры\n",
    "print(f'best_params: {random_cv_rf_best_params}')"
   ]
  },
  {
   "cell_type": "code",
   "execution_count": 65,
   "metadata": {},
   "outputs": [
    {
     "name": "stdout",
     "output_type": "stream",
     "text": [
      "Метрика F1 на тестовой выборке для модели RandomForestClassifier составила: 0.36\n"
     ]
    }
   ],
   "source": [
    "# Проверим результаты на тестовой выборке\n",
    "predictions_test_rf = random_cv_rf.predict(features_test)\n",
    "f1_rf = round(f1_score(y_test, predictions_test_rf),2)\n",
    "print('Метрика F1 на тестовой выборке для модели RandomForestClassifier составила:', f1_rf)"
   ]
  },
  {
   "cell_type": "markdown",
   "metadata": {},
   "source": [
    "### LightGBMClassifier"
   ]
  },
  {
   "cell_type": "code",
   "execution_count": 46,
   "metadata": {
    "collapsed": true
   },
   "outputs": [
    {
     "name": "stdout",
     "output_type": "stream",
     "text": [
      "Fitting 3 folds for each of 5 candidates, totalling 15 fits\n",
      "[LightGBM] [Info] Number of positive: 12140, number of negative: 107329\n",
      "[LightGBM] [Info] Auto-choosing col-wise multi-threading, the overhead of testing was 0.884632 seconds.\n",
      "You can set `force_col_wise=true` to remove the overhead.\n",
      "[LightGBM] [Info] Total Bins 521376\n",
      "[LightGBM] [Info] Number of data points in the train set: 119469, number of used features: 9825\n",
      "[LightGBM] [Info] [binary:BoostFromScore]: pavg=0.500000 -> initscore=-0.000000\n",
      "[LightGBM] [Info] Start training from score -0.000000\n",
      "[LightGBM] [Warning] No further splits with positive gain, best gain: -inf\n",
      "[LightGBM] [Warning] No further splits with positive gain, best gain: -inf\n",
      "[LightGBM] [Warning] No further splits with positive gain, best gain: -inf\n",
      "[LightGBM] [Warning] No further splits with positive gain, best gain: -inf\n",
      "[LightGBM] [Warning] No further splits with positive gain, best gain: -inf\n",
      "[LightGBM] [Warning] No further splits with positive gain, best gain: -inf\n",
      "[LightGBM] [Warning] No further splits with positive gain, best gain: -inf\n",
      "[LightGBM] [Warning] No further splits with positive gain, best gain: -inf\n",
      "[LightGBM] [Warning] No further splits with positive gain, best gain: -inf\n",
      "[LightGBM] [Warning] No further splits with positive gain, best gain: -inf\n",
      "[LightGBM] [Warning] No further splits with positive gain, best gain: -inf\n",
      "[LightGBM] [Warning] No further splits with positive gain, best gain: -inf\n",
      "[LightGBM] [Warning] No further splits with positive gain, best gain: -inf\n",
      "[LightGBM] [Warning] No further splits with positive gain, best gain: -inf\n",
      "[LightGBM] [Warning] No further splits with positive gain, best gain: -inf\n",
      "[LightGBM] [Warning] No further splits with positive gain, best gain: -inf\n",
      "[LightGBM] [Warning] No further splits with positive gain, best gain: -inf\n",
      "[LightGBM] [Warning] No further splits with positive gain, best gain: -inf\n",
      "[LightGBM] [Warning] No further splits with positive gain, best gain: -inf\n",
      "[LightGBM] [Warning] No further splits with positive gain, best gain: -inf\n",
      "[LightGBM] [Warning] No further splits with positive gain, best gain: -inf\n",
      "[LightGBM] [Warning] No further splits with positive gain, best gain: -inf\n",
      "[LightGBM] [Warning] No further splits with positive gain, best gain: -inf\n",
      "[LightGBM] [Warning] No further splits with positive gain, best gain: -inf\n"
     ]
    },
    {
     "data": {
      "text/html": [
       "<style>#sk-container-id-6 {color: black;background-color: white;}#sk-container-id-6 pre{padding: 0;}#sk-container-id-6 div.sk-toggleable {background-color: white;}#sk-container-id-6 label.sk-toggleable__label {cursor: pointer;display: block;width: 100%;margin-bottom: 0;padding: 0.3em;box-sizing: border-box;text-align: center;}#sk-container-id-6 label.sk-toggleable__label-arrow:before {content: \"▸\";float: left;margin-right: 0.25em;color: #696969;}#sk-container-id-6 label.sk-toggleable__label-arrow:hover:before {color: black;}#sk-container-id-6 div.sk-estimator:hover label.sk-toggleable__label-arrow:before {color: black;}#sk-container-id-6 div.sk-toggleable__content {max-height: 0;max-width: 0;overflow: hidden;text-align: left;background-color: #f0f8ff;}#sk-container-id-6 div.sk-toggleable__content pre {margin: 0.2em;color: black;border-radius: 0.25em;background-color: #f0f8ff;}#sk-container-id-6 input.sk-toggleable__control:checked~div.sk-toggleable__content {max-height: 200px;max-width: 100%;overflow: auto;}#sk-container-id-6 input.sk-toggleable__control:checked~label.sk-toggleable__label-arrow:before {content: \"▾\";}#sk-container-id-6 div.sk-estimator input.sk-toggleable__control:checked~label.sk-toggleable__label {background-color: #d4ebff;}#sk-container-id-6 div.sk-label input.sk-toggleable__control:checked~label.sk-toggleable__label {background-color: #d4ebff;}#sk-container-id-6 input.sk-hidden--visually {border: 0;clip: rect(1px 1px 1px 1px);clip: rect(1px, 1px, 1px, 1px);height: 1px;margin: -1px;overflow: hidden;padding: 0;position: absolute;width: 1px;}#sk-container-id-6 div.sk-estimator {font-family: monospace;background-color: #f0f8ff;border: 1px dotted black;border-radius: 0.25em;box-sizing: border-box;margin-bottom: 0.5em;}#sk-container-id-6 div.sk-estimator:hover {background-color: #d4ebff;}#sk-container-id-6 div.sk-parallel-item::after {content: \"\";width: 100%;border-bottom: 1px solid gray;flex-grow: 1;}#sk-container-id-6 div.sk-label:hover label.sk-toggleable__label {background-color: #d4ebff;}#sk-container-id-6 div.sk-serial::before {content: \"\";position: absolute;border-left: 1px solid gray;box-sizing: border-box;top: 0;bottom: 0;left: 50%;z-index: 0;}#sk-container-id-6 div.sk-serial {display: flex;flex-direction: column;align-items: center;background-color: white;padding-right: 0.2em;padding-left: 0.2em;position: relative;}#sk-container-id-6 div.sk-item {position: relative;z-index: 1;}#sk-container-id-6 div.sk-parallel {display: flex;align-items: stretch;justify-content: center;background-color: white;position: relative;}#sk-container-id-6 div.sk-item::before, #sk-container-id-6 div.sk-parallel-item::before {content: \"\";position: absolute;border-left: 1px solid gray;box-sizing: border-box;top: 0;bottom: 0;left: 50%;z-index: -1;}#sk-container-id-6 div.sk-parallel-item {display: flex;flex-direction: column;z-index: 1;position: relative;background-color: white;}#sk-container-id-6 div.sk-parallel-item:first-child::after {align-self: flex-end;width: 50%;}#sk-container-id-6 div.sk-parallel-item:last-child::after {align-self: flex-start;width: 50%;}#sk-container-id-6 div.sk-parallel-item:only-child::after {width: 0;}#sk-container-id-6 div.sk-dashed-wrapped {border: 1px dashed gray;margin: 0 0.4em 0.5em 0.4em;box-sizing: border-box;padding-bottom: 0.4em;background-color: white;}#sk-container-id-6 div.sk-label label {font-family: monospace;font-weight: bold;display: inline-block;line-height: 1.2em;}#sk-container-id-6 div.sk-label-container {text-align: center;}#sk-container-id-6 div.sk-container {/* jupyter's `normalize.less` sets `[hidden] { display: none; }` but bootstrap.min.css set `[hidden] { display: none !important; }` so we also need the `!important` here to be able to override the default hidden behavior on the sphinx rendered scikit-learn.org. See: https://github.com/scikit-learn/scikit-learn/issues/21755 */display: inline-block !important;position: relative;}#sk-container-id-6 div.sk-text-repr-fallback {display: none;}</style><div id=\"sk-container-id-6\" class=\"sk-top-container\"><div class=\"sk-text-repr-fallback\"><pre>RandomizedSearchCV(cv=3, error_score=&#x27;raise&#x27;,\n",
       "                   estimator=Pipeline(steps=[(&#x27;tfidf&#x27;,\n",
       "                                              TfidfVectorizer(stop_words=&#x27;english&#x27;)),\n",
       "                                             (&#x27;lightgbmclassifier&#x27;,\n",
       "                                              LGBMClassifier(class_weight=&#x27;balanced&#x27;,\n",
       "                                                             random_state=42))]),\n",
       "                   n_iter=5, n_jobs=-1,\n",
       "                   param_distributions={&#x27;lightgbmclassifier__learning_rate&#x27;: [0.1,\n",
       "                                                                              0.3,\n",
       "                                                                              0.5],\n",
       "                                        &#x27;lightgbmclassifier__max_depth&#x27;: range(2, 10),\n",
       "                                        &#x27;lightgbmclassifier__n_estimators&#x27;: range(2, 51, 2),\n",
       "                                        &#x27;lightgbmclassifier__num_leaves&#x27;: [25,\n",
       "                                                                           50,\n",
       "                                                                           100]},\n",
       "                   random_state=42, scoring=&#x27;f1&#x27;, verbose=10)</pre><b>In a Jupyter environment, please rerun this cell to show the HTML representation or trust the notebook. <br />On GitHub, the HTML representation is unable to render, please try loading this page with nbviewer.org.</b></div><div class=\"sk-container\" hidden><div class=\"sk-item sk-dashed-wrapped\"><div class=\"sk-label-container\"><div class=\"sk-label sk-toggleable\"><input class=\"sk-toggleable__control sk-hidden--visually\" id=\"sk-estimator-id-21\" type=\"checkbox\" ><label for=\"sk-estimator-id-21\" class=\"sk-toggleable__label sk-toggleable__label-arrow\">RandomizedSearchCV</label><div class=\"sk-toggleable__content\"><pre>RandomizedSearchCV(cv=3, error_score=&#x27;raise&#x27;,\n",
       "                   estimator=Pipeline(steps=[(&#x27;tfidf&#x27;,\n",
       "                                              TfidfVectorizer(stop_words=&#x27;english&#x27;)),\n",
       "                                             (&#x27;lightgbmclassifier&#x27;,\n",
       "                                              LGBMClassifier(class_weight=&#x27;balanced&#x27;,\n",
       "                                                             random_state=42))]),\n",
       "                   n_iter=5, n_jobs=-1,\n",
       "                   param_distributions={&#x27;lightgbmclassifier__learning_rate&#x27;: [0.1,\n",
       "                                                                              0.3,\n",
       "                                                                              0.5],\n",
       "                                        &#x27;lightgbmclassifier__max_depth&#x27;: range(2, 10),\n",
       "                                        &#x27;lightgbmclassifier__n_estimators&#x27;: range(2, 51, 2),\n",
       "                                        &#x27;lightgbmclassifier__num_leaves&#x27;: [25,\n",
       "                                                                           50,\n",
       "                                                                           100]},\n",
       "                   random_state=42, scoring=&#x27;f1&#x27;, verbose=10)</pre></div></div></div><div class=\"sk-parallel\"><div class=\"sk-parallel-item\"><div class=\"sk-item\"><div class=\"sk-label-container\"><div class=\"sk-label sk-toggleable\"><input class=\"sk-toggleable__control sk-hidden--visually\" id=\"sk-estimator-id-22\" type=\"checkbox\" ><label for=\"sk-estimator-id-22\" class=\"sk-toggleable__label sk-toggleable__label-arrow\">estimator: Pipeline</label><div class=\"sk-toggleable__content\"><pre>Pipeline(steps=[(&#x27;tfidf&#x27;, TfidfVectorizer(stop_words=&#x27;english&#x27;)),\n",
       "                (&#x27;lightgbmclassifier&#x27;,\n",
       "                 LGBMClassifier(class_weight=&#x27;balanced&#x27;, random_state=42))])</pre></div></div></div><div class=\"sk-serial\"><div class=\"sk-item\"><div class=\"sk-serial\"><div class=\"sk-item\"><div class=\"sk-estimator sk-toggleable\"><input class=\"sk-toggleable__control sk-hidden--visually\" id=\"sk-estimator-id-23\" type=\"checkbox\" ><label for=\"sk-estimator-id-23\" class=\"sk-toggleable__label sk-toggleable__label-arrow\">TfidfVectorizer</label><div class=\"sk-toggleable__content\"><pre>TfidfVectorizer(stop_words=&#x27;english&#x27;)</pre></div></div></div><div class=\"sk-item\"><div class=\"sk-estimator sk-toggleable\"><input class=\"sk-toggleable__control sk-hidden--visually\" id=\"sk-estimator-id-24\" type=\"checkbox\" ><label for=\"sk-estimator-id-24\" class=\"sk-toggleable__label sk-toggleable__label-arrow\">LGBMClassifier</label><div class=\"sk-toggleable__content\"><pre>LGBMClassifier(class_weight=&#x27;balanced&#x27;, random_state=42)</pre></div></div></div></div></div></div></div></div></div></div></div></div>"
      ],
      "text/plain": [
       "RandomizedSearchCV(cv=3, error_score='raise',\n",
       "                   estimator=Pipeline(steps=[('tfidf',\n",
       "                                              TfidfVectorizer(stop_words='english')),\n",
       "                                             ('lightgbmclassifier',\n",
       "                                              LGBMClassifier(class_weight='balanced',\n",
       "                                                             random_state=42))]),\n",
       "                   n_iter=5, n_jobs=-1,\n",
       "                   param_distributions={'lightgbmclassifier__learning_rate': [0.1,\n",
       "                                                                              0.3,\n",
       "                                                                              0.5],\n",
       "                                        'lightgbmclassifier__max_depth': range(2, 10),\n",
       "                                        'lightgbmclassifier__n_estimators': range(2, 51, 2),\n",
       "                                        'lightgbmclassifier__num_leaves': [25,\n",
       "                                                                           50,\n",
       "                                                                           100]},\n",
       "                   random_state=42, scoring='f1', verbose=10)"
      ]
     },
     "execution_count": 46,
     "metadata": {},
     "output_type": "execute_result"
    }
   ],
   "source": [
    "model_lgbm = LGBMClassifier(class_weight='balanced', boosting_type='gbdt', random_state = 42)\n",
    "                            \n",
    "# Создадим пайплайн                        \n",
    "pipeline_lgbm = Pipeline([('tfidf', TfidfVectorizer(stop_words='english')),\n",
    "                          ('lightgbmclassifier', model_lgbm)])\n",
    "\n",
    "# Cловарь с гиперпараметрами и значениями, которые хотим перебрать\n",
    "param_grid_lgbm = {'lightgbmclassifier__n_estimators': range(2, 51, 2),\n",
    "                   'lightgbmclassifier__max_depth': range(2, 10),\n",
    "                   'lightgbmclassifier__num_leaves': [25, 50, 100],\n",
    "                   'lightgbmclassifier__learning_rate': [.1, .3, .5]}\n",
    "\n",
    "# Будем использовать RandomizedSearchCV при переборе комбинаций гиперпараметров\n",
    "random_cv_lgbm = RandomizedSearchCV(estimator=pipeline_lgbm, \n",
    "                                    param_distributions=param_grid_lgbm, \n",
    "                                    scoring='f1',\n",
    "                                    cv=3,\n",
    "                                    n_iter=5,\n",
    "                                    n_jobs=-1, \n",
    "                                    error_score='raise',\n",
    "                                    random_state=42,\n",
    "                                    verbose=10)\n",
    "\n",
    "random_cv_lgbm.fit(features_train, y_train)"
   ]
  },
  {
   "cell_type": "code",
   "execution_count": 47,
   "metadata": {},
   "outputs": [
    {
     "name": "stdout",
     "output_type": "stream",
     "text": [
      "best_score: 0.699\n",
      "best_params: {'lightgbmclassifier__num_leaves': 100, 'lightgbmclassifier__n_estimators': 24, 'lightgbmclassifier__max_depth': 5, 'lightgbmclassifier__learning_rate': 0.3}\n"
     ]
    }
   ],
   "source": [
    "random_cv_lgbm_best_score = random_cv_lgbm.best_score_.round(3)\n",
    "random_cv_lgbm_best_params = random_cv_lgbm.best_params_\n",
    "\n",
    "# лучшее значение метрики F1 \n",
    "print(f'best_score: {random_cv_lgbm_best_score}')\n",
    "# лучшие гиперпараметры\n",
    "print(f'best_params: {random_cv_lgbm_best_params}')"
   ]
  },
  {
   "cell_type": "code",
   "execution_count": 66,
   "metadata": {},
   "outputs": [
    {
     "name": "stdout",
     "output_type": "stream",
     "text": [
      "Метрика F1 на тестовой выборке для модели LGBMClassifier составила: 0.7\n"
     ]
    }
   ],
   "source": [
    "# Проверим результаты на тестовой выборке\n",
    "predictions_test_lgbm = random_cv_lgbm.predict(features_test)\n",
    "f1_lgbm = round(f1_score(y_test, predictions_test_lgbm),2)\n",
    "print('Метрика F1 на тестовой выборке для модели LGBMClassifier составила:', f1_lgbm)"
   ]
  },
  {
   "cell_type": "code",
   "execution_count": 67,
   "metadata": {},
   "outputs": [
    {
     "data": {
      "text/html": [
       "<div>\n",
       "<style scoped>\n",
       "    .dataframe tbody tr th:only-of-type {\n",
       "        vertical-align: middle;\n",
       "    }\n",
       "\n",
       "    .dataframe tbody tr th {\n",
       "        vertical-align: top;\n",
       "    }\n",
       "\n",
       "    .dataframe thead th {\n",
       "        text-align: right;\n",
       "    }\n",
       "</style>\n",
       "<table border=\"1\" class=\"dataframe\">\n",
       "  <thead>\n",
       "    <tr style=\"text-align: right;\">\n",
       "      <th></th>\n",
       "      <th>F1 на тренировочной выборке</th>\n",
       "      <th>F1 на тестовой выборке</th>\n",
       "    </tr>\n",
       "  </thead>\n",
       "  <tbody>\n",
       "    <tr>\n",
       "      <th>LogisticRegression</th>\n",
       "      <td>0.740</td>\n",
       "      <td>0.75</td>\n",
       "    </tr>\n",
       "    <tr>\n",
       "      <th>RandomForestClassifier</th>\n",
       "      <td>0.769</td>\n",
       "      <td>0.36</td>\n",
       "    </tr>\n",
       "    <tr>\n",
       "      <th>LGBMClassifier</th>\n",
       "      <td>0.699</td>\n",
       "      <td>0.70</td>\n",
       "    </tr>\n",
       "  </tbody>\n",
       "</table>\n",
       "</div>"
      ],
      "text/plain": [
       "                        F1 на тренировочной выборке  F1 на тестовой выборке\n",
       "LogisticRegression                            0.740                    0.75\n",
       "RandomForestClassifier                        0.769                    0.36\n",
       "LGBMClassifier                                0.699                    0.70"
      ]
     },
     "execution_count": 67,
     "metadata": {},
     "output_type": "execute_result"
    }
   ],
   "source": [
    "# Объеденим данные в одну таблицу\n",
    "result = pd.DataFrame([[random_cv_lr_best_score, f1_lr],\n",
    "                       [random_cv_rf_best_score, f1_rf],\n",
    "                       [random_cv_lgbm_best_score, f1_lgbm]],                      \n",
    "                       index=['LogisticRegression',\n",
    "                              'RandomForestClassifier',\n",
    "                              'LGBMClassifier'],                              \n",
    "                     columns=['F1 на тренировочной выборке', 'F1 на тестовой выборке'])      \n",
    "               \n",
    "result"
   ]
  },
  {
   "cell_type": "markdown",
   "metadata": {},
   "source": [
    "Наилучшей моделью стала  LogisticRegression  с максимальным значением метрики F1 на тестовой выборке - 0.75."
   ]
  },
  {
   "cell_type": "markdown",
   "metadata": {},
   "source": [
    "На этапе обучения мы разбили данные на тренировочную и тестовую выборки. Разбили данные на признаки и целевой признак, сохранили в отдельных переменных.   \n",
    "Для обучения моделей мы применили следующие библиотеки:  LogisticRegression, RandomForestClassifier и LightGBMClassifier. Для каждой модели мы подбирали оптимальные гиперпараметры с целью получения максимальной метрики F1. Наилучшей моделью стала LogisticRegression с максимальным значением метрики F1 на тестовой выборке - 0.75."
   ]
  },
  {
   "cell_type": "markdown",
   "metadata": {},
   "source": [
    "## Выводы"
   ]
  },
  {
   "cell_type": "markdown",
   "metadata": {},
   "source": [
    "Было проведено исследование, чтобы обучить модель классифицировать комментарии на позитивные и негативные. Нам надо было построить модель со значением метрики F1 не меньше 0.75.  \n",
    "На этапе предобработки данных привели записи в столбце 'text' к нижнему регистру и подготовили  их для дальнейшего обучения моделей.  \n",
    "На этапе обучения мы разбили данные на тренировочную и тестовую выборки. Разбили данные на признаки и целевой признак, сохранили в отдельных переменных.   \n",
    "Для обучения моделей мы применили следующие библиотеки: LogisticRegression, RandomForestClassifier и LightGBMClassifier. Для каждой модели мы подбирали оптимальные гиперпараметры с целью получения максимальной метрики F1.   \n",
    "По итогам анализа результатов было принято решение рекомендовать заказчику модель LogisticRegression с максимальным значением метрики F1 на тестовой выборке - 0.75.\n"
   ]
  }
 ],
 "metadata": {
  "ExecuteTimeLog": [
   {
    "duration": 6004,
    "start_time": "2023-06-19T06:44:58.468Z"
   },
   {
    "duration": 394,
    "start_time": "2023-06-19T06:45:04.474Z"
   },
   {
    "duration": 2519,
    "start_time": "2023-06-19T06:45:43.593Z"
   },
   {
    "duration": 45,
    "start_time": "2023-06-19T06:45:46.239Z"
   },
   {
    "duration": 14,
    "start_time": "2023-06-19T06:45:52.591Z"
   },
   {
    "duration": 655,
    "start_time": "2023-06-19T06:48:41.027Z"
   },
   {
    "duration": 4,
    "start_time": "2023-06-19T06:49:24.530Z"
   },
   {
    "duration": 4,
    "start_time": "2023-06-19T06:49:37.898Z"
   },
   {
    "duration": 152,
    "start_time": "2023-06-19T06:50:29.703Z"
   },
   {
    "duration": 19,
    "start_time": "2023-06-19T06:54:13.356Z"
   },
   {
    "duration": 20,
    "start_time": "2023-06-19T06:56:13.589Z"
   },
   {
    "duration": 30,
    "start_time": "2023-06-19T06:56:27.099Z"
   },
   {
    "duration": 36,
    "start_time": "2023-06-19T06:56:36.909Z"
   },
   {
    "duration": 225,
    "start_time": "2023-06-19T06:57:26.406Z"
   },
   {
    "duration": 6,
    "start_time": "2023-06-19T06:57:43.896Z"
   },
   {
    "duration": 84053,
    "start_time": "2023-06-19T06:57:54.560Z"
   },
   {
    "duration": 16,
    "start_time": "2023-06-19T06:59:18.645Z"
   },
   {
    "duration": 320,
    "start_time": "2023-06-19T06:59:41.693Z"
   },
   {
    "duration": 4,
    "start_time": "2023-06-19T07:00:07.059Z"
   },
   {
    "duration": 16,
    "start_time": "2023-06-19T07:00:43.359Z"
   },
   {
    "duration": 4342,
    "start_time": "2023-06-19T07:03:21.527Z"
   },
   {
    "duration": 806,
    "start_time": "2023-06-19T07:03:25.871Z"
   },
   {
    "duration": 690,
    "start_time": "2023-06-19T07:03:26.679Z"
   },
   {
    "duration": 5,
    "start_time": "2023-06-19T07:03:27.371Z"
   },
   {
    "duration": 179,
    "start_time": "2023-06-19T07:03:27.378Z"
   },
   {
    "duration": 18,
    "start_time": "2023-06-19T07:03:27.559Z"
   },
   {
    "duration": 262,
    "start_time": "2023-06-19T07:03:27.578Z"
   },
   {
    "duration": 12,
    "start_time": "2023-06-19T07:03:27.842Z"
   },
   {
    "duration": 127,
    "start_time": "2023-06-19T07:04:51.888Z"
   },
   {
    "duration": 65792,
    "start_time": "2023-06-19T07:04:52.018Z"
   },
   {
    "duration": 7,
    "start_time": "2023-06-19T07:05:57.813Z"
   },
   {
    "duration": 318,
    "start_time": "2023-06-19T07:05:57.822Z"
   },
   {
    "duration": 151,
    "start_time": "2023-06-19T07:07:45.004Z"
   },
   {
    "duration": 15,
    "start_time": "2023-06-19T07:07:55.628Z"
   },
   {
    "duration": 33,
    "start_time": "2023-06-19T07:09:17.893Z"
   },
   {
    "duration": 4,
    "start_time": "2023-06-19T07:09:30.775Z"
   },
   {
    "duration": 6,
    "start_time": "2023-06-19T07:28:27.401Z"
   },
   {
    "duration": 4,
    "start_time": "2023-06-19T07:31:50.372Z"
   },
   {
    "duration": 69,
    "start_time": "2023-06-19T07:32:00.387Z"
   },
   {
    "duration": 8,
    "start_time": "2023-06-19T07:32:59.970Z"
   },
   {
    "duration": 7,
    "start_time": "2023-06-19T07:33:24.120Z"
   },
   {
    "duration": 5,
    "start_time": "2023-06-19T07:33:45.945Z"
   },
   {
    "duration": 116,
    "start_time": "2023-06-19T07:39:51.295Z"
   },
   {
    "duration": 8,
    "start_time": "2023-06-19T07:39:57.462Z"
   },
   {
    "duration": 6,
    "start_time": "2023-06-19T07:39:58.494Z"
   },
   {
    "duration": 568,
    "start_time": "2023-06-19T07:40:21.559Z"
   },
   {
    "duration": 9,
    "start_time": "2023-06-19T07:41:13.228Z"
   },
   {
    "duration": 42,
    "start_time": "2023-06-19T07:41:13.806Z"
   },
   {
    "duration": 4399,
    "start_time": "2023-06-19T07:41:22.659Z"
   },
   {
    "duration": 2916,
    "start_time": "2023-06-19T07:41:27.060Z"
   },
   {
    "duration": 1382,
    "start_time": "2023-06-19T07:41:29.978Z"
   },
   {
    "duration": 5,
    "start_time": "2023-06-19T07:41:31.362Z"
   },
   {
    "duration": 46,
    "start_time": "2023-06-19T07:41:31.370Z"
   },
   {
    "duration": 18,
    "start_time": "2023-06-19T07:41:31.453Z"
   },
   {
    "duration": 502,
    "start_time": "2023-06-19T07:41:31.472Z"
   },
   {
    "duration": 5,
    "start_time": "2023-06-19T07:41:31.976Z"
   },
   {
    "duration": 84560,
    "start_time": "2023-06-19T07:41:31.983Z"
   },
   {
    "duration": 10,
    "start_time": "2023-06-19T07:42:56.545Z"
   },
   {
    "duration": 340,
    "start_time": "2023-06-19T07:42:56.557Z"
   },
   {
    "duration": 144,
    "start_time": "2023-06-19T07:42:56.899Z"
   },
   {
    "duration": 15,
    "start_time": "2023-06-19T07:42:57.045Z"
   },
   {
    "duration": 35,
    "start_time": "2023-06-19T07:42:57.063Z"
   },
   {
    "duration": 4,
    "start_time": "2023-06-19T07:42:57.100Z"
   },
   {
    "duration": 9,
    "start_time": "2023-06-19T07:42:57.106Z"
   },
   {
    "duration": 77,
    "start_time": "2023-06-19T07:42:57.117Z"
   },
   {
    "duration": 6,
    "start_time": "2023-06-19T07:42:57.196Z"
   },
   {
    "duration": 13,
    "start_time": "2023-06-19T07:42:57.204Z"
   },
   {
    "duration": 7,
    "start_time": "2023-06-19T07:42:57.220Z"
   },
   {
    "duration": 163,
    "start_time": "2023-06-19T07:53:02.406Z"
   },
   {
    "duration": 3657,
    "start_time": "2023-06-19T07:53:41.978Z"
   },
   {
    "duration": 403,
    "start_time": "2023-06-19T07:53:45.638Z"
   },
   {
    "duration": 403,
    "start_time": "2023-06-19T07:54:22.474Z"
   },
   {
    "duration": 25,
    "start_time": "2023-06-19T07:56:11.140Z"
   },
   {
    "duration": 3,
    "start_time": "2023-06-19T07:57:00.724Z"
   },
   {
    "duration": 5528,
    "start_time": "2023-06-19T07:57:01.204Z"
   },
   {
    "duration": 50778,
    "start_time": "2023-06-19T07:57:45.914Z"
   },
   {
    "duration": 844430,
    "start_time": "2023-06-19T07:58:38.433Z"
   },
   {
    "duration": 6,
    "start_time": "2023-06-19T08:13:03.748Z"
   },
   {
    "duration": 12,
    "start_time": "2023-06-19T08:18:36.693Z"
   },
   {
    "duration": 51,
    "start_time": "2023-06-19T08:20:05.975Z"
   },
   {
    "duration": 763776,
    "start_time": "2023-06-19T08:20:47.266Z"
   },
   {
    "duration": 4,
    "start_time": "2023-06-19T08:36:11.993Z"
   },
   {
    "duration": 19,
    "start_time": "2023-06-19T08:44:34.854Z"
   },
   {
    "duration": 13,
    "start_time": "2023-06-19T08:45:25.841Z"
   },
   {
    "duration": 1342013,
    "start_time": "2023-06-19T08:45:36.051Z"
   },
   {
    "duration": 4509371,
    "start_time": "2023-06-19T09:09:20.108Z"
   },
   {
    "duration": 5,
    "start_time": "2023-06-19T10:24:29.481Z"
   },
   {
    "duration": 14,
    "start_time": "2023-06-19T10:25:02.293Z"
   },
   {
    "duration": 73,
    "start_time": "2023-06-19T15:59:51.777Z"
   },
   {
    "duration": 5910,
    "start_time": "2023-06-19T16:00:10.138Z"
   },
   {
    "duration": 2831,
    "start_time": "2023-06-19T16:00:16.052Z"
   },
   {
    "duration": 595,
    "start_time": "2023-06-19T16:00:18.884Z"
   },
   {
    "duration": 4,
    "start_time": "2023-06-19T16:00:19.482Z"
   },
   {
    "duration": 87,
    "start_time": "2023-06-19T16:00:19.487Z"
   },
   {
    "duration": 65,
    "start_time": "2023-06-19T16:00:19.576Z"
   },
   {
    "duration": 241,
    "start_time": "2023-06-19T16:00:19.644Z"
   },
   {
    "duration": 6,
    "start_time": "2023-06-19T16:00:20.843Z"
   },
   {
    "duration": 16,
    "start_time": "2023-06-19T16:01:52.134Z"
   },
   {
    "duration": 71565,
    "start_time": "2023-06-19T16:01:52.152Z"
   },
   {
    "duration": 14,
    "start_time": "2023-06-19T16:03:03.725Z"
   },
   {
    "duration": 385,
    "start_time": "2023-06-19T16:03:03.740Z"
   },
   {
    "duration": 122,
    "start_time": "2023-06-19T16:03:04.126Z"
   },
   {
    "duration": 5402,
    "start_time": "2023-06-20T04:44:05.847Z"
   },
   {
    "duration": 2162,
    "start_time": "2023-06-20T04:44:11.251Z"
   },
   {
    "duration": 521,
    "start_time": "2023-06-20T04:44:13.415Z"
   },
   {
    "duration": 8,
    "start_time": "2023-06-20T04:44:13.938Z"
   },
   {
    "duration": 9,
    "start_time": "2023-06-20T04:44:13.948Z"
   },
   {
    "duration": 12,
    "start_time": "2023-06-20T04:44:13.959Z"
   },
   {
    "duration": 219,
    "start_time": "2023-06-20T04:44:13.973Z"
   },
   {
    "duration": 7,
    "start_time": "2023-06-20T04:44:14.193Z"
   },
   {
    "duration": 76429,
    "start_time": "2023-06-20T04:44:14.202Z"
   },
   {
    "duration": 6,
    "start_time": "2023-06-20T04:45:30.633Z"
   },
   {
    "duration": 340,
    "start_time": "2023-06-20T04:45:30.640Z"
   },
   {
    "duration": 118,
    "start_time": "2023-06-20T04:45:30.981Z"
   },
   {
    "duration": 8,
    "start_time": "2023-06-20T04:45:31.100Z"
   },
   {
    "duration": 89,
    "start_time": "2023-06-20T04:45:31.110Z"
   },
   {
    "duration": 57,
    "start_time": "2023-06-20T04:45:31.200Z"
   },
   {
    "duration": 51,
    "start_time": "2023-06-20T04:45:31.259Z"
   },
   {
    "duration": 99,
    "start_time": "2023-06-20T04:45:31.311Z"
   },
   {
    "duration": 6,
    "start_time": "2023-06-20T04:45:31.411Z"
   },
   {
    "duration": 38,
    "start_time": "2023-06-20T04:45:31.418Z"
   },
   {
    "duration": 34,
    "start_time": "2023-06-20T04:45:31.458Z"
   },
   {
    "duration": 29,
    "start_time": "2023-06-20T04:45:31.494Z"
   },
   {
    "duration": 4394,
    "start_time": "2023-06-20T04:45:31.524Z"
   },
   {
    "duration": 767681,
    "start_time": "2023-06-20T04:45:35.920Z"
   },
   {
    "duration": 7,
    "start_time": "2023-06-20T04:58:23.602Z"
   },
   {
    "duration": 609926,
    "start_time": "2023-06-20T04:58:23.701Z"
   },
   {
    "duration": 3,
    "start_time": "2023-06-20T05:08:33.628Z"
   },
   {
    "duration": 5080905,
    "start_time": "2023-06-20T05:08:33.633Z"
   },
   {
    "duration": 62,
    "start_time": "2023-06-20T06:33:14.540Z"
   },
   {
    "duration": 7798346,
    "start_time": "2023-06-20T06:33:14.603Z"
   },
   {
    "duration": 4,
    "start_time": "2023-06-20T08:43:12.951Z"
   },
   {
    "duration": 48,
    "start_time": "2023-06-20T10:51:24.494Z"
   },
   {
    "duration": 4861,
    "start_time": "2023-06-20T10:51:31.416Z"
   },
   {
    "duration": 2207,
    "start_time": "2023-06-20T10:51:36.279Z"
   },
   {
    "duration": 616,
    "start_time": "2023-06-20T10:51:38.487Z"
   },
   {
    "duration": 5,
    "start_time": "2023-06-20T10:51:39.106Z"
   },
   {
    "duration": 17,
    "start_time": "2023-06-20T10:51:39.113Z"
   },
   {
    "duration": 34,
    "start_time": "2023-06-20T10:51:39.132Z"
   },
   {
    "duration": 241,
    "start_time": "2023-06-20T10:51:39.167Z"
   },
   {
    "duration": 6,
    "start_time": "2023-06-20T10:51:39.410Z"
   },
   {
    "duration": 80463,
    "start_time": "2023-06-20T10:51:39.417Z"
   },
   {
    "duration": 7,
    "start_time": "2023-06-20T10:52:59.882Z"
   },
   {
    "duration": 303,
    "start_time": "2023-06-20T10:52:59.901Z"
   },
   {
    "duration": 133,
    "start_time": "2023-06-20T10:53:00.207Z"
   },
   {
    "duration": 11,
    "start_time": "2023-06-20T10:53:00.342Z"
   },
   {
    "duration": 38,
    "start_time": "2023-06-20T10:53:00.354Z"
   },
   {
    "duration": 5,
    "start_time": "2023-06-20T10:53:00.394Z"
   },
   {
    "duration": 21,
    "start_time": "2023-06-20T10:53:00.414Z"
   },
   {
    "duration": 85,
    "start_time": "2023-06-20T10:53:00.437Z"
   },
   {
    "duration": 8,
    "start_time": "2023-06-20T10:53:00.526Z"
   },
   {
    "duration": 20,
    "start_time": "2023-06-20T10:53:00.536Z"
   },
   {
    "duration": 28,
    "start_time": "2023-06-20T10:53:00.558Z"
   },
   {
    "duration": 30,
    "start_time": "2023-06-20T10:53:00.588Z"
   },
   {
    "duration": 5009,
    "start_time": "2023-06-20T10:53:00.620Z"
   },
   {
    "duration": 4000,
    "start_time": "2023-06-20T11:12:34.808Z"
   },
   {
    "duration": 741,
    "start_time": "2023-06-20T11:12:38.810Z"
   },
   {
    "duration": 619,
    "start_time": "2023-06-20T11:12:39.553Z"
   },
   {
    "duration": 5,
    "start_time": "2023-06-20T11:12:40.174Z"
   },
   {
    "duration": 24,
    "start_time": "2023-06-20T11:12:40.182Z"
   },
   {
    "duration": 32,
    "start_time": "2023-06-20T11:12:40.208Z"
   },
   {
    "duration": 271,
    "start_time": "2023-06-20T11:12:40.242Z"
   },
   {
    "duration": 7,
    "start_time": "2023-06-20T11:12:40.516Z"
   },
   {
    "duration": 77181,
    "start_time": "2023-06-20T11:12:40.524Z"
   },
   {
    "duration": 7,
    "start_time": "2023-06-20T11:13:57.707Z"
   },
   {
    "duration": 303,
    "start_time": "2023-06-20T11:13:57.716Z"
   },
   {
    "duration": 133,
    "start_time": "2023-06-20T11:13:58.021Z"
   },
   {
    "duration": 11,
    "start_time": "2023-06-20T11:13:58.155Z"
   },
   {
    "duration": 46,
    "start_time": "2023-06-20T11:13:58.169Z"
   },
   {
    "duration": 5,
    "start_time": "2023-06-20T11:13:58.216Z"
   },
   {
    "duration": 31,
    "start_time": "2023-06-20T11:13:58.223Z"
   },
   {
    "duration": 84,
    "start_time": "2023-06-20T11:13:58.256Z"
   },
   {
    "duration": 6,
    "start_time": "2023-06-20T11:13:58.341Z"
   },
   {
    "duration": 17,
    "start_time": "2023-06-20T11:13:58.348Z"
   },
   {
    "duration": 22,
    "start_time": "2023-06-20T11:13:58.367Z"
   },
   {
    "duration": 10,
    "start_time": "2023-06-20T11:13:58.390Z"
   },
   {
    "duration": 4660,
    "start_time": "2023-06-20T11:13:58.402Z"
   },
   {
    "duration": 788443,
    "start_time": "2023-06-20T11:14:03.064Z"
   },
   {
    "duration": 94,
    "start_time": "2023-06-20T11:27:11.509Z"
   },
   {
    "duration": 286354,
    "start_time": "2023-06-20T11:27:11.604Z"
   },
   {
    "duration": 4,
    "start_time": "2023-06-20T11:31:57.959Z"
   },
   {
    "duration": 65917,
    "start_time": "2023-06-20T11:31:57.964Z"
   },
   {
    "duration": 0,
    "start_time": "2023-06-20T11:33:03.883Z"
   },
   {
    "duration": 0,
    "start_time": "2023-06-20T11:33:03.884Z"
   },
   {
    "duration": 0,
    "start_time": "2023-06-20T11:33:03.886Z"
   },
   {
    "duration": 0,
    "start_time": "2023-06-20T11:33:03.901Z"
   },
   {
    "duration": 291519,
    "start_time": "2023-06-20T11:33:06.322Z"
   },
   {
    "duration": 4,
    "start_time": "2023-06-20T11:50:03.368Z"
   },
   {
    "duration": 195,
    "start_time": "2023-06-20T12:52:07.204Z"
   },
   {
    "duration": 710,
    "start_time": "2023-06-20T12:52:34.134Z"
   },
   {
    "duration": 573,
    "start_time": "2023-06-20T12:52:35.185Z"
   },
   {
    "duration": 462,
    "start_time": "2023-06-20T12:53:05.124Z"
   },
   {
    "duration": 7,
    "start_time": "2023-06-20T13:06:57.565Z"
   },
   {
    "duration": 20,
    "start_time": "2023-06-20T13:08:33.397Z"
   },
   {
    "duration": 238,
    "start_time": "2023-06-20T13:08:36.554Z"
   },
   {
    "duration": 182,
    "start_time": "2023-06-20T13:28:14.430Z"
   },
   {
    "duration": 10,
    "start_time": "2023-06-20T13:28:19.261Z"
   },
   {
    "duration": 6,
    "start_time": "2023-06-20T13:28:20.211Z"
   },
   {
    "duration": 4,
    "start_time": "2023-06-20T13:28:22.366Z"
   },
   {
    "duration": 5,
    "start_time": "2023-06-20T13:34:39.658Z"
   },
   {
    "duration": 82157,
    "start_time": "2023-06-20T13:34:40.121Z"
   },
   {
    "duration": 6,
    "start_time": "2023-06-20T13:45:43.393Z"
   },
   {
    "duration": 1477,
    "start_time": "2023-06-20T13:45:48.664Z"
   },
   {
    "duration": 4,
    "start_time": "2023-06-20T13:45:56.554Z"
   },
   {
    "duration": 9861,
    "start_time": "2023-06-20T13:45:57.030Z"
   },
   {
    "duration": 15,
    "start_time": "2023-06-20T13:47:56.803Z"
   },
   {
    "duration": 266,
    "start_time": "2023-06-20T13:47:57.227Z"
   },
   {
    "duration": 4,
    "start_time": "2023-06-20T13:47:57.586Z"
   },
   {
    "duration": 4,
    "start_time": "2023-06-20T13:48:02.914Z"
   },
   {
    "duration": 55,
    "start_time": "2023-06-20T13:48:05.749Z"
   },
   {
    "duration": 4694,
    "start_time": "2023-06-20T13:58:41.528Z"
   },
   {
    "duration": 23,
    "start_time": "2023-06-20T13:58:46.224Z"
   },
   {
    "duration": 4753,
    "start_time": "2023-06-20T13:58:46.325Z"
   },
   {
    "duration": 5,
    "start_time": "2023-06-20T14:03:39.055Z"
   },
   {
    "duration": 62530,
    "start_time": "2023-06-20T14:03:41.644Z"
   },
   {
    "duration": 7,
    "start_time": "2023-06-20T14:04:44.177Z"
   },
   {
    "duration": 184,
    "start_time": "2023-06-20T14:05:31.994Z"
   },
   {
    "duration": 744,
    "start_time": "2023-06-20T14:05:32.181Z"
   },
   {
    "duration": 558,
    "start_time": "2023-06-20T14:05:32.928Z"
   },
   {
    "duration": 7,
    "start_time": "2023-06-20T14:05:33.487Z"
   },
   {
    "duration": 16,
    "start_time": "2023-06-20T14:05:35.161Z"
   },
   {
    "duration": 209,
    "start_time": "2023-06-20T14:05:36.538Z"
   },
   {
    "duration": 5,
    "start_time": "2023-06-20T14:05:37.091Z"
   },
   {
    "duration": 76961,
    "start_time": "2023-06-20T14:05:37.794Z"
   },
   {
    "duration": 7,
    "start_time": "2023-06-20T14:06:54.757Z"
   },
   {
    "duration": 15,
    "start_time": "2023-06-20T14:07:00.428Z"
   },
   {
    "duration": 24,
    "start_time": "2023-06-20T14:07:00.949Z"
   },
   {
    "duration": 4,
    "start_time": "2023-06-20T14:07:01.583Z"
   },
   {
    "duration": 4,
    "start_time": "2023-06-20T14:07:05.729Z"
   },
   {
    "duration": 56,
    "start_time": "2023-06-20T14:07:06.281Z"
   },
   {
    "duration": 24,
    "start_time": "2023-06-20T14:07:11.142Z"
   },
   {
    "duration": 4774,
    "start_time": "2023-06-20T14:07:12.699Z"
   },
   {
    "duration": 866202,
    "start_time": "2023-06-20T14:07:20.711Z"
   },
   {
    "duration": 2191,
    "start_time": "2023-06-20T14:40:54.159Z"
   },
   {
    "duration": 783,
    "start_time": "2023-06-20T14:40:56.352Z"
   },
   {
    "duration": 605,
    "start_time": "2023-06-20T14:40:57.137Z"
   },
   {
    "duration": 7,
    "start_time": "2023-06-20T14:40:57.744Z"
   },
   {
    "duration": 15,
    "start_time": "2023-06-20T14:40:57.754Z"
   },
   {
    "duration": 258,
    "start_time": "2023-06-20T14:40:57.771Z"
   },
   {
    "duration": 6,
    "start_time": "2023-06-20T14:40:58.030Z"
   },
   {
    "duration": 90156,
    "start_time": "2023-06-20T14:40:58.037Z"
   },
   {
    "duration": 16,
    "start_time": "2023-06-20T14:42:28.195Z"
   },
   {
    "duration": 26,
    "start_time": "2023-06-20T14:42:28.213Z"
   },
   {
    "duration": 33,
    "start_time": "2023-06-20T14:42:28.241Z"
   },
   {
    "duration": 3,
    "start_time": "2023-06-20T14:42:28.276Z"
   },
   {
    "duration": 15,
    "start_time": "2023-06-20T14:42:28.280Z"
   },
   {
    "duration": 74,
    "start_time": "2023-06-20T14:42:28.301Z"
   },
   {
    "duration": 3,
    "start_time": "2023-06-20T14:42:28.377Z"
   },
   {
    "duration": 5077,
    "start_time": "2023-06-20T14:42:28.381Z"
   },
   {
    "duration": 910346,
    "start_time": "2023-06-20T14:42:33.460Z"
   },
   {
    "duration": 4,
    "start_time": "2023-06-20T14:57:43.809Z"
   },
   {
    "duration": 295822,
    "start_time": "2023-06-20T14:57:43.815Z"
   },
   {
    "duration": 4,
    "start_time": "2023-06-20T15:02:39.639Z"
   },
   {
    "duration": 263,
    "start_time": "2023-06-21T08:06:15.754Z"
   },
   {
    "duration": 2798,
    "start_time": "2023-06-21T08:24:03.366Z"
   },
   {
    "duration": 5074,
    "start_time": "2023-06-21T08:24:06.169Z"
   },
   {
    "duration": 672,
    "start_time": "2023-06-21T08:24:11.249Z"
   },
   {
    "duration": 14,
    "start_time": "2023-06-21T08:24:11.927Z"
   },
   {
    "duration": 18,
    "start_time": "2023-06-21T08:24:11.944Z"
   },
   {
    "duration": 291,
    "start_time": "2023-06-21T08:24:11.964Z"
   },
   {
    "duration": 6,
    "start_time": "2023-06-21T08:24:12.257Z"
   },
   {
    "duration": 137835,
    "start_time": "2023-06-21T08:24:12.264Z"
   },
   {
    "duration": 26,
    "start_time": "2023-06-21T08:26:30.103Z"
   },
   {
    "duration": 65,
    "start_time": "2023-06-21T08:26:30.135Z"
   },
   {
    "duration": 160,
    "start_time": "2023-06-21T08:26:30.202Z"
   },
   {
    "duration": 23,
    "start_time": "2023-06-21T08:26:30.364Z"
   },
   {
    "duration": 84,
    "start_time": "2023-06-21T08:26:30.389Z"
   },
   {
    "duration": 190,
    "start_time": "2023-06-21T08:26:30.477Z"
   },
   {
    "duration": 6,
    "start_time": "2023-06-21T08:26:30.669Z"
   },
   {
    "duration": 8624,
    "start_time": "2023-06-21T08:26:30.677Z"
   },
   {
    "duration": 945714,
    "start_time": "2023-06-21T08:26:39.303Z"
   },
   {
    "duration": 28,
    "start_time": "2023-06-21T08:42:25.024Z"
   },
   {
    "duration": 382816,
    "start_time": "2023-06-21T08:42:25.055Z"
   },
   {
    "duration": 3,
    "start_time": "2023-06-21T08:48:47.873Z"
   },
   {
    "duration": 3282,
    "start_time": "2023-06-21T09:00:48.965Z"
   },
   {
    "duration": 1613,
    "start_time": "2023-06-21T09:00:52.252Z"
   },
   {
    "duration": 772,
    "start_time": "2023-06-21T09:00:53.869Z"
   },
   {
    "duration": 14,
    "start_time": "2023-06-21T09:00:54.645Z"
   },
   {
    "duration": 49,
    "start_time": "2023-06-21T09:00:54.662Z"
   },
   {
    "duration": 305,
    "start_time": "2023-06-21T09:00:54.713Z"
   },
   {
    "duration": 11,
    "start_time": "2023-06-21T09:00:55.021Z"
   },
   {
    "duration": 112656,
    "start_time": "2023-06-21T09:00:55.034Z"
   },
   {
    "duration": 10,
    "start_time": "2023-06-21T09:02:47.693Z"
   },
   {
    "duration": 59,
    "start_time": "2023-06-21T09:02:47.706Z"
   },
   {
    "duration": 34,
    "start_time": "2023-06-21T09:02:47.767Z"
   },
   {
    "duration": 45,
    "start_time": "2023-06-21T09:02:47.803Z"
   },
   {
    "duration": 29,
    "start_time": "2023-06-21T09:02:47.850Z"
   },
   {
    "duration": 109,
    "start_time": "2023-06-21T09:02:47.881Z"
   },
   {
    "duration": 5,
    "start_time": "2023-06-21T09:02:47.993Z"
   },
   {
    "duration": 7509,
    "start_time": "2023-06-21T09:02:48.000Z"
   },
   {
    "duration": 888708,
    "start_time": "2023-06-21T09:02:55.511Z"
   },
   {
    "duration": 18,
    "start_time": "2023-06-21T09:17:44.230Z"
   },
   {
    "duration": 182343,
    "start_time": "2023-06-21T09:17:44.253Z"
   },
   {
    "duration": 14,
    "start_time": "2023-06-21T09:20:46.599Z"
   },
   {
    "duration": 3953,
    "start_time": "2023-06-21T10:24:59.072Z"
   },
   {
    "duration": 1132,
    "start_time": "2023-06-21T10:25:03.031Z"
   },
   {
    "duration": 774,
    "start_time": "2023-06-21T10:25:04.167Z"
   },
   {
    "duration": 14,
    "start_time": "2023-06-21T10:25:04.947Z"
   },
   {
    "duration": 41,
    "start_time": "2023-06-21T10:25:04.966Z"
   },
   {
    "duration": 371,
    "start_time": "2023-06-21T10:25:05.014Z"
   },
   {
    "duration": 8,
    "start_time": "2023-06-21T10:25:05.396Z"
   },
   {
    "duration": 141320,
    "start_time": "2023-06-21T10:25:05.409Z"
   },
   {
    "duration": 30,
    "start_time": "2023-06-21T10:27:26.740Z"
   },
   {
    "duration": 25,
    "start_time": "2023-06-21T10:27:26.781Z"
   },
   {
    "duration": 90,
    "start_time": "2023-06-21T10:27:26.811Z"
   },
   {
    "duration": 5,
    "start_time": "2023-06-21T10:27:26.903Z"
   },
   {
    "duration": 13,
    "start_time": "2023-06-21T10:27:26.909Z"
   },
   {
    "duration": 110,
    "start_time": "2023-06-21T10:27:26.923Z"
   },
   {
    "duration": 9,
    "start_time": "2023-06-21T10:27:27.039Z"
   },
   {
    "duration": 8079,
    "start_time": "2023-06-21T10:27:27.050Z"
   },
   {
    "duration": 1042531,
    "start_time": "2023-06-21T10:27:35.131Z"
   },
   {
    "duration": 19,
    "start_time": "2023-06-21T10:44:57.675Z"
   },
   {
    "duration": 44323,
    "start_time": "2023-06-21T10:44:57.704Z"
   },
   {
    "duration": 0,
    "start_time": "2023-06-21T10:45:42.034Z"
   },
   {
    "duration": 0,
    "start_time": "2023-06-21T10:45:42.035Z"
   },
   {
    "duration": 0,
    "start_time": "2023-06-21T10:45:42.036Z"
   },
   {
    "duration": 0,
    "start_time": "2023-06-21T10:45:42.037Z"
   },
   {
    "duration": 0,
    "start_time": "2023-06-21T10:45:42.038Z"
   },
   {
    "duration": 0,
    "start_time": "2023-06-21T10:45:42.040Z"
   },
   {
    "duration": 0,
    "start_time": "2023-06-21T10:45:42.041Z"
   },
   {
    "duration": 0,
    "start_time": "2023-06-21T10:45:42.042Z"
   },
   {
    "duration": 0,
    "start_time": "2023-06-21T10:45:42.043Z"
   },
   {
    "duration": 0,
    "start_time": "2023-06-21T10:45:42.044Z"
   },
   {
    "duration": 0,
    "start_time": "2023-06-21T10:45:42.046Z"
   },
   {
    "duration": 0,
    "start_time": "2023-06-21T10:45:42.047Z"
   },
   {
    "duration": 240,
    "start_time": "2023-06-21T10:45:57.664Z"
   },
   {
    "duration": 170,
    "start_time": "2023-06-21T10:46:23.429Z"
   },
   {
    "duration": 217,
    "start_time": "2023-06-21T10:46:39.411Z"
   },
   {
    "duration": 324689,
    "start_time": "2023-06-21T10:46:53.255Z"
   },
   {
    "duration": 10,
    "start_time": "2023-06-21T10:52:32.166Z"
   },
   {
    "duration": 64862,
    "start_time": "2023-06-21T10:52:42.202Z"
   },
   {
    "duration": 2193,
    "start_time": "2023-06-21T10:53:55.112Z"
   },
   {
    "duration": 33,
    "start_time": "2023-06-21T10:53:59.032Z"
   },
   {
    "duration": 65969,
    "start_time": "2023-06-21T10:54:02.187Z"
   },
   {
    "duration": 55,
    "start_time": "2023-06-21T10:55:08.162Z"
   },
   {
    "duration": 63,
    "start_time": "2023-06-21T10:55:08.234Z"
   },
   {
    "duration": 5529,
    "start_time": "2023-06-21T10:55:55.112Z"
   },
   {
    "duration": 54,
    "start_time": "2023-06-23T08:33:51.005Z"
   },
   {
    "duration": 2213,
    "start_time": "2023-06-23T08:34:04.108Z"
   },
   {
    "duration": 2372,
    "start_time": "2023-06-23T08:34:06.323Z"
   },
   {
    "duration": 641,
    "start_time": "2023-06-23T08:34:12.128Z"
   },
   {
    "duration": 11,
    "start_time": "2023-06-23T08:35:45.123Z"
   },
   {
    "duration": 11,
    "start_time": "2023-06-23T08:36:00.669Z"
   },
   {
    "duration": 12,
    "start_time": "2023-06-23T08:36:16.820Z"
   },
   {
    "duration": 496,
    "start_time": "2023-06-23T08:37:29.928Z"
   },
   {
    "duration": 169,
    "start_time": "2023-06-23T08:39:22.935Z"
   },
   {
    "duration": 206,
    "start_time": "2023-06-23T08:39:44.179Z"
   },
   {
    "duration": 172,
    "start_time": "2023-06-23T08:46:35.970Z"
   },
   {
    "duration": 904,
    "start_time": "2023-06-23T08:48:47.612Z"
   },
   {
    "duration": 7,
    "start_time": "2023-06-23T08:49:25.166Z"
   },
   {
    "duration": 873,
    "start_time": "2023-06-23T08:49:25.849Z"
   },
   {
    "duration": 602,
    "start_time": "2023-06-23T08:49:30.512Z"
   },
   {
    "duration": 263,
    "start_time": "2023-06-23T08:49:37.718Z"
   },
   {
    "duration": 145,
    "start_time": "2023-06-23T08:49:51.824Z"
   },
   {
    "duration": 158,
    "start_time": "2023-06-23T08:50:07.733Z"
   },
   {
    "duration": 8,
    "start_time": "2023-06-23T08:50:09.012Z"
   },
   {
    "duration": 339,
    "start_time": "2023-06-23T08:50:54.029Z"
   },
   {
    "duration": 28,
    "start_time": "2023-06-23T09:13:27.032Z"
   },
   {
    "duration": 9,
    "start_time": "2023-06-23T09:18:47.301Z"
   },
   {
    "duration": 6,
    "start_time": "2023-06-23T09:18:58.704Z"
   },
   {
    "duration": 847,
    "start_time": "2023-06-23T09:18:58.836Z"
   },
   {
    "duration": 628,
    "start_time": "2023-06-23T09:19:00.026Z"
   },
   {
    "duration": 167,
    "start_time": "2023-06-23T09:19:01.105Z"
   },
   {
    "duration": 9,
    "start_time": "2023-06-23T09:19:01.616Z"
   },
   {
    "duration": 15,
    "start_time": "2023-06-23T09:19:04.927Z"
   },
   {
    "duration": 277,
    "start_time": "2023-06-23T09:19:07.128Z"
   },
   {
    "duration": 7,
    "start_time": "2023-06-23T09:19:08.742Z"
   },
   {
    "duration": 455,
    "start_time": "2023-06-23T09:19:17.126Z"
   },
   {
    "duration": 28,
    "start_time": "2023-06-23T09:23:31.027Z"
   },
   {
    "duration": 11,
    "start_time": "2023-06-23T09:23:37.128Z"
   },
   {
    "duration": 896,
    "start_time": "2023-06-23T09:23:37.512Z"
   },
   {
    "duration": 670,
    "start_time": "2023-06-23T09:23:38.516Z"
   },
   {
    "duration": 173,
    "start_time": "2023-06-23T09:23:39.189Z"
   },
   {
    "duration": 10,
    "start_time": "2023-06-23T09:23:39.708Z"
   },
   {
    "duration": 23,
    "start_time": "2023-06-23T09:23:45.573Z"
   },
   {
    "duration": 262,
    "start_time": "2023-06-23T09:23:47.312Z"
   },
   {
    "duration": 5,
    "start_time": "2023-06-23T09:23:48.635Z"
   },
   {
    "duration": 4,
    "start_time": "2023-06-23T09:23:51.316Z"
   },
   {
    "duration": 472,
    "start_time": "2023-06-23T09:23:56.812Z"
   },
   {
    "duration": 247,
    "start_time": "2023-06-23T09:25:56.060Z"
   },
   {
    "duration": 5,
    "start_time": "2023-06-23T09:25:57.004Z"
   },
   {
    "duration": 4,
    "start_time": "2023-06-23T09:25:57.512Z"
   },
   {
    "duration": 763,
    "start_time": "2023-06-23T09:26:00.124Z"
   },
   {
    "duration": 5,
    "start_time": "2023-06-23T09:39:12.808Z"
   },
   {
    "duration": 5,
    "start_time": "2023-06-23T09:39:13.237Z"
   },
   {
    "duration": 846,
    "start_time": "2023-06-23T09:39:15.605Z"
   },
   {
    "duration": 526,
    "start_time": "2023-06-23T09:44:41.124Z"
   },
   {
    "duration": 8,
    "start_time": "2023-06-23T09:55:10.928Z"
   },
   {
    "duration": 833,
    "start_time": "2023-06-23T09:55:11.108Z"
   },
   {
    "duration": 664,
    "start_time": "2023-06-23T09:55:11.943Z"
   },
   {
    "duration": 180,
    "start_time": "2023-06-23T09:55:12.610Z"
   },
   {
    "duration": 7,
    "start_time": "2023-06-23T09:55:12.792Z"
   },
   {
    "duration": 21,
    "start_time": "2023-06-23T09:55:15.635Z"
   },
   {
    "duration": 283,
    "start_time": "2023-06-23T09:55:16.867Z"
   },
   {
    "duration": 5,
    "start_time": "2023-06-23T09:55:18.204Z"
   },
   {
    "duration": 5,
    "start_time": "2023-06-23T09:55:19.301Z"
   },
   {
    "duration": 1493,
    "start_time": "2023-06-23T09:55:20.957Z"
   },
   {
    "duration": 224,
    "start_time": "2023-06-23T09:56:23.428Z"
   },
   {
    "duration": 4,
    "start_time": "2023-06-23T09:56:24.039Z"
   },
   {
    "duration": 6,
    "start_time": "2023-06-23T09:56:24.231Z"
   },
   {
    "duration": 907,
    "start_time": "2023-06-23T09:56:25.016Z"
   },
   {
    "duration": 4,
    "start_time": "2023-06-23T09:58:54.765Z"
   },
   {
    "duration": 173,
    "start_time": "2023-06-23T09:58:55.412Z"
   },
   {
    "duration": 6,
    "start_time": "2023-06-23T10:00:41.248Z"
   },
   {
    "duration": 4,
    "start_time": "2023-06-23T10:00:41.704Z"
   },
   {
    "duration": 1688,
    "start_time": "2023-06-23T10:00:43.255Z"
   },
   {
    "duration": 354,
    "start_time": "2023-06-23T10:01:15.948Z"
   },
   {
    "duration": 1040,
    "start_time": "2023-06-23T10:01:21.968Z"
   },
   {
    "duration": 12,
    "start_time": "2023-06-23T10:02:09.450Z"
   },
   {
    "duration": 633,
    "start_time": "2023-06-23T10:02:12.326Z"
   },
   {
    "duration": 15,
    "start_time": "2023-06-23T10:02:21.427Z"
   },
   {
    "duration": 227,
    "start_time": "2023-06-23T10:02:21.732Z"
   },
   {
    "duration": 5,
    "start_time": "2023-06-23T10:02:22.100Z"
   },
   {
    "duration": 7,
    "start_time": "2023-06-23T10:02:22.252Z"
   },
   {
    "duration": 624,
    "start_time": "2023-06-23T10:02:24.428Z"
   },
   {
    "duration": 6,
    "start_time": "2023-06-23T10:02:33.608Z"
   },
   {
    "duration": 864,
    "start_time": "2023-06-23T10:02:34.004Z"
   },
   {
    "duration": 613,
    "start_time": "2023-06-23T10:02:34.870Z"
   },
   {
    "duration": 170,
    "start_time": "2023-06-23T10:02:35.484Z"
   },
   {
    "duration": 7,
    "start_time": "2023-06-23T10:02:35.655Z"
   },
   {
    "duration": 17,
    "start_time": "2023-06-23T10:02:35.951Z"
   },
   {
    "duration": 257,
    "start_time": "2023-06-23T10:02:37.309Z"
   },
   {
    "duration": 4,
    "start_time": "2023-06-23T10:02:39.104Z"
   },
   {
    "duration": 4,
    "start_time": "2023-06-23T10:02:39.583Z"
   },
   {
    "duration": 884,
    "start_time": "2023-06-23T10:02:44.507Z"
   },
   {
    "duration": 8,
    "start_time": "2023-06-23T10:04:11.165Z"
   },
   {
    "duration": 839,
    "start_time": "2023-06-23T10:04:11.327Z"
   },
   {
    "duration": 718,
    "start_time": "2023-06-23T10:04:12.168Z"
   },
   {
    "duration": 159,
    "start_time": "2023-06-23T10:04:12.889Z"
   },
   {
    "duration": 7,
    "start_time": "2023-06-23T10:04:13.050Z"
   },
   {
    "duration": 22,
    "start_time": "2023-06-23T10:04:14.265Z"
   },
   {
    "duration": 242,
    "start_time": "2023-06-23T10:04:15.254Z"
   },
   {
    "duration": 4,
    "start_time": "2023-06-23T10:04:16.050Z"
   },
   {
    "duration": 5,
    "start_time": "2023-06-23T10:04:17.230Z"
   },
   {
    "duration": 2010,
    "start_time": "2023-06-23T10:04:19.234Z"
   },
   {
    "duration": 9,
    "start_time": "2023-06-23T10:17:19.613Z"
   },
   {
    "duration": 848,
    "start_time": "2023-06-23T10:17:19.757Z"
   },
   {
    "duration": 689,
    "start_time": "2023-06-23T10:17:20.607Z"
   },
   {
    "duration": 182,
    "start_time": "2023-06-23T10:17:21.298Z"
   },
   {
    "duration": 9,
    "start_time": "2023-06-23T10:17:21.482Z"
   },
   {
    "duration": 16,
    "start_time": "2023-06-23T10:17:23.404Z"
   },
   {
    "duration": 266,
    "start_time": "2023-06-23T10:17:24.308Z"
   },
   {
    "duration": 5,
    "start_time": "2023-06-23T10:17:24.966Z"
   },
   {
    "duration": 6,
    "start_time": "2023-06-23T10:17:25.459Z"
   },
   {
    "duration": 699,
    "start_time": "2023-06-23T10:17:26.965Z"
   },
   {
    "duration": 8,
    "start_time": "2023-06-23T10:31:04.649Z"
   },
   {
    "duration": 840,
    "start_time": "2023-06-23T10:31:04.811Z"
   },
   {
    "duration": 672,
    "start_time": "2023-06-23T10:31:05.655Z"
   },
   {
    "duration": 168,
    "start_time": "2023-06-23T10:31:06.329Z"
   },
   {
    "duration": 9,
    "start_time": "2023-06-23T10:31:06.500Z"
   },
   {
    "duration": 24,
    "start_time": "2023-06-23T10:31:07.049Z"
   },
   {
    "duration": 276,
    "start_time": "2023-06-23T10:31:07.735Z"
   },
   {
    "duration": 5,
    "start_time": "2023-06-23T10:31:09.673Z"
   },
   {
    "duration": 6,
    "start_time": "2023-06-23T10:31:10.369Z"
   },
   {
    "duration": 861,
    "start_time": "2023-06-23T10:31:11.716Z"
   },
   {
    "duration": 26,
    "start_time": "2023-06-23T10:40:16.297Z"
   },
   {
    "duration": 16,
    "start_time": "2023-06-23T10:40:23.259Z"
   },
   {
    "duration": 245,
    "start_time": "2023-06-23T10:40:23.751Z"
   },
   {
    "duration": 7,
    "start_time": "2023-06-23T10:40:29.133Z"
   },
   {
    "duration": 938,
    "start_time": "2023-06-23T10:40:29.323Z"
   },
   {
    "duration": 727,
    "start_time": "2023-06-23T10:40:30.263Z"
   },
   {
    "duration": 230,
    "start_time": "2023-06-23T10:40:30.993Z"
   },
   {
    "duration": 9,
    "start_time": "2023-06-23T10:40:31.226Z"
   },
   {
    "duration": 15,
    "start_time": "2023-06-23T10:40:31.461Z"
   },
   {
    "duration": 243,
    "start_time": "2023-06-23T10:40:34.340Z"
   },
   {
    "duration": 7,
    "start_time": "2023-06-23T10:40:35.365Z"
   },
   {
    "duration": 6,
    "start_time": "2023-06-23T10:40:35.828Z"
   },
   {
    "duration": 17,
    "start_time": "2023-06-23T10:40:37.220Z"
   },
   {
    "duration": 565,
    "start_time": "2023-06-23T10:40:38.707Z"
   },
   {
    "duration": 234,
    "start_time": "2023-06-23T11:14:23.334Z"
   },
   {
    "duration": 1134,
    "start_time": "2023-06-23T11:14:23.571Z"
   },
   {
    "duration": 752,
    "start_time": "2023-06-23T11:14:24.708Z"
   },
   {
    "duration": 186,
    "start_time": "2023-06-23T11:14:25.464Z"
   },
   {
    "duration": 9,
    "start_time": "2023-06-23T11:14:25.655Z"
   },
   {
    "duration": 23,
    "start_time": "2023-06-23T11:14:26.642Z"
   },
   {
    "duration": 276,
    "start_time": "2023-06-23T11:14:27.353Z"
   },
   {
    "duration": 5,
    "start_time": "2023-06-23T11:14:27.775Z"
   },
   {
    "duration": 7,
    "start_time": "2023-06-23T11:14:28.073Z"
   },
   {
    "duration": 718,
    "start_time": "2023-06-23T11:14:28.671Z"
   },
   {
    "duration": 10,
    "start_time": "2023-06-23T11:14:31.149Z"
   },
   {
    "duration": 5,
    "start_time": "2023-06-23T11:15:26.570Z"
   },
   {
    "duration": 7,
    "start_time": "2023-06-23T11:15:26.894Z"
   },
   {
    "duration": 93045,
    "start_time": "2023-06-23T11:15:27.802Z"
   },
   {
    "duration": 144,
    "start_time": "2023-06-23T11:17:00.864Z"
   },
   {
    "duration": 8,
    "start_time": "2023-06-23T11:22:23.467Z"
   },
   {
    "duration": 1028,
    "start_time": "2023-06-23T11:22:23.641Z"
   },
   {
    "duration": 641,
    "start_time": "2023-06-23T11:22:24.672Z"
   },
   {
    "duration": 438,
    "start_time": "2023-06-23T11:22:25.315Z"
   },
   {
    "duration": 10,
    "start_time": "2023-06-23T11:22:25.756Z"
   },
   {
    "duration": 24,
    "start_time": "2023-06-23T11:22:26.142Z"
   },
   {
    "duration": 384,
    "start_time": "2023-06-23T11:22:27.313Z"
   },
   {
    "duration": 6,
    "start_time": "2023-06-23T11:22:27.705Z"
   },
   {
    "duration": 19,
    "start_time": "2023-06-23T11:22:27.909Z"
   },
   {
    "duration": 9,
    "start_time": "2023-06-23T11:23:05.555Z"
   },
   {
    "duration": 918,
    "start_time": "2023-06-23T11:23:05.729Z"
   },
   {
    "duration": 683,
    "start_time": "2023-06-23T11:23:06.650Z"
   },
   {
    "duration": 193,
    "start_time": "2023-06-23T11:23:07.335Z"
   },
   {
    "duration": 10,
    "start_time": "2023-06-23T11:23:07.530Z"
   },
   {
    "duration": 22,
    "start_time": "2023-06-23T11:23:09.029Z"
   },
   {
    "duration": 376,
    "start_time": "2023-06-23T11:23:09.633Z"
   },
   {
    "duration": 3,
    "start_time": "2023-06-23T11:23:10.213Z"
   },
   {
    "duration": 6,
    "start_time": "2023-06-23T11:23:11.141Z"
   },
   {
    "duration": 6,
    "start_time": "2023-06-23T11:23:14.110Z"
   },
   {
    "duration": 676,
    "start_time": "2023-06-23T11:23:16.509Z"
   },
   {
    "duration": 8,
    "start_time": "2023-06-23T11:24:56.721Z"
   },
   {
    "duration": 890,
    "start_time": "2023-06-23T11:24:56.912Z"
   },
   {
    "duration": 760,
    "start_time": "2023-06-23T11:24:57.804Z"
   },
   {
    "duration": 231,
    "start_time": "2023-06-23T11:24:58.568Z"
   },
   {
    "duration": 10,
    "start_time": "2023-06-23T11:24:58.801Z"
   },
   {
    "duration": 22,
    "start_time": "2023-06-23T11:25:00.409Z"
   },
   {
    "duration": 248,
    "start_time": "2023-06-23T11:25:01.134Z"
   },
   {
    "duration": 4,
    "start_time": "2023-06-23T11:25:01.652Z"
   },
   {
    "duration": 5,
    "start_time": "2023-06-23T11:25:01.969Z"
   },
   {
    "duration": 4,
    "start_time": "2023-06-23T11:25:03.854Z"
   },
   {
    "duration": 1658,
    "start_time": "2023-06-23T11:25:05.301Z"
   },
   {
    "duration": 10,
    "start_time": "2023-06-23T11:25:52.105Z"
   },
   {
    "duration": 975,
    "start_time": "2023-06-23T11:25:52.267Z"
   },
   {
    "duration": 624,
    "start_time": "2023-06-23T11:25:53.245Z"
   },
   {
    "duration": 171,
    "start_time": "2023-06-23T11:25:53.871Z"
   },
   {
    "duration": 16,
    "start_time": "2023-06-23T11:25:54.044Z"
   },
   {
    "duration": 21,
    "start_time": "2023-06-23T11:25:54.165Z"
   },
   {
    "duration": 240,
    "start_time": "2023-06-23T11:25:54.540Z"
   },
   {
    "duration": 4,
    "start_time": "2023-06-23T11:25:54.875Z"
   },
   {
    "duration": 6,
    "start_time": "2023-06-23T11:25:55.057Z"
   },
   {
    "duration": 5,
    "start_time": "2023-06-23T11:25:55.418Z"
   },
   {
    "duration": 1017,
    "start_time": "2023-06-23T11:25:56.433Z"
   },
   {
    "duration": 10,
    "start_time": "2023-06-23T11:27:27.506Z"
   },
   {
    "duration": 908,
    "start_time": "2023-06-23T11:27:27.672Z"
   },
   {
    "duration": 625,
    "start_time": "2023-06-23T11:27:28.582Z"
   },
   {
    "duration": 158,
    "start_time": "2023-06-23T11:27:29.209Z"
   },
   {
    "duration": 11,
    "start_time": "2023-06-23T11:27:29.370Z"
   },
   {
    "duration": 19,
    "start_time": "2023-06-23T11:27:29.569Z"
   },
   {
    "duration": 241,
    "start_time": "2023-06-23T11:27:30.070Z"
   },
   {
    "duration": 4,
    "start_time": "2023-06-23T11:27:30.425Z"
   },
   {
    "duration": 5,
    "start_time": "2023-06-23T11:27:30.623Z"
   },
   {
    "duration": 5,
    "start_time": "2023-06-23T11:27:31.371Z"
   },
   {
    "duration": 3051,
    "start_time": "2023-06-23T11:27:32.905Z"
   },
   {
    "duration": 8,
    "start_time": "2023-06-23T11:27:51.163Z"
   },
   {
    "duration": 900,
    "start_time": "2023-06-23T11:27:51.321Z"
   },
   {
    "duration": 710,
    "start_time": "2023-06-23T11:27:52.223Z"
   },
   {
    "duration": 164,
    "start_time": "2023-06-23T11:27:52.936Z"
   },
   {
    "duration": 9,
    "start_time": "2023-06-23T11:27:53.103Z"
   },
   {
    "duration": 17,
    "start_time": "2023-06-23T11:27:53.170Z"
   },
   {
    "duration": 307,
    "start_time": "2023-06-23T11:27:53.528Z"
   },
   {
    "duration": 4,
    "start_time": "2023-06-23T11:27:53.870Z"
   },
   {
    "duration": 5,
    "start_time": "2023-06-23T11:27:54.040Z"
   },
   {
    "duration": 5,
    "start_time": "2023-06-23T11:27:54.377Z"
   },
   {
    "duration": 736,
    "start_time": "2023-06-23T11:27:54.750Z"
   },
   {
    "duration": 9,
    "start_time": "2023-06-23T11:27:55.489Z"
   },
   {
    "duration": 8,
    "start_time": "2023-06-23T11:28:08.009Z"
   },
   {
    "duration": 885,
    "start_time": "2023-06-23T11:28:08.170Z"
   },
   {
    "duration": 635,
    "start_time": "2023-06-23T11:28:09.059Z"
   },
   {
    "duration": 210,
    "start_time": "2023-06-23T11:28:09.697Z"
   },
   {
    "duration": 9,
    "start_time": "2023-06-23T11:28:09.909Z"
   },
   {
    "duration": 17,
    "start_time": "2023-06-23T11:28:09.978Z"
   },
   {
    "duration": 252,
    "start_time": "2023-06-23T11:28:10.313Z"
   },
   {
    "duration": 5,
    "start_time": "2023-06-23T11:28:10.626Z"
   },
   {
    "duration": 5,
    "start_time": "2023-06-23T11:28:10.849Z"
   },
   {
    "duration": 7,
    "start_time": "2023-06-23T11:28:11.442Z"
   },
   {
    "duration": 1267,
    "start_time": "2023-06-23T11:28:12.470Z"
   },
   {
    "duration": 9,
    "start_time": "2023-06-23T11:49:42.571Z"
   },
   {
    "duration": 827,
    "start_time": "2023-06-23T11:49:42.733Z"
   },
   {
    "duration": 598,
    "start_time": "2023-06-23T11:49:43.562Z"
   },
   {
    "duration": 200,
    "start_time": "2023-06-23T11:49:44.162Z"
   },
   {
    "duration": 7,
    "start_time": "2023-06-23T11:49:44.364Z"
   },
   {
    "duration": 16,
    "start_time": "2023-06-23T11:49:45.728Z"
   },
   {
    "duration": 246,
    "start_time": "2023-06-23T11:49:46.724Z"
   },
   {
    "duration": 3,
    "start_time": "2023-06-23T11:49:47.275Z"
   },
   {
    "duration": 6,
    "start_time": "2023-06-23T11:49:47.513Z"
   },
   {
    "duration": 4,
    "start_time": "2023-06-23T11:49:48.766Z"
   },
   {
    "duration": 1207,
    "start_time": "2023-06-23T11:49:50.969Z"
   },
   {
    "duration": 1851,
    "start_time": "2023-06-23T12:10:51.970Z"
   },
   {
    "duration": 0,
    "start_time": "2023-06-23T12:10:53.824Z"
   },
   {
    "duration": 0,
    "start_time": "2023-06-23T12:10:53.826Z"
   },
   {
    "duration": 0,
    "start_time": "2023-06-23T12:10:53.827Z"
   },
   {
    "duration": 0,
    "start_time": "2023-06-23T12:10:53.828Z"
   },
   {
    "duration": 0,
    "start_time": "2023-06-23T12:10:53.829Z"
   },
   {
    "duration": 0,
    "start_time": "2023-06-23T12:10:53.830Z"
   },
   {
    "duration": 0,
    "start_time": "2023-06-23T12:10:53.831Z"
   },
   {
    "duration": 0,
    "start_time": "2023-06-23T12:10:53.832Z"
   },
   {
    "duration": 0,
    "start_time": "2023-06-23T12:10:53.833Z"
   },
   {
    "duration": 0,
    "start_time": "2023-06-23T12:10:53.834Z"
   },
   {
    "duration": 0,
    "start_time": "2023-06-23T12:10:53.853Z"
   },
   {
    "duration": 0,
    "start_time": "2023-06-23T12:10:53.854Z"
   },
   {
    "duration": 0,
    "start_time": "2023-06-23T12:10:53.855Z"
   },
   {
    "duration": 0,
    "start_time": "2023-06-23T12:10:53.856Z"
   },
   {
    "duration": 0,
    "start_time": "2023-06-23T12:10:53.857Z"
   },
   {
    "duration": 0,
    "start_time": "2023-06-23T12:10:53.858Z"
   },
   {
    "duration": 0,
    "start_time": "2023-06-23T12:10:53.859Z"
   },
   {
    "duration": 0,
    "start_time": "2023-06-23T12:10:53.860Z"
   },
   {
    "duration": 0,
    "start_time": "2023-06-23T12:10:53.861Z"
   },
   {
    "duration": 0,
    "start_time": "2023-06-23T12:10:53.862Z"
   },
   {
    "duration": 0,
    "start_time": "2023-06-23T12:10:53.863Z"
   },
   {
    "duration": 0,
    "start_time": "2023-06-23T12:10:53.864Z"
   },
   {
    "duration": 0,
    "start_time": "2023-06-23T12:10:53.865Z"
   },
   {
    "duration": 0,
    "start_time": "2023-06-23T12:10:53.866Z"
   },
   {
    "duration": 0,
    "start_time": "2023-06-23T12:10:53.867Z"
   },
   {
    "duration": 0,
    "start_time": "2023-06-23T12:10:53.868Z"
   },
   {
    "duration": 0,
    "start_time": "2023-06-23T12:10:53.869Z"
   },
   {
    "duration": 0,
    "start_time": "2023-06-23T12:10:53.870Z"
   },
   {
    "duration": 0,
    "start_time": "2023-06-23T12:10:53.871Z"
   },
   {
    "duration": 0,
    "start_time": "2023-06-23T12:10:53.872Z"
   },
   {
    "duration": 0,
    "start_time": "2023-06-23T12:10:53.873Z"
   },
   {
    "duration": 0,
    "start_time": "2023-06-23T12:10:53.875Z"
   },
   {
    "duration": 12,
    "start_time": "2023-06-23T12:11:19.824Z"
   },
   {
    "duration": 383,
    "start_time": "2023-06-23T12:13:00.429Z"
   },
   {
    "duration": 910,
    "start_time": "2023-06-23T12:13:05.271Z"
   },
   {
    "duration": 627,
    "start_time": "2023-06-23T12:13:06.381Z"
   },
   {
    "duration": 174,
    "start_time": "2023-06-23T12:13:07.010Z"
   },
   {
    "duration": 8,
    "start_time": "2023-06-23T12:13:07.186Z"
   },
   {
    "duration": 15,
    "start_time": "2023-06-23T12:13:09.012Z"
   },
   {
    "duration": 254,
    "start_time": "2023-06-23T12:13:10.324Z"
   },
   {
    "duration": 5,
    "start_time": "2023-06-23T12:13:10.724Z"
   },
   {
    "duration": 4,
    "start_time": "2023-06-23T12:13:10.908Z"
   },
   {
    "duration": 4,
    "start_time": "2023-06-23T12:13:13.442Z"
   },
   {
    "duration": 2145,
    "start_time": "2023-06-23T12:14:07.373Z"
   },
   {
    "duration": 880,
    "start_time": "2023-06-23T12:14:09.521Z"
   },
   {
    "duration": 602,
    "start_time": "2023-06-23T12:14:10.403Z"
   },
   {
    "duration": 163,
    "start_time": "2023-06-23T12:14:11.007Z"
   },
   {
    "duration": 7,
    "start_time": "2023-06-23T12:14:11.172Z"
   },
   {
    "duration": 44,
    "start_time": "2023-06-23T12:14:11.181Z"
   },
   {
    "duration": 263,
    "start_time": "2023-06-23T12:14:11.227Z"
   },
   {
    "duration": 4,
    "start_time": "2023-06-23T12:14:11.492Z"
   },
   {
    "duration": 14,
    "start_time": "2023-06-23T12:14:11.498Z"
   },
   {
    "duration": 17,
    "start_time": "2023-06-23T12:14:11.514Z"
   },
   {
    "duration": 1221478,
    "start_time": "2023-06-23T12:14:11.533Z"
   },
   {
    "duration": 56,
    "start_time": "2023-06-23T12:34:33.022Z"
   },
   {
    "duration": 118,
    "start_time": "2023-06-23T12:34:33.082Z"
   },
   {
    "duration": 4,
    "start_time": "2023-06-23T12:34:33.202Z"
   },
   {
    "duration": 40,
    "start_time": "2023-06-23T12:34:33.208Z"
   },
   {
    "duration": 141,
    "start_time": "2023-06-23T12:34:33.250Z"
   },
   {
    "duration": 3,
    "start_time": "2023-06-23T12:34:33.393Z"
   },
   {
    "duration": 7779,
    "start_time": "2023-06-23T12:34:33.398Z"
   },
   {
    "duration": 824781,
    "start_time": "2023-06-23T12:34:41.179Z"
   },
   {
    "duration": 93,
    "start_time": "2023-06-23T12:48:25.963Z"
   },
   {
    "duration": 197264,
    "start_time": "2023-06-23T12:48:26.058Z"
   },
   {
    "duration": 4,
    "start_time": "2023-06-23T12:51:43.324Z"
   },
   {
    "duration": 67,
    "start_time": "2023-06-23T12:51:43.329Z"
   },
   {
    "duration": 0,
    "start_time": "2023-06-23T12:51:43.398Z"
   },
   {
    "duration": 0,
    "start_time": "2023-06-23T12:51:43.398Z"
   },
   {
    "duration": 0,
    "start_time": "2023-06-23T12:51:43.400Z"
   },
   {
    "duration": 0,
    "start_time": "2023-06-23T12:51:43.401Z"
   },
   {
    "duration": 0,
    "start_time": "2023-06-23T12:51:43.402Z"
   },
   {
    "duration": 0,
    "start_time": "2023-06-23T12:51:43.403Z"
   },
   {
    "duration": 1,
    "start_time": "2023-06-23T12:51:43.404Z"
   },
   {
    "duration": 0,
    "start_time": "2023-06-23T12:51:43.405Z"
   },
   {
    "duration": 0,
    "start_time": "2023-06-23T12:51:43.407Z"
   },
   {
    "duration": 0,
    "start_time": "2023-06-23T12:51:43.409Z"
   },
   {
    "duration": 0,
    "start_time": "2023-06-23T12:51:43.410Z"
   },
   {
    "duration": 192677,
    "start_time": "2023-06-23T12:52:10.599Z"
   },
   {
    "duration": 31059,
    "start_time": "2023-06-23T12:55:35.809Z"
   },
   {
    "duration": 1806,
    "start_time": "2023-06-23T12:56:36.335Z"
   },
   {
    "duration": 3,
    "start_time": "2023-06-23T12:56:38.452Z"
   },
   {
    "duration": 53955,
    "start_time": "2023-06-23T12:56:40.703Z"
   },
   {
    "duration": 95,
    "start_time": "2023-06-23T12:57:34.664Z"
   },
   {
    "duration": 29,
    "start_time": "2023-06-23T12:57:34.761Z"
   },
   {
    "duration": 8,
    "start_time": "2023-06-23T13:04:12.123Z"
   },
   {
    "duration": 35,
    "start_time": "2023-06-23T13:04:19.019Z"
   },
   {
    "duration": 59,
    "start_time": "2023-06-23T13:04:49.705Z"
   },
   {
    "duration": 3709,
    "start_time": "2023-06-23T13:05:18.599Z"
   },
   {
    "duration": 2483,
    "start_time": "2023-06-23T13:05:25.569Z"
   },
   {
    "duration": 0,
    "start_time": "2023-06-23T13:07:00.557Z"
   },
   {
    "duration": 65,
    "start_time": "2023-06-23T13:24:29.816Z"
   },
   {
    "duration": 2108,
    "start_time": "2023-06-23T13:26:42.123Z"
   },
   {
    "duration": 864,
    "start_time": "2023-06-23T13:26:44.233Z"
   },
   {
    "duration": 605,
    "start_time": "2023-06-23T13:26:45.099Z"
   },
   {
    "duration": 151,
    "start_time": "2023-06-23T13:26:45.706Z"
   },
   {
    "duration": 7,
    "start_time": "2023-06-23T13:26:45.859Z"
   },
   {
    "duration": 143,
    "start_time": "2023-06-23T13:26:45.868Z"
   },
   {
    "duration": 385,
    "start_time": "2023-06-23T13:26:46.013Z"
   },
   {
    "duration": 4,
    "start_time": "2023-06-23T13:26:46.400Z"
   },
   {
    "duration": 43,
    "start_time": "2023-06-23T13:26:46.406Z"
   },
   {
    "duration": 67,
    "start_time": "2023-06-23T13:26:46.451Z"
   },
   {
    "duration": 0,
    "start_time": "2023-06-23T13:26:46.520Z"
   },
   {
    "duration": 0,
    "start_time": "2023-06-23T13:26:46.522Z"
   },
   {
    "duration": 0,
    "start_time": "2023-06-23T13:26:46.523Z"
   },
   {
    "duration": 0,
    "start_time": "2023-06-23T13:26:46.524Z"
   },
   {
    "duration": 0,
    "start_time": "2023-06-23T13:26:46.525Z"
   },
   {
    "duration": 0,
    "start_time": "2023-06-23T13:26:46.527Z"
   },
   {
    "duration": 0,
    "start_time": "2023-06-23T13:26:46.528Z"
   },
   {
    "duration": 0,
    "start_time": "2023-06-23T13:26:46.529Z"
   },
   {
    "duration": 0,
    "start_time": "2023-06-23T13:26:46.530Z"
   },
   {
    "duration": 0,
    "start_time": "2023-06-23T13:26:46.531Z"
   },
   {
    "duration": 0,
    "start_time": "2023-06-23T13:26:46.532Z"
   },
   {
    "duration": 0,
    "start_time": "2023-06-23T13:26:46.533Z"
   },
   {
    "duration": 0,
    "start_time": "2023-06-23T13:26:46.534Z"
   },
   {
    "duration": 0,
    "start_time": "2023-06-23T13:26:46.535Z"
   },
   {
    "duration": 0,
    "start_time": "2023-06-23T13:26:46.537Z"
   },
   {
    "duration": 0,
    "start_time": "2023-06-23T13:26:46.538Z"
   },
   {
    "duration": 0,
    "start_time": "2023-06-23T13:26:46.539Z"
   },
   {
    "duration": 0,
    "start_time": "2023-06-23T13:26:46.540Z"
   },
   {
    "duration": 0,
    "start_time": "2023-06-23T13:26:46.540Z"
   },
   {
    "duration": 0,
    "start_time": "2023-06-23T13:26:46.542Z"
   },
   {
    "duration": 0,
    "start_time": "2023-06-23T13:26:46.543Z"
   },
   {
    "duration": 0,
    "start_time": "2023-06-23T13:26:46.544Z"
   },
   {
    "duration": 1970,
    "start_time": "2023-06-23T13:27:15.450Z"
   },
   {
    "duration": 869,
    "start_time": "2023-06-23T13:27:17.422Z"
   },
   {
    "duration": 602,
    "start_time": "2023-06-23T13:27:18.292Z"
   },
   {
    "duration": 166,
    "start_time": "2023-06-23T13:27:18.897Z"
   },
   {
    "duration": 7,
    "start_time": "2023-06-23T13:27:19.065Z"
   },
   {
    "duration": 51,
    "start_time": "2023-06-23T13:27:19.073Z"
   },
   {
    "duration": 291,
    "start_time": "2023-06-23T13:27:19.125Z"
   },
   {
    "duration": 4,
    "start_time": "2023-06-23T13:27:19.418Z"
   },
   {
    "duration": 37,
    "start_time": "2023-06-23T13:27:19.423Z"
   },
   {
    "duration": 1288230,
    "start_time": "2023-06-23T13:27:19.463Z"
   },
   {
    "duration": 7,
    "start_time": "2023-06-23T13:48:47.695Z"
   },
   {
    "duration": 26,
    "start_time": "2023-06-23T13:48:47.704Z"
   },
   {
    "duration": 79,
    "start_time": "2023-06-23T13:48:47.732Z"
   },
   {
    "duration": 4,
    "start_time": "2023-06-23T13:48:47.813Z"
   },
   {
    "duration": 22,
    "start_time": "2023-06-23T13:48:47.819Z"
   },
   {
    "duration": 91,
    "start_time": "2023-06-23T13:48:47.844Z"
   },
   {
    "duration": 3,
    "start_time": "2023-06-23T13:48:47.937Z"
   },
   {
    "duration": 7789,
    "start_time": "2023-06-23T13:48:47.942Z"
   },
   {
    "duration": 834427,
    "start_time": "2023-06-23T13:48:55.733Z"
   },
   {
    "duration": 93,
    "start_time": "2023-06-23T14:02:50.162Z"
   },
   {
    "duration": 200283,
    "start_time": "2023-06-23T14:02:50.257Z"
   },
   {
    "duration": 5,
    "start_time": "2023-06-23T14:06:10.541Z"
   },
   {
    "duration": 141115,
    "start_time": "2023-06-23T14:06:10.554Z"
   },
   {
    "duration": 0,
    "start_time": "2023-06-23T14:08:31.671Z"
   },
   {
    "duration": 0,
    "start_time": "2023-06-23T14:08:31.672Z"
   },
   {
    "duration": 0,
    "start_time": "2023-06-23T14:08:31.674Z"
   },
   {
    "duration": 0,
    "start_time": "2023-06-23T14:08:31.675Z"
   },
   {
    "duration": 0,
    "start_time": "2023-06-23T14:08:31.677Z"
   },
   {
    "duration": 0,
    "start_time": "2023-06-23T14:08:31.678Z"
   },
   {
    "duration": 0,
    "start_time": "2023-06-23T14:08:31.679Z"
   },
   {
    "duration": 0,
    "start_time": "2023-06-23T14:08:31.681Z"
   },
   {
    "duration": 0,
    "start_time": "2023-06-23T14:08:31.682Z"
   },
   {
    "duration": 7,
    "start_time": "2023-06-23T14:13:42.917Z"
   },
   {
    "duration": 819,
    "start_time": "2023-06-23T14:13:50.193Z"
   },
   {
    "duration": 578,
    "start_time": "2023-06-23T14:13:51.014Z"
   },
   {
    "duration": 160,
    "start_time": "2023-06-23T14:13:51.594Z"
   },
   {
    "duration": 7,
    "start_time": "2023-06-23T14:13:51.756Z"
   },
   {
    "duration": 17,
    "start_time": "2023-06-23T14:13:53.052Z"
   },
   {
    "duration": 233,
    "start_time": "2023-06-23T14:13:53.920Z"
   },
   {
    "duration": 4,
    "start_time": "2023-06-23T14:13:54.825Z"
   },
   {
    "duration": 5,
    "start_time": "2023-06-23T14:13:55.030Z"
   },
   {
    "duration": 6983,
    "start_time": "2023-06-23T14:13:57.105Z"
   },
   {
    "duration": 1966,
    "start_time": "2023-06-23T14:14:48.721Z"
   },
   {
    "duration": 888,
    "start_time": "2023-06-23T14:14:50.689Z"
   },
   {
    "duration": 617,
    "start_time": "2023-06-23T14:14:51.578Z"
   },
   {
    "duration": 175,
    "start_time": "2023-06-23T14:14:52.197Z"
   },
   {
    "duration": 7,
    "start_time": "2023-06-23T14:14:52.374Z"
   },
   {
    "duration": 54,
    "start_time": "2023-06-23T14:14:52.383Z"
   },
   {
    "duration": 370,
    "start_time": "2023-06-23T14:14:52.438Z"
   },
   {
    "duration": 4,
    "start_time": "2023-06-23T14:14:52.810Z"
   },
   {
    "duration": 80,
    "start_time": "2023-06-23T14:14:52.816Z"
   },
   {
    "duration": 209,
    "start_time": "2023-06-23T14:14:52.899Z"
   },
   {
    "duration": 0,
    "start_time": "2023-06-23T14:14:53.110Z"
   },
   {
    "duration": 0,
    "start_time": "2023-06-23T14:14:53.111Z"
   },
   {
    "duration": 0,
    "start_time": "2023-06-23T14:14:53.113Z"
   },
   {
    "duration": 0,
    "start_time": "2023-06-23T14:14:53.114Z"
   },
   {
    "duration": 0,
    "start_time": "2023-06-23T14:14:53.115Z"
   },
   {
    "duration": 0,
    "start_time": "2023-06-23T14:14:53.116Z"
   },
   {
    "duration": 0,
    "start_time": "2023-06-23T14:14:53.117Z"
   },
   {
    "duration": 0,
    "start_time": "2023-06-23T14:14:53.118Z"
   },
   {
    "duration": 0,
    "start_time": "2023-06-23T14:14:53.120Z"
   },
   {
    "duration": 0,
    "start_time": "2023-06-23T14:14:53.121Z"
   },
   {
    "duration": 0,
    "start_time": "2023-06-23T14:14:53.123Z"
   },
   {
    "duration": 0,
    "start_time": "2023-06-23T14:14:53.124Z"
   },
   {
    "duration": 0,
    "start_time": "2023-06-23T14:14:53.126Z"
   },
   {
    "duration": 0,
    "start_time": "2023-06-23T14:14:53.127Z"
   },
   {
    "duration": 0,
    "start_time": "2023-06-23T14:14:53.128Z"
   },
   {
    "duration": 0,
    "start_time": "2023-06-23T14:14:53.155Z"
   },
   {
    "duration": 0,
    "start_time": "2023-06-23T14:14:53.156Z"
   },
   {
    "duration": 0,
    "start_time": "2023-06-23T14:14:53.157Z"
   },
   {
    "duration": 0,
    "start_time": "2023-06-23T14:14:53.159Z"
   },
   {
    "duration": 0,
    "start_time": "2023-06-23T14:14:53.161Z"
   },
   {
    "duration": 0,
    "start_time": "2023-06-23T14:14:53.162Z"
   },
   {
    "duration": 0,
    "start_time": "2023-06-23T14:14:53.164Z"
   },
   {
    "duration": 2248,
    "start_time": "2023-06-23T14:15:56.117Z"
   },
   {
    "duration": 886,
    "start_time": "2023-06-23T14:15:58.368Z"
   },
   {
    "duration": 598,
    "start_time": "2023-06-23T14:15:59.256Z"
   },
   {
    "duration": 157,
    "start_time": "2023-06-23T14:15:59.857Z"
   },
   {
    "duration": 7,
    "start_time": "2023-06-23T14:16:00.015Z"
   },
   {
    "duration": 75,
    "start_time": "2023-06-23T14:16:00.024Z"
   },
   {
    "duration": 282,
    "start_time": "2023-06-23T14:16:00.100Z"
   },
   {
    "duration": 3,
    "start_time": "2023-06-23T14:16:00.384Z"
   },
   {
    "duration": 88,
    "start_time": "2023-06-23T14:16:00.389Z"
   },
   {
    "duration": 14223,
    "start_time": "2023-06-23T14:16:00.480Z"
   },
   {
    "duration": 0,
    "start_time": "2023-06-23T14:16:14.705Z"
   },
   {
    "duration": 0,
    "start_time": "2023-06-23T14:16:14.706Z"
   },
   {
    "duration": 0,
    "start_time": "2023-06-23T14:16:14.707Z"
   },
   {
    "duration": 0,
    "start_time": "2023-06-23T14:16:14.708Z"
   },
   {
    "duration": 0,
    "start_time": "2023-06-23T14:16:14.710Z"
   },
   {
    "duration": 0,
    "start_time": "2023-06-23T14:16:14.711Z"
   },
   {
    "duration": 0,
    "start_time": "2023-06-23T14:16:14.712Z"
   },
   {
    "duration": 0,
    "start_time": "2023-06-23T14:16:14.713Z"
   },
   {
    "duration": 0,
    "start_time": "2023-06-23T14:16:14.714Z"
   },
   {
    "duration": 0,
    "start_time": "2023-06-23T14:16:14.715Z"
   },
   {
    "duration": 0,
    "start_time": "2023-06-23T14:16:14.717Z"
   },
   {
    "duration": 0,
    "start_time": "2023-06-23T14:16:14.718Z"
   },
   {
    "duration": 0,
    "start_time": "2023-06-23T14:16:14.719Z"
   },
   {
    "duration": 0,
    "start_time": "2023-06-23T14:16:14.720Z"
   },
   {
    "duration": 0,
    "start_time": "2023-06-23T14:16:14.721Z"
   },
   {
    "duration": 0,
    "start_time": "2023-06-23T14:16:14.722Z"
   },
   {
    "duration": 0,
    "start_time": "2023-06-23T14:16:14.723Z"
   },
   {
    "duration": 0,
    "start_time": "2023-06-23T14:16:14.724Z"
   },
   {
    "duration": 0,
    "start_time": "2023-06-23T14:16:14.725Z"
   },
   {
    "duration": 0,
    "start_time": "2023-06-23T14:16:14.727Z"
   },
   {
    "duration": 0,
    "start_time": "2023-06-23T14:16:14.728Z"
   },
   {
    "duration": 0,
    "start_time": "2023-06-23T14:16:14.729Z"
   },
   {
    "duration": 11,
    "start_time": "2023-06-23T14:20:09.048Z"
   },
   {
    "duration": 4,
    "start_time": "2023-06-23T14:21:59.056Z"
   },
   {
    "duration": 2356,
    "start_time": "2023-06-23T14:21:59.421Z"
   },
   {
    "duration": 2262,
    "start_time": "2023-06-23T14:23:06.013Z"
   },
   {
    "duration": 6,
    "start_time": "2023-06-23T14:23:57.525Z"
   },
   {
    "duration": 28,
    "start_time": "2023-06-23T14:23:58.014Z"
   },
   {
    "duration": 2295,
    "start_time": "2023-06-23T14:24:00.431Z"
   },
   {
    "duration": 6741,
    "start_time": "2023-06-23T14:26:14.008Z"
   },
   {
    "duration": 43,
    "start_time": "2023-06-23T14:26:23.302Z"
   },
   {
    "duration": 2385,
    "start_time": "2023-06-23T14:26:24.516Z"
   },
   {
    "duration": 231,
    "start_time": "2023-06-23T14:26:40.764Z"
   },
   {
    "duration": 0,
    "start_time": "2023-06-23T14:27:09.888Z"
   },
   {
    "duration": 0,
    "start_time": "2023-06-23T14:27:09.890Z"
   },
   {
    "duration": 0,
    "start_time": "2023-06-23T14:27:09.891Z"
   },
   {
    "duration": 127,
    "start_time": "2023-06-23T14:35:10.709Z"
   },
   {
    "duration": 8,
    "start_time": "2023-06-23T14:36:45.053Z"
   },
   {
    "duration": 2444,
    "start_time": "2023-06-23T14:43:15.434Z"
   },
   {
    "duration": 2590,
    "start_time": "2023-06-23T14:44:11.906Z"
   },
   {
    "duration": 2382,
    "start_time": "2023-06-23T14:45:14.340Z"
   },
   {
    "duration": 8,
    "start_time": "2023-06-23T14:46:29.212Z"
   },
   {
    "duration": 834,
    "start_time": "2023-06-23T14:46:33.638Z"
   },
   {
    "duration": 609,
    "start_time": "2023-06-23T14:46:34.474Z"
   },
   {
    "duration": 156,
    "start_time": "2023-06-23T14:46:35.086Z"
   },
   {
    "duration": 16,
    "start_time": "2023-06-23T14:46:35.244Z"
   },
   {
    "duration": 17,
    "start_time": "2023-06-23T14:46:36.404Z"
   },
   {
    "duration": 313,
    "start_time": "2023-06-23T14:46:42.404Z"
   },
   {
    "duration": 4,
    "start_time": "2023-06-23T14:46:43.741Z"
   },
   {
    "duration": 7,
    "start_time": "2023-06-23T14:46:44.168Z"
   },
   {
    "duration": 7387,
    "start_time": "2023-06-23T14:46:48.201Z"
   }
  ],
  "kernelspec": {
   "display_name": "Python 3 (ipykernel)",
   "language": "python",
   "name": "python3"
  },
  "language_info": {
   "codemirror_mode": {
    "name": "ipython",
    "version": 3
   },
   "file_extension": ".py",
   "mimetype": "text/x-python",
   "name": "python",
   "nbconvert_exporter": "python",
   "pygments_lexer": "ipython3",
   "version": "3.10.9"
  },
  "toc": {
   "base_numbering": 1,
   "nav_menu": {},
   "number_sections": true,
   "sideBar": true,
   "skip_h1_title": true,
   "title_cell": "Содержание",
   "title_sidebar": "Contents",
   "toc_cell": true,
   "toc_position": {
    "height": "calc(100% - 180px)",
    "left": "10px",
    "top": "150px",
    "width": "302.383px"
   },
   "toc_section_display": true,
   "toc_window_display": true
  }
 },
 "nbformat": 4,
 "nbformat_minor": 2
}
