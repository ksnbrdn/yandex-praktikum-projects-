{
 "cells": [
  {
   "cell_type": "markdown",
   "metadata": {},
   "source": [
    "# Определение стоимости автомобилей"
   ]
  },
  {
   "cell_type": "markdown",
   "metadata": {},
   "source": [
    "<b>Описание проекта</b>  "
   ]
  },
  {
   "cell_type": "markdown",
   "metadata": {},
   "source": [
    "Сервис по продаже автомобилей с пробегом «Не бит, не крашен» разрабатывает приложение для привлечения новых клиентов. В нём можно быстро узнать рыночную стоимость своего автомобиля.  \n",
    "В нашем распоряжении исторические данные: технические характеристики, комплектации и цены автомобилей. Нам надо построить модель для определения стоимости. \n",
    "\n",
    "Заказчику важны:\n",
    "\n",
    "- качество предсказания;\n",
    "- скорость предсказания;\n",
    "- время обучения.  \n",
    "\n",
    "Наша задача:    \n",
    "- Загрузить и изучить данные.  \n",
    "- Заполнить пропущенные значения и обработайть аномалии в столбцах. Если среди признаков имеются неинформативные, удалить их.  \n",
    "- Подготовьть выборки для обучения моделей.  \n",
    "- Обучить разные модели, одна из которых — LightGBM, как минимум одна — не бустинг. Для каждой модели попробовать разные гиперпараметры.  \n",
    "- Проанализировать время обучения, время предсказания и качество моделей.  \n",
    "- Опираясь на критерии заказчика, выбрать лучшую модель, проверить её качество на тестовой выборке.  \n",
    "\n",
    "Признаки:\n",
    "    \n",
    "    DateCrawled — дата скачивания анкеты из базы\n",
    "    VehicleType — тип автомобильного кузова\n",
    "    RegistrationYear — год регистрации автомобиля\n",
    "    Gearbox — тип коробки передач\n",
    "    Power — мощность (л. с.)\n",
    "    Model — модель автомобиля\n",
    "    Kilometer — пробег (км)\n",
    "    RegistrationMonth — месяц регистрации автомобиля\n",
    "    FuelType — тип топлива\n",
    "    Brand — марка автомобиля\n",
    "    Repaired — была машина в ремонте или нет\n",
    "    DateCreated — дата создания анкеты\n",
    "    NumberOfPictures — количество фотографий автомобиля\n",
    "    PostalCode — почтовый индекс владельца анкеты (пользователя)\n",
    "    LastSeen — дата последней активности пользователя\n",
    "\n",
    "Целевой признак\n",
    "Price — цена (евро)\n",
    "\n",
    "Примечания:\n",
    "\n",
    "    Для оценки качества моделей применяйте метрику RMSE.\n",
    "    Значение метрики RMSE должно быть меньше 2500.\n",
    "\n",
    "\n"
   ]
  },
  {
   "cell_type": "markdown",
   "metadata": {},
   "source": [
    "## Изучение файла с данными"
   ]
  },
  {
   "cell_type": "code",
   "execution_count": 248,
   "metadata": {},
   "outputs": [
    {
     "name": "stdout",
     "output_type": "stream",
     "text": [
      "Requirement already satisfied: catboost in c:\\users\\ksu\\anaconda3\\lib\\site-packages (1.2.7)\n",
      "Requirement already satisfied: graphviz in c:\\users\\ksu\\anaconda3\\lib\\site-packages (from catboost) (0.20.3)\n",
      "Requirement already satisfied: pandas>=0.24 in c:\\users\\ksu\\anaconda3\\lib\\site-packages (from catboost) (1.5.3)\n",
      "Requirement already satisfied: plotly in c:\\users\\ksu\\anaconda3\\lib\\site-packages (from catboost) (5.9.0)\n",
      "Requirement already satisfied: six in c:\\users\\ksu\\anaconda3\\lib\\site-packages (from catboost) (1.16.0)\n",
      "Requirement already satisfied: scipy in c:\\users\\ksu\\anaconda3\\lib\\site-packages (from catboost) (1.10.0)\n",
      "Requirement already satisfied: numpy<2.0,>=1.16.0 in c:\\users\\ksu\\anaconda3\\lib\\site-packages (from catboost) (1.23.5)\n",
      "Requirement already satisfied: matplotlib in c:\\users\\ksu\\anaconda3\\lib\\site-packages (from catboost) (3.7.0)\n",
      "Requirement already satisfied: python-dateutil>=2.8.1 in c:\\users\\ksu\\anaconda3\\lib\\site-packages (from pandas>=0.24->catboost) (2.8.2)\n",
      "Requirement already satisfied: pytz>=2020.1 in c:\\users\\ksu\\anaconda3\\lib\\site-packages (from pandas>=0.24->catboost) (2022.7)\n",
      "Requirement already satisfied: pillow>=6.2.0 in c:\\users\\ksu\\anaconda3\\lib\\site-packages (from matplotlib->catboost) (9.4.0)\n",
      "Requirement already satisfied: fonttools>=4.22.0 in c:\\users\\ksu\\anaconda3\\lib\\site-packages (from matplotlib->catboost) (4.25.0)\n",
      "Requirement already satisfied: kiwisolver>=1.0.1 in c:\\users\\ksu\\anaconda3\\lib\\site-packages (from matplotlib->catboost) (1.4.4)\n",
      "Requirement already satisfied: cycler>=0.10 in c:\\users\\ksu\\anaconda3\\lib\\site-packages (from matplotlib->catboost) (0.11.0)\n",
      "Requirement already satisfied: contourpy>=1.0.1 in c:\\users\\ksu\\anaconda3\\lib\\site-packages (from matplotlib->catboost) (1.0.5)\n",
      "Requirement already satisfied: packaging>=20.0 in c:\\users\\ksu\\anaconda3\\lib\\site-packages (from matplotlib->catboost) (22.0)\n",
      "Requirement already satisfied: pyparsing>=2.3.1 in c:\\users\\ksu\\anaconda3\\lib\\site-packages (from matplotlib->catboost) (3.0.9)\n",
      "Requirement already satisfied: tenacity>=6.2.0 in c:\\users\\ksu\\anaconda3\\lib\\site-packages (from plotly->catboost) (8.0.1)\n",
      "Requirement already satisfied: lightgbm in c:\\users\\ksu\\anaconda3\\lib\\site-packages (4.5.0)\n",
      "Requirement already satisfied: scipy in c:\\users\\ksu\\anaconda3\\lib\\site-packages (from lightgbm) (1.10.0)\n",
      "Requirement already satisfied: numpy>=1.17.0 in c:\\users\\ksu\\anaconda3\\lib\\site-packages (from lightgbm) (1.23.5)\n"
     ]
    }
   ],
   "source": [
    "!pip3 install catboost\n",
    "!pip install lightgbm"
   ]
  },
  {
   "cell_type": "code",
   "execution_count": 249,
   "metadata": {},
   "outputs": [],
   "source": [
    "# Импортируем библиотеки\n",
    "import warnings\n",
    "\n",
    "import pandas as pd \n",
    "import numpy as np \n",
    "import matplotlib.pyplot as plt\n",
    "import seaborn as sns\n",
    "\n",
    "from sklearn.pipeline import Pipeline \n",
    "from sklearn.compose import ColumnTransformer\n",
    "\n",
    "from sklearn.ensemble import RandomForestRegressor\n",
    "from catboost import CatBoostRegressor\n",
    "from lightgbm import LGBMRegressor\n",
    "\n",
    "from sklearn.model_selection import (RandomizedSearchCV,\n",
    "                                     train_test_split)\n",
    "from sklearn.preprocessing import (OneHotEncoder,\n",
    "                                   OrdinalEncoder,\n",
    "                                   StandardScaler)\n",
    "from tqdm import trange\n",
    "import time\n",
    "\n",
    "warnings.filterwarnings(\"ignore\")"
   ]
  },
  {
   "cell_type": "code",
   "execution_count": 250,
   "metadata": {},
   "outputs": [],
   "source": [
    "# Определим константы\n",
    "RANDOM_STATE = 42\n",
    "PERC = np.arange(0,1,0.05)"
   ]
  },
  {
   "cell_type": "code",
   "execution_count": 251,
   "metadata": {},
   "outputs": [],
   "source": [
    "# Читаем данные из csv-файла и сохраним в переменную\n",
    "data = pd.read_csv('https://code.s3.yandex.net/datasets/autos.csv')"
   ]
  },
  {
   "cell_type": "code",
   "execution_count": 252,
   "metadata": {},
   "outputs": [
    {
     "name": "stdout",
     "output_type": "stream",
     "text": [
      "<class 'pandas.core.frame.DataFrame'>\n",
      "RangeIndex: 354369 entries, 0 to 354368\n",
      "Data columns (total 16 columns):\n",
      " #   Column             Non-Null Count   Dtype \n",
      "---  ------             --------------   ----- \n",
      " 0   DateCrawled        354369 non-null  object\n",
      " 1   Price              354369 non-null  int64 \n",
      " 2   VehicleType        316879 non-null  object\n",
      " 3   RegistrationYear   354369 non-null  int64 \n",
      " 4   Gearbox            334536 non-null  object\n",
      " 5   Power              354369 non-null  int64 \n",
      " 6   Model              334664 non-null  object\n",
      " 7   Kilometer          354369 non-null  int64 \n",
      " 8   RegistrationMonth  354369 non-null  int64 \n",
      " 9   FuelType           321474 non-null  object\n",
      " 10  Brand              354369 non-null  object\n",
      " 11  Repaired           283215 non-null  object\n",
      " 12  DateCreated        354369 non-null  object\n",
      " 13  NumberOfPictures   354369 non-null  int64 \n",
      " 14  PostalCode         354369 non-null  int64 \n",
      " 15  LastSeen           354369 non-null  object\n",
      "dtypes: int64(7), object(9)\n",
      "memory usage: 43.3+ MB\n"
     ]
    },
    {
     "data": {
      "text/plain": [
       "None"
      ]
     },
     "metadata": {},
     "output_type": "display_data"
    },
    {
     "data": {
      "text/html": [
       "<div>\n",
       "<style scoped>\n",
       "    .dataframe tbody tr th:only-of-type {\n",
       "        vertical-align: middle;\n",
       "    }\n",
       "\n",
       "    .dataframe tbody tr th {\n",
       "        vertical-align: top;\n",
       "    }\n",
       "\n",
       "    .dataframe thead th {\n",
       "        text-align: right;\n",
       "    }\n",
       "</style>\n",
       "<table border=\"1\" class=\"dataframe\">\n",
       "  <thead>\n",
       "    <tr style=\"text-align: right;\">\n",
       "      <th></th>\n",
       "      <th>DateCrawled</th>\n",
       "      <th>Price</th>\n",
       "      <th>VehicleType</th>\n",
       "      <th>RegistrationYear</th>\n",
       "      <th>Gearbox</th>\n",
       "      <th>Power</th>\n",
       "      <th>Model</th>\n",
       "      <th>Kilometer</th>\n",
       "      <th>RegistrationMonth</th>\n",
       "      <th>FuelType</th>\n",
       "      <th>Brand</th>\n",
       "      <th>Repaired</th>\n",
       "      <th>DateCreated</th>\n",
       "      <th>NumberOfPictures</th>\n",
       "      <th>PostalCode</th>\n",
       "      <th>LastSeen</th>\n",
       "    </tr>\n",
       "  </thead>\n",
       "  <tbody>\n",
       "    <tr>\n",
       "      <th>0</th>\n",
       "      <td>2016-03-24 11:52:17</td>\n",
       "      <td>480</td>\n",
       "      <td>NaN</td>\n",
       "      <td>1993</td>\n",
       "      <td>manual</td>\n",
       "      <td>0</td>\n",
       "      <td>golf</td>\n",
       "      <td>150000</td>\n",
       "      <td>0</td>\n",
       "      <td>petrol</td>\n",
       "      <td>volkswagen</td>\n",
       "      <td>NaN</td>\n",
       "      <td>2016-03-24 00:00:00</td>\n",
       "      <td>0</td>\n",
       "      <td>70435</td>\n",
       "      <td>2016-04-07 03:16:57</td>\n",
       "    </tr>\n",
       "    <tr>\n",
       "      <th>1</th>\n",
       "      <td>2016-03-24 10:58:45</td>\n",
       "      <td>18300</td>\n",
       "      <td>coupe</td>\n",
       "      <td>2011</td>\n",
       "      <td>manual</td>\n",
       "      <td>190</td>\n",
       "      <td>NaN</td>\n",
       "      <td>125000</td>\n",
       "      <td>5</td>\n",
       "      <td>gasoline</td>\n",
       "      <td>audi</td>\n",
       "      <td>yes</td>\n",
       "      <td>2016-03-24 00:00:00</td>\n",
       "      <td>0</td>\n",
       "      <td>66954</td>\n",
       "      <td>2016-04-07 01:46:50</td>\n",
       "    </tr>\n",
       "    <tr>\n",
       "      <th>2</th>\n",
       "      <td>2016-03-14 12:52:21</td>\n",
       "      <td>9800</td>\n",
       "      <td>suv</td>\n",
       "      <td>2004</td>\n",
       "      <td>auto</td>\n",
       "      <td>163</td>\n",
       "      <td>grand</td>\n",
       "      <td>125000</td>\n",
       "      <td>8</td>\n",
       "      <td>gasoline</td>\n",
       "      <td>jeep</td>\n",
       "      <td>NaN</td>\n",
       "      <td>2016-03-14 00:00:00</td>\n",
       "      <td>0</td>\n",
       "      <td>90480</td>\n",
       "      <td>2016-04-05 12:47:46</td>\n",
       "    </tr>\n",
       "    <tr>\n",
       "      <th>3</th>\n",
       "      <td>2016-03-17 16:54:04</td>\n",
       "      <td>1500</td>\n",
       "      <td>small</td>\n",
       "      <td>2001</td>\n",
       "      <td>manual</td>\n",
       "      <td>75</td>\n",
       "      <td>golf</td>\n",
       "      <td>150000</td>\n",
       "      <td>6</td>\n",
       "      <td>petrol</td>\n",
       "      <td>volkswagen</td>\n",
       "      <td>no</td>\n",
       "      <td>2016-03-17 00:00:00</td>\n",
       "      <td>0</td>\n",
       "      <td>91074</td>\n",
       "      <td>2016-03-17 17:40:17</td>\n",
       "    </tr>\n",
       "    <tr>\n",
       "      <th>4</th>\n",
       "      <td>2016-03-31 17:25:20</td>\n",
       "      <td>3600</td>\n",
       "      <td>small</td>\n",
       "      <td>2008</td>\n",
       "      <td>manual</td>\n",
       "      <td>69</td>\n",
       "      <td>fabia</td>\n",
       "      <td>90000</td>\n",
       "      <td>7</td>\n",
       "      <td>gasoline</td>\n",
       "      <td>skoda</td>\n",
       "      <td>no</td>\n",
       "      <td>2016-03-31 00:00:00</td>\n",
       "      <td>0</td>\n",
       "      <td>60437</td>\n",
       "      <td>2016-04-06 10:17:21</td>\n",
       "    </tr>\n",
       "  </tbody>\n",
       "</table>\n",
       "</div>"
      ],
      "text/plain": [
       "           DateCrawled  Price VehicleType  RegistrationYear Gearbox  Power  \\\n",
       "0  2016-03-24 11:52:17    480         NaN              1993  manual      0   \n",
       "1  2016-03-24 10:58:45  18300       coupe              2011  manual    190   \n",
       "2  2016-03-14 12:52:21   9800         suv              2004    auto    163   \n",
       "3  2016-03-17 16:54:04   1500       small              2001  manual     75   \n",
       "4  2016-03-31 17:25:20   3600       small              2008  manual     69   \n",
       "\n",
       "   Model  Kilometer  RegistrationMonth  FuelType       Brand Repaired  \\\n",
       "0   golf     150000                  0    petrol  volkswagen      NaN   \n",
       "1    NaN     125000                  5  gasoline        audi      yes   \n",
       "2  grand     125000                  8  gasoline        jeep      NaN   \n",
       "3   golf     150000                  6    petrol  volkswagen       no   \n",
       "4  fabia      90000                  7  gasoline       skoda       no   \n",
       "\n",
       "           DateCreated  NumberOfPictures  PostalCode             LastSeen  \n",
       "0  2016-03-24 00:00:00                 0       70435  2016-04-07 03:16:57  \n",
       "1  2016-03-24 00:00:00                 0       66954  2016-04-07 01:46:50  \n",
       "2  2016-03-14 00:00:00                 0       90480  2016-04-05 12:47:46  \n",
       "3  2016-03-17 00:00:00                 0       91074  2016-03-17 17:40:17  \n",
       "4  2016-03-31 00:00:00                 0       60437  2016-04-06 10:17:21  "
      ]
     },
     "metadata": {},
     "output_type": "display_data"
    },
    {
     "data": {
      "text/html": [
       "<div>\n",
       "<style scoped>\n",
       "    .dataframe tbody tr th:only-of-type {\n",
       "        vertical-align: middle;\n",
       "    }\n",
       "\n",
       "    .dataframe tbody tr th {\n",
       "        vertical-align: top;\n",
       "    }\n",
       "\n",
       "    .dataframe thead th {\n",
       "        text-align: right;\n",
       "    }\n",
       "</style>\n",
       "<table border=\"1\" class=\"dataframe\">\n",
       "  <thead>\n",
       "    <tr style=\"text-align: right;\">\n",
       "      <th></th>\n",
       "      <th>count</th>\n",
       "      <th>unique</th>\n",
       "      <th>top</th>\n",
       "      <th>freq</th>\n",
       "      <th>mean</th>\n",
       "      <th>std</th>\n",
       "      <th>min</th>\n",
       "      <th>25%</th>\n",
       "      <th>50%</th>\n",
       "      <th>75%</th>\n",
       "      <th>max</th>\n",
       "    </tr>\n",
       "  </thead>\n",
       "  <tbody>\n",
       "    <tr>\n",
       "      <th>DateCrawled</th>\n",
       "      <td>354369</td>\n",
       "      <td>271174</td>\n",
       "      <td>2016-03-24 14:49:47</td>\n",
       "      <td>7</td>\n",
       "      <td>NaN</td>\n",
       "      <td>NaN</td>\n",
       "      <td>NaN</td>\n",
       "      <td>NaN</td>\n",
       "      <td>NaN</td>\n",
       "      <td>NaN</td>\n",
       "      <td>NaN</td>\n",
       "    </tr>\n",
       "    <tr>\n",
       "      <th>Price</th>\n",
       "      <td>354369.0</td>\n",
       "      <td>NaN</td>\n",
       "      <td>NaN</td>\n",
       "      <td>NaN</td>\n",
       "      <td>4416.66</td>\n",
       "      <td>4514.16</td>\n",
       "      <td>0.0</td>\n",
       "      <td>1050.0</td>\n",
       "      <td>2700.0</td>\n",
       "      <td>6400.0</td>\n",
       "      <td>20000.0</td>\n",
       "    </tr>\n",
       "    <tr>\n",
       "      <th>VehicleType</th>\n",
       "      <td>316879</td>\n",
       "      <td>8</td>\n",
       "      <td>sedan</td>\n",
       "      <td>91457</td>\n",
       "      <td>NaN</td>\n",
       "      <td>NaN</td>\n",
       "      <td>NaN</td>\n",
       "      <td>NaN</td>\n",
       "      <td>NaN</td>\n",
       "      <td>NaN</td>\n",
       "      <td>NaN</td>\n",
       "    </tr>\n",
       "    <tr>\n",
       "      <th>RegistrationYear</th>\n",
       "      <td>354369.0</td>\n",
       "      <td>NaN</td>\n",
       "      <td>NaN</td>\n",
       "      <td>NaN</td>\n",
       "      <td>2004.23</td>\n",
       "      <td>90.23</td>\n",
       "      <td>1000.0</td>\n",
       "      <td>1999.0</td>\n",
       "      <td>2003.0</td>\n",
       "      <td>2008.0</td>\n",
       "      <td>9999.0</td>\n",
       "    </tr>\n",
       "    <tr>\n",
       "      <th>Gearbox</th>\n",
       "      <td>334536</td>\n",
       "      <td>2</td>\n",
       "      <td>manual</td>\n",
       "      <td>268251</td>\n",
       "      <td>NaN</td>\n",
       "      <td>NaN</td>\n",
       "      <td>NaN</td>\n",
       "      <td>NaN</td>\n",
       "      <td>NaN</td>\n",
       "      <td>NaN</td>\n",
       "      <td>NaN</td>\n",
       "    </tr>\n",
       "    <tr>\n",
       "      <th>Power</th>\n",
       "      <td>354369.0</td>\n",
       "      <td>NaN</td>\n",
       "      <td>NaN</td>\n",
       "      <td>NaN</td>\n",
       "      <td>110.09</td>\n",
       "      <td>189.85</td>\n",
       "      <td>0.0</td>\n",
       "      <td>69.0</td>\n",
       "      <td>105.0</td>\n",
       "      <td>143.0</td>\n",
       "      <td>20000.0</td>\n",
       "    </tr>\n",
       "    <tr>\n",
       "      <th>Model</th>\n",
       "      <td>334664</td>\n",
       "      <td>250</td>\n",
       "      <td>golf</td>\n",
       "      <td>29232</td>\n",
       "      <td>NaN</td>\n",
       "      <td>NaN</td>\n",
       "      <td>NaN</td>\n",
       "      <td>NaN</td>\n",
       "      <td>NaN</td>\n",
       "      <td>NaN</td>\n",
       "      <td>NaN</td>\n",
       "    </tr>\n",
       "    <tr>\n",
       "      <th>Kilometer</th>\n",
       "      <td>354369.0</td>\n",
       "      <td>NaN</td>\n",
       "      <td>NaN</td>\n",
       "      <td>NaN</td>\n",
       "      <td>128211.17</td>\n",
       "      <td>37905.34</td>\n",
       "      <td>5000.0</td>\n",
       "      <td>125000.0</td>\n",
       "      <td>150000.0</td>\n",
       "      <td>150000.0</td>\n",
       "      <td>150000.0</td>\n",
       "    </tr>\n",
       "    <tr>\n",
       "      <th>RegistrationMonth</th>\n",
       "      <td>354369.0</td>\n",
       "      <td>NaN</td>\n",
       "      <td>NaN</td>\n",
       "      <td>NaN</td>\n",
       "      <td>5.71</td>\n",
       "      <td>3.73</td>\n",
       "      <td>0.0</td>\n",
       "      <td>3.0</td>\n",
       "      <td>6.0</td>\n",
       "      <td>9.0</td>\n",
       "      <td>12.0</td>\n",
       "    </tr>\n",
       "    <tr>\n",
       "      <th>FuelType</th>\n",
       "      <td>321474</td>\n",
       "      <td>7</td>\n",
       "      <td>petrol</td>\n",
       "      <td>216352</td>\n",
       "      <td>NaN</td>\n",
       "      <td>NaN</td>\n",
       "      <td>NaN</td>\n",
       "      <td>NaN</td>\n",
       "      <td>NaN</td>\n",
       "      <td>NaN</td>\n",
       "      <td>NaN</td>\n",
       "    </tr>\n",
       "    <tr>\n",
       "      <th>Brand</th>\n",
       "      <td>354369</td>\n",
       "      <td>40</td>\n",
       "      <td>volkswagen</td>\n",
       "      <td>77013</td>\n",
       "      <td>NaN</td>\n",
       "      <td>NaN</td>\n",
       "      <td>NaN</td>\n",
       "      <td>NaN</td>\n",
       "      <td>NaN</td>\n",
       "      <td>NaN</td>\n",
       "      <td>NaN</td>\n",
       "    </tr>\n",
       "    <tr>\n",
       "      <th>Repaired</th>\n",
       "      <td>283215</td>\n",
       "      <td>2</td>\n",
       "      <td>no</td>\n",
       "      <td>247161</td>\n",
       "      <td>NaN</td>\n",
       "      <td>NaN</td>\n",
       "      <td>NaN</td>\n",
       "      <td>NaN</td>\n",
       "      <td>NaN</td>\n",
       "      <td>NaN</td>\n",
       "      <td>NaN</td>\n",
       "    </tr>\n",
       "    <tr>\n",
       "      <th>DateCreated</th>\n",
       "      <td>354369</td>\n",
       "      <td>109</td>\n",
       "      <td>2016-04-03 00:00:00</td>\n",
       "      <td>13719</td>\n",
       "      <td>NaN</td>\n",
       "      <td>NaN</td>\n",
       "      <td>NaN</td>\n",
       "      <td>NaN</td>\n",
       "      <td>NaN</td>\n",
       "      <td>NaN</td>\n",
       "      <td>NaN</td>\n",
       "    </tr>\n",
       "    <tr>\n",
       "      <th>NumberOfPictures</th>\n",
       "      <td>354369.0</td>\n",
       "      <td>NaN</td>\n",
       "      <td>NaN</td>\n",
       "      <td>NaN</td>\n",
       "      <td>0.0</td>\n",
       "      <td>0.0</td>\n",
       "      <td>0.0</td>\n",
       "      <td>0.0</td>\n",
       "      <td>0.0</td>\n",
       "      <td>0.0</td>\n",
       "      <td>0.0</td>\n",
       "    </tr>\n",
       "    <tr>\n",
       "      <th>PostalCode</th>\n",
       "      <td>354369.0</td>\n",
       "      <td>NaN</td>\n",
       "      <td>NaN</td>\n",
       "      <td>NaN</td>\n",
       "      <td>50508.69</td>\n",
       "      <td>25783.1</td>\n",
       "      <td>1067.0</td>\n",
       "      <td>30165.0</td>\n",
       "      <td>49413.0</td>\n",
       "      <td>71083.0</td>\n",
       "      <td>99998.0</td>\n",
       "    </tr>\n",
       "    <tr>\n",
       "      <th>LastSeen</th>\n",
       "      <td>354369</td>\n",
       "      <td>179150</td>\n",
       "      <td>2016-04-06 13:45:54</td>\n",
       "      <td>17</td>\n",
       "      <td>NaN</td>\n",
       "      <td>NaN</td>\n",
       "      <td>NaN</td>\n",
       "      <td>NaN</td>\n",
       "      <td>NaN</td>\n",
       "      <td>NaN</td>\n",
       "      <td>NaN</td>\n",
       "    </tr>\n",
       "  </tbody>\n",
       "</table>\n",
       "</div>"
      ],
      "text/plain": [
       "                      count  unique                  top    freq       mean  \\\n",
       "DateCrawled          354369  271174  2016-03-24 14:49:47       7        NaN   \n",
       "Price              354369.0     NaN                  NaN     NaN    4416.66   \n",
       "VehicleType          316879       8                sedan   91457        NaN   \n",
       "RegistrationYear   354369.0     NaN                  NaN     NaN    2004.23   \n",
       "Gearbox              334536       2               manual  268251        NaN   \n",
       "Power              354369.0     NaN                  NaN     NaN     110.09   \n",
       "Model                334664     250                 golf   29232        NaN   \n",
       "Kilometer          354369.0     NaN                  NaN     NaN  128211.17   \n",
       "RegistrationMonth  354369.0     NaN                  NaN     NaN       5.71   \n",
       "FuelType             321474       7               petrol  216352        NaN   \n",
       "Brand                354369      40           volkswagen   77013        NaN   \n",
       "Repaired             283215       2                   no  247161        NaN   \n",
       "DateCreated          354369     109  2016-04-03 00:00:00   13719        NaN   \n",
       "NumberOfPictures   354369.0     NaN                  NaN     NaN        0.0   \n",
       "PostalCode         354369.0     NaN                  NaN     NaN   50508.69   \n",
       "LastSeen             354369  179150  2016-04-06 13:45:54      17        NaN   \n",
       "\n",
       "                        std     min       25%       50%       75%       max  \n",
       "DateCrawled             NaN     NaN       NaN       NaN       NaN       NaN  \n",
       "Price               4514.16     0.0    1050.0    2700.0    6400.0   20000.0  \n",
       "VehicleType             NaN     NaN       NaN       NaN       NaN       NaN  \n",
       "RegistrationYear      90.23  1000.0    1999.0    2003.0    2008.0    9999.0  \n",
       "Gearbox                 NaN     NaN       NaN       NaN       NaN       NaN  \n",
       "Power                189.85     0.0      69.0     105.0     143.0   20000.0  \n",
       "Model                   NaN     NaN       NaN       NaN       NaN       NaN  \n",
       "Kilometer          37905.34  5000.0  125000.0  150000.0  150000.0  150000.0  \n",
       "RegistrationMonth      3.73     0.0       3.0       6.0       9.0      12.0  \n",
       "FuelType                NaN     NaN       NaN       NaN       NaN       NaN  \n",
       "Brand                   NaN     NaN       NaN       NaN       NaN       NaN  \n",
       "Repaired                NaN     NaN       NaN       NaN       NaN       NaN  \n",
       "DateCreated             NaN     NaN       NaN       NaN       NaN       NaN  \n",
       "NumberOfPictures        0.0     0.0       0.0       0.0       0.0       0.0  \n",
       "PostalCode          25783.1  1067.0   30165.0   49413.0   71083.0   99998.0  \n",
       "LastSeen                NaN     NaN       NaN       NaN       NaN       NaN  "
      ]
     },
     "metadata": {},
     "output_type": "display_data"
    },
    {
     "data": {
      "text/html": [
       "<style type=\"text/css\">\n",
       "#T_b6636_row0_col0, #T_b6636_row1_col1, #T_b6636_row2_col2, #T_b6636_row3_col3, #T_b6636_row4_col4, #T_b6636_row6_col6 {\n",
       "  background-color: #004529;\n",
       "  color: #f1f1f1;\n",
       "}\n",
       "#T_b6636_row0_col1 {\n",
       "  background-color: #fafdcb;\n",
       "  color: #000000;\n",
       "}\n",
       "#T_b6636_row0_col2 {\n",
       "  background-color: #eff9b3;\n",
       "  color: #000000;\n",
       "}\n",
       "#T_b6636_row0_col3, #T_b6636_row1_col2, #T_b6636_row1_col4, #T_b6636_row3_col0, #T_b6636_row3_col1, #T_b6636_row3_col6 {\n",
       "  background-color: #ffffe5;\n",
       "  color: #000000;\n",
       "}\n",
       "#T_b6636_row0_col4 {\n",
       "  background-color: #f7fcbc;\n",
       "  color: #000000;\n",
       "}\n",
       "#T_b6636_row0_col5, #T_b6636_row1_col5, #T_b6636_row2_col5, #T_b6636_row3_col5, #T_b6636_row4_col5, #T_b6636_row5_col0, #T_b6636_row5_col1, #T_b6636_row5_col2, #T_b6636_row5_col3, #T_b6636_row5_col4, #T_b6636_row5_col5, #T_b6636_row5_col6, #T_b6636_row6_col5 {\n",
       "  background-color: #000000;\n",
       "  color: #f1f1f1;\n",
       "}\n",
       "#T_b6636_row0_col6 {\n",
       "  background-color: #fafdc8;\n",
       "  color: #000000;\n",
       "}\n",
       "#T_b6636_row1_col0 {\n",
       "  background-color: #d2eda0;\n",
       "  color: #000000;\n",
       "}\n",
       "#T_b6636_row1_col3 {\n",
       "  background-color: #e3f4aa;\n",
       "  color: #000000;\n",
       "}\n",
       "#T_b6636_row1_col6 {\n",
       "  background-color: #ffffe4;\n",
       "  color: #000000;\n",
       "}\n",
       "#T_b6636_row2_col0 {\n",
       "  background-color: #afde8f;\n",
       "  color: #000000;\n",
       "}\n",
       "#T_b6636_row2_col1, #T_b6636_row6_col1 {\n",
       "  background-color: #fcfed4;\n",
       "  color: #000000;\n",
       "}\n",
       "#T_b6636_row2_col3 {\n",
       "  background-color: #d3eda0;\n",
       "  color: #000000;\n",
       "}\n",
       "#T_b6636_row2_col4 {\n",
       "  background-color: #fcfed3;\n",
       "  color: #000000;\n",
       "}\n",
       "#T_b6636_row2_col6 {\n",
       "  background-color: #fdfedb;\n",
       "  color: #000000;\n",
       "}\n",
       "#T_b6636_row3_col2, #T_b6636_row6_col4 {\n",
       "  background-color: #fdfedd;\n",
       "  color: #000000;\n",
       "}\n",
       "#T_b6636_row3_col4, #T_b6636_row4_col6, #T_b6636_row6_col2 {\n",
       "  background-color: #feffde;\n",
       "  color: #000000;\n",
       "}\n",
       "#T_b6636_row4_col0 {\n",
       "  background-color: #bce395;\n",
       "  color: #000000;\n",
       "}\n",
       "#T_b6636_row4_col1 {\n",
       "  background-color: #fcfed7;\n",
       "  color: #000000;\n",
       "}\n",
       "#T_b6636_row4_col2 {\n",
       "  background-color: #fcfed6;\n",
       "  color: #000000;\n",
       "}\n",
       "#T_b6636_row4_col3 {\n",
       "  background-color: #d7efa2;\n",
       "  color: #000000;\n",
       "}\n",
       "#T_b6636_row6_col0 {\n",
       "  background-color: #c5e89a;\n",
       "  color: #000000;\n",
       "}\n",
       "#T_b6636_row6_col3 {\n",
       "  background-color: #dbf1a4;\n",
       "  color: #000000;\n",
       "}\n",
       "</style>\n",
       "<table id=\"T_b6636\">\n",
       "  <thead>\n",
       "    <tr>\n",
       "      <th class=\"blank level0\" >&nbsp;</th>\n",
       "      <th id=\"T_b6636_level0_col0\" class=\"col_heading level0 col0\" >Price</th>\n",
       "      <th id=\"T_b6636_level0_col1\" class=\"col_heading level0 col1\" >RegistrationYear</th>\n",
       "      <th id=\"T_b6636_level0_col2\" class=\"col_heading level0 col2\" >Power</th>\n",
       "      <th id=\"T_b6636_level0_col3\" class=\"col_heading level0 col3\" >Kilometer</th>\n",
       "      <th id=\"T_b6636_level0_col4\" class=\"col_heading level0 col4\" >RegistrationMonth</th>\n",
       "      <th id=\"T_b6636_level0_col5\" class=\"col_heading level0 col5\" >NumberOfPictures</th>\n",
       "      <th id=\"T_b6636_level0_col6\" class=\"col_heading level0 col6\" >PostalCode</th>\n",
       "    </tr>\n",
       "  </thead>\n",
       "  <tbody>\n",
       "    <tr>\n",
       "      <th id=\"T_b6636_level0_row0\" class=\"row_heading level0 row0\" >Price</th>\n",
       "      <td id=\"T_b6636_row0_col0\" class=\"data row0 col0\" >1.000000</td>\n",
       "      <td id=\"T_b6636_row0_col1\" class=\"data row0 col1\" >0.026916</td>\n",
       "      <td id=\"T_b6636_row0_col2\" class=\"data row0 col2\" >0.158872</td>\n",
       "      <td id=\"T_b6636_row0_col3\" class=\"data row0 col3\" >-0.333199</td>\n",
       "      <td id=\"T_b6636_row0_col4\" class=\"data row0 col4\" >0.110581</td>\n",
       "      <td id=\"T_b6636_row0_col5\" class=\"data row0 col5\" >nan</td>\n",
       "      <td id=\"T_b6636_row0_col6\" class=\"data row0 col6\" >0.076055</td>\n",
       "    </tr>\n",
       "    <tr>\n",
       "      <th id=\"T_b6636_level0_row1\" class=\"row_heading level0 row1\" >RegistrationYear</th>\n",
       "      <td id=\"T_b6636_row1_col0\" class=\"data row1 col0\" >0.026916</td>\n",
       "      <td id=\"T_b6636_row1_col1\" class=\"data row1 col1\" >1.000000</td>\n",
       "      <td id=\"T_b6636_row1_col2\" class=\"data row1 col2\" >-0.000828</td>\n",
       "      <td id=\"T_b6636_row1_col3\" class=\"data row1 col3\" >-0.053447</td>\n",
       "      <td id=\"T_b6636_row1_col4\" class=\"data row1 col4\" >-0.011619</td>\n",
       "      <td id=\"T_b6636_row1_col5\" class=\"data row1 col5\" >nan</td>\n",
       "      <td id=\"T_b6636_row1_col6\" class=\"data row1 col6\" >-0.003459</td>\n",
       "    </tr>\n",
       "    <tr>\n",
       "      <th id=\"T_b6636_level0_row2\" class=\"row_heading level0 row2\" >Power</th>\n",
       "      <td id=\"T_b6636_row2_col0\" class=\"data row2 col0\" >0.158872</td>\n",
       "      <td id=\"T_b6636_row2_col1\" class=\"data row2 col1\" >-0.000828</td>\n",
       "      <td id=\"T_b6636_row2_col2\" class=\"data row2 col2\" >1.000000</td>\n",
       "      <td id=\"T_b6636_row2_col3\" class=\"data row2 col3\" >0.024002</td>\n",
       "      <td id=\"T_b6636_row2_col4\" class=\"data row2 col4\" >0.043380</td>\n",
       "      <td id=\"T_b6636_row2_col5\" class=\"data row2 col5\" >nan</td>\n",
       "      <td id=\"T_b6636_row2_col6\" class=\"data row2 col6\" >0.021665</td>\n",
       "    </tr>\n",
       "    <tr>\n",
       "      <th id=\"T_b6636_level0_row3\" class=\"row_heading level0 row3\" >Kilometer</th>\n",
       "      <td id=\"T_b6636_row3_col0\" class=\"data row3 col0\" >-0.333199</td>\n",
       "      <td id=\"T_b6636_row3_col1\" class=\"data row3 col1\" >-0.053447</td>\n",
       "      <td id=\"T_b6636_row3_col2\" class=\"data row3 col2\" >0.024002</td>\n",
       "      <td id=\"T_b6636_row3_col3\" class=\"data row3 col3\" >1.000000</td>\n",
       "      <td id=\"T_b6636_row3_col4\" class=\"data row3 col4\" >0.009571</td>\n",
       "      <td id=\"T_b6636_row3_col5\" class=\"data row3 col5\" >nan</td>\n",
       "      <td id=\"T_b6636_row3_col6\" class=\"data row3 col6\" >-0.007698</td>\n",
       "    </tr>\n",
       "    <tr>\n",
       "      <th id=\"T_b6636_level0_row4\" class=\"row_heading level0 row4\" >RegistrationMonth</th>\n",
       "      <td id=\"T_b6636_row4_col0\" class=\"data row4 col0\" >0.110581</td>\n",
       "      <td id=\"T_b6636_row4_col1\" class=\"data row4 col1\" >-0.011619</td>\n",
       "      <td id=\"T_b6636_row4_col2\" class=\"data row4 col2\" >0.043380</td>\n",
       "      <td id=\"T_b6636_row4_col3\" class=\"data row4 col3\" >0.009571</td>\n",
       "      <td id=\"T_b6636_row4_col4\" class=\"data row4 col4\" >1.000000</td>\n",
       "      <td id=\"T_b6636_row4_col5\" class=\"data row4 col5\" >nan</td>\n",
       "      <td id=\"T_b6636_row4_col6\" class=\"data row4 col6\" >0.013995</td>\n",
       "    </tr>\n",
       "    <tr>\n",
       "      <th id=\"T_b6636_level0_row5\" class=\"row_heading level0 row5\" >NumberOfPictures</th>\n",
       "      <td id=\"T_b6636_row5_col0\" class=\"data row5 col0\" >nan</td>\n",
       "      <td id=\"T_b6636_row5_col1\" class=\"data row5 col1\" >nan</td>\n",
       "      <td id=\"T_b6636_row5_col2\" class=\"data row5 col2\" >nan</td>\n",
       "      <td id=\"T_b6636_row5_col3\" class=\"data row5 col3\" >nan</td>\n",
       "      <td id=\"T_b6636_row5_col4\" class=\"data row5 col4\" >nan</td>\n",
       "      <td id=\"T_b6636_row5_col5\" class=\"data row5 col5\" >nan</td>\n",
       "      <td id=\"T_b6636_row5_col6\" class=\"data row5 col6\" >nan</td>\n",
       "    </tr>\n",
       "    <tr>\n",
       "      <th id=\"T_b6636_level0_row6\" class=\"row_heading level0 row6\" >PostalCode</th>\n",
       "      <td id=\"T_b6636_row6_col0\" class=\"data row6 col0\" >0.076055</td>\n",
       "      <td id=\"T_b6636_row6_col1\" class=\"data row6 col1\" >-0.003459</td>\n",
       "      <td id=\"T_b6636_row6_col2\" class=\"data row6 col2\" >0.021665</td>\n",
       "      <td id=\"T_b6636_row6_col3\" class=\"data row6 col3\" >-0.007698</td>\n",
       "      <td id=\"T_b6636_row6_col4\" class=\"data row6 col4\" >0.013995</td>\n",
       "      <td id=\"T_b6636_row6_col5\" class=\"data row6 col5\" >nan</td>\n",
       "      <td id=\"T_b6636_row6_col6\" class=\"data row6 col6\" >1.000000</td>\n",
       "    </tr>\n",
       "  </tbody>\n",
       "</table>\n"
      ],
      "text/plain": [
       "<pandas.io.formats.style.Styler at 0x1b89d79eb60>"
      ]
     },
     "metadata": {},
     "output_type": "display_data"
    },
    {
     "data": {
      "text/plain": [
       "DateCrawled              0\n",
       "Price                    0\n",
       "VehicleType          37490\n",
       "RegistrationYear         0\n",
       "Gearbox              19833\n",
       "Power                    0\n",
       "Model                19705\n",
       "Kilometer                0\n",
       "RegistrationMonth        0\n",
       "FuelType             32895\n",
       "Brand                    0\n",
       "Repaired             71154\n",
       "DateCreated              0\n",
       "NumberOfPictures         0\n",
       "PostalCode               0\n",
       "LastSeen                 0\n",
       "dtype: int64"
      ]
     },
     "metadata": {},
     "output_type": "display_data"
    },
    {
     "data": {
      "text/plain": [
       "(354369, 16)"
      ]
     },
     "metadata": {},
     "output_type": "display_data"
    },
    {
     "name": "stdout",
     "output_type": "stream",
     "text": [
      "Количество дупликатов: 4\n"
     ]
    }
   ],
   "source": [
    "# Изучим общую информацию о полученном датафрейме\n",
    "display(data.info(), data.head(), \n",
    "        data.describe(include='all').round(2).T,\n",
    "        data.corr().style.background_gradient(cmap='YlGn'),\n",
    "        data.isna().sum(), data.shape)                                    \n",
    "print('Количество дупликатов:', data.duplicated().sum()) "
   ]
  },
  {
   "cell_type": "markdown",
   "metadata": {},
   "source": [
    "В таблице 16 столбцов и 354369 строк.  \n",
    "В столбцах 'VehicleType', 'Model', 'Gearbox', 'FuelType', 'Repaired' есть пропуски.    \n",
    "Имеются аномальные значения в столбцах:  \n",
    "'Price' - в столбце с ценами присутствуют нули,  \n",
    "'RegistrationYear' - минимальный год регистриции автомобиля 1000, максимальный - 9999,  \n",
    "'Power' - максимальная мощность автомобиля в лошадинных силах равна 20 000 и минимальная  равна 0,   \n",
    "'NumberOfPictures' - не заполнен,  \n",
    "'Kilometer' - часто повторяется максимальный пробег - 150000, возможно простое ограничение ввода данных на сайте.  \n",
    "'Price' прямо пропорционально зависит от 'RegistrationYear' и 'Power', и обратно пропорционально зависит от 'Kilometer'. Также 'RegistrationYear' обратно пропорционально зависит от 'Kilometer'.    \n",
    "Присутствуют явные дупликаты."
   ]
  },
  {
   "cell_type": "markdown",
   "metadata": {},
   "source": [
    "## Предобработка данных"
   ]
  },
  {
   "cell_type": "markdown",
   "metadata": {},
   "source": [
    "### Удаление дупликатов"
   ]
  },
  {
   "cell_type": "code",
   "execution_count": 253,
   "metadata": {},
   "outputs": [
    {
     "name": "stdout",
     "output_type": "stream",
     "text": [
      "Количество дупликатов: 0\n"
     ]
    }
   ],
   "source": [
    "data.drop_duplicates(inplace=True)  \n",
    "print('Количество дупликатов:', data.duplicated().sum()) "
   ]
  },
  {
   "cell_type": "markdown",
   "metadata": {},
   "source": [
    "### Удаление столбцов"
   ]
  },
  {
   "cell_type": "markdown",
   "metadata": {},
   "source": [
    "Столбцы 'DateCrawled', 'RegistrationMonth', 'DateCreated', 'NumberOfPictures', 'PostalCode', 'LastSeen' - являются неинформативными для последующего обучения моделей, поэтому мы их удалим. "
   ]
  },
  {
   "cell_type": "code",
   "execution_count": 254,
   "metadata": {},
   "outputs": [],
   "source": [
    "data.drop(columns=['DateCrawled', 'RegistrationMonth', 'DateCreated', 'NumberOfPictures', 'PostalCode', 'LastSeen'],\n",
    "          inplace=True,\n",
    "          errors='ignore')"
   ]
  },
  {
   "cell_type": "markdown",
   "metadata": {},
   "source": [
    "### Работа с названиями столбцов"
   ]
  },
  {
   "cell_type": "code",
   "execution_count": 255,
   "metadata": {},
   "outputs": [
    {
     "data": {
      "text/plain": [
       "Index(['price', 'vehicle_type', 'registration_year', 'gearbox', 'power',\n",
       "       'model', 'kilometer', 'fuel_type', 'brand', 'repaired'],\n",
       "      dtype='object')"
      ]
     },
     "execution_count": 255,
     "metadata": {},
     "output_type": "execute_result"
    }
   ],
   "source": [
    "# Переименуем столбцы в соответствии с рекомендациями PEP 8\n",
    "data.columns = data.columns.str.replace(r\"([A-Z])\", r\" \\1\").str.lower().str.replace(' ', '_').str[1:]\n",
    "data.columns"
   ]
  },
  {
   "cell_type": "markdown",
   "metadata": {},
   "source": [
    "### Работа с типами данных"
   ]
  },
  {
   "cell_type": "code",
   "execution_count": 256,
   "metadata": {},
   "outputs": [],
   "source": [
    "# Приведем столбцы с типом 'int64' к типу данных 'int32'\n",
    "int64_cols = list(data.select_dtypes(include='int64'))\n",
    "\n",
    "data[int64_cols] = data[int64_cols].astype('int32')"
   ]
  },
  {
   "cell_type": "markdown",
   "metadata": {},
   "source": [
    "### Работа с пропущенными значениями в столбцах"
   ]
  },
  {
   "cell_type": "markdown",
   "metadata": {},
   "source": [
    "Проверим уникальные значения для всех столбцов с пропусками."
   ]
  },
  {
   "cell_type": "code",
   "execution_count": 257,
   "metadata": {},
   "outputs": [
    {
     "data": {
      "text/plain": [
       "array([nan, 'coupe', 'suv', 'small', 'sedan', 'convertible', 'bus',\n",
       "       'wagon', 'other'], dtype=object)"
      ]
     },
     "execution_count": 257,
     "metadata": {},
     "output_type": "execute_result"
    }
   ],
   "source": [
    "# Проверим уникальные значения\n",
    "data['vehicle_type'].unique()"
   ]
  },
  {
   "cell_type": "code",
   "execution_count": 258,
   "metadata": {},
   "outputs": [],
   "source": [
    "# Заменим пропуски на unknown\n",
    "data['vehicle_type'] = data['vehicle_type'].fillna('unknow')"
   ]
  },
  {
   "cell_type": "code",
   "execution_count": 259,
   "metadata": {},
   "outputs": [
    {
     "data": {
      "text/plain": [
       "array(['golf', nan, 'grand', 'fabia', '3er', '2_reihe', 'other', 'c_max',\n",
       "       '3_reihe', 'passat', 'navara', 'ka', 'polo', 'twingo', 'a_klasse',\n",
       "       'scirocco', '5er', 'meriva', 'arosa', 'c4', 'civic', 'transporter',\n",
       "       'punto', 'e_klasse', 'clio', 'kadett', 'kangoo', 'corsa', 'one',\n",
       "       'fortwo', '1er', 'b_klasse', 'signum', 'astra', 'a8', 'jetta',\n",
       "       'fiesta', 'c_klasse', 'micra', 'vito', 'sprinter', '156', 'escort',\n",
       "       'forester', 'xc_reihe', 'scenic', 'a4', 'a1', 'insignia', 'combo',\n",
       "       'focus', 'tt', 'a6', 'jazz', 'omega', 'slk', '7er', '80', '147',\n",
       "       '100', 'z_reihe', 'sportage', 'sorento', 'v40', 'ibiza', 'mustang',\n",
       "       'eos', 'touran', 'getz', 'a3', 'almera', 'megane', 'lupo', 'r19',\n",
       "       'zafira', 'caddy', 'mondeo', 'cordoba', 'colt', 'impreza',\n",
       "       'vectra', 'berlingo', 'tiguan', 'i_reihe', 'espace', 'sharan',\n",
       "       '6_reihe', 'panda', 'up', 'seicento', 'ceed', '5_reihe', 'yeti',\n",
       "       'octavia', 'mii', 'rx_reihe', '6er', 'modus', 'fox', 'matiz',\n",
       "       'beetle', 'c1', 'rio', 'touareg', 'logan', 'spider', 'cuore',\n",
       "       's_max', 'a2', 'galaxy', 'c3', 'viano', 's_klasse', '1_reihe',\n",
       "       'avensis', 'roomster', 'sl', 'kaefer', 'santa', 'cooper', 'leon',\n",
       "       '4_reihe', 'a5', '500', 'laguna', 'ptcruiser', 'clk', 'primera',\n",
       "       'x_reihe', 'exeo', '159', 'transit', 'juke', 'qashqai', 'carisma',\n",
       "       'accord', 'corolla', 'lanos', 'phaeton', 'verso', 'swift', 'rav',\n",
       "       'picanto', 'boxster', 'kalos', 'superb', 'stilo', 'alhambra',\n",
       "       'mx_reihe', 'roadster', 'ypsilon', 'cayenne', 'galant', 'justy',\n",
       "       '90', 'sirion', 'crossfire', 'agila', 'duster', 'cr_reihe', 'v50',\n",
       "       'c_reihe', 'v_klasse', 'm_klasse', 'yaris', 'c5', 'aygo', 'cc',\n",
       "       'carnival', 'fusion', '911', 'bora', 'forfour', 'm_reihe', 'cl',\n",
       "       'tigra', '300c', 'spark', 'v70', 'kuga', 'x_type', 'ducato',\n",
       "       's_type', 'x_trail', 'toledo', 'altea', 'voyager', 'calibra',\n",
       "       'bravo', 'antara', 'tucson', 'citigo', 'jimny', 'wrangler',\n",
       "       'lybra', 'q7', 'lancer', 'captiva', 'c2', 'discovery',\n",
       "       'freelander', 'sandero', 'note', '900', 'cherokee', 'clubman',\n",
       "       'samara', 'defender', '601', 'cx_reihe', 'legacy', 'pajero',\n",
       "       'auris', 'niva', 's60', 'nubira', 'vivaro', 'g_klasse', 'lodgy',\n",
       "       '850', 'range_rover', 'q3', 'serie_2', 'glk', 'charade', 'croma',\n",
       "       'outlander', 'doblo', 'musa', 'move', '9000', 'v60', '145', 'aveo',\n",
       "       '200', 'b_max', 'range_rover_sport', 'terios', 'rangerover', 'q5',\n",
       "       'range_rover_evoque', 'materia', 'delta', 'gl', 'kalina', 'amarok',\n",
       "       'elefantino', 'i3', 'kappa', 'serie_3', 'serie_1'], dtype=object)"
      ]
     },
     "execution_count": 259,
     "metadata": {},
     "output_type": "execute_result"
    }
   ],
   "source": [
    "# Проверим уникальные значения\n",
    "data['model'].unique()"
   ]
  },
  {
   "cell_type": "code",
   "execution_count": 260,
   "metadata": {},
   "outputs": [],
   "source": [
    "# Заменим пропуски на unknown\n",
    "data['model'] = data['model'].fillna('unknow')"
   ]
  },
  {
   "cell_type": "code",
   "execution_count": 261,
   "metadata": {},
   "outputs": [
    {
     "data": {
      "text/plain": [
       "array(['manual', 'auto', nan], dtype=object)"
      ]
     },
     "execution_count": 261,
     "metadata": {},
     "output_type": "execute_result"
    }
   ],
   "source": [
    "# Проверим уникальные значения\n",
    "data['gearbox'].unique()"
   ]
  },
  {
   "cell_type": "code",
   "execution_count": 262,
   "metadata": {},
   "outputs": [],
   "source": [
    "# Заменим пропуски на unknown\n",
    "data['gearbox'] = data['gearbox'].fillna('unknow')"
   ]
  },
  {
   "cell_type": "code",
   "execution_count": 263,
   "metadata": {},
   "outputs": [
    {
     "data": {
      "text/plain": [
       "array(['petrol', 'gasoline', nan, 'lpg', 'other', 'hybrid', 'cng',\n",
       "       'electric'], dtype=object)"
      ]
     },
     "execution_count": 263,
     "metadata": {},
     "output_type": "execute_result"
    }
   ],
   "source": [
    "# Проверим уникальные значения\n",
    "data['fuel_type'].unique()"
   ]
  },
  {
   "cell_type": "code",
   "execution_count": 264,
   "metadata": {},
   "outputs": [],
   "source": [
    "# Заменим пропуски на unknown\n",
    "data['fuel_type'] = data['fuel_type'].fillna('unknow')"
   ]
  },
  {
   "cell_type": "code",
   "execution_count": 265,
   "metadata": {},
   "outputs": [
    {
     "data": {
      "text/plain": [
       "array([nan, 'yes', 'no'], dtype=object)"
      ]
     },
     "execution_count": 265,
     "metadata": {},
     "output_type": "execute_result"
    }
   ],
   "source": [
    "# Проверим уникальные значения\n",
    "data['repaired'].unique()"
   ]
  },
  {
   "cell_type": "code",
   "execution_count": 266,
   "metadata": {},
   "outputs": [],
   "source": [
    "# Заменим пропуски на unknown\n",
    "data['repaired'] = data['repaired'].fillna('unknow')"
   ]
  },
  {
   "cell_type": "code",
   "execution_count": 267,
   "metadata": {},
   "outputs": [
    {
     "data": {
      "text/plain": [
       "price                0\n",
       "vehicle_type         0\n",
       "registration_year    0\n",
       "gearbox              0\n",
       "power                0\n",
       "model                0\n",
       "kilometer            0\n",
       "fuel_type            0\n",
       "brand                0\n",
       "repaired             0\n",
       "dtype: int64"
      ]
     },
     "execution_count": 267,
     "metadata": {},
     "output_type": "execute_result"
    }
   ],
   "source": [
    "# Проверим количество пропущенных значений для каждого столбца повторно\n",
    "data.isna().sum()"
   ]
  },
  {
   "cell_type": "markdown",
   "metadata": {},
   "source": [
    "В данных столбцах самостоятельно заполнить пропуски мы не можем, заполнили пропуски во всех столбцах значениями-заглушками."
   ]
  },
  {
   "cell_type": "markdown",
   "metadata": {},
   "source": [
    "### Работа с редкими и выбивающимися значениями "
   ]
  },
  {
   "cell_type": "markdown",
   "metadata": {},
   "source": [
    "#### Столбец 'price'"
   ]
  },
  {
   "cell_type": "code",
   "execution_count": 268,
   "metadata": {},
   "outputs": [
    {
     "data": {
      "image/png": "[encoded data removed]",
      "text/plain": [
       "<Figure size 2000x500 with 1 Axes>"
      ]
     },
     "metadata": {},
     "output_type": "display_data"
    }
   ],
   "source": [
    "# Построим гистограмму для столбца 'price'\n",
    "data.price.hist(bins=250, figsize=(20,5), color='skyblue').set_xlabel('Цена', fontsize=18);"
   ]
  },
  {
   "cell_type": "markdown",
   "metadata": {},
   "source": [
    "По графику видно, что количество объявлений с ценой равной нулю достаточно много. Пользователи не стали заполнять стоимость автомобиля. Заполнить цену сами мы не можем. "
   ]
  },
  {
   "cell_type": "code",
   "execution_count": 269,
   "metadata": {},
   "outputs": [
    {
     "data": {
      "text/plain": [
       "10772"
      ]
     },
     "execution_count": 269,
     "metadata": {},
     "output_type": "execute_result"
    }
   ],
   "source": [
    "# Количество объялений с ценой равной нулю\n",
    "len(data[['price']][(data['price'] == 0)])"
   ]
  },
  {
   "cell_type": "code",
   "execution_count": 270,
   "metadata": {},
   "outputs": [
    {
     "name": "stdout",
     "output_type": "stream",
     "text": [
      "count    354365.000000\n",
      "mean       4416.679830\n",
      "std        4514.176349\n",
      "min           0.000000\n",
      "0%            0.000000\n",
      "5%          200.000000\n",
      "10%         499.000000\n",
      "15%         650.000000\n",
      "20%         880.000000\n",
      "25%        1050.000000\n",
      "30%        1300.000000\n",
      "35%        1599.000000\n",
      "40%        1900.000000\n",
      "45%        2300.000000\n",
      "50%        2700.000000\n",
      "55%        3200.000000\n",
      "60%        3800.000000\n",
      "65%        4500.000000\n",
      "70%        5350.000000\n",
      "75%        6400.000000\n",
      "80%        7500.000000\n",
      "85%        9000.000000\n",
      "90%       11450.000000\n",
      "95%       14600.000000\n",
      "max       20000.000000\n",
      "Name: price, dtype: float64\n"
     ]
    }
   ],
   "source": [
    "print(data['price'].describe(percentiles = PERC))"
   ]
  },
  {
   "cell_type": "markdown",
   "metadata": {},
   "source": [
    "Можно установить минимальную стоимость автомобиля, она может равняться 5 персентилю. Максимальную стоимость авто ограничивать не будем."
   ]
  },
  {
   "cell_type": "code",
   "execution_count": 271,
   "metadata": {},
   "outputs": [
    {
     "data": {
      "text/plain": [
       "17462"
      ]
     },
     "execution_count": 271,
     "metadata": {},
     "output_type": "execute_result"
    }
   ],
   "source": [
    "# Проверим количество строк с ценой ниже 200 евро\n",
    "len(data[['price']][(data['price'] < 200)])"
   ]
  },
  {
   "cell_type": "code",
   "execution_count": 272,
   "metadata": {},
   "outputs": [],
   "source": [
    "# Удалим из датасета строки с ценой ниже 200 евро\n",
    "data.drop(data[data['price'] < 200].index, inplace=True)"
   ]
  },
  {
   "cell_type": "markdown",
   "metadata": {},
   "source": [
    "#### Столбец 'registration_year'"
   ]
  },
  {
   "cell_type": "code",
   "execution_count": 273,
   "metadata": {
    "scrolled": true
   },
   "outputs": [
    {
     "data": {
      "image/png": "[encoded data removed]",
      "text/plain": [
       "<Figure size 2500x500 with 1 Axes>"
      ]
     },
     "metadata": {},
     "output_type": "display_data"
    }
   ],
   "source": [
    "# Построим график для столбца 'registration_year'\n",
    "data.pivot_table(index='registration_year', values='brand', aggfunc='count').\\\n",
    "plot.bar(figsize = (25,5), color='purple').set_xlabel('Год регистрации', fontsize=18);"
   ]
  },
  {
   "cell_type": "code",
   "execution_count": 274,
   "metadata": {},
   "outputs": [],
   "source": [
    "#data.groupby('registration_year')['brand'].count().\\\n",
    "#plot(kind='bar',figsize=(25,5), color='purple').set_xlabel('Год регистрации', fontsize=18);"
   ]
  },
  {
   "cell_type": "markdown",
   "metadata": {},
   "source": [
    "Объявления с машинами, выпущенными раннее 1987 года и позднее 2016 года - максимальный год размещения в базе объявлений, можно удалить. "
   ]
  },
  {
   "cell_type": "code",
   "execution_count": 275,
   "metadata": {},
   "outputs": [],
   "source": [
    "data.drop(data[data['registration_year'] < 1987].index, inplace=True)\n",
    "data.drop(data[data['registration_year'] > 2016].index, inplace=True)"
   ]
  },
  {
   "cell_type": "markdown",
   "metadata": {},
   "source": [
    "#### Столбец 'power'"
   ]
  },
  {
   "cell_type": "code",
   "execution_count": 276,
   "metadata": {},
   "outputs": [
    {
     "name": "stdout",
     "output_type": "stream",
     "text": [
      "count    317356.000000\n",
      "mean        113.673216\n",
      "std         184.009173\n",
      "min           0.000000\n",
      "0%            0.000000\n",
      "5%            0.000000\n",
      "10%          45.000000\n",
      "15%          58.000000\n",
      "20%          63.000000\n",
      "25%          75.000000\n",
      "30%          75.000000\n",
      "35%          87.000000\n",
      "40%          95.000000\n",
      "45%         101.000000\n",
      "50%         105.000000\n",
      "55%         115.000000\n",
      "60%         120.000000\n",
      "65%         129.000000\n",
      "70%         140.000000\n",
      "75%         143.000000\n",
      "80%         150.000000\n",
      "85%         170.000000\n",
      "90%         184.000000\n",
      "95%         218.000000\n",
      "max       20000.000000\n",
      "Name: power, dtype: float64\n"
     ]
    }
   ],
   "source": [
    "print(data['power'].describe(percentiles = PERC))"
   ]
  },
  {
   "cell_type": "markdown",
   "metadata": {},
   "source": [
    "В столбце мощности также есть большое количество нулей и выбивающихся значений. Удалим из столбца 'power' объявления с мощностью ниже 45 лс и выше 250 лс."
   ]
  },
  {
   "cell_type": "code",
   "execution_count": 277,
   "metadata": {},
   "outputs": [],
   "source": [
    "data.drop(data[data['power'] < 45].index, inplace=True)\n",
    "data.drop(data[data['power'] > 250].index, inplace=True)"
   ]
  },
  {
   "cell_type": "code",
   "execution_count": 278,
   "metadata": {},
   "outputs": [
    {
     "name": "stdout",
     "output_type": "stream",
     "text": [
      "<class 'pandas.core.frame.DataFrame'>\n",
      "Int64Index: 279946 entries, 1 to 354368\n",
      "Data columns (total 10 columns):\n",
      " #   Column             Non-Null Count   Dtype \n",
      "---  ------             --------------   ----- \n",
      " 0   price              279946 non-null  int32 \n",
      " 1   vehicle_type       279946 non-null  object\n",
      " 2   registration_year  279946 non-null  int32 \n",
      " 3   gearbox            279946 non-null  object\n",
      " 4   power              279946 non-null  int32 \n",
      " 5   model              279946 non-null  object\n",
      " 6   kilometer          279946 non-null  int32 \n",
      " 7   fuel_type          279946 non-null  object\n",
      " 8   brand              279946 non-null  object\n",
      " 9   repaired           279946 non-null  object\n",
      "dtypes: int32(4), object(6)\n",
      "memory usage: 19.2+ MB\n"
     ]
    }
   ],
   "source": [
    "# Проверим общую информацию о нашем датафрейме\n",
    "data.info()"
   ]
  },
  {
   "cell_type": "markdown",
   "metadata": {},
   "source": [
    "В ходе предобработки данных в таблице осталось 10 столбцов и 279946 строк. Мы переименовали столбцы в соответствии с рекомендациями PEP 8. Также заменили пропуски в столбцах 'vehicle_type', 'model', 'gearbox', 'fuel_type', 'repaired' на значения-заглушки 'unknown', т.к. самостоятельно заполнить пропущенные данные мы не можем. В столбцах 'price', 'registration_year', 'power' мы проверили редкие и выбивающиеся значения и поддкорректировали данные. Столбцы 'DateCrawled', 'RegistrationMonth', 'DateCreated', 'NumberOfPictures', 'PostalCode', 'LastSeen' - являются неинформативными для последующего обучения моделей, поэтому мы их удалили. "
   ]
  },
  {
   "cell_type": "markdown",
   "metadata": {},
   "source": [
    "## Обучение моделей"
   ]
  },
  {
   "cell_type": "code",
   "execution_count": 279,
   "metadata": {},
   "outputs": [],
   "source": [
    "# Разобьем данные data на признаки и целевой признак, сохраним в отдельных переменных\n",
    "features = data.drop('price', axis=1).copy()\n",
    "target = data.price.copy()"
   ]
  },
  {
   "cell_type": "code",
   "execution_count": 280,
   "metadata": {},
   "outputs": [],
   "source": [
    "# Разобьем данные на тренировочную и тестовую выборки\n",
    "X_train, X_test, y_train, y_test = train_test_split(features, target, test_size=0.25, random_state=RANDOM_STATE) "
   ]
  },
  {
   "cell_type": "code",
   "execution_count": 281,
   "metadata": {},
   "outputs": [
    {
     "name": "stdout",
     "output_type": "stream",
     "text": [
      "(209959, 9)\n",
      "(209959,)\n",
      "(69987, 9)\n",
      "(69987,)\n"
     ]
    }
   ],
   "source": [
    "# Выведем на экран размеры этих выборок\n",
    "print(X_train.shape)\n",
    "print(y_train.shape)\n",
    "print(X_test.shape)\n",
    "print(y_test.shape)"
   ]
  },
  {
   "cell_type": "code",
   "execution_count": 282,
   "metadata": {},
   "outputs": [
    {
     "data": {
      "text/plain": [
       "['vehicle_type', 'gearbox', 'fuel_type', 'brand', 'repaired']"
      ]
     },
     "execution_count": 282,
     "metadata": {},
     "output_type": "execute_result"
    }
   ],
   "source": [
    "# Категориальные признаки для OHE кодирония \n",
    "ohe_features = X_train.select_dtypes(include='object').columns.to_list()\n",
    "ohe_features.remove('model')\n",
    "ohe_features"
   ]
  },
  {
   "cell_type": "code",
   "execution_count": 283,
   "metadata": {},
   "outputs": [
    {
     "data": {
      "text/plain": [
       "['model']"
      ]
     },
     "execution_count": 283,
     "metadata": {},
     "output_type": "execute_result"
    }
   ],
   "source": [
    "# Категориальные признаки для OE кодирония \n",
    "oe_features = ['model']\n",
    "oe_features"
   ]
  },
  {
   "cell_type": "code",
   "execution_count": 284,
   "metadata": {},
   "outputs": [
    {
     "data": {
      "text/plain": [
       "['vehicle_type', 'gearbox', 'model', 'fuel_type', 'brand', 'repaired']"
      ]
     },
     "execution_count": 284,
     "metadata": {},
     "output_type": "execute_result"
    }
   ],
   "source": [
    "# Категориальные признаки \n",
    "cat_features = X_train.select_dtypes(include='object').columns.to_list()\n",
    "cat_features"
   ]
  },
  {
   "cell_type": "code",
   "execution_count": 285,
   "metadata": {},
   "outputs": [
    {
     "data": {
      "text/plain": [
       "['registration_year', 'power', 'kilometer']"
      ]
     },
     "execution_count": 285,
     "metadata": {},
     "output_type": "execute_result"
    }
   ],
   "source": [
    "# Численные признаки\n",
    "num_features = X_train.select_dtypes(exclude='object').columns.to_list()\n",
    "num_features"
   ]
  },
  {
   "cell_type": "code",
   "execution_count": 286,
   "metadata": {},
   "outputs": [],
   "source": [
    "# Пайплайн для OHE кодирония\n",
    "ohe_pipe = Pipeline([('ohe', OneHotEncoder(sparse=False, \n",
    "                      handle_unknown='ignore'))])"
   ]
  },
  {
   "cell_type": "code",
   "execution_count": 287,
   "metadata": {},
   "outputs": [],
   "source": [
    "# Пайплайн для численных признаков\n",
    "num_pipe = Pipeline([('scaler', StandardScaler())])"
   ]
  },
  {
   "cell_type": "code",
   "execution_count": 288,
   "metadata": {},
   "outputs": [],
   "source": [
    "# Пайплайн для OE кодирония\n",
    "oe_pipe = Pipeline([('oe_rf', OrdinalEncoder(categories = [['5er', 'laguna', 'golf', 'a3', '100', 'fabia', 'unknow',\n",
    "       'e_klasse', 'polo', '3er', 'clio', 'touran', 'passat', 'roomster',\n",
    "       'mondeo', 'c4', 'corsa', 'focus', 'auris', 'c_klasse', 'sharan',\n",
    "       '80', 'a4', 's_max', '1er', 'twingo', '500', 'other', 'sprinter',\n",
    "       'a6', 'i_reihe', 'cordoba', 'astra', 'cuore', 'leon', 'a_klasse',\n",
    "       'grand', 'ka', 'insignia', 's_type', 'picanto', 'avensis',\n",
    "       'transporter', 'calibra', '2_reihe', 'punto', 'arosa', 'fortwo',\n",
    "       'omega', 'clk', '3_reihe', 'octavia', '6_reihe', 'fiesta',\n",
    "       'qashqai', 'scenic', 'espace', 'lancer', 'scirocco', 'lupo',\n",
    "       'zafira', 'meriva', 'up', 'bora', 'exeo', 'megane', 'ibiza',\n",
    "       'corolla', '156', 'viano', 'delta', 'matiz', 'z_reihe', 'caddy',\n",
    "       'beetle', 'jazz', 'forfour', 'seicento', 'tt', 'yaris', '4_reihe',\n",
    "       'x_reihe', 'v50', 'transit', 'cooper', 'eos', 'c3', 'sandero',\n",
    "       'r19', 'm_klasse', 'civic', 'c_max', 'primera', 'mustang',\n",
    "       'vectra', 'x_trail', 'verso', 'micra', 'v40', 'berlingo', 'navara',\n",
    "       'rio', 'carnival', 'agila', 'getz', '5_reihe', 'impreza', 'vito',\n",
    "       'a5', 'roadster', 'v70', 'touareg', 'panda', 'aygo', 'vivaro',\n",
    "       'rx_reihe', 'stilo', 'kuga', 'c5', 'sirion', 'almera', 'fusion',\n",
    "       'bravo', 'captiva', 'galaxy', 'aveo', 'antara', 'b_klasse',\n",
    "       'tiguan', '1_reihe', 'cr_reihe', 'boxster', 'colt', 'jetta', 'slk',\n",
    "       'santa', 'accord', 'swift', 'superb', 'sl', 'lodgy', '159', '850',\n",
    "       'rav', 'c_reihe', 'modus', 'carisma', 'freelander', 'tucson',\n",
    "       'niva', 'clubman', 'duster', 'v_klasse', 'kangoo', 'note', 'a1',\n",
    "       'one', 'xc_reihe', 'jimny', '7er', 'tigra', 'pajero', 'a2', '147',\n",
    "       'move', 'cc', 'voyager', 'sportage', 'ypsilon', 'toledo',\n",
    "       'range_rover', 'cherokee', 'crossfire', 'mx_reihe', 'q5', 'c2',\n",
    "       'b_max', 'doblo', 'legacy', 'spark', 's_klasse', 'escort',\n",
    "       'signum', 'musa', 'juke', 'fox', 'x_type', 'justy', 'cx_reihe',\n",
    "       'ceed', 'c1', 'forester', 'sorento', 'alhambra', 'combo', 'galant',\n",
    "       'kappa', 'ptcruiser', 'defender', 'kadett', 'cayenne', 'ducato',\n",
    "       'logan', 'outlander', 'g_klasse', '900', 'altea', 'discovery',\n",
    "       'a8', 'q7', 'phaeton', 'lanos', 'yeti', 'wrangler', 'q3', '200',\n",
    "       'terios', 'citigo', '145', 'lybra', 'spider', 's60', 'nubira',\n",
    "       '90', 'charade', 'glk', 'cl', 'kaefer', 'm_reihe', 'amarok',\n",
    "       'croma', 'mii', 'kalos', 'range_rover_sport', '300c', 'gl', '9000',\n",
    "       'v60', '911', 'materia', 'samara', 'kalina', '6er', 'elefantino',\n",
    "       'i3', 'rangerover']]))])"
   ]
  },
  {
   "cell_type": "markdown",
   "metadata": {},
   "source": [
    "Для обучения моделей применим следующие библиотеки: RandomForestRegressor, CatboostRegressor и LightGBMRegressor.  \n",
    "Для RandomForestRegressor и LightGBMRegressor будем использовать порядковое кодирование признака 'model', имеющего большое количество уникальных значений, и OHE кодирование остальных категориальных признаков.    \n",
    "Для CatBoostRegressor укажем все категориальные признаки."
   ]
  },
  {
   "cell_type": "markdown",
   "metadata": {},
   "source": [
    "### RandomForestRegressor"
   ]
  },
  {
   "cell_type": "code",
   "execution_count": 289,
   "metadata": {},
   "outputs": [],
   "source": [
    "# Поместим пайплайны в ColumnTransformer\n",
    "preprocessor_rf = ColumnTransformer(transformers=[('cat_ohe', ohe_pipe, ohe_features),\n",
    "                                               ('num', num_pipe, num_features), \n",
    "                                               ('cat_oe', oe_pipe, oe_features)],\n",
    "                                                remainder='passthrough') "
   ]
  },
  {
   "cell_type": "code",
   "execution_count": 290,
   "metadata": {},
   "outputs": [
    {
     "name": "stdout",
     "output_type": "stream",
     "text": [
      "Fitting 5 folds for each of 10 candidates, totalling 50 fits\n",
      "CPU times: total: 28.2 s\n",
      "Wall time: 3min 21s\n"
     ]
    }
   ],
   "source": [
    "%%time\n",
    "start = time.time()\n",
    "\n",
    "model_rf = RandomForestRegressor(random_state=RANDOM_STATE)\n",
    "\n",
    "# Создадим пайплайн\n",
    "pipeline_rf = Pipeline([('preprocessor_rf', preprocessor_rf),\n",
    "                       ('randomforestregressor', model_rf)])\n",
    "\n",
    "# Cловарь с гиперпараметрами и значениями, которые хотим перебрать\n",
    "param_grid_rf = {'randomforestregressor__n_estimators': range(2, 31, 2),\n",
    "                 'randomforestregressor__max_depth': range(2, 15),\n",
    "                 'randomforestregressor__min_samples_split': (2, 3, 4),\n",
    "                 'randomforestregressor__min_samples_leaf': (1, 2, 3, 4)}\n",
    "\n",
    "# Будем использовать RandomizedSearchCV при переборе комбинаций гиперпараметров\n",
    "random_cv_rf = RandomizedSearchCV(estimator=pipeline_rf, \n",
    "                           param_distributions=param_grid_rf, \n",
    "                           scoring='neg_root_mean_squared_error',\n",
    "                           cv=5,\n",
    "                           n_iter=10,\n",
    "                           n_jobs=-1, \n",
    "                           random_state=RANDOM_STATE,\n",
    "                           verbose=10)\n",
    "\n",
    "random_cv_rf.fit(X_train, y_train)\n",
    "end = time.time()\n",
    "t_rf = round(end-start,2)"
   ]
  },
  {
   "cell_type": "code",
   "execution_count": 291,
   "metadata": {},
   "outputs": [
    {
     "name": "stdout",
     "output_type": "stream",
     "text": [
      "best_score: 1555.808\n",
      "best_params: {'randomforestregressor__n_estimators': 20, 'randomforestregressor__min_samples_split': 2, 'randomforestregressor__min_samples_leaf': 1, 'randomforestregressor__max_depth': 14}\n"
     ]
    }
   ],
   "source": [
    "random_cv_rf_best_score = random_cv_rf.best_score_ \n",
    "random_cv_rf_best_params = random_cv_rf.best_params_\n",
    "\n",
    "# Лучшее значение RMSE \n",
    "print(f'best_score: {round(-random_cv_rf_best_score,3)}')\n",
    "# Лучшие гиперпараметры\n",
    "print(f'best_params: {random_cv_rf_best_params}')"
   ]
  },
  {
   "cell_type": "code",
   "execution_count": 292,
   "metadata": {},
   "outputs": [
    {
     "data": {
      "text/html": [
       "<style>#sk-container-id-9 {color: black;background-color: white;}#sk-container-id-9 pre{padding: 0;}#sk-container-id-9 div.sk-toggleable {background-color: white;}#sk-container-id-9 label.sk-toggleable__label {cursor: pointer;display: block;width: 100%;margin-bottom: 0;padding: 0.3em;box-sizing: border-box;text-align: center;}#sk-container-id-9 label.sk-toggleable__label-arrow:before {content: \"▸\";float: left;margin-right: 0.25em;color: #696969;}#sk-container-id-9 label.sk-toggleable__label-arrow:hover:before {color: black;}#sk-container-id-9 div.sk-estimator:hover label.sk-toggleable__label-arrow:before {color: black;}#sk-container-id-9 div.sk-toggleable__content {max-height: 0;max-width: 0;overflow: hidden;text-align: left;background-color: #f0f8ff;}#sk-container-id-9 div.sk-toggleable__content pre {margin: 0.2em;color: black;border-radius: 0.25em;background-color: #f0f8ff;}#sk-container-id-9 input.sk-toggleable__control:checked~div.sk-toggleable__content {max-height: 200px;max-width: 100%;overflow: auto;}#sk-container-id-9 input.sk-toggleable__control:checked~label.sk-toggleable__label-arrow:before {content: \"▾\";}#sk-container-id-9 div.sk-estimator input.sk-toggleable__control:checked~label.sk-toggleable__label {background-color: #d4ebff;}#sk-container-id-9 div.sk-label input.sk-toggleable__control:checked~label.sk-toggleable__label {background-color: #d4ebff;}#sk-container-id-9 input.sk-hidden--visually {border: 0;clip: rect(1px 1px 1px 1px);clip: rect(1px, 1px, 1px, 1px);height: 1px;margin: -1px;overflow: hidden;padding: 0;position: absolute;width: 1px;}#sk-container-id-9 div.sk-estimator {font-family: monospace;background-color: #f0f8ff;border: 1px dotted black;border-radius: 0.25em;box-sizing: border-box;margin-bottom: 0.5em;}#sk-container-id-9 div.sk-estimator:hover {background-color: #d4ebff;}#sk-container-id-9 div.sk-parallel-item::after {content: \"\";width: 100%;border-bottom: 1px solid gray;flex-grow: 1;}#sk-container-id-9 div.sk-label:hover label.sk-toggleable__label {background-color: #d4ebff;}#sk-container-id-9 div.sk-serial::before {content: \"\";position: absolute;border-left: 1px solid gray;box-sizing: border-box;top: 0;bottom: 0;left: 50%;z-index: 0;}#sk-container-id-9 div.sk-serial {display: flex;flex-direction: column;align-items: center;background-color: white;padding-right: 0.2em;padding-left: 0.2em;position: relative;}#sk-container-id-9 div.sk-item {position: relative;z-index: 1;}#sk-container-id-9 div.sk-parallel {display: flex;align-items: stretch;justify-content: center;background-color: white;position: relative;}#sk-container-id-9 div.sk-item::before, #sk-container-id-9 div.sk-parallel-item::before {content: \"\";position: absolute;border-left: 1px solid gray;box-sizing: border-box;top: 0;bottom: 0;left: 50%;z-index: -1;}#sk-container-id-9 div.sk-parallel-item {display: flex;flex-direction: column;z-index: 1;position: relative;background-color: white;}#sk-container-id-9 div.sk-parallel-item:first-child::after {align-self: flex-end;width: 50%;}#sk-container-id-9 div.sk-parallel-item:last-child::after {align-self: flex-start;width: 50%;}#sk-container-id-9 div.sk-parallel-item:only-child::after {width: 0;}#sk-container-id-9 div.sk-dashed-wrapped {border: 1px dashed gray;margin: 0 0.4em 0.5em 0.4em;box-sizing: border-box;padding-bottom: 0.4em;background-color: white;}#sk-container-id-9 div.sk-label label {font-family: monospace;font-weight: bold;display: inline-block;line-height: 1.2em;}#sk-container-id-9 div.sk-label-container {text-align: center;}#sk-container-id-9 div.sk-container {/* jupyter's `normalize.less` sets `[hidden] { display: none; }` but bootstrap.min.css set `[hidden] { display: none !important; }` so we also need the `!important` here to be able to override the default hidden behavior on the sphinx rendered scikit-learn.org. See: https://github.com/scikit-learn/scikit-learn/issues/21755 */display: inline-block !important;position: relative;}#sk-container-id-9 div.sk-text-repr-fallback {display: none;}</style><div id=\"sk-container-id-9\" class=\"sk-top-container\"><div class=\"sk-text-repr-fallback\"><pre>Pipeline(steps=[(&#x27;preprocessor_rf&#x27;,\n",
       "                 ColumnTransformer(remainder=&#x27;passthrough&#x27;,\n",
       "                                   transformers=[(&#x27;cat_ohe&#x27;,\n",
       "                                                  Pipeline(steps=[(&#x27;ohe&#x27;,\n",
       "                                                                   OneHotEncoder(handle_unknown=&#x27;ignore&#x27;,\n",
       "                                                                                 sparse=False))]),\n",
       "                                                  [&#x27;vehicle_type&#x27;, &#x27;gearbox&#x27;,\n",
       "                                                   &#x27;fuel_type&#x27;, &#x27;brand&#x27;,\n",
       "                                                   &#x27;repaired&#x27;]),\n",
       "                                                 (&#x27;num&#x27;,\n",
       "                                                  Pipeline(steps=[(&#x27;scaler&#x27;,\n",
       "                                                                   StandardScaler())]),\n",
       "                                                  [&#x27;registration_year&#x27;, &#x27;power&#x27;,\n",
       "                                                   &#x27;kilometer&#x27;]),\n",
       "                                                 (&#x27;cat_oe&#x27;,\n",
       "                                                  Pipel...\n",
       "                                                                   OrdinalEncoder(categories=[[&#x27;5er&#x27;,\n",
       "                                                                                               &#x27;laguna&#x27;,\n",
       "                                                                                               &#x27;golf&#x27;,\n",
       "                                                                                               &#x27;a3&#x27;,\n",
       "                                                                                               &#x27;100&#x27;,\n",
       "                                                                                               &#x27;fabia&#x27;,\n",
       "                                                                                               &#x27;unknow&#x27;,\n",
       "                                                                                               &#x27;e_klasse&#x27;,\n",
       "                                                                                               &#x27;polo&#x27;,\n",
       "                                                                                               &#x27;3er&#x27;,\n",
       "                                                                                               &#x27;clio&#x27;,\n",
       "                                                                                               &#x27;touran&#x27;,\n",
       "                                                                                               &#x27;passat&#x27;,\n",
       "                                                                                               &#x27;roomster&#x27;,\n",
       "                                                                                               &#x27;mondeo&#x27;,\n",
       "                                                                                               &#x27;c4&#x27;,\n",
       "                                                                                               &#x27;corsa&#x27;,\n",
       "                                                                                               &#x27;focus&#x27;,\n",
       "                                                                                               &#x27;auris&#x27;,\n",
       "                                                                                               &#x27;c_klasse&#x27;,\n",
       "                                                                                               &#x27;sharan&#x27;,\n",
       "                                                                                               &#x27;80&#x27;,\n",
       "                                                                                               &#x27;a4&#x27;,\n",
       "                                                                                               &#x27;s_max&#x27;,\n",
       "                                                                                               &#x27;1er&#x27;,\n",
       "                                                                                               &#x27;twingo&#x27;,\n",
       "                                                                                               &#x27;500&#x27;,\n",
       "                                                                                               &#x27;other&#x27;,\n",
       "                                                                                               &#x27;sprinter&#x27;,\n",
       "                                                                                               &#x27;a6&#x27;, ...]]))]),\n",
       "                                                  [&#x27;model&#x27;])])),\n",
       "                (&#x27;randomforestregressor&#x27;,\n",
       "                 RandomForestRegressor(max_depth=14, n_estimators=20,\n",
       "                                       random_state=42))])</pre><b>In a Jupyter environment, please rerun this cell to show the HTML representation or trust the notebook. <br />On GitHub, the HTML representation is unable to render, please try loading this page with nbviewer.org.</b></div><div class=\"sk-container\" hidden><div class=\"sk-item sk-dashed-wrapped\"><div class=\"sk-label-container\"><div class=\"sk-label sk-toggleable\"><input class=\"sk-toggleable__control sk-hidden--visually\" id=\"sk-estimator-id-81\" type=\"checkbox\" ><label for=\"sk-estimator-id-81\" class=\"sk-toggleable__label sk-toggleable__label-arrow\">Pipeline</label><div class=\"sk-toggleable__content\"><pre>Pipeline(steps=[(&#x27;preprocessor_rf&#x27;,\n",
       "                 ColumnTransformer(remainder=&#x27;passthrough&#x27;,\n",
       "                                   transformers=[(&#x27;cat_ohe&#x27;,\n",
       "                                                  Pipeline(steps=[(&#x27;ohe&#x27;,\n",
       "                                                                   OneHotEncoder(handle_unknown=&#x27;ignore&#x27;,\n",
       "                                                                                 sparse=False))]),\n",
       "                                                  [&#x27;vehicle_type&#x27;, &#x27;gearbox&#x27;,\n",
       "                                                   &#x27;fuel_type&#x27;, &#x27;brand&#x27;,\n",
       "                                                   &#x27;repaired&#x27;]),\n",
       "                                                 (&#x27;num&#x27;,\n",
       "                                                  Pipeline(steps=[(&#x27;scaler&#x27;,\n",
       "                                                                   StandardScaler())]),\n",
       "                                                  [&#x27;registration_year&#x27;, &#x27;power&#x27;,\n",
       "                                                   &#x27;kilometer&#x27;]),\n",
       "                                                 (&#x27;cat_oe&#x27;,\n",
       "                                                  Pipel...\n",
       "                                                                   OrdinalEncoder(categories=[[&#x27;5er&#x27;,\n",
       "                                                                                               &#x27;laguna&#x27;,\n",
       "                                                                                               &#x27;golf&#x27;,\n",
       "                                                                                               &#x27;a3&#x27;,\n",
       "                                                                                               &#x27;100&#x27;,\n",
       "                                                                                               &#x27;fabia&#x27;,\n",
       "                                                                                               &#x27;unknow&#x27;,\n",
       "                                                                                               &#x27;e_klasse&#x27;,\n",
       "                                                                                               &#x27;polo&#x27;,\n",
       "                                                                                               &#x27;3er&#x27;,\n",
       "                                                                                               &#x27;clio&#x27;,\n",
       "                                                                                               &#x27;touran&#x27;,\n",
       "                                                                                               &#x27;passat&#x27;,\n",
       "                                                                                               &#x27;roomster&#x27;,\n",
       "                                                                                               &#x27;mondeo&#x27;,\n",
       "                                                                                               &#x27;c4&#x27;,\n",
       "                                                                                               &#x27;corsa&#x27;,\n",
       "                                                                                               &#x27;focus&#x27;,\n",
       "                                                                                               &#x27;auris&#x27;,\n",
       "                                                                                               &#x27;c_klasse&#x27;,\n",
       "                                                                                               &#x27;sharan&#x27;,\n",
       "                                                                                               &#x27;80&#x27;,\n",
       "                                                                                               &#x27;a4&#x27;,\n",
       "                                                                                               &#x27;s_max&#x27;,\n",
       "                                                                                               &#x27;1er&#x27;,\n",
       "                                                                                               &#x27;twingo&#x27;,\n",
       "                                                                                               &#x27;500&#x27;,\n",
       "                                                                                               &#x27;other&#x27;,\n",
       "                                                                                               &#x27;sprinter&#x27;,\n",
       "                                                                                               &#x27;a6&#x27;, ...]]))]),\n",
       "                                                  [&#x27;model&#x27;])])),\n",
       "                (&#x27;randomforestregressor&#x27;,\n",
       "                 RandomForestRegressor(max_depth=14, n_estimators=20,\n",
       "                                       random_state=42))])</pre></div></div></div><div class=\"sk-serial\"><div class=\"sk-item sk-dashed-wrapped\"><div class=\"sk-label-container\"><div class=\"sk-label sk-toggleable\"><input class=\"sk-toggleable__control sk-hidden--visually\" id=\"sk-estimator-id-82\" type=\"checkbox\" ><label for=\"sk-estimator-id-82\" class=\"sk-toggleable__label sk-toggleable__label-arrow\">preprocessor_rf: ColumnTransformer</label><div class=\"sk-toggleable__content\"><pre>ColumnTransformer(remainder=&#x27;passthrough&#x27;,\n",
       "                  transformers=[(&#x27;cat_ohe&#x27;,\n",
       "                                 Pipeline(steps=[(&#x27;ohe&#x27;,\n",
       "                                                  OneHotEncoder(handle_unknown=&#x27;ignore&#x27;,\n",
       "                                                                sparse=False))]),\n",
       "                                 [&#x27;vehicle_type&#x27;, &#x27;gearbox&#x27;, &#x27;fuel_type&#x27;,\n",
       "                                  &#x27;brand&#x27;, &#x27;repaired&#x27;]),\n",
       "                                (&#x27;num&#x27;,\n",
       "                                 Pipeline(steps=[(&#x27;scaler&#x27;, StandardScaler())]),\n",
       "                                 [&#x27;registration_year&#x27;, &#x27;power&#x27;, &#x27;kilometer&#x27;]),\n",
       "                                (&#x27;cat_oe&#x27;,\n",
       "                                 Pipeline(steps=[(&#x27;oe_rf&#x27;,\n",
       "                                                  OrdinalEncoder(categories=[[&#x27;5er&#x27;,\n",
       "                                                                              &#x27;laguna&#x27;,\n",
       "                                                                              &#x27;golf&#x27;,\n",
       "                                                                              &#x27;a3&#x27;,\n",
       "                                                                              &#x27;100&#x27;,\n",
       "                                                                              &#x27;fabia&#x27;,\n",
       "                                                                              &#x27;unknow&#x27;,\n",
       "                                                                              &#x27;e_klasse&#x27;,\n",
       "                                                                              &#x27;polo&#x27;,\n",
       "                                                                              &#x27;3er&#x27;,\n",
       "                                                                              &#x27;clio&#x27;,\n",
       "                                                                              &#x27;touran&#x27;,\n",
       "                                                                              &#x27;passat&#x27;,\n",
       "                                                                              &#x27;roomster&#x27;,\n",
       "                                                                              &#x27;mondeo&#x27;,\n",
       "                                                                              &#x27;c4&#x27;,\n",
       "                                                                              &#x27;corsa&#x27;,\n",
       "                                                                              &#x27;focus&#x27;,\n",
       "                                                                              &#x27;auris&#x27;,\n",
       "                                                                              &#x27;c_klasse&#x27;,\n",
       "                                                                              &#x27;sharan&#x27;,\n",
       "                                                                              &#x27;80&#x27;,\n",
       "                                                                              &#x27;a4&#x27;,\n",
       "                                                                              &#x27;s_max&#x27;,\n",
       "                                                                              &#x27;1er&#x27;,\n",
       "                                                                              &#x27;twingo&#x27;,\n",
       "                                                                              &#x27;500&#x27;,\n",
       "                                                                              &#x27;other&#x27;,\n",
       "                                                                              &#x27;sprinter&#x27;,\n",
       "                                                                              &#x27;a6&#x27;, ...]]))]),\n",
       "                                 [&#x27;model&#x27;])])</pre></div></div></div><div class=\"sk-parallel\"><div class=\"sk-parallel-item\"><div class=\"sk-item\"><div class=\"sk-label-container\"><div class=\"sk-label sk-toggleable\"><input class=\"sk-toggleable__control sk-hidden--visually\" id=\"sk-estimator-id-83\" type=\"checkbox\" ><label for=\"sk-estimator-id-83\" class=\"sk-toggleable__label sk-toggleable__label-arrow\">cat_ohe</label><div class=\"sk-toggleable__content\"><pre>[&#x27;vehicle_type&#x27;, &#x27;gearbox&#x27;, &#x27;fuel_type&#x27;, &#x27;brand&#x27;, &#x27;repaired&#x27;]</pre></div></div></div><div class=\"sk-serial\"><div class=\"sk-item\"><div class=\"sk-serial\"><div class=\"sk-item\"><div class=\"sk-estimator sk-toggleable\"><input class=\"sk-toggleable__control sk-hidden--visually\" id=\"sk-estimator-id-84\" type=\"checkbox\" ><label for=\"sk-estimator-id-84\" class=\"sk-toggleable__label sk-toggleable__label-arrow\">OneHotEncoder</label><div class=\"sk-toggleable__content\"><pre>OneHotEncoder(handle_unknown=&#x27;ignore&#x27;, sparse=False)</pre></div></div></div></div></div></div></div></div><div class=\"sk-parallel-item\"><div class=\"sk-item\"><div class=\"sk-label-container\"><div class=\"sk-label sk-toggleable\"><input class=\"sk-toggleable__control sk-hidden--visually\" id=\"sk-estimator-id-85\" type=\"checkbox\" ><label for=\"sk-estimator-id-85\" class=\"sk-toggleable__label sk-toggleable__label-arrow\">num</label><div class=\"sk-toggleable__content\"><pre>[&#x27;registration_year&#x27;, &#x27;power&#x27;, &#x27;kilometer&#x27;]</pre></div></div></div><div class=\"sk-serial\"><div class=\"sk-item\"><div class=\"sk-serial\"><div class=\"sk-item\"><div class=\"sk-estimator sk-toggleable\"><input class=\"sk-toggleable__control sk-hidden--visually\" id=\"sk-estimator-id-86\" type=\"checkbox\" ><label for=\"sk-estimator-id-86\" class=\"sk-toggleable__label sk-toggleable__label-arrow\">StandardScaler</label><div class=\"sk-toggleable__content\"><pre>StandardScaler()</pre></div></div></div></div></div></div></div></div><div class=\"sk-parallel-item\"><div class=\"sk-item\"><div class=\"sk-label-container\"><div class=\"sk-label sk-toggleable\"><input class=\"sk-toggleable__control sk-hidden--visually\" id=\"sk-estimator-id-87\" type=\"checkbox\" ><label for=\"sk-estimator-id-87\" class=\"sk-toggleable__label sk-toggleable__label-arrow\">cat_oe</label><div class=\"sk-toggleable__content\"><pre>[&#x27;model&#x27;]</pre></div></div></div><div class=\"sk-serial\"><div class=\"sk-item\"><div class=\"sk-serial\"><div class=\"sk-item\"><div class=\"sk-estimator sk-toggleable\"><input class=\"sk-toggleable__control sk-hidden--visually\" id=\"sk-estimator-id-88\" type=\"checkbox\" ><label for=\"sk-estimator-id-88\" class=\"sk-toggleable__label sk-toggleable__label-arrow\">OrdinalEncoder</label><div class=\"sk-toggleable__content\"><pre>OrdinalEncoder(categories=[[&#x27;5er&#x27;, &#x27;laguna&#x27;, &#x27;golf&#x27;, &#x27;a3&#x27;, &#x27;100&#x27;, &#x27;fabia&#x27;,\n",
       "                            &#x27;unknow&#x27;, &#x27;e_klasse&#x27;, &#x27;polo&#x27;, &#x27;3er&#x27;, &#x27;clio&#x27;,\n",
       "                            &#x27;touran&#x27;, &#x27;passat&#x27;, &#x27;roomster&#x27;, &#x27;mondeo&#x27;, &#x27;c4&#x27;,\n",
       "                            &#x27;corsa&#x27;, &#x27;focus&#x27;, &#x27;auris&#x27;, &#x27;c_klasse&#x27;, &#x27;sharan&#x27;,\n",
       "                            &#x27;80&#x27;, &#x27;a4&#x27;, &#x27;s_max&#x27;, &#x27;1er&#x27;, &#x27;twingo&#x27;, &#x27;500&#x27;,\n",
       "                            &#x27;other&#x27;, &#x27;sprinter&#x27;, &#x27;a6&#x27;, ...]])</pre></div></div></div></div></div></div></div></div><div class=\"sk-parallel-item\"><div class=\"sk-item\"><div class=\"sk-label-container\"><div class=\"sk-label sk-toggleable\"><input class=\"sk-toggleable__control sk-hidden--visually\" id=\"sk-estimator-id-89\" type=\"checkbox\" ><label for=\"sk-estimator-id-89\" class=\"sk-toggleable__label sk-toggleable__label-arrow\">remainder</label><div class=\"sk-toggleable__content\"><pre>[]</pre></div></div></div><div class=\"sk-serial\"><div class=\"sk-item\"><div class=\"sk-estimator sk-toggleable\"><input class=\"sk-toggleable__control sk-hidden--visually\" id=\"sk-estimator-id-90\" type=\"checkbox\" ><label for=\"sk-estimator-id-90\" class=\"sk-toggleable__label sk-toggleable__label-arrow\">passthrough</label><div class=\"sk-toggleable__content\"><pre>passthrough</pre></div></div></div></div></div></div></div></div><div class=\"sk-item\"><div class=\"sk-estimator sk-toggleable\"><input class=\"sk-toggleable__control sk-hidden--visually\" id=\"sk-estimator-id-91\" type=\"checkbox\" ><label for=\"sk-estimator-id-91\" class=\"sk-toggleable__label sk-toggleable__label-arrow\">RandomForestRegressor</label><div class=\"sk-toggleable__content\"><pre>RandomForestRegressor(max_depth=14, n_estimators=20, random_state=42)</pre></div></div></div></div></div></div></div>"
      ],
      "text/plain": [
       "Pipeline(steps=[('preprocessor_rf',\n",
       "                 ColumnTransformer(remainder='passthrough',\n",
       "                                   transformers=[('cat_ohe',\n",
       "                                                  Pipeline(steps=[('ohe',\n",
       "                                                                   OneHotEncoder(handle_unknown='ignore',\n",
       "                                                                                 sparse=False))]),\n",
       "                                                  ['vehicle_type', 'gearbox',\n",
       "                                                   'fuel_type', 'brand',\n",
       "                                                   'repaired']),\n",
       "                                                 ('num',\n",
       "                                                  Pipeline(steps=[('scaler',\n",
       "                                                                   StandardScaler())]),\n",
       "                                                  ['registration_year', 'power',\n",
       "                                                   'kilometer']),\n",
       "                                                 ('cat_oe',\n",
       "                                                  Pipel...\n",
       "                                                                   OrdinalEncoder(categories=[['5er',\n",
       "                                                                                               'laguna',\n",
       "                                                                                               'golf',\n",
       "                                                                                               'a3',\n",
       "                                                                                               '100',\n",
       "                                                                                               'fabia',\n",
       "                                                                                               'unknow',\n",
       "                                                                                               'e_klasse',\n",
       "                                                                                               'polo',\n",
       "                                                                                               '3er',\n",
       "                                                                                               'clio',\n",
       "                                                                                               'touran',\n",
       "                                                                                               'passat',\n",
       "                                                                                               'roomster',\n",
       "                                                                                               'mondeo',\n",
       "                                                                                               'c4',\n",
       "                                                                                               'corsa',\n",
       "                                                                                               'focus',\n",
       "                                                                                               'auris',\n",
       "                                                                                               'c_klasse',\n",
       "                                                                                               'sharan',\n",
       "                                                                                               '80',\n",
       "                                                                                               'a4',\n",
       "                                                                                               's_max',\n",
       "                                                                                               '1er',\n",
       "                                                                                               'twingo',\n",
       "                                                                                               '500',\n",
       "                                                                                               'other',\n",
       "                                                                                               'sprinter',\n",
       "                                                                                               'a6', ...]]))]),\n",
       "                                                  ['model'])])),\n",
       "                ('randomforestregressor',\n",
       "                 RandomForestRegressor(max_depth=14, n_estimators=20,\n",
       "                                       random_state=42))])"
      ]
     },
     "execution_count": 292,
     "metadata": {},
     "output_type": "execute_result"
    }
   ],
   "source": [
    "# Инициируем модель с лучшими параметрами\n",
    "model_rf_best = RandomForestRegressor(max_depth=14,\n",
    "                                      min_samples_leaf=1,\n",
    "                                      min_samples_split=2,\n",
    "                                      n_estimators=20,\n",
    "                                      random_state=42)\n",
    "# Создадим пайплайн для лучшей модели\n",
    "pipline_rf_best = Pipeline([('preprocessor_rf', preprocessor_rf),\n",
    "                            ('randomforestregressor', model_rf_best)])\n",
    "\n",
    "pipline_rf_best.fit(X_train, y_train)"
   ]
  },
  {
   "cell_type": "code",
   "execution_count": 293,
   "metadata": {},
   "outputs": [
    {
     "name": "stdout",
     "output_type": "stream",
     "text": [
      "CPU times: total: 1 s\n",
      "Wall time: 981 ms\n"
     ]
    }
   ],
   "source": [
    "%%time\n",
    "start = time.time()\n",
    "# Замерим время предсказания лучшей модели на тренировочной выборке\n",
    "predict_rf_best = pipline_rf_best.predict(X_train)\n",
    "end = time.time()\n",
    "t_rf_pr = round(end-start,2)"
   ]
  },
  {
   "cell_type": "code",
   "execution_count": 294,
   "metadata": {},
   "outputs": [
    {
     "data": {
      "text/html": [
       "<div>\n",
       "<style scoped>\n",
       "    .dataframe tbody tr th:only-of-type {\n",
       "        vertical-align: middle;\n",
       "    }\n",
       "\n",
       "    .dataframe tbody tr th {\n",
       "        vertical-align: top;\n",
       "    }\n",
       "\n",
       "    .dataframe thead th {\n",
       "        text-align: right;\n",
       "    }\n",
       "</style>\n",
       "<table border=\"1\" class=\"dataframe\">\n",
       "  <thead>\n",
       "    <tr style=\"text-align: right;\">\n",
       "      <th></th>\n",
       "      <th>RandomForestRegressor</th>\n",
       "    </tr>\n",
       "  </thead>\n",
       "  <tbody>\n",
       "    <tr>\n",
       "      <th>RMSE</th>\n",
       "      <td>1555.808</td>\n",
       "    </tr>\n",
       "    <tr>\n",
       "      <th>Fit Time</th>\n",
       "      <td>201.230</td>\n",
       "    </tr>\n",
       "    <tr>\n",
       "      <th>Predict Time</th>\n",
       "      <td>0.980</td>\n",
       "    </tr>\n",
       "  </tbody>\n",
       "</table>\n",
       "</div>"
      ],
      "text/plain": [
       "              RandomForestRegressor\n",
       "RMSE                       1555.808\n",
       "Fit Time                    201.230\n",
       "Predict Time                  0.980"
      ]
     },
     "execution_count": 294,
     "metadata": {},
     "output_type": "execute_result"
    }
   ],
   "source": [
    "# Занесем результаты в таблицу\n",
    "result_rf = pd.DataFrame([round(-random_cv_rf_best_score,3), t_rf, t_rf_pr], \n",
    "                         index=['RMSE', 'Fit Time', 'Predict Time'], \n",
    "                         columns=['RandomForestRegressor'])\n",
    "result_rf      "
   ]
  },
  {
   "cell_type": "markdown",
   "metadata": {},
   "source": [
    "### LightGBMRegressor"
   ]
  },
  {
   "cell_type": "code",
   "execution_count": 295,
   "metadata": {},
   "outputs": [],
   "source": [
    "# Поместим пайплайны в ColumnTransformer\n",
    "preprocessor_lgbm = ColumnTransformer(transformers=[('cat_ohe', ohe_pipe, ohe_features),\n",
    "                                               ('num', num_pipe, num_features), \n",
    "                                               ('cat_oe', oe_pipe, oe_features)],\n",
    "                                                remainder='passthrough') "
   ]
  },
  {
   "cell_type": "code",
   "execution_count": 296,
   "metadata": {},
   "outputs": [
    {
     "name": "stdout",
     "output_type": "stream",
     "text": [
      "Fitting 5 folds for each of 10 candidates, totalling 50 fits\n",
      "[LightGBM] [Info] Auto-choosing row-wise multi-threading, the overhead of testing was 0.004934 seconds.\n",
      "You can set `force_row_wise=true` to remove the overhead.\n",
      "And if memory is not enough, you can set `force_col_wise=true`.\n",
      "[LightGBM] [Info] Total Bins 617\n",
      "[LightGBM] [Info] Number of data points in the train set: 209959, number of used features: 66\n",
      "[LightGBM] [Info] Start training from score 4754.300692\n",
      "CPU times: total: 6.03 s\n",
      "Wall time: 26.1 s\n"
     ]
    }
   ],
   "source": [
    "%%time\n",
    "start = time.time()\n",
    "\n",
    "model_lgbm = LGBMRegressor(objective='regression',\n",
    "                           boosting_type='gbdt',\n",
    "                           random_state=RANDOM_STATE)\n",
    "# Создадим пайплайн                        \n",
    "pipeline_lgbm = Pipeline([('preprocessor_lgbm', preprocessor_lgbm),\n",
    "                          ('lightgbmregressor', model_lgbm)])\n",
    "\n",
    "# Cловарь с гиперпараметрами и значениями, которые хотим перебрать\n",
    "param_grid_lgbm = {'lightgbmregressor__n_estimators': range(2, 31, 2),\n",
    "                   'lightgbmregressor__max_depth': range(2, 15),\n",
    "                   'lightgbmregressor__num_leaves': [25, 50, 100, 200],\n",
    "                   'lightgbmregressor__learning_rate': [.1, .3, .5]}\n",
    "\n",
    "# Будем использовать RandomizedSearchCV при переборе комбинаций гиперпараметров\n",
    "random_cv_lgbm = RandomizedSearchCV(estimator=pipeline_lgbm, \n",
    "                                    param_distributions=param_grid_lgbm, \n",
    "                                    scoring='neg_root_mean_squared_error',\n",
    "                                    cv=5,\n",
    "                                    n_iter=10,\n",
    "                                    n_jobs=-1, \n",
    "                                    random_state=RANDOM_STATE,\n",
    "                                    verbose=10)\n",
    "\n",
    "random_cv_lgbm.fit(X_train, y_train)\n",
    "end = time.time()\n",
    "t_lgbm = round(end-start,2)"
   ]
  },
  {
   "cell_type": "code",
   "execution_count": 297,
   "metadata": {},
   "outputs": [
    {
     "name": "stdout",
     "output_type": "stream",
     "text": [
      "best_score: 1516.461\n",
      "best_params: {'lightgbmregressor__num_leaves': 100, 'lightgbmregressor__n_estimators': 22, 'lightgbmregressor__max_depth': 13, 'lightgbmregressor__learning_rate': 0.3}\n"
     ]
    }
   ],
   "source": [
    "random_cv_lgbm_best_score = random_cv_lgbm.best_score_\n",
    "random_cv_lgbm_best_params = random_cv_lgbm.best_params_\n",
    "\n",
    "# лучшее значение RMSE \n",
    "print(f'best_score: {round(-random_cv_lgbm_best_score,3)}')\n",
    "# лучшие гиперпараметры\n",
    "print(f'best_params: {random_cv_lgbm_best_params}')"
   ]
  },
  {
   "cell_type": "code",
   "execution_count": 298,
   "metadata": {},
   "outputs": [
    {
     "name": "stdout",
     "output_type": "stream",
     "text": [
      "[LightGBM] [Info] Auto-choosing row-wise multi-threading, the overhead of testing was 0.006376 seconds.\n",
      "You can set `force_row_wise=true` to remove the overhead.\n",
      "And if memory is not enough, you can set `force_col_wise=true`.\n",
      "[LightGBM] [Info] Total Bins 617\n",
      "[LightGBM] [Info] Number of data points in the train set: 209959, number of used features: 66\n",
      "[LightGBM] [Info] Start training from score 4754.300692\n"
     ]
    },
    {
     "data": {
      "text/html": [
       "<style>#sk-container-id-10 {color: black;background-color: white;}#sk-container-id-10 pre{padding: 0;}#sk-container-id-10 div.sk-toggleable {background-color: white;}#sk-container-id-10 label.sk-toggleable__label {cursor: pointer;display: block;width: 100%;margin-bottom: 0;padding: 0.3em;box-sizing: border-box;text-align: center;}#sk-container-id-10 label.sk-toggleable__label-arrow:before {content: \"▸\";float: left;margin-right: 0.25em;color: #696969;}#sk-container-id-10 label.sk-toggleable__label-arrow:hover:before {color: black;}#sk-container-id-10 div.sk-estimator:hover label.sk-toggleable__label-arrow:before {color: black;}#sk-container-id-10 div.sk-toggleable__content {max-height: 0;max-width: 0;overflow: hidden;text-align: left;background-color: #f0f8ff;}#sk-container-id-10 div.sk-toggleable__content pre {margin: 0.2em;color: black;border-radius: 0.25em;background-color: #f0f8ff;}#sk-container-id-10 input.sk-toggleable__control:checked~div.sk-toggleable__content {max-height: 200px;max-width: 100%;overflow: auto;}#sk-container-id-10 input.sk-toggleable__control:checked~label.sk-toggleable__label-arrow:before {content: \"▾\";}#sk-container-id-10 div.sk-estimator input.sk-toggleable__control:checked~label.sk-toggleable__label {background-color: #d4ebff;}#sk-container-id-10 div.sk-label input.sk-toggleable__control:checked~label.sk-toggleable__label {background-color: #d4ebff;}#sk-container-id-10 input.sk-hidden--visually {border: 0;clip: rect(1px 1px 1px 1px);clip: rect(1px, 1px, 1px, 1px);height: 1px;margin: -1px;overflow: hidden;padding: 0;position: absolute;width: 1px;}#sk-container-id-10 div.sk-estimator {font-family: monospace;background-color: #f0f8ff;border: 1px dotted black;border-radius: 0.25em;box-sizing: border-box;margin-bottom: 0.5em;}#sk-container-id-10 div.sk-estimator:hover {background-color: #d4ebff;}#sk-container-id-10 div.sk-parallel-item::after {content: \"\";width: 100%;border-bottom: 1px solid gray;flex-grow: 1;}#sk-container-id-10 div.sk-label:hover label.sk-toggleable__label {background-color: #d4ebff;}#sk-container-id-10 div.sk-serial::before {content: \"\";position: absolute;border-left: 1px solid gray;box-sizing: border-box;top: 0;bottom: 0;left: 50%;z-index: 0;}#sk-container-id-10 div.sk-serial {display: flex;flex-direction: column;align-items: center;background-color: white;padding-right: 0.2em;padding-left: 0.2em;position: relative;}#sk-container-id-10 div.sk-item {position: relative;z-index: 1;}#sk-container-id-10 div.sk-parallel {display: flex;align-items: stretch;justify-content: center;background-color: white;position: relative;}#sk-container-id-10 div.sk-item::before, #sk-container-id-10 div.sk-parallel-item::before {content: \"\";position: absolute;border-left: 1px solid gray;box-sizing: border-box;top: 0;bottom: 0;left: 50%;z-index: -1;}#sk-container-id-10 div.sk-parallel-item {display: flex;flex-direction: column;z-index: 1;position: relative;background-color: white;}#sk-container-id-10 div.sk-parallel-item:first-child::after {align-self: flex-end;width: 50%;}#sk-container-id-10 div.sk-parallel-item:last-child::after {align-self: flex-start;width: 50%;}#sk-container-id-10 div.sk-parallel-item:only-child::after {width: 0;}#sk-container-id-10 div.sk-dashed-wrapped {border: 1px dashed gray;margin: 0 0.4em 0.5em 0.4em;box-sizing: border-box;padding-bottom: 0.4em;background-color: white;}#sk-container-id-10 div.sk-label label {font-family: monospace;font-weight: bold;display: inline-block;line-height: 1.2em;}#sk-container-id-10 div.sk-label-container {text-align: center;}#sk-container-id-10 div.sk-container {/* jupyter's `normalize.less` sets `[hidden] { display: none; }` but bootstrap.min.css set `[hidden] { display: none !important; }` so we also need the `!important` here to be able to override the default hidden behavior on the sphinx rendered scikit-learn.org. See: https://github.com/scikit-learn/scikit-learn/issues/21755 */display: inline-block !important;position: relative;}#sk-container-id-10 div.sk-text-repr-fallback {display: none;}</style><div id=\"sk-container-id-10\" class=\"sk-top-container\"><div class=\"sk-text-repr-fallback\"><pre>Pipeline(steps=[(&#x27;preprocessor_lgbm&#x27;,\n",
       "                 ColumnTransformer(remainder=&#x27;passthrough&#x27;,\n",
       "                                   transformers=[(&#x27;cat_ohe&#x27;,\n",
       "                                                  Pipeline(steps=[(&#x27;ohe&#x27;,\n",
       "                                                                   OneHotEncoder(handle_unknown=&#x27;ignore&#x27;,\n",
       "                                                                                 sparse=False))]),\n",
       "                                                  [&#x27;vehicle_type&#x27;, &#x27;gearbox&#x27;,\n",
       "                                                   &#x27;fuel_type&#x27;, &#x27;brand&#x27;,\n",
       "                                                   &#x27;repaired&#x27;]),\n",
       "                                                 (&#x27;num&#x27;,\n",
       "                                                  Pipeline(steps=[(&#x27;scaler&#x27;,\n",
       "                                                                   StandardScaler())]),\n",
       "                                                  [&#x27;registration_year&#x27;, &#x27;power&#x27;,\n",
       "                                                   &#x27;kilometer&#x27;]),\n",
       "                                                 (&#x27;cat_oe&#x27;,\n",
       "                                                  Pip...\n",
       "                                                                                               &#x27;unknow&#x27;,\n",
       "                                                                                               &#x27;e_klasse&#x27;,\n",
       "                                                                                               &#x27;polo&#x27;,\n",
       "                                                                                               &#x27;3er&#x27;,\n",
       "                                                                                               &#x27;clio&#x27;,\n",
       "                                                                                               &#x27;touran&#x27;,\n",
       "                                                                                               &#x27;passat&#x27;,\n",
       "                                                                                               &#x27;roomster&#x27;,\n",
       "                                                                                               &#x27;mondeo&#x27;,\n",
       "                                                                                               &#x27;c4&#x27;,\n",
       "                                                                                               &#x27;corsa&#x27;,\n",
       "                                                                                               &#x27;focus&#x27;,\n",
       "                                                                                               &#x27;auris&#x27;,\n",
       "                                                                                               &#x27;c_klasse&#x27;,\n",
       "                                                                                               &#x27;sharan&#x27;,\n",
       "                                                                                               &#x27;80&#x27;,\n",
       "                                                                                               &#x27;a4&#x27;,\n",
       "                                                                                               &#x27;s_max&#x27;,\n",
       "                                                                                               &#x27;1er&#x27;,\n",
       "                                                                                               &#x27;twingo&#x27;,\n",
       "                                                                                               &#x27;500&#x27;,\n",
       "                                                                                               &#x27;other&#x27;,\n",
       "                                                                                               &#x27;sprinter&#x27;,\n",
       "                                                                                               &#x27;a6&#x27;, ...]]))]),\n",
       "                                                  [&#x27;model&#x27;])])),\n",
       "                (&#x27;lightgbmregressor&#x27;,\n",
       "                 LGBMRegressor(learning_rate=0.3, max_depth=13, n_estimators=22,\n",
       "                               num_leaves=100, objective=&#x27;regression&#x27;,\n",
       "                               random_state=42))])</pre><b>In a Jupyter environment, please rerun this cell to show the HTML representation or trust the notebook. <br />On GitHub, the HTML representation is unable to render, please try loading this page with nbviewer.org.</b></div><div class=\"sk-container\" hidden><div class=\"sk-item sk-dashed-wrapped\"><div class=\"sk-label-container\"><div class=\"sk-label sk-toggleable\"><input class=\"sk-toggleable__control sk-hidden--visually\" id=\"sk-estimator-id-92\" type=\"checkbox\" ><label for=\"sk-estimator-id-92\" class=\"sk-toggleable__label sk-toggleable__label-arrow\">Pipeline</label><div class=\"sk-toggleable__content\"><pre>Pipeline(steps=[(&#x27;preprocessor_lgbm&#x27;,\n",
       "                 ColumnTransformer(remainder=&#x27;passthrough&#x27;,\n",
       "                                   transformers=[(&#x27;cat_ohe&#x27;,\n",
       "                                                  Pipeline(steps=[(&#x27;ohe&#x27;,\n",
       "                                                                   OneHotEncoder(handle_unknown=&#x27;ignore&#x27;,\n",
       "                                                                                 sparse=False))]),\n",
       "                                                  [&#x27;vehicle_type&#x27;, &#x27;gearbox&#x27;,\n",
       "                                                   &#x27;fuel_type&#x27;, &#x27;brand&#x27;,\n",
       "                                                   &#x27;repaired&#x27;]),\n",
       "                                                 (&#x27;num&#x27;,\n",
       "                                                  Pipeline(steps=[(&#x27;scaler&#x27;,\n",
       "                                                                   StandardScaler())]),\n",
       "                                                  [&#x27;registration_year&#x27;, &#x27;power&#x27;,\n",
       "                                                   &#x27;kilometer&#x27;]),\n",
       "                                                 (&#x27;cat_oe&#x27;,\n",
       "                                                  Pip...\n",
       "                                                                                               &#x27;unknow&#x27;,\n",
       "                                                                                               &#x27;e_klasse&#x27;,\n",
       "                                                                                               &#x27;polo&#x27;,\n",
       "                                                                                               &#x27;3er&#x27;,\n",
       "                                                                                               &#x27;clio&#x27;,\n",
       "                                                                                               &#x27;touran&#x27;,\n",
       "                                                                                               &#x27;passat&#x27;,\n",
       "                                                                                               &#x27;roomster&#x27;,\n",
       "                                                                                               &#x27;mondeo&#x27;,\n",
       "                                                                                               &#x27;c4&#x27;,\n",
       "                                                                                               &#x27;corsa&#x27;,\n",
       "                                                                                               &#x27;focus&#x27;,\n",
       "                                                                                               &#x27;auris&#x27;,\n",
       "                                                                                               &#x27;c_klasse&#x27;,\n",
       "                                                                                               &#x27;sharan&#x27;,\n",
       "                                                                                               &#x27;80&#x27;,\n",
       "                                                                                               &#x27;a4&#x27;,\n",
       "                                                                                               &#x27;s_max&#x27;,\n",
       "                                                                                               &#x27;1er&#x27;,\n",
       "                                                                                               &#x27;twingo&#x27;,\n",
       "                                                                                               &#x27;500&#x27;,\n",
       "                                                                                               &#x27;other&#x27;,\n",
       "                                                                                               &#x27;sprinter&#x27;,\n",
       "                                                                                               &#x27;a6&#x27;, ...]]))]),\n",
       "                                                  [&#x27;model&#x27;])])),\n",
       "                (&#x27;lightgbmregressor&#x27;,\n",
       "                 LGBMRegressor(learning_rate=0.3, max_depth=13, n_estimators=22,\n",
       "                               num_leaves=100, objective=&#x27;regression&#x27;,\n",
       "                               random_state=42))])</pre></div></div></div><div class=\"sk-serial\"><div class=\"sk-item sk-dashed-wrapped\"><div class=\"sk-label-container\"><div class=\"sk-label sk-toggleable\"><input class=\"sk-toggleable__control sk-hidden--visually\" id=\"sk-estimator-id-93\" type=\"checkbox\" ><label for=\"sk-estimator-id-93\" class=\"sk-toggleable__label sk-toggleable__label-arrow\">preprocessor_lgbm: ColumnTransformer</label><div class=\"sk-toggleable__content\"><pre>ColumnTransformer(remainder=&#x27;passthrough&#x27;,\n",
       "                  transformers=[(&#x27;cat_ohe&#x27;,\n",
       "                                 Pipeline(steps=[(&#x27;ohe&#x27;,\n",
       "                                                  OneHotEncoder(handle_unknown=&#x27;ignore&#x27;,\n",
       "                                                                sparse=False))]),\n",
       "                                 [&#x27;vehicle_type&#x27;, &#x27;gearbox&#x27;, &#x27;fuel_type&#x27;,\n",
       "                                  &#x27;brand&#x27;, &#x27;repaired&#x27;]),\n",
       "                                (&#x27;num&#x27;,\n",
       "                                 Pipeline(steps=[(&#x27;scaler&#x27;, StandardScaler())]),\n",
       "                                 [&#x27;registration_year&#x27;, &#x27;power&#x27;, &#x27;kilometer&#x27;]),\n",
       "                                (&#x27;cat_oe&#x27;,\n",
       "                                 Pipeline(steps=[(&#x27;oe_rf&#x27;,\n",
       "                                                  OrdinalEncoder(categories=[[&#x27;5er&#x27;,\n",
       "                                                                              &#x27;laguna&#x27;,\n",
       "                                                                              &#x27;golf&#x27;,\n",
       "                                                                              &#x27;a3&#x27;,\n",
       "                                                                              &#x27;100&#x27;,\n",
       "                                                                              &#x27;fabia&#x27;,\n",
       "                                                                              &#x27;unknow&#x27;,\n",
       "                                                                              &#x27;e_klasse&#x27;,\n",
       "                                                                              &#x27;polo&#x27;,\n",
       "                                                                              &#x27;3er&#x27;,\n",
       "                                                                              &#x27;clio&#x27;,\n",
       "                                                                              &#x27;touran&#x27;,\n",
       "                                                                              &#x27;passat&#x27;,\n",
       "                                                                              &#x27;roomster&#x27;,\n",
       "                                                                              &#x27;mondeo&#x27;,\n",
       "                                                                              &#x27;c4&#x27;,\n",
       "                                                                              &#x27;corsa&#x27;,\n",
       "                                                                              &#x27;focus&#x27;,\n",
       "                                                                              &#x27;auris&#x27;,\n",
       "                                                                              &#x27;c_klasse&#x27;,\n",
       "                                                                              &#x27;sharan&#x27;,\n",
       "                                                                              &#x27;80&#x27;,\n",
       "                                                                              &#x27;a4&#x27;,\n",
       "                                                                              &#x27;s_max&#x27;,\n",
       "                                                                              &#x27;1er&#x27;,\n",
       "                                                                              &#x27;twingo&#x27;,\n",
       "                                                                              &#x27;500&#x27;,\n",
       "                                                                              &#x27;other&#x27;,\n",
       "                                                                              &#x27;sprinter&#x27;,\n",
       "                                                                              &#x27;a6&#x27;, ...]]))]),\n",
       "                                 [&#x27;model&#x27;])])</pre></div></div></div><div class=\"sk-parallel\"><div class=\"sk-parallel-item\"><div class=\"sk-item\"><div class=\"sk-label-container\"><div class=\"sk-label sk-toggleable\"><input class=\"sk-toggleable__control sk-hidden--visually\" id=\"sk-estimator-id-94\" type=\"checkbox\" ><label for=\"sk-estimator-id-94\" class=\"sk-toggleable__label sk-toggleable__label-arrow\">cat_ohe</label><div class=\"sk-toggleable__content\"><pre>[&#x27;vehicle_type&#x27;, &#x27;gearbox&#x27;, &#x27;fuel_type&#x27;, &#x27;brand&#x27;, &#x27;repaired&#x27;]</pre></div></div></div><div class=\"sk-serial\"><div class=\"sk-item\"><div class=\"sk-serial\"><div class=\"sk-item\"><div class=\"sk-estimator sk-toggleable\"><input class=\"sk-toggleable__control sk-hidden--visually\" id=\"sk-estimator-id-95\" type=\"checkbox\" ><label for=\"sk-estimator-id-95\" class=\"sk-toggleable__label sk-toggleable__label-arrow\">OneHotEncoder</label><div class=\"sk-toggleable__content\"><pre>OneHotEncoder(handle_unknown=&#x27;ignore&#x27;, sparse=False)</pre></div></div></div></div></div></div></div></div><div class=\"sk-parallel-item\"><div class=\"sk-item\"><div class=\"sk-label-container\"><div class=\"sk-label sk-toggleable\"><input class=\"sk-toggleable__control sk-hidden--visually\" id=\"sk-estimator-id-96\" type=\"checkbox\" ><label for=\"sk-estimator-id-96\" class=\"sk-toggleable__label sk-toggleable__label-arrow\">num</label><div class=\"sk-toggleable__content\"><pre>[&#x27;registration_year&#x27;, &#x27;power&#x27;, &#x27;kilometer&#x27;]</pre></div></div></div><div class=\"sk-serial\"><div class=\"sk-item\"><div class=\"sk-serial\"><div class=\"sk-item\"><div class=\"sk-estimator sk-toggleable\"><input class=\"sk-toggleable__control sk-hidden--visually\" id=\"sk-estimator-id-97\" type=\"checkbox\" ><label for=\"sk-estimator-id-97\" class=\"sk-toggleable__label sk-toggleable__label-arrow\">StandardScaler</label><div class=\"sk-toggleable__content\"><pre>StandardScaler()</pre></div></div></div></div></div></div></div></div><div class=\"sk-parallel-item\"><div class=\"sk-item\"><div class=\"sk-label-container\"><div class=\"sk-label sk-toggleable\"><input class=\"sk-toggleable__control sk-hidden--visually\" id=\"sk-estimator-id-98\" type=\"checkbox\" ><label for=\"sk-estimator-id-98\" class=\"sk-toggleable__label sk-toggleable__label-arrow\">cat_oe</label><div class=\"sk-toggleable__content\"><pre>[&#x27;model&#x27;]</pre></div></div></div><div class=\"sk-serial\"><div class=\"sk-item\"><div class=\"sk-serial\"><div class=\"sk-item\"><div class=\"sk-estimator sk-toggleable\"><input class=\"sk-toggleable__control sk-hidden--visually\" id=\"sk-estimator-id-99\" type=\"checkbox\" ><label for=\"sk-estimator-id-99\" class=\"sk-toggleable__label sk-toggleable__label-arrow\">OrdinalEncoder</label><div class=\"sk-toggleable__content\"><pre>OrdinalEncoder(categories=[[&#x27;5er&#x27;, &#x27;laguna&#x27;, &#x27;golf&#x27;, &#x27;a3&#x27;, &#x27;100&#x27;, &#x27;fabia&#x27;,\n",
       "                            &#x27;unknow&#x27;, &#x27;e_klasse&#x27;, &#x27;polo&#x27;, &#x27;3er&#x27;, &#x27;clio&#x27;,\n",
       "                            &#x27;touran&#x27;, &#x27;passat&#x27;, &#x27;roomster&#x27;, &#x27;mondeo&#x27;, &#x27;c4&#x27;,\n",
       "                            &#x27;corsa&#x27;, &#x27;focus&#x27;, &#x27;auris&#x27;, &#x27;c_klasse&#x27;, &#x27;sharan&#x27;,\n",
       "                            &#x27;80&#x27;, &#x27;a4&#x27;, &#x27;s_max&#x27;, &#x27;1er&#x27;, &#x27;twingo&#x27;, &#x27;500&#x27;,\n",
       "                            &#x27;other&#x27;, &#x27;sprinter&#x27;, &#x27;a6&#x27;, ...]])</pre></div></div></div></div></div></div></div></div><div class=\"sk-parallel-item\"><div class=\"sk-item\"><div class=\"sk-label-container\"><div class=\"sk-label sk-toggleable\"><input class=\"sk-toggleable__control sk-hidden--visually\" id=\"sk-estimator-id-100\" type=\"checkbox\" ><label for=\"sk-estimator-id-100\" class=\"sk-toggleable__label sk-toggleable__label-arrow\">remainder</label><div class=\"sk-toggleable__content\"><pre>[]</pre></div></div></div><div class=\"sk-serial\"><div class=\"sk-item\"><div class=\"sk-estimator sk-toggleable\"><input class=\"sk-toggleable__control sk-hidden--visually\" id=\"sk-estimator-id-101\" type=\"checkbox\" ><label for=\"sk-estimator-id-101\" class=\"sk-toggleable__label sk-toggleable__label-arrow\">passthrough</label><div class=\"sk-toggleable__content\"><pre>passthrough</pre></div></div></div></div></div></div></div></div><div class=\"sk-item\"><div class=\"sk-estimator sk-toggleable\"><input class=\"sk-toggleable__control sk-hidden--visually\" id=\"sk-estimator-id-102\" type=\"checkbox\" ><label for=\"sk-estimator-id-102\" class=\"sk-toggleable__label sk-toggleable__label-arrow\">LGBMRegressor</label><div class=\"sk-toggleable__content\"><pre>LGBMRegressor(learning_rate=0.3, max_depth=13, n_estimators=22, num_leaves=100,\n",
       "              objective=&#x27;regression&#x27;, random_state=42)</pre></div></div></div></div></div></div></div>"
      ],
      "text/plain": [
       "Pipeline(steps=[('preprocessor_lgbm',\n",
       "                 ColumnTransformer(remainder='passthrough',\n",
       "                                   transformers=[('cat_ohe',\n",
       "                                                  Pipeline(steps=[('ohe',\n",
       "                                                                   OneHotEncoder(handle_unknown='ignore',\n",
       "                                                                                 sparse=False))]),\n",
       "                                                  ['vehicle_type', 'gearbox',\n",
       "                                                   'fuel_type', 'brand',\n",
       "                                                   'repaired']),\n",
       "                                                 ('num',\n",
       "                                                  Pipeline(steps=[('scaler',\n",
       "                                                                   StandardScaler())]),\n",
       "                                                  ['registration_year', 'power',\n",
       "                                                   'kilometer']),\n",
       "                                                 ('cat_oe',\n",
       "                                                  Pip...\n",
       "                                                                                               'unknow',\n",
       "                                                                                               'e_klasse',\n",
       "                                                                                               'polo',\n",
       "                                                                                               '3er',\n",
       "                                                                                               'clio',\n",
       "                                                                                               'touran',\n",
       "                                                                                               'passat',\n",
       "                                                                                               'roomster',\n",
       "                                                                                               'mondeo',\n",
       "                                                                                               'c4',\n",
       "                                                                                               'corsa',\n",
       "                                                                                               'focus',\n",
       "                                                                                               'auris',\n",
       "                                                                                               'c_klasse',\n",
       "                                                                                               'sharan',\n",
       "                                                                                               '80',\n",
       "                                                                                               'a4',\n",
       "                                                                                               's_max',\n",
       "                                                                                               '1er',\n",
       "                                                                                               'twingo',\n",
       "                                                                                               '500',\n",
       "                                                                                               'other',\n",
       "                                                                                               'sprinter',\n",
       "                                                                                               'a6', ...]]))]),\n",
       "                                                  ['model'])])),\n",
       "                ('lightgbmregressor',\n",
       "                 LGBMRegressor(learning_rate=0.3, max_depth=13, n_estimators=22,\n",
       "                               num_leaves=100, objective='regression',\n",
       "                               random_state=42))])"
      ]
     },
     "execution_count": 298,
     "metadata": {},
     "output_type": "execute_result"
    }
   ],
   "source": [
    "# Инициируем модель с лучшими параметрами\n",
    "model_lgbm_best = LGBMRegressor(learning_rate=0.3,\n",
    "                                max_depth=13,\n",
    "                                n_estimators=22,\n",
    "                                num_leaves=100,\n",
    "                                objective='regression',\n",
    "                                random_state=42)\n",
    "pipline_lgbm_best = Pipeline([('preprocessor_lgbm', preprocessor_lgbm),\n",
    "                            ('lightgbmregressor', model_lgbm_best)])\n",
    "pipline_lgbm_best.fit(X_train, y_train)"
   ]
  },
  {
   "cell_type": "code",
   "execution_count": 299,
   "metadata": {},
   "outputs": [
    {
     "name": "stdout",
     "output_type": "stream",
     "text": [
      "CPU times: total: 1.05 s\n",
      "Wall time: 408 ms\n"
     ]
    }
   ],
   "source": [
    "%%time\n",
    "start = time.time()\n",
    "# Замерим время предсказания лучшей модели на тренировочной выборке\n",
    "predict_lgbm_best = pipline_lgbm_best.predict(X_train)\n",
    "end = time.time()\n",
    "t_lgbm_pr = round(end-start,2)"
   ]
  },
  {
   "cell_type": "code",
   "execution_count": 300,
   "metadata": {},
   "outputs": [
    {
     "data": {
      "text/html": [
       "<div>\n",
       "<style scoped>\n",
       "    .dataframe tbody tr th:only-of-type {\n",
       "        vertical-align: middle;\n",
       "    }\n",
       "\n",
       "    .dataframe tbody tr th {\n",
       "        vertical-align: top;\n",
       "    }\n",
       "\n",
       "    .dataframe thead th {\n",
       "        text-align: right;\n",
       "    }\n",
       "</style>\n",
       "<table border=\"1\" class=\"dataframe\">\n",
       "  <thead>\n",
       "    <tr style=\"text-align: right;\">\n",
       "      <th></th>\n",
       "      <th>LGBMRegressor</th>\n",
       "    </tr>\n",
       "  </thead>\n",
       "  <tbody>\n",
       "    <tr>\n",
       "      <th>RMSE</th>\n",
       "      <td>1516.461</td>\n",
       "    </tr>\n",
       "    <tr>\n",
       "      <th>Fit Time</th>\n",
       "      <td>26.140</td>\n",
       "    </tr>\n",
       "    <tr>\n",
       "      <th>Predict Time</th>\n",
       "      <td>0.410</td>\n",
       "    </tr>\n",
       "  </tbody>\n",
       "</table>\n",
       "</div>"
      ],
      "text/plain": [
       "              LGBMRegressor\n",
       "RMSE               1516.461\n",
       "Fit Time             26.140\n",
       "Predict Time          0.410"
      ]
     },
     "execution_count": 300,
     "metadata": {},
     "output_type": "execute_result"
    }
   ],
   "source": [
    "# Занесем результаты в таблицу\n",
    "result_lgbm = pd.DataFrame([round(-random_cv_lgbm_best_score,3), t_lgbm, t_lgbm_pr], \n",
    "                         index=['RMSE', 'Fit Time', 'Predict Time'], \n",
    "                         columns=['LGBMRegressor'])\n",
    "result_lgbm        "
   ]
  },
  {
   "cell_type": "markdown",
   "metadata": {},
   "source": [
    "### CatBoostRegressor"
   ]
  },
  {
   "cell_type": "code",
   "execution_count": 301,
   "metadata": {},
   "outputs": [],
   "source": [
    "# Поместим пайплайны в ColumnTransformer\n",
    "preprocessor_cbr = ColumnTransformer(transformers=[('cat_ohe', ohe_pipe, cat_features),\n",
    "                                                   ('num', num_pipe, num_features)],\n",
    "                                                     remainder='passthrough') "
   ]
  },
  {
   "cell_type": "code",
   "execution_count": 302,
   "metadata": {
    "scrolled": true
   },
   "outputs": [
    {
     "name": "stdout",
     "output_type": "stream",
     "text": [
      "Fitting 5 folds for each of 10 candidates, totalling 50 fits\n",
      "0:\tlearn: 3504.2798427\ttotal: 41.9ms\tremaining: 4.07s\n",
      "1:\tlearn: 2850.5158605\ttotal: 84.1ms\tremaining: 4.03s\n",
      "2:\tlearn: 2432.2346861\ttotal: 126ms\tremaining: 4s\n",
      "3:\tlearn: 2155.0394933\ttotal: 166ms\tremaining: 3.9s\n",
      "4:\tlearn: 1985.2430337\ttotal: 208ms\tremaining: 3.87s\n",
      "5:\tlearn: 1866.3349268\ttotal: 254ms\tremaining: 3.89s\n",
      "6:\tlearn: 1796.1055261\ttotal: 296ms\tremaining: 3.85s\n",
      "7:\tlearn: 1744.4783221\ttotal: 337ms\tremaining: 3.79s\n",
      "8:\tlearn: 1713.9157532\ttotal: 379ms\tremaining: 3.75s\n",
      "9:\tlearn: 1684.8434653\ttotal: 420ms\tremaining: 3.7s\n",
      "10:\tlearn: 1664.1754411\ttotal: 464ms\tremaining: 3.67s\n",
      "11:\tlearn: 1650.0411789\ttotal: 504ms\tremaining: 3.61s\n",
      "12:\tlearn: 1634.9260098\ttotal: 546ms\tremaining: 3.57s\n",
      "13:\tlearn: 1622.7767840\ttotal: 587ms\tremaining: 3.52s\n",
      "14:\tlearn: 1612.9903260\ttotal: 628ms\tremaining: 3.48s\n",
      "15:\tlearn: 1605.6906953\ttotal: 670ms\tremaining: 3.43s\n",
      "16:\tlearn: 1594.9511482\ttotal: 714ms\tremaining: 3.4s\n",
      "17:\tlearn: 1587.5931461\ttotal: 755ms\tremaining: 3.36s\n",
      "18:\tlearn: 1581.1072307\ttotal: 797ms\tremaining: 3.31s\n",
      "19:\tlearn: 1576.6544872\ttotal: 838ms\tremaining: 3.27s\n",
      "20:\tlearn: 1567.5382811\ttotal: 878ms\tremaining: 3.22s\n",
      "21:\tlearn: 1562.0883030\ttotal: 922ms\tremaining: 3.19s\n",
      "22:\tlearn: 1553.4219946\ttotal: 965ms\tremaining: 3.15s\n",
      "23:\tlearn: 1548.0642667\ttotal: 1.01s\tremaining: 3.1s\n",
      "24:\tlearn: 1542.0345129\ttotal: 1.05s\tremaining: 3.06s\n",
      "25:\tlearn: 1537.4719641\ttotal: 1.09s\tremaining: 3.02s\n",
      "26:\tlearn: 1534.9500443\ttotal: 1.13s\tremaining: 2.98s\n",
      "27:\tlearn: 1531.5802482\ttotal: 1.17s\tremaining: 2.93s\n",
      "28:\tlearn: 1528.4055090\ttotal: 1.22s\tremaining: 2.89s\n",
      "29:\tlearn: 1524.6540034\ttotal: 1.26s\tremaining: 2.85s\n",
      "30:\tlearn: 1519.2826773\ttotal: 1.3s\tremaining: 2.81s\n",
      "31:\tlearn: 1514.5424759\ttotal: 1.34s\tremaining: 2.77s\n",
      "32:\tlearn: 1511.3466244\ttotal: 1.39s\tremaining: 2.73s\n",
      "33:\tlearn: 1508.9822318\ttotal: 1.43s\tremaining: 2.69s\n",
      "34:\tlearn: 1504.5471999\ttotal: 1.47s\tremaining: 2.65s\n",
      "35:\tlearn: 1501.9788450\ttotal: 1.51s\tremaining: 2.6s\n",
      "36:\tlearn: 1498.3796722\ttotal: 1.55s\tremaining: 2.56s\n",
      "37:\tlearn: 1496.0471428\ttotal: 1.59s\tremaining: 2.52s\n",
      "38:\tlearn: 1493.7885078\ttotal: 1.64s\tremaining: 2.48s\n",
      "39:\tlearn: 1489.6365235\ttotal: 1.68s\tremaining: 2.43s\n",
      "40:\tlearn: 1486.1844434\ttotal: 1.72s\tremaining: 2.39s\n",
      "41:\tlearn: 1483.3625537\ttotal: 1.76s\tremaining: 2.35s\n",
      "42:\tlearn: 1480.4911315\ttotal: 1.8s\tremaining: 2.31s\n",
      "43:\tlearn: 1478.0578018\ttotal: 1.85s\tremaining: 2.27s\n",
      "44:\tlearn: 1474.4722619\ttotal: 1.89s\tremaining: 2.22s\n",
      "45:\tlearn: 1472.5891256\ttotal: 1.93s\tremaining: 2.18s\n",
      "46:\tlearn: 1469.6951743\ttotal: 1.97s\tremaining: 2.14s\n",
      "47:\tlearn: 1467.0421630\ttotal: 2.01s\tremaining: 2.1s\n",
      "48:\tlearn: 1465.5408803\ttotal: 2.06s\tremaining: 2.06s\n",
      "49:\tlearn: 1461.7851356\ttotal: 2.1s\tremaining: 2.01s\n",
      "50:\tlearn: 1458.7980319\ttotal: 2.14s\tremaining: 1.97s\n",
      "51:\tlearn: 1456.3630600\ttotal: 2.18s\tremaining: 1.93s\n",
      "52:\tlearn: 1454.0162764\ttotal: 2.22s\tremaining: 1.89s\n",
      "53:\tlearn: 1451.1862504\ttotal: 2.27s\tremaining: 1.85s\n",
      "54:\tlearn: 1449.4642281\ttotal: 2.31s\tremaining: 1.8s\n",
      "55:\tlearn: 1447.9449583\ttotal: 2.35s\tremaining: 1.76s\n",
      "56:\tlearn: 1446.6601256\ttotal: 2.39s\tremaining: 1.72s\n",
      "57:\tlearn: 1444.3904506\ttotal: 2.43s\tremaining: 1.68s\n",
      "58:\tlearn: 1443.3863423\ttotal: 2.48s\tremaining: 1.64s\n",
      "59:\tlearn: 1441.3712777\ttotal: 2.52s\tremaining: 1.59s\n",
      "60:\tlearn: 1438.7223899\ttotal: 2.56s\tremaining: 1.55s\n",
      "61:\tlearn: 1437.1723577\ttotal: 2.6s\tremaining: 1.51s\n",
      "62:\tlearn: 1434.4848972\ttotal: 2.64s\tremaining: 1.47s\n",
      "63:\tlearn: 1432.6978558\ttotal: 2.68s\tremaining: 1.42s\n",
      "64:\tlearn: 1430.4904583\ttotal: 2.72s\tremaining: 1.38s\n",
      "65:\tlearn: 1428.7421308\ttotal: 2.76s\tremaining: 1.34s\n",
      "66:\tlearn: 1427.4370881\ttotal: 2.81s\tremaining: 1.3s\n",
      "67:\tlearn: 1425.5834364\ttotal: 2.85s\tremaining: 1.25s\n",
      "68:\tlearn: 1424.3544336\ttotal: 2.89s\tremaining: 1.21s\n",
      "69:\tlearn: 1421.1838797\ttotal: 2.93s\tremaining: 1.17s\n",
      "70:\tlearn: 1419.9199766\ttotal: 2.97s\tremaining: 1.13s\n",
      "71:\tlearn: 1418.5921485\ttotal: 3.01s\tremaining: 1.09s\n",
      "72:\tlearn: 1416.9512098\ttotal: 3.06s\tremaining: 1.05s\n",
      "73:\tlearn: 1413.9603039\ttotal: 3.1s\tremaining: 1s\n",
      "74:\tlearn: 1412.2665687\ttotal: 3.14s\tremaining: 964ms\n",
      "75:\tlearn: 1410.7648558\ttotal: 3.18s\tremaining: 921ms\n",
      "76:\tlearn: 1409.3692953\ttotal: 3.22s\tremaining: 879ms\n",
      "77:\tlearn: 1408.2343258\ttotal: 3.27s\tremaining: 838ms\n",
      "78:\tlearn: 1407.4192771\ttotal: 3.31s\tremaining: 796ms\n",
      "79:\tlearn: 1406.4898319\ttotal: 3.35s\tremaining: 754ms\n",
      "80:\tlearn: 1404.9881771\ttotal: 3.39s\tremaining: 712ms\n",
      "81:\tlearn: 1403.8737294\ttotal: 3.43s\tremaining: 670ms\n",
      "82:\tlearn: 1402.1034187\ttotal: 3.47s\tremaining: 628ms\n",
      "83:\tlearn: 1400.3259665\ttotal: 3.52s\tremaining: 586ms\n",
      "84:\tlearn: 1398.7421717\ttotal: 3.56s\tremaining: 544ms\n",
      "85:\tlearn: 1397.3461563\ttotal: 3.6s\tremaining: 502ms\n",
      "86:\tlearn: 1395.8063512\ttotal: 3.64s\tremaining: 460ms\n",
      "87:\tlearn: 1394.1927768\ttotal: 3.68s\tremaining: 418ms\n",
      "88:\tlearn: 1392.9633857\ttotal: 3.72s\tremaining: 377ms\n",
      "89:\tlearn: 1391.6210948\ttotal: 3.77s\tremaining: 335ms\n",
      "90:\tlearn: 1390.5430906\ttotal: 3.81s\tremaining: 293ms\n",
      "91:\tlearn: 1389.2062153\ttotal: 3.85s\tremaining: 251ms\n",
      "92:\tlearn: 1388.3367125\ttotal: 3.89s\tremaining: 209ms\n",
      "93:\tlearn: 1387.4134196\ttotal: 3.93s\tremaining: 167ms\n",
      "94:\tlearn: 1385.0758453\ttotal: 3.97s\tremaining: 126ms\n",
      "95:\tlearn: 1383.8435772\ttotal: 4.01s\tremaining: 83.7ms\n",
      "96:\tlearn: 1382.3291720\ttotal: 4.06s\tremaining: 41.8ms\n",
      "97:\tlearn: 1381.2491073\ttotal: 4.1s\tremaining: 0us\n",
      "CPU times: total: 39.8 s\n",
      "Wall time: 4min 13s\n"
     ]
    }
   ],
   "source": [
    "%%time\n",
    "start = time.time()\n",
    "\n",
    "model_cbr = CatBoostRegressor(random_state=RANDOM_STATE)          \n",
    "                              \n",
    "# Создадим пайплайн \n",
    "pipeline_cbr = Pipeline([('preprocessor_cbr', preprocessor_cbr),\n",
    "                        ('catboostregressor', model_cbr)])\n",
    "\n",
    "# Cловарь с гиперпараметрами и значениями, которые хотим перебрать\n",
    "param_grid_cbr = {'catboostregressor__n_estimators': range(2, 100, 2),\n",
    "                  'catboostregressor__max_depth': range(2, 15),\n",
    "                  'catboostregressor__learning_rate': [.1, .3, .5]}\n",
    "\n",
    "\n",
    "# Будем использовать RandomizedSearchCV при переборе комбинаций гиперпараметров\n",
    "random_cv_cbr = RandomizedSearchCV(estimator=pipeline_cbr, \n",
    "                                   param_distributions=param_grid_cbr, \n",
    "                                   scoring='neg_root_mean_squared_error',\n",
    "                                   cv=5,\n",
    "                                   n_iter=10,\n",
    "                                   n_jobs=-1, \n",
    "                                   random_state=RANDOM_STATE,\n",
    "                                   verbose=30)\n",
    "\n",
    "random_cv_cbr.fit(X_train, y_train)\n",
    "end = time.time()\n",
    "t_cbr = round(end-start,2)"
   ]
  },
  {
   "cell_type": "code",
   "execution_count": 303,
   "metadata": {},
   "outputs": [
    {
     "name": "stdout",
     "output_type": "stream",
     "text": [
      "best_score: 1453.698\n",
      "best_params: {'catboostregressor__n_estimators': 98, 'catboostregressor__max_depth': 11, 'catboostregressor__learning_rate': 0.3}\n"
     ]
    }
   ],
   "source": [
    "random_cv_cbr_best_score = random_cv_cbr.best_score_\n",
    "random_cv_cbr_best_params = random_cv_cbr.best_params_\n",
    "\n",
    "# лучшее значение RMSE \n",
    "print(f'best_score: {round(-random_cv_cbr_best_score,3)}')\n",
    "# лучшие гиперпараметры\n",
    "print(f'best_params: {random_cv_cbr_best_params}')"
   ]
  },
  {
   "cell_type": "code",
   "execution_count": 304,
   "metadata": {},
   "outputs": [
    {
     "name": "stdout",
     "output_type": "stream",
     "text": [
      "0:\tlearn: 3504.2798427\ttotal: 41.7ms\tremaining: 4.05s\n",
      "30:\tlearn: 1519.2826773\ttotal: 1.27s\tremaining: 2.74s\n",
      "60:\tlearn: 1438.7223899\ttotal: 2.49s\tremaining: 1.51s\n",
      "90:\tlearn: 1390.5430906\ttotal: 3.71s\tremaining: 285ms\n",
      "97:\tlearn: 1381.2491073\ttotal: 4s\tremaining: 0us\n"
     ]
    },
    {
     "data": {
      "text/html": [
       "<style>#sk-container-id-11 {color: black;background-color: white;}#sk-container-id-11 pre{padding: 0;}#sk-container-id-11 div.sk-toggleable {background-color: white;}#sk-container-id-11 label.sk-toggleable__label {cursor: pointer;display: block;width: 100%;margin-bottom: 0;padding: 0.3em;box-sizing: border-box;text-align: center;}#sk-container-id-11 label.sk-toggleable__label-arrow:before {content: \"▸\";float: left;margin-right: 0.25em;color: #696969;}#sk-container-id-11 label.sk-toggleable__label-arrow:hover:before {color: black;}#sk-container-id-11 div.sk-estimator:hover label.sk-toggleable__label-arrow:before {color: black;}#sk-container-id-11 div.sk-toggleable__content {max-height: 0;max-width: 0;overflow: hidden;text-align: left;background-color: #f0f8ff;}#sk-container-id-11 div.sk-toggleable__content pre {margin: 0.2em;color: black;border-radius: 0.25em;background-color: #f0f8ff;}#sk-container-id-11 input.sk-toggleable__control:checked~div.sk-toggleable__content {max-height: 200px;max-width: 100%;overflow: auto;}#sk-container-id-11 input.sk-toggleable__control:checked~label.sk-toggleable__label-arrow:before {content: \"▾\";}#sk-container-id-11 div.sk-estimator input.sk-toggleable__control:checked~label.sk-toggleable__label {background-color: #d4ebff;}#sk-container-id-11 div.sk-label input.sk-toggleable__control:checked~label.sk-toggleable__label {background-color: #d4ebff;}#sk-container-id-11 input.sk-hidden--visually {border: 0;clip: rect(1px 1px 1px 1px);clip: rect(1px, 1px, 1px, 1px);height: 1px;margin: -1px;overflow: hidden;padding: 0;position: absolute;width: 1px;}#sk-container-id-11 div.sk-estimator {font-family: monospace;background-color: #f0f8ff;border: 1px dotted black;border-radius: 0.25em;box-sizing: border-box;margin-bottom: 0.5em;}#sk-container-id-11 div.sk-estimator:hover {background-color: #d4ebff;}#sk-container-id-11 div.sk-parallel-item::after {content: \"\";width: 100%;border-bottom: 1px solid gray;flex-grow: 1;}#sk-container-id-11 div.sk-label:hover label.sk-toggleable__label {background-color: #d4ebff;}#sk-container-id-11 div.sk-serial::before {content: \"\";position: absolute;border-left: 1px solid gray;box-sizing: border-box;top: 0;bottom: 0;left: 50%;z-index: 0;}#sk-container-id-11 div.sk-serial {display: flex;flex-direction: column;align-items: center;background-color: white;padding-right: 0.2em;padding-left: 0.2em;position: relative;}#sk-container-id-11 div.sk-item {position: relative;z-index: 1;}#sk-container-id-11 div.sk-parallel {display: flex;align-items: stretch;justify-content: center;background-color: white;position: relative;}#sk-container-id-11 div.sk-item::before, #sk-container-id-11 div.sk-parallel-item::before {content: \"\";position: absolute;border-left: 1px solid gray;box-sizing: border-box;top: 0;bottom: 0;left: 50%;z-index: -1;}#sk-container-id-11 div.sk-parallel-item {display: flex;flex-direction: column;z-index: 1;position: relative;background-color: white;}#sk-container-id-11 div.sk-parallel-item:first-child::after {align-self: flex-end;width: 50%;}#sk-container-id-11 div.sk-parallel-item:last-child::after {align-self: flex-start;width: 50%;}#sk-container-id-11 div.sk-parallel-item:only-child::after {width: 0;}#sk-container-id-11 div.sk-dashed-wrapped {border: 1px dashed gray;margin: 0 0.4em 0.5em 0.4em;box-sizing: border-box;padding-bottom: 0.4em;background-color: white;}#sk-container-id-11 div.sk-label label {font-family: monospace;font-weight: bold;display: inline-block;line-height: 1.2em;}#sk-container-id-11 div.sk-label-container {text-align: center;}#sk-container-id-11 div.sk-container {/* jupyter's `normalize.less` sets `[hidden] { display: none; }` but bootstrap.min.css set `[hidden] { display: none !important; }` so we also need the `!important` here to be able to override the default hidden behavior on the sphinx rendered scikit-learn.org. See: https://github.com/scikit-learn/scikit-learn/issues/21755 */display: inline-block !important;position: relative;}#sk-container-id-11 div.sk-text-repr-fallback {display: none;}</style><div id=\"sk-container-id-11\" class=\"sk-top-container\"><div class=\"sk-text-repr-fallback\"><pre>Pipeline(steps=[(&#x27;preprocessor_cbr&#x27;,\n",
       "                 ColumnTransformer(remainder=&#x27;passthrough&#x27;,\n",
       "                                   transformers=[(&#x27;cat_ohe&#x27;,\n",
       "                                                  Pipeline(steps=[(&#x27;ohe&#x27;,\n",
       "                                                                   OneHotEncoder(handle_unknown=&#x27;ignore&#x27;,\n",
       "                                                                                 sparse=False))]),\n",
       "                                                  [&#x27;vehicle_type&#x27;, &#x27;gearbox&#x27;,\n",
       "                                                   &#x27;model&#x27;, &#x27;fuel_type&#x27;,\n",
       "                                                   &#x27;brand&#x27;, &#x27;repaired&#x27;]),\n",
       "                                                 (&#x27;num&#x27;,\n",
       "                                                  Pipeline(steps=[(&#x27;scaler&#x27;,\n",
       "                                                                   StandardScaler())]),\n",
       "                                                  [&#x27;registration_year&#x27;, &#x27;power&#x27;,\n",
       "                                                   &#x27;kilometer&#x27;])])),\n",
       "                (&#x27;catboostregressor&#x27;,\n",
       "                 &lt;catboost.core.CatBoostRegressor object at 0x000001B89BCF35B0&gt;)])</pre><b>In a Jupyter environment, please rerun this cell to show the HTML representation or trust the notebook. <br />On GitHub, the HTML representation is unable to render, please try loading this page with nbviewer.org.</b></div><div class=\"sk-container\" hidden><div class=\"sk-item sk-dashed-wrapped\"><div class=\"sk-label-container\"><div class=\"sk-label sk-toggleable\"><input class=\"sk-toggleable__control sk-hidden--visually\" id=\"sk-estimator-id-103\" type=\"checkbox\" ><label for=\"sk-estimator-id-103\" class=\"sk-toggleable__label sk-toggleable__label-arrow\">Pipeline</label><div class=\"sk-toggleable__content\"><pre>Pipeline(steps=[(&#x27;preprocessor_cbr&#x27;,\n",
       "                 ColumnTransformer(remainder=&#x27;passthrough&#x27;,\n",
       "                                   transformers=[(&#x27;cat_ohe&#x27;,\n",
       "                                                  Pipeline(steps=[(&#x27;ohe&#x27;,\n",
       "                                                                   OneHotEncoder(handle_unknown=&#x27;ignore&#x27;,\n",
       "                                                                                 sparse=False))]),\n",
       "                                                  [&#x27;vehicle_type&#x27;, &#x27;gearbox&#x27;,\n",
       "                                                   &#x27;model&#x27;, &#x27;fuel_type&#x27;,\n",
       "                                                   &#x27;brand&#x27;, &#x27;repaired&#x27;]),\n",
       "                                                 (&#x27;num&#x27;,\n",
       "                                                  Pipeline(steps=[(&#x27;scaler&#x27;,\n",
       "                                                                   StandardScaler())]),\n",
       "                                                  [&#x27;registration_year&#x27;, &#x27;power&#x27;,\n",
       "                                                   &#x27;kilometer&#x27;])])),\n",
       "                (&#x27;catboostregressor&#x27;,\n",
       "                 &lt;catboost.core.CatBoostRegressor object at 0x000001B89BCF35B0&gt;)])</pre></div></div></div><div class=\"sk-serial\"><div class=\"sk-item sk-dashed-wrapped\"><div class=\"sk-label-container\"><div class=\"sk-label sk-toggleable\"><input class=\"sk-toggleable__control sk-hidden--visually\" id=\"sk-estimator-id-104\" type=\"checkbox\" ><label for=\"sk-estimator-id-104\" class=\"sk-toggleable__label sk-toggleable__label-arrow\">preprocessor_cbr: ColumnTransformer</label><div class=\"sk-toggleable__content\"><pre>ColumnTransformer(remainder=&#x27;passthrough&#x27;,\n",
       "                  transformers=[(&#x27;cat_ohe&#x27;,\n",
       "                                 Pipeline(steps=[(&#x27;ohe&#x27;,\n",
       "                                                  OneHotEncoder(handle_unknown=&#x27;ignore&#x27;,\n",
       "                                                                sparse=False))]),\n",
       "                                 [&#x27;vehicle_type&#x27;, &#x27;gearbox&#x27;, &#x27;model&#x27;,\n",
       "                                  &#x27;fuel_type&#x27;, &#x27;brand&#x27;, &#x27;repaired&#x27;]),\n",
       "                                (&#x27;num&#x27;,\n",
       "                                 Pipeline(steps=[(&#x27;scaler&#x27;, StandardScaler())]),\n",
       "                                 [&#x27;registration_year&#x27;, &#x27;power&#x27;, &#x27;kilometer&#x27;])])</pre></div></div></div><div class=\"sk-parallel\"><div class=\"sk-parallel-item\"><div class=\"sk-item\"><div class=\"sk-label-container\"><div class=\"sk-label sk-toggleable\"><input class=\"sk-toggleable__control sk-hidden--visually\" id=\"sk-estimator-id-105\" type=\"checkbox\" ><label for=\"sk-estimator-id-105\" class=\"sk-toggleable__label sk-toggleable__label-arrow\">cat_ohe</label><div class=\"sk-toggleable__content\"><pre>[&#x27;vehicle_type&#x27;, &#x27;gearbox&#x27;, &#x27;model&#x27;, &#x27;fuel_type&#x27;, &#x27;brand&#x27;, &#x27;repaired&#x27;]</pre></div></div></div><div class=\"sk-serial\"><div class=\"sk-item\"><div class=\"sk-serial\"><div class=\"sk-item\"><div class=\"sk-estimator sk-toggleable\"><input class=\"sk-toggleable__control sk-hidden--visually\" id=\"sk-estimator-id-106\" type=\"checkbox\" ><label for=\"sk-estimator-id-106\" class=\"sk-toggleable__label sk-toggleable__label-arrow\">OneHotEncoder</label><div class=\"sk-toggleable__content\"><pre>OneHotEncoder(handle_unknown=&#x27;ignore&#x27;, sparse=False)</pre></div></div></div></div></div></div></div></div><div class=\"sk-parallel-item\"><div class=\"sk-item\"><div class=\"sk-label-container\"><div class=\"sk-label sk-toggleable\"><input class=\"sk-toggleable__control sk-hidden--visually\" id=\"sk-estimator-id-107\" type=\"checkbox\" ><label for=\"sk-estimator-id-107\" class=\"sk-toggleable__label sk-toggleable__label-arrow\">num</label><div class=\"sk-toggleable__content\"><pre>[&#x27;registration_year&#x27;, &#x27;power&#x27;, &#x27;kilometer&#x27;]</pre></div></div></div><div class=\"sk-serial\"><div class=\"sk-item\"><div class=\"sk-serial\"><div class=\"sk-item\"><div class=\"sk-estimator sk-toggleable\"><input class=\"sk-toggleable__control sk-hidden--visually\" id=\"sk-estimator-id-108\" type=\"checkbox\" ><label for=\"sk-estimator-id-108\" class=\"sk-toggleable__label sk-toggleable__label-arrow\">StandardScaler</label><div class=\"sk-toggleable__content\"><pre>StandardScaler()</pre></div></div></div></div></div></div></div></div><div class=\"sk-parallel-item\"><div class=\"sk-item\"><div class=\"sk-label-container\"><div class=\"sk-label sk-toggleable\"><input class=\"sk-toggleable__control sk-hidden--visually\" id=\"sk-estimator-id-109\" type=\"checkbox\" ><label for=\"sk-estimator-id-109\" class=\"sk-toggleable__label sk-toggleable__label-arrow\">remainder</label><div class=\"sk-toggleable__content\"><pre>[]</pre></div></div></div><div class=\"sk-serial\"><div class=\"sk-item\"><div class=\"sk-estimator sk-toggleable\"><input class=\"sk-toggleable__control sk-hidden--visually\" id=\"sk-estimator-id-110\" type=\"checkbox\" ><label for=\"sk-estimator-id-110\" class=\"sk-toggleable__label sk-toggleable__label-arrow\">passthrough</label><div class=\"sk-toggleable__content\"><pre>passthrough</pre></div></div></div></div></div></div></div></div><div class=\"sk-item\"><div class=\"sk-estimator sk-toggleable\"><input class=\"sk-toggleable__control sk-hidden--visually\" id=\"sk-estimator-id-111\" type=\"checkbox\" ><label for=\"sk-estimator-id-111\" class=\"sk-toggleable__label sk-toggleable__label-arrow\">CatBoostRegressor</label><div class=\"sk-toggleable__content\"><pre>&lt;catboost.core.CatBoostRegressor object at 0x000001B89BCF35B0&gt;</pre></div></div></div></div></div></div></div>"
      ],
      "text/plain": [
       "Pipeline(steps=[('preprocessor_cbr',\n",
       "                 ColumnTransformer(remainder='passthrough',\n",
       "                                   transformers=[('cat_ohe',\n",
       "                                                  Pipeline(steps=[('ohe',\n",
       "                                                                   OneHotEncoder(handle_unknown='ignore',\n",
       "                                                                                 sparse=False))]),\n",
       "                                                  ['vehicle_type', 'gearbox',\n",
       "                                                   'model', 'fuel_type',\n",
       "                                                   'brand', 'repaired']),\n",
       "                                                 ('num',\n",
       "                                                  Pipeline(steps=[('scaler',\n",
       "                                                                   StandardScaler())]),\n",
       "                                                  ['registration_year', 'power',\n",
       "                                                   'kilometer'])])),\n",
       "                ('catboostregressor',\n",
       "                 <catboost.core.CatBoostRegressor object at 0x000001B89BCF35B0>)])"
      ]
     },
     "execution_count": 304,
     "metadata": {},
     "output_type": "execute_result"
    }
   ],
   "source": [
    "# Инициируем модель с лучшими параметрами\n",
    "model_cbr_best = CatBoostRegressor(max_depth=11,\n",
    "                                learning_rate=0.3,\n",
    "                                n_estimators=98,\n",
    "                                random_state=42,\n",
    "                                verbose=30)\n",
    "                                \n",
    "pipline_cbr_best = Pipeline([('preprocessor_cbr', preprocessor_cbr),\n",
    "                            ('catboostregressor', model_cbr_best)])\n",
    "pipline_cbr_best.fit(X_train, y_train)"
   ]
  },
  {
   "cell_type": "code",
   "execution_count": 305,
   "metadata": {},
   "outputs": [
    {
     "name": "stdout",
     "output_type": "stream",
     "text": [
      "CPU times: total: 17.2 s\n",
      "Wall time: 16.6 s\n"
     ]
    }
   ],
   "source": [
    "%%time\n",
    "start = time.time()\n",
    "# Замерим время предсказания лучшей модели на тренировочной выборке\n",
    "predict_cbr_best = pipline_cbr_best.predict(X_train)\n",
    "end = time.time()\n",
    "t_cbr_pr = round(end-start,2)"
   ]
  },
  {
   "cell_type": "code",
   "execution_count": 306,
   "metadata": {},
   "outputs": [
    {
     "data": {
      "text/html": [
       "<div>\n",
       "<style scoped>\n",
       "    .dataframe tbody tr th:only-of-type {\n",
       "        vertical-align: middle;\n",
       "    }\n",
       "\n",
       "    .dataframe tbody tr th {\n",
       "        vertical-align: top;\n",
       "    }\n",
       "\n",
       "    .dataframe thead th {\n",
       "        text-align: right;\n",
       "    }\n",
       "</style>\n",
       "<table border=\"1\" class=\"dataframe\">\n",
       "  <thead>\n",
       "    <tr style=\"text-align: right;\">\n",
       "      <th></th>\n",
       "      <th>CatBoostRegressor</th>\n",
       "    </tr>\n",
       "  </thead>\n",
       "  <tbody>\n",
       "    <tr>\n",
       "      <th>RMSE</th>\n",
       "      <td>1453.698</td>\n",
       "    </tr>\n",
       "    <tr>\n",
       "      <th>Fit Time</th>\n",
       "      <td>253.740</td>\n",
       "    </tr>\n",
       "    <tr>\n",
       "      <th>Predict Time</th>\n",
       "      <td>16.630</td>\n",
       "    </tr>\n",
       "  </tbody>\n",
       "</table>\n",
       "</div>"
      ],
      "text/plain": [
       "              CatBoostRegressor\n",
       "RMSE                   1453.698\n",
       "Fit Time                253.740\n",
       "Predict Time             16.630"
      ]
     },
     "execution_count": 306,
     "metadata": {},
     "output_type": "execute_result"
    }
   ],
   "source": [
    "# Занесем результаты в таблицу\n",
    "result_cbr = pd.DataFrame([round(-random_cv_cbr_best_score,3), t_cbr, t_cbr_pr], \n",
    "                         index=['RMSE', 'Fit Time', 'Predict Time'], \n",
    "                         columns=['CatBoostRegressor'])\n",
    "result_cbr        "
   ]
  },
  {
   "cell_type": "markdown",
   "metadata": {},
   "source": [
    "## Анализ моделей"
   ]
  },
  {
   "cell_type": "markdown",
   "metadata": {},
   "source": [
    "Для обучения моделей мы применили следующие библиотеки: RandomForestRegressor, CatboostRegressor и LightGBMRegressor. Для каждой модели мы подбирали оптимальные гиперпараметры с целью получения минимальной оценки метрики RMSE. Также мы измеряли время обучения и время предсказания моделей."
   ]
  },
  {
   "cell_type": "code",
   "execution_count": 307,
   "metadata": {},
   "outputs": [
    {
     "data": {
      "text/html": [
       "<div>\n",
       "<style scoped>\n",
       "    .dataframe tbody tr th:only-of-type {\n",
       "        vertical-align: middle;\n",
       "    }\n",
       "\n",
       "    .dataframe tbody tr th {\n",
       "        vertical-align: top;\n",
       "    }\n",
       "\n",
       "    .dataframe thead th {\n",
       "        text-align: right;\n",
       "    }\n",
       "</style>\n",
       "<table border=\"1\" class=\"dataframe\">\n",
       "  <thead>\n",
       "    <tr style=\"text-align: right;\">\n",
       "      <th></th>\n",
       "      <th>RandomForestRegressor</th>\n",
       "      <th>LGBMRegressor</th>\n",
       "      <th>CatBoostRegressor</th>\n",
       "    </tr>\n",
       "  </thead>\n",
       "  <tbody>\n",
       "    <tr>\n",
       "      <th>RMSE</th>\n",
       "      <td>1555.808</td>\n",
       "      <td>1516.461</td>\n",
       "      <td>1453.698</td>\n",
       "    </tr>\n",
       "    <tr>\n",
       "      <th>Fit Time</th>\n",
       "      <td>201.230</td>\n",
       "      <td>26.140</td>\n",
       "      <td>253.740</td>\n",
       "    </tr>\n",
       "    <tr>\n",
       "      <th>Predict Time</th>\n",
       "      <td>0.980</td>\n",
       "      <td>0.410</td>\n",
       "      <td>16.630</td>\n",
       "    </tr>\n",
       "  </tbody>\n",
       "</table>\n",
       "</div>"
      ],
      "text/plain": [
       "              RandomForestRegressor  LGBMRegressor  CatBoostRegressor\n",
       "RMSE                       1555.808       1516.461           1453.698\n",
       "Fit Time                    201.230         26.140            253.740\n",
       "Predict Time                  0.980          0.410             16.630"
      ]
     },
     "execution_count": 307,
     "metadata": {},
     "output_type": "execute_result"
    }
   ],
   "source": [
    "# Объеденим данные в одну таблицу\n",
    "result = pd.concat([result_rf, result_lgbm, result_cbr], axis=1)\n",
    "result"
   ]
  },
  {
   "cell_type": "markdown",
   "metadata": {},
   "source": [
    "Наилучшей моделью стала CatBoostRegressor с минимальным показалем RMSE 1453.698 на тренировочной выборке, а также минимальным временем обучения и предсказания.   "
   ]
  },
  {
   "cell_type": "markdown",
   "metadata": {},
   "source": [
    "## Тестирование лучшей модели"
   ]
  },
  {
   "cell_type": "markdown",
   "metadata": {},
   "source": [
    "Проверим результаты выбранной модели на тестовой выборке."
   ]
  },
  {
   "cell_type": "code",
   "execution_count": 308,
   "metadata": {},
   "outputs": [
    {
     "data": {
      "text/plain": [
       "['registration_year', 'power', 'kilometer']"
      ]
     },
     "execution_count": 308,
     "metadata": {},
     "output_type": "execute_result"
    }
   ],
   "source": [
    "# Численные признаки\n",
    "num_features_test = X_test.select_dtypes(exclude='object').columns.to_list()\n",
    "num_features_test"
   ]
  },
  {
   "cell_type": "code",
   "execution_count": 309,
   "metadata": {},
   "outputs": [
    {
     "data": {
      "text/plain": [
       "['vehicle_type', 'gearbox', 'model', 'fuel_type', 'brand', 'repaired']"
      ]
     },
     "execution_count": 309,
     "metadata": {},
     "output_type": "execute_result"
    }
   ],
   "source": [
    "# Категориальные признаки \n",
    "cat_features_test = X_test.select_dtypes(include='object').columns.to_list()\n",
    "cat_features_test"
   ]
  },
  {
   "cell_type": "code",
   "execution_count": 310,
   "metadata": {},
   "outputs": [],
   "source": [
    "# Поместим пайплайны в ColumnTransformer\n",
    "preprocessor_cbr_test = ColumnTransformer(transformers=[('cat_ohe', ohe_pipe, cat_features_test),\n",
    "                                               ('num', num_pipe, num_features_test)],\n",
    "                                                remainder='passthrough') \n"
   ]
  },
  {
   "cell_type": "code",
   "execution_count": 311,
   "metadata": {},
   "outputs": [
    {
     "name": "stdout",
     "output_type": "stream",
     "text": [
      "0:\tlearn: 3531.3175204\ttotal: 33ms\tremaining: 3.2s\n",
      "30:\tlearn: 1523.1605313\ttotal: 966ms\tremaining: 2.09s\n",
      "60:\tlearn: 1434.9292356\ttotal: 1.89s\tremaining: 1.15s\n",
      "90:\tlearn: 1368.7827800\ttotal: 2.83s\tremaining: 217ms\n",
      "97:\tlearn: 1357.2781914\ttotal: 3.05s\tremaining: 0us\n"
     ]
    },
    {
     "data": {
      "text/html": [
       "<style>#sk-container-id-12 {color: black;background-color: white;}#sk-container-id-12 pre{padding: 0;}#sk-container-id-12 div.sk-toggleable {background-color: white;}#sk-container-id-12 label.sk-toggleable__label {cursor: pointer;display: block;width: 100%;margin-bottom: 0;padding: 0.3em;box-sizing: border-box;text-align: center;}#sk-container-id-12 label.sk-toggleable__label-arrow:before {content: \"▸\";float: left;margin-right: 0.25em;color: #696969;}#sk-container-id-12 label.sk-toggleable__label-arrow:hover:before {color: black;}#sk-container-id-12 div.sk-estimator:hover label.sk-toggleable__label-arrow:before {color: black;}#sk-container-id-12 div.sk-toggleable__content {max-height: 0;max-width: 0;overflow: hidden;text-align: left;background-color: #f0f8ff;}#sk-container-id-12 div.sk-toggleable__content pre {margin: 0.2em;color: black;border-radius: 0.25em;background-color: #f0f8ff;}#sk-container-id-12 input.sk-toggleable__control:checked~div.sk-toggleable__content {max-height: 200px;max-width: 100%;overflow: auto;}#sk-container-id-12 input.sk-toggleable__control:checked~label.sk-toggleable__label-arrow:before {content: \"▾\";}#sk-container-id-12 div.sk-estimator input.sk-toggleable__control:checked~label.sk-toggleable__label {background-color: #d4ebff;}#sk-container-id-12 div.sk-label input.sk-toggleable__control:checked~label.sk-toggleable__label {background-color: #d4ebff;}#sk-container-id-12 input.sk-hidden--visually {border: 0;clip: rect(1px 1px 1px 1px);clip: rect(1px, 1px, 1px, 1px);height: 1px;margin: -1px;overflow: hidden;padding: 0;position: absolute;width: 1px;}#sk-container-id-12 div.sk-estimator {font-family: monospace;background-color: #f0f8ff;border: 1px dotted black;border-radius: 0.25em;box-sizing: border-box;margin-bottom: 0.5em;}#sk-container-id-12 div.sk-estimator:hover {background-color: #d4ebff;}#sk-container-id-12 div.sk-parallel-item::after {content: \"\";width: 100%;border-bottom: 1px solid gray;flex-grow: 1;}#sk-container-id-12 div.sk-label:hover label.sk-toggleable__label {background-color: #d4ebff;}#sk-container-id-12 div.sk-serial::before {content: \"\";position: absolute;border-left: 1px solid gray;box-sizing: border-box;top: 0;bottom: 0;left: 50%;z-index: 0;}#sk-container-id-12 div.sk-serial {display: flex;flex-direction: column;align-items: center;background-color: white;padding-right: 0.2em;padding-left: 0.2em;position: relative;}#sk-container-id-12 div.sk-item {position: relative;z-index: 1;}#sk-container-id-12 div.sk-parallel {display: flex;align-items: stretch;justify-content: center;background-color: white;position: relative;}#sk-container-id-12 div.sk-item::before, #sk-container-id-12 div.sk-parallel-item::before {content: \"\";position: absolute;border-left: 1px solid gray;box-sizing: border-box;top: 0;bottom: 0;left: 50%;z-index: -1;}#sk-container-id-12 div.sk-parallel-item {display: flex;flex-direction: column;z-index: 1;position: relative;background-color: white;}#sk-container-id-12 div.sk-parallel-item:first-child::after {align-self: flex-end;width: 50%;}#sk-container-id-12 div.sk-parallel-item:last-child::after {align-self: flex-start;width: 50%;}#sk-container-id-12 div.sk-parallel-item:only-child::after {width: 0;}#sk-container-id-12 div.sk-dashed-wrapped {border: 1px dashed gray;margin: 0 0.4em 0.5em 0.4em;box-sizing: border-box;padding-bottom: 0.4em;background-color: white;}#sk-container-id-12 div.sk-label label {font-family: monospace;font-weight: bold;display: inline-block;line-height: 1.2em;}#sk-container-id-12 div.sk-label-container {text-align: center;}#sk-container-id-12 div.sk-container {/* jupyter's `normalize.less` sets `[hidden] { display: none; }` but bootstrap.min.css set `[hidden] { display: none !important; }` so we also need the `!important` here to be able to override the default hidden behavior on the sphinx rendered scikit-learn.org. See: https://github.com/scikit-learn/scikit-learn/issues/21755 */display: inline-block !important;position: relative;}#sk-container-id-12 div.sk-text-repr-fallback {display: none;}</style><div id=\"sk-container-id-12\" class=\"sk-top-container\"><div class=\"sk-text-repr-fallback\"><pre>Pipeline(steps=[(&#x27;preprocessor_cbr_test&#x27;,\n",
       "                 ColumnTransformer(remainder=&#x27;passthrough&#x27;,\n",
       "                                   transformers=[(&#x27;cat_ohe&#x27;,\n",
       "                                                  Pipeline(steps=[(&#x27;ohe&#x27;,\n",
       "                                                                   OneHotEncoder(handle_unknown=&#x27;ignore&#x27;,\n",
       "                                                                                 sparse=False))]),\n",
       "                                                  [&#x27;vehicle_type&#x27;, &#x27;gearbox&#x27;,\n",
       "                                                   &#x27;model&#x27;, &#x27;fuel_type&#x27;,\n",
       "                                                   &#x27;brand&#x27;, &#x27;repaired&#x27;]),\n",
       "                                                 (&#x27;num&#x27;,\n",
       "                                                  Pipeline(steps=[(&#x27;scaler&#x27;,\n",
       "                                                                   StandardScaler())]),\n",
       "                                                  [&#x27;registration_year&#x27;, &#x27;power&#x27;,\n",
       "                                                   &#x27;kilometer&#x27;])])),\n",
       "                (&#x27;catboostregressor&#x27;,\n",
       "                 &lt;catboost.core.CatBoostRegressor object at 0x000001B89BCEB6D0&gt;)])</pre><b>In a Jupyter environment, please rerun this cell to show the HTML representation or trust the notebook. <br />On GitHub, the HTML representation is unable to render, please try loading this page with nbviewer.org.</b></div><div class=\"sk-container\" hidden><div class=\"sk-item sk-dashed-wrapped\"><div class=\"sk-label-container\"><div class=\"sk-label sk-toggleable\"><input class=\"sk-toggleable__control sk-hidden--visually\" id=\"sk-estimator-id-112\" type=\"checkbox\" ><label for=\"sk-estimator-id-112\" class=\"sk-toggleable__label sk-toggleable__label-arrow\">Pipeline</label><div class=\"sk-toggleable__content\"><pre>Pipeline(steps=[(&#x27;preprocessor_cbr_test&#x27;,\n",
       "                 ColumnTransformer(remainder=&#x27;passthrough&#x27;,\n",
       "                                   transformers=[(&#x27;cat_ohe&#x27;,\n",
       "                                                  Pipeline(steps=[(&#x27;ohe&#x27;,\n",
       "                                                                   OneHotEncoder(handle_unknown=&#x27;ignore&#x27;,\n",
       "                                                                                 sparse=False))]),\n",
       "                                                  [&#x27;vehicle_type&#x27;, &#x27;gearbox&#x27;,\n",
       "                                                   &#x27;model&#x27;, &#x27;fuel_type&#x27;,\n",
       "                                                   &#x27;brand&#x27;, &#x27;repaired&#x27;]),\n",
       "                                                 (&#x27;num&#x27;,\n",
       "                                                  Pipeline(steps=[(&#x27;scaler&#x27;,\n",
       "                                                                   StandardScaler())]),\n",
       "                                                  [&#x27;registration_year&#x27;, &#x27;power&#x27;,\n",
       "                                                   &#x27;kilometer&#x27;])])),\n",
       "                (&#x27;catboostregressor&#x27;,\n",
       "                 &lt;catboost.core.CatBoostRegressor object at 0x000001B89BCEB6D0&gt;)])</pre></div></div></div><div class=\"sk-serial\"><div class=\"sk-item sk-dashed-wrapped\"><div class=\"sk-label-container\"><div class=\"sk-label sk-toggleable\"><input class=\"sk-toggleable__control sk-hidden--visually\" id=\"sk-estimator-id-113\" type=\"checkbox\" ><label for=\"sk-estimator-id-113\" class=\"sk-toggleable__label sk-toggleable__label-arrow\">preprocessor_cbr_test: ColumnTransformer</label><div class=\"sk-toggleable__content\"><pre>ColumnTransformer(remainder=&#x27;passthrough&#x27;,\n",
       "                  transformers=[(&#x27;cat_ohe&#x27;,\n",
       "                                 Pipeline(steps=[(&#x27;ohe&#x27;,\n",
       "                                                  OneHotEncoder(handle_unknown=&#x27;ignore&#x27;,\n",
       "                                                                sparse=False))]),\n",
       "                                 [&#x27;vehicle_type&#x27;, &#x27;gearbox&#x27;, &#x27;model&#x27;,\n",
       "                                  &#x27;fuel_type&#x27;, &#x27;brand&#x27;, &#x27;repaired&#x27;]),\n",
       "                                (&#x27;num&#x27;,\n",
       "                                 Pipeline(steps=[(&#x27;scaler&#x27;, StandardScaler())]),\n",
       "                                 [&#x27;registration_year&#x27;, &#x27;power&#x27;, &#x27;kilometer&#x27;])])</pre></div></div></div><div class=\"sk-parallel\"><div class=\"sk-parallel-item\"><div class=\"sk-item\"><div class=\"sk-label-container\"><div class=\"sk-label sk-toggleable\"><input class=\"sk-toggleable__control sk-hidden--visually\" id=\"sk-estimator-id-114\" type=\"checkbox\" ><label for=\"sk-estimator-id-114\" class=\"sk-toggleable__label sk-toggleable__label-arrow\">cat_ohe</label><div class=\"sk-toggleable__content\"><pre>[&#x27;vehicle_type&#x27;, &#x27;gearbox&#x27;, &#x27;model&#x27;, &#x27;fuel_type&#x27;, &#x27;brand&#x27;, &#x27;repaired&#x27;]</pre></div></div></div><div class=\"sk-serial\"><div class=\"sk-item\"><div class=\"sk-serial\"><div class=\"sk-item\"><div class=\"sk-estimator sk-toggleable\"><input class=\"sk-toggleable__control sk-hidden--visually\" id=\"sk-estimator-id-115\" type=\"checkbox\" ><label for=\"sk-estimator-id-115\" class=\"sk-toggleable__label sk-toggleable__label-arrow\">OneHotEncoder</label><div class=\"sk-toggleable__content\"><pre>OneHotEncoder(handle_unknown=&#x27;ignore&#x27;, sparse=False)</pre></div></div></div></div></div></div></div></div><div class=\"sk-parallel-item\"><div class=\"sk-item\"><div class=\"sk-label-container\"><div class=\"sk-label sk-toggleable\"><input class=\"sk-toggleable__control sk-hidden--visually\" id=\"sk-estimator-id-116\" type=\"checkbox\" ><label for=\"sk-estimator-id-116\" class=\"sk-toggleable__label sk-toggleable__label-arrow\">num</label><div class=\"sk-toggleable__content\"><pre>[&#x27;registration_year&#x27;, &#x27;power&#x27;, &#x27;kilometer&#x27;]</pre></div></div></div><div class=\"sk-serial\"><div class=\"sk-item\"><div class=\"sk-serial\"><div class=\"sk-item\"><div class=\"sk-estimator sk-toggleable\"><input class=\"sk-toggleable__control sk-hidden--visually\" id=\"sk-estimator-id-117\" type=\"checkbox\" ><label for=\"sk-estimator-id-117\" class=\"sk-toggleable__label sk-toggleable__label-arrow\">StandardScaler</label><div class=\"sk-toggleable__content\"><pre>StandardScaler()</pre></div></div></div></div></div></div></div></div><div class=\"sk-parallel-item\"><div class=\"sk-item\"><div class=\"sk-label-container\"><div class=\"sk-label sk-toggleable\"><input class=\"sk-toggleable__control sk-hidden--visually\" id=\"sk-estimator-id-118\" type=\"checkbox\" ><label for=\"sk-estimator-id-118\" class=\"sk-toggleable__label sk-toggleable__label-arrow\">remainder</label><div class=\"sk-toggleable__content\"><pre>[]</pre></div></div></div><div class=\"sk-serial\"><div class=\"sk-item\"><div class=\"sk-estimator sk-toggleable\"><input class=\"sk-toggleable__control sk-hidden--visually\" id=\"sk-estimator-id-119\" type=\"checkbox\" ><label for=\"sk-estimator-id-119\" class=\"sk-toggleable__label sk-toggleable__label-arrow\">passthrough</label><div class=\"sk-toggleable__content\"><pre>passthrough</pre></div></div></div></div></div></div></div></div><div class=\"sk-item\"><div class=\"sk-estimator sk-toggleable\"><input class=\"sk-toggleable__control sk-hidden--visually\" id=\"sk-estimator-id-120\" type=\"checkbox\" ><label for=\"sk-estimator-id-120\" class=\"sk-toggleable__label sk-toggleable__label-arrow\">CatBoostRegressor</label><div class=\"sk-toggleable__content\"><pre>&lt;catboost.core.CatBoostRegressor object at 0x000001B89BCEB6D0&gt;</pre></div></div></div></div></div></div></div>"
      ],
      "text/plain": [
       "Pipeline(steps=[('preprocessor_cbr_test',\n",
       "                 ColumnTransformer(remainder='passthrough',\n",
       "                                   transformers=[('cat_ohe',\n",
       "                                                  Pipeline(steps=[('ohe',\n",
       "                                                                   OneHotEncoder(handle_unknown='ignore',\n",
       "                                                                                 sparse=False))]),\n",
       "                                                  ['vehicle_type', 'gearbox',\n",
       "                                                   'model', 'fuel_type',\n",
       "                                                   'brand', 'repaired']),\n",
       "                                                 ('num',\n",
       "                                                  Pipeline(steps=[('scaler',\n",
       "                                                                   StandardScaler())]),\n",
       "                                                  ['registration_year', 'power',\n",
       "                                                   'kilometer'])])),\n",
       "                ('catboostregressor',\n",
       "                 <catboost.core.CatBoostRegressor object at 0x000001B89BCEB6D0>)])"
      ]
     },
     "execution_count": 311,
     "metadata": {},
     "output_type": "execute_result"
    }
   ],
   "source": [
    "# Инициируем модель с лучшими параметрами\n",
    "model_cbr_best = CatBoostRegressor(max_depth=11,\n",
    "                                learning_rate=0.3,\n",
    "                                n_estimators=98,\n",
    "                                random_state=42,\n",
    "                                verbose=30)\n",
    "                                \n",
    "pipline_cbr_best = Pipeline([('preprocessor_cbr_test', preprocessor_cbr_test),\n",
    "                            ('catboostregressor', model_cbr_best)])\n",
    "pipline_cbr_best.fit(X_test, y_test)"
   ]
  },
  {
   "cell_type": "code",
   "execution_count": 312,
   "metadata": {},
   "outputs": [
    {
     "name": "stdout",
     "output_type": "stream",
     "text": [
      "CPU times: total: 5.38 s\n",
      "Wall time: 5.3 s\n"
     ]
    }
   ],
   "source": [
    "%%time\n",
    "# Замерим время предсказания лучшей модели на тестовой выборке\n",
    "predict_cbr_best = pipline_cbr_best.predict(X_test)"
   ]
  },
  {
   "cell_type": "code",
   "execution_count": 313,
   "metadata": {},
   "outputs": [
    {
     "name": "stdout",
     "output_type": "stream",
     "text": [
      "Метрика RMSE на тестовой выборке для модели CatBoostRegressor составила 1357.278\n"
     ]
    }
   ],
   "source": [
    "from sklearn.metrics import mean_squared_error\n",
    "rmse = mean_squared_error(y_test, predict_cbr_best, squared=False)\n",
    "print('Метрика RMSE на тестовой выборке для модели CatBoostRegressor составила', round((rmse),3))"
   ]
  },
  {
   "cell_type": "markdown",
   "metadata": {},
   "source": [
    "## Общий вывод"
   ]
  },
  {
   "cell_type": "markdown",
   "metadata": {},
   "source": [
    "Было проведено исследование, чтобы построить модель для определения стоимости автомобиля. Для оценки качества моделей применяли метрику RMSE. Значение метрики RMSE должно быть меньше 2500. В нашем распоряжении исторические данные: технические характеристики, комплектации и цены автомобилей. В таблице было 16 столбцов и 354369 строк.  \n",
    "В ходе предобработки данных в таблице осталось 10 столбцов и 279946 строк. Мы переименовали столбцы в соответствии с рекомендациями PEP 8. Также заменили пропуски в столбцах 'vehicle_type', 'model', 'gearbox', 'fuel_type', 'repaired' на значения-заглушки 'unknown', т.к. самостоятельно заполнить пропущенные данные мы не можем. В столбцах 'price', 'registration_year', 'power' мы проверили редкие и выбивающиеся значения и поддкорректировали данные. Столбцы 'DateCrawled', 'RegistrationMonth', 'DateCreated', 'NumberOfPictures', 'PostalCode', 'LastSeen' - являются неинформативными для последующего обучения моделей, поэтому мы их удалили.  \n",
    "Для обучения моделей применили следующие библиотеки: RandomForestRegressor, CatboostRegressor и LightGBMRegressor.\n",
    "Для RandomForestRegressor и LightGBMRegressor использовали порядковое кодирование признака 'model', имеющего большое количество уникальных значений, и OHE кодирование остальных категориальных признаков.  \n",
    "Для CatBoostRegressor указали категориальные признаки.  \n",
    "Для каждой модели мы подбирали оптимальные гиперпараметры с целью получения минимальной оценки метрики RMSE. Также мы измеряли время обучения и время предсказания моделей.  \n",
    "По итогам анализа результатов было принято решение рекомендовать заказчику модель CatBoostRegressor с минимальным показалем RMSE на тестовой выборке - 1357.278, а также минимальным временем обучения и предсказания. "
   ]
  }
 ],
 "metadata": {
  "ExecuteTimeLog": [
   {
    "duration": 1589,
    "start_time": "2023-05-25T10:16:33.388Z"
   },
   {
    "duration": 1069,
    "start_time": "2023-05-25T10:16:34.978Z"
   },
   {
    "duration": 1682,
    "start_time": "2023-05-25T10:16:36.049Z"
   },
   {
    "duration": 138,
    "start_time": "2023-05-25T10:57:35.200Z"
   },
   {
    "duration": 9,
    "start_time": "2023-05-25T10:57:42.404Z"
   },
   {
    "duration": 10,
    "start_time": "2023-05-25T10:57:55.304Z"
   },
   {
    "duration": 11,
    "start_time": "2023-05-25T10:58:00.700Z"
   },
   {
    "duration": 8,
    "start_time": "2023-05-25T10:58:26.657Z"
   },
   {
    "duration": 1548,
    "start_time": "2023-05-25T11:13:58.960Z"
   },
   {
    "duration": 3,
    "start_time": "2023-05-25T11:18:03.914Z"
   },
   {
    "duration": 11,
    "start_time": "2023-05-25T11:24:00.012Z"
   },
   {
    "duration": 38,
    "start_time": "2023-05-25T11:24:12.797Z"
   },
   {
    "duration": 13,
    "start_time": "2023-05-25T11:33:03.908Z"
   },
   {
    "duration": 4,
    "start_time": "2023-05-25T11:33:04.787Z"
   },
   {
    "duration": 4,
    "start_time": "2023-05-25T11:33:05.180Z"
   },
   {
    "duration": 88,
    "start_time": "2023-05-25T11:33:33.030Z"
   },
   {
    "duration": 82,
    "start_time": "2023-05-25T11:36:39.017Z"
   },
   {
    "duration": 86,
    "start_time": "2023-05-25T11:37:12.119Z"
   },
   {
    "duration": 209,
    "start_time": "2023-05-25T11:38:23.680Z"
   },
   {
    "duration": 14,
    "start_time": "2023-05-25T11:38:49.153Z"
   },
   {
    "duration": 3,
    "start_time": "2023-05-25T11:38:49.673Z"
   },
   {
    "duration": 4,
    "start_time": "2023-05-25T11:38:49.838Z"
   },
   {
    "duration": 89,
    "start_time": "2023-05-25T11:38:50.189Z"
   },
   {
    "duration": 198,
    "start_time": "2023-05-25T11:38:50.353Z"
   },
   {
    "duration": 15,
    "start_time": "2023-05-25T11:39:18.151Z"
   },
   {
    "duration": 3,
    "start_time": "2023-05-25T11:39:18.453Z"
   },
   {
    "duration": 4,
    "start_time": "2023-05-25T11:39:18.604Z"
   },
   {
    "duration": 82,
    "start_time": "2023-05-25T11:39:18.905Z"
   },
   {
    "duration": 200,
    "start_time": "2023-05-25T11:39:19.089Z"
   },
   {
    "duration": 26,
    "start_time": "2023-05-25T11:40:38.788Z"
   },
   {
    "duration": 26,
    "start_time": "2023-05-25T11:41:34.957Z"
   },
   {
    "duration": 6,
    "start_time": "2023-05-25T11:43:30.130Z"
   },
   {
    "duration": 17,
    "start_time": "2023-05-25T11:43:51.488Z"
   },
   {
    "duration": 18,
    "start_time": "2023-05-25T11:53:02.910Z"
   },
   {
    "duration": 43,
    "start_time": "2023-05-25T11:53:03.116Z"
   },
   {
    "duration": 18,
    "start_time": "2023-05-25T11:53:16.117Z"
   },
   {
    "duration": 13,
    "start_time": "2023-05-25T12:04:47.970Z"
   },
   {
    "duration": 11,
    "start_time": "2023-05-25T12:05:05.568Z"
   },
   {
    "duration": 14,
    "start_time": "2023-05-25T12:07:39.843Z"
   },
   {
    "duration": 93,
    "start_time": "2023-05-25T12:07:40.216Z"
   },
   {
    "duration": 3,
    "start_time": "2023-05-25T12:07:40.397Z"
   },
   {
    "duration": 17,
    "start_time": "2023-05-25T12:07:41.584Z"
   },
   {
    "duration": 48,
    "start_time": "2023-05-25T12:07:41.759Z"
   },
   {
    "duration": 18,
    "start_time": "2023-05-25T12:07:41.927Z"
   },
   {
    "duration": 10,
    "start_time": "2023-05-25T12:07:42.110Z"
   },
   {
    "duration": 4,
    "start_time": "2023-05-25T12:07:46.687Z"
   },
   {
    "duration": 852,
    "start_time": "2023-05-25T12:07:46.693Z"
   },
   {
    "duration": 1641,
    "start_time": "2023-05-25T12:07:47.547Z"
   },
   {
    "duration": 47,
    "start_time": "2023-05-25T12:07:49.189Z"
   },
   {
    "duration": 77,
    "start_time": "2023-05-25T12:07:49.238Z"
   },
   {
    "duration": 1,
    "start_time": "2023-05-25T12:07:49.316Z"
   },
   {
    "duration": 0,
    "start_time": "2023-05-25T12:07:49.318Z"
   },
   {
    "duration": 0,
    "start_time": "2023-05-25T12:07:49.319Z"
   },
   {
    "duration": 0,
    "start_time": "2023-05-25T12:07:49.321Z"
   },
   {
    "duration": 0,
    "start_time": "2023-05-25T12:07:49.322Z"
   },
   {
    "duration": 6,
    "start_time": "2023-05-25T12:08:25.170Z"
   },
   {
    "duration": 347,
    "start_time": "2023-05-25T12:14:15.171Z"
   },
   {
    "duration": 324,
    "start_time": "2023-05-25T12:15:05.403Z"
   },
   {
    "duration": 15,
    "start_time": "2023-05-25T12:15:18.144Z"
   },
   {
    "duration": 7,
    "start_time": "2023-05-25T12:15:18.990Z"
   },
   {
    "duration": 0,
    "start_time": "2023-05-25T12:17:03.181Z"
   },
   {
    "duration": 2455,
    "start_time": "2023-05-25T12:17:08.418Z"
   },
   {
    "duration": 0,
    "start_time": "2023-05-25T12:17:10.874Z"
   },
   {
    "duration": 6,
    "start_time": "2023-05-25T12:18:52.170Z"
   },
   {
    "duration": 3,
    "start_time": "2023-05-25T12:19:45.092Z"
   },
   {
    "duration": 735,
    "start_time": "2023-05-25T12:19:45.097Z"
   },
   {
    "duration": 1636,
    "start_time": "2023-05-25T12:19:45.834Z"
   },
   {
    "duration": 791,
    "start_time": "2023-05-25T12:19:47.471Z"
   },
   {
    "duration": 34,
    "start_time": "2023-05-25T12:19:48.265Z"
   },
   {
    "duration": 6,
    "start_time": "2023-05-25T12:19:48.300Z"
   },
   {
    "duration": 89,
    "start_time": "2023-05-25T12:19:48.307Z"
   },
   {
    "duration": 9,
    "start_time": "2023-05-25T12:20:46.810Z"
   },
   {
    "duration": 11,
    "start_time": "2023-05-25T12:21:00.970Z"
   },
   {
    "duration": 527,
    "start_time": "2023-05-25T12:23:24.703Z"
   },
   {
    "duration": 391,
    "start_time": "2023-05-25T12:23:37.240Z"
   },
   {
    "duration": 9,
    "start_time": "2023-05-25T12:28:36.904Z"
   },
   {
    "duration": 10,
    "start_time": "2023-05-25T12:28:46.074Z"
   },
   {
    "duration": 14,
    "start_time": "2023-05-25T12:29:56.370Z"
   },
   {
    "duration": 10,
    "start_time": "2023-05-25T12:33:59.578Z"
   },
   {
    "duration": 11,
    "start_time": "2023-05-25T12:36:20.966Z"
   },
   {
    "duration": 7,
    "start_time": "2023-05-25T12:38:23.053Z"
   },
   {
    "duration": 6,
    "start_time": "2023-05-25T12:38:48.794Z"
   },
   {
    "duration": 9,
    "start_time": "2023-05-25T12:38:57.121Z"
   },
   {
    "duration": 57,
    "start_time": "2023-05-25T12:42:39.885Z"
   },
   {
    "duration": 7,
    "start_time": "2023-05-25T12:43:51.365Z"
   },
   {
    "duration": 63,
    "start_time": "2023-05-25T12:43:55.737Z"
   },
   {
    "duration": 12,
    "start_time": "2023-05-25T12:44:27.771Z"
   },
   {
    "duration": 7,
    "start_time": "2023-05-25T12:44:45.419Z"
   },
   {
    "duration": 12,
    "start_time": "2023-05-25T12:44:45.800Z"
   },
   {
    "duration": 21,
    "start_time": "2023-05-25T12:46:26.042Z"
   },
   {
    "duration": 7,
    "start_time": "2023-05-25T12:46:28.472Z"
   },
   {
    "duration": 8,
    "start_time": "2023-05-25T12:46:41.090Z"
   },
   {
    "duration": 9,
    "start_time": "2023-05-25T12:47:40.387Z"
   },
   {
    "duration": 5,
    "start_time": "2023-05-25T12:47:50.741Z"
   },
   {
    "duration": 5,
    "start_time": "2023-05-25T12:47:55.609Z"
   },
   {
    "duration": 6,
    "start_time": "2023-05-25T12:47:55.997Z"
   },
   {
    "duration": 4,
    "start_time": "2023-05-25T12:48:17.914Z"
   },
   {
    "duration": 724,
    "start_time": "2023-05-25T12:48:17.920Z"
   },
   {
    "duration": 1592,
    "start_time": "2023-05-25T12:48:18.645Z"
   },
   {
    "duration": 852,
    "start_time": "2023-05-25T12:48:20.239Z"
   },
   {
    "duration": 66,
    "start_time": "2023-05-25T12:48:21.093Z"
   },
   {
    "duration": 6,
    "start_time": "2023-05-25T12:48:21.162Z"
   },
   {
    "duration": 48,
    "start_time": "2023-05-25T12:48:21.169Z"
   },
   {
    "duration": 29,
    "start_time": "2023-05-25T12:48:21.219Z"
   },
   {
    "duration": 29,
    "start_time": "2023-05-25T12:48:21.250Z"
   },
   {
    "duration": 56,
    "start_time": "2023-05-25T12:48:21.281Z"
   },
   {
    "duration": 9,
    "start_time": "2023-05-25T12:48:21.338Z"
   },
   {
    "duration": 8,
    "start_time": "2023-05-25T12:55:04.414Z"
   },
   {
    "duration": 9,
    "start_time": "2023-05-25T12:57:39.707Z"
   },
   {
    "duration": 145,
    "start_time": "2023-05-25T12:58:40.357Z"
   },
   {
    "duration": 146,
    "start_time": "2023-05-25T12:58:49.337Z"
   },
   {
    "duration": 11,
    "start_time": "2023-05-25T13:00:31.537Z"
   },
   {
    "duration": 4,
    "start_time": "2023-05-25T13:00:34.870Z"
   },
   {
    "duration": 928,
    "start_time": "2023-05-25T13:00:34.876Z"
   },
   {
    "duration": 1635,
    "start_time": "2023-05-25T13:00:35.807Z"
   },
   {
    "duration": 892,
    "start_time": "2023-05-25T13:00:37.444Z"
   },
   {
    "duration": 37,
    "start_time": "2023-05-25T13:00:38.338Z"
   },
   {
    "duration": 57,
    "start_time": "2023-05-25T13:00:38.377Z"
   },
   {
    "duration": 48,
    "start_time": "2023-05-25T13:00:38.435Z"
   },
   {
    "duration": 190,
    "start_time": "2023-05-25T13:00:38.485Z"
   },
   {
    "duration": 11,
    "start_time": "2023-05-25T13:00:38.676Z"
   },
   {
    "duration": 25,
    "start_time": "2023-05-25T13:00:38.689Z"
   },
   {
    "duration": 72,
    "start_time": "2023-05-25T13:00:38.716Z"
   },
   {
    "duration": 6,
    "start_time": "2023-05-25T13:00:38.790Z"
   },
   {
    "duration": 39,
    "start_time": "2023-05-25T13:04:57.795Z"
   },
   {
    "duration": 25,
    "start_time": "2023-05-25T13:05:06.473Z"
   },
   {
    "duration": 173,
    "start_time": "2023-05-25T13:05:22.321Z"
   },
   {
    "duration": 9,
    "start_time": "2023-05-25T13:05:52.345Z"
   },
   {
    "duration": 7,
    "start_time": "2023-05-25T13:05:55.672Z"
   },
   {
    "duration": 11,
    "start_time": "2023-05-25T13:05:58.205Z"
   },
   {
    "duration": 14,
    "start_time": "2023-05-25T13:05:58.626Z"
   },
   {
    "duration": 6,
    "start_time": "2023-05-25T13:06:03.141Z"
   },
   {
    "duration": 963,
    "start_time": "2023-05-25T13:06:03.150Z"
   },
   {
    "duration": 1896,
    "start_time": "2023-05-25T13:06:04.115Z"
   },
   {
    "duration": 1036,
    "start_time": "2023-05-25T13:06:06.014Z"
   },
   {
    "duration": 38,
    "start_time": "2023-05-25T13:06:07.052Z"
   },
   {
    "duration": 5,
    "start_time": "2023-05-25T13:06:07.092Z"
   },
   {
    "duration": 30,
    "start_time": "2023-05-25T13:06:07.099Z"
   },
   {
    "duration": 197,
    "start_time": "2023-05-25T13:06:07.132Z"
   },
   {
    "duration": 17,
    "start_time": "2023-05-25T13:06:07.332Z"
   },
   {
    "duration": 7,
    "start_time": "2023-05-25T13:06:07.351Z"
   },
   {
    "duration": 38,
    "start_time": "2023-05-25T13:06:07.360Z"
   },
   {
    "duration": 25,
    "start_time": "2023-05-25T13:06:07.400Z"
   },
   {
    "duration": 515,
    "start_time": "2023-05-25T13:06:38.180Z"
   },
   {
    "duration": 442,
    "start_time": "2023-05-25T13:06:47.918Z"
   },
   {
    "duration": 6,
    "start_time": "2023-05-25T13:06:54.901Z"
   },
   {
    "duration": 871,
    "start_time": "2023-05-25T13:06:54.910Z"
   },
   {
    "duration": 1684,
    "start_time": "2023-05-25T13:06:55.782Z"
   },
   {
    "duration": 958,
    "start_time": "2023-05-25T13:06:57.468Z"
   },
   {
    "duration": 42,
    "start_time": "2023-05-25T13:06:58.429Z"
   },
   {
    "duration": 6,
    "start_time": "2023-05-25T13:06:58.473Z"
   },
   {
    "duration": 28,
    "start_time": "2023-05-25T13:06:58.481Z"
   },
   {
    "duration": 474,
    "start_time": "2023-05-25T13:06:58.510Z"
   },
   {
    "duration": 11,
    "start_time": "2023-05-25T13:06:58.986Z"
   },
   {
    "duration": 22,
    "start_time": "2023-05-25T13:06:59.000Z"
   },
   {
    "duration": 72,
    "start_time": "2023-05-25T13:06:59.025Z"
   },
   {
    "duration": 4,
    "start_time": "2023-05-25T13:06:59.099Z"
   },
   {
    "duration": 380,
    "start_time": "2023-05-25T13:08:36.285Z"
   },
   {
    "duration": 4,
    "start_time": "2023-05-25T13:08:40.656Z"
   },
   {
    "duration": 830,
    "start_time": "2023-05-25T13:08:40.663Z"
   },
   {
    "duration": 1849,
    "start_time": "2023-05-25T13:08:41.495Z"
   },
   {
    "duration": 986,
    "start_time": "2023-05-25T13:08:43.348Z"
   },
   {
    "duration": 39,
    "start_time": "2023-05-25T13:08:44.336Z"
   },
   {
    "duration": 13,
    "start_time": "2023-05-25T13:08:44.376Z"
   },
   {
    "duration": 12,
    "start_time": "2023-05-25T13:08:44.390Z"
   },
   {
    "duration": 413,
    "start_time": "2023-05-25T13:08:44.404Z"
   },
   {
    "duration": 11,
    "start_time": "2023-05-25T13:08:44.825Z"
   },
   {
    "duration": 29,
    "start_time": "2023-05-25T13:08:44.838Z"
   },
   {
    "duration": 56,
    "start_time": "2023-05-25T13:08:44.869Z"
   },
   {
    "duration": 6,
    "start_time": "2023-05-25T13:08:44.931Z"
   },
   {
    "duration": 7,
    "start_time": "2023-05-25T13:09:19.086Z"
   },
   {
    "duration": 51,
    "start_time": "2023-05-25T13:09:23.582Z"
   },
   {
    "duration": 3,
    "start_time": "2023-05-25T13:09:26.799Z"
   },
   {
    "duration": 914,
    "start_time": "2023-05-25T13:09:26.804Z"
   },
   {
    "duration": 1849,
    "start_time": "2023-05-25T13:09:27.720Z"
   },
   {
    "duration": 917,
    "start_time": "2023-05-25T13:09:29.571Z"
   },
   {
    "duration": 47,
    "start_time": "2023-05-25T13:09:30.490Z"
   },
   {
    "duration": 15,
    "start_time": "2023-05-25T13:09:30.539Z"
   },
   {
    "duration": 94,
    "start_time": "2023-05-25T13:09:30.555Z"
   },
   {
    "duration": 478,
    "start_time": "2023-05-25T13:09:30.650Z"
   },
   {
    "duration": 12,
    "start_time": "2023-05-25T13:09:31.130Z"
   },
   {
    "duration": 56,
    "start_time": "2023-05-25T13:09:31.144Z"
   },
   {
    "duration": 84,
    "start_time": "2023-05-25T13:09:31.202Z"
   },
   {
    "duration": 4,
    "start_time": "2023-05-25T13:09:31.289Z"
   },
   {
    "duration": 383,
    "start_time": "2023-05-25T13:16:25.184Z"
   },
   {
    "duration": 7,
    "start_time": "2023-05-25T13:16:27.645Z"
   },
   {
    "duration": 6,
    "start_time": "2023-05-25T13:16:33.514Z"
   },
   {
    "duration": 822,
    "start_time": "2023-05-25T13:16:33.523Z"
   },
   {
    "duration": 1608,
    "start_time": "2023-05-25T13:16:34.347Z"
   },
   {
    "duration": 870,
    "start_time": "2023-05-25T13:16:35.956Z"
   },
   {
    "duration": 35,
    "start_time": "2023-05-25T13:16:36.829Z"
   },
   {
    "duration": 7,
    "start_time": "2023-05-25T13:16:36.866Z"
   },
   {
    "duration": 44,
    "start_time": "2023-05-25T13:16:36.875Z"
   },
   {
    "duration": 519,
    "start_time": "2023-05-25T13:16:36.921Z"
   },
   {
    "duration": 10,
    "start_time": "2023-05-25T13:16:37.442Z"
   },
   {
    "duration": 36,
    "start_time": "2023-05-25T13:16:37.454Z"
   },
   {
    "duration": 18,
    "start_time": "2023-05-25T13:16:37.492Z"
   },
   {
    "duration": 61,
    "start_time": "2023-05-25T13:16:37.513Z"
   },
   {
    "duration": 4,
    "start_time": "2023-05-25T13:16:37.576Z"
   },
   {
    "duration": 381,
    "start_time": "2023-05-25T13:18:35.789Z"
   },
   {
    "duration": 164,
    "start_time": "2023-05-25T13:18:51.881Z"
   },
   {
    "duration": 12,
    "start_time": "2023-05-25T13:19:50.319Z"
   },
   {
    "duration": 1540,
    "start_time": "2023-05-25T13:24:18.575Z"
   },
   {
    "duration": 852,
    "start_time": "2023-05-25T13:24:20.117Z"
   },
   {
    "duration": 1743,
    "start_time": "2023-05-25T13:24:20.971Z"
   },
   {
    "duration": 991,
    "start_time": "2023-05-25T13:24:22.716Z"
   },
   {
    "duration": 49,
    "start_time": "2023-05-25T13:24:23.709Z"
   },
   {
    "duration": 7,
    "start_time": "2023-05-25T13:24:23.760Z"
   },
   {
    "duration": 31,
    "start_time": "2023-05-25T13:24:23.768Z"
   },
   {
    "duration": 468,
    "start_time": "2023-05-25T13:24:23.800Z"
   },
   {
    "duration": 7,
    "start_time": "2023-05-25T13:24:24.269Z"
   },
   {
    "duration": 43,
    "start_time": "2023-05-25T13:24:24.278Z"
   },
   {
    "duration": 44,
    "start_time": "2023-05-25T13:24:24.322Z"
   },
   {
    "duration": 81,
    "start_time": "2023-05-25T13:24:24.367Z"
   },
   {
    "duration": 1473,
    "start_time": "2023-05-25T13:27:38.044Z"
   },
   {
    "duration": 1270,
    "start_time": "2023-05-25T13:27:39.520Z"
   },
   {
    "duration": 2108,
    "start_time": "2023-05-25T13:27:40.792Z"
   },
   {
    "duration": 1009,
    "start_time": "2023-05-25T13:27:42.902Z"
   },
   {
    "duration": 56,
    "start_time": "2023-05-25T13:27:43.914Z"
   },
   {
    "duration": 8,
    "start_time": "2023-05-25T13:27:43.972Z"
   },
   {
    "duration": 24,
    "start_time": "2023-05-25T13:27:43.983Z"
   },
   {
    "duration": 559,
    "start_time": "2023-05-25T13:27:44.009Z"
   },
   {
    "duration": 7,
    "start_time": "2023-05-25T13:27:44.570Z"
   },
   {
    "duration": 72,
    "start_time": "2023-05-25T13:27:44.578Z"
   },
   {
    "duration": 138,
    "start_time": "2023-05-25T13:27:44.653Z"
   },
   {
    "duration": 0,
    "start_time": "2023-05-25T13:27:44.793Z"
   },
   {
    "duration": 0,
    "start_time": "2023-05-25T13:27:44.795Z"
   },
   {
    "duration": 0,
    "start_time": "2023-05-25T13:27:44.795Z"
   },
   {
    "duration": 0,
    "start_time": "2023-05-25T13:27:44.796Z"
   },
   {
    "duration": 10,
    "start_time": "2023-05-25T13:28:08.281Z"
   },
   {
    "duration": 10,
    "start_time": "2023-05-25T13:29:12.207Z"
   },
   {
    "duration": 12,
    "start_time": "2023-05-25T13:30:15.090Z"
   },
   {
    "duration": 11,
    "start_time": "2023-05-25T13:30:20.773Z"
   },
   {
    "duration": 10,
    "start_time": "2023-05-25T13:30:25.797Z"
   },
   {
    "duration": 25,
    "start_time": "2023-05-25T13:30:31.711Z"
   },
   {
    "duration": 11,
    "start_time": "2023-05-25T13:30:37.874Z"
   },
   {
    "duration": 9,
    "start_time": "2023-05-25T13:30:41.642Z"
   },
   {
    "duration": 1770,
    "start_time": "2023-05-29T06:47:09.923Z"
   },
   {
    "duration": 1291,
    "start_time": "2023-05-29T06:47:11.696Z"
   },
   {
    "duration": 1982,
    "start_time": "2023-05-29T06:47:12.989Z"
   },
   {
    "duration": 1000,
    "start_time": "2023-05-29T06:47:14.973Z"
   },
   {
    "duration": 42,
    "start_time": "2023-05-29T06:47:15.975Z"
   },
   {
    "duration": 7,
    "start_time": "2023-05-29T06:47:16.018Z"
   },
   {
    "duration": 29,
    "start_time": "2023-05-29T06:47:16.026Z"
   },
   {
    "duration": 519,
    "start_time": "2023-05-29T06:47:16.056Z"
   },
   {
    "duration": 8,
    "start_time": "2023-05-29T06:47:16.576Z"
   },
   {
    "duration": 34,
    "start_time": "2023-05-29T06:47:16.586Z"
   },
   {
    "duration": 17,
    "start_time": "2023-05-29T06:47:16.621Z"
   },
   {
    "duration": 73,
    "start_time": "2023-05-29T06:47:16.639Z"
   },
   {
    "duration": 52,
    "start_time": "2023-05-29T06:55:57.969Z"
   },
   {
    "duration": 1493,
    "start_time": "2023-05-29T06:56:08.190Z"
   },
   {
    "duration": 1198,
    "start_time": "2023-05-29T06:56:09.685Z"
   },
   {
    "duration": 1940,
    "start_time": "2023-05-29T06:56:10.885Z"
   },
   {
    "duration": 1140,
    "start_time": "2023-05-29T06:56:12.828Z"
   },
   {
    "duration": 41,
    "start_time": "2023-05-29T06:56:13.970Z"
   },
   {
    "duration": 7,
    "start_time": "2023-05-29T06:56:14.013Z"
   },
   {
    "duration": 30,
    "start_time": "2023-05-29T06:56:14.021Z"
   },
   {
    "duration": 524,
    "start_time": "2023-05-29T06:56:14.053Z"
   },
   {
    "duration": 8,
    "start_time": "2023-05-29T06:56:14.579Z"
   },
   {
    "duration": 17,
    "start_time": "2023-05-29T06:56:14.591Z"
   },
   {
    "duration": 37,
    "start_time": "2023-05-29T06:56:14.611Z"
   },
   {
    "duration": 58,
    "start_time": "2023-05-29T06:56:14.649Z"
   },
   {
    "duration": 1658,
    "start_time": "2023-05-29T07:05:25.277Z"
   },
   {
    "duration": 1706,
    "start_time": "2023-05-29T07:05:26.938Z"
   },
   {
    "duration": 2108,
    "start_time": "2023-05-29T07:05:28.648Z"
   },
   {
    "duration": 1119,
    "start_time": "2023-05-29T07:05:30.760Z"
   },
   {
    "duration": 74,
    "start_time": "2023-05-29T07:05:31.884Z"
   },
   {
    "duration": 49,
    "start_time": "2023-05-29T07:05:31.971Z"
   },
   {
    "duration": 53,
    "start_time": "2023-05-29T07:05:32.022Z"
   },
   {
    "duration": 724,
    "start_time": "2023-05-29T07:05:32.077Z"
   },
   {
    "duration": 9,
    "start_time": "2023-05-29T07:05:32.803Z"
   },
   {
    "duration": 34,
    "start_time": "2023-05-29T07:05:32.814Z"
   },
   {
    "duration": 27,
    "start_time": "2023-05-29T07:05:32.850Z"
   },
   {
    "duration": 93,
    "start_time": "2023-05-29T07:05:32.880Z"
   },
   {
    "duration": 1658,
    "start_time": "2023-05-29T07:07:03.896Z"
   },
   {
    "duration": 1066,
    "start_time": "2023-05-29T07:07:05.559Z"
   },
   {
    "duration": 2150,
    "start_time": "2023-05-29T07:07:06.627Z"
   },
   {
    "duration": 1095,
    "start_time": "2023-05-29T07:07:08.779Z"
   },
   {
    "duration": 53,
    "start_time": "2023-05-29T07:07:09.877Z"
   },
   {
    "duration": 30,
    "start_time": "2023-05-29T07:07:09.932Z"
   },
   {
    "duration": 30,
    "start_time": "2023-05-29T07:07:09.964Z"
   },
   {
    "duration": 576,
    "start_time": "2023-05-29T07:07:09.996Z"
   },
   {
    "duration": 9,
    "start_time": "2023-05-29T07:07:10.575Z"
   },
   {
    "duration": 28,
    "start_time": "2023-05-29T07:07:10.586Z"
   },
   {
    "duration": 14,
    "start_time": "2023-05-29T07:07:10.616Z"
   },
   {
    "duration": 70,
    "start_time": "2023-05-29T07:07:10.632Z"
   },
   {
    "duration": 478,
    "start_time": "2023-05-29T07:07:10.704Z"
   },
   {
    "duration": 2,
    "start_time": "2023-05-29T07:07:11.186Z"
   },
   {
    "duration": 190,
    "start_time": "2023-05-29T07:07:11.191Z"
   },
   {
    "duration": 195,
    "start_time": "2023-05-29T07:07:31.322Z"
   },
   {
    "duration": 12,
    "start_time": "2023-05-29T07:09:38.394Z"
   },
   {
    "duration": 2125,
    "start_time": "2023-05-29T07:10:22.717Z"
   },
   {
    "duration": 2789,
    "start_time": "2023-05-29T07:10:36.065Z"
   },
   {
    "duration": 2066,
    "start_time": "2023-05-29T07:10:47.091Z"
   },
   {
    "duration": 2136,
    "start_time": "2023-05-29T07:11:57.521Z"
   },
   {
    "duration": 2205,
    "start_time": "2023-05-29T07:12:11.473Z"
   },
   {
    "duration": 92,
    "start_time": "2023-05-29T07:14:14.710Z"
   },
   {
    "duration": 15,
    "start_time": "2023-05-29T07:15:51.863Z"
   },
   {
    "duration": 4,
    "start_time": "2023-05-29T07:16:04.991Z"
   },
   {
    "duration": 924,
    "start_time": "2023-05-29T07:16:04.998Z"
   },
   {
    "duration": 1969,
    "start_time": "2023-05-29T07:16:05.924Z"
   },
   {
    "duration": 1092,
    "start_time": "2023-05-29T07:16:07.895Z"
   },
   {
    "duration": 37,
    "start_time": "2023-05-29T07:16:08.990Z"
   },
   {
    "duration": 35,
    "start_time": "2023-05-29T07:16:09.029Z"
   },
   {
    "duration": 18,
    "start_time": "2023-05-29T07:16:09.066Z"
   },
   {
    "duration": 453,
    "start_time": "2023-05-29T07:16:09.086Z"
   },
   {
    "duration": 15,
    "start_time": "2023-05-29T07:16:09.546Z"
   },
   {
    "duration": 15,
    "start_time": "2023-05-29T07:16:09.566Z"
   },
   {
    "duration": 9,
    "start_time": "2023-05-29T07:16:09.584Z"
   },
   {
    "duration": 71,
    "start_time": "2023-05-29T07:16:09.595Z"
   },
   {
    "duration": 2241,
    "start_time": "2023-05-29T07:16:09.669Z"
   },
   {
    "duration": 2,
    "start_time": "2023-05-29T07:16:11.913Z"
   },
   {
    "duration": 56,
    "start_time": "2023-05-29T07:16:11.917Z"
   },
   {
    "duration": 16,
    "start_time": "2023-05-29T07:17:14.490Z"
   },
   {
    "duration": 128,
    "start_time": "2023-05-29T07:17:38.401Z"
   },
   {
    "duration": 19,
    "start_time": "2023-05-29T07:18:52.604Z"
   },
   {
    "duration": 98,
    "start_time": "2023-05-29T07:20:47.865Z"
   },
   {
    "duration": 16,
    "start_time": "2023-05-29T07:22:49.748Z"
   },
   {
    "duration": 1032,
    "start_time": "2023-05-29T07:22:49.766Z"
   },
   {
    "duration": 2396,
    "start_time": "2023-05-29T07:22:50.800Z"
   },
   {
    "duration": 1181,
    "start_time": "2023-05-29T07:22:53.199Z"
   },
   {
    "duration": 39,
    "start_time": "2023-05-29T07:22:54.389Z"
   },
   {
    "duration": 6,
    "start_time": "2023-05-29T07:22:54.430Z"
   },
   {
    "duration": 48,
    "start_time": "2023-05-29T07:22:54.437Z"
   },
   {
    "duration": 1082,
    "start_time": "2023-05-29T07:22:54.486Z"
   },
   {
    "duration": 57509,
    "start_time": "2023-05-29T07:22:55.571Z"
   },
   {
    "duration": 19,
    "start_time": "2023-05-29T07:23:53.084Z"
   },
   {
    "duration": 30,
    "start_time": "2023-05-29T07:23:53.105Z"
   },
   {
    "duration": 59,
    "start_time": "2023-05-29T07:23:53.138Z"
   },
   {
    "duration": 72,
    "start_time": "2023-05-29T07:23:53.199Z"
   },
   {
    "duration": 2078,
    "start_time": "2023-05-29T07:23:53.279Z"
   },
   {
    "duration": 95,
    "start_time": "2023-05-29T07:23:55.363Z"
   },
   {
    "duration": 23,
    "start_time": "2023-05-29T07:27:27.004Z"
   },
   {
    "duration": 524,
    "start_time": "2023-05-29T07:28:30.094Z"
   },
   {
    "duration": 297,
    "start_time": "2023-05-29T07:28:38.498Z"
   },
   {
    "duration": 210,
    "start_time": "2023-05-29T07:32:04.391Z"
   },
   {
    "duration": 206,
    "start_time": "2023-05-29T07:33:04.974Z"
   },
   {
    "duration": 295,
    "start_time": "2023-05-29T07:33:11.099Z"
   },
   {
    "duration": 7,
    "start_time": "2023-05-29T07:35:06.997Z"
   },
   {
    "duration": 985,
    "start_time": "2023-05-29T07:35:07.007Z"
   },
   {
    "duration": 2104,
    "start_time": "2023-05-29T07:35:07.994Z"
   },
   {
    "duration": 1134,
    "start_time": "2023-05-29T07:35:10.102Z"
   },
   {
    "duration": 56,
    "start_time": "2023-05-29T07:35:11.238Z"
   },
   {
    "duration": 10,
    "start_time": "2023-05-29T07:35:11.297Z"
   },
   {
    "duration": 22,
    "start_time": "2023-05-29T07:35:11.309Z"
   },
   {
    "duration": 510,
    "start_time": "2023-05-29T07:35:11.353Z"
   },
   {
    "duration": 11,
    "start_time": "2023-05-29T07:35:11.870Z"
   },
   {
    "duration": 13,
    "start_time": "2023-05-29T07:35:11.884Z"
   },
   {
    "duration": 12,
    "start_time": "2023-05-29T07:35:11.899Z"
   },
   {
    "duration": 83,
    "start_time": "2023-05-29T07:35:11.914Z"
   },
   {
    "duration": 219,
    "start_time": "2023-05-29T07:35:11.999Z"
   },
   {
    "duration": 2382,
    "start_time": "2023-05-29T07:35:12.220Z"
   },
   {
    "duration": 126,
    "start_time": "2023-05-29T07:35:14.604Z"
   },
   {
    "duration": 244,
    "start_time": "2023-05-29T07:35:14.734Z"
   },
   {
    "duration": 368,
    "start_time": "2023-05-29T07:35:49.269Z"
   },
   {
    "duration": 6,
    "start_time": "2023-05-29T07:36:03.500Z"
   },
   {
    "duration": 982,
    "start_time": "2023-05-29T07:36:03.510Z"
   },
   {
    "duration": 2637,
    "start_time": "2023-05-29T07:36:04.495Z"
   },
   {
    "duration": 1501,
    "start_time": "2023-05-29T07:36:07.134Z"
   },
   {
    "duration": 61,
    "start_time": "2023-05-29T07:36:08.639Z"
   },
   {
    "duration": 10,
    "start_time": "2023-05-29T07:36:08.702Z"
   },
   {
    "duration": 38,
    "start_time": "2023-05-29T07:36:08.715Z"
   },
   {
    "duration": 606,
    "start_time": "2023-05-29T07:36:08.760Z"
   },
   {
    "duration": 10,
    "start_time": "2023-05-29T07:36:09.368Z"
   },
   {
    "duration": 18,
    "start_time": "2023-05-29T07:36:09.381Z"
   },
   {
    "duration": 10,
    "start_time": "2023-05-29T07:36:09.402Z"
   },
   {
    "duration": 74,
    "start_time": "2023-05-29T07:36:09.414Z"
   },
   {
    "duration": 3868,
    "start_time": "2023-05-29T07:36:09.490Z"
   },
   {
    "duration": 151,
    "start_time": "2023-05-29T07:36:13.365Z"
   },
   {
    "duration": 304,
    "start_time": "2023-05-29T07:36:13.519Z"
   },
   {
    "duration": 252,
    "start_time": "2023-05-29T07:37:53.975Z"
   },
   {
    "duration": 37,
    "start_time": "2023-05-29T07:39:02.766Z"
   },
   {
    "duration": 192,
    "start_time": "2023-05-29T07:42:19.487Z"
   },
   {
    "duration": 145,
    "start_time": "2023-05-29T07:42:43.197Z"
   },
   {
    "duration": 5,
    "start_time": "2023-05-29T08:29:29.311Z"
   },
   {
    "duration": 986,
    "start_time": "2023-05-29T08:29:29.318Z"
   },
   {
    "duration": 2280,
    "start_time": "2023-05-29T08:29:30.306Z"
   },
   {
    "duration": 1198,
    "start_time": "2023-05-29T08:29:32.589Z"
   },
   {
    "duration": 33,
    "start_time": "2023-05-29T08:29:33.798Z"
   },
   {
    "duration": 7,
    "start_time": "2023-05-29T08:29:33.834Z"
   },
   {
    "duration": 72,
    "start_time": "2023-05-29T08:29:33.842Z"
   },
   {
    "duration": 498,
    "start_time": "2023-05-29T08:29:33.916Z"
   },
   {
    "duration": 8,
    "start_time": "2023-05-29T08:29:34.415Z"
   },
   {
    "duration": 43,
    "start_time": "2023-05-29T08:29:34.425Z"
   },
   {
    "duration": 20,
    "start_time": "2023-05-29T08:29:34.470Z"
   },
   {
    "duration": 47,
    "start_time": "2023-05-29T08:29:34.494Z"
   },
   {
    "duration": 2368,
    "start_time": "2023-05-29T08:29:34.544Z"
   },
   {
    "duration": 99,
    "start_time": "2023-05-29T08:29:36.913Z"
   },
   {
    "duration": 213,
    "start_time": "2023-05-29T08:29:37.014Z"
   },
   {
    "duration": 37,
    "start_time": "2023-05-29T08:29:37.228Z"
   },
   {
    "duration": 155,
    "start_time": "2023-05-29T08:29:37.270Z"
   },
   {
    "duration": 212,
    "start_time": "2023-05-29T08:29:37.427Z"
   },
   {
    "duration": 10130,
    "start_time": "2023-05-29T08:29:37.641Z"
   },
   {
    "duration": 8,
    "start_time": "2023-05-29T08:30:55.212Z"
   },
   {
    "duration": 16,
    "start_time": "2023-05-29T08:30:55.603Z"
   },
   {
    "duration": 1722,
    "start_time": "2023-05-29T08:31:05.786Z"
   },
   {
    "duration": 980,
    "start_time": "2023-05-29T08:31:07.510Z"
   },
   {
    "duration": 2143,
    "start_time": "2023-05-29T08:31:08.492Z"
   },
   {
    "duration": 1167,
    "start_time": "2023-05-29T08:31:10.637Z"
   },
   {
    "duration": 59,
    "start_time": "2023-05-29T08:31:11.806Z"
   },
   {
    "duration": 23,
    "start_time": "2023-05-29T08:31:11.878Z"
   },
   {
    "duration": 14,
    "start_time": "2023-05-29T08:31:11.902Z"
   },
   {
    "duration": 617,
    "start_time": "2023-05-29T08:31:11.918Z"
   },
   {
    "duration": 24,
    "start_time": "2023-05-29T08:31:12.537Z"
   },
   {
    "duration": 207,
    "start_time": "2023-05-29T08:31:12.574Z"
   },
   {
    "duration": 0,
    "start_time": "2023-05-29T08:31:12.786Z"
   },
   {
    "duration": 0,
    "start_time": "2023-05-29T08:31:12.790Z"
   },
   {
    "duration": 0,
    "start_time": "2023-05-29T08:31:12.793Z"
   },
   {
    "duration": 0,
    "start_time": "2023-05-29T08:31:12.795Z"
   },
   {
    "duration": 0,
    "start_time": "2023-05-29T08:31:12.796Z"
   },
   {
    "duration": 0,
    "start_time": "2023-05-29T08:31:12.798Z"
   },
   {
    "duration": 0,
    "start_time": "2023-05-29T08:31:12.799Z"
   },
   {
    "duration": 0,
    "start_time": "2023-05-29T08:31:12.802Z"
   },
   {
    "duration": 0,
    "start_time": "2023-05-29T08:31:12.803Z"
   },
   {
    "duration": 0,
    "start_time": "2023-05-29T08:31:12.804Z"
   },
   {
    "duration": 23,
    "start_time": "2023-05-29T08:31:30.683Z"
   },
   {
    "duration": 16,
    "start_time": "2023-05-29T08:33:01.073Z"
   },
   {
    "duration": 71,
    "start_time": "2023-05-29T08:33:02.309Z"
   },
   {
    "duration": 2471,
    "start_time": "2023-05-29T08:33:06.365Z"
   },
   {
    "duration": 94,
    "start_time": "2023-05-29T08:33:08.839Z"
   },
   {
    "duration": 280,
    "start_time": "2023-05-29T08:33:13.292Z"
   },
   {
    "duration": 20,
    "start_time": "2023-05-29T08:33:13.788Z"
   },
   {
    "duration": 22,
    "start_time": "2023-05-29T08:33:31.484Z"
   },
   {
    "duration": 148,
    "start_time": "2023-05-29T08:33:34.683Z"
   },
   {
    "duration": 226,
    "start_time": "2023-05-29T08:33:35.008Z"
   },
   {
    "duration": 10291,
    "start_time": "2023-05-29T08:33:35.599Z"
   },
   {
    "duration": 479,
    "start_time": "2023-05-29T08:44:19.118Z"
   },
   {
    "duration": 31,
    "start_time": "2023-05-29T08:49:28.894Z"
   },
   {
    "duration": 1668,
    "start_time": "2023-05-29T08:49:40.384Z"
   },
   {
    "duration": 181,
    "start_time": "2023-05-29T08:51:37.420Z"
   },
   {
    "duration": 241,
    "start_time": "2023-05-29T08:52:25.794Z"
   },
   {
    "duration": 15,
    "start_time": "2023-05-29T08:52:58.721Z"
   },
   {
    "duration": 255,
    "start_time": "2023-05-29T08:53:13.545Z"
   },
   {
    "duration": 225,
    "start_time": "2023-05-29T08:53:38.196Z"
   },
   {
    "duration": 98,
    "start_time": "2023-05-29T08:58:07.899Z"
   },
   {
    "duration": 3,
    "start_time": "2023-05-29T08:59:05.800Z"
   },
   {
    "duration": 7,
    "start_time": "2023-05-29T08:59:37.343Z"
   },
   {
    "duration": 18,
    "start_time": "2023-05-29T08:59:37.371Z"
   },
   {
    "duration": 961,
    "start_time": "2023-05-29T08:59:37.391Z"
   },
   {
    "duration": 2079,
    "start_time": "2023-05-29T08:59:38.354Z"
   },
   {
    "duration": 1127,
    "start_time": "2023-05-29T08:59:40.435Z"
   },
   {
    "duration": 40,
    "start_time": "2023-05-29T08:59:41.565Z"
   },
   {
    "duration": 7,
    "start_time": "2023-05-29T08:59:41.607Z"
   },
   {
    "duration": 19,
    "start_time": "2023-05-29T08:59:41.615Z"
   },
   {
    "duration": 661,
    "start_time": "2023-05-29T08:59:41.650Z"
   },
   {
    "duration": 8,
    "start_time": "2023-05-29T08:59:42.314Z"
   },
   {
    "duration": 50,
    "start_time": "2023-05-29T08:59:42.324Z"
   },
   {
    "duration": 37,
    "start_time": "2023-05-29T08:59:42.381Z"
   },
   {
    "duration": 84,
    "start_time": "2023-05-29T08:59:42.421Z"
   },
   {
    "duration": 2295,
    "start_time": "2023-05-29T08:59:42.507Z"
   },
   {
    "duration": 114,
    "start_time": "2023-05-29T08:59:44.805Z"
   },
   {
    "duration": 26,
    "start_time": "2023-05-29T08:59:44.922Z"
   },
   {
    "duration": 106,
    "start_time": "2023-05-29T08:59:44.954Z"
   },
   {
    "duration": 5,
    "start_time": "2023-05-29T09:02:28.885Z"
   },
   {
    "duration": 3,
    "start_time": "2023-05-29T09:02:28.917Z"
   },
   {
    "duration": 856,
    "start_time": "2023-05-29T09:02:28.922Z"
   },
   {
    "duration": 1921,
    "start_time": "2023-05-29T09:02:29.780Z"
   },
   {
    "duration": 1109,
    "start_time": "2023-05-29T09:02:31.704Z"
   },
   {
    "duration": 53,
    "start_time": "2023-05-29T09:02:32.815Z"
   },
   {
    "duration": 8,
    "start_time": "2023-05-29T09:02:32.873Z"
   },
   {
    "duration": 24,
    "start_time": "2023-05-29T09:02:32.883Z"
   },
   {
    "duration": 480,
    "start_time": "2023-05-29T09:02:32.909Z"
   },
   {
    "duration": 6,
    "start_time": "2023-05-29T09:02:33.391Z"
   },
   {
    "duration": 35,
    "start_time": "2023-05-29T09:02:33.398Z"
   },
   {
    "duration": 19,
    "start_time": "2023-05-29T09:02:33.434Z"
   },
   {
    "duration": 67,
    "start_time": "2023-05-29T09:02:33.455Z"
   },
   {
    "duration": 2140,
    "start_time": "2023-05-29T09:02:33.524Z"
   },
   {
    "duration": 85,
    "start_time": "2023-05-29T09:02:35.672Z"
   },
   {
    "duration": 22,
    "start_time": "2023-05-29T09:02:35.759Z"
   },
   {
    "duration": 29,
    "start_time": "2023-05-29T09:02:35.783Z"
   },
   {
    "duration": 16,
    "start_time": "2023-05-29T09:02:35.814Z"
   },
   {
    "duration": 160,
    "start_time": "2023-05-29T09:02:35.833Z"
   },
   {
    "duration": 8,
    "start_time": "2023-05-29T09:02:57.207Z"
   },
   {
    "duration": 5,
    "start_time": "2023-05-29T09:03:02.461Z"
   },
   {
    "duration": 34,
    "start_time": "2023-05-29T09:03:02.468Z"
   },
   {
    "duration": 1116,
    "start_time": "2023-05-29T09:03:02.505Z"
   },
   {
    "duration": 2073,
    "start_time": "2023-05-29T09:03:03.624Z"
   },
   {
    "duration": 1100,
    "start_time": "2023-05-29T09:03:05.699Z"
   },
   {
    "duration": 62,
    "start_time": "2023-05-29T09:03:06.801Z"
   },
   {
    "duration": 9,
    "start_time": "2023-05-29T09:03:06.869Z"
   },
   {
    "duration": 29,
    "start_time": "2023-05-29T09:03:06.880Z"
   },
   {
    "duration": 480,
    "start_time": "2023-05-29T09:03:06.911Z"
   },
   {
    "duration": 8,
    "start_time": "2023-05-29T09:03:07.393Z"
   },
   {
    "duration": 35,
    "start_time": "2023-05-29T09:03:07.403Z"
   },
   {
    "duration": 15,
    "start_time": "2023-05-29T09:03:07.450Z"
   },
   {
    "duration": 77,
    "start_time": "2023-05-29T09:03:07.467Z"
   },
   {
    "duration": 2081,
    "start_time": "2023-05-29T09:03:07.546Z"
   },
   {
    "duration": 94,
    "start_time": "2023-05-29T09:03:09.629Z"
   },
   {
    "duration": 31,
    "start_time": "2023-05-29T09:03:09.725Z"
   },
   {
    "duration": 26,
    "start_time": "2023-05-29T09:03:09.758Z"
   },
   {
    "duration": 14,
    "start_time": "2023-05-29T09:03:09.787Z"
   },
   {
    "duration": 90,
    "start_time": "2023-05-29T09:03:09.803Z"
   },
   {
    "duration": 6,
    "start_time": "2023-05-29T09:04:49.847Z"
   },
   {
    "duration": 53,
    "start_time": "2023-05-29T09:04:49.855Z"
   },
   {
    "duration": 1152,
    "start_time": "2023-05-29T09:04:49.910Z"
   },
   {
    "duration": 2226,
    "start_time": "2023-05-29T09:04:51.070Z"
   },
   {
    "duration": 1159,
    "start_time": "2023-05-29T09:04:53.299Z"
   },
   {
    "duration": 46,
    "start_time": "2023-05-29T09:04:54.463Z"
   },
   {
    "duration": 12,
    "start_time": "2023-05-29T09:04:54.511Z"
   },
   {
    "duration": 60,
    "start_time": "2023-05-29T09:04:54.524Z"
   },
   {
    "duration": 618,
    "start_time": "2023-05-29T09:04:54.586Z"
   },
   {
    "duration": 7,
    "start_time": "2023-05-29T09:04:55.206Z"
   },
   {
    "duration": 89,
    "start_time": "2023-05-29T09:04:55.215Z"
   },
   {
    "duration": 9,
    "start_time": "2023-05-29T09:04:55.308Z"
   },
   {
    "duration": 66,
    "start_time": "2023-05-29T09:04:55.319Z"
   },
   {
    "duration": 2163,
    "start_time": "2023-05-29T09:04:55.389Z"
   },
   {
    "duration": 111,
    "start_time": "2023-05-29T09:04:57.553Z"
   },
   {
    "duration": 25,
    "start_time": "2023-05-29T09:04:57.666Z"
   },
   {
    "duration": 13,
    "start_time": "2023-05-29T09:04:57.693Z"
   },
   {
    "duration": 9,
    "start_time": "2023-05-29T09:04:57.708Z"
   },
   {
    "duration": 121,
    "start_time": "2023-05-29T09:04:57.719Z"
   },
   {
    "duration": 5,
    "start_time": "2023-05-29T09:05:12.399Z"
   },
   {
    "duration": 7,
    "start_time": "2023-05-29T09:05:12.406Z"
   },
   {
    "duration": 992,
    "start_time": "2023-05-29T09:05:12.414Z"
   },
   {
    "duration": 2021,
    "start_time": "2023-05-29T09:05:13.407Z"
   },
   {
    "duration": 1070,
    "start_time": "2023-05-29T09:05:15.430Z"
   },
   {
    "duration": 63,
    "start_time": "2023-05-29T09:05:16.502Z"
   },
   {
    "duration": 7,
    "start_time": "2023-05-29T09:05:16.573Z"
   },
   {
    "duration": 28,
    "start_time": "2023-05-29T09:05:16.582Z"
   },
   {
    "duration": 489,
    "start_time": "2023-05-29T09:05:16.612Z"
   },
   {
    "duration": 7,
    "start_time": "2023-05-29T09:05:17.103Z"
   },
   {
    "duration": 42,
    "start_time": "2023-05-29T09:05:17.112Z"
   },
   {
    "duration": 23,
    "start_time": "2023-05-29T09:05:17.159Z"
   },
   {
    "duration": 78,
    "start_time": "2023-05-29T09:05:17.184Z"
   },
   {
    "duration": 2244,
    "start_time": "2023-05-29T09:05:17.265Z"
   },
   {
    "duration": 101,
    "start_time": "2023-05-29T09:05:19.511Z"
   },
   {
    "duration": 19,
    "start_time": "2023-05-29T09:05:19.614Z"
   },
   {
    "duration": 21,
    "start_time": "2023-05-29T09:05:19.635Z"
   },
   {
    "duration": 22,
    "start_time": "2023-05-29T09:05:19.665Z"
   },
   {
    "duration": 121,
    "start_time": "2023-05-29T09:05:19.690Z"
   },
   {
    "duration": 7,
    "start_time": "2023-05-29T09:05:26.679Z"
   },
   {
    "duration": 4,
    "start_time": "2023-05-29T09:05:29.878Z"
   },
   {
    "duration": 8,
    "start_time": "2023-05-29T09:05:29.885Z"
   },
   {
    "duration": 992,
    "start_time": "2023-05-29T09:05:29.895Z"
   },
   {
    "duration": 2310,
    "start_time": "2023-05-29T09:05:30.889Z"
   },
   {
    "duration": 1050,
    "start_time": "2023-05-29T09:05:33.202Z"
   },
   {
    "duration": 47,
    "start_time": "2023-05-29T09:05:34.256Z"
   },
   {
    "duration": 6,
    "start_time": "2023-05-29T09:05:34.306Z"
   },
   {
    "duration": 16,
    "start_time": "2023-05-29T09:05:34.314Z"
   },
   {
    "duration": 575,
    "start_time": "2023-05-29T09:05:34.347Z"
   },
   {
    "duration": 7,
    "start_time": "2023-05-29T09:05:34.924Z"
   },
   {
    "duration": 51,
    "start_time": "2023-05-29T09:05:34.933Z"
   },
   {
    "duration": 12,
    "start_time": "2023-05-29T09:05:34.988Z"
   },
   {
    "duration": 48,
    "start_time": "2023-05-29T09:05:35.002Z"
   },
   {
    "duration": 2250,
    "start_time": "2023-05-29T09:05:35.058Z"
   },
   {
    "duration": 111,
    "start_time": "2023-05-29T09:05:37.310Z"
   },
   {
    "duration": 41,
    "start_time": "2023-05-29T09:05:37.423Z"
   },
   {
    "duration": 12,
    "start_time": "2023-05-29T09:05:37.480Z"
   },
   {
    "duration": 8,
    "start_time": "2023-05-29T09:05:37.494Z"
   },
   {
    "duration": 117,
    "start_time": "2023-05-29T09:05:37.504Z"
   },
   {
    "duration": 5,
    "start_time": "2023-05-29T09:08:58.805Z"
   },
   {
    "duration": 9,
    "start_time": "2023-05-29T09:08:58.813Z"
   },
   {
    "duration": 908,
    "start_time": "2023-05-29T09:08:58.823Z"
   },
   {
    "duration": 2141,
    "start_time": "2023-05-29T09:08:59.733Z"
   },
   {
    "duration": 1199,
    "start_time": "2023-05-29T09:09:01.879Z"
   },
   {
    "duration": 38,
    "start_time": "2023-05-29T09:09:03.080Z"
   },
   {
    "duration": 9,
    "start_time": "2023-05-29T09:09:03.121Z"
   },
   {
    "duration": 51,
    "start_time": "2023-05-29T09:09:03.132Z"
   },
   {
    "duration": 447,
    "start_time": "2023-05-29T09:09:03.186Z"
   },
   {
    "duration": 21,
    "start_time": "2023-05-29T09:09:03.635Z"
   },
   {
    "duration": 149,
    "start_time": "2023-05-29T09:09:03.658Z"
   },
   {
    "duration": 7,
    "start_time": "2023-05-29T09:09:03.809Z"
   },
   {
    "duration": 60,
    "start_time": "2023-05-29T09:09:03.818Z"
   },
   {
    "duration": 2231,
    "start_time": "2023-05-29T09:09:03.881Z"
   },
   {
    "duration": 9,
    "start_time": "2023-05-29T09:09:06.114Z"
   },
   {
    "duration": 27,
    "start_time": "2023-05-29T09:09:06.124Z"
   },
   {
    "duration": 0,
    "start_time": "2023-05-29T09:09:06.154Z"
   },
   {
    "duration": 0,
    "start_time": "2023-05-29T09:09:06.155Z"
   },
   {
    "duration": 0,
    "start_time": "2023-05-29T09:09:06.156Z"
   },
   {
    "duration": 7,
    "start_time": "2023-05-29T09:09:23.398Z"
   },
   {
    "duration": 39,
    "start_time": "2023-05-29T09:11:32.988Z"
   },
   {
    "duration": 32,
    "start_time": "2023-05-29T09:13:50.824Z"
   },
   {
    "duration": 14,
    "start_time": "2023-05-29T09:13:53.106Z"
   },
   {
    "duration": 23,
    "start_time": "2023-05-29T09:18:53.319Z"
   },
   {
    "duration": 43,
    "start_time": "2023-05-29T09:22:21.281Z"
   },
   {
    "duration": 30,
    "start_time": "2023-05-29T09:22:40.659Z"
   },
   {
    "duration": 23,
    "start_time": "2023-05-29T09:22:44.180Z"
   },
   {
    "duration": 28,
    "start_time": "2023-05-29T09:24:12.608Z"
   },
   {
    "duration": 36,
    "start_time": "2023-05-29T09:29:11.110Z"
   },
   {
    "duration": 20,
    "start_time": "2023-05-29T09:29:59.968Z"
   },
   {
    "duration": 26,
    "start_time": "2023-05-29T09:35:48.298Z"
   },
   {
    "duration": 21,
    "start_time": "2023-05-29T09:36:13.446Z"
   },
   {
    "duration": 32,
    "start_time": "2023-05-29T09:36:26.610Z"
   },
   {
    "duration": 71,
    "start_time": "2023-05-29T09:39:14.375Z"
   },
   {
    "duration": 4,
    "start_time": "2023-05-29T09:39:54.805Z"
   },
   {
    "duration": 19,
    "start_time": "2023-05-29T09:39:54.812Z"
   },
   {
    "duration": 859,
    "start_time": "2023-05-29T09:39:54.834Z"
   },
   {
    "duration": 1890,
    "start_time": "2023-05-29T09:39:55.696Z"
   },
   {
    "duration": 1026,
    "start_time": "2023-05-29T09:39:57.588Z"
   },
   {
    "duration": 58,
    "start_time": "2023-05-29T09:39:58.616Z"
   },
   {
    "duration": 9,
    "start_time": "2023-05-29T09:39:58.677Z"
   },
   {
    "duration": 44,
    "start_time": "2023-05-29T09:39:58.688Z"
   },
   {
    "duration": 35,
    "start_time": "2023-05-29T09:39:58.734Z"
   },
   {
    "duration": 36,
    "start_time": "2023-05-29T09:39:58.771Z"
   },
   {
    "duration": 28,
    "start_time": "2023-05-29T09:39:58.809Z"
   },
   {
    "duration": 32,
    "start_time": "2023-05-29T09:39:58.845Z"
   },
   {
    "duration": 105,
    "start_time": "2023-05-29T09:39:58.879Z"
   },
   {
    "duration": 0,
    "start_time": "2023-05-29T09:39:58.986Z"
   },
   {
    "duration": 0,
    "start_time": "2023-05-29T09:39:58.987Z"
   },
   {
    "duration": 0,
    "start_time": "2023-05-29T09:39:58.988Z"
   },
   {
    "duration": 0,
    "start_time": "2023-05-29T09:39:58.989Z"
   },
   {
    "duration": 0,
    "start_time": "2023-05-29T09:39:58.990Z"
   },
   {
    "duration": 0,
    "start_time": "2023-05-29T09:39:58.992Z"
   },
   {
    "duration": 0,
    "start_time": "2023-05-29T09:39:58.993Z"
   },
   {
    "duration": 0,
    "start_time": "2023-05-29T09:39:58.994Z"
   },
   {
    "duration": 0,
    "start_time": "2023-05-29T09:39:58.995Z"
   },
   {
    "duration": 0,
    "start_time": "2023-05-29T09:39:58.996Z"
   },
   {
    "duration": 18,
    "start_time": "2023-05-29T09:40:30.796Z"
   },
   {
    "duration": 5,
    "start_time": "2023-05-29T09:41:35.923Z"
   },
   {
    "duration": 30,
    "start_time": "2023-05-29T09:41:35.930Z"
   },
   {
    "duration": 866,
    "start_time": "2023-05-29T09:41:35.963Z"
   },
   {
    "duration": 1900,
    "start_time": "2023-05-29T09:41:36.832Z"
   },
   {
    "duration": 1016,
    "start_time": "2023-05-29T09:41:38.735Z"
   },
   {
    "duration": 37,
    "start_time": "2023-05-29T09:41:39.753Z"
   },
   {
    "duration": 6,
    "start_time": "2023-05-29T09:41:39.792Z"
   },
   {
    "duration": 47,
    "start_time": "2023-05-29T09:41:39.800Z"
   },
   {
    "duration": 29,
    "start_time": "2023-05-29T09:41:39.850Z"
   },
   {
    "duration": 35,
    "start_time": "2023-05-29T09:41:39.881Z"
   },
   {
    "duration": 49,
    "start_time": "2023-05-29T09:41:39.919Z"
   },
   {
    "duration": 30,
    "start_time": "2023-05-29T09:41:39.971Z"
   },
   {
    "duration": 52,
    "start_time": "2023-05-29T09:41:40.004Z"
   },
   {
    "duration": 51,
    "start_time": "2023-05-29T09:41:40.058Z"
   },
   {
    "duration": 34,
    "start_time": "2023-05-29T09:41:40.111Z"
   },
   {
    "duration": 0,
    "start_time": "2023-05-29T09:41:40.147Z"
   },
   {
    "duration": 0,
    "start_time": "2023-05-29T09:41:40.148Z"
   },
   {
    "duration": 0,
    "start_time": "2023-05-29T09:41:40.149Z"
   },
   {
    "duration": 0,
    "start_time": "2023-05-29T09:41:40.150Z"
   },
   {
    "duration": 0,
    "start_time": "2023-05-29T09:41:40.151Z"
   },
   {
    "duration": 0,
    "start_time": "2023-05-29T09:41:40.152Z"
   },
   {
    "duration": 0,
    "start_time": "2023-05-29T09:41:40.153Z"
   },
   {
    "duration": 0,
    "start_time": "2023-05-29T09:41:40.154Z"
   },
   {
    "duration": 0,
    "start_time": "2023-05-29T09:41:40.155Z"
   },
   {
    "duration": 0,
    "start_time": "2023-05-29T09:41:40.156Z"
   },
   {
    "duration": 0,
    "start_time": "2023-05-29T09:41:40.158Z"
   },
   {
    "duration": 0,
    "start_time": "2023-05-29T09:41:40.158Z"
   },
   {
    "duration": 24,
    "start_time": "2023-05-29T09:42:01.791Z"
   },
   {
    "duration": 87,
    "start_time": "2023-05-29T09:47:33.588Z"
   },
   {
    "duration": 33,
    "start_time": "2023-05-29T09:47:39.957Z"
   },
   {
    "duration": 29,
    "start_time": "2023-05-29T09:47:40.192Z"
   },
   {
    "duration": 90,
    "start_time": "2023-05-29T09:47:41.403Z"
   },
   {
    "duration": 5,
    "start_time": "2023-05-29T09:47:56.862Z"
   },
   {
    "duration": 9,
    "start_time": "2023-05-29T09:47:56.870Z"
   },
   {
    "duration": 891,
    "start_time": "2023-05-29T09:47:56.880Z"
   },
   {
    "duration": 1873,
    "start_time": "2023-05-29T09:47:57.773Z"
   },
   {
    "duration": 982,
    "start_time": "2023-05-29T09:47:59.649Z"
   },
   {
    "duration": 38,
    "start_time": "2023-05-29T09:48:00.634Z"
   },
   {
    "duration": 63,
    "start_time": "2023-05-29T09:48:00.674Z"
   },
   {
    "duration": 79,
    "start_time": "2023-05-29T09:48:00.739Z"
   },
   {
    "duration": 46,
    "start_time": "2023-05-29T09:48:00.820Z"
   },
   {
    "duration": 63,
    "start_time": "2023-05-29T09:48:00.869Z"
   },
   {
    "duration": 62,
    "start_time": "2023-05-29T09:48:00.934Z"
   },
   {
    "duration": 52,
    "start_time": "2023-05-29T09:48:00.999Z"
   },
   {
    "duration": 72,
    "start_time": "2023-05-29T09:48:01.053Z"
   },
   {
    "duration": 40,
    "start_time": "2023-05-29T09:48:01.129Z"
   },
   {
    "duration": 44,
    "start_time": "2023-05-29T09:48:01.171Z"
   },
   {
    "duration": 63,
    "start_time": "2023-05-29T09:48:01.217Z"
   },
   {
    "duration": 47,
    "start_time": "2023-05-29T09:48:01.282Z"
   },
   {
    "duration": 128,
    "start_time": "2023-05-29T09:48:01.332Z"
   },
   {
    "duration": 33,
    "start_time": "2023-05-29T09:48:01.462Z"
   },
   {
    "duration": 514,
    "start_time": "2023-05-29T09:48:01.498Z"
   },
   {
    "duration": 10,
    "start_time": "2023-05-29T09:48:02.015Z"
   },
   {
    "duration": 39,
    "start_time": "2023-05-29T09:48:02.027Z"
   },
   {
    "duration": 8,
    "start_time": "2023-05-29T09:48:02.069Z"
   },
   {
    "duration": 73,
    "start_time": "2023-05-29T09:48:02.079Z"
   },
   {
    "duration": 2017,
    "start_time": "2023-05-29T09:48:02.154Z"
   },
   {
    "duration": 95,
    "start_time": "2023-05-29T09:48:04.173Z"
   },
   {
    "duration": 23,
    "start_time": "2023-05-29T09:48:04.273Z"
   },
   {
    "duration": 104,
    "start_time": "2023-05-29T09:48:04.298Z"
   },
   {
    "duration": 289,
    "start_time": "2023-05-29T09:49:20.456Z"
   },
   {
    "duration": 6,
    "start_time": "2023-05-29T09:49:45.992Z"
   },
   {
    "duration": 19,
    "start_time": "2023-05-29T09:49:46.001Z"
   },
   {
    "duration": 852,
    "start_time": "2023-05-29T09:49:46.022Z"
   },
   {
    "duration": 2131,
    "start_time": "2023-05-29T09:49:46.877Z"
   },
   {
    "duration": 1021,
    "start_time": "2023-05-29T09:49:49.011Z"
   },
   {
    "duration": 43,
    "start_time": "2023-05-29T09:49:50.034Z"
   },
   {
    "duration": 9,
    "start_time": "2023-05-29T09:49:50.080Z"
   },
   {
    "duration": 57,
    "start_time": "2023-05-29T09:49:50.091Z"
   },
   {
    "duration": 56,
    "start_time": "2023-05-29T09:49:50.151Z"
   },
   {
    "duration": 56,
    "start_time": "2023-05-29T09:49:50.209Z"
   },
   {
    "duration": 42,
    "start_time": "2023-05-29T09:49:50.267Z"
   },
   {
    "duration": 54,
    "start_time": "2023-05-29T09:49:50.311Z"
   },
   {
    "duration": 45,
    "start_time": "2023-05-29T09:49:50.368Z"
   },
   {
    "duration": 33,
    "start_time": "2023-05-29T09:49:50.418Z"
   },
   {
    "duration": 23,
    "start_time": "2023-05-29T09:49:50.453Z"
   },
   {
    "duration": 26,
    "start_time": "2023-05-29T09:49:50.478Z"
   },
   {
    "duration": 46,
    "start_time": "2023-05-29T09:49:50.505Z"
   },
   {
    "duration": 97,
    "start_time": "2023-05-29T09:49:50.553Z"
   },
   {
    "duration": 31,
    "start_time": "2023-05-29T09:49:50.652Z"
   },
   {
    "duration": 475,
    "start_time": "2023-05-29T09:49:50.685Z"
   },
   {
    "duration": 9,
    "start_time": "2023-05-29T09:49:51.163Z"
   },
   {
    "duration": 37,
    "start_time": "2023-05-29T09:49:51.174Z"
   },
   {
    "duration": 9,
    "start_time": "2023-05-29T09:49:51.213Z"
   },
   {
    "duration": 115,
    "start_time": "2023-05-29T09:49:51.246Z"
   },
   {
    "duration": 2260,
    "start_time": "2023-05-29T09:49:51.364Z"
   },
   {
    "duration": 94,
    "start_time": "2023-05-29T09:49:53.626Z"
   },
   {
    "duration": 33,
    "start_time": "2023-05-29T09:49:53.723Z"
   },
   {
    "duration": 92,
    "start_time": "2023-05-29T09:49:53.758Z"
   },
   {
    "duration": 302,
    "start_time": "2023-05-29T09:49:53.852Z"
   },
   {
    "duration": 5,
    "start_time": "2023-05-29T09:53:09.600Z"
   },
   {
    "duration": 12,
    "start_time": "2023-05-29T09:53:09.607Z"
   },
   {
    "duration": 813,
    "start_time": "2023-05-29T09:53:09.621Z"
   },
   {
    "duration": 1924,
    "start_time": "2023-05-29T09:53:10.436Z"
   },
   {
    "duration": 1065,
    "start_time": "2023-05-29T09:53:12.363Z"
   },
   {
    "duration": 42,
    "start_time": "2023-05-29T09:53:13.430Z"
   },
   {
    "duration": 7,
    "start_time": "2023-05-29T09:53:13.474Z"
   },
   {
    "duration": 37,
    "start_time": "2023-05-29T09:53:13.483Z"
   },
   {
    "duration": 37,
    "start_time": "2023-05-29T09:53:13.522Z"
   },
   {
    "duration": 37,
    "start_time": "2023-05-29T09:53:13.561Z"
   },
   {
    "duration": 25,
    "start_time": "2023-05-29T09:53:13.600Z"
   },
   {
    "duration": 43,
    "start_time": "2023-05-29T09:53:13.627Z"
   },
   {
    "duration": 33,
    "start_time": "2023-05-29T09:53:13.672Z"
   },
   {
    "duration": 56,
    "start_time": "2023-05-29T09:53:13.708Z"
   },
   {
    "duration": 37,
    "start_time": "2023-05-29T09:53:13.766Z"
   },
   {
    "duration": 31,
    "start_time": "2023-05-29T09:53:13.805Z"
   },
   {
    "duration": 29,
    "start_time": "2023-05-29T09:53:13.838Z"
   },
   {
    "duration": 104,
    "start_time": "2023-05-29T09:53:13.869Z"
   },
   {
    "duration": 23,
    "start_time": "2023-05-29T09:53:13.975Z"
   },
   {
    "duration": 444,
    "start_time": "2023-05-29T09:53:14.000Z"
   },
   {
    "duration": 10,
    "start_time": "2023-05-29T09:53:14.446Z"
   },
   {
    "duration": 37,
    "start_time": "2023-05-29T09:53:14.459Z"
   },
   {
    "duration": 9,
    "start_time": "2023-05-29T09:53:14.498Z"
   },
   {
    "duration": 75,
    "start_time": "2023-05-29T09:53:14.508Z"
   },
   {
    "duration": 2140,
    "start_time": "2023-05-29T09:53:14.585Z"
   },
   {
    "duration": 98,
    "start_time": "2023-05-29T09:53:16.727Z"
   },
   {
    "duration": 34,
    "start_time": "2023-05-29T09:53:16.828Z"
   },
   {
    "duration": 102,
    "start_time": "2023-05-29T09:53:16.864Z"
   },
   {
    "duration": 296,
    "start_time": "2023-05-29T09:53:16.968Z"
   },
   {
    "duration": 22,
    "start_time": "2023-05-29T09:54:03.295Z"
   },
   {
    "duration": 17,
    "start_time": "2023-05-29T09:54:03.577Z"
   },
   {
    "duration": 4,
    "start_time": "2023-05-29T09:54:09.400Z"
   },
   {
    "duration": 15,
    "start_time": "2023-05-29T09:54:09.407Z"
   },
   {
    "duration": 805,
    "start_time": "2023-05-29T09:54:09.424Z"
   },
   {
    "duration": 1880,
    "start_time": "2023-05-29T09:54:10.231Z"
   },
   {
    "duration": 1073,
    "start_time": "2023-05-29T09:54:12.114Z"
   },
   {
    "duration": 35,
    "start_time": "2023-05-29T09:54:13.190Z"
   },
   {
    "duration": 24,
    "start_time": "2023-05-29T09:54:13.227Z"
   },
   {
    "duration": 36,
    "start_time": "2023-05-29T09:54:13.253Z"
   },
   {
    "duration": 48,
    "start_time": "2023-05-29T09:54:13.291Z"
   },
   {
    "duration": 69,
    "start_time": "2023-05-29T09:54:13.341Z"
   },
   {
    "duration": 40,
    "start_time": "2023-05-29T09:54:13.412Z"
   },
   {
    "duration": 54,
    "start_time": "2023-05-29T09:54:13.454Z"
   },
   {
    "duration": 51,
    "start_time": "2023-05-29T09:54:13.511Z"
   },
   {
    "duration": 38,
    "start_time": "2023-05-29T09:54:13.564Z"
   },
   {
    "duration": 46,
    "start_time": "2023-05-29T09:54:13.604Z"
   },
   {
    "duration": 50,
    "start_time": "2023-05-29T09:54:13.652Z"
   },
   {
    "duration": 42,
    "start_time": "2023-05-29T09:54:13.703Z"
   },
   {
    "duration": 135,
    "start_time": "2023-05-29T09:54:13.747Z"
   },
   {
    "duration": 28,
    "start_time": "2023-05-29T09:54:13.883Z"
   },
   {
    "duration": 451,
    "start_time": "2023-05-29T09:54:13.913Z"
   },
   {
    "duration": 10,
    "start_time": "2023-05-29T09:54:14.366Z"
   },
   {
    "duration": 56,
    "start_time": "2023-05-29T09:54:14.379Z"
   },
   {
    "duration": 10,
    "start_time": "2023-05-29T09:54:14.438Z"
   },
   {
    "duration": 93,
    "start_time": "2023-05-29T09:54:14.450Z"
   },
   {
    "duration": 2030,
    "start_time": "2023-05-29T09:54:14.545Z"
   },
   {
    "duration": 94,
    "start_time": "2023-05-29T09:54:16.577Z"
   },
   {
    "duration": 26,
    "start_time": "2023-05-29T09:54:16.673Z"
   },
   {
    "duration": 127,
    "start_time": "2023-05-29T09:54:16.702Z"
   },
   {
    "duration": 295,
    "start_time": "2023-05-29T09:54:16.831Z"
   },
   {
    "duration": 22,
    "start_time": "2023-05-29T09:56:46.296Z"
   },
   {
    "duration": 6,
    "start_time": "2023-05-29T09:56:52.708Z"
   },
   {
    "duration": 24,
    "start_time": "2023-05-29T09:56:52.717Z"
   },
   {
    "duration": 848,
    "start_time": "2023-05-29T09:56:52.743Z"
   },
   {
    "duration": 1911,
    "start_time": "2023-05-29T09:56:53.593Z"
   },
   {
    "duration": 980,
    "start_time": "2023-05-29T09:56:55.507Z"
   },
   {
    "duration": 36,
    "start_time": "2023-05-29T09:56:56.489Z"
   },
   {
    "duration": 20,
    "start_time": "2023-05-29T09:56:56.527Z"
   },
   {
    "duration": 45,
    "start_time": "2023-05-29T09:56:56.549Z"
   },
   {
    "duration": 34,
    "start_time": "2023-05-29T09:56:56.596Z"
   },
   {
    "duration": 25,
    "start_time": "2023-05-29T09:56:56.632Z"
   },
   {
    "duration": 33,
    "start_time": "2023-05-29T09:56:56.659Z"
   },
   {
    "duration": 32,
    "start_time": "2023-05-29T09:56:56.695Z"
   },
   {
    "duration": 40,
    "start_time": "2023-05-29T09:56:56.729Z"
   },
   {
    "duration": 28,
    "start_time": "2023-05-29T09:56:56.773Z"
   },
   {
    "duration": 35,
    "start_time": "2023-05-29T09:56:56.803Z"
   },
   {
    "duration": 31,
    "start_time": "2023-05-29T09:56:56.840Z"
   },
   {
    "duration": 34,
    "start_time": "2023-05-29T09:56:56.873Z"
   },
   {
    "duration": 97,
    "start_time": "2023-05-29T09:56:56.910Z"
   },
   {
    "duration": 10,
    "start_time": "2023-05-29T09:56:57.009Z"
   },
   {
    "duration": 582,
    "start_time": "2023-05-29T09:56:57.020Z"
   },
   {
    "duration": 8,
    "start_time": "2023-05-29T09:56:57.604Z"
   },
   {
    "duration": 40,
    "start_time": "2023-05-29T09:56:57.614Z"
   },
   {
    "duration": 8,
    "start_time": "2023-05-29T09:56:57.656Z"
   },
   {
    "duration": 59,
    "start_time": "2023-05-29T09:56:57.665Z"
   },
   {
    "duration": 1935,
    "start_time": "2023-05-29T09:56:57.726Z"
   },
   {
    "duration": 86,
    "start_time": "2023-05-29T09:56:59.663Z"
   },
   {
    "duration": 19,
    "start_time": "2023-05-29T09:56:59.751Z"
   },
   {
    "duration": 82,
    "start_time": "2023-05-29T09:56:59.771Z"
   },
   {
    "duration": 264,
    "start_time": "2023-05-29T09:56:59.855Z"
   },
   {
    "duration": 22,
    "start_time": "2023-05-29T09:57:25.711Z"
   },
   {
    "duration": 85,
    "start_time": "2023-05-29T09:58:27.644Z"
   },
   {
    "duration": 5,
    "start_time": "2023-05-29T10:18:42.063Z"
   },
   {
    "duration": 11,
    "start_time": "2023-05-29T10:18:42.070Z"
   },
   {
    "duration": 982,
    "start_time": "2023-05-29T10:18:42.082Z"
   },
   {
    "duration": 1999,
    "start_time": "2023-05-29T10:18:43.066Z"
   },
   {
    "duration": 947,
    "start_time": "2023-05-29T10:18:45.068Z"
   },
   {
    "duration": 46,
    "start_time": "2023-05-29T10:18:46.017Z"
   },
   {
    "duration": 13,
    "start_time": "2023-05-29T10:18:46.065Z"
   },
   {
    "duration": 54,
    "start_time": "2023-05-29T10:18:46.080Z"
   },
   {
    "duration": 35,
    "start_time": "2023-05-29T10:18:46.136Z"
   },
   {
    "duration": 45,
    "start_time": "2023-05-29T10:18:46.173Z"
   },
   {
    "duration": 39,
    "start_time": "2023-05-29T10:18:46.220Z"
   },
   {
    "duration": 60,
    "start_time": "2023-05-29T10:18:46.261Z"
   },
   {
    "duration": 106,
    "start_time": "2023-05-29T10:18:46.322Z"
   },
   {
    "duration": 32,
    "start_time": "2023-05-29T10:18:46.431Z"
   },
   {
    "duration": 28,
    "start_time": "2023-05-29T10:18:46.466Z"
   },
   {
    "duration": 22,
    "start_time": "2023-05-29T10:18:46.497Z"
   },
   {
    "duration": 42,
    "start_time": "2023-05-29T10:18:46.521Z"
   },
   {
    "duration": 47,
    "start_time": "2023-05-29T10:18:46.566Z"
   },
   {
    "duration": 99,
    "start_time": "2023-05-29T10:18:46.615Z"
   },
   {
    "duration": 448,
    "start_time": "2023-05-29T10:18:46.715Z"
   },
   {
    "duration": 7,
    "start_time": "2023-05-29T10:18:47.165Z"
   },
   {
    "duration": 44,
    "start_time": "2023-05-29T10:18:47.174Z"
   },
   {
    "duration": 8,
    "start_time": "2023-05-29T10:18:47.220Z"
   },
   {
    "duration": 73,
    "start_time": "2023-05-29T10:18:47.230Z"
   },
   {
    "duration": 2197,
    "start_time": "2023-05-29T10:18:47.305Z"
   },
   {
    "duration": 95,
    "start_time": "2023-05-29T10:18:49.504Z"
   },
   {
    "duration": 21,
    "start_time": "2023-05-29T10:18:49.601Z"
   },
   {
    "duration": 101,
    "start_time": "2023-05-29T10:18:49.624Z"
   },
   {
    "duration": 87,
    "start_time": "2023-05-29T10:18:49.727Z"
   },
   {
    "duration": 1661,
    "start_time": "2023-05-30T07:47:42.371Z"
   },
   {
    "duration": 2,
    "start_time": "2023-05-30T07:47:44.034Z"
   },
   {
    "duration": 1100,
    "start_time": "2023-05-30T07:47:44.038Z"
   },
   {
    "duration": 1474,
    "start_time": "2023-05-30T07:47:45.140Z"
   },
   {
    "duration": 788,
    "start_time": "2023-05-30T07:47:46.618Z"
   },
   {
    "duration": 39,
    "start_time": "2023-05-30T07:47:47.408Z"
   },
   {
    "duration": 5,
    "start_time": "2023-05-30T07:47:47.449Z"
   },
   {
    "duration": 36,
    "start_time": "2023-05-30T07:47:47.455Z"
   },
   {
    "duration": 25,
    "start_time": "2023-05-30T07:47:47.493Z"
   },
   {
    "duration": 22,
    "start_time": "2023-05-30T07:47:47.519Z"
   },
   {
    "duration": 20,
    "start_time": "2023-05-30T07:47:47.542Z"
   },
   {
    "duration": 20,
    "start_time": "2023-05-30T07:47:47.564Z"
   },
   {
    "duration": 38,
    "start_time": "2023-05-30T07:47:47.586Z"
   },
   {
    "duration": 20,
    "start_time": "2023-05-30T07:47:47.627Z"
   },
   {
    "duration": 47,
    "start_time": "2023-05-30T07:47:47.649Z"
   },
   {
    "duration": 28,
    "start_time": "2023-05-30T07:47:47.698Z"
   },
   {
    "duration": 31,
    "start_time": "2023-05-30T07:47:47.728Z"
   },
   {
    "duration": 43,
    "start_time": "2023-05-30T07:47:47.761Z"
   },
   {
    "duration": 77,
    "start_time": "2023-05-30T07:47:47.806Z"
   },
   {
    "duration": 441,
    "start_time": "2023-05-30T07:47:47.885Z"
   },
   {
    "duration": 6,
    "start_time": "2023-05-30T07:47:48.328Z"
   },
   {
    "duration": 27,
    "start_time": "2023-05-30T07:47:48.335Z"
   },
   {
    "duration": 8,
    "start_time": "2023-05-30T07:47:48.365Z"
   },
   {
    "duration": 69,
    "start_time": "2023-05-30T07:47:48.375Z"
   },
   {
    "duration": 1568,
    "start_time": "2023-05-30T07:47:48.445Z"
   },
   {
    "duration": 71,
    "start_time": "2023-05-30T07:47:50.014Z"
   },
   {
    "duration": 35,
    "start_time": "2023-05-30T07:47:50.087Z"
   },
   {
    "duration": 68,
    "start_time": "2023-05-30T07:47:50.123Z"
   },
   {
    "duration": 69,
    "start_time": "2023-05-30T07:47:50.193Z"
   },
   {
    "duration": 5,
    "start_time": "2023-05-30T08:18:35.055Z"
   },
   {
    "duration": 36,
    "start_time": "2023-05-30T08:18:35.062Z"
   },
   {
    "duration": 838,
    "start_time": "2023-05-30T08:18:35.100Z"
   },
   {
    "duration": 1652,
    "start_time": "2023-05-30T08:18:35.939Z"
   },
   {
    "duration": 862,
    "start_time": "2023-05-30T08:18:37.593Z"
   },
   {
    "duration": 32,
    "start_time": "2023-05-30T08:18:38.457Z"
   },
   {
    "duration": 5,
    "start_time": "2023-05-30T08:18:38.491Z"
   },
   {
    "duration": 48,
    "start_time": "2023-05-30T08:18:38.497Z"
   },
   {
    "duration": 39,
    "start_time": "2023-05-30T08:18:38.546Z"
   },
   {
    "duration": 89,
    "start_time": "2023-05-30T08:18:38.587Z"
   },
   {
    "duration": 75,
    "start_time": "2023-05-30T08:18:38.678Z"
   },
   {
    "duration": 41,
    "start_time": "2023-05-30T08:18:38.754Z"
   },
   {
    "duration": 52,
    "start_time": "2023-05-30T08:18:38.799Z"
   },
   {
    "duration": 50,
    "start_time": "2023-05-30T08:18:38.852Z"
   },
   {
    "duration": 40,
    "start_time": "2023-05-30T08:18:38.904Z"
   },
   {
    "duration": 31,
    "start_time": "2023-05-30T08:18:38.945Z"
   },
   {
    "duration": 59,
    "start_time": "2023-05-30T08:18:38.978Z"
   },
   {
    "duration": 94,
    "start_time": "2023-05-30T08:18:39.039Z"
   },
   {
    "duration": 370,
    "start_time": "2023-05-30T08:18:39.134Z"
   },
   {
    "duration": 13,
    "start_time": "2023-05-30T08:18:39.506Z"
   },
   {
    "duration": 30,
    "start_time": "2023-05-30T08:18:39.521Z"
   },
   {
    "duration": 7,
    "start_time": "2023-05-30T08:18:39.552Z"
   },
   {
    "duration": 61,
    "start_time": "2023-05-30T08:18:39.560Z"
   },
   {
    "duration": 1824,
    "start_time": "2023-05-30T08:18:39.623Z"
   },
   {
    "duration": 79,
    "start_time": "2023-05-30T08:18:41.449Z"
   },
   {
    "duration": 23,
    "start_time": "2023-05-30T08:18:41.530Z"
   },
   {
    "duration": 86,
    "start_time": "2023-05-30T08:18:41.554Z"
   },
   {
    "duration": 60,
    "start_time": "2023-05-30T08:18:41.642Z"
   },
   {
    "duration": 33,
    "start_time": "2023-05-30T08:22:06.145Z"
   },
   {
    "duration": 23,
    "start_time": "2023-05-30T11:10:59.048Z"
   },
   {
    "duration": 164,
    "start_time": "2023-05-30T11:10:59.477Z"
   },
   {
    "duration": 21,
    "start_time": "2023-05-30T11:10:59.858Z"
   },
   {
    "duration": 18,
    "start_time": "2023-05-30T11:11:04.887Z"
   },
   {
    "duration": 7,
    "start_time": "2023-05-30T11:11:04.908Z"
   },
   {
    "duration": 1466,
    "start_time": "2023-05-30T11:11:04.918Z"
   },
   {
    "duration": 2117,
    "start_time": "2023-05-30T11:11:06.386Z"
   },
   {
    "duration": 1222,
    "start_time": "2023-05-30T11:11:08.506Z"
   },
   {
    "duration": 58,
    "start_time": "2023-05-30T11:11:09.733Z"
   },
   {
    "duration": 8,
    "start_time": "2023-05-30T11:11:09.797Z"
   },
   {
    "duration": 50,
    "start_time": "2023-05-30T11:11:09.806Z"
   },
   {
    "duration": 50,
    "start_time": "2023-05-30T11:11:09.857Z"
   },
   {
    "duration": 35,
    "start_time": "2023-05-30T11:11:09.909Z"
   },
   {
    "duration": 77,
    "start_time": "2023-05-30T11:11:09.946Z"
   },
   {
    "duration": 153,
    "start_time": "2023-05-30T11:11:10.026Z"
   },
   {
    "duration": 44,
    "start_time": "2023-05-30T11:11:10.183Z"
   },
   {
    "duration": 64,
    "start_time": "2023-05-30T11:11:10.243Z"
   },
   {
    "duration": 48,
    "start_time": "2023-05-30T11:11:10.308Z"
   },
   {
    "duration": 54,
    "start_time": "2023-05-30T11:11:10.357Z"
   },
   {
    "duration": 95,
    "start_time": "2023-05-30T11:11:10.413Z"
   },
   {
    "duration": 129,
    "start_time": "2023-05-30T11:11:10.510Z"
   },
   {
    "duration": 545,
    "start_time": "2023-05-30T11:11:10.641Z"
   },
   {
    "duration": 20,
    "start_time": "2023-05-30T11:11:11.188Z"
   },
   {
    "duration": 43,
    "start_time": "2023-05-30T11:11:11.210Z"
   },
   {
    "duration": 47,
    "start_time": "2023-05-30T11:11:11.254Z"
   },
   {
    "duration": 59,
    "start_time": "2023-05-30T11:11:11.304Z"
   },
   {
    "duration": 2002,
    "start_time": "2023-05-30T11:11:11.365Z"
   },
   {
    "duration": 107,
    "start_time": "2023-05-30T11:11:13.376Z"
   },
   {
    "duration": 22,
    "start_time": "2023-05-30T11:11:13.488Z"
   },
   {
    "duration": 100,
    "start_time": "2023-05-30T11:11:13.511Z"
   },
   {
    "duration": 103,
    "start_time": "2023-05-30T11:11:13.613Z"
   },
   {
    "duration": 67,
    "start_time": "2023-05-30T11:11:13.732Z"
   },
   {
    "duration": 88,
    "start_time": "2023-05-30T11:11:13.801Z"
   },
   {
    "duration": 5,
    "start_time": "2023-05-30T11:11:13.892Z"
   },
   {
    "duration": 13,
    "start_time": "2023-05-30T11:14:36.194Z"
   },
   {
    "duration": 24,
    "start_time": "2023-05-30T11:16:15.591Z"
   },
   {
    "duration": 5,
    "start_time": "2023-05-30T11:16:16.254Z"
   },
   {
    "duration": 34,
    "start_time": "2023-05-30T11:16:29.693Z"
   },
   {
    "duration": 4,
    "start_time": "2023-05-30T11:16:30.026Z"
   },
   {
    "duration": 17,
    "start_time": "2023-05-30T11:17:22.962Z"
   },
   {
    "duration": 32,
    "start_time": "2023-05-30T11:24:44.270Z"
   },
   {
    "duration": 33,
    "start_time": "2023-05-30T11:24:54.471Z"
   },
   {
    "duration": 34,
    "start_time": "2023-05-30T11:26:04.996Z"
   },
   {
    "duration": 15,
    "start_time": "2023-05-30T11:31:23.499Z"
   },
   {
    "duration": 16,
    "start_time": "2023-05-30T11:36:25.874Z"
   },
   {
    "duration": 7,
    "start_time": "2023-05-30T11:36:26.258Z"
   },
   {
    "duration": 9,
    "start_time": "2023-05-30T11:36:31.955Z"
   },
   {
    "duration": 44,
    "start_time": "2023-05-30T11:36:31.967Z"
   },
   {
    "duration": 999,
    "start_time": "2023-05-30T11:36:32.013Z"
   },
   {
    "duration": 1984,
    "start_time": "2023-05-30T11:36:33.014Z"
   },
   {
    "duration": 998,
    "start_time": "2023-05-30T11:36:35.001Z"
   },
   {
    "duration": 63,
    "start_time": "2023-05-30T11:36:36.001Z"
   },
   {
    "duration": 12,
    "start_time": "2023-05-30T11:36:36.066Z"
   },
   {
    "duration": 62,
    "start_time": "2023-05-30T11:36:36.080Z"
   },
   {
    "duration": 60,
    "start_time": "2023-05-30T11:36:36.147Z"
   },
   {
    "duration": 78,
    "start_time": "2023-05-30T11:36:36.208Z"
   },
   {
    "duration": 27,
    "start_time": "2023-05-30T11:36:36.289Z"
   },
   {
    "duration": 59,
    "start_time": "2023-05-30T11:36:36.332Z"
   },
   {
    "duration": 54,
    "start_time": "2023-05-30T11:36:36.393Z"
   },
   {
    "duration": 50,
    "start_time": "2023-05-30T11:36:36.465Z"
   },
   {
    "duration": 64,
    "start_time": "2023-05-30T11:36:36.524Z"
   },
   {
    "duration": 23,
    "start_time": "2023-05-30T11:36:36.590Z"
   },
   {
    "duration": 89,
    "start_time": "2023-05-30T11:36:36.616Z"
   },
   {
    "duration": 108,
    "start_time": "2023-05-30T11:36:36.707Z"
   },
   {
    "duration": 668,
    "start_time": "2023-05-30T11:36:36.816Z"
   },
   {
    "duration": 8,
    "start_time": "2023-05-30T11:36:37.485Z"
   },
   {
    "duration": 52,
    "start_time": "2023-05-30T11:36:37.495Z"
   },
   {
    "duration": 9,
    "start_time": "2023-05-30T11:36:37.549Z"
   },
   {
    "duration": 72,
    "start_time": "2023-05-30T11:36:37.560Z"
   },
   {
    "duration": 1934,
    "start_time": "2023-05-30T11:36:37.634Z"
   },
   {
    "duration": 109,
    "start_time": "2023-05-30T11:36:39.570Z"
   },
   {
    "duration": 20,
    "start_time": "2023-05-30T11:36:39.681Z"
   },
   {
    "duration": 85,
    "start_time": "2023-05-30T11:36:39.703Z"
   },
   {
    "duration": 98,
    "start_time": "2023-05-30T11:36:39.790Z"
   },
   {
    "duration": 55,
    "start_time": "2023-05-30T11:36:39.890Z"
   },
   {
    "duration": 91,
    "start_time": "2023-05-30T11:36:39.948Z"
   },
   {
    "duration": 10,
    "start_time": "2023-05-30T11:36:40.041Z"
   },
   {
    "duration": 36,
    "start_time": "2023-05-30T11:36:40.053Z"
   },
   {
    "duration": 20,
    "start_time": "2023-05-30T11:36:40.091Z"
   },
   {
    "duration": 96,
    "start_time": "2023-05-30T11:36:40.113Z"
   },
   {
    "duration": 49,
    "start_time": "2023-05-30T11:36:40.211Z"
   },
   {
    "duration": 0,
    "start_time": "2023-05-30T11:36:40.262Z"
   },
   {
    "duration": 1112,
    "start_time": "2023-05-30T11:40:40.152Z"
   },
   {
    "duration": 1033,
    "start_time": "2023-05-30T11:44:58.153Z"
   },
   {
    "duration": 11,
    "start_time": "2023-05-30T11:45:27.474Z"
   },
   {
    "duration": 6,
    "start_time": "2023-05-30T11:45:35.289Z"
   },
   {
    "duration": 64,
    "start_time": "2023-05-30T11:45:35.298Z"
   },
   {
    "duration": 896,
    "start_time": "2023-05-30T11:45:35.364Z"
   },
   {
    "duration": 1723,
    "start_time": "2023-05-30T11:45:36.262Z"
   },
   {
    "duration": 942,
    "start_time": "2023-05-30T11:45:37.987Z"
   },
   {
    "duration": 44,
    "start_time": "2023-05-30T11:45:38.930Z"
   },
   {
    "duration": 7,
    "start_time": "2023-05-30T11:45:38.976Z"
   },
   {
    "duration": 60,
    "start_time": "2023-05-30T11:45:38.984Z"
   },
   {
    "duration": 45,
    "start_time": "2023-05-30T11:45:39.049Z"
   },
   {
    "duration": 29,
    "start_time": "2023-05-30T11:45:39.096Z"
   },
   {
    "duration": 53,
    "start_time": "2023-05-30T11:45:39.132Z"
   },
   {
    "duration": 64,
    "start_time": "2023-05-30T11:45:39.187Z"
   },
   {
    "duration": 22,
    "start_time": "2023-05-30T11:45:39.253Z"
   },
   {
    "duration": 21,
    "start_time": "2023-05-30T11:45:39.279Z"
   },
   {
    "duration": 22,
    "start_time": "2023-05-30T11:45:39.301Z"
   },
   {
    "duration": 50,
    "start_time": "2023-05-30T11:45:39.325Z"
   },
   {
    "duration": 23,
    "start_time": "2023-05-30T11:45:39.376Z"
   },
   {
    "duration": 93,
    "start_time": "2023-05-30T11:45:39.401Z"
   },
   {
    "duration": 393,
    "start_time": "2023-05-30T11:45:39.495Z"
   },
   {
    "duration": 7,
    "start_time": "2023-05-30T11:45:39.890Z"
   },
   {
    "duration": 77,
    "start_time": "2023-05-30T11:45:39.899Z"
   },
   {
    "duration": 9,
    "start_time": "2023-05-30T11:45:39.978Z"
   },
   {
    "duration": 61,
    "start_time": "2023-05-30T11:45:39.989Z"
   },
   {
    "duration": 1903,
    "start_time": "2023-05-30T11:45:40.057Z"
   },
   {
    "duration": 97,
    "start_time": "2023-05-30T11:45:41.962Z"
   },
   {
    "duration": 23,
    "start_time": "2023-05-30T11:45:42.064Z"
   },
   {
    "duration": 153,
    "start_time": "2023-05-30T11:45:42.089Z"
   },
   {
    "duration": 69,
    "start_time": "2023-05-30T11:45:42.244Z"
   },
   {
    "duration": 30,
    "start_time": "2023-05-30T11:45:42.314Z"
   },
   {
    "duration": 93,
    "start_time": "2023-05-30T11:45:42.346Z"
   },
   {
    "duration": 6,
    "start_time": "2023-05-30T11:45:42.450Z"
   },
   {
    "duration": 21,
    "start_time": "2023-05-30T11:45:42.458Z"
   },
   {
    "duration": 7,
    "start_time": "2023-05-30T11:45:42.481Z"
   },
   {
    "duration": 37,
    "start_time": "2023-05-30T11:45:42.490Z"
   },
   {
    "duration": 1118,
    "start_time": "2023-05-30T11:45:42.529Z"
   },
   {
    "duration": 0,
    "start_time": "2023-05-30T11:45:43.661Z"
   },
   {
    "duration": 24,
    "start_time": "2023-05-30T11:51:07.402Z"
   },
   {
    "duration": 7,
    "start_time": "2023-05-30T11:52:12.966Z"
   },
   {
    "duration": 28,
    "start_time": "2023-05-30T11:55:23.864Z"
   },
   {
    "duration": 9,
    "start_time": "2023-05-30T11:55:24.183Z"
   },
   {
    "duration": 7,
    "start_time": "2023-05-30T11:55:24.577Z"
   },
   {
    "duration": 42,
    "start_time": "2023-05-30T11:58:17.669Z"
   },
   {
    "duration": 46,
    "start_time": "2023-05-30T11:58:28.259Z"
   },
   {
    "duration": 41,
    "start_time": "2023-05-30T11:58:57.170Z"
   },
   {
    "duration": 151,
    "start_time": "2023-05-30T12:00:54.366Z"
   },
   {
    "duration": 137,
    "start_time": "2023-05-30T12:05:37.036Z"
   },
   {
    "duration": 108,
    "start_time": "2023-05-30T12:06:08.439Z"
   },
   {
    "duration": 128,
    "start_time": "2023-05-30T12:06:24.264Z"
   },
   {
    "duration": 121,
    "start_time": "2023-05-30T12:06:50.883Z"
   },
   {
    "duration": 105,
    "start_time": "2023-05-30T12:07:57.970Z"
   },
   {
    "duration": 1019,
    "start_time": "2023-05-30T12:11:16.667Z"
   },
   {
    "duration": 5,
    "start_time": "2023-05-30T12:11:42.076Z"
   },
   {
    "duration": 51,
    "start_time": "2023-05-30T12:11:42.083Z"
   },
   {
    "duration": 1063,
    "start_time": "2023-05-30T12:11:42.143Z"
   },
   {
    "duration": 2001,
    "start_time": "2023-05-30T12:11:43.208Z"
   },
   {
    "duration": 997,
    "start_time": "2023-05-30T12:11:45.211Z"
   },
   {
    "duration": 45,
    "start_time": "2023-05-30T12:11:46.210Z"
   },
   {
    "duration": 34,
    "start_time": "2023-05-30T12:11:46.257Z"
   },
   {
    "duration": 110,
    "start_time": "2023-05-30T12:11:46.293Z"
   },
   {
    "duration": 88,
    "start_time": "2023-05-30T12:11:46.404Z"
   },
   {
    "duration": 67,
    "start_time": "2023-05-30T12:11:46.494Z"
   },
   {
    "duration": 49,
    "start_time": "2023-05-30T12:11:46.563Z"
   },
   {
    "duration": 70,
    "start_time": "2023-05-30T12:11:46.614Z"
   },
   {
    "duration": 52,
    "start_time": "2023-05-30T12:11:46.687Z"
   },
   {
    "duration": 41,
    "start_time": "2023-05-30T12:11:46.745Z"
   },
   {
    "duration": 67,
    "start_time": "2023-05-30T12:11:46.788Z"
   },
   {
    "duration": 24,
    "start_time": "2023-05-30T12:11:46.857Z"
   },
   {
    "duration": 52,
    "start_time": "2023-05-30T12:11:46.883Z"
   },
   {
    "duration": 134,
    "start_time": "2023-05-30T12:11:46.945Z"
   },
   {
    "duration": 454,
    "start_time": "2023-05-30T12:11:47.081Z"
   },
   {
    "duration": 9,
    "start_time": "2023-05-30T12:11:47.538Z"
   },
   {
    "duration": 43,
    "start_time": "2023-05-30T12:11:47.549Z"
   },
   {
    "duration": 8,
    "start_time": "2023-05-30T12:11:47.594Z"
   },
   {
    "duration": 73,
    "start_time": "2023-05-30T12:11:47.604Z"
   },
   {
    "duration": 2493,
    "start_time": "2023-05-30T12:11:47.679Z"
   },
   {
    "duration": 87,
    "start_time": "2023-05-30T12:11:50.174Z"
   },
   {
    "duration": 22,
    "start_time": "2023-05-30T12:11:50.267Z"
   },
   {
    "duration": 117,
    "start_time": "2023-05-30T12:11:50.291Z"
   },
   {
    "duration": 101,
    "start_time": "2023-05-30T12:11:50.411Z"
   },
   {
    "duration": 72,
    "start_time": "2023-05-30T12:11:50.514Z"
   },
   {
    "duration": 17,
    "start_time": "2023-05-30T12:11:50.588Z"
   },
   {
    "duration": 872,
    "start_time": "2023-05-30T12:11:50.606Z"
   },
   {
    "duration": 0,
    "start_time": "2023-05-30T12:11:51.479Z"
   },
   {
    "duration": 0,
    "start_time": "2023-05-30T12:11:51.481Z"
   },
   {
    "duration": 0,
    "start_time": "2023-05-30T12:11:51.481Z"
   },
   {
    "duration": 0,
    "start_time": "2023-05-30T12:11:51.482Z"
   },
   {
    "duration": 0,
    "start_time": "2023-05-30T12:11:51.483Z"
   },
   {
    "duration": 0,
    "start_time": "2023-05-30T12:11:51.484Z"
   },
   {
    "duration": 0,
    "start_time": "2023-05-30T12:11:51.486Z"
   },
   {
    "duration": 0,
    "start_time": "2023-05-30T12:11:51.487Z"
   },
   {
    "duration": 1349,
    "start_time": "2023-05-30T12:16:45.406Z"
   },
   {
    "duration": 1105,
    "start_time": "2023-05-30T12:18:38.768Z"
   },
   {
    "duration": 397,
    "start_time": "2023-05-30T12:20:42.800Z"
   },
   {
    "duration": 115,
    "start_time": "2023-05-30T12:21:39.873Z"
   },
   {
    "duration": 196,
    "start_time": "2023-05-30T12:24:27.279Z"
   },
   {
    "duration": 187,
    "start_time": "2023-05-30T12:25:05.447Z"
   },
   {
    "duration": 23,
    "start_time": "2023-05-30T12:25:18.168Z"
   },
   {
    "duration": 101,
    "start_time": "2023-05-30T12:25:18.194Z"
   },
   {
    "duration": 1430,
    "start_time": "2023-05-30T12:25:18.298Z"
   },
   {
    "duration": 2843,
    "start_time": "2023-05-30T12:25:19.733Z"
   },
   {
    "duration": 1648,
    "start_time": "2023-05-30T12:25:22.595Z"
   },
   {
    "duration": 126,
    "start_time": "2023-05-30T12:25:24.245Z"
   },
   {
    "duration": 88,
    "start_time": "2023-05-30T12:25:24.387Z"
   },
   {
    "duration": 77,
    "start_time": "2023-05-30T12:25:24.490Z"
   },
   {
    "duration": 206,
    "start_time": "2023-05-30T12:25:24.569Z"
   },
   {
    "duration": 232,
    "start_time": "2023-05-30T12:25:24.777Z"
   },
   {
    "duration": 142,
    "start_time": "2023-05-30T12:25:25.011Z"
   },
   {
    "duration": 256,
    "start_time": "2023-05-30T12:25:25.159Z"
   },
   {
    "duration": 238,
    "start_time": "2023-05-30T12:25:25.425Z"
   },
   {
    "duration": 144,
    "start_time": "2023-05-30T12:25:25.687Z"
   },
   {
    "duration": 69,
    "start_time": "2023-05-30T12:25:25.835Z"
   },
   {
    "duration": 110,
    "start_time": "2023-05-30T12:25:25.913Z"
   },
   {
    "duration": 125,
    "start_time": "2023-05-30T12:25:26.025Z"
   },
   {
    "duration": 148,
    "start_time": "2023-05-30T12:25:26.153Z"
   },
   {
    "duration": 656,
    "start_time": "2023-05-30T12:25:26.304Z"
   },
   {
    "duration": 20,
    "start_time": "2023-05-30T12:25:26.963Z"
   },
   {
    "duration": 120,
    "start_time": "2023-05-30T12:25:26.990Z"
   },
   {
    "duration": 39,
    "start_time": "2023-05-30T12:25:27.113Z"
   },
   {
    "duration": 206,
    "start_time": "2023-05-30T12:25:27.165Z"
   },
   {
    "duration": 3001,
    "start_time": "2023-05-30T12:25:27.389Z"
   },
   {
    "duration": 156,
    "start_time": "2023-05-30T12:25:30.404Z"
   },
   {
    "duration": 113,
    "start_time": "2023-05-30T12:25:30.566Z"
   },
   {
    "duration": 317,
    "start_time": "2023-05-30T12:25:30.694Z"
   },
   {
    "duration": 250,
    "start_time": "2023-05-30T12:25:31.026Z"
   },
   {
    "duration": 51,
    "start_time": "2023-05-30T12:25:31.282Z"
   },
   {
    "duration": 152,
    "start_time": "2023-05-30T12:25:31.338Z"
   },
   {
    "duration": 151,
    "start_time": "2023-05-30T12:25:31.504Z"
   },
   {
    "duration": 0,
    "start_time": "2023-05-30T12:25:31.657Z"
   },
   {
    "duration": 0,
    "start_time": "2023-05-30T12:25:31.658Z"
   },
   {
    "duration": 0,
    "start_time": "2023-05-30T12:25:31.659Z"
   },
   {
    "duration": 0,
    "start_time": "2023-05-30T12:25:31.660Z"
   },
   {
    "duration": 0,
    "start_time": "2023-05-30T12:25:31.666Z"
   },
   {
    "duration": 0,
    "start_time": "2023-05-30T12:25:31.667Z"
   },
   {
    "duration": 0,
    "start_time": "2023-05-30T12:25:31.667Z"
   },
   {
    "duration": 0,
    "start_time": "2023-05-30T12:25:31.668Z"
   },
   {
    "duration": 127,
    "start_time": "2023-05-30T12:25:57.596Z"
   },
   {
    "duration": 111,
    "start_time": "2023-05-30T12:26:22.660Z"
   },
   {
    "duration": 37,
    "start_time": "2023-05-30T12:34:07.752Z"
   },
   {
    "duration": 51,
    "start_time": "2023-05-30T12:34:07.973Z"
   },
   {
    "duration": 6,
    "start_time": "2023-05-30T12:34:08.267Z"
   },
   {
    "duration": 26,
    "start_time": "2023-05-30T12:35:20.696Z"
   },
   {
    "duration": 32,
    "start_time": "2023-05-30T12:37:30.667Z"
   },
   {
    "duration": 13,
    "start_time": "2023-05-30T12:37:31.185Z"
   },
   {
    "duration": 1426,
    "start_time": "2023-05-30T12:38:08.097Z"
   },
   {
    "duration": 1474,
    "start_time": "2023-05-30T12:38:26.868Z"
   },
   {
    "duration": 9089,
    "start_time": "2023-05-30T12:49:10.601Z"
   },
   {
    "duration": 6,
    "start_time": "2023-05-30T12:49:19.693Z"
   },
   {
    "duration": 2158,
    "start_time": "2023-05-30T12:49:19.701Z"
   },
   {
    "duration": 2794,
    "start_time": "2023-05-30T12:49:21.861Z"
   },
   {
    "duration": 1485,
    "start_time": "2023-05-30T12:49:24.661Z"
   },
   {
    "duration": 64,
    "start_time": "2023-05-30T12:49:26.153Z"
   },
   {
    "duration": 75,
    "start_time": "2023-05-30T12:49:26.224Z"
   },
   {
    "duration": 122,
    "start_time": "2023-05-30T12:49:26.301Z"
   },
   {
    "duration": 178,
    "start_time": "2023-05-30T12:49:26.425Z"
   },
   {
    "duration": 60,
    "start_time": "2023-05-30T12:49:26.606Z"
   },
   {
    "duration": 159,
    "start_time": "2023-05-30T12:49:26.672Z"
   },
   {
    "duration": 97,
    "start_time": "2023-05-30T12:49:26.836Z"
   },
   {
    "duration": 81,
    "start_time": "2023-05-30T12:49:26.934Z"
   },
   {
    "duration": 94,
    "start_time": "2023-05-30T12:49:27.025Z"
   },
   {
    "duration": 85,
    "start_time": "2023-05-30T12:49:27.132Z"
   },
   {
    "duration": 82,
    "start_time": "2023-05-30T12:49:27.224Z"
   },
   {
    "duration": 104,
    "start_time": "2023-05-30T12:49:27.307Z"
   },
   {
    "duration": 141,
    "start_time": "2023-05-30T12:49:27.413Z"
   },
   {
    "duration": 628,
    "start_time": "2023-05-30T12:49:27.556Z"
   },
   {
    "duration": 17,
    "start_time": "2023-05-30T12:49:28.186Z"
   },
   {
    "duration": 87,
    "start_time": "2023-05-30T12:49:28.204Z"
   },
   {
    "duration": 78,
    "start_time": "2023-05-30T12:49:28.293Z"
   },
   {
    "duration": 100,
    "start_time": "2023-05-30T12:49:28.374Z"
   },
   {
    "duration": 2546,
    "start_time": "2023-05-30T12:49:28.481Z"
   },
   {
    "duration": 100,
    "start_time": "2023-05-30T12:49:31.029Z"
   },
   {
    "duration": 112,
    "start_time": "2023-05-30T12:49:31.134Z"
   },
   {
    "duration": 159,
    "start_time": "2023-05-30T12:49:31.252Z"
   },
   {
    "duration": 152,
    "start_time": "2023-05-30T12:49:31.419Z"
   },
   {
    "duration": 66,
    "start_time": "2023-05-30T12:49:31.581Z"
   },
   {
    "duration": 227,
    "start_time": "2023-05-30T12:49:31.649Z"
   },
   {
    "duration": 19,
    "start_time": "2023-05-30T12:49:31.881Z"
   },
   {
    "duration": 284,
    "start_time": "2023-05-30T12:49:31.903Z"
   },
   {
    "duration": 0,
    "start_time": "2023-05-30T12:49:32.193Z"
   },
   {
    "duration": 0,
    "start_time": "2023-05-30T12:49:32.200Z"
   },
   {
    "duration": 0,
    "start_time": "2023-05-30T12:49:32.202Z"
   },
   {
    "duration": 0,
    "start_time": "2023-05-30T12:49:32.204Z"
   },
   {
    "duration": 14,
    "start_time": "2023-05-30T12:49:58.588Z"
   },
   {
    "duration": 11,
    "start_time": "2023-05-30T12:49:59.992Z"
   },
   {
    "duration": 75,
    "start_time": "2023-05-30T12:50:00.668Z"
   },
   {
    "duration": 2124,
    "start_time": "2023-05-30T12:53:27.990Z"
   },
   {
    "duration": 8,
    "start_time": "2023-05-30T12:53:30.117Z"
   },
   {
    "duration": 1315,
    "start_time": "2023-05-30T12:53:30.136Z"
   },
   {
    "duration": 2714,
    "start_time": "2023-05-30T12:53:31.453Z"
   },
   {
    "duration": 1417,
    "start_time": "2023-05-30T12:53:34.170Z"
   },
   {
    "duration": 68,
    "start_time": "2023-05-30T12:53:35.595Z"
   },
   {
    "duration": 133,
    "start_time": "2023-05-30T12:53:35.669Z"
   },
   {
    "duration": 207,
    "start_time": "2023-05-30T12:53:35.806Z"
   },
   {
    "duration": 182,
    "start_time": "2023-05-30T12:53:36.014Z"
   },
   {
    "duration": 153,
    "start_time": "2023-05-30T12:53:36.202Z"
   },
   {
    "duration": 93,
    "start_time": "2023-05-30T12:53:36.357Z"
   },
   {
    "duration": 158,
    "start_time": "2023-05-30T12:53:36.452Z"
   },
   {
    "duration": 63,
    "start_time": "2023-05-30T12:53:36.612Z"
   },
   {
    "duration": 65,
    "start_time": "2023-05-30T12:53:36.682Z"
   },
   {
    "duration": 97,
    "start_time": "2023-05-30T12:53:36.750Z"
   },
   {
    "duration": 39,
    "start_time": "2023-05-30T12:53:36.859Z"
   },
   {
    "duration": 53,
    "start_time": "2023-05-30T12:53:36.900Z"
   },
   {
    "duration": 210,
    "start_time": "2023-05-30T12:53:36.956Z"
   },
   {
    "duration": 648,
    "start_time": "2023-05-30T12:53:37.175Z"
   },
   {
    "duration": 9,
    "start_time": "2023-05-30T12:53:37.825Z"
   },
   {
    "duration": 97,
    "start_time": "2023-05-30T12:53:37.835Z"
   },
   {
    "duration": 21,
    "start_time": "2023-05-30T12:53:37.948Z"
   },
   {
    "duration": 160,
    "start_time": "2023-05-30T12:53:37.970Z"
   },
   {
    "duration": 2496,
    "start_time": "2023-05-30T12:53:38.135Z"
   },
   {
    "duration": 106,
    "start_time": "2023-05-30T12:53:40.633Z"
   },
   {
    "duration": 29,
    "start_time": "2023-05-30T12:53:40.749Z"
   },
   {
    "duration": 116,
    "start_time": "2023-05-30T12:53:40.780Z"
   },
   {
    "duration": 193,
    "start_time": "2023-05-30T12:53:40.898Z"
   },
   {
    "duration": 93,
    "start_time": "2023-05-30T12:53:41.096Z"
   },
   {
    "duration": 80,
    "start_time": "2023-05-30T12:53:41.191Z"
   },
   {
    "duration": 11,
    "start_time": "2023-05-30T12:53:41.274Z"
   },
   {
    "duration": 126,
    "start_time": "2023-05-30T12:53:41.288Z"
   },
   {
    "duration": 20,
    "start_time": "2023-05-30T12:53:41.416Z"
   },
   {
    "duration": 112,
    "start_time": "2023-05-30T12:53:41.439Z"
   },
   {
    "duration": 10,
    "start_time": "2023-05-30T12:53:41.564Z"
   },
   {
    "duration": 2135,
    "start_time": "2023-05-30T12:57:48.773Z"
   },
   {
    "duration": 5,
    "start_time": "2023-05-30T12:57:50.915Z"
   },
   {
    "duration": 1233,
    "start_time": "2023-05-30T12:57:50.926Z"
   },
   {
    "duration": 2740,
    "start_time": "2023-05-30T12:57:52.172Z"
   },
   {
    "duration": 1443,
    "start_time": "2023-05-30T12:57:54.924Z"
   },
   {
    "duration": 78,
    "start_time": "2023-05-30T12:57:56.369Z"
   },
   {
    "duration": 10,
    "start_time": "2023-05-30T12:57:56.448Z"
   },
   {
    "duration": 45,
    "start_time": "2023-05-30T12:57:56.459Z"
   },
   {
    "duration": 149,
    "start_time": "2023-05-30T12:57:56.506Z"
   },
   {
    "duration": 94,
    "start_time": "2023-05-30T12:57:56.657Z"
   },
   {
    "duration": 70,
    "start_time": "2023-05-30T12:57:56.753Z"
   },
   {
    "duration": 79,
    "start_time": "2023-05-30T12:57:56.825Z"
   },
   {
    "duration": 104,
    "start_time": "2023-05-30T12:57:56.906Z"
   },
   {
    "duration": 179,
    "start_time": "2023-05-30T12:57:57.015Z"
   },
   {
    "duration": 80,
    "start_time": "2023-05-30T12:57:57.196Z"
   },
   {
    "duration": 71,
    "start_time": "2023-05-30T12:57:57.288Z"
   },
   {
    "duration": 70,
    "start_time": "2023-05-30T12:57:57.368Z"
   },
   {
    "duration": 216,
    "start_time": "2023-05-30T12:57:57.443Z"
   },
   {
    "duration": 691,
    "start_time": "2023-05-30T12:57:57.661Z"
   },
   {
    "duration": 8,
    "start_time": "2023-05-30T12:57:58.354Z"
   },
   {
    "duration": 75,
    "start_time": "2023-05-30T12:57:58.364Z"
   },
   {
    "duration": 13,
    "start_time": "2023-05-30T12:57:58.442Z"
   },
   {
    "duration": 194,
    "start_time": "2023-05-30T12:57:58.457Z"
   },
   {
    "duration": 2333,
    "start_time": "2023-05-30T12:57:58.666Z"
   },
   {
    "duration": 115,
    "start_time": "2023-05-30T12:58:01.008Z"
   },
   {
    "duration": 111,
    "start_time": "2023-05-30T12:58:01.136Z"
   },
   {
    "duration": 166,
    "start_time": "2023-05-30T12:58:01.249Z"
   },
   {
    "duration": 172,
    "start_time": "2023-05-30T12:58:01.424Z"
   },
   {
    "duration": 104,
    "start_time": "2023-05-30T12:58:01.600Z"
   },
   {
    "duration": 145,
    "start_time": "2023-05-30T12:58:01.707Z"
   },
   {
    "duration": 32,
    "start_time": "2023-05-30T12:58:01.856Z"
   },
   {
    "duration": 187,
    "start_time": "2023-05-30T12:58:01.890Z"
   },
   {
    "duration": 51,
    "start_time": "2023-05-30T12:58:02.084Z"
   },
   {
    "duration": 242,
    "start_time": "2023-05-30T12:58:02.137Z"
   },
   {
    "duration": 77,
    "start_time": "2023-05-30T12:58:02.389Z"
   },
   {
    "duration": 2162,
    "start_time": "2023-05-30T12:58:48.373Z"
   },
   {
    "duration": 12,
    "start_time": "2023-05-30T12:58:50.537Z"
   },
   {
    "duration": 1293,
    "start_time": "2023-05-30T12:58:50.557Z"
   },
   {
    "duration": 2475,
    "start_time": "2023-05-30T12:58:51.852Z"
   },
   {
    "duration": 1334,
    "start_time": "2023-05-30T12:58:54.349Z"
   },
   {
    "duration": 90,
    "start_time": "2023-05-30T12:58:55.685Z"
   },
   {
    "duration": 67,
    "start_time": "2023-05-30T12:58:55.784Z"
   },
   {
    "duration": 108,
    "start_time": "2023-05-30T12:58:55.861Z"
   },
   {
    "duration": 90,
    "start_time": "2023-05-30T12:58:55.971Z"
   },
   {
    "duration": 80,
    "start_time": "2023-05-30T12:58:56.067Z"
   },
   {
    "duration": 172,
    "start_time": "2023-05-30T12:58:56.155Z"
   },
   {
    "duration": 93,
    "start_time": "2023-05-30T12:58:56.334Z"
   },
   {
    "duration": 158,
    "start_time": "2023-05-30T12:58:56.429Z"
   },
   {
    "duration": 123,
    "start_time": "2023-05-30T12:58:56.592Z"
   },
   {
    "duration": 115,
    "start_time": "2023-05-30T12:58:56.728Z"
   },
   {
    "duration": 155,
    "start_time": "2023-05-30T12:58:56.851Z"
   },
   {
    "duration": 103,
    "start_time": "2023-05-30T12:58:57.007Z"
   },
   {
    "duration": 175,
    "start_time": "2023-05-30T12:58:57.112Z"
   },
   {
    "duration": 764,
    "start_time": "2023-05-30T12:58:57.291Z"
   },
   {
    "duration": 22,
    "start_time": "2023-05-30T12:58:58.062Z"
   },
   {
    "duration": 97,
    "start_time": "2023-05-30T12:58:58.090Z"
   },
   {
    "duration": 20,
    "start_time": "2023-05-30T12:58:58.189Z"
   },
   {
    "duration": 128,
    "start_time": "2023-05-30T12:58:58.211Z"
   },
   {
    "duration": 2264,
    "start_time": "2023-05-30T12:58:58.341Z"
   },
   {
    "duration": 148,
    "start_time": "2023-05-30T12:59:00.607Z"
   },
   {
    "duration": 39,
    "start_time": "2023-05-30T12:59:00.757Z"
   },
   {
    "duration": 194,
    "start_time": "2023-05-30T12:59:00.798Z"
   },
   {
    "duration": 130,
    "start_time": "2023-05-30T12:59:00.995Z"
   },
   {
    "duration": 119,
    "start_time": "2023-05-30T12:59:01.140Z"
   },
   {
    "duration": 225,
    "start_time": "2023-05-30T12:59:01.266Z"
   },
   {
    "duration": 23,
    "start_time": "2023-05-30T12:59:01.512Z"
   },
   {
    "duration": 150,
    "start_time": "2023-05-30T12:59:01.537Z"
   },
   {
    "duration": 23,
    "start_time": "2023-05-30T12:59:01.692Z"
   },
   {
    "duration": 212,
    "start_time": "2023-05-30T12:59:01.719Z"
   },
   {
    "duration": 254,
    "start_time": "2023-05-30T12:59:01.933Z"
   },
   {
    "duration": 0,
    "start_time": "2023-05-30T12:59:02.191Z"
   },
   {
    "duration": 0,
    "start_time": "2023-05-30T12:59:02.193Z"
   },
   {
    "duration": 34,
    "start_time": "2023-05-30T13:05:09.401Z"
   },
   {
    "duration": 103,
    "start_time": "2023-05-30T13:05:09.585Z"
   },
   {
    "duration": 4,
    "start_time": "2023-05-30T13:05:09.776Z"
   },
   {
    "duration": 30,
    "start_time": "2023-05-30T13:05:10.293Z"
   },
   {
    "duration": 10,
    "start_time": "2023-05-30T13:05:10.799Z"
   },
   {
    "duration": 7,
    "start_time": "2023-05-30T13:05:11.276Z"
   },
   {
    "duration": 54,
    "start_time": "2023-05-30T13:05:11.790Z"
   },
   {
    "duration": 45,
    "start_time": "2023-05-30T13:05:12.138Z"
   },
   {
    "duration": 15,
    "start_time": "2023-05-30T13:05:12.387Z"
   },
   {
    "duration": 3,
    "start_time": "2023-05-30T13:05:12.683Z"
   },
   {
    "duration": 177,
    "start_time": "2023-05-30T13:05:13.011Z"
   },
   {
    "duration": 14,
    "start_time": "2023-05-30T13:05:13.499Z"
   },
   {
    "duration": 3,
    "start_time": "2023-05-30T13:05:59.174Z"
   },
   {
    "duration": 25,
    "start_time": "2023-05-30T13:05:59.548Z"
   },
   {
    "duration": 35,
    "start_time": "2023-05-30T13:05:59.837Z"
   },
   {
    "duration": 23,
    "start_time": "2023-05-30T13:11:23.962Z"
   },
   {
    "duration": 20,
    "start_time": "2023-05-30T13:11:46.962Z"
   },
   {
    "duration": 6,
    "start_time": "2023-05-30T13:15:21.781Z"
   },
   {
    "duration": 23,
    "start_time": "2023-05-30T13:15:21.790Z"
   },
   {
    "duration": 1071,
    "start_time": "2023-05-30T13:15:21.816Z"
   },
   {
    "duration": 2470,
    "start_time": "2023-05-30T13:15:22.888Z"
   },
   {
    "duration": 1074,
    "start_time": "2023-05-30T13:15:25.372Z"
   },
   {
    "duration": 46,
    "start_time": "2023-05-30T13:15:26.448Z"
   },
   {
    "duration": 12,
    "start_time": "2023-05-30T13:15:26.496Z"
   },
   {
    "duration": 89,
    "start_time": "2023-05-30T13:15:26.509Z"
   },
   {
    "duration": 55,
    "start_time": "2023-05-30T13:15:26.600Z"
   },
   {
    "duration": 58,
    "start_time": "2023-05-30T13:15:26.657Z"
   },
   {
    "duration": 80,
    "start_time": "2023-05-30T13:15:26.727Z"
   },
   {
    "duration": 62,
    "start_time": "2023-05-30T13:15:26.809Z"
   },
   {
    "duration": 31,
    "start_time": "2023-05-30T13:15:26.873Z"
   },
   {
    "duration": 29,
    "start_time": "2023-05-30T13:15:26.907Z"
   },
   {
    "duration": 74,
    "start_time": "2023-05-30T13:15:26.938Z"
   },
   {
    "duration": 69,
    "start_time": "2023-05-30T13:15:27.013Z"
   },
   {
    "duration": 74,
    "start_time": "2023-05-30T13:15:27.085Z"
   },
   {
    "duration": 134,
    "start_time": "2023-05-30T13:15:27.168Z"
   },
   {
    "duration": 469,
    "start_time": "2023-05-30T13:15:27.304Z"
   },
   {
    "duration": 10,
    "start_time": "2023-05-30T13:15:27.787Z"
   },
   {
    "duration": 52,
    "start_time": "2023-05-30T13:15:27.799Z"
   },
   {
    "duration": 25,
    "start_time": "2023-05-30T13:15:27.855Z"
   },
   {
    "duration": 72,
    "start_time": "2023-05-30T13:15:27.883Z"
   },
   {
    "duration": 2472,
    "start_time": "2023-05-30T13:15:27.957Z"
   },
   {
    "duration": 124,
    "start_time": "2023-05-30T13:15:30.435Z"
   },
   {
    "duration": 84,
    "start_time": "2023-05-30T13:15:30.571Z"
   },
   {
    "duration": 210,
    "start_time": "2023-05-30T13:15:30.673Z"
   },
   {
    "duration": 166,
    "start_time": "2023-05-30T13:15:30.893Z"
   },
   {
    "duration": 28,
    "start_time": "2023-05-30T13:15:31.066Z"
   },
   {
    "duration": 95,
    "start_time": "2023-05-30T13:15:31.101Z"
   },
   {
    "duration": 227,
    "start_time": "2023-05-30T13:15:31.198Z"
   },
   {
    "duration": 1143,
    "start_time": "2023-05-30T13:15:31.427Z"
   },
   {
    "duration": 0,
    "start_time": "2023-05-30T13:15:32.572Z"
   },
   {
    "duration": 0,
    "start_time": "2023-05-30T13:15:32.574Z"
   },
   {
    "duration": 0,
    "start_time": "2023-05-30T13:15:32.576Z"
   },
   {
    "duration": 0,
    "start_time": "2023-05-30T13:15:32.578Z"
   },
   {
    "duration": 0,
    "start_time": "2023-05-30T13:15:32.579Z"
   },
   {
    "duration": 0,
    "start_time": "2023-05-30T13:15:32.581Z"
   },
   {
    "duration": 0,
    "start_time": "2023-05-30T13:15:32.582Z"
   },
   {
    "duration": 0,
    "start_time": "2023-05-30T13:15:32.584Z"
   },
   {
    "duration": 0,
    "start_time": "2023-05-30T13:15:32.586Z"
   },
   {
    "duration": 28,
    "start_time": "2023-05-30T13:17:40.650Z"
   },
   {
    "duration": 3102,
    "start_time": "2023-05-30T13:20:16.065Z"
   },
   {
    "duration": 12,
    "start_time": "2023-05-30T13:20:19.170Z"
   },
   {
    "duration": 106,
    "start_time": "2023-05-30T13:20:19.185Z"
   },
   {
    "duration": 1417,
    "start_time": "2023-05-30T13:20:19.293Z"
   },
   {
    "duration": 2179,
    "start_time": "2023-05-30T13:20:20.713Z"
   },
   {
    "duration": 1038,
    "start_time": "2023-05-30T13:20:22.893Z"
   },
   {
    "duration": 54,
    "start_time": "2023-05-30T13:20:23.933Z"
   },
   {
    "duration": 6,
    "start_time": "2023-05-30T13:20:23.989Z"
   },
   {
    "duration": 59,
    "start_time": "2023-05-30T13:20:23.998Z"
   },
   {
    "duration": 67,
    "start_time": "2023-05-30T13:20:24.059Z"
   },
   {
    "duration": 92,
    "start_time": "2023-05-30T13:20:24.128Z"
   },
   {
    "duration": 74,
    "start_time": "2023-05-30T13:20:24.222Z"
   },
   {
    "duration": 52,
    "start_time": "2023-05-30T13:20:24.299Z"
   },
   {
    "duration": 110,
    "start_time": "2023-05-30T13:20:24.354Z"
   },
   {
    "duration": 101,
    "start_time": "2023-05-30T13:20:24.466Z"
   },
   {
    "duration": 34,
    "start_time": "2023-05-30T13:20:24.573Z"
   },
   {
    "duration": 38,
    "start_time": "2023-05-30T13:20:24.610Z"
   },
   {
    "duration": 61,
    "start_time": "2023-05-30T13:20:24.652Z"
   },
   {
    "duration": 320,
    "start_time": "2023-05-30T13:20:24.723Z"
   },
   {
    "duration": 610,
    "start_time": "2023-05-30T13:20:25.053Z"
   },
   {
    "duration": 13,
    "start_time": "2023-05-30T13:20:25.672Z"
   },
   {
    "duration": 26,
    "start_time": "2023-05-30T13:20:25.688Z"
   },
   {
    "duration": 35,
    "start_time": "2023-05-30T13:20:25.716Z"
   },
   {
    "duration": 82,
    "start_time": "2023-05-30T13:20:25.760Z"
   },
   {
    "duration": 2583,
    "start_time": "2023-05-30T13:20:25.844Z"
   },
   {
    "duration": 106,
    "start_time": "2023-05-30T13:20:28.429Z"
   },
   {
    "duration": 40,
    "start_time": "2023-05-30T13:20:28.539Z"
   },
   {
    "duration": 118,
    "start_time": "2023-05-30T13:20:28.582Z"
   },
   {
    "duration": 132,
    "start_time": "2023-05-30T13:20:28.702Z"
   },
   {
    "duration": 49,
    "start_time": "2023-05-30T13:20:28.842Z"
   },
   {
    "duration": 17,
    "start_time": "2023-05-30T13:20:28.892Z"
   },
   {
    "duration": 80,
    "start_time": "2023-05-30T13:20:28.911Z"
   },
   {
    "duration": 0,
    "start_time": "2023-05-30T13:20:28.993Z"
   },
   {
    "duration": 0,
    "start_time": "2023-05-30T13:20:28.994Z"
   },
   {
    "duration": 0,
    "start_time": "2023-05-30T13:20:28.996Z"
   },
   {
    "duration": 0,
    "start_time": "2023-05-30T13:20:28.997Z"
   },
   {
    "duration": 0,
    "start_time": "2023-05-30T13:20:28.998Z"
   },
   {
    "duration": 0,
    "start_time": "2023-05-30T13:20:28.999Z"
   },
   {
    "duration": 0,
    "start_time": "2023-05-30T13:20:29.000Z"
   },
   {
    "duration": 0,
    "start_time": "2023-05-30T13:20:29.002Z"
   },
   {
    "duration": 0,
    "start_time": "2023-05-30T13:20:29.002Z"
   },
   {
    "duration": 0,
    "start_time": "2023-05-30T13:20:29.004Z"
   },
   {
    "duration": 96,
    "start_time": "2023-05-30T13:21:23.195Z"
   },
   {
    "duration": 886,
    "start_time": "2023-05-30T13:21:32.302Z"
   },
   {
    "duration": 0,
    "start_time": "2023-05-30T13:21:33.190Z"
   },
   {
    "duration": 288,
    "start_time": "2023-05-30T13:21:33.391Z"
   },
   {
    "duration": 13,
    "start_time": "2023-05-30T13:21:44.405Z"
   },
   {
    "duration": 33,
    "start_time": "2023-05-30T13:25:01.306Z"
   },
   {
    "duration": 75,
    "start_time": "2023-05-30T13:25:01.511Z"
   },
   {
    "duration": 16,
    "start_time": "2023-05-30T13:25:01.665Z"
   },
   {
    "duration": 23,
    "start_time": "2023-05-30T13:27:33.850Z"
   },
   {
    "duration": 12,
    "start_time": "2023-05-30T13:29:45.694Z"
   },
   {
    "duration": 8,
    "start_time": "2023-05-30T13:30:05.590Z"
   },
   {
    "duration": 17,
    "start_time": "2023-05-30T13:30:29.253Z"
   },
   {
    "duration": 13,
    "start_time": "2023-05-30T13:30:44.197Z"
   },
   {
    "duration": 9,
    "start_time": "2023-05-30T13:31:41.674Z"
   },
   {
    "duration": 3,
    "start_time": "2023-05-30T13:31:58.791Z"
   },
   {
    "duration": 14,
    "start_time": "2023-05-30T13:34:07.460Z"
   },
   {
    "duration": 25,
    "start_time": "2023-05-30T13:34:08.056Z"
   },
   {
    "duration": 58,
    "start_time": "2023-05-30T13:34:38.304Z"
   },
   {
    "duration": 973,
    "start_time": "2023-05-30T13:34:42.877Z"
   },
   {
    "duration": 6750,
    "start_time": "2023-05-30T13:39:07.202Z"
   },
   {
    "duration": 2516,
    "start_time": "2023-05-30T13:39:21.952Z"
   },
   {
    "duration": 6,
    "start_time": "2023-05-30T13:39:24.471Z"
   },
   {
    "duration": 7,
    "start_time": "2023-05-30T13:39:24.479Z"
   },
   {
    "duration": 939,
    "start_time": "2023-05-30T13:39:24.488Z"
   },
   {
    "duration": 1713,
    "start_time": "2023-05-30T13:39:25.430Z"
   },
   {
    "duration": 841,
    "start_time": "2023-05-30T13:39:27.145Z"
   },
   {
    "duration": 52,
    "start_time": "2023-05-30T13:39:27.988Z"
   },
   {
    "duration": 14,
    "start_time": "2023-05-30T13:39:28.042Z"
   },
   {
    "duration": 52,
    "start_time": "2023-05-30T13:39:28.058Z"
   },
   {
    "duration": 33,
    "start_time": "2023-05-30T13:39:28.113Z"
   },
   {
    "duration": 26,
    "start_time": "2023-05-30T13:39:28.148Z"
   },
   {
    "duration": 19,
    "start_time": "2023-05-30T13:39:28.176Z"
   },
   {
    "duration": 47,
    "start_time": "2023-05-30T13:39:28.197Z"
   },
   {
    "duration": 21,
    "start_time": "2023-05-30T13:39:28.247Z"
   },
   {
    "duration": 20,
    "start_time": "2023-05-30T13:39:28.270Z"
   },
   {
    "duration": 55,
    "start_time": "2023-05-30T13:39:28.292Z"
   },
   {
    "duration": 20,
    "start_time": "2023-05-30T13:39:28.348Z"
   },
   {
    "duration": 37,
    "start_time": "2023-05-30T13:39:28.369Z"
   },
   {
    "duration": 95,
    "start_time": "2023-05-30T13:39:28.408Z"
   },
   {
    "duration": 556,
    "start_time": "2023-05-30T13:39:28.505Z"
   },
   {
    "duration": 7,
    "start_time": "2023-05-30T13:39:29.062Z"
   },
   {
    "duration": 52,
    "start_time": "2023-05-30T13:39:29.070Z"
   },
   {
    "duration": 15,
    "start_time": "2023-05-30T13:39:29.124Z"
   },
   {
    "duration": 54,
    "start_time": "2023-05-30T13:39:29.143Z"
   },
   {
    "duration": 1820,
    "start_time": "2023-05-30T13:39:29.199Z"
   },
   {
    "duration": 69,
    "start_time": "2023-05-30T13:39:31.035Z"
   },
   {
    "duration": 31,
    "start_time": "2023-05-30T13:39:31.106Z"
   },
   {
    "duration": 95,
    "start_time": "2023-05-30T13:39:31.142Z"
   },
   {
    "duration": 63,
    "start_time": "2023-05-30T13:39:31.239Z"
   },
   {
    "duration": 56,
    "start_time": "2023-05-30T13:39:31.303Z"
   },
   {
    "duration": 76,
    "start_time": "2023-05-30T13:39:31.361Z"
   },
   {
    "duration": 4,
    "start_time": "2023-05-30T13:39:31.439Z"
   },
   {
    "duration": 39,
    "start_time": "2023-05-30T13:39:31.445Z"
   },
   {
    "duration": 49,
    "start_time": "2023-05-30T13:39:31.486Z"
   },
   {
    "duration": 43,
    "start_time": "2023-05-30T13:39:31.537Z"
   },
   {
    "duration": 169,
    "start_time": "2023-05-30T13:39:31.582Z"
   },
   {
    "duration": 1028,
    "start_time": "2023-05-30T13:39:31.752Z"
   },
   {
    "duration": 0,
    "start_time": "2023-05-30T13:39:32.781Z"
   },
   {
    "duration": 0,
    "start_time": "2023-05-30T13:39:32.782Z"
   },
   {
    "duration": 0,
    "start_time": "2023-05-30T13:39:32.783Z"
   },
   {
    "duration": 6993,
    "start_time": "2023-05-30T13:41:23.174Z"
   },
   {
    "duration": 2412,
    "start_time": "2023-05-30T13:41:35.771Z"
   },
   {
    "duration": 1288,
    "start_time": "2023-05-30T13:41:38.186Z"
   },
   {
    "duration": 3,
    "start_time": "2023-05-30T13:41:39.475Z"
   },
   {
    "duration": 897,
    "start_time": "2023-05-30T13:41:39.479Z"
   },
   {
    "duration": 1720,
    "start_time": "2023-05-30T13:41:40.380Z"
   },
   {
    "duration": 871,
    "start_time": "2023-05-30T13:41:42.102Z"
   },
   {
    "duration": 46,
    "start_time": "2023-05-30T13:41:42.974Z"
   },
   {
    "duration": 13,
    "start_time": "2023-05-30T13:41:43.021Z"
   },
   {
    "duration": 35,
    "start_time": "2023-05-30T13:41:43.036Z"
   },
   {
    "duration": 30,
    "start_time": "2023-05-30T13:41:43.073Z"
   },
   {
    "duration": 37,
    "start_time": "2023-05-30T13:41:43.105Z"
   },
   {
    "duration": 23,
    "start_time": "2023-05-30T13:41:43.144Z"
   },
   {
    "duration": 31,
    "start_time": "2023-05-30T13:41:43.169Z"
   },
   {
    "duration": 21,
    "start_time": "2023-05-30T13:41:43.217Z"
   },
   {
    "duration": 40,
    "start_time": "2023-05-30T13:41:43.240Z"
   },
   {
    "duration": 40,
    "start_time": "2023-05-30T13:41:43.282Z"
   },
   {
    "duration": 29,
    "start_time": "2023-05-30T13:41:43.323Z"
   },
   {
    "duration": 36,
    "start_time": "2023-05-30T13:41:43.354Z"
   },
   {
    "duration": 83,
    "start_time": "2023-05-30T13:41:43.391Z"
   },
   {
    "duration": 448,
    "start_time": "2023-05-30T13:41:43.475Z"
   },
   {
    "duration": 8,
    "start_time": "2023-05-30T13:41:43.925Z"
   },
   {
    "duration": 37,
    "start_time": "2023-05-30T13:41:43.935Z"
   },
   {
    "duration": 9,
    "start_time": "2023-05-30T13:41:43.974Z"
   },
   {
    "duration": 80,
    "start_time": "2023-05-30T13:41:43.985Z"
   },
   {
    "duration": 2009,
    "start_time": "2023-05-30T13:41:44.067Z"
   },
   {
    "duration": 94,
    "start_time": "2023-05-30T13:41:46.077Z"
   },
   {
    "duration": 24,
    "start_time": "2023-05-30T13:41:46.173Z"
   },
   {
    "duration": 90,
    "start_time": "2023-05-30T13:41:46.198Z"
   },
   {
    "duration": 86,
    "start_time": "2023-05-30T13:41:46.289Z"
   },
   {
    "duration": 843,
    "start_time": "2023-05-30T13:41:46.377Z"
   },
   {
    "duration": 449,
    "start_time": "2023-05-30T13:41:47.222Z"
   },
   {
    "duration": 288,
    "start_time": "2023-05-30T13:41:47.673Z"
   },
   {
    "duration": 32,
    "start_time": "2023-05-30T13:41:47.963Z"
   },
   {
    "duration": 25,
    "start_time": "2023-05-30T13:41:47.997Z"
   },
   {
    "duration": 41,
    "start_time": "2023-05-30T13:41:48.025Z"
   },
   {
    "duration": 75,
    "start_time": "2023-05-30T13:41:48.068Z"
   },
   {
    "duration": 58,
    "start_time": "2023-05-30T13:42:38.489Z"
   },
   {
    "duration": 3919,
    "start_time": "2023-05-30T13:42:47.664Z"
   },
   {
    "duration": 6309,
    "start_time": "2023-05-30T13:42:51.586Z"
   },
   {
    "duration": 3,
    "start_time": "2023-05-30T13:42:57.897Z"
   },
   {
    "duration": 1349,
    "start_time": "2023-05-30T13:42:57.902Z"
   },
   {
    "duration": 1907,
    "start_time": "2023-05-30T13:42:59.253Z"
   },
   {
    "duration": 1038,
    "start_time": "2023-05-30T13:43:01.162Z"
   },
   {
    "duration": 49,
    "start_time": "2023-05-30T13:43:02.202Z"
   },
   {
    "duration": 6,
    "start_time": "2023-05-30T13:43:02.252Z"
   },
   {
    "duration": 63,
    "start_time": "2023-05-30T13:43:02.260Z"
   },
   {
    "duration": 37,
    "start_time": "2023-05-30T13:43:02.326Z"
   },
   {
    "duration": 47,
    "start_time": "2023-05-30T13:43:02.364Z"
   },
   {
    "duration": 55,
    "start_time": "2023-05-30T13:43:02.413Z"
   },
   {
    "duration": 36,
    "start_time": "2023-05-30T13:43:02.471Z"
   },
   {
    "duration": 56,
    "start_time": "2023-05-30T13:43:02.510Z"
   },
   {
    "duration": 20,
    "start_time": "2023-05-30T13:43:02.568Z"
   },
   {
    "duration": 25,
    "start_time": "2023-05-30T13:43:02.590Z"
   },
   {
    "duration": 38,
    "start_time": "2023-05-30T13:43:02.617Z"
   },
   {
    "duration": 111,
    "start_time": "2023-05-30T13:43:02.657Z"
   },
   {
    "duration": 118,
    "start_time": "2023-05-30T13:43:02.770Z"
   },
   {
    "duration": 493,
    "start_time": "2023-05-30T13:43:02.889Z"
   },
   {
    "duration": 7,
    "start_time": "2023-05-30T13:43:03.383Z"
   },
   {
    "duration": 45,
    "start_time": "2023-05-30T13:43:03.392Z"
   },
   {
    "duration": 8,
    "start_time": "2023-05-30T13:43:03.440Z"
   },
   {
    "duration": 51,
    "start_time": "2023-05-30T13:43:03.449Z"
   },
   {
    "duration": 1991,
    "start_time": "2023-05-30T13:43:03.502Z"
   },
   {
    "duration": 100,
    "start_time": "2023-05-30T13:43:05.495Z"
   },
   {
    "duration": 30,
    "start_time": "2023-05-30T13:43:05.597Z"
   },
   {
    "duration": 86,
    "start_time": "2023-05-30T13:43:05.633Z"
   },
   {
    "duration": 71,
    "start_time": "2023-05-30T13:43:05.721Z"
   },
   {
    "duration": 23,
    "start_time": "2023-05-30T13:43:05.794Z"
   },
   {
    "duration": 48,
    "start_time": "2023-05-30T13:43:05.820Z"
   },
   {
    "duration": 5,
    "start_time": "2023-05-30T13:43:05.869Z"
   },
   {
    "duration": 24,
    "start_time": "2023-05-30T13:43:05.875Z"
   },
   {
    "duration": 21,
    "start_time": "2023-05-30T13:43:05.901Z"
   },
   {
    "duration": 48,
    "start_time": "2023-05-30T13:43:05.924Z"
   },
   {
    "duration": 82,
    "start_time": "2023-05-30T13:43:05.973Z"
   },
   {
    "duration": 42474,
    "start_time": "2023-05-30T13:43:06.057Z"
   },
   {
    "duration": 254,
    "start_time": "2023-05-30T13:43:48.534Z"
   },
   {
    "duration": 15,
    "start_time": "2023-05-30T13:43:48.789Z"
   },
   {
    "duration": 0,
    "start_time": "2023-05-30T13:43:48.806Z"
   },
   {
    "duration": 563,
    "start_time": "2023-05-30T13:43:53.814Z"
   },
   {
    "duration": 59,
    "start_time": "2023-05-30T13:44:45.687Z"
   },
   {
    "duration": 210,
    "start_time": "2023-05-30T13:44:45.982Z"
   },
   {
    "duration": 17,
    "start_time": "2023-05-30T13:46:02.192Z"
   },
   {
    "duration": 2,
    "start_time": "2023-05-30T13:46:20.253Z"
   },
   {
    "duration": 689,
    "start_time": "2023-05-30T13:46:20.683Z"
   },
   {
    "duration": 23,
    "start_time": "2023-05-30T13:46:52.464Z"
   },
   {
    "duration": 54,
    "start_time": "2023-05-30T13:47:02.460Z"
   },
   {
    "duration": 2752,
    "start_time": "2023-05-30T13:49:12.095Z"
   },
   {
    "duration": 2072,
    "start_time": "2023-05-30T13:49:14.850Z"
   },
   {
    "duration": 2,
    "start_time": "2023-05-30T13:49:16.924Z"
   },
   {
    "duration": 1624,
    "start_time": "2023-05-30T13:49:16.928Z"
   },
   {
    "duration": 2685,
    "start_time": "2023-05-30T13:49:18.555Z"
   },
   {
    "duration": 1149,
    "start_time": "2023-05-30T13:49:21.244Z"
   },
   {
    "duration": 57,
    "start_time": "2023-05-30T13:49:22.395Z"
   },
   {
    "duration": 9,
    "start_time": "2023-05-30T13:49:22.454Z"
   },
   {
    "duration": 28,
    "start_time": "2023-05-30T13:49:22.465Z"
   },
   {
    "duration": 42,
    "start_time": "2023-05-30T13:49:22.494Z"
   },
   {
    "duration": 33,
    "start_time": "2023-05-30T13:49:22.538Z"
   },
   {
    "duration": 29,
    "start_time": "2023-05-30T13:49:22.572Z"
   },
   {
    "duration": 46,
    "start_time": "2023-05-30T13:49:22.604Z"
   },
   {
    "duration": 40,
    "start_time": "2023-05-30T13:49:22.655Z"
   },
   {
    "duration": 39,
    "start_time": "2023-05-30T13:49:22.697Z"
   },
   {
    "duration": 45,
    "start_time": "2023-05-30T13:49:22.737Z"
   },
   {
    "duration": 54,
    "start_time": "2023-05-30T13:49:22.787Z"
   },
   {
    "duration": 39,
    "start_time": "2023-05-30T13:49:22.845Z"
   },
   {
    "duration": 160,
    "start_time": "2023-05-30T13:49:22.886Z"
   },
   {
    "duration": 638,
    "start_time": "2023-05-30T13:49:23.049Z"
   },
   {
    "duration": 9,
    "start_time": "2023-05-30T13:49:23.689Z"
   },
   {
    "duration": 48,
    "start_time": "2023-05-30T13:49:23.700Z"
   },
   {
    "duration": 9,
    "start_time": "2023-05-30T13:49:23.751Z"
   },
   {
    "duration": 82,
    "start_time": "2023-05-30T13:49:23.762Z"
   },
   {
    "duration": 2348,
    "start_time": "2023-05-30T13:49:23.847Z"
   },
   {
    "duration": 114,
    "start_time": "2023-05-30T13:49:26.200Z"
   },
   {
    "duration": 25,
    "start_time": "2023-05-30T13:49:26.318Z"
   },
   {
    "duration": 147,
    "start_time": "2023-05-30T13:49:26.345Z"
   },
   {
    "duration": 128,
    "start_time": "2023-05-30T13:49:26.495Z"
   },
   {
    "duration": 26,
    "start_time": "2023-05-30T13:49:26.632Z"
   },
   {
    "duration": 55,
    "start_time": "2023-05-30T13:49:26.659Z"
   },
   {
    "duration": 17,
    "start_time": "2023-05-30T13:49:26.716Z"
   },
   {
    "duration": 43,
    "start_time": "2023-05-30T13:49:26.734Z"
   },
   {
    "duration": 9,
    "start_time": "2023-05-30T13:49:26.779Z"
   },
   {
    "duration": 16,
    "start_time": "2023-05-30T13:49:26.790Z"
   },
   {
    "duration": 72,
    "start_time": "2023-05-30T13:49:26.809Z"
   },
   {
    "duration": 45571,
    "start_time": "2023-05-30T13:49:26.883Z"
   },
   {
    "duration": 2,
    "start_time": "2023-05-30T13:50:12.469Z"
   },
   {
    "duration": 204,
    "start_time": "2023-05-30T13:50:12.473Z"
   },
   {
    "duration": 323,
    "start_time": "2023-05-30T13:50:28.287Z"
   },
   {
    "duration": 25,
    "start_time": "2023-05-30T13:50:28.612Z"
   },
   {
    "duration": 0,
    "start_time": "2023-05-30T13:50:28.639Z"
   },
   {
    "duration": 0,
    "start_time": "2023-05-30T13:50:28.640Z"
   },
   {
    "duration": 0,
    "start_time": "2023-05-30T13:50:28.641Z"
   },
   {
    "duration": 4,
    "start_time": "2023-05-30T13:50:28.867Z"
   },
   {
    "duration": 1465,
    "start_time": "2023-05-30T13:53:26.608Z"
   },
   {
    "duration": 14,
    "start_time": "2023-05-30T13:54:47.855Z"
   },
   {
    "duration": 98,
    "start_time": "2023-05-30T13:56:03.670Z"
   },
   {
    "duration": 3200,
    "start_time": "2023-05-30T13:56:24.191Z"
   },
   {
    "duration": 1616,
    "start_time": "2023-05-30T13:56:27.395Z"
   },
   {
    "duration": 9,
    "start_time": "2023-05-30T13:56:29.013Z"
   },
   {
    "duration": 1177,
    "start_time": "2023-05-30T13:56:29.025Z"
   },
   {
    "duration": 2505,
    "start_time": "2023-05-30T13:56:30.206Z"
   },
   {
    "duration": 1444,
    "start_time": "2023-05-30T13:56:32.714Z"
   },
   {
    "duration": 59,
    "start_time": "2023-05-30T13:56:34.160Z"
   },
   {
    "duration": 20,
    "start_time": "2023-05-30T13:56:34.221Z"
   },
   {
    "duration": 36,
    "start_time": "2023-05-30T13:56:34.243Z"
   },
   {
    "duration": 41,
    "start_time": "2023-05-30T13:56:34.282Z"
   },
   {
    "duration": 42,
    "start_time": "2023-05-30T13:56:34.326Z"
   },
   {
    "duration": 43,
    "start_time": "2023-05-30T13:56:34.370Z"
   },
   {
    "duration": 53,
    "start_time": "2023-05-30T13:56:34.419Z"
   },
   {
    "duration": 47,
    "start_time": "2023-05-30T13:56:34.478Z"
   },
   {
    "duration": 37,
    "start_time": "2023-05-30T13:56:34.527Z"
   },
   {
    "duration": 81,
    "start_time": "2023-05-30T13:56:34.566Z"
   },
   {
    "duration": 87,
    "start_time": "2023-05-30T13:56:34.649Z"
   },
   {
    "duration": 95,
    "start_time": "2023-05-30T13:56:34.738Z"
   },
   {
    "duration": 159,
    "start_time": "2023-05-30T13:56:34.835Z"
   },
   {
    "duration": 642,
    "start_time": "2023-05-30T13:56:34.996Z"
   },
   {
    "duration": 9,
    "start_time": "2023-05-30T13:56:35.641Z"
   },
   {
    "duration": 68,
    "start_time": "2023-05-30T13:56:35.652Z"
   },
   {
    "duration": 10,
    "start_time": "2023-05-30T13:56:35.723Z"
   },
   {
    "duration": 87,
    "start_time": "2023-05-30T13:56:35.735Z"
   },
   {
    "duration": 2805,
    "start_time": "2023-05-30T13:56:35.824Z"
   },
   {
    "duration": 114,
    "start_time": "2023-05-30T13:56:38.631Z"
   },
   {
    "duration": 27,
    "start_time": "2023-05-30T13:56:38.748Z"
   },
   {
    "duration": 110,
    "start_time": "2023-05-30T13:56:38.778Z"
   },
   {
    "duration": 132,
    "start_time": "2023-05-30T13:56:38.890Z"
   },
   {
    "duration": 515,
    "start_time": "2023-05-30T13:56:39.024Z"
   },
   {
    "duration": 18,
    "start_time": "2023-05-30T13:56:39.542Z"
   },
   {
    "duration": 25,
    "start_time": "2023-05-30T13:56:39.562Z"
   },
   {
    "duration": 112,
    "start_time": "2023-05-30T13:56:39.589Z"
   },
   {
    "duration": 5,
    "start_time": "2023-05-30T13:56:39.703Z"
   },
   {
    "duration": 16,
    "start_time": "2023-05-30T13:56:39.717Z"
   },
   {
    "duration": 36,
    "start_time": "2023-05-30T13:56:39.735Z"
   },
   {
    "duration": 8,
    "start_time": "2023-05-30T13:56:39.774Z"
   },
   {
    "duration": 37,
    "start_time": "2023-05-30T13:56:39.785Z"
   },
   {
    "duration": 32310,
    "start_time": "2023-05-30T13:56:39.825Z"
   },
   {
    "duration": 3,
    "start_time": "2023-05-30T13:57:12.137Z"
   },
   {
    "duration": 3355,
    "start_time": "2023-05-30T13:57:12.144Z"
   },
   {
    "duration": 11577,
    "start_time": "2023-05-30T13:57:15.501Z"
   },
   {
    "duration": 5,
    "start_time": "2023-05-30T13:57:27.080Z"
   },
   {
    "duration": 1375,
    "start_time": "2023-05-30T13:57:27.087Z"
   },
   {
    "duration": 14,
    "start_time": "2023-05-30T13:57:28.464Z"
   },
   {
    "duration": 0,
    "start_time": "2023-05-30T13:57:28.480Z"
   },
   {
    "duration": 31,
    "start_time": "2023-05-30T14:01:01.675Z"
   },
   {
    "duration": 35,
    "start_time": "2023-05-30T14:01:45.771Z"
   },
   {
    "duration": 51,
    "start_time": "2023-05-30T14:02:56.176Z"
   },
   {
    "duration": 29,
    "start_time": "2023-05-30T14:03:14.169Z"
   },
   {
    "duration": 36,
    "start_time": "2023-05-30T14:03:33.162Z"
   },
   {
    "duration": 53,
    "start_time": "2023-05-30T14:04:02.290Z"
   },
   {
    "duration": 26,
    "start_time": "2023-05-30T14:04:37.857Z"
   },
   {
    "duration": 30,
    "start_time": "2023-05-30T14:05:06.003Z"
   },
   {
    "duration": 29,
    "start_time": "2023-05-30T15:21:37.745Z"
   },
   {
    "duration": 85,
    "start_time": "2023-05-30T15:21:38.195Z"
   },
   {
    "duration": 5,
    "start_time": "2023-05-30T15:21:38.359Z"
   },
   {
    "duration": 5277,
    "start_time": "2023-05-30T15:21:52.212Z"
   },
   {
    "duration": 6282,
    "start_time": "2023-05-30T15:21:57.493Z"
   },
   {
    "duration": 3,
    "start_time": "2023-05-30T15:22:03.778Z"
   },
   {
    "duration": 1931,
    "start_time": "2023-05-30T15:22:03.783Z"
   },
   {
    "duration": 2231,
    "start_time": "2023-05-30T15:22:05.726Z"
   },
   {
    "duration": 1356,
    "start_time": "2023-05-30T15:22:07.959Z"
   },
   {
    "duration": 47,
    "start_time": "2023-05-30T15:22:09.318Z"
   },
   {
    "duration": 8,
    "start_time": "2023-05-30T15:22:09.368Z"
   },
   {
    "duration": 69,
    "start_time": "2023-05-30T15:22:09.382Z"
   },
   {
    "duration": 63,
    "start_time": "2023-05-30T15:22:09.453Z"
   },
   {
    "duration": 45,
    "start_time": "2023-05-30T15:22:09.519Z"
   },
   {
    "duration": 41,
    "start_time": "2023-05-30T15:22:09.566Z"
   },
   {
    "duration": 42,
    "start_time": "2023-05-30T15:22:09.609Z"
   },
   {
    "duration": 45,
    "start_time": "2023-05-30T15:22:09.657Z"
   },
   {
    "duration": 44,
    "start_time": "2023-05-30T15:22:09.704Z"
   },
   {
    "duration": 36,
    "start_time": "2023-05-30T15:22:09.750Z"
   },
   {
    "duration": 44,
    "start_time": "2023-05-30T15:22:09.789Z"
   },
   {
    "duration": 31,
    "start_time": "2023-05-30T15:22:09.834Z"
   },
   {
    "duration": 160,
    "start_time": "2023-05-30T15:22:09.867Z"
   },
   {
    "duration": 576,
    "start_time": "2023-05-30T15:22:10.030Z"
   },
   {
    "duration": 14,
    "start_time": "2023-05-30T15:22:10.609Z"
   },
   {
    "duration": 35,
    "start_time": "2023-05-30T15:22:10.626Z"
   },
   {
    "duration": 9,
    "start_time": "2023-05-30T15:22:10.663Z"
   },
   {
    "duration": 88,
    "start_time": "2023-05-30T15:22:10.674Z"
   },
   {
    "duration": 2232,
    "start_time": "2023-05-30T15:22:10.765Z"
   },
   {
    "duration": 84,
    "start_time": "2023-05-30T15:22:12.999Z"
   },
   {
    "duration": 22,
    "start_time": "2023-05-30T15:22:13.085Z"
   },
   {
    "duration": 124,
    "start_time": "2023-05-30T15:22:13.119Z"
   },
   {
    "duration": 101,
    "start_time": "2023-05-30T15:22:13.245Z"
   },
   {
    "duration": 14,
    "start_time": "2023-05-30T15:22:13.348Z"
   },
   {
    "duration": 93,
    "start_time": "2023-05-30T15:22:13.364Z"
   },
   {
    "duration": 5,
    "start_time": "2023-05-30T15:22:13.459Z"
   },
   {
    "duration": 42,
    "start_time": "2023-05-30T15:22:13.468Z"
   },
   {
    "duration": 7781,
    "start_time": "2023-05-31T09:04:37.789Z"
   },
   {
    "duration": 1474,
    "start_time": "2023-05-31T09:04:45.572Z"
   },
   {
    "duration": 2,
    "start_time": "2023-05-31T09:04:47.048Z"
   },
   {
    "duration": 953,
    "start_time": "2023-05-31T09:04:47.052Z"
   },
   {
    "duration": 1413,
    "start_time": "2023-05-31T09:04:48.007Z"
   },
   {
    "duration": 752,
    "start_time": "2023-05-31T09:04:49.421Z"
   },
   {
    "duration": 37,
    "start_time": "2023-05-31T09:04:50.174Z"
   },
   {
    "duration": 15,
    "start_time": "2023-05-31T09:04:50.213Z"
   },
   {
    "duration": 30,
    "start_time": "2023-05-31T09:04:50.229Z"
   },
   {
    "duration": 27,
    "start_time": "2023-05-31T09:04:50.261Z"
   },
   {
    "duration": 22,
    "start_time": "2023-05-31T09:04:50.289Z"
   },
   {
    "duration": 22,
    "start_time": "2023-05-31T09:04:50.312Z"
   },
   {
    "duration": 21,
    "start_time": "2023-05-31T09:04:50.336Z"
   },
   {
    "duration": 22,
    "start_time": "2023-05-31T09:04:50.360Z"
   },
   {
    "duration": 39,
    "start_time": "2023-05-31T09:04:50.384Z"
   },
   {
    "duration": 20,
    "start_time": "2023-05-31T09:04:50.425Z"
   },
   {
    "duration": 32,
    "start_time": "2023-05-31T09:04:50.447Z"
   },
   {
    "duration": 43,
    "start_time": "2023-05-31T09:04:50.480Z"
   },
   {
    "duration": 66,
    "start_time": "2023-05-31T09:04:50.525Z"
   },
   {
    "duration": 346,
    "start_time": "2023-05-31T09:04:50.593Z"
   },
   {
    "duration": 7,
    "start_time": "2023-05-31T09:04:50.941Z"
   },
   {
    "duration": 42,
    "start_time": "2023-05-31T09:04:50.950Z"
   },
   {
    "duration": 32,
    "start_time": "2023-05-31T09:04:50.994Z"
   },
   {
    "duration": 66,
    "start_time": "2023-05-31T09:04:51.027Z"
   },
   {
    "duration": 1625,
    "start_time": "2023-05-31T09:04:51.094Z"
   },
   {
    "duration": 71,
    "start_time": "2023-05-31T09:04:52.721Z"
   },
   {
    "duration": 20,
    "start_time": "2023-05-31T09:04:52.793Z"
   },
   {
    "duration": 79,
    "start_time": "2023-05-31T09:04:52.814Z"
   },
   {
    "duration": 57,
    "start_time": "2023-05-31T09:04:52.894Z"
   },
   {
    "duration": 51,
    "start_time": "2023-05-31T09:04:52.953Z"
   },
   {
    "duration": 76,
    "start_time": "2023-05-31T09:04:53.006Z"
   },
   {
    "duration": 5,
    "start_time": "2023-05-31T09:04:53.083Z"
   },
   {
    "duration": 30,
    "start_time": "2023-05-31T09:04:53.090Z"
   },
   {
    "duration": 115,
    "start_time": "2023-05-31T09:05:17.487Z"
   },
   {
    "duration": 3,
    "start_time": "2023-05-31T09:05:41.740Z"
   },
   {
    "duration": 15,
    "start_time": "2023-05-31T09:08:09.280Z"
   },
   {
    "duration": 4,
    "start_time": "2023-05-31T09:09:36.826Z"
   },
   {
    "duration": 11,
    "start_time": "2023-05-31T09:10:21.639Z"
   },
   {
    "duration": 6,
    "start_time": "2023-05-31T09:10:27.443Z"
   },
   {
    "duration": 13,
    "start_time": "2023-05-31T09:12:06.387Z"
   },
   {
    "duration": 522,
    "start_time": "2023-05-31T09:14:22.857Z"
   },
   {
    "duration": 192,
    "start_time": "2023-05-31T09:15:52.647Z"
   },
   {
    "duration": 34,
    "start_time": "2023-05-31T09:19:14.838Z"
   },
   {
    "duration": 10,
    "start_time": "2023-05-31T09:21:53.841Z"
   },
   {
    "duration": 2066,
    "start_time": "2023-05-31T09:21:59.940Z"
   },
   {
    "duration": 5,
    "start_time": "2023-05-31T09:22:02.008Z"
   },
   {
    "duration": 222,
    "start_time": "2023-05-31T09:22:02.015Z"
   },
   {
    "duration": 768,
    "start_time": "2023-05-31T09:22:02.239Z"
   },
   {
    "duration": 1373,
    "start_time": "2023-05-31T09:22:03.009Z"
   },
   {
    "duration": 731,
    "start_time": "2023-05-31T09:22:04.385Z"
   },
   {
    "duration": 33,
    "start_time": "2023-05-31T09:22:05.117Z"
   },
   {
    "duration": 14,
    "start_time": "2023-05-31T09:22:05.151Z"
   },
   {
    "duration": 40,
    "start_time": "2023-05-31T09:22:05.167Z"
   },
   {
    "duration": 35,
    "start_time": "2023-05-31T09:22:05.209Z"
   },
   {
    "duration": 23,
    "start_time": "2023-05-31T09:22:05.246Z"
   },
   {
    "duration": 27,
    "start_time": "2023-05-31T09:22:05.271Z"
   },
   {
    "duration": 30,
    "start_time": "2023-05-31T09:22:05.299Z"
   },
   {
    "duration": 37,
    "start_time": "2023-05-31T09:22:05.332Z"
   },
   {
    "duration": 37,
    "start_time": "2023-05-31T09:22:05.370Z"
   },
   {
    "duration": 21,
    "start_time": "2023-05-31T09:22:05.409Z"
   },
   {
    "duration": 18,
    "start_time": "2023-05-31T09:22:05.432Z"
   },
   {
    "duration": 38,
    "start_time": "2023-05-31T09:22:05.451Z"
   },
   {
    "duration": 82,
    "start_time": "2023-05-31T09:22:05.490Z"
   },
   {
    "duration": 342,
    "start_time": "2023-05-31T09:22:05.574Z"
   },
   {
    "duration": 6,
    "start_time": "2023-05-31T09:22:05.918Z"
   },
   {
    "duration": 36,
    "start_time": "2023-05-31T09:22:05.925Z"
   },
   {
    "duration": 6,
    "start_time": "2023-05-31T09:22:05.963Z"
   },
   {
    "duration": 55,
    "start_time": "2023-05-31T09:22:05.970Z"
   },
   {
    "duration": 1633,
    "start_time": "2023-05-31T09:22:06.026Z"
   },
   {
    "duration": 67,
    "start_time": "2023-05-31T09:22:07.661Z"
   },
   {
    "duration": 18,
    "start_time": "2023-05-31T09:22:07.730Z"
   },
   {
    "duration": 71,
    "start_time": "2023-05-31T09:22:07.750Z"
   },
   {
    "duration": 62,
    "start_time": "2023-05-31T09:22:07.823Z"
   },
   {
    "duration": 15,
    "start_time": "2023-05-31T09:22:07.887Z"
   },
   {
    "duration": 40,
    "start_time": "2023-05-31T09:22:07.903Z"
   },
   {
    "duration": 3,
    "start_time": "2023-05-31T09:22:07.945Z"
   },
   {
    "duration": 39,
    "start_time": "2023-05-31T09:22:07.950Z"
   },
   {
    "duration": 16,
    "start_time": "2023-05-31T09:22:07.990Z"
   },
   {
    "duration": 16,
    "start_time": "2023-05-31T09:22:08.008Z"
   },
   {
    "duration": 11,
    "start_time": "2023-05-31T09:22:08.025Z"
   },
   {
    "duration": 519,
    "start_time": "2023-05-31T09:22:08.037Z"
   },
   {
    "duration": 196,
    "start_time": "2023-05-31T09:22:08.557Z"
   },
   {
    "duration": 11,
    "start_time": "2023-05-31T09:22:08.755Z"
   },
   {
    "duration": 0,
    "start_time": "2023-05-31T09:22:08.768Z"
   },
   {
    "duration": 31,
    "start_time": "2023-05-31T09:22:48.487Z"
   },
   {
    "duration": 2205,
    "start_time": "2023-05-31T09:22:52.994Z"
   },
   {
    "duration": 5,
    "start_time": "2023-05-31T09:22:55.201Z"
   },
   {
    "duration": 12,
    "start_time": "2023-05-31T09:22:55.207Z"
   },
   {
    "duration": 677,
    "start_time": "2023-05-31T09:22:55.221Z"
   },
   {
    "duration": 1392,
    "start_time": "2023-05-31T09:22:55.900Z"
   },
   {
    "duration": 705,
    "start_time": "2023-05-31T09:22:57.294Z"
   },
   {
    "duration": 34,
    "start_time": "2023-05-31T09:22:58.001Z"
   },
   {
    "duration": 6,
    "start_time": "2023-05-31T09:22:58.036Z"
   },
   {
    "duration": 31,
    "start_time": "2023-05-31T09:22:58.043Z"
   },
   {
    "duration": 55,
    "start_time": "2023-05-31T09:22:58.075Z"
   },
   {
    "duration": 52,
    "start_time": "2023-05-31T09:22:58.132Z"
   },
   {
    "duration": 47,
    "start_time": "2023-05-31T09:22:58.185Z"
   },
   {
    "duration": 41,
    "start_time": "2023-05-31T09:22:58.233Z"
   },
   {
    "duration": 40,
    "start_time": "2023-05-31T09:22:58.277Z"
   },
   {
    "duration": 49,
    "start_time": "2023-05-31T09:22:58.319Z"
   },
   {
    "duration": 38,
    "start_time": "2023-05-31T09:22:58.370Z"
   },
   {
    "duration": 44,
    "start_time": "2023-05-31T09:22:58.409Z"
   },
   {
    "duration": 36,
    "start_time": "2023-05-31T09:22:58.455Z"
   },
   {
    "duration": 66,
    "start_time": "2023-05-31T09:22:58.493Z"
   },
   {
    "duration": 354,
    "start_time": "2023-05-31T09:22:58.561Z"
   },
   {
    "duration": 7,
    "start_time": "2023-05-31T09:22:58.917Z"
   },
   {
    "duration": 54,
    "start_time": "2023-05-31T09:22:58.926Z"
   },
   {
    "duration": 21,
    "start_time": "2023-05-31T09:22:58.982Z"
   },
   {
    "duration": 69,
    "start_time": "2023-05-31T09:22:59.004Z"
   },
   {
    "duration": 1465,
    "start_time": "2023-05-31T09:22:59.074Z"
   },
   {
    "duration": 66,
    "start_time": "2023-05-31T09:23:00.540Z"
   },
   {
    "duration": 44,
    "start_time": "2023-05-31T09:23:00.607Z"
   },
   {
    "duration": 166,
    "start_time": "2023-05-31T09:23:00.652Z"
   },
   {
    "duration": 57,
    "start_time": "2023-05-31T09:23:00.820Z"
   },
   {
    "duration": 42,
    "start_time": "2023-05-31T09:23:00.879Z"
   },
   {
    "duration": 74,
    "start_time": "2023-05-31T09:23:00.922Z"
   },
   {
    "duration": 4,
    "start_time": "2023-05-31T09:23:00.997Z"
   },
   {
    "duration": 41,
    "start_time": "2023-05-31T09:23:01.002Z"
   },
   {
    "duration": 93,
    "start_time": "2023-05-31T09:23:01.044Z"
   },
   {
    "duration": 56,
    "start_time": "2023-05-31T09:23:01.139Z"
   },
   {
    "duration": 94,
    "start_time": "2023-05-31T09:23:01.197Z"
   },
   {
    "duration": 618,
    "start_time": "2023-05-31T09:23:01.292Z"
   },
   {
    "duration": 301,
    "start_time": "2023-05-31T09:23:01.912Z"
   },
   {
    "duration": 31,
    "start_time": "2023-05-31T09:23:02.215Z"
   },
   {
    "duration": 0,
    "start_time": "2023-05-31T09:23:02.248Z"
   },
   {
    "duration": 30,
    "start_time": "2023-05-31T09:32:24.011Z"
   },
   {
    "duration": 29,
    "start_time": "2023-05-31T09:33:33.500Z"
   },
   {
    "duration": 2116,
    "start_time": "2023-05-31T09:33:41.392Z"
   },
   {
    "duration": 1258,
    "start_time": "2023-05-31T09:33:43.511Z"
   },
   {
    "duration": 3,
    "start_time": "2023-05-31T09:33:44.771Z"
   },
   {
    "duration": 760,
    "start_time": "2023-05-31T09:33:44.775Z"
   },
   {
    "duration": 1512,
    "start_time": "2023-05-31T09:33:45.537Z"
   },
   {
    "duration": 773,
    "start_time": "2023-05-31T09:33:47.051Z"
   },
   {
    "duration": 36,
    "start_time": "2023-05-31T09:33:47.825Z"
   },
   {
    "duration": 5,
    "start_time": "2023-05-31T09:33:47.863Z"
   },
   {
    "duration": 20,
    "start_time": "2023-05-31T09:33:47.884Z"
   },
   {
    "duration": 21,
    "start_time": "2023-05-31T09:33:47.905Z"
   },
   {
    "duration": 21,
    "start_time": "2023-05-31T09:33:47.927Z"
   },
   {
    "duration": 36,
    "start_time": "2023-05-31T09:33:47.949Z"
   },
   {
    "duration": 18,
    "start_time": "2023-05-31T09:33:47.986Z"
   },
   {
    "duration": 31,
    "start_time": "2023-05-31T09:33:48.007Z"
   },
   {
    "duration": 19,
    "start_time": "2023-05-31T09:33:48.039Z"
   },
   {
    "duration": 31,
    "start_time": "2023-05-31T09:33:48.059Z"
   },
   {
    "duration": 20,
    "start_time": "2023-05-31T09:33:48.091Z"
   },
   {
    "duration": 23,
    "start_time": "2023-05-31T09:33:48.112Z"
   },
   {
    "duration": 77,
    "start_time": "2023-05-31T09:33:48.136Z"
   },
   {
    "duration": 352,
    "start_time": "2023-05-31T09:33:48.215Z"
   },
   {
    "duration": 6,
    "start_time": "2023-05-31T09:33:48.568Z"
   },
   {
    "duration": 27,
    "start_time": "2023-05-31T09:33:48.575Z"
   },
   {
    "duration": 8,
    "start_time": "2023-05-31T09:33:48.603Z"
   },
   {
    "duration": 44,
    "start_time": "2023-05-31T09:33:48.613Z"
   },
   {
    "duration": 1544,
    "start_time": "2023-05-31T09:33:48.658Z"
   },
   {
    "duration": 66,
    "start_time": "2023-05-31T09:33:50.203Z"
   },
   {
    "duration": 24,
    "start_time": "2023-05-31T09:33:50.270Z"
   },
   {
    "duration": 66,
    "start_time": "2023-05-31T09:33:50.296Z"
   },
   {
    "duration": 88,
    "start_time": "2023-05-31T09:33:50.364Z"
   },
   {
    "duration": 14,
    "start_time": "2023-05-31T09:33:50.453Z"
   },
   {
    "duration": 60,
    "start_time": "2023-05-31T09:33:50.469Z"
   },
   {
    "duration": 4,
    "start_time": "2023-05-31T09:33:50.531Z"
   },
   {
    "duration": 16,
    "start_time": "2023-05-31T09:33:50.537Z"
   },
   {
    "duration": 11,
    "start_time": "2023-05-31T09:33:50.555Z"
   },
   {
    "duration": 6,
    "start_time": "2023-05-31T09:33:50.585Z"
   },
   {
    "duration": 28,
    "start_time": "2023-05-31T09:33:50.592Z"
   },
   {
    "duration": 505,
    "start_time": "2023-05-31T09:33:50.621Z"
   },
   {
    "duration": 187,
    "start_time": "2023-05-31T09:33:51.127Z"
   },
   {
    "duration": 143,
    "start_time": "2023-05-31T09:33:51.315Z"
   },
   {
    "duration": 0,
    "start_time": "2023-05-31T09:33:51.460Z"
   },
   {
    "duration": 3,
    "start_time": "2023-06-01T08:22:52.132Z"
   },
   {
    "duration": 11230,
    "start_time": "2023-06-01T08:24:04.822Z"
   },
   {
    "duration": 1722,
    "start_time": "2023-06-01T08:24:16.055Z"
   },
   {
    "duration": 4,
    "start_time": "2023-06-01T08:24:17.779Z"
   },
   {
    "duration": 3663,
    "start_time": "2023-06-01T08:24:17.785Z"
   },
   {
    "duration": 2137,
    "start_time": "2023-06-01T08:24:21.451Z"
   },
   {
    "duration": 1330,
    "start_time": "2023-06-01T08:24:23.590Z"
   },
   {
    "duration": 60,
    "start_time": "2023-06-01T08:24:24.922Z"
   },
   {
    "duration": 8,
    "start_time": "2023-06-01T08:24:24.983Z"
   },
   {
    "duration": 51,
    "start_time": "2023-06-01T08:24:24.993Z"
   },
   {
    "duration": 36,
    "start_time": "2023-06-01T08:24:25.047Z"
   },
   {
    "duration": 33,
    "start_time": "2023-06-01T08:24:25.084Z"
   },
   {
    "duration": 25,
    "start_time": "2023-06-01T08:24:25.119Z"
   },
   {
    "duration": 26,
    "start_time": "2023-06-01T08:24:25.146Z"
   },
   {
    "duration": 31,
    "start_time": "2023-06-01T08:24:25.176Z"
   },
   {
    "duration": 26,
    "start_time": "2023-06-01T08:24:25.209Z"
   },
   {
    "duration": 42,
    "start_time": "2023-06-01T08:24:25.237Z"
   },
   {
    "duration": 22,
    "start_time": "2023-06-01T08:24:25.281Z"
   },
   {
    "duration": 39,
    "start_time": "2023-06-01T08:24:25.305Z"
   },
   {
    "duration": 84,
    "start_time": "2023-06-01T08:24:25.360Z"
   },
   {
    "duration": 646,
    "start_time": "2023-06-01T08:24:25.447Z"
   },
   {
    "duration": 10,
    "start_time": "2023-06-01T08:24:26.096Z"
   },
   {
    "duration": 30,
    "start_time": "2023-06-01T08:24:26.109Z"
   },
   {
    "duration": 24,
    "start_time": "2023-06-01T08:24:26.142Z"
   },
   {
    "duration": 79,
    "start_time": "2023-06-01T08:24:26.173Z"
   },
   {
    "duration": 2085,
    "start_time": "2023-06-01T08:24:26.258Z"
   },
   {
    "duration": 98,
    "start_time": "2023-06-01T08:24:28.345Z"
   },
   {
    "duration": 32,
    "start_time": "2023-06-01T08:24:28.446Z"
   },
   {
    "duration": 100,
    "start_time": "2023-06-01T08:24:28.480Z"
   },
   {
    "duration": 102,
    "start_time": "2023-06-01T08:24:28.582Z"
   },
   {
    "duration": 17,
    "start_time": "2023-06-01T08:24:28.686Z"
   },
   {
    "duration": 114,
    "start_time": "2023-06-01T08:24:28.705Z"
   },
   {
    "duration": 6,
    "start_time": "2023-06-01T08:24:28.821Z"
   },
   {
    "duration": 24,
    "start_time": "2023-06-01T08:24:28.829Z"
   },
   {
    "duration": 11,
    "start_time": "2023-06-01T08:24:28.861Z"
   },
   {
    "duration": 14,
    "start_time": "2023-06-01T08:24:28.874Z"
   },
   {
    "duration": 13,
    "start_time": "2023-06-01T08:24:28.890Z"
   },
   {
    "duration": 823,
    "start_time": "2023-06-01T08:24:28.906Z"
   },
   {
    "duration": 261,
    "start_time": "2023-06-01T08:24:29.731Z"
   },
   {
    "duration": 4,
    "start_time": "2023-06-01T08:24:29.994Z"
   },
   {
    "duration": 20,
    "start_time": "2023-06-01T08:24:30.000Z"
   },
   {
    "duration": 9,
    "start_time": "2023-06-01T08:27:59.568Z"
   },
   {
    "duration": 126,
    "start_time": "2023-06-01T08:30:41.675Z"
   },
   {
    "duration": 10,
    "start_time": "2023-06-01T08:30:49.509Z"
   },
   {
    "duration": 7,
    "start_time": "2023-06-01T08:30:49.959Z"
   },
   {
    "duration": 572,
    "start_time": "2023-06-01T08:30:50.479Z"
   },
   {
    "duration": 2527,
    "start_time": "2023-06-01T08:31:16.580Z"
   },
   {
    "duration": 7,
    "start_time": "2023-06-01T08:31:19.110Z"
   },
   {
    "duration": 18,
    "start_time": "2023-06-01T08:31:19.119Z"
   },
   {
    "duration": 1045,
    "start_time": "2023-06-01T08:31:19.139Z"
   },
   {
    "duration": 1998,
    "start_time": "2023-06-01T08:31:20.187Z"
   },
   {
    "duration": 933,
    "start_time": "2023-06-01T08:31:22.191Z"
   },
   {
    "duration": 61,
    "start_time": "2023-06-01T08:31:23.126Z"
   },
   {
    "duration": 8,
    "start_time": "2023-06-01T08:31:23.189Z"
   },
   {
    "duration": 34,
    "start_time": "2023-06-01T08:31:23.199Z"
   },
   {
    "duration": 47,
    "start_time": "2023-06-01T08:31:23.235Z"
   },
   {
    "duration": 22,
    "start_time": "2023-06-01T08:31:23.284Z"
   },
   {
    "duration": 19,
    "start_time": "2023-06-01T08:31:23.308Z"
   },
   {
    "duration": 39,
    "start_time": "2023-06-01T08:31:23.329Z"
   },
   {
    "duration": 23,
    "start_time": "2023-06-01T08:31:23.372Z"
   },
   {
    "duration": 30,
    "start_time": "2023-06-01T08:31:23.397Z"
   },
   {
    "duration": 52,
    "start_time": "2023-06-01T08:31:23.429Z"
   },
   {
    "duration": 19,
    "start_time": "2023-06-01T08:31:23.484Z"
   },
   {
    "duration": 25,
    "start_time": "2023-06-01T08:31:23.505Z"
   },
   {
    "duration": 97,
    "start_time": "2023-06-01T08:31:23.532Z"
   },
   {
    "duration": 568,
    "start_time": "2023-06-01T08:31:23.631Z"
   },
   {
    "duration": 9,
    "start_time": "2023-06-01T08:31:24.201Z"
   },
   {
    "duration": 24,
    "start_time": "2023-06-01T08:31:24.211Z"
   },
   {
    "duration": 28,
    "start_time": "2023-06-01T08:31:24.237Z"
   },
   {
    "duration": 64,
    "start_time": "2023-06-01T08:31:24.273Z"
   },
   {
    "duration": 2134,
    "start_time": "2023-06-01T08:31:24.339Z"
   },
   {
    "duration": 87,
    "start_time": "2023-06-01T08:31:26.476Z"
   },
   {
    "duration": 23,
    "start_time": "2023-06-01T08:31:26.571Z"
   },
   {
    "duration": 84,
    "start_time": "2023-06-01T08:31:26.595Z"
   },
   {
    "duration": 57,
    "start_time": "2023-06-01T08:31:26.681Z"
   },
   {
    "duration": 29,
    "start_time": "2023-06-01T08:31:26.741Z"
   },
   {
    "duration": 54,
    "start_time": "2023-06-01T08:31:26.779Z"
   },
   {
    "duration": 5,
    "start_time": "2023-06-01T08:31:26.835Z"
   },
   {
    "duration": 23,
    "start_time": "2023-06-01T08:31:26.841Z"
   },
   {
    "duration": 4,
    "start_time": "2023-06-01T08:31:26.870Z"
   },
   {
    "duration": 26,
    "start_time": "2023-06-01T08:31:26.875Z"
   },
   {
    "duration": 15,
    "start_time": "2023-06-01T08:31:26.902Z"
   },
   {
    "duration": 626,
    "start_time": "2023-06-01T08:31:26.919Z"
   },
   {
    "duration": 234,
    "start_time": "2023-06-01T08:31:27.547Z"
   },
   {
    "duration": 10,
    "start_time": "2023-06-01T08:31:27.782Z"
   },
   {
    "duration": 3,
    "start_time": "2023-06-01T08:31:27.794Z"
   },
   {
    "duration": 481,
    "start_time": "2023-06-01T08:31:27.801Z"
   },
   {
    "duration": 3,
    "start_time": "2023-06-01T08:31:28.284Z"
   },
   {
    "duration": 3550,
    "start_time": "2023-06-01T08:37:37.284Z"
   },
   {
    "duration": 1472,
    "start_time": "2023-06-01T08:37:40.837Z"
   },
   {
    "duration": 3,
    "start_time": "2023-06-01T08:37:42.311Z"
   },
   {
    "duration": 883,
    "start_time": "2023-06-01T08:37:42.316Z"
   },
   {
    "duration": 1881,
    "start_time": "2023-06-01T08:37:43.201Z"
   },
   {
    "duration": 965,
    "start_time": "2023-06-01T08:37:45.084Z"
   },
   {
    "duration": 42,
    "start_time": "2023-06-01T08:37:46.051Z"
   },
   {
    "duration": 8,
    "start_time": "2023-06-01T08:37:46.095Z"
   },
   {
    "duration": 22,
    "start_time": "2023-06-01T08:37:46.105Z"
   },
   {
    "duration": 52,
    "start_time": "2023-06-01T08:37:46.129Z"
   },
   {
    "duration": 20,
    "start_time": "2023-06-01T08:37:46.183Z"
   },
   {
    "duration": 27,
    "start_time": "2023-06-01T08:37:46.205Z"
   },
   {
    "duration": 39,
    "start_time": "2023-06-01T08:37:46.234Z"
   },
   {
    "duration": 19,
    "start_time": "2023-06-01T08:37:46.277Z"
   },
   {
    "duration": 27,
    "start_time": "2023-06-01T08:37:46.299Z"
   },
   {
    "duration": 42,
    "start_time": "2023-06-01T08:37:46.328Z"
   },
   {
    "duration": 19,
    "start_time": "2023-06-01T08:37:46.373Z"
   },
   {
    "duration": 21,
    "start_time": "2023-06-01T08:37:46.393Z"
   },
   {
    "duration": 76,
    "start_time": "2023-06-01T08:37:46.415Z"
   },
   {
    "duration": 444,
    "start_time": "2023-06-01T08:37:46.492Z"
   },
   {
    "duration": 7,
    "start_time": "2023-06-01T08:37:46.938Z"
   },
   {
    "duration": 31,
    "start_time": "2023-06-01T08:37:46.947Z"
   },
   {
    "duration": 8,
    "start_time": "2023-06-01T08:37:46.980Z"
   },
   {
    "duration": 81,
    "start_time": "2023-06-01T08:37:46.990Z"
   },
   {
    "duration": 1970,
    "start_time": "2023-06-01T08:37:47.073Z"
   },
   {
    "duration": 93,
    "start_time": "2023-06-01T08:37:49.044Z"
   },
   {
    "duration": 30,
    "start_time": "2023-06-01T08:37:49.139Z"
   },
   {
    "duration": 79,
    "start_time": "2023-06-01T08:37:49.174Z"
   },
   {
    "duration": 67,
    "start_time": "2023-06-01T08:37:49.258Z"
   },
   {
    "duration": 15,
    "start_time": "2023-06-01T08:37:49.327Z"
   },
   {
    "duration": 61,
    "start_time": "2023-06-01T08:37:49.359Z"
   },
   {
    "duration": 4,
    "start_time": "2023-06-01T08:37:49.422Z"
   },
   {
    "duration": 34,
    "start_time": "2023-06-01T08:37:49.428Z"
   },
   {
    "duration": 6,
    "start_time": "2023-06-01T08:37:49.465Z"
   },
   {
    "duration": 8,
    "start_time": "2023-06-01T08:37:49.473Z"
   },
   {
    "duration": 17,
    "start_time": "2023-06-01T08:37:49.482Z"
   },
   {
    "duration": 600,
    "start_time": "2023-06-01T08:37:49.501Z"
   },
   {
    "duration": 229,
    "start_time": "2023-06-01T08:37:50.102Z"
   },
   {
    "duration": 10,
    "start_time": "2023-06-01T08:37:50.333Z"
   },
   {
    "duration": 21,
    "start_time": "2023-06-01T08:37:50.345Z"
   },
   {
    "duration": 2396,
    "start_time": "2023-06-01T09:38:47.586Z"
   },
   {
    "duration": 2342,
    "start_time": "2023-06-01T09:38:49.985Z"
   },
   {
    "duration": 3,
    "start_time": "2023-06-01T09:38:52.329Z"
   },
   {
    "duration": 961,
    "start_time": "2023-06-01T09:38:52.334Z"
   },
   {
    "duration": 2039,
    "start_time": "2023-06-01T09:38:53.299Z"
   },
   {
    "duration": 1146,
    "start_time": "2023-06-01T09:38:55.340Z"
   },
   {
    "duration": 39,
    "start_time": "2023-06-01T09:38:56.488Z"
   },
   {
    "duration": 7,
    "start_time": "2023-06-01T09:38:56.528Z"
   },
   {
    "duration": 46,
    "start_time": "2023-06-01T09:38:56.537Z"
   },
   {
    "duration": 34,
    "start_time": "2023-06-01T09:38:56.584Z"
   },
   {
    "duration": 89,
    "start_time": "2023-06-01T09:38:56.620Z"
   },
   {
    "duration": 36,
    "start_time": "2023-06-01T09:38:56.711Z"
   },
   {
    "duration": 33,
    "start_time": "2023-06-01T09:38:56.749Z"
   },
   {
    "duration": 32,
    "start_time": "2023-06-01T09:38:56.786Z"
   },
   {
    "duration": 24,
    "start_time": "2023-06-01T09:38:56.821Z"
   },
   {
    "duration": 27,
    "start_time": "2023-06-01T09:38:56.860Z"
   },
   {
    "duration": 22,
    "start_time": "2023-06-01T09:38:56.889Z"
   },
   {
    "duration": 60,
    "start_time": "2023-06-01T09:38:56.913Z"
   },
   {
    "duration": 70,
    "start_time": "2023-06-01T09:38:56.975Z"
   },
   {
    "duration": 449,
    "start_time": "2023-06-01T09:38:57.047Z"
   },
   {
    "duration": 9,
    "start_time": "2023-06-01T09:38:57.499Z"
   },
   {
    "duration": 29,
    "start_time": "2023-06-01T09:38:57.510Z"
   },
   {
    "duration": 14,
    "start_time": "2023-06-01T09:38:57.557Z"
   },
   {
    "duration": 70,
    "start_time": "2023-06-01T09:38:57.578Z"
   },
   {
    "duration": 2289,
    "start_time": "2023-06-01T09:38:57.658Z"
   },
   {
    "duration": 121,
    "start_time": "2023-06-01T09:38:59.950Z"
   },
   {
    "duration": 23,
    "start_time": "2023-06-01T09:39:00.073Z"
   },
   {
    "duration": 111,
    "start_time": "2023-06-01T09:39:00.098Z"
   },
   {
    "duration": 68,
    "start_time": "2023-06-01T09:39:00.211Z"
   },
   {
    "duration": 15,
    "start_time": "2023-06-01T09:39:00.280Z"
   },
   {
    "duration": 105,
    "start_time": "2023-06-01T09:39:00.297Z"
   },
   {
    "duration": 4,
    "start_time": "2023-06-01T09:39:00.404Z"
   },
   {
    "duration": 29,
    "start_time": "2023-06-01T09:39:00.410Z"
   },
   {
    "duration": 61,
    "start_time": "2023-06-01T09:39:00.441Z"
   },
   {
    "duration": 63,
    "start_time": "2023-06-01T09:39:00.504Z"
   },
   {
    "duration": 22,
    "start_time": "2023-06-01T09:39:00.570Z"
   },
   {
    "duration": 557,
    "start_time": "2023-06-01T09:39:00.594Z"
   },
   {
    "duration": 221,
    "start_time": "2023-06-01T09:39:01.153Z"
   },
   {
    "duration": 209,
    "start_time": "2023-06-01T09:39:01.378Z"
   },
   {
    "duration": 112,
    "start_time": "2023-06-01T09:39:01.589Z"
   },
   {
    "duration": 15,
    "start_time": "2023-06-01T09:40:17.783Z"
   },
   {
    "duration": 130741,
    "start_time": "2023-06-01T09:48:28.089Z"
   },
   {
    "duration": 128189,
    "start_time": "2023-06-01T09:50:58.589Z"
   },
   {
    "duration": 123634,
    "start_time": "2023-06-01T09:55:47.296Z"
   },
   {
    "duration": 36407,
    "start_time": "2023-06-01T09:58:59.603Z"
   },
   {
    "duration": 5,
    "start_time": "2023-06-01T10:43:48.789Z"
   },
   {
    "duration": 16,
    "start_time": "2023-06-01T10:51:43.314Z"
   },
   {
    "duration": 6,
    "start_time": "2023-06-01T10:52:47.896Z"
   },
   {
    "duration": 18,
    "start_time": "2023-06-01T10:52:59.391Z"
   },
   {
    "duration": 15,
    "start_time": "2023-06-01T10:53:13.896Z"
   },
   {
    "duration": 4,
    "start_time": "2023-06-01T10:53:27.246Z"
   },
   {
    "duration": 43102,
    "start_time": "2023-06-01T11:03:43.043Z"
   },
   {
    "duration": 103,
    "start_time": "2023-06-01T11:05:30.786Z"
   },
   {
    "duration": 2710790,
    "start_time": "2023-06-01T11:05:50.034Z"
   },
   {
    "duration": 4,
    "start_time": "2023-06-01T11:51:27.078Z"
   },
   {
    "duration": 3,
    "start_time": "2023-06-01T12:16:15.591Z"
   },
   {
    "duration": 86,
    "start_time": "2023-06-01T12:16:19.286Z"
   },
   {
    "duration": 3,
    "start_time": "2023-06-01T12:16:48.378Z"
   },
   {
    "duration": 1066263,
    "start_time": "2023-06-01T12:16:50.604Z"
   },
   {
    "duration": 14,
    "start_time": "2023-06-01T12:43:06.642Z"
   },
   {
    "duration": 4,
    "start_time": "2023-06-01T12:43:10.387Z"
   },
   {
    "duration": 8,
    "start_time": "2023-06-01T12:43:16.710Z"
   },
   {
    "duration": 15,
    "start_time": "2023-06-01T12:43:19.347Z"
   },
   {
    "duration": 13,
    "start_time": "2023-06-01T12:47:24.187Z"
   },
   {
    "duration": 14,
    "start_time": "2023-06-01T12:47:25.526Z"
   },
   {
    "duration": 7,
    "start_time": "2023-06-01T12:47:29.019Z"
   },
   {
    "duration": 8,
    "start_time": "2023-06-01T12:47:34.544Z"
   },
   {
    "duration": 3,
    "start_time": "2023-06-01T12:54:35.335Z"
   },
   {
    "duration": 13,
    "start_time": "2023-06-01T12:55:25.541Z"
   },
   {
    "duration": 3,
    "start_time": "2023-06-01T12:55:28.959Z"
   },
   {
    "duration": 9,
    "start_time": "2023-06-01T12:55:30.757Z"
   },
   {
    "duration": 13,
    "start_time": "2023-06-01T12:55:32.717Z"
   },
   {
    "duration": 4,
    "start_time": "2023-06-01T12:55:37.616Z"
   },
   {
    "duration": 25004,
    "start_time": "2023-06-01T12:55:39.439Z"
   },
   {
    "duration": 2100,
    "start_time": "2023-06-01T12:56:39.972Z"
   },
   {
    "duration": 1317,
    "start_time": "2023-06-01T12:56:42.074Z"
   },
   {
    "duration": 2,
    "start_time": "2023-06-01T12:56:43.393Z"
   },
   {
    "duration": 920,
    "start_time": "2023-06-01T12:56:43.398Z"
   },
   {
    "duration": 1748,
    "start_time": "2023-06-01T12:56:44.320Z"
   },
   {
    "duration": 1063,
    "start_time": "2023-06-01T12:56:46.071Z"
   },
   {
    "duration": 56,
    "start_time": "2023-06-01T12:56:47.136Z"
   },
   {
    "duration": 7,
    "start_time": "2023-06-01T12:56:47.193Z"
   },
   {
    "duration": 25,
    "start_time": "2023-06-01T12:56:47.202Z"
   },
   {
    "duration": 33,
    "start_time": "2023-06-01T12:56:47.230Z"
   },
   {
    "duration": 33,
    "start_time": "2023-06-01T12:56:47.265Z"
   },
   {
    "duration": 20,
    "start_time": "2023-06-01T12:56:47.300Z"
   },
   {
    "duration": 36,
    "start_time": "2023-06-01T12:56:47.322Z"
   },
   {
    "duration": 33,
    "start_time": "2023-06-01T12:56:47.360Z"
   },
   {
    "duration": 20,
    "start_time": "2023-06-01T12:56:47.395Z"
   },
   {
    "duration": 28,
    "start_time": "2023-06-01T12:56:47.417Z"
   },
   {
    "duration": 21,
    "start_time": "2023-06-01T12:56:47.447Z"
   },
   {
    "duration": 27,
    "start_time": "2023-06-01T12:56:47.470Z"
   },
   {
    "duration": 82,
    "start_time": "2023-06-01T12:56:47.499Z"
   },
   {
    "duration": 415,
    "start_time": "2023-06-01T12:56:47.583Z"
   },
   {
    "duration": 9,
    "start_time": "2023-06-01T12:56:48.000Z"
   },
   {
    "duration": 25,
    "start_time": "2023-06-01T12:56:48.010Z"
   },
   {
    "duration": 27,
    "start_time": "2023-06-01T12:56:48.037Z"
   },
   {
    "duration": 74,
    "start_time": "2023-06-01T12:56:48.067Z"
   },
   {
    "duration": 1901,
    "start_time": "2023-06-01T12:56:48.142Z"
   },
   {
    "duration": 93,
    "start_time": "2023-06-01T12:56:50.045Z"
   },
   {
    "duration": 25,
    "start_time": "2023-06-01T12:56:50.140Z"
   },
   {
    "duration": 88,
    "start_time": "2023-06-01T12:56:50.169Z"
   },
   {
    "duration": 54,
    "start_time": "2023-06-01T12:56:50.259Z"
   },
   {
    "duration": 13,
    "start_time": "2023-06-01T12:56:50.315Z"
   },
   {
    "duration": 81,
    "start_time": "2023-06-01T12:56:50.330Z"
   },
   {
    "duration": 4,
    "start_time": "2023-06-01T12:56:50.412Z"
   },
   {
    "duration": 22,
    "start_time": "2023-06-01T12:56:50.417Z"
   },
   {
    "duration": 44,
    "start_time": "2023-06-01T12:56:50.440Z"
   },
   {
    "duration": 20,
    "start_time": "2023-06-01T12:56:50.486Z"
   },
   {
    "duration": 35,
    "start_time": "2023-06-01T12:56:50.508Z"
   },
   {
    "duration": 4,
    "start_time": "2023-06-01T12:56:50.544Z"
   },
   {
    "duration": 25565,
    "start_time": "2023-06-01T12:56:50.549Z"
   },
   {
    "duration": 13,
    "start_time": "2023-06-01T12:57:16.115Z"
   },
   {
    "duration": 0,
    "start_time": "2023-06-01T12:57:16.130Z"
   },
   {
    "duration": 0,
    "start_time": "2023-06-01T12:57:16.131Z"
   },
   {
    "duration": 0,
    "start_time": "2023-06-01T12:57:16.133Z"
   },
   {
    "duration": 0,
    "start_time": "2023-06-01T12:57:16.134Z"
   },
   {
    "duration": 0,
    "start_time": "2023-06-01T12:57:16.135Z"
   },
   {
    "duration": 0,
    "start_time": "2023-06-01T12:57:16.136Z"
   },
   {
    "duration": 15,
    "start_time": "2023-06-01T13:00:30.526Z"
   },
   {
    "duration": 8,
    "start_time": "2023-06-01T13:00:30.774Z"
   },
   {
    "duration": 14,
    "start_time": "2023-06-01T13:00:30.951Z"
   },
   {
    "duration": 3,
    "start_time": "2023-06-01T13:00:37.064Z"
   },
   {
    "duration": 811294,
    "start_time": "2023-06-01T13:00:37.823Z"
   },
   {
    "duration": 16,
    "start_time": "2023-06-01T13:14:09.119Z"
   },
   {
    "duration": 16,
    "start_time": "2023-06-01T13:16:40.117Z"
   },
   {
    "duration": 3,
    "start_time": "2023-06-01T13:16:42.222Z"
   },
   {
    "duration": 6,
    "start_time": "2023-06-01T13:16:52.679Z"
   },
   {
    "duration": 4,
    "start_time": "2023-06-01T13:17:03.296Z"
   },
   {
    "duration": 3,
    "start_time": "2023-06-01T13:17:09.545Z"
   },
   {
    "duration": 28652,
    "start_time": "2023-06-01T13:17:17.245Z"
   },
   {
    "duration": 2291,
    "start_time": "2023-06-01T13:18:01.755Z"
   },
   {
    "duration": 1493,
    "start_time": "2023-06-01T13:18:04.049Z"
   },
   {
    "duration": 5,
    "start_time": "2023-06-01T13:18:05.545Z"
   },
   {
    "duration": 974,
    "start_time": "2023-06-01T13:18:05.564Z"
   },
   {
    "duration": 1940,
    "start_time": "2023-06-01T13:18:06.539Z"
   },
   {
    "duration": 1145,
    "start_time": "2023-06-01T13:18:08.480Z"
   },
   {
    "duration": 58,
    "start_time": "2023-06-01T13:18:09.627Z"
   },
   {
    "duration": 6,
    "start_time": "2023-06-01T13:18:09.687Z"
   },
   {
    "duration": 50,
    "start_time": "2023-06-01T13:18:09.695Z"
   },
   {
    "duration": 50,
    "start_time": "2023-06-01T13:18:09.748Z"
   },
   {
    "duration": 50,
    "start_time": "2023-06-01T13:18:09.799Z"
   },
   {
    "duration": 50,
    "start_time": "2023-06-01T13:18:09.851Z"
   },
   {
    "duration": 39,
    "start_time": "2023-06-01T13:18:09.903Z"
   },
   {
    "duration": 44,
    "start_time": "2023-06-01T13:18:09.944Z"
   },
   {
    "duration": 21,
    "start_time": "2023-06-01T13:18:09.990Z"
   },
   {
    "duration": 88,
    "start_time": "2023-06-01T13:18:10.013Z"
   },
   {
    "duration": 96,
    "start_time": "2023-06-01T13:18:10.103Z"
   },
   {
    "duration": 46,
    "start_time": "2023-06-01T13:18:10.201Z"
   },
   {
    "duration": 94,
    "start_time": "2023-06-01T13:18:10.249Z"
   },
   {
    "duration": 468,
    "start_time": "2023-06-01T13:18:10.345Z"
   },
   {
    "duration": 9,
    "start_time": "2023-06-01T13:18:10.814Z"
   },
   {
    "duration": 42,
    "start_time": "2023-06-01T13:18:10.824Z"
   },
   {
    "duration": 9,
    "start_time": "2023-06-01T13:18:10.870Z"
   },
   {
    "duration": 63,
    "start_time": "2023-06-01T13:18:10.881Z"
   },
   {
    "duration": 2169,
    "start_time": "2023-06-01T13:18:10.946Z"
   },
   {
    "duration": 97,
    "start_time": "2023-06-01T13:18:13.116Z"
   },
   {
    "duration": 20,
    "start_time": "2023-06-01T13:18:13.215Z"
   },
   {
    "duration": 99,
    "start_time": "2023-06-01T13:18:13.239Z"
   },
   {
    "duration": 73,
    "start_time": "2023-06-01T13:18:13.340Z"
   },
   {
    "duration": 14,
    "start_time": "2023-06-01T13:18:13.415Z"
   },
   {
    "duration": 81,
    "start_time": "2023-06-01T13:18:13.431Z"
   },
   {
    "duration": 5,
    "start_time": "2023-06-01T13:18:13.514Z"
   },
   {
    "duration": 21,
    "start_time": "2023-06-01T13:18:13.520Z"
   },
   {
    "duration": 4,
    "start_time": "2023-06-01T13:18:13.556Z"
   },
   {
    "duration": 18,
    "start_time": "2023-06-01T13:18:13.563Z"
   },
   {
    "duration": 14,
    "start_time": "2023-06-01T13:18:13.582Z"
   },
   {
    "duration": 3,
    "start_time": "2023-06-01T13:18:13.598Z"
   },
   {
    "duration": 28825,
    "start_time": "2023-06-01T13:18:13.603Z"
   },
   {
    "duration": 12,
    "start_time": "2023-06-01T13:18:42.429Z"
   },
   {
    "duration": 0,
    "start_time": "2023-06-01T13:18:42.442Z"
   },
   {
    "duration": 0,
    "start_time": "2023-06-01T13:18:42.444Z"
   },
   {
    "duration": 0,
    "start_time": "2023-06-01T13:18:42.445Z"
   },
   {
    "duration": 0,
    "start_time": "2023-06-01T13:18:42.446Z"
   },
   {
    "duration": 0,
    "start_time": "2023-06-01T13:18:42.447Z"
   },
   {
    "duration": 15,
    "start_time": "2023-06-01T13:19:47.696Z"
   },
   {
    "duration": 3,
    "start_time": "2023-06-01T13:19:49.686Z"
   },
   {
    "duration": 8,
    "start_time": "2023-06-01T13:19:51.777Z"
   },
   {
    "duration": 19,
    "start_time": "2023-06-01T13:19:53.221Z"
   },
   {
    "duration": 17,
    "start_time": "2023-06-01T13:20:43.354Z"
   },
   {
    "duration": 6,
    "start_time": "2023-06-01T13:21:11.418Z"
   },
   {
    "duration": 2154,
    "start_time": "2023-06-01T13:21:23.655Z"
   },
   {
    "duration": 1309,
    "start_time": "2023-06-01T13:21:25.811Z"
   },
   {
    "duration": 3,
    "start_time": "2023-06-01T13:21:27.122Z"
   },
   {
    "duration": 886,
    "start_time": "2023-06-01T13:21:27.127Z"
   },
   {
    "duration": 1826,
    "start_time": "2023-06-01T13:21:28.015Z"
   },
   {
    "duration": 913,
    "start_time": "2023-06-01T13:21:29.843Z"
   },
   {
    "duration": 39,
    "start_time": "2023-06-01T13:21:30.758Z"
   },
   {
    "duration": 26,
    "start_time": "2023-06-01T13:21:30.799Z"
   },
   {
    "duration": 71,
    "start_time": "2023-06-01T13:21:30.827Z"
   },
   {
    "duration": 75,
    "start_time": "2023-06-01T13:21:30.902Z"
   },
   {
    "duration": 70,
    "start_time": "2023-06-01T13:21:30.979Z"
   },
   {
    "duration": 60,
    "start_time": "2023-06-01T13:21:31.051Z"
   },
   {
    "duration": 94,
    "start_time": "2023-06-01T13:21:31.113Z"
   },
   {
    "duration": 90,
    "start_time": "2023-06-01T13:21:31.209Z"
   },
   {
    "duration": 45,
    "start_time": "2023-06-01T13:21:31.301Z"
   },
   {
    "duration": 64,
    "start_time": "2023-06-01T13:21:31.348Z"
   },
   {
    "duration": 52,
    "start_time": "2023-06-01T13:21:31.414Z"
   },
   {
    "duration": 58,
    "start_time": "2023-06-01T13:21:31.468Z"
   },
   {
    "duration": 98,
    "start_time": "2023-06-01T13:21:31.527Z"
   },
   {
    "duration": 519,
    "start_time": "2023-06-01T13:21:31.627Z"
   },
   {
    "duration": 12,
    "start_time": "2023-06-01T13:21:32.149Z"
   },
   {
    "duration": 57,
    "start_time": "2023-06-01T13:21:32.163Z"
   },
   {
    "duration": 21,
    "start_time": "2023-06-01T13:21:32.222Z"
   },
   {
    "duration": 88,
    "start_time": "2023-06-01T13:21:32.245Z"
   },
   {
    "duration": 1948,
    "start_time": "2023-06-01T13:21:32.334Z"
   },
   {
    "duration": 93,
    "start_time": "2023-06-01T13:21:34.284Z"
   },
   {
    "duration": 20,
    "start_time": "2023-06-01T13:21:34.379Z"
   },
   {
    "duration": 141,
    "start_time": "2023-06-01T13:21:34.403Z"
   },
   {
    "duration": 90,
    "start_time": "2023-06-01T13:21:34.546Z"
   },
   {
    "duration": 33,
    "start_time": "2023-06-01T13:21:34.638Z"
   },
   {
    "duration": 67,
    "start_time": "2023-06-01T13:21:34.673Z"
   },
   {
    "duration": 4,
    "start_time": "2023-06-01T13:21:34.742Z"
   },
   {
    "duration": 17,
    "start_time": "2023-06-01T13:21:34.748Z"
   },
   {
    "duration": 6,
    "start_time": "2023-06-01T13:21:34.767Z"
   },
   {
    "duration": 11,
    "start_time": "2023-06-01T13:21:34.775Z"
   },
   {
    "duration": 20,
    "start_time": "2023-06-01T13:21:34.788Z"
   },
   {
    "duration": 5,
    "start_time": "2023-06-01T13:21:34.811Z"
   },
   {
    "duration": 25774,
    "start_time": "2023-06-01T13:21:34.818Z"
   },
   {
    "duration": 15,
    "start_time": "2023-06-01T13:22:00.594Z"
   },
   {
    "duration": 0,
    "start_time": "2023-06-01T13:22:00.611Z"
   },
   {
    "duration": 0,
    "start_time": "2023-06-01T13:22:00.613Z"
   },
   {
    "duration": 0,
    "start_time": "2023-06-01T13:22:00.614Z"
   },
   {
    "duration": 0,
    "start_time": "2023-06-01T13:22:00.616Z"
   },
   {
    "duration": 0,
    "start_time": "2023-06-01T13:22:00.617Z"
   },
   {
    "duration": 5,
    "start_time": "2023-06-01T13:28:47.076Z"
   },
   {
    "duration": 3,
    "start_time": "2023-06-01T13:28:58.966Z"
   },
   {
    "duration": 2881852,
    "start_time": "2023-06-01T13:29:01.044Z"
   },
   {
    "duration": 5,
    "start_time": "2023-06-01T14:17:02.898Z"
   },
   {
    "duration": 26,
    "start_time": "2023-06-01T14:17:02.905Z"
   },
   {
    "duration": 4,
    "start_time": "2023-06-01T14:19:53.608Z"
   },
   {
    "duration": 4,
    "start_time": "2023-06-01T14:20:35.958Z"
   },
   {
    "duration": 3,
    "start_time": "2023-06-01T14:20:47.795Z"
   },
   {
    "duration": 1044294,
    "start_time": "2023-06-01T14:20:51.105Z"
   },
   {
    "duration": 4,
    "start_time": "2023-06-01T14:38:15.401Z"
   },
   {
    "duration": 12,
    "start_time": "2023-06-01T14:41:12.862Z"
   },
   {
    "duration": 10,
    "start_time": "2023-06-01T14:43:28.566Z"
   },
   {
    "duration": 10,
    "start_time": "2023-06-01T14:43:46.326Z"
   },
   {
    "duration": 4,
    "start_time": "2023-06-01T14:49:18.024Z"
   },
   {
    "duration": 284890,
    "start_time": "2023-06-01T14:49:20.370Z"
   },
   {
    "duration": 13,
    "start_time": "2023-06-01T14:54:05.262Z"
   },
   {
    "duration": 0,
    "start_time": "2023-06-01T14:54:05.278Z"
   },
   {
    "duration": 82,
    "start_time": "2023-06-01T14:55:04.264Z"
   },
   {
    "duration": 2306,
    "start_time": "2023-06-01T14:55:18.194Z"
   },
   {
    "duration": 1399,
    "start_time": "2023-06-01T14:55:20.503Z"
   },
   {
    "duration": 4,
    "start_time": "2023-06-01T14:55:21.904Z"
   },
   {
    "duration": 1005,
    "start_time": "2023-06-01T14:55:21.910Z"
   },
   {
    "duration": 2024,
    "start_time": "2023-06-01T14:55:22.917Z"
   },
   {
    "duration": 1007,
    "start_time": "2023-06-01T14:55:24.942Z"
   },
   {
    "duration": 46,
    "start_time": "2023-06-01T14:55:25.950Z"
   },
   {
    "duration": 7,
    "start_time": "2023-06-01T14:55:25.998Z"
   },
   {
    "duration": 28,
    "start_time": "2023-06-01T14:55:26.007Z"
   },
   {
    "duration": 46,
    "start_time": "2023-06-01T14:55:26.038Z"
   },
   {
    "duration": 39,
    "start_time": "2023-06-01T14:55:26.086Z"
   },
   {
    "duration": 35,
    "start_time": "2023-06-01T14:55:26.127Z"
   },
   {
    "duration": 24,
    "start_time": "2023-06-01T14:55:26.164Z"
   },
   {
    "duration": 25,
    "start_time": "2023-06-01T14:55:26.190Z"
   },
   {
    "duration": 27,
    "start_time": "2023-06-01T14:55:26.216Z"
   },
   {
    "duration": 33,
    "start_time": "2023-06-01T14:55:26.244Z"
   },
   {
    "duration": 30,
    "start_time": "2023-06-01T14:55:26.280Z"
   },
   {
    "duration": 20,
    "start_time": "2023-06-01T14:55:26.312Z"
   },
   {
    "duration": 92,
    "start_time": "2023-06-01T14:55:26.334Z"
   },
   {
    "duration": 459,
    "start_time": "2023-06-01T14:55:26.428Z"
   },
   {
    "duration": 8,
    "start_time": "2023-06-01T14:55:26.889Z"
   },
   {
    "duration": 25,
    "start_time": "2023-06-01T14:55:26.899Z"
   },
   {
    "duration": 8,
    "start_time": "2023-06-01T14:55:26.926Z"
   },
   {
    "duration": 62,
    "start_time": "2023-06-01T14:55:26.958Z"
   },
   {
    "duration": 2049,
    "start_time": "2023-06-01T14:55:27.021Z"
   },
   {
    "duration": 95,
    "start_time": "2023-06-01T14:55:29.073Z"
   },
   {
    "duration": 21,
    "start_time": "2023-06-01T14:55:29.170Z"
   },
   {
    "duration": 100,
    "start_time": "2023-06-01T14:55:29.195Z"
   },
   {
    "duration": 75,
    "start_time": "2023-06-01T14:55:29.297Z"
   },
   {
    "duration": 13,
    "start_time": "2023-06-01T14:55:29.374Z"
   },
   {
    "duration": 68,
    "start_time": "2023-06-01T14:55:29.389Z"
   },
   {
    "duration": 6,
    "start_time": "2023-06-01T14:55:29.460Z"
   },
   {
    "duration": 21,
    "start_time": "2023-06-01T14:55:29.467Z"
   },
   {
    "duration": 3,
    "start_time": "2023-06-01T14:55:29.490Z"
   },
   {
    "duration": 14,
    "start_time": "2023-06-01T14:55:29.494Z"
   },
   {
    "duration": 17,
    "start_time": "2023-06-01T14:55:29.510Z"
   },
   {
    "duration": 3,
    "start_time": "2023-06-01T14:55:29.528Z"
   },
   {
    "duration": 23109,
    "start_time": "2023-06-01T14:55:29.533Z"
   },
   {
    "duration": 17,
    "start_time": "2023-06-01T14:55:52.644Z"
   },
   {
    "duration": 0,
    "start_time": "2023-06-01T14:55:52.663Z"
   },
   {
    "duration": 0,
    "start_time": "2023-06-01T14:55:52.665Z"
   },
   {
    "duration": 0,
    "start_time": "2023-06-01T14:55:52.667Z"
   },
   {
    "duration": 0,
    "start_time": "2023-06-01T14:55:52.668Z"
   },
   {
    "duration": 0,
    "start_time": "2023-06-01T14:55:52.669Z"
   },
   {
    "duration": 0,
    "start_time": "2023-06-01T14:55:52.671Z"
   },
   {
    "duration": 0,
    "start_time": "2023-06-01T14:55:52.672Z"
   },
   {
    "duration": 0,
    "start_time": "2023-06-01T14:55:52.673Z"
   },
   {
    "duration": 3,
    "start_time": "2023-06-01T14:56:01.157Z"
   },
   {
    "duration": 596115,
    "start_time": "2023-06-01T14:56:03.478Z"
   },
   {
    "duration": 0,
    "start_time": "2023-06-01T15:05:59.607Z"
   },
   {
    "duration": 10,
    "start_time": "2023-06-01T15:09:26.626Z"
   },
   {
    "duration": 12,
    "start_time": "2023-06-01T15:14:01.963Z"
   },
   {
    "duration": 3,
    "start_time": "2023-06-01T15:14:29.212Z"
   },
   {
    "duration": 10,
    "start_time": "2023-06-01T15:14:41.763Z"
   },
   {
    "duration": 5,
    "start_time": "2023-06-01T15:15:03.890Z"
   },
   {
    "duration": 3,
    "start_time": "2023-06-01T15:15:18.459Z"
   },
   {
    "duration": 3,
    "start_time": "2023-06-01T15:16:15.906Z"
   },
   {
    "duration": 23,
    "start_time": "2023-06-01T15:19:55.622Z"
   },
   {
    "duration": 13,
    "start_time": "2023-06-01T15:26:13.278Z"
   },
   {
    "duration": 17,
    "start_time": "2023-06-01T15:26:31.847Z"
   },
   {
    "duration": 10,
    "start_time": "2023-06-01T15:26:36.675Z"
   },
   {
    "duration": 28,
    "start_time": "2023-06-01T15:28:38.056Z"
   },
   {
    "duration": 23,
    "start_time": "2023-06-01T15:29:18.760Z"
   },
   {
    "duration": 16,
    "start_time": "2023-06-01T15:35:23.779Z"
   },
   {
    "duration": 29593,
    "start_time": "2023-06-01T15:35:36.392Z"
   },
   {
    "duration": 527797,
    "start_time": "2023-06-01T15:36:28.676Z"
   },
   {
    "duration": 3785,
    "start_time": "2023-06-01T15:49:59.387Z"
   },
   {
    "duration": 7,
    "start_time": "2023-06-01T15:52:08.107Z"
   },
   {
    "duration": 6,
    "start_time": "2023-06-01T15:55:05.587Z"
   },
   {
    "duration": 6,
    "start_time": "2023-06-01T15:56:40.607Z"
   },
   {
    "duration": 6,
    "start_time": "2023-06-01T15:59:52.321Z"
   },
   {
    "duration": 6,
    "start_time": "2023-06-01T16:00:17.088Z"
   },
   {
    "duration": 5,
    "start_time": "2023-06-01T16:00:33.597Z"
   },
   {
    "duration": 44485,
    "start_time": "2023-06-01T16:03:25.301Z"
   },
   {
    "duration": 577921,
    "start_time": "2023-06-01T16:05:32.087Z"
   },
   {
    "duration": 6,
    "start_time": "2023-06-01T16:15:10.011Z"
   },
   {
    "duration": 53,
    "start_time": "2023-06-03T11:01:12.181Z"
   },
   {
    "duration": 8910,
    "start_time": "2023-06-03T11:01:20.886Z"
   },
   {
    "duration": 1594,
    "start_time": "2023-06-03T11:01:29.798Z"
   },
   {
    "duration": 2,
    "start_time": "2023-06-03T11:01:31.394Z"
   },
   {
    "duration": 3480,
    "start_time": "2023-06-03T11:01:31.399Z"
   },
   {
    "duration": 1877,
    "start_time": "2023-06-03T11:01:34.883Z"
   },
   {
    "duration": 1046,
    "start_time": "2023-06-03T11:01:36.763Z"
   },
   {
    "duration": 53,
    "start_time": "2023-06-03T11:01:37.811Z"
   },
   {
    "duration": 9,
    "start_time": "2023-06-03T11:01:37.875Z"
   },
   {
    "duration": 33,
    "start_time": "2023-06-03T11:01:37.886Z"
   },
   {
    "duration": 24,
    "start_time": "2023-06-03T11:01:37.921Z"
   },
   {
    "duration": 36,
    "start_time": "2023-06-03T11:01:37.947Z"
   },
   {
    "duration": 17,
    "start_time": "2023-06-03T11:01:37.985Z"
   },
   {
    "duration": 18,
    "start_time": "2023-06-03T11:01:38.003Z"
   },
   {
    "duration": 28,
    "start_time": "2023-06-03T11:01:38.023Z"
   },
   {
    "duration": 38,
    "start_time": "2023-06-03T11:01:38.053Z"
   },
   {
    "duration": 17,
    "start_time": "2023-06-03T11:01:38.093Z"
   },
   {
    "duration": 19,
    "start_time": "2023-06-03T11:01:38.112Z"
   },
   {
    "duration": 48,
    "start_time": "2023-06-03T11:01:38.133Z"
   },
   {
    "duration": 71,
    "start_time": "2023-06-03T11:01:38.182Z"
   },
   {
    "duration": 461,
    "start_time": "2023-06-03T11:01:38.262Z"
   },
   {
    "duration": 8,
    "start_time": "2023-06-03T11:01:38.725Z"
   },
   {
    "duration": 41,
    "start_time": "2023-06-03T11:01:38.734Z"
   },
   {
    "duration": 8,
    "start_time": "2023-06-03T11:01:38.779Z"
   },
   {
    "duration": 94,
    "start_time": "2023-06-03T11:01:38.789Z"
   },
   {
    "duration": 2122,
    "start_time": "2023-06-03T11:01:38.888Z"
   },
   {
    "duration": 100,
    "start_time": "2023-06-03T11:01:41.012Z"
   },
   {
    "duration": 309,
    "start_time": "2023-06-03T11:01:55.708Z"
   },
   {
    "duration": 2243,
    "start_time": "2023-06-03T11:02:14.428Z"
   },
   {
    "duration": 5,
    "start_time": "2023-06-03T11:02:16.674Z"
   },
   {
    "duration": 20,
    "start_time": "2023-06-03T11:02:16.681Z"
   },
   {
    "duration": 886,
    "start_time": "2023-06-03T11:02:16.703Z"
   },
   {
    "duration": 1936,
    "start_time": "2023-06-03T11:02:17.591Z"
   },
   {
    "duration": 1039,
    "start_time": "2023-06-03T11:02:19.528Z"
   },
   {
    "duration": 45,
    "start_time": "2023-06-03T11:02:20.572Z"
   },
   {
    "duration": 7,
    "start_time": "2023-06-03T11:02:20.620Z"
   },
   {
    "duration": 60,
    "start_time": "2023-06-03T11:02:20.629Z"
   },
   {
    "duration": 65,
    "start_time": "2023-06-03T11:02:20.691Z"
   },
   {
    "duration": 38,
    "start_time": "2023-06-03T11:02:20.764Z"
   },
   {
    "duration": 59,
    "start_time": "2023-06-03T11:02:20.804Z"
   },
   {
    "duration": 43,
    "start_time": "2023-06-03T11:02:20.865Z"
   },
   {
    "duration": 50,
    "start_time": "2023-06-03T11:02:20.910Z"
   },
   {
    "duration": 43,
    "start_time": "2023-06-03T11:02:20.965Z"
   },
   {
    "duration": 51,
    "start_time": "2023-06-03T11:02:21.010Z"
   },
   {
    "duration": 41,
    "start_time": "2023-06-03T11:02:21.064Z"
   },
   {
    "duration": 67,
    "start_time": "2023-06-03T11:02:21.107Z"
   },
   {
    "duration": 72,
    "start_time": "2023-06-03T11:02:21.177Z"
   },
   {
    "duration": 421,
    "start_time": "2023-06-03T11:02:21.553Z"
   },
   {
    "duration": 9,
    "start_time": "2023-06-03T11:02:27.000Z"
   },
   {
    "duration": 27,
    "start_time": "2023-06-03T11:02:27.413Z"
   },
   {
    "duration": 9,
    "start_time": "2023-06-03T11:02:31.737Z"
   },
   {
    "duration": 56,
    "start_time": "2023-06-03T11:02:32.535Z"
   },
   {
    "duration": 2051,
    "start_time": "2023-06-03T11:02:33.825Z"
   },
   {
    "duration": 100,
    "start_time": "2023-06-03T11:03:09.628Z"
   },
   {
    "duration": 23,
    "start_time": "2023-06-03T11:03:22.046Z"
   },
   {
    "duration": 96,
    "start_time": "2023-06-03T11:03:25.736Z"
   },
   {
    "duration": 63,
    "start_time": "2023-06-03T11:03:25.999Z"
   },
   {
    "duration": 15,
    "start_time": "2023-06-03T11:03:29.072Z"
   },
   {
    "duration": 65,
    "start_time": "2023-06-03T11:03:29.806Z"
   },
   {
    "duration": 5,
    "start_time": "2023-06-03T11:03:30.295Z"
   },
   {
    "duration": 14,
    "start_time": "2023-06-03T11:03:34.690Z"
   },
   {
    "duration": 5,
    "start_time": "2023-06-03T11:03:35.313Z"
   },
   {
    "duration": 7,
    "start_time": "2023-06-03T11:03:37.946Z"
   },
   {
    "duration": 15,
    "start_time": "2023-06-03T11:03:39.870Z"
   },
   {
    "duration": 3,
    "start_time": "2023-06-03T11:03:41.531Z"
   },
   {
    "duration": 751299,
    "start_time": "2023-06-03T11:04:54.940Z"
   },
   {
    "duration": 13,
    "start_time": "2023-06-03T11:17:26.241Z"
   },
   {
    "duration": 3546463,
    "start_time": "2023-06-03T11:18:07.476Z"
   },
   {
    "duration": 0,
    "start_time": "2023-06-03T12:17:13.955Z"
   },
   {
    "duration": 0,
    "start_time": "2023-06-03T12:17:13.958Z"
   },
   {
    "duration": 15,
    "start_time": "2023-06-03T12:23:10.384Z"
   },
   {
    "duration": 17,
    "start_time": "2023-06-03T12:24:09.871Z"
   },
   {
    "duration": 19,
    "start_time": "2023-06-03T12:24:29.555Z"
   },
   {
    "duration": 125,
    "start_time": "2023-06-03T12:24:38.688Z"
   },
   {
    "duration": 8,
    "start_time": "2023-06-03T12:24:45.588Z"
   },
   {
    "duration": 13,
    "start_time": "2023-06-03T12:25:13.500Z"
   },
   {
    "duration": 26,
    "start_time": "2023-06-03T12:33:51.492Z"
   },
   {
    "duration": 13,
    "start_time": "2023-06-03T12:34:13.501Z"
   },
   {
    "duration": 11,
    "start_time": "2023-06-03T12:34:38.586Z"
   },
   {
    "duration": 10,
    "start_time": "2023-06-03T12:34:41.097Z"
   },
   {
    "duration": 13,
    "start_time": "2023-06-03T12:36:09.786Z"
   },
   {
    "duration": 12,
    "start_time": "2023-06-03T12:36:15.009Z"
   },
   {
    "duration": 10,
    "start_time": "2023-06-03T12:38:26.076Z"
   },
   {
    "duration": 2,
    "start_time": "2023-06-03T12:38:30.547Z"
   },
   {
    "duration": 28,
    "start_time": "2023-06-03T12:38:37.115Z"
   },
   {
    "duration": 64,
    "start_time": "2023-06-03T12:38:53.981Z"
   },
   {
    "duration": 210,
    "start_time": "2023-06-03T12:39:37.514Z"
   },
   {
    "duration": 7177,
    "start_time": "2023-06-03T12:42:37.481Z"
   },
   {
    "duration": 203,
    "start_time": "2023-06-03T12:43:15.800Z"
   },
   {
    "duration": 777,
    "start_time": "2023-06-03T12:43:22.978Z"
   },
   {
    "duration": 4,
    "start_time": "2023-06-03T12:43:59.335Z"
   },
   {
    "duration": 550,
    "start_time": "2023-06-03T12:44:02.385Z"
   },
   {
    "duration": 6825,
    "start_time": "2023-06-03T12:44:57.508Z"
   },
   {
    "duration": 618,
    "start_time": "2023-06-03T12:45:04.334Z"
   },
   {
    "duration": 59,
    "start_time": "2023-06-03T12:47:33.975Z"
   },
   {
    "duration": 772,
    "start_time": "2023-06-03T12:48:38.083Z"
   },
   {
    "duration": 801,
    "start_time": "2023-06-03T12:49:08.423Z"
   },
   {
    "duration": 637,
    "start_time": "2023-06-03T12:51:21.513Z"
   },
   {
    "duration": 560,
    "start_time": "2023-06-03T12:51:26.403Z"
   },
   {
    "duration": 600,
    "start_time": "2023-06-03T12:51:28.507Z"
   },
   {
    "duration": 561,
    "start_time": "2023-06-03T12:51:30.249Z"
   },
   {
    "duration": 573,
    "start_time": "2023-06-03T12:51:31.936Z"
   },
   {
    "duration": 563,
    "start_time": "2023-06-03T12:51:34.138Z"
   },
   {
    "duration": 612,
    "start_time": "2023-06-03T12:51:36.078Z"
   },
   {
    "duration": 15,
    "start_time": "2023-06-03T12:52:14.352Z"
   },
   {
    "duration": 14,
    "start_time": "2023-06-03T12:53:35.979Z"
   },
   {
    "duration": 8,
    "start_time": "2023-06-03T13:02:52.407Z"
   },
   {
    "duration": 9,
    "start_time": "2023-06-03T13:02:54.218Z"
   },
   {
    "duration": 22,
    "start_time": "2023-06-03T13:02:55.716Z"
   },
   {
    "duration": 11,
    "start_time": "2023-06-03T13:02:59.483Z"
   },
   {
    "duration": 212,
    "start_time": "2023-06-03T13:03:02.024Z"
   },
   {
    "duration": 3178,
    "start_time": "2023-06-03T13:04:22.614Z"
   },
   {
    "duration": 3153,
    "start_time": "2023-06-03T13:04:25.794Z"
   },
   {
    "duration": 17,
    "start_time": "2023-06-03T13:04:28.954Z"
   },
   {
    "duration": 1210,
    "start_time": "2023-06-03T13:04:28.973Z"
   },
   {
    "duration": 2765,
    "start_time": "2023-06-03T13:04:30.210Z"
   },
   {
    "duration": 1309,
    "start_time": "2023-06-03T13:04:32.992Z"
   },
   {
    "duration": 48,
    "start_time": "2023-06-03T13:04:34.306Z"
   },
   {
    "duration": 22,
    "start_time": "2023-06-03T13:04:34.357Z"
   },
   {
    "duration": 49,
    "start_time": "2023-06-03T13:04:34.381Z"
   },
   {
    "duration": 24,
    "start_time": "2023-06-03T13:04:34.436Z"
   },
   {
    "duration": 53,
    "start_time": "2023-06-03T13:04:34.462Z"
   },
   {
    "duration": 39,
    "start_time": "2023-06-03T13:04:34.516Z"
   },
   {
    "duration": 36,
    "start_time": "2023-06-03T13:04:34.563Z"
   },
   {
    "duration": 30,
    "start_time": "2023-06-03T13:04:34.604Z"
   },
   {
    "duration": 23,
    "start_time": "2023-06-03T13:04:34.636Z"
   },
   {
    "duration": 35,
    "start_time": "2023-06-03T13:04:34.660Z"
   },
   {
    "duration": 36,
    "start_time": "2023-06-03T13:04:34.707Z"
   },
   {
    "duration": 39,
    "start_time": "2023-06-03T13:04:34.745Z"
   },
   {
    "duration": 126,
    "start_time": "2023-06-03T13:04:34.791Z"
   },
   {
    "duration": 642,
    "start_time": "2023-06-03T13:04:34.919Z"
   },
   {
    "duration": 42,
    "start_time": "2023-06-03T13:04:35.572Z"
   },
   {
    "duration": 31,
    "start_time": "2023-06-03T13:04:35.632Z"
   },
   {
    "duration": 28,
    "start_time": "2023-06-03T13:04:35.675Z"
   },
   {
    "duration": 135,
    "start_time": "2023-06-03T13:04:35.711Z"
   },
   {
    "duration": 2551,
    "start_time": "2023-06-03T13:04:35.847Z"
   },
   {
    "duration": 137,
    "start_time": "2023-06-03T13:04:38.400Z"
   },
   {
    "duration": 48,
    "start_time": "2023-06-03T13:04:38.544Z"
   },
   {
    "duration": 142,
    "start_time": "2023-06-03T13:04:38.597Z"
   },
   {
    "duration": 125,
    "start_time": "2023-06-03T13:04:38.747Z"
   },
   {
    "duration": 46,
    "start_time": "2023-06-03T13:04:38.877Z"
   },
   {
    "duration": 110,
    "start_time": "2023-06-03T13:04:38.932Z"
   },
   {
    "duration": 7,
    "start_time": "2023-06-03T13:04:39.048Z"
   },
   {
    "duration": 50,
    "start_time": "2023-06-03T13:04:39.059Z"
   },
   {
    "duration": 12,
    "start_time": "2023-06-03T13:04:39.115Z"
   },
   {
    "duration": 17,
    "start_time": "2023-06-03T13:04:39.132Z"
   },
   {
    "duration": 42,
    "start_time": "2023-06-03T13:04:39.151Z"
   },
   {
    "duration": 2,
    "start_time": "2023-06-03T13:04:39.196Z"
   },
   {
    "duration": 434,
    "start_time": "2023-06-03T13:04:39.202Z"
   },
   {
    "duration": 17,
    "start_time": "2023-06-03T13:04:39.638Z"
   },
   {
    "duration": 0,
    "start_time": "2023-06-03T13:04:39.666Z"
   },
   {
    "duration": 0,
    "start_time": "2023-06-03T13:04:39.668Z"
   },
   {
    "duration": 0,
    "start_time": "2023-06-03T13:04:39.670Z"
   },
   {
    "duration": 0,
    "start_time": "2023-06-03T13:04:39.672Z"
   },
   {
    "duration": 0,
    "start_time": "2023-06-03T13:04:39.673Z"
   },
   {
    "duration": 0,
    "start_time": "2023-06-03T13:04:39.678Z"
   },
   {
    "duration": 0,
    "start_time": "2023-06-03T13:04:39.680Z"
   },
   {
    "duration": 0,
    "start_time": "2023-06-03T13:04:39.681Z"
   },
   {
    "duration": 0,
    "start_time": "2023-06-03T13:04:39.682Z"
   },
   {
    "duration": 0,
    "start_time": "2023-06-03T13:04:39.684Z"
   },
   {
    "duration": 0,
    "start_time": "2023-06-03T13:04:39.687Z"
   },
   {
    "duration": 0,
    "start_time": "2023-06-03T13:04:39.688Z"
   },
   {
    "duration": 0,
    "start_time": "2023-06-03T13:04:39.694Z"
   },
   {
    "duration": 0,
    "start_time": "2023-06-03T13:04:39.695Z"
   },
   {
    "duration": 0,
    "start_time": "2023-06-03T13:04:39.696Z"
   },
   {
    "duration": 271,
    "start_time": "2023-06-03T13:06:10.632Z"
   },
   {
    "duration": 239,
    "start_time": "2023-06-03T13:07:15.206Z"
   },
   {
    "duration": 22,
    "start_time": "2023-06-03T13:07:15.812Z"
   },
   {
    "duration": 213,
    "start_time": "2023-06-03T13:07:57.845Z"
   },
   {
    "duration": 127418,
    "start_time": "2023-06-03T13:08:46.329Z"
   },
   {
    "duration": 31,
    "start_time": "2023-06-03T13:10:53.752Z"
   },
   {
    "duration": 78885,
    "start_time": "2023-06-03T13:11:31.281Z"
   },
   {
    "duration": 51864,
    "start_time": "2023-06-03T13:13:12.986Z"
   },
   {
    "duration": 5459118,
    "start_time": "2023-06-03T13:14:11.687Z"
   },
   {
    "duration": 9,
    "start_time": "2023-06-03T14:45:10.815Z"
   },
   {
    "duration": 3361,
    "start_time": "2023-06-03T14:56:54.545Z"
   },
   {
    "duration": 2,
    "start_time": "2023-06-03T14:56:57.908Z"
   },
   {
    "duration": 3797,
    "start_time": "2023-06-03T14:56:57.912Z"
   },
   {
    "duration": 2102,
    "start_time": "2023-06-03T14:57:01.711Z"
   },
   {
    "duration": 1058,
    "start_time": "2023-06-03T14:57:03.815Z"
   },
   {
    "duration": 46,
    "start_time": "2023-06-03T14:57:04.876Z"
   },
   {
    "duration": 7,
    "start_time": "2023-06-03T14:57:04.925Z"
   },
   {
    "duration": 60,
    "start_time": "2023-06-03T14:57:04.934Z"
   },
   {
    "duration": 20,
    "start_time": "2023-06-03T14:57:04.996Z"
   },
   {
    "duration": 22,
    "start_time": "2023-06-03T14:57:05.018Z"
   },
   {
    "duration": 44,
    "start_time": "2023-06-03T14:57:05.042Z"
   },
   {
    "duration": 24,
    "start_time": "2023-06-03T14:57:05.088Z"
   },
   {
    "duration": 20,
    "start_time": "2023-06-03T14:57:05.114Z"
   },
   {
    "duration": 36,
    "start_time": "2023-06-03T14:57:05.137Z"
   },
   {
    "duration": 36,
    "start_time": "2023-06-03T14:57:05.175Z"
   },
   {
    "duration": 24,
    "start_time": "2023-06-03T14:57:05.213Z"
   },
   {
    "duration": 41,
    "start_time": "2023-06-03T14:57:05.240Z"
   },
   {
    "duration": 105,
    "start_time": "2023-06-03T14:57:05.282Z"
   },
   {
    "duration": 523,
    "start_time": "2023-06-03T14:57:05.397Z"
   },
   {
    "duration": 8,
    "start_time": "2023-06-03T14:57:05.921Z"
   },
   {
    "duration": 37,
    "start_time": "2023-06-03T14:57:05.930Z"
   },
   {
    "duration": 25,
    "start_time": "2023-06-03T14:57:05.969Z"
   },
   {
    "duration": 55,
    "start_time": "2023-06-03T14:57:05.999Z"
   },
   {
    "duration": 2155,
    "start_time": "2023-06-03T14:57:06.056Z"
   },
   {
    "duration": 102,
    "start_time": "2023-06-03T14:57:08.213Z"
   },
   {
    "duration": 19,
    "start_time": "2023-06-03T14:57:08.317Z"
   },
   {
    "duration": 113,
    "start_time": "2023-06-03T14:57:08.337Z"
   },
   {
    "duration": 81,
    "start_time": "2023-06-03T14:57:08.457Z"
   },
   {
    "duration": 29,
    "start_time": "2023-06-03T14:57:08.540Z"
   },
   {
    "duration": 71,
    "start_time": "2023-06-03T14:57:08.571Z"
   },
   {
    "duration": 4,
    "start_time": "2023-06-03T14:57:08.644Z"
   },
   {
    "duration": 33,
    "start_time": "2023-06-03T14:57:08.658Z"
   },
   {
    "duration": 5,
    "start_time": "2023-06-03T14:57:08.697Z"
   },
   {
    "duration": 12,
    "start_time": "2023-06-03T14:57:08.703Z"
   },
   {
    "duration": 16,
    "start_time": "2023-06-03T14:57:08.717Z"
   },
   {
    "duration": 5,
    "start_time": "2023-06-03T14:57:08.735Z"
   },
   {
    "duration": 26451,
    "start_time": "2023-06-03T14:57:08.742Z"
   },
   {
    "duration": 15,
    "start_time": "2023-06-03T14:57:35.197Z"
   },
   {
    "duration": 0,
    "start_time": "2023-06-03T14:57:35.214Z"
   },
   {
    "duration": 0,
    "start_time": "2023-06-03T14:57:35.215Z"
   },
   {
    "duration": 0,
    "start_time": "2023-06-03T14:57:35.217Z"
   },
   {
    "duration": 0,
    "start_time": "2023-06-03T14:57:35.218Z"
   },
   {
    "duration": 0,
    "start_time": "2023-06-03T14:57:35.219Z"
   },
   {
    "duration": 0,
    "start_time": "2023-06-03T14:57:35.220Z"
   },
   {
    "duration": 0,
    "start_time": "2023-06-03T14:57:35.221Z"
   },
   {
    "duration": 0,
    "start_time": "2023-06-03T14:57:35.222Z"
   },
   {
    "duration": 0,
    "start_time": "2023-06-03T14:57:35.223Z"
   },
   {
    "duration": 0,
    "start_time": "2023-06-03T14:57:35.224Z"
   },
   {
    "duration": 0,
    "start_time": "2023-06-03T14:57:35.226Z"
   },
   {
    "duration": 0,
    "start_time": "2023-06-03T14:57:35.227Z"
   },
   {
    "duration": 0,
    "start_time": "2023-06-03T14:57:35.228Z"
   },
   {
    "duration": 0,
    "start_time": "2023-06-03T14:57:35.229Z"
   },
   {
    "duration": 0,
    "start_time": "2023-06-03T14:57:35.231Z"
   },
   {
    "duration": 0,
    "start_time": "2023-06-03T14:57:35.260Z"
   },
   {
    "duration": 1217118,
    "start_time": "2023-06-03T14:57:36.226Z"
   },
   {
    "duration": 14,
    "start_time": "2023-06-03T15:17:53.346Z"
   },
   {
    "duration": 5,
    "start_time": "2023-06-03T15:24:02.501Z"
   },
   {
    "duration": 20,
    "start_time": "2023-06-03T15:24:37.153Z"
   },
   {
    "duration": 15,
    "start_time": "2023-06-03T15:25:18.894Z"
   },
   {
    "duration": 11,
    "start_time": "2023-06-03T15:25:56.190Z"
   },
   {
    "duration": 4,
    "start_time": "2023-06-03T15:26:18.528Z"
   },
   {
    "duration": 88,
    "start_time": "2023-06-03T15:28:24.937Z"
   },
   {
    "duration": 79,
    "start_time": "2023-06-03T15:29:10.945Z"
   },
   {
    "duration": 87,
    "start_time": "2023-06-03T15:29:22.755Z"
   },
   {
    "duration": 4,
    "start_time": "2023-06-03T15:30:16.582Z"
   },
   {
    "duration": 4,
    "start_time": "2023-06-03T15:30:24.948Z"
   },
   {
    "duration": 4,
    "start_time": "2023-06-03T15:30:32.193Z"
   },
   {
    "duration": 3,
    "start_time": "2023-06-03T15:30:42.770Z"
   },
   {
    "duration": 5,
    "start_time": "2023-06-03T15:30:49.403Z"
   },
   {
    "duration": 5,
    "start_time": "2023-06-03T15:32:27.402Z"
   },
   {
    "duration": 15,
    "start_time": "2023-06-03T15:32:49.952Z"
   },
   {
    "duration": 3,
    "start_time": "2023-06-03T15:33:02.210Z"
   },
   {
    "duration": 4,
    "start_time": "2023-06-03T15:33:53.426Z"
   },
   {
    "duration": 4,
    "start_time": "2023-06-03T15:34:06.529Z"
   },
   {
    "duration": 10,
    "start_time": "2023-06-03T15:34:33.914Z"
   },
   {
    "duration": 5,
    "start_time": "2023-06-03T15:34:49.008Z"
   },
   {
    "duration": 25,
    "start_time": "2023-06-03T15:35:26.954Z"
   },
   {
    "duration": 5467,
    "start_time": "2023-06-03T15:35:37.612Z"
   },
   {
    "duration": 477,
    "start_time": "2023-06-03T15:35:43.081Z"
   },
   {
    "duration": 7,
    "start_time": "2023-06-03T15:35:43.560Z"
   },
   {
    "duration": 7990,
    "start_time": "2023-06-03T15:36:21.880Z"
   },
   {
    "duration": 447,
    "start_time": "2023-06-03T15:36:29.871Z"
   },
   {
    "duration": 5,
    "start_time": "2023-06-03T15:36:30.320Z"
   },
   {
    "duration": 4,
    "start_time": "2023-06-03T15:38:03.375Z"
   },
   {
    "duration": 0,
    "start_time": "2023-06-03T15:42:45.425Z"
   },
   {
    "duration": 0,
    "start_time": "2023-06-03T15:42:45.427Z"
   },
   {
    "duration": 0,
    "start_time": "2023-06-03T15:42:45.428Z"
   },
   {
    "duration": 129327,
    "start_time": "2023-06-03T15:43:31.603Z"
   },
   {
    "duration": 840,
    "start_time": "2023-06-03T15:45:40.932Z"
   },
   {
    "duration": 9,
    "start_time": "2023-06-03T15:45:41.774Z"
   },
   {
    "duration": 4,
    "start_time": "2023-06-03T15:51:04.239Z"
   },
   {
    "duration": 19,
    "start_time": "2023-06-03T15:51:52.378Z"
   },
   {
    "duration": 4,
    "start_time": "2023-06-03T15:59:30.810Z"
   },
   {
    "duration": 5,
    "start_time": "2023-06-03T15:59:39.773Z"
   },
   {
    "duration": 6,
    "start_time": "2023-06-03T16:01:44.190Z"
   },
   {
    "duration": 3,
    "start_time": "2023-06-03T16:03:03.704Z"
   },
   {
    "duration": 6953,
    "start_time": "2023-06-03T16:03:04.476Z"
   },
   {
    "duration": 229831,
    "start_time": "2023-06-03T16:03:18.684Z"
   },
   {
    "duration": 4,
    "start_time": "2023-06-03T16:12:26.189Z"
   },
   {
    "duration": 85547,
    "start_time": "2023-06-03T16:12:40.032Z"
   },
   {
    "duration": 309893,
    "start_time": "2023-06-03T16:15:40.520Z"
   },
   {
    "duration": 5,
    "start_time": "2023-06-03T16:20:50.416Z"
   },
   {
    "duration": 1011200,
    "start_time": "2023-06-03T16:23:30.388Z"
   },
   {
    "duration": 5,
    "start_time": "2023-06-03T16:40:21.589Z"
   },
   {
    "duration": 1564,
    "start_time": "2023-06-03T16:41:39.712Z"
   },
   {
    "duration": 20,
    "start_time": "2023-06-03T16:43:19.853Z"
   },
   {
    "duration": 992,
    "start_time": "2023-06-03T16:44:16.980Z"
   },
   {
    "duration": 354,
    "start_time": "2023-06-03T16:44:24.806Z"
   },
   {
    "duration": 2310,
    "start_time": "2023-06-03T16:45:36.867Z"
   },
   {
    "duration": 702,
    "start_time": "2023-06-03T16:45:39.256Z"
   },
   {
    "duration": 9,
    "start_time": "2023-06-03T16:46:41.462Z"
   },
   {
    "duration": 3,
    "start_time": "2023-06-03T16:47:55.420Z"
   },
   {
    "duration": 3,
    "start_time": "2023-06-03T16:49:29.498Z"
   },
   {
    "duration": 20079,
    "start_time": "2023-06-03T16:49:37.062Z"
   },
   {
    "duration": 14,
    "start_time": "2023-06-03T16:50:12.033Z"
   },
   {
    "duration": 13,
    "start_time": "2023-06-03T17:07:11.770Z"
   },
   {
    "duration": 18,
    "start_time": "2023-06-03T17:08:07.318Z"
   },
   {
    "duration": 17,
    "start_time": "2023-06-03T17:09:11.570Z"
   },
   {
    "duration": 11,
    "start_time": "2023-06-03T17:17:58.738Z"
   },
   {
    "duration": 16,
    "start_time": "2023-06-03T17:18:06.651Z"
   },
   {
    "duration": 120983,
    "start_time": "2023-06-03T17:20:37.934Z"
   },
   {
    "duration": 855,
    "start_time": "2023-06-03T17:22:38.919Z"
   },
   {
    "duration": 71,
    "start_time": "2023-06-03T17:22:39.776Z"
   },
   {
    "duration": 113,
    "start_time": "2023-06-03T17:27:57.070Z"
   },
   {
    "duration": 10,
    "start_time": "2023-06-03T17:28:03.892Z"
   },
   {
    "duration": 9,
    "start_time": "2023-06-03T17:28:25.711Z"
   },
   {
    "duration": 25,
    "start_time": "2023-06-03T17:29:00.148Z"
   },
   {
    "duration": 8,
    "start_time": "2023-06-03T17:30:32.598Z"
   },
   {
    "duration": 9,
    "start_time": "2023-06-03T17:31:20.030Z"
   },
   {
    "duration": 79,
    "start_time": "2023-06-03T17:35:04.572Z"
   },
   {
    "duration": 8,
    "start_time": "2023-06-03T17:38:48.104Z"
   },
   {
    "duration": 8,
    "start_time": "2023-06-03T17:38:53.988Z"
   },
   {
    "duration": 8,
    "start_time": "2023-06-03T17:39:38.033Z"
   },
   {
    "duration": 10,
    "start_time": "2023-06-03T17:40:12.878Z"
   },
   {
    "duration": 8,
    "start_time": "2023-06-03T17:41:56.426Z"
   },
   {
    "duration": 9,
    "start_time": "2023-06-03T17:42:14.422Z"
   },
   {
    "duration": 19117,
    "start_time": "2023-06-03T17:42:33.177Z"
   },
   {
    "duration": 1731,
    "start_time": "2023-06-04T05:34:56.855Z"
   },
   {
    "duration": 4,
    "start_time": "2023-06-04T05:34:58.589Z"
   },
   {
    "duration": 1212,
    "start_time": "2023-06-04T05:34:58.594Z"
   },
   {
    "duration": 1921,
    "start_time": "2023-06-04T05:34:59.808Z"
   },
   {
    "duration": 964,
    "start_time": "2023-06-04T05:35:01.732Z"
   },
   {
    "duration": 48,
    "start_time": "2023-06-04T05:35:02.698Z"
   },
   {
    "duration": 13,
    "start_time": "2023-06-04T05:35:02.751Z"
   },
   {
    "duration": 47,
    "start_time": "2023-06-04T05:35:02.766Z"
   },
   {
    "duration": 33,
    "start_time": "2023-06-04T05:35:02.816Z"
   },
   {
    "duration": 36,
    "start_time": "2023-06-04T05:35:02.854Z"
   },
   {
    "duration": 46,
    "start_time": "2023-06-04T05:35:02.892Z"
   },
   {
    "duration": 44,
    "start_time": "2023-06-04T05:35:02.940Z"
   },
   {
    "duration": 25,
    "start_time": "2023-06-04T05:35:02.986Z"
   },
   {
    "duration": 37,
    "start_time": "2023-06-04T05:35:03.018Z"
   },
   {
    "duration": 21,
    "start_time": "2023-06-04T05:35:03.060Z"
   },
   {
    "duration": 25,
    "start_time": "2023-06-04T05:35:03.083Z"
   },
   {
    "duration": 28,
    "start_time": "2023-06-04T05:35:03.110Z"
   },
   {
    "duration": 85,
    "start_time": "2023-06-04T05:35:03.140Z"
   },
   {
    "duration": 499,
    "start_time": "2023-06-04T05:35:03.227Z"
   },
   {
    "duration": 7,
    "start_time": "2023-06-04T05:35:03.727Z"
   },
   {
    "duration": 58,
    "start_time": "2023-06-04T05:35:03.742Z"
   },
   {
    "duration": 14,
    "start_time": "2023-06-04T05:35:03.801Z"
   },
   {
    "duration": 90,
    "start_time": "2023-06-04T05:35:03.817Z"
   },
   {
    "duration": 1825,
    "start_time": "2023-06-04T05:35:03.909Z"
   },
   {
    "duration": 96,
    "start_time": "2023-06-04T05:35:05.736Z"
   },
   {
    "duration": 30,
    "start_time": "2023-06-04T05:35:05.834Z"
   },
   {
    "duration": 98,
    "start_time": "2023-06-04T05:35:05.866Z"
   },
   {
    "duration": 58,
    "start_time": "2023-06-04T05:35:05.966Z"
   },
   {
    "duration": 40,
    "start_time": "2023-06-04T05:35:06.026Z"
   },
   {
    "duration": 106,
    "start_time": "2023-06-04T05:35:06.069Z"
   },
   {
    "duration": 5,
    "start_time": "2023-06-04T05:35:06.177Z"
   },
   {
    "duration": 48,
    "start_time": "2023-06-04T05:35:06.184Z"
   },
   {
    "duration": 25,
    "start_time": "2023-06-04T05:35:06.234Z"
   },
   {
    "duration": 12,
    "start_time": "2023-06-04T05:35:06.261Z"
   },
   {
    "duration": 32,
    "start_time": "2023-06-04T05:35:06.275Z"
   },
   {
    "duration": 4,
    "start_time": "2023-06-04T05:35:06.309Z"
   },
   {
    "duration": 12845,
    "start_time": "2023-06-04T05:35:06.314Z"
   },
   {
    "duration": 14,
    "start_time": "2023-06-04T05:35:19.161Z"
   },
   {
    "duration": 0,
    "start_time": "2023-06-04T05:35:19.177Z"
   },
   {
    "duration": 0,
    "start_time": "2023-06-04T05:35:19.178Z"
   },
   {
    "duration": 0,
    "start_time": "2023-06-04T05:35:19.180Z"
   },
   {
    "duration": 0,
    "start_time": "2023-06-04T05:35:19.181Z"
   },
   {
    "duration": 0,
    "start_time": "2023-06-04T05:35:19.182Z"
   },
   {
    "duration": 0,
    "start_time": "2023-06-04T05:35:19.183Z"
   },
   {
    "duration": 0,
    "start_time": "2023-06-04T05:35:19.184Z"
   },
   {
    "duration": 0,
    "start_time": "2023-06-04T05:35:19.185Z"
   },
   {
    "duration": 0,
    "start_time": "2023-06-04T05:35:19.186Z"
   },
   {
    "duration": 0,
    "start_time": "2023-06-04T05:35:19.187Z"
   },
   {
    "duration": 0,
    "start_time": "2023-06-04T05:35:19.189Z"
   },
   {
    "duration": 0,
    "start_time": "2023-06-04T05:35:19.191Z"
   },
   {
    "duration": 0,
    "start_time": "2023-06-04T05:35:19.193Z"
   },
   {
    "duration": 0,
    "start_time": "2023-06-04T05:35:19.195Z"
   },
   {
    "duration": 0,
    "start_time": "2023-06-04T05:35:19.195Z"
   },
   {
    "duration": 1,
    "start_time": "2023-06-04T05:35:19.196Z"
   },
   {
    "duration": 0,
    "start_time": "2023-06-04T05:35:19.198Z"
   },
   {
    "duration": 0,
    "start_time": "2023-06-04T05:35:19.200Z"
   },
   {
    "duration": 0,
    "start_time": "2023-06-04T05:35:19.201Z"
   },
   {
    "duration": 0,
    "start_time": "2023-06-04T05:35:19.201Z"
   },
   {
    "duration": 0,
    "start_time": "2023-06-04T05:35:19.202Z"
   },
   {
    "duration": 0,
    "start_time": "2023-06-04T05:35:19.241Z"
   },
   {
    "duration": 11,
    "start_time": "2023-06-04T05:35:26.131Z"
   },
   {
    "duration": 126276,
    "start_time": "2023-06-04T05:35:37.920Z"
   },
   {
    "duration": 865,
    "start_time": "2023-06-04T05:37:44.199Z"
   },
   {
    "duration": 8,
    "start_time": "2023-06-04T05:37:45.066Z"
   },
   {
    "duration": 4,
    "start_time": "2023-06-04T05:38:01.809Z"
   },
   {
    "duration": 4817,
    "start_time": "2023-06-04T05:38:04.409Z"
   },
   {
    "duration": 13,
    "start_time": "2023-06-04T05:38:12.515Z"
   },
   {
    "duration": 166886,
    "start_time": "2023-06-04T05:38:17.070Z"
   },
   {
    "duration": 786,
    "start_time": "2023-06-04T05:41:03.957Z"
   },
   {
    "duration": 8,
    "start_time": "2023-06-04T05:41:04.744Z"
   },
   {
    "duration": 4,
    "start_time": "2023-06-04T05:44:20.562Z"
   },
   {
    "duration": 4465,
    "start_time": "2023-06-04T05:44:21.886Z"
   },
   {
    "duration": 1586,
    "start_time": "2023-06-04T05:45:53.973Z"
   },
   {
    "duration": 1496,
    "start_time": "2023-06-04T05:47:56.437Z"
   },
   {
    "duration": 5,
    "start_time": "2023-06-04T05:49:18.113Z"
   },
   {
    "duration": 25225,
    "start_time": "2023-06-04T05:49:18.743Z"
   },
   {
    "duration": 25236,
    "start_time": "2023-06-04T05:52:57.896Z"
   },
   {
    "duration": 196914,
    "start_time": "2023-06-04T06:02:37.911Z"
   },
   {
    "duration": 76170,
    "start_time": "2023-06-04T06:06:35.399Z"
   },
   {
    "duration": 1920875,
    "start_time": "2023-06-04T06:07:58.013Z"
   },
   {
    "duration": 5,
    "start_time": "2023-06-04T06:41:20.012Z"
   },
   {
    "duration": 115047,
    "start_time": "2023-06-04T06:42:28.934Z"
   },
   {
    "duration": 4,
    "start_time": "2023-06-04T06:44:36.482Z"
   },
   {
    "duration": 13,
    "start_time": "2023-06-04T06:44:42.220Z"
   },
   {
    "duration": 8,
    "start_time": "2023-06-04T06:44:57.822Z"
   },
   {
    "duration": 6973,
    "start_time": "2023-06-04T06:46:02.773Z"
   },
   {
    "duration": 482,
    "start_time": "2023-06-04T06:46:09.749Z"
   },
   {
    "duration": 52,
    "start_time": "2023-06-04T06:46:37.977Z"
   },
   {
    "duration": 119293,
    "start_time": "2023-06-04T06:47:14.376Z"
   },
   {
    "duration": 4,
    "start_time": "2023-06-04T06:49:45.658Z"
   },
   {
    "duration": 6893,
    "start_time": "2023-06-04T06:50:03.548Z"
   },
   {
    "duration": 483,
    "start_time": "2023-06-04T06:50:20.571Z"
   },
   {
    "duration": 48,
    "start_time": "2023-06-04T06:51:41.353Z"
   },
   {
    "duration": 6859,
    "start_time": "2023-06-04T06:52:16.280Z"
   },
   {
    "duration": 497,
    "start_time": "2023-06-04T06:52:58.378Z"
   },
   {
    "duration": 4995,
    "start_time": "2023-06-04T06:58:07.213Z"
   },
   {
    "duration": 29,
    "start_time": "2023-06-04T06:59:06.125Z"
   },
   {
    "duration": 9,
    "start_time": "2023-06-04T07:00:45.395Z"
   },
   {
    "duration": 8,
    "start_time": "2023-06-04T07:01:01.310Z"
   },
   {
    "duration": 79779,
    "start_time": "2023-06-04T07:01:52.516Z"
   },
   {
    "duration": 25407,
    "start_time": "2023-06-04T07:03:14.106Z"
   },
   {
    "duration": 18953,
    "start_time": "2023-06-04T07:03:58.848Z"
   },
   {
    "duration": 95330,
    "start_time": "2023-06-04T07:04:19.312Z"
   },
   {
    "duration": 164057,
    "start_time": "2023-06-04T07:05:55.704Z"
   },
   {
    "duration": 4,
    "start_time": "2023-06-04T07:09:21.973Z"
   },
   {
    "duration": 8979,
    "start_time": "2023-06-04T07:09:47.783Z"
   },
   {
    "duration": 8609,
    "start_time": "2023-06-04T07:10:49.001Z"
   },
   {
    "duration": 514,
    "start_time": "2023-06-04T07:10:57.612Z"
   },
   {
    "duration": 9,
    "start_time": "2023-06-04T07:13:48.917Z"
   },
   {
    "duration": 11,
    "start_time": "2023-06-04T07:27:15.036Z"
   },
   {
    "duration": 9,
    "start_time": "2023-06-04T07:27:22.189Z"
   },
   {
    "duration": 5,
    "start_time": "2023-06-04T07:27:39.100Z"
   },
   {
    "duration": 5,
    "start_time": "2023-06-04T07:27:41.603Z"
   },
   {
    "duration": 9,
    "start_time": "2023-06-04T07:27:41.982Z"
   },
   {
    "duration": 21,
    "start_time": "2023-06-04T07:28:34.536Z"
   },
   {
    "duration": 6,
    "start_time": "2023-06-04T07:28:35.251Z"
   },
   {
    "duration": 4,
    "start_time": "2023-06-04T07:28:40.284Z"
   },
   {
    "duration": 9,
    "start_time": "2023-06-04T07:28:40.652Z"
   },
   {
    "duration": 19,
    "start_time": "2023-06-04T07:29:43.534Z"
   },
   {
    "duration": 8,
    "start_time": "2023-06-04T07:37:36.100Z"
   },
   {
    "duration": 8,
    "start_time": "2023-06-04T07:38:16.690Z"
   },
   {
    "duration": 3,
    "start_time": "2023-06-04T07:38:57.417Z"
   },
   {
    "duration": 5236,
    "start_time": "2023-06-04T07:40:26.298Z"
   },
   {
    "duration": 245,
    "start_time": "2023-06-04T07:41:38.208Z"
   },
   {
    "duration": 7,
    "start_time": "2023-06-04T07:41:39.557Z"
   },
   {
    "duration": 4,
    "start_time": "2023-06-04T07:43:13.658Z"
   },
   {
    "duration": 5,
    "start_time": "2023-06-04T07:43:29.484Z"
   },
   {
    "duration": 69,
    "start_time": "2023-06-04T07:47:18.917Z"
   },
   {
    "duration": 6,
    "start_time": "2023-06-04T07:47:31.003Z"
   },
   {
    "duration": 4726,
    "start_time": "2023-06-04T08:06:41.312Z"
   },
   {
    "duration": 195,
    "start_time": "2023-06-04T08:06:52.914Z"
   },
   {
    "duration": 5,
    "start_time": "2023-06-04T08:06:54.786Z"
   },
   {
    "duration": 101,
    "start_time": "2023-06-04T11:27:54.088Z"
   },
   {
    "duration": 703,
    "start_time": "2023-06-06T15:37:13.125Z"
   }
  ],
  "kernelspec": {
   "display_name": "Python 3 (ipykernel)",
   "language": "python",
   "name": "python3"
  },
  "language_info": {
   "codemirror_mode": {
    "name": "ipython",
    "version": 3
   },
   "file_extension": ".py",
   "mimetype": "text/x-python",
   "name": "python",
   "nbconvert_exporter": "python",
   "pygments_lexer": "ipython3",
   "version": "3.10.9"
  },
  "toc": {
   "base_numbering": 1,
   "nav_menu": {},
   "number_sections": true,
   "sideBar": true,
   "skip_h1_title": true,
   "title_cell": "Table of Contents",
   "title_sidebar": "Contents",
   "toc_cell": false,
   "toc_position": {
    "height": "calc(100% - 180px)",
    "left": "10px",
    "top": "150px",
    "width": "284.233px"
   },
   "toc_section_display": true,
   "toc_window_display": true
  }
 },
 "nbformat": 4,
 "nbformat_minor": 2
}
