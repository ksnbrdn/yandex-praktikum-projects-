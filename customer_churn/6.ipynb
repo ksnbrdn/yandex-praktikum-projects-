{
 "cells": [
  {
   "cell_type": "markdown",
   "metadata": {},
   "source": [
    "# Отток клиентов"
   ]
  },
  {
   "cell_type": "markdown",
   "metadata": {},
   "source": [
    "##  Описание проекта"
   ]
  },
  {
   "cell_type": "markdown",
   "metadata": {},
   "source": [
    "Из «Бета-Банка» стали уходить клиенты. Каждый месяц. Немного, но заметно. Банковские маркетологи посчитали: сохранять текущих клиентов дешевле, чем привлекать новых.\n",
    "\n",
    "Нужно спрогнозировать, уйдёт клиент из банка в ближайшее время или нет. Нам предоставлены исторические данные о поведении клиентов и расторжении договоров с банком. \n",
    "\n",
    "Требуется построить модель с предельно большим значением *F1*-меры. Чтобы сдать проект успешно, нужно довести метрику до 0.59. Проверьте *F1*-меру на тестовой выборке самостоятельно.\n",
    "\n",
    "Дополнительно измеряйте *AUC-ROC*, сравнивайте её значение с *F1*-мерой.\n",
    "\n",
    "Источник данных: [https://www.kaggle.com/barelydedicated/bank-customer-churn-modeling](https://www.kaggle.com/barelydedicated/bank-customer-churn-modeling)\n",
    "\n",
    "Признаки:\n",
    "\n",
    "    RowNumber — индекс строки в данных\n",
    "    CustomerId — уникальный идентификатор клиента\n",
    "    Surname — фамилия\n",
    "    CreditScore — кредитный рейтинг\n",
    "    Geography — страна проживания\n",
    "    Gender — пол\n",
    "    Age — возраст\n",
    "    Tenure — сколько лет человек является клиентом банка\n",
    "    Balance — баланс на счёте\n",
    "    NumOfProducts — количество продуктов банка, используемых клиентом\n",
    "    HasCrCard — наличие кредитной карты\n",
    "    IsActiveMember — активность клиента\n",
    "    EstimatedSalary — предполагаемая зарплата\n",
    "\n",
    "Целевой признак:\n",
    "\n",
    "    Exited — факт ухода клиента"
   ]
  },
  {
   "cell_type": "markdown",
   "metadata": {},
   "source": [
    "##  Изучение файла с данными"
   ]
  },
  {
   "cell_type": "code",
   "execution_count": 228,
   "metadata": {},
   "outputs": [],
   "source": [
    "# Импортируем библиотеки\n",
    "import pandas as pd\n",
    "import numpy as np\n",
    "import matplotlib.pyplot as plt\n",
    "import re\n",
    "from sklearn.tree import DecisionTreeClassifier\n",
    "from sklearn.ensemble import RandomForestClassifier\n",
    "from sklearn.linear_model import LogisticRegression\n",
    "from sklearn.dummy import DummyClassifier\n",
    "from sklearn.model_selection import train_test_split\n",
    "from tqdm import tqdm\n",
    "from sklearn.preprocessing import StandardScaler\n",
    "from sklearn.metrics import f1_score,roc_curve, roc_auc_score\n",
    "from sklearn.utils import shuffle"
   ]
  },
  {
   "cell_type": "code",
   "execution_count": 229,
   "metadata": {},
   "outputs": [],
   "source": [
    "# Читаем данные из csv-файла в датафрейм и сохраним в переменную data\n",
    "data = pd.read_csv('https://code.s3.yandex.net/datasets/Churn.csv')"
   ]
  },
  {
   "cell_type": "code",
   "execution_count": 230,
   "metadata": {},
   "outputs": [],
   "source": [
    "# Функция для отображения общей информации \n",
    "def review(data): \n",
    "    info = display(data.head()),data.info(),\n",
    "    display(data.describe(include='all').round(2).T)\n",
    "    print('Количество дупликатов:', data.duplicated().sum())   "
   ]
  },
  {
   "cell_type": "code",
   "execution_count": 231,
   "metadata": {},
   "outputs": [
    {
     "data": {
      "text/html": [
       "<div>\n",
       "<style scoped>\n",
       "    .dataframe tbody tr th:only-of-type {\n",
       "        vertical-align: middle;\n",
       "    }\n",
       "\n",
       "    .dataframe tbody tr th {\n",
       "        vertical-align: top;\n",
       "    }\n",
       "\n",
       "    .dataframe thead th {\n",
       "        text-align: right;\n",
       "    }\n",
       "</style>\n",
       "<table border=\"1\" class=\"dataframe\">\n",
       "  <thead>\n",
       "    <tr style=\"text-align: right;\">\n",
       "      <th></th>\n",
       "      <th>RowNumber</th>\n",
       "      <th>CustomerId</th>\n",
       "      <th>Surname</th>\n",
       "      <th>CreditScore</th>\n",
       "      <th>Geography</th>\n",
       "      <th>Gender</th>\n",
       "      <th>Age</th>\n",
       "      <th>Tenure</th>\n",
       "      <th>Balance</th>\n",
       "      <th>NumOfProducts</th>\n",
       "      <th>HasCrCard</th>\n",
       "      <th>IsActiveMember</th>\n",
       "      <th>EstimatedSalary</th>\n",
       "      <th>Exited</th>\n",
       "    </tr>\n",
       "  </thead>\n",
       "  <tbody>\n",
       "    <tr>\n",
       "      <th>0</th>\n",
       "      <td>1</td>\n",
       "      <td>15634602</td>\n",
       "      <td>Hargrave</td>\n",
       "      <td>619</td>\n",
       "      <td>France</td>\n",
       "      <td>Female</td>\n",
       "      <td>42</td>\n",
       "      <td>2.0</td>\n",
       "      <td>0.00</td>\n",
       "      <td>1</td>\n",
       "      <td>1</td>\n",
       "      <td>1</td>\n",
       "      <td>101348.88</td>\n",
       "      <td>1</td>\n",
       "    </tr>\n",
       "    <tr>\n",
       "      <th>1</th>\n",
       "      <td>2</td>\n",
       "      <td>15647311</td>\n",
       "      <td>Hill</td>\n",
       "      <td>608</td>\n",
       "      <td>Spain</td>\n",
       "      <td>Female</td>\n",
       "      <td>41</td>\n",
       "      <td>1.0</td>\n",
       "      <td>83807.86</td>\n",
       "      <td>1</td>\n",
       "      <td>0</td>\n",
       "      <td>1</td>\n",
       "      <td>112542.58</td>\n",
       "      <td>0</td>\n",
       "    </tr>\n",
       "    <tr>\n",
       "      <th>2</th>\n",
       "      <td>3</td>\n",
       "      <td>15619304</td>\n",
       "      <td>Onio</td>\n",
       "      <td>502</td>\n",
       "      <td>France</td>\n",
       "      <td>Female</td>\n",
       "      <td>42</td>\n",
       "      <td>8.0</td>\n",
       "      <td>159660.80</td>\n",
       "      <td>3</td>\n",
       "      <td>1</td>\n",
       "      <td>0</td>\n",
       "      <td>113931.57</td>\n",
       "      <td>1</td>\n",
       "    </tr>\n",
       "    <tr>\n",
       "      <th>3</th>\n",
       "      <td>4</td>\n",
       "      <td>15701354</td>\n",
       "      <td>Boni</td>\n",
       "      <td>699</td>\n",
       "      <td>France</td>\n",
       "      <td>Female</td>\n",
       "      <td>39</td>\n",
       "      <td>1.0</td>\n",
       "      <td>0.00</td>\n",
       "      <td>2</td>\n",
       "      <td>0</td>\n",
       "      <td>0</td>\n",
       "      <td>93826.63</td>\n",
       "      <td>0</td>\n",
       "    </tr>\n",
       "    <tr>\n",
       "      <th>4</th>\n",
       "      <td>5</td>\n",
       "      <td>15737888</td>\n",
       "      <td>Mitchell</td>\n",
       "      <td>850</td>\n",
       "      <td>Spain</td>\n",
       "      <td>Female</td>\n",
       "      <td>43</td>\n",
       "      <td>2.0</td>\n",
       "      <td>125510.82</td>\n",
       "      <td>1</td>\n",
       "      <td>1</td>\n",
       "      <td>1</td>\n",
       "      <td>79084.10</td>\n",
       "      <td>0</td>\n",
       "    </tr>\n",
       "  </tbody>\n",
       "</table>\n",
       "</div>"
      ],
      "text/plain": [
       "   RowNumber  CustomerId   Surname  CreditScore Geography  Gender  Age  \\\n",
       "0          1    15634602  Hargrave          619    France  Female   42   \n",
       "1          2    15647311      Hill          608     Spain  Female   41   \n",
       "2          3    15619304      Onio          502    France  Female   42   \n",
       "3          4    15701354      Boni          699    France  Female   39   \n",
       "4          5    15737888  Mitchell          850     Spain  Female   43   \n",
       "\n",
       "   Tenure    Balance  NumOfProducts  HasCrCard  IsActiveMember  \\\n",
       "0     2.0       0.00              1          1               1   \n",
       "1     1.0   83807.86              1          0               1   \n",
       "2     8.0  159660.80              3          1               0   \n",
       "3     1.0       0.00              2          0               0   \n",
       "4     2.0  125510.82              1          1               1   \n",
       "\n",
       "   EstimatedSalary  Exited  \n",
       "0        101348.88       1  \n",
       "1        112542.58       0  \n",
       "2        113931.57       1  \n",
       "3         93826.63       0  \n",
       "4         79084.10       0  "
      ]
     },
     "metadata": {},
     "output_type": "display_data"
    },
    {
     "name": "stdout",
     "output_type": "stream",
     "text": [
      "<class 'pandas.core.frame.DataFrame'>\n",
      "RangeIndex: 10000 entries, 0 to 9999\n",
      "Data columns (total 14 columns):\n",
      " #   Column           Non-Null Count  Dtype  \n",
      "---  ------           --------------  -----  \n",
      " 0   RowNumber        10000 non-null  int64  \n",
      " 1   CustomerId       10000 non-null  int64  \n",
      " 2   Surname          10000 non-null  object \n",
      " 3   CreditScore      10000 non-null  int64  \n",
      " 4   Geography        10000 non-null  object \n",
      " 5   Gender           10000 non-null  object \n",
      " 6   Age              10000 non-null  int64  \n",
      " 7   Tenure           9091 non-null   float64\n",
      " 8   Balance          10000 non-null  float64\n",
      " 9   NumOfProducts    10000 non-null  int64  \n",
      " 10  HasCrCard        10000 non-null  int64  \n",
      " 11  IsActiveMember   10000 non-null  int64  \n",
      " 12  EstimatedSalary  10000 non-null  float64\n",
      " 13  Exited           10000 non-null  int64  \n",
      "dtypes: float64(3), int64(8), object(3)\n",
      "memory usage: 1.1+ MB\n"
     ]
    },
    {
     "data": {
      "text/html": [
       "<div>\n",
       "<style scoped>\n",
       "    .dataframe tbody tr th:only-of-type {\n",
       "        vertical-align: middle;\n",
       "    }\n",
       "\n",
       "    .dataframe tbody tr th {\n",
       "        vertical-align: top;\n",
       "    }\n",
       "\n",
       "    .dataframe thead th {\n",
       "        text-align: right;\n",
       "    }\n",
       "</style>\n",
       "<table border=\"1\" class=\"dataframe\">\n",
       "  <thead>\n",
       "    <tr style=\"text-align: right;\">\n",
       "      <th></th>\n",
       "      <th>count</th>\n",
       "      <th>unique</th>\n",
       "      <th>top</th>\n",
       "      <th>freq</th>\n",
       "      <th>mean</th>\n",
       "      <th>std</th>\n",
       "      <th>min</th>\n",
       "      <th>25%</th>\n",
       "      <th>50%</th>\n",
       "      <th>75%</th>\n",
       "      <th>max</th>\n",
       "    </tr>\n",
       "  </thead>\n",
       "  <tbody>\n",
       "    <tr>\n",
       "      <th>RowNumber</th>\n",
       "      <td>10000.0</td>\n",
       "      <td>NaN</td>\n",
       "      <td>NaN</td>\n",
       "      <td>NaN</td>\n",
       "      <td>5000.5</td>\n",
       "      <td>2886.9</td>\n",
       "      <td>1.0</td>\n",
       "      <td>2500.75</td>\n",
       "      <td>5000.5</td>\n",
       "      <td>7500.25</td>\n",
       "      <td>10000.0</td>\n",
       "    </tr>\n",
       "    <tr>\n",
       "      <th>CustomerId</th>\n",
       "      <td>10000.0</td>\n",
       "      <td>NaN</td>\n",
       "      <td>NaN</td>\n",
       "      <td>NaN</td>\n",
       "      <td>15690940.57</td>\n",
       "      <td>71936.19</td>\n",
       "      <td>15565701.0</td>\n",
       "      <td>15628528.25</td>\n",
       "      <td>15690738.0</td>\n",
       "      <td>15753233.75</td>\n",
       "      <td>15815690.0</td>\n",
       "    </tr>\n",
       "    <tr>\n",
       "      <th>Surname</th>\n",
       "      <td>10000</td>\n",
       "      <td>2932</td>\n",
       "      <td>Smith</td>\n",
       "      <td>32</td>\n",
       "      <td>NaN</td>\n",
       "      <td>NaN</td>\n",
       "      <td>NaN</td>\n",
       "      <td>NaN</td>\n",
       "      <td>NaN</td>\n",
       "      <td>NaN</td>\n",
       "      <td>NaN</td>\n",
       "    </tr>\n",
       "    <tr>\n",
       "      <th>CreditScore</th>\n",
       "      <td>10000.0</td>\n",
       "      <td>NaN</td>\n",
       "      <td>NaN</td>\n",
       "      <td>NaN</td>\n",
       "      <td>650.53</td>\n",
       "      <td>96.65</td>\n",
       "      <td>350.0</td>\n",
       "      <td>584.0</td>\n",
       "      <td>652.0</td>\n",
       "      <td>718.0</td>\n",
       "      <td>850.0</td>\n",
       "    </tr>\n",
       "    <tr>\n",
       "      <th>Geography</th>\n",
       "      <td>10000</td>\n",
       "      <td>3</td>\n",
       "      <td>France</td>\n",
       "      <td>5014</td>\n",
       "      <td>NaN</td>\n",
       "      <td>NaN</td>\n",
       "      <td>NaN</td>\n",
       "      <td>NaN</td>\n",
       "      <td>NaN</td>\n",
       "      <td>NaN</td>\n",
       "      <td>NaN</td>\n",
       "    </tr>\n",
       "    <tr>\n",
       "      <th>Gender</th>\n",
       "      <td>10000</td>\n",
       "      <td>2</td>\n",
       "      <td>Male</td>\n",
       "      <td>5457</td>\n",
       "      <td>NaN</td>\n",
       "      <td>NaN</td>\n",
       "      <td>NaN</td>\n",
       "      <td>NaN</td>\n",
       "      <td>NaN</td>\n",
       "      <td>NaN</td>\n",
       "      <td>NaN</td>\n",
       "    </tr>\n",
       "    <tr>\n",
       "      <th>Age</th>\n",
       "      <td>10000.0</td>\n",
       "      <td>NaN</td>\n",
       "      <td>NaN</td>\n",
       "      <td>NaN</td>\n",
       "      <td>38.92</td>\n",
       "      <td>10.49</td>\n",
       "      <td>18.0</td>\n",
       "      <td>32.0</td>\n",
       "      <td>37.0</td>\n",
       "      <td>44.0</td>\n",
       "      <td>92.0</td>\n",
       "    </tr>\n",
       "    <tr>\n",
       "      <th>Tenure</th>\n",
       "      <td>9091.0</td>\n",
       "      <td>NaN</td>\n",
       "      <td>NaN</td>\n",
       "      <td>NaN</td>\n",
       "      <td>5.0</td>\n",
       "      <td>2.89</td>\n",
       "      <td>0.0</td>\n",
       "      <td>2.0</td>\n",
       "      <td>5.0</td>\n",
       "      <td>7.0</td>\n",
       "      <td>10.0</td>\n",
       "    </tr>\n",
       "    <tr>\n",
       "      <th>Balance</th>\n",
       "      <td>10000.0</td>\n",
       "      <td>NaN</td>\n",
       "      <td>NaN</td>\n",
       "      <td>NaN</td>\n",
       "      <td>76485.89</td>\n",
       "      <td>62397.41</td>\n",
       "      <td>0.0</td>\n",
       "      <td>0.0</td>\n",
       "      <td>97198.54</td>\n",
       "      <td>127644.24</td>\n",
       "      <td>250898.09</td>\n",
       "    </tr>\n",
       "    <tr>\n",
       "      <th>NumOfProducts</th>\n",
       "      <td>10000.0</td>\n",
       "      <td>NaN</td>\n",
       "      <td>NaN</td>\n",
       "      <td>NaN</td>\n",
       "      <td>1.53</td>\n",
       "      <td>0.58</td>\n",
       "      <td>1.0</td>\n",
       "      <td>1.0</td>\n",
       "      <td>1.0</td>\n",
       "      <td>2.0</td>\n",
       "      <td>4.0</td>\n",
       "    </tr>\n",
       "    <tr>\n",
       "      <th>HasCrCard</th>\n",
       "      <td>10000.0</td>\n",
       "      <td>NaN</td>\n",
       "      <td>NaN</td>\n",
       "      <td>NaN</td>\n",
       "      <td>0.71</td>\n",
       "      <td>0.46</td>\n",
       "      <td>0.0</td>\n",
       "      <td>0.0</td>\n",
       "      <td>1.0</td>\n",
       "      <td>1.0</td>\n",
       "      <td>1.0</td>\n",
       "    </tr>\n",
       "    <tr>\n",
       "      <th>IsActiveMember</th>\n",
       "      <td>10000.0</td>\n",
       "      <td>NaN</td>\n",
       "      <td>NaN</td>\n",
       "      <td>NaN</td>\n",
       "      <td>0.52</td>\n",
       "      <td>0.5</td>\n",
       "      <td>0.0</td>\n",
       "      <td>0.0</td>\n",
       "      <td>1.0</td>\n",
       "      <td>1.0</td>\n",
       "      <td>1.0</td>\n",
       "    </tr>\n",
       "    <tr>\n",
       "      <th>EstimatedSalary</th>\n",
       "      <td>10000.0</td>\n",
       "      <td>NaN</td>\n",
       "      <td>NaN</td>\n",
       "      <td>NaN</td>\n",
       "      <td>100090.24</td>\n",
       "      <td>57510.49</td>\n",
       "      <td>11.58</td>\n",
       "      <td>51002.11</td>\n",
       "      <td>100193.92</td>\n",
       "      <td>149388.25</td>\n",
       "      <td>199992.48</td>\n",
       "    </tr>\n",
       "    <tr>\n",
       "      <th>Exited</th>\n",
       "      <td>10000.0</td>\n",
       "      <td>NaN</td>\n",
       "      <td>NaN</td>\n",
       "      <td>NaN</td>\n",
       "      <td>0.2</td>\n",
       "      <td>0.4</td>\n",
       "      <td>0.0</td>\n",
       "      <td>0.0</td>\n",
       "      <td>0.0</td>\n",
       "      <td>0.0</td>\n",
       "      <td>1.0</td>\n",
       "    </tr>\n",
       "  </tbody>\n",
       "</table>\n",
       "</div>"
      ],
      "text/plain": [
       "                   count unique     top  freq         mean       std  \\\n",
       "RowNumber        10000.0    NaN     NaN   NaN       5000.5    2886.9   \n",
       "CustomerId       10000.0    NaN     NaN   NaN  15690940.57  71936.19   \n",
       "Surname            10000   2932   Smith    32          NaN       NaN   \n",
       "CreditScore      10000.0    NaN     NaN   NaN       650.53     96.65   \n",
       "Geography          10000      3  France  5014          NaN       NaN   \n",
       "Gender             10000      2    Male  5457          NaN       NaN   \n",
       "Age              10000.0    NaN     NaN   NaN        38.92     10.49   \n",
       "Tenure            9091.0    NaN     NaN   NaN          5.0      2.89   \n",
       "Balance          10000.0    NaN     NaN   NaN     76485.89  62397.41   \n",
       "NumOfProducts    10000.0    NaN     NaN   NaN         1.53      0.58   \n",
       "HasCrCard        10000.0    NaN     NaN   NaN         0.71      0.46   \n",
       "IsActiveMember   10000.0    NaN     NaN   NaN         0.52       0.5   \n",
       "EstimatedSalary  10000.0    NaN     NaN   NaN    100090.24  57510.49   \n",
       "Exited           10000.0    NaN     NaN   NaN          0.2       0.4   \n",
       "\n",
       "                        min          25%         50%          75%         max  \n",
       "RowNumber               1.0      2500.75      5000.5      7500.25     10000.0  \n",
       "CustomerId       15565701.0  15628528.25  15690738.0  15753233.75  15815690.0  \n",
       "Surname                 NaN          NaN         NaN          NaN         NaN  \n",
       "CreditScore           350.0        584.0       652.0        718.0       850.0  \n",
       "Geography               NaN          NaN         NaN          NaN         NaN  \n",
       "Gender                  NaN          NaN         NaN          NaN         NaN  \n",
       "Age                    18.0         32.0        37.0         44.0        92.0  \n",
       "Tenure                  0.0          2.0         5.0          7.0        10.0  \n",
       "Balance                 0.0          0.0    97198.54    127644.24   250898.09  \n",
       "NumOfProducts           1.0          1.0         1.0          2.0         4.0  \n",
       "HasCrCard               0.0          0.0         1.0          1.0         1.0  \n",
       "IsActiveMember          0.0          0.0         1.0          1.0         1.0  \n",
       "EstimatedSalary       11.58     51002.11   100193.92    149388.25   199992.48  \n",
       "Exited                  0.0          0.0         0.0          0.0         1.0  "
      ]
     },
     "metadata": {},
     "output_type": "display_data"
    },
    {
     "name": "stdout",
     "output_type": "stream",
     "text": [
      "Количество дупликатов: 0\n"
     ]
    }
   ],
   "source": [
    "# Изучим общую информацию о полученном датафрейме\n",
    "review(data)"
   ]
  },
  {
   "cell_type": "markdown",
   "metadata": {},
   "source": [
    "В таблице 14 столбцов и 10000 строк. В признаке 'Tenure' есть пропущенные значения. Есть несколько категориальных признаков 'Surname', 'Geography' и 'Gender'. Явных дупликатов нет. "
   ]
  },
  {
   "cell_type": "markdown",
   "metadata": {},
   "source": [
    "## Предобработка данных"
   ]
  },
  {
   "cell_type": "markdown",
   "metadata": {},
   "source": [
    "### Работа с названиями столбцов"
   ]
  },
  {
   "cell_type": "markdown",
   "metadata": {},
   "source": [
    "Приведем названия столбцов к нижнему регистру ."
   ]
  },
  {
   "cell_type": "code",
   "execution_count": 232,
   "metadata": {},
   "outputs": [],
   "source": [
    "data.columns = [re.sub(r'(?<!^)(?=[A-Z])', '_', i).lower() for i in data.columns]"
   ]
  },
  {
   "cell_type": "code",
   "execution_count": 233,
   "metadata": {},
   "outputs": [
    {
     "data": {
      "text/plain": [
       "Index(['row_number', 'customer_id', 'surname', 'credit_score', 'geography',\n",
       "       'gender', 'age', 'tenure', 'balance', 'num_of_products', 'has_cr_card',\n",
       "       'is_active_member', 'estimated_salary', 'exited'],\n",
       "      dtype='object')"
      ]
     },
     "execution_count": 233,
     "metadata": {},
     "output_type": "execute_result"
    }
   ],
   "source": [
    "data.columns"
   ]
  },
  {
   "cell_type": "markdown",
   "metadata": {},
   "source": [
    "### Работа с пропущенными значениями "
   ]
  },
  {
   "cell_type": "markdown",
   "metadata": {},
   "source": [
    "Заполним пропуски в столбце 'tenure'"
   ]
  },
  {
   "cell_type": "code",
   "execution_count": 234,
   "metadata": {},
   "outputs": [
    {
     "data": {
      "text/plain": [
       "array([ 2.,  1.,  8.,  7.,  4.,  6.,  3., 10.,  5.,  9.,  0., nan])"
      ]
     },
     "execution_count": 234,
     "metadata": {},
     "output_type": "execute_result"
    }
   ],
   "source": [
    "# Проверим уникальные значения в столбце 'Tenure'\n",
    "data['tenure'].unique()"
   ]
  },
  {
   "cell_type": "code",
   "execution_count": 235,
   "metadata": {},
   "outputs": [],
   "source": [
    "# Заменим пропуски медианным значением и приведем к целочисленному типу\n",
    "data['tenure'] = data['tenure'].fillna(data['tenure'].median()).astype('int')"
   ]
  },
  {
   "cell_type": "markdown",
   "metadata": {},
   "source": [
    "### Работа с типами данных"
   ]
  },
  {
   "cell_type": "code",
   "execution_count": 236,
   "metadata": {},
   "outputs": [],
   "source": [
    "# Приведем столбцы с типом 'float64' к типу данных 'float32'\n",
    "float64_cols = list(data.select_dtypes(include='float64'))\n",
    "data[float64_cols] = data[float64_cols].astype('float32')\n",
    "\n",
    "# Приведем столбцы с типом 'int64' к типу данных 'int32'\n",
    "int64_cols = list(data.select_dtypes(include='int64'))\n",
    "data[int64_cols] = data[int64_cols].astype('int32')"
   ]
  },
  {
   "cell_type": "markdown",
   "metadata": {},
   "source": [
    "### Удаление столбцов"
   ]
  },
  {
   "cell_type": "markdown",
   "metadata": {},
   "source": [
    "Признаки 'row_number' - индекс строки датафрейма, 'customer_id' и 'surname' - идентификаторы клиента - не несут ценности для обучения будущей модели, поэтому их можно удалить. "
   ]
  },
  {
   "cell_type": "code",
   "execution_count": 237,
   "metadata": {},
   "outputs": [],
   "source": [
    "data.drop(['row_number', 'customer_id', 'surname'], inplace=True, axis=1)"
   ]
  },
  {
   "cell_type": "code",
   "execution_count": 238,
   "metadata": {},
   "outputs": [
    {
     "name": "stdout",
     "output_type": "stream",
     "text": [
      "<class 'pandas.core.frame.DataFrame'>\n",
      "RangeIndex: 10000 entries, 0 to 9999\n",
      "Data columns (total 11 columns):\n",
      " #   Column            Non-Null Count  Dtype  \n",
      "---  ------            --------------  -----  \n",
      " 0   credit_score      10000 non-null  int64  \n",
      " 1   geography         10000 non-null  object \n",
      " 2   gender            10000 non-null  object \n",
      " 3   age               10000 non-null  int64  \n",
      " 4   tenure            10000 non-null  int32  \n",
      " 5   balance           10000 non-null  float64\n",
      " 6   num_of_products   10000 non-null  int64  \n",
      " 7   has_cr_card       10000 non-null  int64  \n",
      " 8   is_active_member  10000 non-null  int64  \n",
      " 9   estimated_salary  10000 non-null  float64\n",
      " 10  exited            10000 non-null  int64  \n",
      "dtypes: float64(2), int32(1), int64(6), object(2)\n",
      "memory usage: 820.4+ KB\n"
     ]
    }
   ],
   "source": [
    "# Проверим изменения\n",
    "data.info()"
   ]
  },
  {
   "cell_type": "markdown",
   "metadata": {},
   "source": [
    "## Исследование задачи"
   ]
  },
  {
   "cell_type": "markdown",
   "metadata": {},
   "source": [
    "### Работа с категориальными признаками"
   ]
  },
  {
   "cell_type": "markdown",
   "metadata": {},
   "source": [
    "Выведем уникальные значения для столбцов 'gender' и 'geography'"
   ]
  },
  {
   "cell_type": "code",
   "execution_count": 239,
   "metadata": {},
   "outputs": [
    {
     "data": {
      "text/plain": [
       "array(['Female', 'Male'], dtype=object)"
      ]
     },
     "execution_count": 239,
     "metadata": {},
     "output_type": "execute_result"
    }
   ],
   "source": [
    "data['gender'].unique()"
   ]
  },
  {
   "cell_type": "code",
   "execution_count": 240,
   "metadata": {},
   "outputs": [
    {
     "data": {
      "text/plain": [
       "array(['France', 'Spain', 'Germany'], dtype=object)"
      ]
     },
     "execution_count": 240,
     "metadata": {},
     "output_type": "execute_result"
    }
   ],
   "source": [
    "data['geography'].unique()"
   ]
  },
  {
   "cell_type": "markdown",
   "metadata": {},
   "source": [
    "Преобразуем категориальные признаки в численные с помощью техники прямого кодирования OHE. Это позволит нам работать со всеми моделями."
   ]
  },
  {
   "cell_type": "code",
   "execution_count": 241,
   "metadata": {},
   "outputs": [
    {
     "data": {
      "text/html": [
       "<div>\n",
       "<style scoped>\n",
       "    .dataframe tbody tr th:only-of-type {\n",
       "        vertical-align: middle;\n",
       "    }\n",
       "\n",
       "    .dataframe tbody tr th {\n",
       "        vertical-align: top;\n",
       "    }\n",
       "\n",
       "    .dataframe thead th {\n",
       "        text-align: right;\n",
       "    }\n",
       "</style>\n",
       "<table border=\"1\" class=\"dataframe\">\n",
       "  <thead>\n",
       "    <tr style=\"text-align: right;\">\n",
       "      <th></th>\n",
       "      <th>credit_score</th>\n",
       "      <th>age</th>\n",
       "      <th>tenure</th>\n",
       "      <th>balance</th>\n",
       "      <th>num_of_products</th>\n",
       "      <th>has_cr_card</th>\n",
       "      <th>is_active_member</th>\n",
       "      <th>estimated_salary</th>\n",
       "      <th>exited</th>\n",
       "      <th>geography_Germany_x</th>\n",
       "      <th>geography_Spain_x</th>\n",
       "      <th>geography_Germany_y</th>\n",
       "      <th>geography_Spain_y</th>\n",
       "    </tr>\n",
       "  </thead>\n",
       "  <tbody>\n",
       "    <tr>\n",
       "      <th>0</th>\n",
       "      <td>619</td>\n",
       "      <td>42</td>\n",
       "      <td>2</td>\n",
       "      <td>0.00</td>\n",
       "      <td>1</td>\n",
       "      <td>1</td>\n",
       "      <td>1</td>\n",
       "      <td>101348.88</td>\n",
       "      <td>1</td>\n",
       "      <td>0</td>\n",
       "      <td>0</td>\n",
       "      <td>0</td>\n",
       "      <td>0</td>\n",
       "    </tr>\n",
       "    <tr>\n",
       "      <th>1</th>\n",
       "      <td>608</td>\n",
       "      <td>41</td>\n",
       "      <td>1</td>\n",
       "      <td>83807.86</td>\n",
       "      <td>1</td>\n",
       "      <td>0</td>\n",
       "      <td>1</td>\n",
       "      <td>112542.58</td>\n",
       "      <td>0</td>\n",
       "      <td>0</td>\n",
       "      <td>1</td>\n",
       "      <td>0</td>\n",
       "      <td>1</td>\n",
       "    </tr>\n",
       "    <tr>\n",
       "      <th>2</th>\n",
       "      <td>502</td>\n",
       "      <td>42</td>\n",
       "      <td>8</td>\n",
       "      <td>159660.80</td>\n",
       "      <td>3</td>\n",
       "      <td>1</td>\n",
       "      <td>0</td>\n",
       "      <td>113931.57</td>\n",
       "      <td>1</td>\n",
       "      <td>0</td>\n",
       "      <td>0</td>\n",
       "      <td>0</td>\n",
       "      <td>0</td>\n",
       "    </tr>\n",
       "    <tr>\n",
       "      <th>3</th>\n",
       "      <td>699</td>\n",
       "      <td>39</td>\n",
       "      <td>1</td>\n",
       "      <td>0.00</td>\n",
       "      <td>2</td>\n",
       "      <td>0</td>\n",
       "      <td>0</td>\n",
       "      <td>93826.63</td>\n",
       "      <td>0</td>\n",
       "      <td>0</td>\n",
       "      <td>0</td>\n",
       "      <td>0</td>\n",
       "      <td>0</td>\n",
       "    </tr>\n",
       "    <tr>\n",
       "      <th>4</th>\n",
       "      <td>850</td>\n",
       "      <td>43</td>\n",
       "      <td>2</td>\n",
       "      <td>125510.82</td>\n",
       "      <td>1</td>\n",
       "      <td>1</td>\n",
       "      <td>1</td>\n",
       "      <td>79084.10</td>\n",
       "      <td>0</td>\n",
       "      <td>0</td>\n",
       "      <td>1</td>\n",
       "      <td>0</td>\n",
       "      <td>1</td>\n",
       "    </tr>\n",
       "  </tbody>\n",
       "</table>\n",
       "</div>"
      ],
      "text/plain": [
       "   credit_score  age  tenure    balance  num_of_products  has_cr_card  \\\n",
       "0           619   42       2       0.00                1            1   \n",
       "1           608   41       1   83807.86                1            0   \n",
       "2           502   42       8  159660.80                3            1   \n",
       "3           699   39       1       0.00                2            0   \n",
       "4           850   43       2  125510.82                1            1   \n",
       "\n",
       "   is_active_member  estimated_salary  exited  geography_Germany_x  \\\n",
       "0                 1         101348.88       1                    0   \n",
       "1                 1         112542.58       0                    0   \n",
       "2                 0         113931.57       1                    0   \n",
       "3                 0          93826.63       0                    0   \n",
       "4                 1          79084.10       0                    0   \n",
       "\n",
       "   geography_Spain_x  geography_Germany_y  geography_Spain_y  \n",
       "0                  0                    0                  0  \n",
       "1                  1                    0                  1  \n",
       "2                  0                    0                  0  \n",
       "3                  0                    0                  0  \n",
       "4                  1                    0                  1  "
      ]
     },
     "execution_count": 241,
     "metadata": {},
     "output_type": "execute_result"
    }
   ],
   "source": [
    "ohe_columns = ['gender', 'geography']\n",
    "for column in ohe_columns:\n",
    "    ohe_data = pd.get_dummies(ohe_data, drop_first=True)\n",
    "    data = pd.merge(\n",
    "        left=data,\n",
    "        right=ohe_data,\n",
    "        left_index=True,\n",
    "        right_index=True,\n",
    "    )\n",
    "    data = data.drop(columns=column)\n",
    "data.head()"
   ]
  },
  {
   "cell_type": "markdown",
   "metadata": {},
   "source": [
    "Столбец 'geography' содержал 3 класса, 'gender'- 2 класса. В результате мы получили только 2 и 1 столбцов соответственно, что позволяет избежать дами-ловушки."
   ]
  },
  {
   "cell_type": "markdown",
   "metadata": {},
   "source": [
    "### Разобьем данные на выборки"
   ]
  },
  {
   "cell_type": "markdown",
   "metadata": {},
   "source": [
    "Разобьем данные столбца 'exited' на признаки и целевой признак, сохраним в отдельных переменных."
   ]
  },
  {
   "cell_type": "code",
   "execution_count": 242,
   "metadata": {},
   "outputs": [
    {
     "data": {
      "text/plain": [
       "((10000, 12), (10000,))"
      ]
     },
     "execution_count": 242,
     "metadata": {},
     "output_type": "execute_result"
    }
   ],
   "source": [
    "target = data['exited']\n",
    "features = data.drop(['exited'], axis=1)\n",
    "# Выведем на экран размеры этих переменных\n",
    "features.shape, target.shape"
   ]
  },
  {
   "cell_type": "markdown",
   "metadata": {},
   "source": [
    "Спрятанной тестовой выборки нет. Данные нужно разбить на три части: обучающую, валидационную и тестовую. Для этого исходные данные разбивают в соотношении 3:1:1. Размеры тестового и валидационного наборов обычно равны. Разобьем наши данные на 3 выборки: тренировочную - 60%, тестовую - 20% и валидационную - 20%."
   ]
  },
  {
   "cell_type": "code",
   "execution_count": 243,
   "metadata": {},
   "outputs": [],
   "source": [
    "# Разобьем данные на тренировочную и тестовую выборки\n",
    "features_train, features_test, target_train, target_test = train_test_split\\\n",
    "(features, target, train_size=0.6, random_state=12345, stratify=target)   "
   ]
  },
  {
   "cell_type": "code",
   "execution_count": 244,
   "metadata": {},
   "outputs": [],
   "source": [
    "# Отделим 20% данных для валидационной выборки\n",
    "features_test, features_valid, target_test, target_valid = train_test_split\\\n",
    "(features_test, target_test, test_size=0.5, random_state=12345, stratify=target_test)"
   ]
  },
  {
   "cell_type": "code",
   "execution_count": 245,
   "metadata": {},
   "outputs": [
    {
     "name": "stdout",
     "output_type": "stream",
     "text": [
      "(6000, 12)\n",
      "(6000,)\n",
      "(2000, 12)\n",
      "(2000,)\n",
      "(2000, 12)\n",
      "(2000,)\n"
     ]
    }
   ],
   "source": [
    "# Выведем на экран размеры этих выборок\n",
    "print(features_train.shape)\n",
    "print(target_train.shape)\n",
    "print(features_test.shape)\n",
    "print(target_test.shape)\n",
    "print(features_valid.shape)\n",
    "print(target_valid.shape)"
   ]
  },
  {
   "cell_type": "markdown",
   "metadata": {},
   "source": [
    "### Масштабирование признаков"
   ]
  },
  {
   "cell_type": "markdown",
   "metadata": {},
   "source": [
    "Чтобы алгоритмам было легче обучать модели, приведём признаки к одному масштабу с помощью метода стандартизации данных."
   ]
  },
  {
   "cell_type": "code",
   "execution_count": 246,
   "metadata": {},
   "outputs": [
    {
     "data": {
      "text/html": [
       "<div>\n",
       "<style scoped>\n",
       "    .dataframe tbody tr th:only-of-type {\n",
       "        vertical-align: middle;\n",
       "    }\n",
       "\n",
       "    .dataframe tbody tr th {\n",
       "        vertical-align: top;\n",
       "    }\n",
       "\n",
       "    .dataframe thead th {\n",
       "        text-align: right;\n",
       "    }\n",
       "</style>\n",
       "<table border=\"1\" class=\"dataframe\">\n",
       "  <thead>\n",
       "    <tr style=\"text-align: right;\">\n",
       "      <th></th>\n",
       "      <th>credit_score</th>\n",
       "      <th>age</th>\n",
       "      <th>tenure</th>\n",
       "      <th>balance</th>\n",
       "      <th>num_of_products</th>\n",
       "      <th>has_cr_card</th>\n",
       "      <th>is_active_member</th>\n",
       "      <th>estimated_salary</th>\n",
       "      <th>geography_Germany_x</th>\n",
       "      <th>geography_Spain_x</th>\n",
       "      <th>geography_Germany_y</th>\n",
       "      <th>geography_Spain_y</th>\n",
       "    </tr>\n",
       "  </thead>\n",
       "  <tbody>\n",
       "    <tr>\n",
       "      <th>2837</th>\n",
       "      <td>-1.040434</td>\n",
       "      <td>0.953312</td>\n",
       "      <td>0.360600</td>\n",
       "      <td>0.774657</td>\n",
       "      <td>-0.914708</td>\n",
       "      <td>0</td>\n",
       "      <td>1</td>\n",
       "      <td>-0.119110</td>\n",
       "      <td>1</td>\n",
       "      <td>0</td>\n",
       "      <td>1</td>\n",
       "      <td>0</td>\n",
       "    </tr>\n",
       "    <tr>\n",
       "      <th>9925</th>\n",
       "      <td>0.454006</td>\n",
       "      <td>-0.095244</td>\n",
       "      <td>-0.002786</td>\n",
       "      <td>1.910540</td>\n",
       "      <td>-0.914708</td>\n",
       "      <td>1</td>\n",
       "      <td>1</td>\n",
       "      <td>-0.258658</td>\n",
       "      <td>0</td>\n",
       "      <td>0</td>\n",
       "      <td>0</td>\n",
       "      <td>0</td>\n",
       "    </tr>\n",
       "    <tr>\n",
       "      <th>8746</th>\n",
       "      <td>0.103585</td>\n",
       "      <td>-0.476537</td>\n",
       "      <td>1.087371</td>\n",
       "      <td>0.481608</td>\n",
       "      <td>0.820981</td>\n",
       "      <td>0</td>\n",
       "      <td>1</td>\n",
       "      <td>1.422836</td>\n",
       "      <td>0</td>\n",
       "      <td>0</td>\n",
       "      <td>0</td>\n",
       "      <td>0</td>\n",
       "    </tr>\n",
       "    <tr>\n",
       "      <th>660</th>\n",
       "      <td>-0.184996</td>\n",
       "      <td>0.190726</td>\n",
       "      <td>-0.002786</td>\n",
       "      <td>0.088439</td>\n",
       "      <td>-0.914708</td>\n",
       "      <td>1</td>\n",
       "      <td>1</td>\n",
       "      <td>-1.160427</td>\n",
       "      <td>1</td>\n",
       "      <td>0</td>\n",
       "      <td>1</td>\n",
       "      <td>0</td>\n",
       "    </tr>\n",
       "    <tr>\n",
       "      <th>3610</th>\n",
       "      <td>-0.720933</td>\n",
       "      <td>1.620574</td>\n",
       "      <td>-1.456328</td>\n",
       "      <td>0.879129</td>\n",
       "      <td>-0.914708</td>\n",
       "      <td>1</td>\n",
       "      <td>0</td>\n",
       "      <td>0.113236</td>\n",
       "      <td>0</td>\n",
       "      <td>0</td>\n",
       "      <td>0</td>\n",
       "      <td>0</td>\n",
       "    </tr>\n",
       "  </tbody>\n",
       "</table>\n",
       "</div>"
      ],
      "text/plain": [
       "      credit_score       age    tenure   balance  num_of_products  \\\n",
       "2837     -1.040434  0.953312  0.360600  0.774657        -0.914708   \n",
       "9925      0.454006 -0.095244 -0.002786  1.910540        -0.914708   \n",
       "8746      0.103585 -0.476537  1.087371  0.481608         0.820981   \n",
       "660      -0.184996  0.190726 -0.002786  0.088439        -0.914708   \n",
       "3610     -0.720933  1.620574 -1.456328  0.879129        -0.914708   \n",
       "\n",
       "      has_cr_card  is_active_member  estimated_salary  geography_Germany_x  \\\n",
       "2837            0                 1         -0.119110                    1   \n",
       "9925            1                 1         -0.258658                    0   \n",
       "8746            0                 1          1.422836                    0   \n",
       "660             1                 1         -1.160427                    1   \n",
       "3610            1                 0          0.113236                    0   \n",
       "\n",
       "      geography_Spain_x  geography_Germany_y  geography_Spain_y  \n",
       "2837                  0                    1                  0  \n",
       "9925                  0                    0                  0  \n",
       "8746                  0                    0                  0  \n",
       "660                   0                    1                  0  \n",
       "3610                  0                    0                  0  "
      ]
     },
     "execution_count": 246,
     "metadata": {},
     "output_type": "execute_result"
    }
   ],
   "source": [
    "pd.options.mode.chained_assignment = None \n",
    "# Определим численные признаки для масштабирования\n",
    "numeric = ['credit_score', 'age', 'tenure', 'balance','num_of_products', 'estimated_salary']\n",
    "# Применим на обучающих данных\n",
    "scaler = StandardScaler()\n",
    "scaler.fit(features_train[numeric]) \n",
    "# Масштабируем численные признаки тренировочной выборки\n",
    "features_train[numeric] = scaler.transform(features_train[numeric])\n",
    "# Масштабируем численные признаки валидационную выборки\n",
    "features_valid[numeric] = scaler.transform(features_valid[numeric])\n",
    "# Масштабируем численные признаки тестовой выборки\n",
    "features_test[numeric] = scaler.transform(features_test[numeric])\n",
    "features_train.head()"
   ]
  },
  {
   "cell_type": "markdown",
   "metadata": {},
   "source": [
    "В результате мы получили масштабированные признаки для трех выборок. Масштаб у всех признаков теперь одинаковый."
   ]
  },
  {
   "cell_type": "markdown",
   "metadata": {},
   "source": [
    "###  Проверим дисбаланс в данных"
   ]
  },
  {
   "cell_type": "code",
   "execution_count": 247,
   "metadata": {},
   "outputs": [
    {
     "data": {
      "text/plain": [
       "0    79.63\n",
       "1    20.37\n",
       "Name: exited, dtype: float64"
      ]
     },
     "execution_count": 247,
     "metadata": {},
     "output_type": "execute_result"
    }
   ],
   "source": [
    "# Получим количество каждого значения для столбца 'exited' в %\n",
    "data['exited'].value_counts(normalize=True)*100"
   ]
  },
  {
   "cell_type": "markdown",
   "metadata": {},
   "source": [
    "В нашей выборке отрицательных ответов около 80% , положитительных чуть больше 20%. Можно сказать, что имеется дисбаланс данных."
   ]
  },
  {
   "cell_type": "markdown",
   "metadata": {},
   "source": [
    "В столбцах 'gender' и 'geography' преобразовали категориальные признаки в численные. Разобили данные столбца 'exited' на признаки и целевой признак, сохранили в отдельных переменных. Чтобы алгоритмам было легче обучать модели, привели признаки к одному масштабу с помощью метода стандартизации данных. Выявили сильный дисбаланс данных."
   ]
  },
  {
   "cell_type": "markdown",
   "metadata": {},
   "source": [
    "## Выберем лучшую модель без учета дисбаланса данных"
   ]
  },
  {
   "cell_type": "markdown",
   "metadata": {},
   "source": [
    "### Дерево решений"
   ]
  },
  {
   "cell_type": "code",
   "execution_count": 248,
   "metadata": {},
   "outputs": [
    {
     "name": "stderr",
     "output_type": "stream",
     "text": [
      "100%|██████████████████████████████████████████████████████████████████████████████████| 49/49 [00:04<00:00, 11.38it/s]"
     ]
    },
    {
     "name": "stdout",
     "output_type": "stream",
     "text": [
      "F1 наилучшей модели на валидационной выборке: 0.552 , с лучшим значением criterion = gini , лучшим значением max_depth = 7 и лучшим значением best_splitter = best\n"
     ]
    },
    {
     "name": "stderr",
     "output_type": "stream",
     "text": [
      "\n"
     ]
    }
   ],
   "source": [
    "best_model_dt = None\n",
    "best_result_dt = 0\n",
    "best_depth_dt = 0\n",
    "best_criterion_dt = 0\n",
    "best_splitter_dt =  0\n",
    "\n",
    "for depth in tqdm(range(1,50,1)):    \n",
    "    for criterion in ['gini', 'entropy']:\n",
    "        for splitter in ['best', 'random']:\n",
    "            model = DecisionTreeClassifier(\n",
    "            random_state=12345,\n",
    "            criterion=criterion,\n",
    "            max_depth=depth,\n",
    "            splitter=splitter   \n",
    "            )\n",
    "            model.fit(features_train, target_train)\n",
    "            predictions_valid = model.predict(features_valid)\n",
    "            result = f1_score(target_valid, predictions_valid)\n",
    "            if result > best_result_dt:\n",
    "                best_model_dt = model \n",
    "                best_result_dt = result \n",
    "                best_depth_dt = depth\n",
    "                best_criterion_dt = criterion\n",
    "                best_splitter_dt = splitter\n",
    "print('F1 наилучшей модели на валидационной выборке:', round((best_result_dt),3),\n",
    "      ',','с лучшим значением criterion =', best_criterion_dt,\n",
    "      ', лучшим значением max_depth =', best_depth_dt,\n",
    "      'и лучшим значением best_splitter =', best_splitter_dt\n",
    "     )   \n",
    "            \n",
    "            "
   ]
  },
  {
   "cell_type": "code",
   "execution_count": 251,
   "metadata": {},
   "outputs": [
    {
     "name": "stdout",
     "output_type": "stream",
     "text": [
      "Площадь ROC-кривой: 0.5\n"
     ]
    }
   ],
   "source": [
    "# Посчитаем значение AUC-ROC для лучшей модели дерева решений\n",
    "probabilities = best_model_dt.predict_proba(features)\n",
    "probabilities_one = probabilities[:, 1]\n",
    "print('Площадь ROC-кривой:', round(roc_auc_score(target, probabilities_one),3))"
   ]
  },
  {
   "cell_type": "markdown",
   "metadata": {},
   "source": [
    "### Случайный лес"
   ]
  },
  {
   "cell_type": "code",
   "execution_count": 250,
   "metadata": {},
   "outputs": [
    {
     "name": "stderr",
     "output_type": "stream",
     "text": [
      "100%|████████████████████████████████████████████████████████████████████████████████| 119/119 [47:22<00:00, 23.88s/it]"
     ]
    },
    {
     "name": "stdout",
     "output_type": "stream",
     "text": [
      "F1 наилучшей модели на валидационной выборке: 0.568 , с лучшим значением n_estimators = 23  и лучшим значением max_depth = 16\n"
     ]
    },
    {
     "name": "stderr",
     "output_type": "stream",
     "text": [
      "\n"
     ]
    }
   ],
   "source": [
    "best_model_rf = None\n",
    "best_result_rf = 0\n",
    "best_depth_rf = 0\n",
    "best_est_rf = 0\n",
    "\n",
    "for est in tqdm(range(1,120,1)):\n",
    "    for depth in range(1,50,1):\n",
    "        model = RandomForestClassifier(\n",
    "        random_state=12345,\n",
    "        n_estimators=est,\n",
    "        max_depth=depth\n",
    "        )\n",
    "        model.fit(features_train, target_train)\n",
    "        predictions_valid = model.predict(features_valid)\n",
    "        result = f1_score(target_valid, predictions_valid)\n",
    "        if result > best_result_rf:\n",
    "            best_model_rf = model \n",
    "            best_result_rf = result \n",
    "            best_depth_rf = depth\n",
    "            best_est_rf = est    \n",
    "print('F1 наилучшей модели на валидационной выборке:', round((best_result_rf),3),\n",
    "      ',','с лучшим значением n_estimators =', best_est_rf,\n",
    "      ' и лучшим значением max_depth =', best_depth_rf\n",
    "      )   "
   ]
  },
  {
   "cell_type": "code",
   "execution_count": 252,
   "metadata": {},
   "outputs": [
    {
     "name": "stdout",
     "output_type": "stream",
     "text": [
      "Площадь ROC-кривой: 0.414\n"
     ]
    }
   ],
   "source": [
    "# Посчитаем значение AUC-ROC для лучшей модели случайного леса\n",
    "probabilities = best_model_rf.predict_proba(features)\n",
    "probabilities_one = probabilities[:, 1]\n",
    "print('Площадь ROC-кривой:', round(roc_auc_score(target, probabilities_one),3))"
   ]
  },
  {
   "cell_type": "markdown",
   "metadata": {},
   "source": [
    "### Логистическая регрессия"
   ]
  },
  {
   "cell_type": "code",
   "execution_count": 253,
   "metadata": {},
   "outputs": [
    {
     "name": "stderr",
     "output_type": "stream",
     "text": [
      "100%|██████████████████████████████████████████████████████████████████████████████████| 90/90 [00:01<00:00, 77.14it/s]"
     ]
    },
    {
     "name": "stdout",
     "output_type": "stream",
     "text": [
      "F1 наилучшей модели на валидационной выборке: 0.262 , с лучшим значением max_iter = 10\n"
     ]
    },
    {
     "name": "stderr",
     "output_type": "stream",
     "text": [
      "\n"
     ]
    }
   ],
   "source": [
    "best_model_lr = None\n",
    "best_result_lr = 0\n",
    "best_iter_lr = 0\n",
    "\n",
    "for ex in tqdm(range(10,100,1)):\n",
    "    model = LogisticRegression(\n",
    "    random_state=12345,\n",
    "    solver='liblinear',\n",
    "    max_iter=ex\n",
    "    )\n",
    "    model.fit(features_train, target_train)\n",
    "    predictions_valid = model.predict(features_valid)\n",
    "    result = f1_score(target_valid, predictions_valid)\n",
    "    if result > best_result_lr:\n",
    "        best_model_lr = model \n",
    "        best_result_lr = result \n",
    "        best_iter_lr = ex\n",
    "print('F1 наилучшей модели на валидационной выборке:', round((best_result_lr),3),\n",
    "      ',','с лучшим значением max_iter =', best_iter_lr)   "
   ]
  },
  {
   "cell_type": "code",
   "execution_count": 254,
   "metadata": {},
   "outputs": [
    {
     "name": "stdout",
     "output_type": "stream",
     "text": [
      "Площадь ROC-кривой: 0.501\n"
     ]
    }
   ],
   "source": [
    "# Посчитаем значение AUC-ROC для лучшей модели логистической регрессии\n",
    "probabilities = best_model_lr.predict_proba(features)\n",
    "probabilities_one = probabilities[:, 1]\n",
    "print('Площадь ROC-кривой:', round(roc_auc_score(target, probabilities_one),3))"
   ]
  },
  {
   "cell_type": "markdown",
   "metadata": {},
   "source": [
    "На несбалансированных выборках лучшие результаты у случайного леса - мера F1 = 0.56. Самое высокое значение AUC-ROC у наилучшей модели дерева решений - 0.5. "
   ]
  },
  {
   "cell_type": "markdown",
   "metadata": {},
   "source": [
    "## Борьба с дисбалансом"
   ]
  },
  {
   "cell_type": "markdown",
   "metadata": {},
   "source": [
    "### Чтобы увеличить качество модели при дисбалансе классов, применим техники: upsampling и downsampling."
   ]
  },
  {
   "cell_type": "markdown",
   "metadata": {},
   "source": [
    "Применим технику upsampling "
   ]
  },
  {
   "cell_type": "code",
   "execution_count": 36,
   "metadata": {},
   "outputs": [
    {
     "name": "stdout",
     "output_type": "stream",
     "text": [
      "(9666, 11)\n",
      "(9666,)\n"
     ]
    }
   ],
   "source": [
    "def upsample(features, target, repeat):\n",
    "    # Разделим обучающую выборку на отрицательные и положительные объекты\n",
    "    features_zeros = features[target == 0]\n",
    "    features_ones = features[target == 1]\n",
    "    target_zeros = target_train[target_train == 0]\n",
    "    target_ones = target_train[target_train == 1]\n",
    "    # Объединим таблицы с признаками\n",
    "    features_upsampled = pd.concat([features_zeros] + [features_ones] * repeat)\n",
    "    target_upsampled = pd.concat([target_zeros] + [target_ones] * repeat)\n",
    "    # Добавим перемешивание  \n",
    "    features_upsampled, target_upsampled = shuffle(\n",
    "    features_upsampled, target_upsampled, random_state=12345)\n",
    "    return features_upsampled, target_upsampled\n",
    "\n",
    "features_upsampled, target_upsampled = upsample(features_train, target_train, 4)\n",
    "print(features_upsampled.shape)\n",
    "print(target_upsampled.shape)\n"
   ]
  },
  {
   "cell_type": "markdown",
   "metadata": {},
   "source": [
    "Применим технику  downsampling"
   ]
  },
  {
   "cell_type": "code",
   "execution_count": 38,
   "metadata": {},
   "outputs": [
    {
     "name": "stdout",
     "output_type": "stream",
     "text": [
      "(2416, 11)\n",
      "(2416,)\n"
     ]
    }
   ],
   "source": [
    "def downsample(features, target, fraction):\n",
    "    # Разделим обучающую выборку на отрицательные и положительные объекты\n",
    "    features_zeros = features[target == 0]\n",
    "    features_ones = features[target == 1]\n",
    "    target_zeros = target[target == 0]\n",
    "    target_ones = target[target == 1]\n",
    "    # Объединим таблицы с признаками\n",
    "    features_downsampled = pd.concat(\n",
    "        [features_zeros.sample(frac=fraction, random_state=12345)] + [features_ones])\n",
    "    target_downsampled = pd.concat(\n",
    "        [target_zeros.sample(frac=fraction, random_state=12345)] + [target_ones])\n",
    "    # Добавим перемешивание  \n",
    "    features_downsampled, target_downsampled = shuffle(\n",
    "        features_downsampled, target_downsampled, random_state=12345)\n",
    "    return features_downsampled, target_downsampled\n",
    "features_downsampled, target_downsampled = downsample(features_train, target_train, 0.25)\n",
    "print(features_downsampled.shape)\n",
    "print(target_downsampled.shape)"
   ]
  },
  {
   "cell_type": "markdown",
   "metadata": {},
   "source": [
    "Применив технику downsampling, данных стало сильно мало, это может привести к переобучению. Поэтому будем применять технику upsampling для дальнейшей проверки моделей. "
   ]
  },
  {
   "cell_type": "markdown",
   "metadata": {},
   "source": [
    "## Выберем лучшую модель,  учитывая дисбаланс данных"
   ]
  },
  {
   "cell_type": "markdown",
   "metadata": {},
   "source": [
    "### Исследуем технику upsampling как отдельную методику борьбы с дисбалансом и выберем лучшую модель."
   ]
  },
  {
   "cell_type": "markdown",
   "metadata": {},
   "source": [
    "Дерево решений"
   ]
  },
  {
   "cell_type": "code",
   "execution_count": 94,
   "metadata": {},
   "outputs": [
    {
     "name": "stderr",
     "output_type": "stream",
     "text": [
      "100%|██████████| 49/49 [00:05<00:00,  8.65it/s]"
     ]
    },
    {
     "name": "stdout",
     "output_type": "stream",
     "text": [
      "F1 наилучшей модели на валидационной выборке: 0.565 , с лучшим значением criterion = entropy , лучшим значением max_depth = 9 и лучшим значением best_splitter = random\n"
     ]
    },
    {
     "name": "stderr",
     "output_type": "stream",
     "text": [
      "\n"
     ]
    }
   ],
   "source": [
    "best_model_Dt = None\n",
    "best_result_Dt = 0\n",
    "best_depth_Dt = 0\n",
    "best_criterion_Dt = 0\n",
    "best_splitter_Dt =  0\n",
    "\n",
    "for depth in tqdm(range(1,50,1)):    \n",
    "    for criterion in ['gini', 'entropy']:\n",
    "        for splitter in ['best', 'random']:\n",
    "            model = DecisionTreeClassifier(\n",
    "            random_state=12345,\n",
    "            criterion=criterion,\n",
    "            max_depth=depth,\n",
    "            splitter=splitter   \n",
    "            )\n",
    "            model.fit(features_upsampled, target_upsampled)\n",
    "            predictions = model.predict(features_valid)\n",
    "            result = f1_score(target_valid, predictions)\n",
    "            if result > best_result_Dt:\n",
    "                best_model_Dt = model \n",
    "                best_result_Dt = result \n",
    "                best_depth_Dt = depth\n",
    "                best_criterion_Dt = criterion\n",
    "                best_splitter_Dt = splitter\n",
    "print('F1 наилучшей модели на валидационной выборке:', round((best_result_Dt),3),\n",
    "      ',','с лучшим значением criterion =', best_criterion_Dt,\n",
    "      ', лучшим значением max_depth =', best_depth_Dt,\n",
    "      'и лучшим значением best_splitter =', best_splitter_Dt\n",
    "     )   \n",
    "            "
   ]
  },
  {
   "cell_type": "code",
   "execution_count": 119,
   "metadata": {},
   "outputs": [
    {
     "name": "stdout",
     "output_type": "stream",
     "text": [
      "Площадь ROC-кривой: 0.373\n"
     ]
    }
   ],
   "source": [
    "# Посчитаем значение AUC-ROC для лучшей модели дерева решений\n",
    "probabilities = best_model_Dt.predict_proba(features)\n",
    "probabilities_one = probabilities[:, 1]\n",
    "print('Площадь ROC-кривой:', round(roc_auc_score(target, probabilities_one),3))"
   ]
  },
  {
   "cell_type": "markdown",
   "metadata": {},
   "source": [
    "Случайный лес"
   ]
  },
  {
   "cell_type": "code",
   "execution_count": 29,
   "metadata": {},
   "outputs": [
    {
     "name": "stderr",
     "output_type": "stream",
     "text": [
      "100%|██████████| 49/49 [03:15<00:00,  3.98s/it]"
     ]
    },
    {
     "name": "stdout",
     "output_type": "stream",
     "text": [
      "F1 наилучшей модели на валидационной выборке: 0.617 , с лучшим значением n_estimators = 21  и лучшим значением max_depth = 10\n"
     ]
    },
    {
     "name": "stderr",
     "output_type": "stream",
     "text": [
      "\n"
     ]
    }
   ],
   "source": [
    "best_model_Rf = None\n",
    "best_result_Rf = 0\n",
    "best_depth_Rf = 0\n",
    "best_est_Rf = 0\n",
    "\n",
    "for est in tqdm(range(1,50,1)):\n",
    "    for depth in range(1, 21):\n",
    "        model = RandomForestClassifier(\n",
    "        random_state=12345,   \n",
    "        n_estimators=est,\n",
    "        max_depth=depth\n",
    "        )\n",
    "        model.fit(features_upsampled, target_upsampled)\n",
    "        predictions = model.predict(features_valid)\n",
    "        result = f1_score(target_valid, predictions)\n",
    "        if result > best_result_Rf:\n",
    "            best_model_Rf = model \n",
    "            best_result_Rf = result \n",
    "            best_depth_Rf = depth\n",
    "            best_est_Rf = est    \n",
    "print('F1 наилучшей модели на валидационной выборке:', round((best_result_Rf),3),\n",
    "      ',','с лучшим значением n_estimators =', best_est_Rf,\n",
    "      ' и лучшим значением max_depth =', best_depth_Rf\n",
    "      )   "
   ]
  },
  {
   "cell_type": "code",
   "execution_count": 120,
   "metadata": {},
   "outputs": [
    {
     "name": "stdout",
     "output_type": "stream",
     "text": [
      "Площадь ROC-кривой: 0.4\n"
     ]
    }
   ],
   "source": [
    "# Посчитаем значение AUC-ROC для лучшей модели случайного леса\n",
    "probabilities = best_model_Rf.predict_proba(features)\n",
    "probabilities_one = probabilities[:, 1]\n",
    "print('Площадь ROC-кривой:', round(roc_auc_score(target, probabilities_one),3))"
   ]
  },
  {
   "cell_type": "markdown",
   "metadata": {},
   "source": [
    "Логистическая регрессия"
   ]
  },
  {
   "cell_type": "code",
   "execution_count": 93,
   "metadata": {},
   "outputs": [
    {
     "name": "stderr",
     "output_type": "stream",
     "text": [
      "100%|██████████| 90/90 [00:16<00:00,  5.60it/s]"
     ]
    },
    {
     "name": "stdout",
     "output_type": "stream",
     "text": [
      "F1 наилучшей модели на валидационной выборке: 0.477 , с лучшим значением max_iter = 10\n"
     ]
    },
    {
     "name": "stderr",
     "output_type": "stream",
     "text": [
      "\n"
     ]
    }
   ],
   "source": [
    "best_model_Lr = None\n",
    "best_result_Lr = 0\n",
    "best_iter_Lr = 0\n",
    "\n",
    "for ex in tqdm(range(10,100,1)):\n",
    "    model = LogisticRegression(\n",
    "    random_state=12345,  \n",
    "    solver='liblinear',\n",
    "    max_iter=ex\n",
    "    )\n",
    "    model.fit(features_upsampled, target_upsampled)\n",
    "    predictions = model.predict(features_valid)\n",
    "    result = f1_score(target_valid, predictions)\n",
    "    if result > best_result_Lr:\n",
    "        best_model_Lr = model \n",
    "        best_result_Lr = result \n",
    "        best_iter_Lr = ex\n",
    "print('F1 наилучшей модели на валидационной выборке:', round((best_result_Lr),3),\n",
    "      ',','с лучшим значением max_iter =', best_iter_Lr)   "
   ]
  },
  {
   "cell_type": "code",
   "execution_count": 121,
   "metadata": {},
   "outputs": [
    {
     "name": "stdout",
     "output_type": "stream",
     "text": [
      "Площадь ROC-кривой: 0.501\n"
     ]
    }
   ],
   "source": [
    "# Посчитаем значение AUC-ROC для лучшей модели логистической регрессии\n",
    "probabilities = best_model_Lr.predict_proba(features)\n",
    "probabilities_one = probabilities[:, 1]\n",
    "print('Площадь ROC-кривой:', round(roc_auc_score(target, probabilities_one),3))"
   ]
  },
  {
   "cell_type": "markdown",
   "metadata": {},
   "source": [
    "На сбалансированных выборках методом upsampling лучшие результаты у случайного леса - мера F1 = 0.61. Самое высокое значение AUC-ROC у наилучшей модели логистической регрессии - 0.5. "
   ]
  },
  {
   "cell_type": "markdown",
   "metadata": {},
   "source": [
    "### Исследуем class_weight='balanced' как отдельную технику борьбы с дисбалансом и выберем лучшую модель."
   ]
  },
  {
   "cell_type": "markdown",
   "metadata": {},
   "source": [
    "Дерево решений"
   ]
  },
  {
   "cell_type": "code",
   "execution_count": 105,
   "metadata": {},
   "outputs": [
    {
     "name": "stderr",
     "output_type": "stream",
     "text": [
      "100%|██████████| 49/49 [00:04<00:00, 11.17it/s]"
     ]
    },
    {
     "name": "stdout",
     "output_type": "stream",
     "text": [
      "F1 наилучшей модели на валидационной выборке: 0.569 , с лучшим значением criterion = entropy , лучшим значением max_depth = 8 и лучшим значением best_splitter = random\n"
     ]
    },
    {
     "name": "stderr",
     "output_type": "stream",
     "text": [
      "\n"
     ]
    }
   ],
   "source": [
    "best_model_dt_balanced = None\n",
    "best_result_dt_balanced = 0\n",
    "best_depth_dt_balanced = 0\n",
    "best_criterion_dt_balanced = 0\n",
    "best_splitter_dt_balanced =  0\n",
    "\n",
    "for depth in tqdm(range(1,50,1)):    \n",
    "    for criterion in ['gini', 'entropy']:\n",
    "        for splitter in ['best', 'random']:\n",
    "            model = DecisionTreeClassifier(\n",
    "            random_state=12345,\n",
    "            class_weight='balanced',    \n",
    "            criterion=criterion,\n",
    "            max_depth=depth,\n",
    "            splitter=splitter   \n",
    "            )\n",
    "            model.fit(features_train, target_train)\n",
    "            predictions_valid = model.predict(features_valid)\n",
    "            result = f1_score(target_valid, predictions_valid)\n",
    "            if result > best_result_dt_balanced:\n",
    "                best_model_dt_balanced = model \n",
    "                best_result_dt_balanced = result \n",
    "                best_depth_dt_balanced = depth\n",
    "                best_criterion_dt_balanced = criterion\n",
    "                best_splitter_dt_balanced = splitter\n",
    "print('F1 наилучшей модели на валидационной выборке:', round((best_result_dt_balanced),3),\n",
    "      ',','с лучшим значением criterion =', best_criterion_dt_balanced,\n",
    "      ', лучшим значением max_depth =', best_depth_dt_balanced,\n",
    "      'и лучшим значением best_splitter =', best_splitter_dt_balanced\n",
    "     )   "
   ]
  },
  {
   "cell_type": "markdown",
   "metadata": {},
   "source": [
    "Случайный лес"
   ]
  },
  {
   "cell_type": "code",
   "execution_count": 104,
   "metadata": {},
   "outputs": [
    {
     "name": "stderr",
     "output_type": "stream",
     "text": [
      "100%|██████████| 119/119 [14:05<00:00,  7.10s/it]"
     ]
    },
    {
     "name": "stdout",
     "output_type": "stream",
     "text": [
      "F1 наилучшей модели на валидационной выборке: 0.616 , с лучшим значением n_estimators = 80  и лучшим значением max_depth = 7\n"
     ]
    },
    {
     "name": "stderr",
     "output_type": "stream",
     "text": [
      "\n"
     ]
    }
   ],
   "source": [
    "best_model_rf_balanced = None\n",
    "best_result_rf_balanced = 0\n",
    "best_depth_rf_balanced = 0\n",
    "best_est_rf_balanced = 0\n",
    "\n",
    "for est in tqdm(range(1,120,1)):\n",
    "    for depth in range(1, 21):\n",
    "        model = RandomForestClassifier(\n",
    "        random_state=12345,\n",
    "        class_weight='balanced',    \n",
    "        n_estimators=est,\n",
    "        max_depth=depth\n",
    "        )\n",
    "        model.fit(features_train, target_train)\n",
    "        predictions_valid = model.predict(features_valid)\n",
    "        result = f1_score(target_valid, predictions_valid)\n",
    "        if result > best_result_rf_balanced:\n",
    "            best_model_rf_balanced = model \n",
    "            best_result_rf_balanced = result \n",
    "            best_depth_rf_balanced = depth\n",
    "            best_est_rf_balanced = est    \n",
    "print('F1 наилучшей модели на валидационной выборке:', round((best_result_rf_balanced),3),\n",
    "      ',','с лучшим значением n_estimators =', best_est_rf_balanced,\n",
    "      ' и лучшим значением max_depth =', best_depth_rf_balanced\n",
    "      )   "
   ]
  },
  {
   "cell_type": "markdown",
   "metadata": {},
   "source": [
    "Логистическая регрессия"
   ]
  },
  {
   "cell_type": "code",
   "execution_count": 110,
   "metadata": {},
   "outputs": [
    {
     "name": "stderr",
     "output_type": "stream",
     "text": [
      "100%|██████████| 90/90 [00:13<00:00,  6.79it/s]"
     ]
    },
    {
     "name": "stdout",
     "output_type": "stream",
     "text": [
      "F1 наилучшей модели на валидационной выборке: 0.477 , с лучшим значением max_iter = 10\n"
     ]
    },
    {
     "name": "stderr",
     "output_type": "stream",
     "text": [
      "\n"
     ]
    }
   ],
   "source": [
    "best_model_lr_balanced = None\n",
    "best_result_lr_balanced = 0\n",
    "best_iter_lr_balanced = 0\n",
    "\n",
    "for ex in tqdm(range(10,100,1)):\n",
    "    model = LogisticRegression(\n",
    "    random_state=12345,\n",
    "    class_weight='balanced',    \n",
    "    solver='liblinear',\n",
    "    max_iter=ex\n",
    "    )\n",
    "    model.fit(features_train, target_train)\n",
    "    predictions_valid = model.predict(features_valid)\n",
    "    result = f1_score(target_valid, predictions_valid)\n",
    "    if result > best_result_lr_balanced:\n",
    "        best_model_lr_balanced = model \n",
    "        best_result_lr_balanced = result \n",
    "        best_iter_lr_balanced = ex\n",
    "print('F1 наилучшей модели на валидационной выборке:', round((best_result_lr_balanced),3),\n",
    "      ',','с лучшим значением max_iter =', best_iter_lr_balanced)   "
   ]
  },
  {
   "cell_type": "markdown",
   "metadata": {},
   "source": [
    "Техника upsampling и class_weight='balanced' дали на выходе одинаковые показатели меры F1 лучших моделей. Мера F1 всех моделей стала больше. Самый лучший показатель у случайного леса 0.61. Выберем эту модель для финального тестирования."
   ]
  },
  {
   "cell_type": "markdown",
   "metadata": {},
   "source": [
    "## Проверим модель на тестовой выборке"
   ]
  },
  {
   "cell_type": "code",
   "execution_count": 33,
   "metadata": {},
   "outputs": [
    {
     "name": "stdout",
     "output_type": "stream",
     "text": [
      "F1 на тестовой выборке: 0.631\n"
     ]
    }
   ],
   "source": [
    "test_predictions = best_model_Rf.predict(features_test)\n",
    "print('F1 на тестовой выборке:', round(f1_score(test_predictions, target_test),3))"
   ]
  },
  {
   "cell_type": "markdown",
   "metadata": {},
   "source": [
    "На тестовой выборке доля правильных ответов больше, чем на обучающей выборке. "
   ]
  },
  {
   "cell_type": "markdown",
   "metadata": {},
   "source": [
    "Проверим нашу модель на адекватность, используя модель DummyClassifier. Она представляет собой простейшую (dummy) модель, которая всегда предсказывает наиболее часто встречающийся класс. Так мы получим контрольные данные для сравнительной оценки построенной нами более сложной модели."
   ]
  },
  {
   "cell_type": "code",
   "execution_count": 126,
   "metadata": {},
   "outputs": [
    {
     "data": {
      "text/plain": [
       "0.3388704318936877"
      ]
     },
     "execution_count": 126,
     "metadata": {},
     "output_type": "execute_result"
    }
   ],
   "source": [
    "dummy_model = DummyClassifier(strategy='constant', constant=1)\n",
    "dummy_model.fit(features_train, target_train)\n",
    "f1_score(dummy_model.predict(features_test), target_test)"
   ]
  },
  {
   "cell_type": "markdown",
   "metadata": {},
   "source": [
    "F1 модели DummyClassifier ниже, чем у нашей лучшей модели RandomForestClassifier. Наша модель адекватна и эффективна."
   ]
  },
  {
   "cell_type": "markdown",
   "metadata": {},
   "source": [
    "Построим ROC-кривую для лучшей модели случайного леса и изобразите её на графике."
   ]
  },
  {
   "cell_type": "code",
   "execution_count": 84,
   "metadata": {},
   "outputs": [
    {
     "data": {
      "image/png": "[encoded data removed]",
      "text/plain": [
       "<Figure size 432x288 with 1 Axes>"
      ]
     },
     "metadata": {
      "needs_background": "light"
     },
     "output_type": "display_data"
    }
   ],
   "source": [
    "probabilities_valid = best_model_Rf.predict_proba(features_valid)\n",
    "probabilities_one_valid = probabilities_valid[:, 1]\n",
    "fpr, tpr, thresholds = roc_curve(target_valid, probabilities_one_valid)\n",
    "plt.figure()\n",
    "plt.plot(fpr, tpr)\n",
    "plt.plot([0, 1], [0, 1], linestyle='--')\n",
    "plt.xlim([0.0, 1.0])\n",
    "plt.ylim([0.0, 1.0])\n",
    "plt.xlabel('False Positive Rate')\n",
    "plt.ylabel('True Positive Rate')\n",
    "plt.title('ROC-кривая')\n",
    "plt.show()"
   ]
  },
  {
   "cell_type": "code",
   "execution_count": 85,
   "metadata": {},
   "outputs": [
    {
     "name": "stdout",
     "output_type": "stream",
     "text": [
      "Значение AUC-ROC наилучшей модели случайного леса: 0.845\n"
     ]
    }
   ],
   "source": [
    "# Посчитаем значение AUC-ROC\n",
    "auc_roc = roc_auc_score(target_valid, probabilities_one_valid)\n",
    "print('Значение AUC-ROC наилучшей модели случайного леса:', round((auc_roc),3))"
   ]
  },
  {
   "cell_type": "markdown",
   "metadata": {},
   "source": [
    "## Общий вывод"
   ]
  },
  {
   "cell_type": "markdown",
   "metadata": {},
   "source": [
    "Было проведено исследование, чтобы спрогнозировать, уйдёт клиент из банка в ближайшее время или нет. Нам надо было построить модель с предельно большим значением F1-меры.  \n",
    "В нашем распоряжении данные о поведении клиентов и расторжении договоров с банком.  \n",
    "В ходе работы была выполнена предобработка данных.  \n",
    "Привели названия столбцов к нижнему регистру. Заполним пропуски в столбце 'tenure' медианным значением. Признаки 'rownumber' - индекс строки датафрейма, 'customerid' и 'surname' - идентификаторы клиента - не несут ценности для обучения будущей модели, поэтому мы их удалили.  \n",
    "В столбцах 'gender' и 'geography' преобразовали категориальные признаки в численные с помощью техники прямого кодирования OHE. Это позволило нам работать со всеми моделями. Столбец 'geography' содержал 3 класса, 'gender'- 2 класса. В результате мы получили только 2 и 1 столбцов соответственно, что позволяет избежать дами-ловушки.  \n",
    "Спрятанной тестовой выборки нет. Данные разбили на три части: обучающую, валидационную и тестовую в пропорции 60:20:20.  \n",
    "Чтобы алгоритмам было легче обучать модели, привели признаки к одному масштабу с помощью метода стандартизации данных StandardScaler. В результате мы получили масштабированные признаки для трех выборок. Масштаб у всех признаков стал одинаковый.  \n",
    "В наших данных имелся дисбаланс 1:4. Доля отрицательных ответов около 80% , положитительных - чуть больше 20%.  \n",
    "Были исследованы модели Decision Tree Classifier, RandomForestClassifier и Logistic Regression без учета дисбаланса данных. \n",
    "На несбалансированных выборках лучшие результаты у RandomForestClassifier - мера F1 = 0.56. Самое высокое значение AUC-ROC у наилучшей модели дерева решений - 0.5.  \n",
    "Чтобы увеличить качество модели при дисбалансе классов, применили техники: взвешивание классов, upsampling и downsampling. Применив технику downsampling, данных стало сильно мало, это могло привести к переобучению. Поэтому стали применять технику upsampling для дальнейшей проверки моделей.  \n",
    "Исследовали class_weight='balanced' как отдельную методику борьбы с дисбалансом и проверили на каждой модели. Техника upsampling и методика class_weight='balanced' дали на выходе одинаковые показатели меры F1 лучших моделей. Мера F1 всех моделей стала больше.  \n",
    "Были исследованы модели Decision Tree Classifier, RandomForestClassifier и Logistic Regression с учетом дисбаланса данных. Самое высокое значение AUC-ROC у наилучшей модели Logistic Regression - 0.5.  Самый лучший показатель F1 у RandomForestClassifier - 0.61, с лучшим значением n_estimators = 21  и лучшим значением max_depth = 10. Выбрали эту модель для финального тестирования.  \n",
    "На тестовой выборке F1 у лучшей модели RandomForestClassifier - 0.63.  \n",
    "Построили ROC-кривую для лучшей модели RandomForestClassifier и изобразили её на графике. Также посчитали значение AUC-ROC наилучшей модели RandomForestClassifier: 0.845.  \n",
    "Проверили нашу модель на адекватность, используя модель DummyClassifier. F1 модели DummyClassifier ниже, чем у нашей лучшей модели RandomForestClassifier. Наша модель адекватна и эффективна.\n"
   ]
  }
 ],
 "metadata": {
  "ExecuteTimeLog": [
   {
    "duration": 1129,
    "start_time": "2023-03-31T08:09:02.993Z"
   },
   {
    "duration": 41,
    "start_time": "2023-03-31T08:09:04.124Z"
   },
   {
    "duration": 12,
    "start_time": "2023-03-31T08:09:04.167Z"
   },
   {
    "duration": 22,
    "start_time": "2023-03-31T08:09:04.275Z"
   },
   {
    "duration": 17,
    "start_time": "2023-03-31T08:09:05.965Z"
   },
   {
    "duration": 60,
    "start_time": "2023-03-31T08:09:50.931Z"
   },
   {
    "duration": 3,
    "start_time": "2023-03-31T08:17:57.630Z"
   },
   {
    "duration": 41,
    "start_time": "2023-03-31T08:17:57.635Z"
   },
   {
    "duration": 12,
    "start_time": "2023-03-31T08:17:57.677Z"
   },
   {
    "duration": 14,
    "start_time": "2023-03-31T08:17:57.690Z"
   },
   {
    "duration": 47,
    "start_time": "2023-03-31T08:17:57.705Z"
   },
   {
    "duration": 10,
    "start_time": "2023-03-31T08:17:57.753Z"
   },
   {
    "duration": 5,
    "start_time": "2023-03-31T08:19:29.658Z"
   },
   {
    "duration": 84,
    "start_time": "2023-03-31T08:19:29.665Z"
   },
   {
    "duration": 13,
    "start_time": "2023-03-31T08:19:29.751Z"
   },
   {
    "duration": 25,
    "start_time": "2023-03-31T08:19:29.766Z"
   },
   {
    "duration": 64,
    "start_time": "2023-03-31T08:19:29.793Z"
   },
   {
    "duration": 24,
    "start_time": "2023-03-31T08:19:29.859Z"
   },
   {
    "duration": 152,
    "start_time": "2023-03-31T08:41:05.127Z"
   },
   {
    "duration": 223,
    "start_time": "2023-03-31T08:41:20.137Z"
   },
   {
    "duration": 5,
    "start_time": "2023-03-31T08:45:42.037Z"
   },
   {
    "duration": 5,
    "start_time": "2023-03-31T08:45:52.391Z"
   },
   {
    "duration": 5,
    "start_time": "2023-03-31T09:06:47.956Z"
   },
   {
    "duration": 11,
    "start_time": "2023-03-31T09:06:59.255Z"
   },
   {
    "duration": 5,
    "start_time": "2023-03-31T09:21:03.728Z"
   },
   {
    "duration": 49,
    "start_time": "2023-03-31T09:21:04.641Z"
   },
   {
    "duration": 18,
    "start_time": "2023-03-31T09:21:04.822Z"
   },
   {
    "duration": 17,
    "start_time": "2023-03-31T09:21:04.999Z"
   },
   {
    "duration": 45,
    "start_time": "2023-03-31T09:21:05.177Z"
   },
   {
    "duration": 15,
    "start_time": "2023-03-31T09:21:05.696Z"
   },
   {
    "duration": 7,
    "start_time": "2023-03-31T09:21:05.862Z"
   },
   {
    "duration": 15,
    "start_time": "2023-03-31T09:24:00.087Z"
   },
   {
    "duration": 1116,
    "start_time": "2023-04-01T06:04:56.881Z"
   },
   {
    "duration": 170,
    "start_time": "2023-04-01T06:04:57.999Z"
   },
   {
    "duration": 14,
    "start_time": "2023-04-01T06:04:58.171Z"
   },
   {
    "duration": 21,
    "start_time": "2023-04-01T06:04:58.187Z"
   },
   {
    "duration": 40,
    "start_time": "2023-04-01T06:04:58.211Z"
   },
   {
    "duration": 36,
    "start_time": "2023-04-01T06:04:58.253Z"
   },
   {
    "duration": 60,
    "start_time": "2023-04-01T06:04:58.291Z"
   },
   {
    "duration": 0,
    "start_time": "2023-04-01T06:04:58.353Z"
   },
   {
    "duration": 0,
    "start_time": "2023-04-01T06:04:58.355Z"
   },
   {
    "duration": 0,
    "start_time": "2023-04-01T06:04:58.356Z"
   },
   {
    "duration": 165,
    "start_time": "2023-04-01T06:05:13.529Z"
   },
   {
    "duration": 41,
    "start_time": "2023-04-01T06:09:59.023Z"
   },
   {
    "duration": 44,
    "start_time": "2023-04-01T06:10:58.502Z"
   },
   {
    "duration": 6,
    "start_time": "2023-04-01T06:12:52.863Z"
   },
   {
    "duration": 24,
    "start_time": "2023-04-01T06:16:47.199Z"
   },
   {
    "duration": 21,
    "start_time": "2023-04-01T06:17:50.752Z"
   },
   {
    "duration": 3,
    "start_time": "2023-04-01T06:23:05.765Z"
   },
   {
    "duration": 935,
    "start_time": "2023-04-01T06:32:46.395Z"
   },
   {
    "duration": 856,
    "start_time": "2023-04-01T06:33:14.691Z"
   },
   {
    "duration": 3,
    "start_time": "2023-04-01T06:34:04.143Z"
   },
   {
    "duration": 720,
    "start_time": "2023-04-01T06:34:04.490Z"
   },
   {
    "duration": 0,
    "start_time": "2023-04-01T06:34:05.212Z"
   },
   {
    "duration": 4,
    "start_time": "2023-04-01T06:34:46.869Z"
   },
   {
    "duration": 40,
    "start_time": "2023-04-01T06:34:46.875Z"
   },
   {
    "duration": 13,
    "start_time": "2023-04-01T06:34:46.917Z"
   },
   {
    "duration": 14,
    "start_time": "2023-04-01T06:34:46.932Z"
   },
   {
    "duration": 46,
    "start_time": "2023-04-01T06:34:46.948Z"
   },
   {
    "duration": 11,
    "start_time": "2023-04-01T06:34:46.996Z"
   },
   {
    "duration": 3,
    "start_time": "2023-04-01T06:34:47.008Z"
   },
   {
    "duration": 851,
    "start_time": "2023-04-01T06:34:47.013Z"
   },
   {
    "duration": 0,
    "start_time": "2023-04-01T06:34:47.865Z"
   },
   {
    "duration": 0,
    "start_time": "2023-04-01T06:34:47.866Z"
   },
   {
    "duration": 0,
    "start_time": "2023-04-01T06:34:47.867Z"
   },
   {
    "duration": 0,
    "start_time": "2023-04-01T06:34:47.869Z"
   },
   {
    "duration": 4,
    "start_time": "2023-04-01T06:35:50.568Z"
   },
   {
    "duration": 4,
    "start_time": "2023-04-01T06:35:56.666Z"
   },
   {
    "duration": 3,
    "start_time": "2023-04-01T06:35:59.048Z"
   },
   {
    "duration": 4,
    "start_time": "2023-04-01T06:37:42.656Z"
   },
   {
    "duration": 5,
    "start_time": "2023-04-01T06:40:15.473Z"
   },
   {
    "duration": 11,
    "start_time": "2023-04-01T06:47:47.195Z"
   },
   {
    "duration": 15,
    "start_time": "2023-04-01T06:47:59.857Z"
   },
   {
    "duration": 5,
    "start_time": "2023-04-01T06:48:00.744Z"
   },
   {
    "duration": 940,
    "start_time": "2023-04-01T06:48:00.924Z"
   },
   {
    "duration": 0,
    "start_time": "2023-04-01T06:48:01.865Z"
   },
   {
    "duration": 5,
    "start_time": "2023-04-01T06:48:32.173Z"
   },
   {
    "duration": 77,
    "start_time": "2023-04-01T06:48:32.180Z"
   },
   {
    "duration": 12,
    "start_time": "2023-04-01T06:48:32.259Z"
   },
   {
    "duration": 33,
    "start_time": "2023-04-01T06:48:32.273Z"
   },
   {
    "duration": 56,
    "start_time": "2023-04-01T06:48:32.308Z"
   },
   {
    "duration": 12,
    "start_time": "2023-04-01T06:48:32.365Z"
   },
   {
    "duration": 21,
    "start_time": "2023-04-01T06:48:32.378Z"
   },
   {
    "duration": 15,
    "start_time": "2023-04-01T06:48:32.402Z"
   },
   {
    "duration": 28,
    "start_time": "2023-04-01T06:48:32.418Z"
   },
   {
    "duration": 22,
    "start_time": "2023-04-01T06:48:32.448Z"
   },
   {
    "duration": 44,
    "start_time": "2023-04-01T06:48:32.474Z"
   },
   {
    "duration": 791,
    "start_time": "2023-04-01T06:48:32.519Z"
   },
   {
    "duration": 75,
    "start_time": "2023-04-01T06:48:33.312Z"
   },
   {
    "duration": 115,
    "start_time": "2023-04-01T06:48:33.391Z"
   },
   {
    "duration": 4,
    "start_time": "2023-04-01T06:52:35.790Z"
   },
   {
    "duration": 4,
    "start_time": "2023-04-01T06:53:25.159Z"
   },
   {
    "duration": 5,
    "start_time": "2023-04-01T06:53:30.828Z"
   },
   {
    "duration": 77,
    "start_time": "2023-04-01T06:53:30.835Z"
   },
   {
    "duration": 15,
    "start_time": "2023-04-01T06:53:30.914Z"
   },
   {
    "duration": 47,
    "start_time": "2023-04-01T06:53:30.931Z"
   },
   {
    "duration": 84,
    "start_time": "2023-04-01T06:53:30.980Z"
   },
   {
    "duration": 13,
    "start_time": "2023-04-01T06:53:31.066Z"
   },
   {
    "duration": 29,
    "start_time": "2023-04-01T06:53:31.080Z"
   },
   {
    "duration": 59,
    "start_time": "2023-04-01T06:53:31.111Z"
   },
   {
    "duration": 96,
    "start_time": "2023-04-01T06:53:31.172Z"
   },
   {
    "duration": 34,
    "start_time": "2023-04-01T06:53:31.269Z"
   },
   {
    "duration": 27,
    "start_time": "2023-04-01T06:53:31.304Z"
   },
   {
    "duration": 651,
    "start_time": "2023-04-01T06:53:31.333Z"
   },
   {
    "duration": 956,
    "start_time": "2023-04-01T06:53:31.987Z"
   },
   {
    "duration": 0,
    "start_time": "2023-04-01T06:53:32.945Z"
   },
   {
    "duration": 7,
    "start_time": "2023-04-01T06:55:02.415Z"
   },
   {
    "duration": 28,
    "start_time": "2023-04-01T06:55:13.623Z"
   },
   {
    "duration": 999,
    "start_time": "2023-04-01T06:55:18.597Z"
   },
   {
    "duration": 832,
    "start_time": "2023-04-01T06:55:52.457Z"
   },
   {
    "duration": 3,
    "start_time": "2023-04-01T06:58:04.454Z"
   },
   {
    "duration": 6,
    "start_time": "2023-04-01T06:58:04.869Z"
   },
   {
    "duration": 4,
    "start_time": "2023-04-01T07:02:20.402Z"
   },
   {
    "duration": 601,
    "start_time": "2023-04-01T07:02:21.891Z"
   },
   {
    "duration": 11,
    "start_time": "2023-04-01T07:03:06.016Z"
   },
   {
    "duration": 3,
    "start_time": "2023-04-01T07:03:40.635Z"
   },
   {
    "duration": 58,
    "start_time": "2023-04-01T07:03:40.640Z"
   },
   {
    "duration": 15,
    "start_time": "2023-04-01T07:03:40.700Z"
   },
   {
    "duration": 18,
    "start_time": "2023-04-01T07:03:40.717Z"
   },
   {
    "duration": 65,
    "start_time": "2023-04-01T07:03:40.737Z"
   },
   {
    "duration": 10,
    "start_time": "2023-04-01T07:03:40.804Z"
   },
   {
    "duration": 4,
    "start_time": "2023-04-01T07:03:40.817Z"
   },
   {
    "duration": 11,
    "start_time": "2023-04-01T07:03:40.822Z"
   },
   {
    "duration": 17,
    "start_time": "2023-04-01T07:03:40.835Z"
   },
   {
    "duration": 4,
    "start_time": "2023-04-01T07:03:40.853Z"
   },
   {
    "duration": 13,
    "start_time": "2023-04-01T07:03:40.859Z"
   },
   {
    "duration": 52,
    "start_time": "2023-04-01T07:03:40.874Z"
   },
   {
    "duration": 27,
    "start_time": "2023-04-01T07:03:40.927Z"
   },
   {
    "duration": 1050,
    "start_time": "2023-04-01T07:03:40.956Z"
   },
   {
    "duration": 1298,
    "start_time": "2023-04-01T07:03:42.089Z"
   },
   {
    "duration": 0,
    "start_time": "2023-04-01T07:03:43.389Z"
   },
   {
    "duration": 1470,
    "start_time": "2023-04-01T07:04:58.679Z"
   },
   {
    "duration": 4,
    "start_time": "2023-04-01T07:05:10.173Z"
   },
   {
    "duration": 4,
    "start_time": "2023-04-01T07:05:47.201Z"
   },
   {
    "duration": 13,
    "start_time": "2023-04-01T07:06:47.173Z"
   },
   {
    "duration": 10,
    "start_time": "2023-04-01T07:07:05.272Z"
   },
   {
    "duration": 11,
    "start_time": "2023-04-01T07:07:08.637Z"
   },
   {
    "duration": 4,
    "start_time": "2023-04-01T07:07:36.211Z"
   },
   {
    "duration": 100,
    "start_time": "2023-04-01T07:07:36.217Z"
   },
   {
    "duration": 12,
    "start_time": "2023-04-01T07:07:36.318Z"
   },
   {
    "duration": 28,
    "start_time": "2023-04-01T07:07:36.332Z"
   },
   {
    "duration": 108,
    "start_time": "2023-04-01T07:07:36.362Z"
   },
   {
    "duration": 26,
    "start_time": "2023-04-01T07:07:36.472Z"
   },
   {
    "duration": 4,
    "start_time": "2023-04-01T07:07:36.500Z"
   },
   {
    "duration": 18,
    "start_time": "2023-04-01T07:07:36.505Z"
   },
   {
    "duration": 25,
    "start_time": "2023-04-01T07:07:36.525Z"
   },
   {
    "duration": 14,
    "start_time": "2023-04-01T07:07:36.552Z"
   },
   {
    "duration": 38,
    "start_time": "2023-04-01T07:07:36.568Z"
   },
   {
    "duration": 30,
    "start_time": "2023-04-01T07:07:36.608Z"
   },
   {
    "duration": 20,
    "start_time": "2023-04-01T07:07:36.639Z"
   },
   {
    "duration": 1048,
    "start_time": "2023-04-01T07:07:36.660Z"
   },
   {
    "duration": 950,
    "start_time": "2023-04-01T07:07:37.710Z"
   },
   {
    "duration": 0,
    "start_time": "2023-04-01T07:07:38.662Z"
   },
   {
    "duration": 4,
    "start_time": "2023-04-01T07:08:08.045Z"
   },
   {
    "duration": 5,
    "start_time": "2023-04-01T07:08:09.301Z"
   },
   {
    "duration": 5,
    "start_time": "2023-04-01T07:08:09.813Z"
   },
   {
    "duration": 12,
    "start_time": "2023-04-01T07:08:11.253Z"
   },
   {
    "duration": 4,
    "start_time": "2023-04-01T07:09:53.865Z"
   },
   {
    "duration": 13,
    "start_time": "2023-04-01T07:09:54.390Z"
   },
   {
    "duration": 14,
    "start_time": "2023-04-01T07:10:29.697Z"
   },
   {
    "duration": 14,
    "start_time": "2023-04-01T07:10:33.135Z"
   },
   {
    "duration": 13,
    "start_time": "2023-04-01T07:10:33.595Z"
   },
   {
    "duration": 4,
    "start_time": "2023-04-01T07:10:43.813Z"
   },
   {
    "duration": 16,
    "start_time": "2023-04-01T07:10:44.397Z"
   },
   {
    "duration": 12,
    "start_time": "2023-04-01T07:10:45.158Z"
   },
   {
    "duration": 14,
    "start_time": "2023-04-01T07:11:17.802Z"
   },
   {
    "duration": 11,
    "start_time": "2023-04-01T07:11:18.655Z"
   },
   {
    "duration": 13,
    "start_time": "2023-04-01T07:12:02.990Z"
   },
   {
    "duration": 12,
    "start_time": "2023-04-01T07:12:37.153Z"
   },
   {
    "duration": 11,
    "start_time": "2023-04-01T07:12:37.848Z"
   },
   {
    "duration": 970,
    "start_time": "2023-04-01T07:12:39.513Z"
   },
   {
    "duration": 14,
    "start_time": "2023-04-01T07:13:20.545Z"
   },
   {
    "duration": 16,
    "start_time": "2023-04-01T07:13:58.452Z"
   },
   {
    "duration": 4,
    "start_time": "2023-04-01T07:14:07.345Z"
   },
   {
    "duration": 87,
    "start_time": "2023-04-01T07:14:07.352Z"
   },
   {
    "duration": 14,
    "start_time": "2023-04-01T07:14:07.441Z"
   },
   {
    "duration": 61,
    "start_time": "2023-04-01T07:14:07.457Z"
   },
   {
    "duration": 56,
    "start_time": "2023-04-01T07:14:07.521Z"
   },
   {
    "duration": 40,
    "start_time": "2023-04-01T07:14:07.579Z"
   },
   {
    "duration": 31,
    "start_time": "2023-04-01T07:14:07.622Z"
   },
   {
    "duration": 31,
    "start_time": "2023-04-01T07:14:07.656Z"
   },
   {
    "duration": 47,
    "start_time": "2023-04-01T07:14:07.688Z"
   },
   {
    "duration": 22,
    "start_time": "2023-04-01T07:14:07.737Z"
   },
   {
    "duration": 18,
    "start_time": "2023-04-01T07:14:07.761Z"
   },
   {
    "duration": 43,
    "start_time": "2023-04-01T07:14:07.781Z"
   },
   {
    "duration": 33,
    "start_time": "2023-04-01T07:14:07.827Z"
   },
   {
    "duration": 1529,
    "start_time": "2023-04-01T07:14:07.861Z"
   },
   {
    "duration": 1444,
    "start_time": "2023-04-01T07:14:09.392Z"
   },
   {
    "duration": 0,
    "start_time": "2023-04-01T07:14:10.838Z"
   },
   {
    "duration": 6,
    "start_time": "2023-04-01T07:15:00.230Z"
   },
   {
    "duration": 13,
    "start_time": "2023-04-01T07:15:04.769Z"
   },
   {
    "duration": 11,
    "start_time": "2023-04-01T07:15:56.486Z"
   },
   {
    "duration": 59,
    "start_time": "2023-04-01T07:16:19.292Z"
   },
   {
    "duration": 56,
    "start_time": "2023-04-01T07:16:21.702Z"
   },
   {
    "duration": 7,
    "start_time": "2023-04-01T07:16:26.201Z"
   },
   {
    "duration": 15,
    "start_time": "2023-04-01T07:16:34.274Z"
   },
   {
    "duration": 965,
    "start_time": "2023-04-01T07:17:15.442Z"
   },
   {
    "duration": 81,
    "start_time": "2023-04-01T07:17:16.416Z"
   },
   {
    "duration": 3,
    "start_time": "2023-04-01T07:18:08.317Z"
   },
   {
    "duration": 9,
    "start_time": "2023-04-01T07:18:08.901Z"
   },
   {
    "duration": 4,
    "start_time": "2023-04-01T07:18:09.118Z"
   },
   {
    "duration": 14,
    "start_time": "2023-04-01T07:18:09.614Z"
   },
   {
    "duration": 24,
    "start_time": "2023-04-01T07:18:09.789Z"
   },
   {
    "duration": 3,
    "start_time": "2023-04-01T07:18:14.713Z"
   },
   {
    "duration": 59,
    "start_time": "2023-04-01T07:18:14.718Z"
   },
   {
    "duration": 18,
    "start_time": "2023-04-01T07:18:14.779Z"
   },
   {
    "duration": 65,
    "start_time": "2023-04-01T07:18:14.800Z"
   },
   {
    "duration": 65,
    "start_time": "2023-04-01T07:18:14.868Z"
   },
   {
    "duration": 14,
    "start_time": "2023-04-01T07:18:14.935Z"
   },
   {
    "duration": 16,
    "start_time": "2023-04-01T07:18:14.952Z"
   },
   {
    "duration": 62,
    "start_time": "2023-04-01T07:18:14.972Z"
   },
   {
    "duration": 21,
    "start_time": "2023-04-01T07:18:15.036Z"
   },
   {
    "duration": 57,
    "start_time": "2023-04-01T07:18:15.060Z"
   },
   {
    "duration": 23,
    "start_time": "2023-04-01T07:18:15.119Z"
   },
   {
    "duration": 13,
    "start_time": "2023-04-01T07:18:15.144Z"
   },
   {
    "duration": 39,
    "start_time": "2023-04-01T07:18:15.159Z"
   },
   {
    "duration": 988,
    "start_time": "2023-04-01T07:18:15.201Z"
   },
   {
    "duration": 20,
    "start_time": "2023-04-01T07:18:16.191Z"
   },
   {
    "duration": 118,
    "start_time": "2023-04-01T07:18:16.214Z"
   },
   {
    "duration": 3,
    "start_time": "2023-04-01T07:52:12.730Z"
   },
   {
    "duration": 12,
    "start_time": "2023-04-01T08:04:48.922Z"
   },
   {
    "duration": 11,
    "start_time": "2023-04-01T08:06:58.419Z"
   },
   {
    "duration": 10,
    "start_time": "2023-04-01T08:07:31.913Z"
   },
   {
    "duration": 5,
    "start_time": "2023-04-01T08:07:32.411Z"
   },
   {
    "duration": 12,
    "start_time": "2023-04-01T08:08:08.341Z"
   },
   {
    "duration": 5,
    "start_time": "2023-04-01T08:08:26.315Z"
   },
   {
    "duration": 47,
    "start_time": "2023-04-01T08:08:26.322Z"
   },
   {
    "duration": 16,
    "start_time": "2023-04-01T08:08:26.371Z"
   },
   {
    "duration": 39,
    "start_time": "2023-04-01T08:08:26.390Z"
   },
   {
    "duration": 51,
    "start_time": "2023-04-01T08:08:26.432Z"
   },
   {
    "duration": 15,
    "start_time": "2023-04-01T08:08:26.485Z"
   },
   {
    "duration": 14,
    "start_time": "2023-04-01T08:08:26.510Z"
   },
   {
    "duration": 8,
    "start_time": "2023-04-01T08:08:26.525Z"
   },
   {
    "duration": 4,
    "start_time": "2023-04-01T08:08:26.535Z"
   },
   {
    "duration": 9,
    "start_time": "2023-04-01T08:08:26.540Z"
   },
   {
    "duration": 12,
    "start_time": "2023-04-01T08:08:26.551Z"
   },
   {
    "duration": 13,
    "start_time": "2023-04-01T08:08:26.565Z"
   },
   {
    "duration": 42,
    "start_time": "2023-04-01T08:08:26.579Z"
   },
   {
    "duration": 13,
    "start_time": "2023-04-01T08:08:26.624Z"
   },
   {
    "duration": 5,
    "start_time": "2023-04-01T08:08:26.639Z"
   },
   {
    "duration": 17,
    "start_time": "2023-04-01T08:08:26.645Z"
   },
   {
    "duration": 521,
    "start_time": "2023-04-01T08:08:26.663Z"
   },
   {
    "duration": 27,
    "start_time": "2023-04-01T08:08:27.189Z"
   },
   {
    "duration": 41,
    "start_time": "2023-04-01T08:08:27.283Z"
   },
   {
    "duration": 6,
    "start_time": "2023-04-01T08:10:49.480Z"
   },
   {
    "duration": 1528,
    "start_time": "2023-04-01T08:10:50.276Z"
   },
   {
    "duration": 0,
    "start_time": "2023-04-01T08:10:51.806Z"
   },
   {
    "duration": 5,
    "start_time": "2023-04-01T08:11:01.397Z"
   },
   {
    "duration": 114,
    "start_time": "2023-04-01T08:11:01.404Z"
   },
   {
    "duration": 13,
    "start_time": "2023-04-01T08:11:01.520Z"
   },
   {
    "duration": 47,
    "start_time": "2023-04-01T08:11:01.534Z"
   },
   {
    "duration": 106,
    "start_time": "2023-04-01T08:11:01.583Z"
   },
   {
    "duration": 15,
    "start_time": "2023-04-01T08:11:01.693Z"
   },
   {
    "duration": 34,
    "start_time": "2023-04-01T08:11:01.710Z"
   },
   {
    "duration": 27,
    "start_time": "2023-04-01T08:11:01.746Z"
   },
   {
    "duration": 26,
    "start_time": "2023-04-01T08:11:01.775Z"
   },
   {
    "duration": 25,
    "start_time": "2023-04-01T08:11:01.803Z"
   },
   {
    "duration": 31,
    "start_time": "2023-04-01T08:11:01.830Z"
   },
   {
    "duration": 57,
    "start_time": "2023-04-01T08:11:01.863Z"
   },
   {
    "duration": 38,
    "start_time": "2023-04-01T08:11:01.923Z"
   },
   {
    "duration": 68,
    "start_time": "2023-04-01T08:11:01.963Z"
   },
   {
    "duration": 2132,
    "start_time": "2023-04-01T08:11:02.033Z"
   },
   {
    "duration": 0,
    "start_time": "2023-04-01T08:11:04.167Z"
   },
   {
    "duration": 0,
    "start_time": "2023-04-01T08:11:04.168Z"
   },
   {
    "duration": 0,
    "start_time": "2023-04-01T08:11:04.169Z"
   },
   {
    "duration": 0,
    "start_time": "2023-04-01T08:11:04.170Z"
   },
   {
    "duration": 46,
    "start_time": "2023-04-01T08:17:57.401Z"
   },
   {
    "duration": 1009,
    "start_time": "2023-04-01T08:18:04.040Z"
   },
   {
    "duration": 14,
    "start_time": "2023-04-01T08:18:05.336Z"
   },
   {
    "duration": 9,
    "start_time": "2023-04-01T08:19:30.318Z"
   },
   {
    "duration": 11,
    "start_time": "2023-04-01T08:19:56.006Z"
   },
   {
    "duration": 787,
    "start_time": "2023-04-01T08:20:28.983Z"
   },
   {
    "duration": 1211,
    "start_time": "2023-04-01T08:28:04.155Z"
   },
   {
    "duration": 5,
    "start_time": "2023-04-01T08:28:15.715Z"
   },
   {
    "duration": 14,
    "start_time": "2023-04-01T08:29:00.307Z"
   },
   {
    "duration": 13,
    "start_time": "2023-04-01T08:29:04.126Z"
   },
   {
    "duration": 11,
    "start_time": "2023-04-01T08:29:13.547Z"
   },
   {
    "duration": 19,
    "start_time": "2023-04-01T08:37:11.024Z"
   },
   {
    "duration": 20,
    "start_time": "2023-04-01T08:37:32.922Z"
   },
   {
    "duration": 32,
    "start_time": "2023-04-01T08:38:10.797Z"
   },
   {
    "duration": 33,
    "start_time": "2023-04-01T08:46:13.884Z"
   },
   {
    "duration": 1186,
    "start_time": "2023-04-01T08:48:11.178Z"
   },
   {
    "duration": 1115,
    "start_time": "2023-04-01T08:49:09.537Z"
   },
   {
    "duration": 4,
    "start_time": "2023-04-01T08:49:14.325Z"
   },
   {
    "duration": 40,
    "start_time": "2023-04-01T08:49:14.335Z"
   },
   {
    "duration": 18,
    "start_time": "2023-04-01T08:49:14.378Z"
   },
   {
    "duration": 25,
    "start_time": "2023-04-01T08:49:14.403Z"
   },
   {
    "duration": 45,
    "start_time": "2023-04-01T08:49:14.430Z"
   },
   {
    "duration": 20,
    "start_time": "2023-04-01T08:49:14.477Z"
   },
   {
    "duration": 7,
    "start_time": "2023-04-01T08:49:14.503Z"
   },
   {
    "duration": 16,
    "start_time": "2023-04-01T08:49:14.512Z"
   },
   {
    "duration": 8,
    "start_time": "2023-04-01T08:49:14.530Z"
   },
   {
    "duration": 20,
    "start_time": "2023-04-01T08:49:14.540Z"
   },
   {
    "duration": 10,
    "start_time": "2023-04-01T08:49:14.562Z"
   },
   {
    "duration": 7,
    "start_time": "2023-04-01T08:49:14.574Z"
   },
   {
    "duration": 37,
    "start_time": "2023-04-01T08:49:14.583Z"
   },
   {
    "duration": 18,
    "start_time": "2023-04-01T08:49:14.622Z"
   },
   {
    "duration": 6,
    "start_time": "2023-04-01T08:49:14.643Z"
   },
   {
    "duration": 25,
    "start_time": "2023-04-01T08:49:14.651Z"
   },
   {
    "duration": 1520,
    "start_time": "2023-04-01T08:49:14.678Z"
   },
   {
    "duration": 87,
    "start_time": "2023-04-01T08:49:16.201Z"
   },
   {
    "duration": 112,
    "start_time": "2023-04-01T08:49:16.289Z"
   },
   {
    "duration": 1337,
    "start_time": "2023-04-01T08:51:14.752Z"
   },
   {
    "duration": 6,
    "start_time": "2023-04-01T08:51:19.428Z"
   },
   {
    "duration": 67,
    "start_time": "2023-04-01T08:51:19.437Z"
   },
   {
    "duration": 15,
    "start_time": "2023-04-01T08:51:19.507Z"
   },
   {
    "duration": 18,
    "start_time": "2023-04-01T08:51:19.525Z"
   },
   {
    "duration": 78,
    "start_time": "2023-04-01T08:51:19.546Z"
   },
   {
    "duration": 13,
    "start_time": "2023-04-01T08:51:19.626Z"
   },
   {
    "duration": 7,
    "start_time": "2023-04-01T08:51:19.642Z"
   },
   {
    "duration": 25,
    "start_time": "2023-04-01T08:51:19.651Z"
   },
   {
    "duration": 37,
    "start_time": "2023-04-01T08:51:19.679Z"
   },
   {
    "duration": 14,
    "start_time": "2023-04-01T08:51:19.719Z"
   },
   {
    "duration": 37,
    "start_time": "2023-04-01T08:51:19.734Z"
   },
   {
    "duration": 49,
    "start_time": "2023-04-01T08:51:19.773Z"
   },
   {
    "duration": 51,
    "start_time": "2023-04-01T08:51:19.826Z"
   },
   {
    "duration": 48,
    "start_time": "2023-04-01T08:51:19.880Z"
   },
   {
    "duration": 56,
    "start_time": "2023-04-01T08:51:19.931Z"
   },
   {
    "duration": 8,
    "start_time": "2023-04-01T08:51:20.000Z"
   },
   {
    "duration": 36,
    "start_time": "2023-04-01T08:51:20.010Z"
   },
   {
    "duration": 2436,
    "start_time": "2023-04-01T08:51:20.048Z"
   },
   {
    "duration": 95,
    "start_time": "2023-04-01T08:51:22.492Z"
   },
   {
    "duration": 52,
    "start_time": "2023-04-01T08:51:22.589Z"
   },
   {
    "duration": 920,
    "start_time": "2023-04-01T08:51:51.613Z"
   },
   {
    "duration": 0,
    "start_time": "2023-04-01T08:51:52.535Z"
   },
   {
    "duration": 6,
    "start_time": "2023-04-01T08:51:56.033Z"
   },
   {
    "duration": 80,
    "start_time": "2023-04-01T08:51:56.042Z"
   },
   {
    "duration": 18,
    "start_time": "2023-04-01T08:51:56.124Z"
   },
   {
    "duration": 16,
    "start_time": "2023-04-01T08:51:56.145Z"
   },
   {
    "duration": 85,
    "start_time": "2023-04-01T08:51:56.164Z"
   },
   {
    "duration": 15,
    "start_time": "2023-04-01T08:51:56.251Z"
   },
   {
    "duration": 18,
    "start_time": "2023-04-01T08:51:56.268Z"
   },
   {
    "duration": 10,
    "start_time": "2023-04-01T08:51:56.288Z"
   },
   {
    "duration": 17,
    "start_time": "2023-04-01T08:51:56.301Z"
   },
   {
    "duration": 9,
    "start_time": "2023-04-01T08:51:56.320Z"
   },
   {
    "duration": 8,
    "start_time": "2023-04-01T08:51:56.331Z"
   },
   {
    "duration": 8,
    "start_time": "2023-04-01T08:51:56.342Z"
   },
   {
    "duration": 17,
    "start_time": "2023-04-01T08:51:56.352Z"
   },
   {
    "duration": 21,
    "start_time": "2023-04-01T08:51:56.371Z"
   },
   {
    "duration": 20,
    "start_time": "2023-04-01T08:51:56.394Z"
   },
   {
    "duration": 31,
    "start_time": "2023-04-01T08:51:56.416Z"
   },
   {
    "duration": 5,
    "start_time": "2023-04-01T08:51:56.450Z"
   },
   {
    "duration": 34,
    "start_time": "2023-04-01T08:51:56.457Z"
   },
   {
    "duration": 2107,
    "start_time": "2023-04-01T08:51:56.494Z"
   },
   {
    "duration": 84,
    "start_time": "2023-04-01T08:51:58.606Z"
   },
   {
    "duration": 63,
    "start_time": "2023-04-01T08:51:58.692Z"
   },
   {
    "duration": 1284,
    "start_time": "2023-04-01T08:52:40.221Z"
   },
   {
    "duration": 16,
    "start_time": "2023-04-01T08:52:44.386Z"
   },
   {
    "duration": 42,
    "start_time": "2023-04-01T08:52:44.406Z"
   },
   {
    "duration": 12,
    "start_time": "2023-04-01T08:52:44.450Z"
   },
   {
    "duration": 13,
    "start_time": "2023-04-01T08:52:44.464Z"
   },
   {
    "duration": 47,
    "start_time": "2023-04-01T08:52:44.480Z"
   },
   {
    "duration": 10,
    "start_time": "2023-04-01T08:52:44.529Z"
   },
   {
    "duration": 4,
    "start_time": "2023-04-01T08:52:44.540Z"
   },
   {
    "duration": 10,
    "start_time": "2023-04-01T08:52:44.545Z"
   },
   {
    "duration": 10,
    "start_time": "2023-04-01T08:52:44.556Z"
   },
   {
    "duration": 17,
    "start_time": "2023-04-01T08:52:44.567Z"
   },
   {
    "duration": 20,
    "start_time": "2023-04-01T08:52:44.587Z"
   },
   {
    "duration": 17,
    "start_time": "2023-04-01T08:52:44.609Z"
   },
   {
    "duration": 20,
    "start_time": "2023-04-01T08:52:44.628Z"
   },
   {
    "duration": 6,
    "start_time": "2023-04-01T08:52:44.652Z"
   },
   {
    "duration": 37,
    "start_time": "2023-04-01T08:52:44.660Z"
   },
   {
    "duration": 39,
    "start_time": "2023-04-01T08:52:44.698Z"
   },
   {
    "duration": 4,
    "start_time": "2023-04-01T08:52:44.738Z"
   },
   {
    "duration": 39,
    "start_time": "2023-04-01T08:52:44.744Z"
   },
   {
    "duration": 1906,
    "start_time": "2023-04-01T08:52:44.785Z"
   },
   {
    "duration": 14,
    "start_time": "2023-04-01T08:52:46.693Z"
   },
   {
    "duration": 123,
    "start_time": "2023-04-01T08:52:46.710Z"
   },
   {
    "duration": 6,
    "start_time": "2023-04-01T08:54:00.322Z"
   },
   {
    "duration": 79,
    "start_time": "2023-04-01T08:54:00.330Z"
   },
   {
    "duration": 15,
    "start_time": "2023-04-01T08:54:00.411Z"
   },
   {
    "duration": 52,
    "start_time": "2023-04-01T08:54:00.428Z"
   },
   {
    "duration": 135,
    "start_time": "2023-04-01T08:54:00.482Z"
   },
   {
    "duration": 18,
    "start_time": "2023-04-01T08:54:00.619Z"
   },
   {
    "duration": 42,
    "start_time": "2023-04-01T08:54:00.639Z"
   },
   {
    "duration": 64,
    "start_time": "2023-04-01T08:54:00.683Z"
   },
   {
    "duration": 76,
    "start_time": "2023-04-01T08:54:00.750Z"
   },
   {
    "duration": 38,
    "start_time": "2023-04-01T08:54:00.828Z"
   },
   {
    "duration": 39,
    "start_time": "2023-04-01T08:54:00.868Z"
   },
   {
    "duration": 194,
    "start_time": "2023-04-01T08:54:00.909Z"
   },
   {
    "duration": 82,
    "start_time": "2023-04-01T08:54:01.107Z"
   },
   {
    "duration": 54,
    "start_time": "2023-04-01T08:54:01.193Z"
   },
   {
    "duration": 46,
    "start_time": "2023-04-01T08:54:01.249Z"
   },
   {
    "duration": 66,
    "start_time": "2023-04-01T08:54:01.297Z"
   },
   {
    "duration": 0,
    "start_time": "2023-04-01T08:54:01.365Z"
   },
   {
    "duration": 0,
    "start_time": "2023-04-01T08:54:01.366Z"
   },
   {
    "duration": 0,
    "start_time": "2023-04-01T08:54:01.368Z"
   },
   {
    "duration": 0,
    "start_time": "2023-04-01T08:54:01.369Z"
   },
   {
    "duration": 0,
    "start_time": "2023-04-01T08:54:01.371Z"
   },
   {
    "duration": 17,
    "start_time": "2023-04-01T08:54:37.397Z"
   },
   {
    "duration": 5,
    "start_time": "2023-04-01T08:54:40.354Z"
   },
   {
    "duration": 58,
    "start_time": "2023-04-01T08:54:40.361Z"
   },
   {
    "duration": 14,
    "start_time": "2023-04-01T08:54:40.420Z"
   },
   {
    "duration": 18,
    "start_time": "2023-04-01T08:54:40.437Z"
   },
   {
    "duration": 57,
    "start_time": "2023-04-01T08:54:40.457Z"
   },
   {
    "duration": 13,
    "start_time": "2023-04-01T08:54:40.516Z"
   },
   {
    "duration": 4,
    "start_time": "2023-04-01T08:54:40.532Z"
   },
   {
    "duration": 8,
    "start_time": "2023-04-01T08:54:40.539Z"
   },
   {
    "duration": 15,
    "start_time": "2023-04-01T08:54:40.549Z"
   },
   {
    "duration": 47,
    "start_time": "2023-04-01T08:54:40.566Z"
   },
   {
    "duration": 9,
    "start_time": "2023-04-01T08:54:40.615Z"
   },
   {
    "duration": 10,
    "start_time": "2023-04-01T08:54:40.627Z"
   },
   {
    "duration": 18,
    "start_time": "2023-04-01T08:54:40.638Z"
   },
   {
    "duration": 4,
    "start_time": "2023-04-01T08:54:40.658Z"
   },
   {
    "duration": 13,
    "start_time": "2023-04-01T08:54:40.664Z"
   },
   {
    "duration": 26,
    "start_time": "2023-04-01T08:54:40.678Z"
   },
   {
    "duration": 0,
    "start_time": "2023-04-01T08:54:40.705Z"
   },
   {
    "duration": 0,
    "start_time": "2023-04-01T08:54:40.707Z"
   },
   {
    "duration": 0,
    "start_time": "2023-04-01T08:54:40.708Z"
   },
   {
    "duration": 0,
    "start_time": "2023-04-01T08:54:40.709Z"
   },
   {
    "duration": 0,
    "start_time": "2023-04-01T08:54:40.711Z"
   },
   {
    "duration": 17,
    "start_time": "2023-04-01T08:56:00.511Z"
   },
   {
    "duration": 6,
    "start_time": "2023-04-01T08:56:03.006Z"
   },
   {
    "duration": 74,
    "start_time": "2023-04-01T08:56:03.014Z"
   },
   {
    "duration": 17,
    "start_time": "2023-04-01T08:56:03.091Z"
   },
   {
    "duration": 41,
    "start_time": "2023-04-01T08:56:03.109Z"
   },
   {
    "duration": 78,
    "start_time": "2023-04-01T08:56:03.152Z"
   },
   {
    "duration": 35,
    "start_time": "2023-04-01T08:56:03.232Z"
   },
   {
    "duration": 40,
    "start_time": "2023-04-01T08:56:03.270Z"
   },
   {
    "duration": 32,
    "start_time": "2023-04-01T08:56:03.312Z"
   },
   {
    "duration": 52,
    "start_time": "2023-04-01T08:56:03.345Z"
   },
   {
    "duration": 40,
    "start_time": "2023-04-01T08:56:03.398Z"
   },
   {
    "duration": 28,
    "start_time": "2023-04-01T08:56:03.440Z"
   },
   {
    "duration": 53,
    "start_time": "2023-04-01T08:56:03.469Z"
   },
   {
    "duration": 32,
    "start_time": "2023-04-01T08:56:03.524Z"
   },
   {
    "duration": 27,
    "start_time": "2023-04-01T08:56:03.558Z"
   },
   {
    "duration": 52,
    "start_time": "2023-04-01T08:56:03.588Z"
   },
   {
    "duration": 42,
    "start_time": "2023-04-01T08:56:03.642Z"
   },
   {
    "duration": 0,
    "start_time": "2023-04-01T08:56:03.690Z"
   },
   {
    "duration": 0,
    "start_time": "2023-04-01T08:56:03.696Z"
   },
   {
    "duration": 1,
    "start_time": "2023-04-01T08:56:03.697Z"
   },
   {
    "duration": 0,
    "start_time": "2023-04-01T08:56:03.699Z"
   },
   {
    "duration": 0,
    "start_time": "2023-04-01T08:56:03.700Z"
   },
   {
    "duration": 6,
    "start_time": "2023-04-01T08:56:20.510Z"
   },
   {
    "duration": 59,
    "start_time": "2023-04-01T08:56:20.518Z"
   },
   {
    "duration": 24,
    "start_time": "2023-04-01T08:56:20.579Z"
   },
   {
    "duration": 33,
    "start_time": "2023-04-01T08:56:20.606Z"
   },
   {
    "duration": 71,
    "start_time": "2023-04-01T08:56:20.641Z"
   },
   {
    "duration": 18,
    "start_time": "2023-04-01T08:56:20.714Z"
   },
   {
    "duration": 16,
    "start_time": "2023-04-01T08:56:20.734Z"
   },
   {
    "duration": 26,
    "start_time": "2023-04-01T08:56:20.752Z"
   },
   {
    "duration": 50,
    "start_time": "2023-04-01T08:56:20.780Z"
   },
   {
    "duration": 21,
    "start_time": "2023-04-01T08:56:20.832Z"
   },
   {
    "duration": 15,
    "start_time": "2023-04-01T08:56:20.855Z"
   },
   {
    "duration": 50,
    "start_time": "2023-04-01T08:56:20.872Z"
   },
   {
    "duration": 30,
    "start_time": "2023-04-01T08:56:20.923Z"
   },
   {
    "duration": 10,
    "start_time": "2023-04-01T08:56:20.955Z"
   },
   {
    "duration": 55,
    "start_time": "2023-04-01T08:56:20.967Z"
   },
   {
    "duration": 28,
    "start_time": "2023-04-01T08:56:21.024Z"
   },
   {
    "duration": 12,
    "start_time": "2023-04-01T08:56:21.053Z"
   },
   {
    "duration": 19,
    "start_time": "2023-04-01T08:56:21.067Z"
   },
   {
    "duration": 1722,
    "start_time": "2023-04-01T08:56:21.088Z"
   },
   {
    "duration": 80,
    "start_time": "2023-04-01T08:56:22.812Z"
   },
   {
    "duration": 135,
    "start_time": "2023-04-01T08:56:22.894Z"
   },
   {
    "duration": 56,
    "start_time": "2023-04-01T09:03:46.790Z"
   },
   {
    "duration": 4,
    "start_time": "2023-04-01T09:03:56.372Z"
   },
   {
    "duration": 6,
    "start_time": "2023-04-01T09:04:16.249Z"
   },
   {
    "duration": 8,
    "start_time": "2023-04-01T09:04:35.644Z"
   },
   {
    "duration": 11,
    "start_time": "2023-04-01T09:04:56.678Z"
   },
   {
    "duration": 73,
    "start_time": "2023-04-01T09:04:56.693Z"
   },
   {
    "duration": 12,
    "start_time": "2023-04-01T09:04:56.768Z"
   },
   {
    "duration": 47,
    "start_time": "2023-04-01T09:04:56.782Z"
   },
   {
    "duration": 47,
    "start_time": "2023-04-01T09:04:56.833Z"
   },
   {
    "duration": 18,
    "start_time": "2023-04-01T09:04:56.882Z"
   },
   {
    "duration": 6,
    "start_time": "2023-04-01T09:04:56.902Z"
   },
   {
    "duration": 27,
    "start_time": "2023-04-01T09:04:56.909Z"
   },
   {
    "duration": 23,
    "start_time": "2023-04-01T09:04:56.938Z"
   },
   {
    "duration": 17,
    "start_time": "2023-04-01T09:04:56.963Z"
   },
   {
    "duration": 28,
    "start_time": "2023-04-01T09:04:56.982Z"
   },
   {
    "duration": 9,
    "start_time": "2023-04-01T09:04:57.014Z"
   },
   {
    "duration": 41,
    "start_time": "2023-04-01T09:04:57.024Z"
   },
   {
    "duration": 13,
    "start_time": "2023-04-01T09:04:57.068Z"
   },
   {
    "duration": 27,
    "start_time": "2023-04-01T09:04:57.083Z"
   },
   {
    "duration": 39,
    "start_time": "2023-04-01T09:04:57.112Z"
   },
   {
    "duration": 18,
    "start_time": "2023-04-01T09:04:57.153Z"
   },
   {
    "duration": 1622,
    "start_time": "2023-04-01T09:04:57.173Z"
   },
   {
    "duration": 87,
    "start_time": "2023-04-01T09:04:58.803Z"
   },
   {
    "duration": 18,
    "start_time": "2023-04-01T09:04:58.893Z"
   },
   {
    "duration": 7,
    "start_time": "2023-04-01T09:06:51.343Z"
   },
   {
    "duration": 4,
    "start_time": "2023-04-01T09:07:09.710Z"
   },
   {
    "duration": 64,
    "start_time": "2023-04-01T09:07:09.716Z"
   },
   {
    "duration": 17,
    "start_time": "2023-04-01T09:07:09.782Z"
   },
   {
    "duration": 30,
    "start_time": "2023-04-01T09:07:09.803Z"
   },
   {
    "duration": 68,
    "start_time": "2023-04-01T09:07:09.836Z"
   },
   {
    "duration": 10,
    "start_time": "2023-04-01T09:07:09.906Z"
   },
   {
    "duration": 4,
    "start_time": "2023-04-01T09:07:09.918Z"
   },
   {
    "duration": 32,
    "start_time": "2023-04-01T09:07:09.923Z"
   },
   {
    "duration": 18,
    "start_time": "2023-04-01T09:07:09.956Z"
   },
   {
    "duration": 31,
    "start_time": "2023-04-01T09:07:09.976Z"
   },
   {
    "duration": 17,
    "start_time": "2023-04-01T09:07:10.008Z"
   },
   {
    "duration": 37,
    "start_time": "2023-04-01T09:07:10.027Z"
   },
   {
    "duration": 35,
    "start_time": "2023-04-01T09:07:10.067Z"
   },
   {
    "duration": 9,
    "start_time": "2023-04-01T09:07:10.106Z"
   },
   {
    "duration": 35,
    "start_time": "2023-04-01T09:07:10.116Z"
   },
   {
    "duration": 43,
    "start_time": "2023-04-01T09:07:10.154Z"
   },
   {
    "duration": 10,
    "start_time": "2023-04-01T09:07:10.200Z"
   },
   {
    "duration": 18,
    "start_time": "2023-04-01T09:07:10.212Z"
   },
   {
    "duration": 22,
    "start_time": "2023-04-01T09:07:10.232Z"
   },
   {
    "duration": 0,
    "start_time": "2023-04-01T09:07:10.256Z"
   },
   {
    "duration": 0,
    "start_time": "2023-04-01T09:07:10.258Z"
   },
   {
    "duration": 0,
    "start_time": "2023-04-01T09:07:10.259Z"
   },
   {
    "duration": 6,
    "start_time": "2023-04-01T09:07:33.461Z"
   },
   {
    "duration": 5,
    "start_time": "2023-04-01T09:08:13.900Z"
   },
   {
    "duration": 3,
    "start_time": "2023-04-01T09:09:28.493Z"
   },
   {
    "duration": 1689,
    "start_time": "2023-04-01T09:13:12.606Z"
   },
   {
    "duration": 20,
    "start_time": "2023-04-01T09:13:14.298Z"
   },
   {
    "duration": 33,
    "start_time": "2023-04-01T09:13:14.394Z"
   },
   {
    "duration": 902,
    "start_time": "2023-04-01T09:42:26.481Z"
   },
   {
    "duration": 0,
    "start_time": "2023-04-01T09:42:27.385Z"
   },
   {
    "duration": 0,
    "start_time": "2023-04-01T09:42:27.386Z"
   },
   {
    "duration": 12,
    "start_time": "2023-04-01T09:42:27.399Z"
   },
   {
    "duration": 15,
    "start_time": "2023-04-01T09:42:27.697Z"
   },
   {
    "duration": 7,
    "start_time": "2023-04-01T09:42:27.837Z"
   },
   {
    "duration": 5,
    "start_time": "2023-04-01T09:42:28.009Z"
   },
   {
    "duration": 4,
    "start_time": "2023-04-01T09:42:30.956Z"
   },
   {
    "duration": 45,
    "start_time": "2023-04-01T09:42:31.015Z"
   },
   {
    "duration": 13,
    "start_time": "2023-04-01T09:42:31.063Z"
   },
   {
    "duration": 49,
    "start_time": "2023-04-01T09:42:31.077Z"
   },
   {
    "duration": 95,
    "start_time": "2023-04-01T09:42:31.128Z"
   },
   {
    "duration": 13,
    "start_time": "2023-04-01T09:42:31.225Z"
   },
   {
    "duration": 24,
    "start_time": "2023-04-01T09:42:31.239Z"
   },
   {
    "duration": 63,
    "start_time": "2023-04-01T09:42:31.265Z"
   },
   {
    "duration": 29,
    "start_time": "2023-04-01T09:42:31.330Z"
   },
   {
    "duration": 54,
    "start_time": "2023-04-01T09:42:31.360Z"
   },
   {
    "duration": 32,
    "start_time": "2023-04-01T09:42:31.416Z"
   },
   {
    "duration": 66,
    "start_time": "2023-04-01T09:42:31.450Z"
   },
   {
    "duration": 30,
    "start_time": "2023-04-01T09:42:31.517Z"
   },
   {
    "duration": 23,
    "start_time": "2023-04-01T09:42:31.550Z"
   },
   {
    "duration": 70,
    "start_time": "2023-04-01T09:42:31.576Z"
   },
   {
    "duration": 37,
    "start_time": "2023-04-01T09:42:31.647Z"
   },
   {
    "duration": 44,
    "start_time": "2023-04-01T09:42:31.686Z"
   },
   {
    "duration": 107,
    "start_time": "2023-04-01T09:42:31.732Z"
   },
   {
    "duration": 82,
    "start_time": "2023-04-01T09:42:31.840Z"
   },
   {
    "duration": 38,
    "start_time": "2023-04-01T09:42:31.924Z"
   },
   {
    "duration": 2259,
    "start_time": "2023-04-01T09:42:31.963Z"
   },
   {
    "duration": 22,
    "start_time": "2023-04-01T09:42:34.284Z"
   },
   {
    "duration": 109,
    "start_time": "2023-04-01T09:42:34.315Z"
   },
   {
    "duration": 2,
    "start_time": "2023-04-01T09:43:18.428Z"
   },
   {
    "duration": 10,
    "start_time": "2023-04-01T09:58:50.708Z"
   },
   {
    "duration": 21,
    "start_time": "2023-04-01T10:01:55.425Z"
   },
   {
    "duration": 64,
    "start_time": "2023-04-01T10:02:17.703Z"
   },
   {
    "duration": 19,
    "start_time": "2023-04-01T10:02:57.634Z"
   },
   {
    "duration": 20,
    "start_time": "2023-04-01T10:03:01.055Z"
   },
   {
    "duration": 26,
    "start_time": "2023-04-01T10:03:10.463Z"
   },
   {
    "duration": 6,
    "start_time": "2023-04-01T10:03:14.116Z"
   },
   {
    "duration": 62,
    "start_time": "2023-04-01T10:03:14.124Z"
   },
   {
    "duration": 12,
    "start_time": "2023-04-01T10:03:14.188Z"
   },
   {
    "duration": 31,
    "start_time": "2023-04-01T10:03:14.202Z"
   },
   {
    "duration": 60,
    "start_time": "2023-04-01T10:03:14.236Z"
   },
   {
    "duration": 13,
    "start_time": "2023-04-01T10:03:14.299Z"
   },
   {
    "duration": 4,
    "start_time": "2023-04-01T10:03:14.313Z"
   },
   {
    "duration": 17,
    "start_time": "2023-04-01T10:03:14.318Z"
   },
   {
    "duration": 23,
    "start_time": "2023-04-01T10:03:14.337Z"
   },
   {
    "duration": 24,
    "start_time": "2023-04-01T10:03:14.362Z"
   },
   {
    "duration": 22,
    "start_time": "2023-04-01T10:03:14.388Z"
   },
   {
    "duration": 19,
    "start_time": "2023-04-01T10:03:14.412Z"
   },
   {
    "duration": 48,
    "start_time": "2023-04-01T10:03:14.432Z"
   },
   {
    "duration": 11,
    "start_time": "2023-04-01T10:03:14.483Z"
   },
   {
    "duration": 32,
    "start_time": "2023-04-01T10:03:14.496Z"
   },
   {
    "duration": 33,
    "start_time": "2023-04-01T10:03:14.531Z"
   },
   {
    "duration": 7,
    "start_time": "2023-04-01T10:03:14.566Z"
   },
   {
    "duration": 18,
    "start_time": "2023-04-01T10:03:14.575Z"
   },
   {
    "duration": 7,
    "start_time": "2023-04-01T10:03:14.595Z"
   },
   {
    "duration": 9,
    "start_time": "2023-04-01T10:03:14.604Z"
   },
   {
    "duration": 20,
    "start_time": "2023-04-01T10:03:14.614Z"
   },
   {
    "duration": 1051,
    "start_time": "2023-04-01T10:03:14.636Z"
   },
   {
    "duration": 8,
    "start_time": "2023-04-01T10:03:15.689Z"
   },
   {
    "duration": 33,
    "start_time": "2023-04-01T10:03:15.784Z"
   },
   {
    "duration": 6,
    "start_time": "2023-04-01T10:05:37.109Z"
   },
   {
    "duration": 60,
    "start_time": "2023-04-01T10:05:37.117Z"
   },
   {
    "duration": 12,
    "start_time": "2023-04-01T10:05:37.179Z"
   },
   {
    "duration": 34,
    "start_time": "2023-04-01T10:05:37.193Z"
   },
   {
    "duration": 68,
    "start_time": "2023-04-01T10:05:37.229Z"
   },
   {
    "duration": 15,
    "start_time": "2023-04-01T10:05:37.299Z"
   },
   {
    "duration": 11,
    "start_time": "2023-04-01T10:05:37.316Z"
   },
   {
    "duration": 20,
    "start_time": "2023-04-01T10:05:37.329Z"
   },
   {
    "duration": 16,
    "start_time": "2023-04-01T10:05:37.351Z"
   },
   {
    "duration": 19,
    "start_time": "2023-04-01T10:05:37.370Z"
   },
   {
    "duration": 11,
    "start_time": "2023-04-01T10:05:37.391Z"
   },
   {
    "duration": 25,
    "start_time": "2023-04-01T10:05:37.405Z"
   },
   {
    "duration": 17,
    "start_time": "2023-04-01T10:05:37.433Z"
   },
   {
    "duration": 5,
    "start_time": "2023-04-01T10:05:37.452Z"
   },
   {
    "duration": 16,
    "start_time": "2023-04-01T10:05:37.459Z"
   },
   {
    "duration": 27,
    "start_time": "2023-04-01T10:05:37.477Z"
   },
   {
    "duration": 6,
    "start_time": "2023-04-01T10:05:37.506Z"
   },
   {
    "duration": 30,
    "start_time": "2023-04-01T10:05:37.514Z"
   },
   {
    "duration": 36,
    "start_time": "2023-04-01T10:05:37.546Z"
   },
   {
    "duration": 5,
    "start_time": "2023-04-01T10:05:37.583Z"
   },
   {
    "duration": 26,
    "start_time": "2023-04-01T10:05:37.589Z"
   },
   {
    "duration": 868,
    "start_time": "2023-04-01T10:05:37.616Z"
   },
   {
    "duration": 7,
    "start_time": "2023-04-01T10:05:38.486Z"
   },
   {
    "duration": 120,
    "start_time": "2023-04-01T10:05:38.496Z"
   },
   {
    "duration": 31,
    "start_time": "2023-04-01T10:05:52.822Z"
   },
   {
    "duration": 23,
    "start_time": "2023-04-01T10:06:33.845Z"
   },
   {
    "duration": 5,
    "start_time": "2023-04-01T10:06:38.082Z"
   },
   {
    "duration": 81,
    "start_time": "2023-04-01T10:06:38.089Z"
   },
   {
    "duration": 16,
    "start_time": "2023-04-01T10:06:38.172Z"
   },
   {
    "duration": 18,
    "start_time": "2023-04-01T10:06:38.190Z"
   },
   {
    "duration": 74,
    "start_time": "2023-04-01T10:06:38.210Z"
   },
   {
    "duration": 14,
    "start_time": "2023-04-01T10:06:38.286Z"
   },
   {
    "duration": 10,
    "start_time": "2023-04-01T10:06:38.302Z"
   },
   {
    "duration": 35,
    "start_time": "2023-04-01T10:06:38.314Z"
   },
   {
    "duration": 17,
    "start_time": "2023-04-01T10:06:38.351Z"
   },
   {
    "duration": 21,
    "start_time": "2023-04-01T10:06:38.370Z"
   },
   {
    "duration": 11,
    "start_time": "2023-04-01T10:06:38.393Z"
   },
   {
    "duration": 16,
    "start_time": "2023-04-01T10:06:38.406Z"
   },
   {
    "duration": 32,
    "start_time": "2023-04-01T10:06:38.424Z"
   },
   {
    "duration": 18,
    "start_time": "2023-04-01T10:06:38.459Z"
   },
   {
    "duration": 24,
    "start_time": "2023-04-01T10:06:38.478Z"
   },
   {
    "duration": 39,
    "start_time": "2023-04-01T10:06:38.505Z"
   },
   {
    "duration": 7,
    "start_time": "2023-04-01T10:06:38.546Z"
   },
   {
    "duration": 20,
    "start_time": "2023-04-01T10:06:38.554Z"
   },
   {
    "duration": 22,
    "start_time": "2023-04-01T10:06:38.577Z"
   },
   {
    "duration": 41,
    "start_time": "2023-04-01T10:06:38.601Z"
   },
   {
    "duration": 40,
    "start_time": "2023-04-01T10:06:38.644Z"
   },
   {
    "duration": 999,
    "start_time": "2023-04-01T10:06:38.686Z"
   },
   {
    "duration": 10,
    "start_time": "2023-04-01T10:06:39.687Z"
   },
   {
    "duration": 23,
    "start_time": "2023-04-01T10:06:39.782Z"
   },
   {
    "duration": 4,
    "start_time": "2023-04-01T10:15:37.048Z"
   },
   {
    "duration": 4,
    "start_time": "2023-04-01T10:15:38.910Z"
   },
   {
    "duration": 46,
    "start_time": "2023-04-01T10:15:38.916Z"
   },
   {
    "duration": 11,
    "start_time": "2023-04-01T10:15:38.963Z"
   },
   {
    "duration": 13,
    "start_time": "2023-04-01T10:15:38.976Z"
   },
   {
    "duration": 44,
    "start_time": "2023-04-01T10:15:38.992Z"
   },
   {
    "duration": 14,
    "start_time": "2023-04-01T10:15:39.038Z"
   },
   {
    "duration": 8,
    "start_time": "2023-04-01T10:15:39.053Z"
   },
   {
    "duration": 6,
    "start_time": "2023-04-01T10:15:39.084Z"
   },
   {
    "duration": 9,
    "start_time": "2023-04-01T10:15:39.092Z"
   },
   {
    "duration": 9,
    "start_time": "2023-04-01T10:15:39.102Z"
   },
   {
    "duration": 7,
    "start_time": "2023-04-01T10:15:39.112Z"
   },
   {
    "duration": 6,
    "start_time": "2023-04-01T10:15:39.121Z"
   },
   {
    "duration": 12,
    "start_time": "2023-04-01T10:15:39.129Z"
   },
   {
    "duration": 5,
    "start_time": "2023-04-01T10:15:39.142Z"
   },
   {
    "duration": 36,
    "start_time": "2023-04-01T10:15:39.148Z"
   },
   {
    "duration": 20,
    "start_time": "2023-04-01T10:15:39.186Z"
   },
   {
    "duration": 6,
    "start_time": "2023-04-01T10:15:39.208Z"
   },
   {
    "duration": 14,
    "start_time": "2023-04-01T10:15:39.216Z"
   },
   {
    "duration": 8,
    "start_time": "2023-04-01T10:15:39.233Z"
   },
   {
    "duration": 7,
    "start_time": "2023-04-01T10:15:39.243Z"
   },
   {
    "duration": 50,
    "start_time": "2023-04-01T10:15:39.252Z"
   },
   {
    "duration": 988,
    "start_time": "2023-04-01T10:15:39.304Z"
   },
   {
    "duration": 96,
    "start_time": "2023-04-01T10:15:40.294Z"
   },
   {
    "duration": 112,
    "start_time": "2023-04-01T10:15:40.392Z"
   },
   {
    "duration": 32,
    "start_time": "2023-04-01T10:33:14.615Z"
   },
   {
    "duration": 30,
    "start_time": "2023-04-01T10:36:49.593Z"
   },
   {
    "duration": 3,
    "start_time": "2023-04-01T10:37:47.053Z"
   },
   {
    "duration": 8,
    "start_time": "2023-04-01T10:49:36.850Z"
   },
   {
    "duration": 4,
    "start_time": "2023-04-01T10:51:16.634Z"
   },
   {
    "duration": 13944,
    "start_time": "2023-04-01T10:53:52.108Z"
   },
   {
    "duration": 35,
    "start_time": "2023-04-01T10:55:23.233Z"
   },
   {
    "duration": 28,
    "start_time": "2023-04-01T10:55:49.129Z"
   },
   {
    "duration": 29,
    "start_time": "2023-04-01T10:56:13.042Z"
   },
   {
    "duration": 22,
    "start_time": "2023-04-01T11:06:44.267Z"
   },
   {
    "duration": 15674,
    "start_time": "2023-04-01T11:07:12.004Z"
   },
   {
    "duration": 14902,
    "start_time": "2023-04-01T11:08:03.111Z"
   },
   {
    "duration": 50,
    "start_time": "2023-04-01T11:08:42.421Z"
   },
   {
    "duration": 14392,
    "start_time": "2023-04-01T11:08:51.310Z"
   },
   {
    "duration": 13779,
    "start_time": "2023-04-01T11:15:10.008Z"
   },
   {
    "duration": 5,
    "start_time": "2023-04-01T11:17:18.876Z"
   },
   {
    "duration": 51,
    "start_time": "2023-04-01T11:17:18.884Z"
   },
   {
    "duration": 15,
    "start_time": "2023-04-01T11:17:18.936Z"
   },
   {
    "duration": 40,
    "start_time": "2023-04-01T11:17:18.953Z"
   },
   {
    "duration": 92,
    "start_time": "2023-04-01T11:17:18.998Z"
   },
   {
    "duration": 12,
    "start_time": "2023-04-01T11:17:19.092Z"
   },
   {
    "duration": 18,
    "start_time": "2023-04-01T11:17:19.106Z"
   },
   {
    "duration": 20,
    "start_time": "2023-04-01T11:17:19.126Z"
   },
   {
    "duration": 12,
    "start_time": "2023-04-01T11:17:19.149Z"
   },
   {
    "duration": 18,
    "start_time": "2023-04-01T11:17:19.163Z"
   },
   {
    "duration": 11,
    "start_time": "2023-04-01T11:17:19.183Z"
   },
   {
    "duration": 20,
    "start_time": "2023-04-01T11:17:19.196Z"
   },
   {
    "duration": 23,
    "start_time": "2023-04-01T11:17:19.217Z"
   },
   {
    "duration": 6,
    "start_time": "2023-04-01T11:17:19.243Z"
   },
   {
    "duration": 14,
    "start_time": "2023-04-01T11:17:19.251Z"
   },
   {
    "duration": 34,
    "start_time": "2023-04-01T11:17:19.267Z"
   },
   {
    "duration": 7,
    "start_time": "2023-04-01T11:17:19.303Z"
   },
   {
    "duration": 18,
    "start_time": "2023-04-01T11:17:19.312Z"
   },
   {
    "duration": 8,
    "start_time": "2023-04-01T11:17:19.332Z"
   },
   {
    "duration": 11,
    "start_time": "2023-04-01T11:17:19.342Z"
   },
   {
    "duration": 43,
    "start_time": "2023-04-01T11:17:19.355Z"
   },
   {
    "duration": 6,
    "start_time": "2023-04-01T11:17:19.400Z"
   },
   {
    "duration": 15492,
    "start_time": "2023-04-01T11:17:19.408Z"
   },
   {
    "duration": 2681,
    "start_time": "2023-04-01T11:17:34.904Z"
   },
   {
    "duration": 9,
    "start_time": "2023-04-01T11:17:37.587Z"
   },
   {
    "duration": 103,
    "start_time": "2023-04-01T11:17:37.598Z"
   },
   {
    "duration": 13268,
    "start_time": "2023-04-01T11:18:15.280Z"
   },
   {
    "duration": 13429,
    "start_time": "2023-04-01T11:18:53.344Z"
   },
   {
    "duration": 579914,
    "start_time": "2023-04-01T11:21:26.019Z"
   },
   {
    "duration": 31711,
    "start_time": "2023-04-01T11:32:19.180Z"
   },
   {
    "duration": 32073,
    "start_time": "2023-04-01T11:38:10.811Z"
   },
   {
    "duration": 8,
    "start_time": "2023-04-01T12:05:49.938Z"
   },
   {
    "duration": 100,
    "start_time": "2023-04-01T12:05:49.949Z"
   },
   {
    "duration": 21,
    "start_time": "2023-04-01T12:05:50.052Z"
   },
   {
    "duration": 57,
    "start_time": "2023-04-01T12:05:50.077Z"
   },
   {
    "duration": 111,
    "start_time": "2023-04-01T12:05:50.137Z"
   },
   {
    "duration": 17,
    "start_time": "2023-04-01T12:05:50.253Z"
   },
   {
    "duration": 4,
    "start_time": "2023-04-01T12:05:50.273Z"
   },
   {
    "duration": 51,
    "start_time": "2023-04-01T12:05:50.280Z"
   },
   {
    "duration": 11,
    "start_time": "2023-04-01T12:05:50.334Z"
   },
   {
    "duration": 27,
    "start_time": "2023-04-01T12:05:50.347Z"
   },
   {
    "duration": 61,
    "start_time": "2023-04-01T12:05:50.376Z"
   },
   {
    "duration": 8,
    "start_time": "2023-04-01T12:05:50.439Z"
   },
   {
    "duration": 37,
    "start_time": "2023-04-01T12:05:50.449Z"
   },
   {
    "duration": 19,
    "start_time": "2023-04-01T12:05:50.490Z"
   },
   {
    "duration": 31,
    "start_time": "2023-04-01T12:05:50.511Z"
   },
   {
    "duration": 45,
    "start_time": "2023-04-01T12:05:50.544Z"
   },
   {
    "duration": 11,
    "start_time": "2023-04-01T12:05:50.591Z"
   },
   {
    "duration": 57,
    "start_time": "2023-04-01T12:05:50.604Z"
   },
   {
    "duration": 29,
    "start_time": "2023-04-01T12:05:50.666Z"
   },
   {
    "duration": 65,
    "start_time": "2023-04-01T12:05:50.701Z"
   },
   {
    "duration": 83,
    "start_time": "2023-04-01T12:05:50.769Z"
   },
   {
    "duration": 10,
    "start_time": "2023-04-01T12:05:50.855Z"
   },
   {
    "duration": 19781,
    "start_time": "2023-04-01T12:05:50.867Z"
   },
   {
    "duration": 774155,
    "start_time": "2023-04-01T12:06:10.650Z"
   },
   {
    "duration": 26295,
    "start_time": "2023-04-01T12:19:04.813Z"
   },
   {
    "duration": 86,
    "start_time": "2023-04-01T12:19:31.115Z"
   },
   {
    "duration": 28724,
    "start_time": "2023-04-01T12:19:31.209Z"
   },
   {
    "duration": 13695,
    "start_time": "2023-04-01T12:24:11.807Z"
   },
   {
    "duration": 13971,
    "start_time": "2023-04-01T12:26:47.121Z"
   },
   {
    "duration": 13893,
    "start_time": "2023-04-01T12:27:26.732Z"
   },
   {
    "duration": 26980,
    "start_time": "2023-04-01T12:30:19.909Z"
   },
   {
    "duration": 26182,
    "start_time": "2023-04-01T12:31:21.607Z"
   },
   {
    "duration": 23,
    "start_time": "2023-04-01T12:39:40.556Z"
   },
   {
    "duration": 77192,
    "start_time": "2023-04-01T12:40:09.619Z"
   },
   {
    "duration": 1068,
    "start_time": "2023-04-02T04:50:58.451Z"
   },
   {
    "duration": 183,
    "start_time": "2023-04-02T04:50:59.521Z"
   },
   {
    "duration": 15,
    "start_time": "2023-04-02T04:50:59.705Z"
   },
   {
    "duration": 24,
    "start_time": "2023-04-02T04:50:59.723Z"
   },
   {
    "duration": 41,
    "start_time": "2023-04-02T04:50:59.749Z"
   },
   {
    "duration": 11,
    "start_time": "2023-04-02T04:50:59.791Z"
   },
   {
    "duration": 4,
    "start_time": "2023-04-02T04:50:59.804Z"
   },
   {
    "duration": 26,
    "start_time": "2023-04-02T04:50:59.809Z"
   },
   {
    "duration": 14,
    "start_time": "2023-04-02T04:50:59.837Z"
   },
   {
    "duration": 13,
    "start_time": "2023-04-02T04:50:59.855Z"
   },
   {
    "duration": 24,
    "start_time": "2023-04-02T04:50:59.870Z"
   },
   {
    "duration": 23,
    "start_time": "2023-04-02T04:50:59.895Z"
   },
   {
    "duration": 20,
    "start_time": "2023-04-02T04:50:59.920Z"
   },
   {
    "duration": 5,
    "start_time": "2023-04-02T04:50:59.943Z"
   },
   {
    "duration": 9,
    "start_time": "2023-04-02T04:50:59.949Z"
   },
   {
    "duration": 24,
    "start_time": "2023-04-02T04:50:59.959Z"
   },
   {
    "duration": 5,
    "start_time": "2023-04-02T04:50:59.985Z"
   },
   {
    "duration": 10,
    "start_time": "2023-04-02T04:50:59.991Z"
   },
   {
    "duration": 6,
    "start_time": "2023-04-02T04:51:00.003Z"
   },
   {
    "duration": 19,
    "start_time": "2023-04-02T04:51:00.034Z"
   },
   {
    "duration": 27,
    "start_time": "2023-04-02T04:51:00.055Z"
   },
   {
    "duration": 27,
    "start_time": "2023-04-02T04:51:00.084Z"
   },
   {
    "duration": 13560,
    "start_time": "2023-04-02T04:51:00.113Z"
   },
   {
    "duration": 519762,
    "start_time": "2023-04-02T04:51:13.675Z"
   },
   {
    "duration": 22912,
    "start_time": "2023-04-02T04:59:53.439Z"
   },
   {
    "duration": 185,
    "start_time": "2023-04-02T05:00:16.353Z"
   },
   {
    "duration": 30803,
    "start_time": "2023-04-02T05:00:16.540Z"
   },
   {
    "duration": 2799,
    "start_time": "2023-04-02T05:58:04.544Z"
   },
   {
    "duration": 72218,
    "start_time": "2023-04-02T06:04:29.224Z"
   },
   {
    "duration": 38364,
    "start_time": "2023-04-02T06:15:32.276Z"
   },
   {
    "duration": 14507,
    "start_time": "2023-04-02T06:27:31.829Z"
   },
   {
    "duration": 27865,
    "start_time": "2023-04-02T06:28:13.181Z"
   },
   {
    "duration": 22807,
    "start_time": "2023-04-02T06:31:32.077Z"
   },
   {
    "duration": 992711,
    "start_time": "2023-04-02T06:32:49.112Z"
   },
   {
    "duration": 19855,
    "start_time": "2023-04-02T06:55:40.298Z"
   },
   {
    "duration": 20098,
    "start_time": "2023-04-02T06:57:03.340Z"
   },
   {
    "duration": 2189,
    "start_time": "2023-04-02T07:00:10.030Z"
   },
   {
    "duration": 6471,
    "start_time": "2023-04-02T07:00:21.492Z"
   },
   {
    "duration": 38909,
    "start_time": "2023-04-02T07:01:04.189Z"
   },
   {
    "duration": 236743,
    "start_time": "2023-04-02T07:01:53.721Z"
   },
   {
    "duration": 9646,
    "start_time": "2023-04-02T07:06:07.390Z"
   },
   {
    "duration": 9634,
    "start_time": "2023-04-02T07:06:53.425Z"
   },
   {
    "duration": 7374,
    "start_time": "2023-04-02T07:07:37.840Z"
   },
   {
    "duration": 243105,
    "start_time": "2023-04-02T07:07:49.157Z"
   },
   {
    "duration": 19523,
    "start_time": "2023-04-02T07:31:41.036Z"
   },
   {
    "duration": 17807,
    "start_time": "2023-04-02T07:32:23.045Z"
   },
   {
    "duration": 13871,
    "start_time": "2023-04-02T07:33:13.166Z"
   },
   {
    "duration": 12,
    "start_time": "2023-04-02T07:39:12.411Z"
   },
   {
    "duration": 22,
    "start_time": "2023-04-02T07:53:04.719Z"
   },
   {
    "duration": 7569,
    "start_time": "2023-04-02T07:57:17.486Z"
   },
   {
    "duration": 17818,
    "start_time": "2023-04-02T07:58:26.316Z"
   },
   {
    "duration": 13696,
    "start_time": "2023-04-02T07:59:51.735Z"
   },
   {
    "duration": 11727,
    "start_time": "2023-04-02T08:00:43.435Z"
   },
   {
    "duration": 109,
    "start_time": "2023-04-02T08:01:08.367Z"
   },
   {
    "duration": 254902,
    "start_time": "2023-04-02T08:01:19.252Z"
   },
   {
    "duration": 19,
    "start_time": "2023-04-02T08:06:26.805Z"
   },
   {
    "duration": 20,
    "start_time": "2023-04-02T08:14:08.190Z"
   },
   {
    "duration": 19,
    "start_time": "2023-04-02T08:14:34.420Z"
   },
   {
    "duration": 11,
    "start_time": "2023-04-02T08:20:30.933Z"
   },
   {
    "duration": 12,
    "start_time": "2023-04-02T08:20:44.162Z"
   },
   {
    "duration": 12,
    "start_time": "2023-04-02T08:20:53.334Z"
   },
   {
    "duration": 11,
    "start_time": "2023-04-02T08:20:58.897Z"
   },
   {
    "duration": 4210,
    "start_time": "2023-04-02T08:21:08.832Z"
   },
   {
    "duration": 12990,
    "start_time": "2023-04-02T08:21:18.166Z"
   },
   {
    "duration": 130548,
    "start_time": "2023-04-02T08:21:36.053Z"
   },
   {
    "duration": 16,
    "start_time": "2023-04-02T08:32:43.360Z"
   },
   {
    "duration": 11,
    "start_time": "2023-04-02T08:37:58.005Z"
   },
   {
    "duration": 12,
    "start_time": "2023-04-02T08:38:35.357Z"
   },
   {
    "duration": 10,
    "start_time": "2023-04-02T08:38:37.995Z"
   },
   {
    "duration": 15,
    "start_time": "2023-04-02T08:38:44.618Z"
   },
   {
    "duration": 18,
    "start_time": "2023-04-02T08:43:08.350Z"
   },
   {
    "duration": 58,
    "start_time": "2023-04-02T15:53:47.185Z"
   },
   {
    "duration": 1227,
    "start_time": "2023-04-02T15:53:51.541Z"
   },
   {
    "duration": 93,
    "start_time": "2023-04-02T15:53:52.770Z"
   },
   {
    "duration": 19,
    "start_time": "2023-04-02T15:53:52.865Z"
   },
   {
    "duration": 32,
    "start_time": "2023-04-02T15:53:52.887Z"
   },
   {
    "duration": 72,
    "start_time": "2023-04-02T15:53:52.921Z"
   },
   {
    "duration": 21,
    "start_time": "2023-04-02T15:53:52.994Z"
   },
   {
    "duration": 4,
    "start_time": "2023-04-02T15:53:53.017Z"
   },
   {
    "duration": 12,
    "start_time": "2023-04-02T15:53:53.023Z"
   },
   {
    "duration": 4,
    "start_time": "2023-04-02T15:53:53.037Z"
   },
   {
    "duration": 6,
    "start_time": "2023-04-02T15:53:53.045Z"
   },
   {
    "duration": 5,
    "start_time": "2023-04-02T15:53:53.080Z"
   },
   {
    "duration": 6,
    "start_time": "2023-04-02T15:53:53.088Z"
   },
   {
    "duration": 22,
    "start_time": "2023-04-02T15:53:53.096Z"
   },
   {
    "duration": 6,
    "start_time": "2023-04-02T15:53:53.119Z"
   },
   {
    "duration": 8,
    "start_time": "2023-04-02T15:53:53.126Z"
   },
   {
    "duration": 70,
    "start_time": "2023-04-02T15:53:53.137Z"
   },
   {
    "duration": 7,
    "start_time": "2023-04-02T15:53:53.209Z"
   },
   {
    "duration": 13,
    "start_time": "2023-04-02T15:53:53.218Z"
   },
   {
    "duration": 10,
    "start_time": "2023-04-02T15:53:53.233Z"
   },
   {
    "duration": 20,
    "start_time": "2023-04-02T15:53:53.246Z"
   },
   {
    "duration": 40,
    "start_time": "2023-04-02T15:53:53.281Z"
   },
   {
    "duration": 7,
    "start_time": "2023-04-02T15:53:53.323Z"
   },
   {
    "duration": 16884,
    "start_time": "2023-04-02T15:53:53.332Z"
   },
   {
    "duration": 654811,
    "start_time": "2023-04-02T15:54:10.217Z"
   },
   {
    "duration": 10452,
    "start_time": "2023-04-02T16:05:05.030Z"
   },
   {
    "duration": 27,
    "start_time": "2023-04-02T16:05:15.484Z"
   },
   {
    "duration": 45,
    "start_time": "2023-04-02T16:05:15.577Z"
   },
   {
    "duration": 6960,
    "start_time": "2023-04-02T16:05:15.625Z"
   },
   {
    "duration": 153816,
    "start_time": "2023-04-02T16:05:22.586Z"
   },
   {
    "duration": 10797,
    "start_time": "2023-04-02T16:07:56.408Z"
   },
   {
    "duration": 85,
    "start_time": "2023-04-02T16:08:07.217Z"
   },
   {
    "duration": 26,
    "start_time": "2023-04-02T16:08:07.531Z"
   },
   {
    "duration": 16,
    "start_time": "2023-04-02T16:08:28.631Z"
   },
   {
    "duration": 4678,
    "start_time": "2023-04-02T16:08:50.017Z"
   },
   {
    "duration": 151164,
    "start_time": "2023-04-02T16:08:59.014Z"
   },
   {
    "duration": 10410,
    "start_time": "2023-04-02T16:11:38.476Z"
   },
   {
    "duration": 32,
    "start_time": "2023-04-02T16:12:43.792Z"
   },
   {
    "duration": 36,
    "start_time": "2023-04-02T16:13:58.413Z"
   },
   {
    "duration": 21,
    "start_time": "2023-04-02T16:14:48.288Z"
   },
   {
    "duration": 24,
    "start_time": "2023-04-02T16:18:20.009Z"
   },
   {
    "duration": 43,
    "start_time": "2023-04-02T16:20:11.275Z"
   },
   {
    "duration": 38,
    "start_time": "2023-04-02T16:20:48.656Z"
   },
   {
    "duration": 30,
    "start_time": "2023-04-02T16:21:22.727Z"
   },
   {
    "duration": 53,
    "start_time": "2023-04-02T16:21:33.250Z"
   },
   {
    "duration": 39,
    "start_time": "2023-04-02T16:22:05.601Z"
   },
   {
    "duration": 41,
    "start_time": "2023-04-02T16:23:10.010Z"
   },
   {
    "duration": 38,
    "start_time": "2023-04-02T16:23:25.061Z"
   },
   {
    "duration": 34,
    "start_time": "2023-04-02T16:25:48.111Z"
   },
   {
    "duration": 18,
    "start_time": "2023-04-02T16:25:53.071Z"
   },
   {
    "duration": 4126,
    "start_time": "2023-04-02T16:25:56.829Z"
   },
   {
    "duration": 145593,
    "start_time": "2023-04-02T16:26:06.755Z"
   },
   {
    "duration": 38,
    "start_time": "2023-04-02T16:28:32.412Z"
   },
   {
    "duration": 13,
    "start_time": "2023-04-02T16:30:18.238Z"
   },
   {
    "duration": 12,
    "start_time": "2023-04-02T16:30:21.062Z"
   },
   {
    "duration": 4780,
    "start_time": "2023-04-02T16:30:24.125Z"
   },
   {
    "duration": 153174,
    "start_time": "2023-04-02T16:30:32.719Z"
   },
   {
    "duration": 12,
    "start_time": "2023-04-02T16:42:37.194Z"
   },
   {
    "duration": 12,
    "start_time": "2023-04-02T16:42:43.601Z"
   },
   {
    "duration": 4603,
    "start_time": "2023-04-02T16:47:42.382Z"
   },
   {
    "duration": 13534,
    "start_time": "2023-04-02T16:47:53.252Z"
   },
   {
    "duration": 20,
    "start_time": "2023-04-02T16:48:17.557Z"
   },
   {
    "duration": 69,
    "start_time": "2023-04-02T16:51:21.648Z"
   },
   {
    "duration": 133,
    "start_time": "2023-04-02T16:52:49.784Z"
   },
   {
    "duration": 16,
    "start_time": "2023-04-02T16:55:54.663Z"
   },
   {
    "duration": 77,
    "start_time": "2023-04-02T17:03:21.120Z"
   },
   {
    "duration": 12,
    "start_time": "2023-04-02T17:04:08.228Z"
   },
   {
    "duration": 1220,
    "start_time": "2023-04-03T07:04:44.425Z"
   },
   {
    "duration": 107,
    "start_time": "2023-04-03T07:04:45.647Z"
   },
   {
    "duration": 13,
    "start_time": "2023-04-03T07:04:46.135Z"
   },
   {
    "duration": 29,
    "start_time": "2023-04-03T07:04:54.586Z"
   },
   {
    "duration": 65,
    "start_time": "2023-04-03T07:05:01.432Z"
   },
   {
    "duration": 19,
    "start_time": "2023-04-03T07:05:06.872Z"
   },
   {
    "duration": 5,
    "start_time": "2023-04-03T07:05:50.587Z"
   },
   {
    "duration": 5,
    "start_time": "2023-04-03T07:05:51.218Z"
   },
   {
    "duration": 7,
    "start_time": "2023-04-03T07:05:52.087Z"
   },
   {
    "duration": 13,
    "start_time": "2023-04-03T07:05:57.285Z"
   },
   {
    "duration": 5,
    "start_time": "2023-04-03T07:06:00.427Z"
   },
   {
    "duration": 5,
    "start_time": "2023-04-03T07:06:15.630Z"
   },
   {
    "duration": 17,
    "start_time": "2023-04-03T07:06:19.241Z"
   },
   {
    "duration": 8,
    "start_time": "2023-04-03T07:06:26.185Z"
   },
   {
    "duration": 19,
    "start_time": "2023-04-03T07:06:27.167Z"
   },
   {
    "duration": 30,
    "start_time": "2023-04-03T07:09:46.649Z"
   },
   {
    "duration": 7,
    "start_time": "2023-04-03T07:09:53.921Z"
   },
   {
    "duration": 14,
    "start_time": "2023-04-03T07:10:04.171Z"
   },
   {
    "duration": 14,
    "start_time": "2023-04-03T07:10:06.784Z"
   },
   {
    "duration": 4,
    "start_time": "2023-04-03T07:10:09.725Z"
   },
   {
    "duration": 55,
    "start_time": "2023-04-03T07:10:14.691Z"
   },
   {
    "duration": 45,
    "start_time": "2023-04-03T07:10:23.414Z"
   },
   {
    "duration": 9,
    "start_time": "2023-04-03T07:11:13.818Z"
   },
   {
    "duration": 5187,
    "start_time": "2023-04-03T07:11:17.130Z"
   },
   {
    "duration": 171538,
    "start_time": "2023-04-03T07:11:26.614Z"
   },
   {
    "duration": 19,
    "start_time": "2023-04-03T07:16:47.007Z"
   },
   {
    "duration": 10999,
    "start_time": "2023-04-03T07:21:01.904Z"
   },
   {
    "duration": 40,
    "start_time": "2023-04-03T07:32:00.399Z"
   },
   {
    "duration": 50,
    "start_time": "2023-04-03T07:32:33.109Z"
   },
   {
    "duration": 20,
    "start_time": "2023-04-03T07:32:54.293Z"
   },
   {
    "duration": 15,
    "start_time": "2023-04-03T07:35:07.523Z"
   },
   {
    "duration": 18,
    "start_time": "2023-04-03T07:39:03.584Z"
   },
   {
    "duration": 17,
    "start_time": "2023-04-03T07:39:12.502Z"
   },
   {
    "duration": 5925,
    "start_time": "2023-04-03T07:39:24.854Z"
   },
   {
    "duration": 6419,
    "start_time": "2023-04-03T07:40:11.028Z"
   },
   {
    "duration": 196358,
    "start_time": "2023-04-03T07:40:52.845Z"
   },
   {
    "duration": 0,
    "start_time": "2023-04-03T08:02:47.693Z"
   },
   {
    "duration": 0,
    "start_time": "2023-04-03T08:02:47.696Z"
   },
   {
    "duration": 0,
    "start_time": "2023-04-03T08:02:47.699Z"
   },
   {
    "duration": 0,
    "start_time": "2023-04-03T08:02:47.781Z"
   },
   {
    "duration": 1,
    "start_time": "2023-04-03T08:02:47.784Z"
   },
   {
    "duration": 0,
    "start_time": "2023-04-03T08:02:47.786Z"
   },
   {
    "duration": 0,
    "start_time": "2023-04-03T08:02:47.791Z"
   },
   {
    "duration": 0,
    "start_time": "2023-04-03T08:02:47.794Z"
   },
   {
    "duration": 0,
    "start_time": "2023-04-03T08:02:47.797Z"
   },
   {
    "duration": 0,
    "start_time": "2023-04-03T08:02:47.800Z"
   },
   {
    "duration": 0,
    "start_time": "2023-04-03T08:02:47.803Z"
   },
   {
    "duration": 0,
    "start_time": "2023-04-03T08:02:47.808Z"
   },
   {
    "duration": 0,
    "start_time": "2023-04-03T08:02:47.862Z"
   },
   {
    "duration": 0,
    "start_time": "2023-04-03T08:02:47.867Z"
   },
   {
    "duration": 0,
    "start_time": "2023-04-03T08:02:47.870Z"
   },
   {
    "duration": 0,
    "start_time": "2023-04-03T08:02:47.875Z"
   },
   {
    "duration": 0,
    "start_time": "2023-04-03T08:02:47.877Z"
   },
   {
    "duration": 0,
    "start_time": "2023-04-03T08:02:47.880Z"
   },
   {
    "duration": 0,
    "start_time": "2023-04-03T08:02:47.883Z"
   },
   {
    "duration": 0,
    "start_time": "2023-04-03T08:02:47.890Z"
   },
   {
    "duration": 0,
    "start_time": "2023-04-03T08:02:47.893Z"
   },
   {
    "duration": 0,
    "start_time": "2023-04-03T08:02:47.896Z"
   },
   {
    "duration": 0,
    "start_time": "2023-04-03T08:02:47.899Z"
   },
   {
    "duration": 0,
    "start_time": "2023-04-03T08:02:47.963Z"
   },
   {
    "duration": 0,
    "start_time": "2023-04-03T08:02:47.966Z"
   },
   {
    "duration": 0,
    "start_time": "2023-04-03T08:02:47.973Z"
   },
   {
    "duration": 0,
    "start_time": "2023-04-03T08:02:47.975Z"
   },
   {
    "duration": 0,
    "start_time": "2023-04-03T08:02:47.978Z"
   },
   {
    "duration": 0,
    "start_time": "2023-04-03T08:02:47.985Z"
   },
   {
    "duration": 0,
    "start_time": "2023-04-03T08:02:47.986Z"
   },
   {
    "duration": 0,
    "start_time": "2023-04-03T08:02:47.988Z"
   },
   {
    "duration": 4,
    "start_time": "2023-04-03T08:06:21.804Z"
   },
   {
    "duration": 43,
    "start_time": "2023-04-03T08:06:22.478Z"
   },
   {
    "duration": 16,
    "start_time": "2023-04-03T08:06:24.718Z"
   },
   {
    "duration": 21,
    "start_time": "2023-04-03T08:06:25.817Z"
   },
   {
    "duration": 48,
    "start_time": "2023-04-03T08:06:29.863Z"
   },
   {
    "duration": 13,
    "start_time": "2023-04-03T08:06:30.145Z"
   },
   {
    "duration": 4,
    "start_time": "2023-04-03T08:06:36.056Z"
   },
   {
    "duration": 4,
    "start_time": "2023-04-03T08:06:36.389Z"
   },
   {
    "duration": 4,
    "start_time": "2023-04-03T08:06:36.849Z"
   },
   {
    "duration": 9,
    "start_time": "2023-04-03T08:06:44.200Z"
   },
   {
    "duration": 5,
    "start_time": "2023-04-03T08:06:44.583Z"
   },
   {
    "duration": 7,
    "start_time": "2023-04-03T08:06:47.240Z"
   },
   {
    "duration": 12,
    "start_time": "2023-04-03T08:06:47.642Z"
   },
   {
    "duration": 5,
    "start_time": "2023-04-03T08:06:54.839Z"
   },
   {
    "duration": 6,
    "start_time": "2023-04-03T08:06:55.225Z"
   },
   {
    "duration": 24,
    "start_time": "2023-04-03T08:06:55.829Z"
   },
   {
    "duration": 11,
    "start_time": "2023-04-03T08:07:21.463Z"
   },
   {
    "duration": 22,
    "start_time": "2023-04-03T08:07:23.255Z"
   },
   {
    "duration": 11,
    "start_time": "2023-04-03T08:07:23.689Z"
   },
   {
    "duration": 9,
    "start_time": "2023-04-03T08:07:23.912Z"
   },
   {
    "duration": 54,
    "start_time": "2023-04-03T08:07:41.129Z"
   },
   {
    "duration": 7,
    "start_time": "2023-04-03T08:12:45.716Z"
   },
   {
    "duration": 5396,
    "start_time": "2023-04-03T08:12:47.433Z"
   },
   {
    "duration": 186326,
    "start_time": "2023-04-03T08:12:55.459Z"
   },
   {
    "duration": 10353,
    "start_time": "2023-04-03T08:18:52.617Z"
   },
   {
    "duration": 15,
    "start_time": "2023-04-03T08:19:29.607Z"
   },
   {
    "duration": 20,
    "start_time": "2023-04-03T08:19:32.749Z"
   },
   {
    "duration": 6325,
    "start_time": "2023-04-03T08:19:35.792Z"
   },
   {
    "duration": 206649,
    "start_time": "2023-04-03T08:19:46.440Z"
   },
   {
    "duration": 14466,
    "start_time": "2023-04-03T08:23:18.849Z"
   },
   {
    "duration": 25,
    "start_time": "2023-04-03T08:23:40.099Z"
   },
   {
    "duration": 24,
    "start_time": "2023-04-03T08:24:34.506Z"
   },
   {
    "duration": 28,
    "start_time": "2023-04-03T08:38:06.913Z"
   },
   {
    "duration": 477,
    "start_time": "2023-04-03T08:39:38.891Z"
   },
   {
    "duration": 51,
    "start_time": "2023-04-03T08:39:40.947Z"
   },
   {
    "duration": 14,
    "start_time": "2023-04-03T08:39:41.119Z"
   },
   {
    "duration": 16,
    "start_time": "2023-04-03T08:39:41.285Z"
   },
   {
    "duration": 61,
    "start_time": "2023-04-03T08:39:41.697Z"
   },
   {
    "duration": 15,
    "start_time": "2023-04-03T08:39:41.854Z"
   },
   {
    "duration": 169,
    "start_time": "2023-04-03T08:39:47.646Z"
   },
   {
    "duration": 5,
    "start_time": "2023-04-03T08:42:05.843Z"
   },
   {
    "duration": 7,
    "start_time": "2023-04-03T08:42:25.021Z"
   },
   {
    "duration": 7,
    "start_time": "2023-04-03T08:44:28.219Z"
   },
   {
    "duration": 24,
    "start_time": "2023-04-03T08:44:37.209Z"
   },
   {
    "duration": 322,
    "start_time": "2023-04-03T08:49:01.691Z"
   },
   {
    "duration": 162,
    "start_time": "2023-04-03T08:49:10.050Z"
   },
   {
    "duration": 8,
    "start_time": "2023-04-03T08:49:51.736Z"
   },
   {
    "duration": 7,
    "start_time": "2023-04-03T09:24:22.743Z"
   },
   {
    "duration": 9,
    "start_time": "2023-04-03T09:24:47.167Z"
   },
   {
    "duration": 8,
    "start_time": "2023-04-03T09:28:59.145Z"
   },
   {
    "duration": 8,
    "start_time": "2023-04-03T09:29:21.749Z"
   },
   {
    "duration": 15,
    "start_time": "2023-04-03T09:29:24.455Z"
   },
   {
    "duration": 9,
    "start_time": "2023-04-03T09:30:22.545Z"
   },
   {
    "duration": 13,
    "start_time": "2023-04-03T09:30:25.955Z"
   },
   {
    "duration": 173,
    "start_time": "2023-04-03T09:31:55.294Z"
   },
   {
    "duration": 9,
    "start_time": "2023-04-03T09:32:07.226Z"
   },
   {
    "duration": 5,
    "start_time": "2023-04-03T09:34:15.217Z"
   },
   {
    "duration": 70,
    "start_time": "2023-04-03T09:34:15.647Z"
   },
   {
    "duration": 25,
    "start_time": "2023-04-03T09:34:16.062Z"
   },
   {
    "duration": 37,
    "start_time": "2023-04-03T09:34:17.515Z"
   },
   {
    "duration": 80,
    "start_time": "2023-04-03T09:34:18.633Z"
   },
   {
    "duration": 30,
    "start_time": "2023-04-03T09:34:19.559Z"
   },
   {
    "duration": 4,
    "start_time": "2023-04-03T09:34:25.714Z"
   },
   {
    "duration": 6,
    "start_time": "2023-04-03T09:34:26.330Z"
   },
   {
    "duration": 6,
    "start_time": "2023-04-03T09:34:26.796Z"
   },
   {
    "duration": 7,
    "start_time": "2023-04-03T09:34:30.746Z"
   },
   {
    "duration": 9,
    "start_time": "2023-04-03T09:34:31.304Z"
   },
   {
    "duration": 16,
    "start_time": "2023-04-03T09:34:32.690Z"
   },
   {
    "duration": 17,
    "start_time": "2023-04-03T09:34:33.140Z"
   },
   {
    "duration": 15,
    "start_time": "2023-04-03T09:34:37.797Z"
   },
   {
    "duration": 7,
    "start_time": "2023-04-03T09:34:38.346Z"
   },
   {
    "duration": 52,
    "start_time": "2023-04-03T09:34:40.892Z"
   },
   {
    "duration": 9,
    "start_time": "2023-04-03T09:35:43.694Z"
   },
   {
    "duration": 5,
    "start_time": "2023-04-03T09:35:43.890Z"
   },
   {
    "duration": 30,
    "start_time": "2023-04-03T09:35:44.519Z"
   },
   {
    "duration": 13,
    "start_time": "2023-04-03T09:35:44.904Z"
   },
   {
    "duration": 6,
    "start_time": "2023-04-03T09:35:51.023Z"
   },
   {
    "duration": 6,
    "start_time": "2023-04-03T09:35:51.407Z"
   },
   {
    "duration": 18,
    "start_time": "2023-04-03T09:35:54.721Z"
   },
   {
    "duration": 13,
    "start_time": "2023-04-03T09:35:59.658Z"
   },
   {
    "duration": 71,
    "start_time": "2023-04-03T09:35:59.673Z"
   },
   {
    "duration": 28,
    "start_time": "2023-04-03T09:35:59.747Z"
   },
   {
    "duration": 26,
    "start_time": "2023-04-03T09:35:59.787Z"
   },
   {
    "duration": 51,
    "start_time": "2023-04-03T09:35:59.816Z"
   },
   {
    "duration": 16,
    "start_time": "2023-04-03T09:35:59.868Z"
   },
   {
    "duration": 4,
    "start_time": "2023-04-03T09:35:59.885Z"
   },
   {
    "duration": 9,
    "start_time": "2023-04-03T09:35:59.891Z"
   },
   {
    "duration": 4,
    "start_time": "2023-04-03T09:35:59.904Z"
   },
   {
    "duration": 10,
    "start_time": "2023-04-03T09:35:59.910Z"
   },
   {
    "duration": 5,
    "start_time": "2023-04-03T09:35:59.922Z"
   },
   {
    "duration": 5,
    "start_time": "2023-04-03T09:35:59.929Z"
   },
   {
    "duration": 24,
    "start_time": "2023-04-03T09:35:59.964Z"
   },
   {
    "duration": 8,
    "start_time": "2023-04-03T09:35:59.992Z"
   },
   {
    "duration": 15,
    "start_time": "2023-04-03T09:36:00.002Z"
   },
   {
    "duration": 59,
    "start_time": "2023-04-03T09:36:00.019Z"
   },
   {
    "duration": 16,
    "start_time": "2023-04-03T09:36:00.080Z"
   },
   {
    "duration": 19,
    "start_time": "2023-04-03T09:36:00.100Z"
   },
   {
    "duration": 20,
    "start_time": "2023-04-03T09:36:00.121Z"
   },
   {
    "duration": 32,
    "start_time": "2023-04-03T09:36:00.144Z"
   },
   {
    "duration": 72,
    "start_time": "2023-04-03T09:36:00.182Z"
   },
   {
    "duration": 15,
    "start_time": "2023-04-03T09:36:00.256Z"
   },
   {
    "duration": 5644,
    "start_time": "2023-04-03T09:36:00.273Z"
   },
   {
    "duration": 193560,
    "start_time": "2023-04-03T09:36:05.921Z"
   },
   {
    "duration": 10819,
    "start_time": "2023-04-03T09:39:19.484Z"
   },
   {
    "duration": 21,
    "start_time": "2023-04-03T09:39:30.375Z"
   },
   {
    "duration": 39,
    "start_time": "2023-04-03T09:39:30.402Z"
   },
   {
    "duration": 6443,
    "start_time": "2023-04-03T09:39:30.442Z"
   },
   {
    "duration": 222292,
    "start_time": "2023-04-03T09:39:36.887Z"
   },
   {
    "duration": 13517,
    "start_time": "2023-04-03T09:43:19.181Z"
   },
   {
    "duration": 281,
    "start_time": "2023-04-03T09:43:32.715Z"
   },
   {
    "duration": 9,
    "start_time": "2023-04-03T09:43:33.005Z"
   },
   {
    "duration": 38,
    "start_time": "2023-04-03T09:43:33.017Z"
   },
   {
    "duration": 1976,
    "start_time": "2023-04-04T12:59:16.657Z"
   },
   {
    "duration": 99,
    "start_time": "2023-04-04T12:59:18.636Z"
   },
   {
    "duration": 16,
    "start_time": "2023-04-04T12:59:18.737Z"
   },
   {
    "duration": 47,
    "start_time": "2023-04-04T12:59:18.755Z"
   },
   {
    "duration": 118,
    "start_time": "2023-04-04T12:59:18.805Z"
   },
   {
    "duration": 12,
    "start_time": "2023-04-04T12:59:18.925Z"
   },
   {
    "duration": 5,
    "start_time": "2023-04-04T12:59:18.939Z"
   },
   {
    "duration": 32,
    "start_time": "2023-04-04T12:59:18.946Z"
   },
   {
    "duration": 15,
    "start_time": "2023-04-04T12:59:18.980Z"
   },
   {
    "duration": 31,
    "start_time": "2023-04-04T12:59:18.997Z"
   },
   {
    "duration": 27,
    "start_time": "2023-04-04T12:59:19.030Z"
   },
   {
    "duration": 31,
    "start_time": "2023-04-04T12:59:19.059Z"
   },
   {
    "duration": 37,
    "start_time": "2023-04-04T12:59:19.092Z"
   },
   {
    "duration": 12,
    "start_time": "2023-04-04T12:59:19.133Z"
   },
   {
    "duration": 46,
    "start_time": "2023-04-04T12:59:19.147Z"
   },
   {
    "duration": 52,
    "start_time": "2023-04-04T12:59:19.195Z"
   },
   {
    "duration": 47,
    "start_time": "2023-04-04T12:59:19.249Z"
   },
   {
    "duration": 37,
    "start_time": "2023-04-04T12:59:19.298Z"
   },
   {
    "duration": 23,
    "start_time": "2023-04-04T12:59:19.337Z"
   },
   {
    "duration": 16,
    "start_time": "2023-04-04T12:59:19.367Z"
   },
   {
    "duration": 96,
    "start_time": "2023-04-04T12:59:19.385Z"
   },
   {
    "duration": 8,
    "start_time": "2023-04-04T12:59:19.483Z"
   },
   {
    "duration": 4521,
    "start_time": "2023-04-04T12:59:19.493Z"
   },
   {
    "duration": 157750,
    "start_time": "2023-04-04T12:59:24.016Z"
   },
   {
    "duration": 12810,
    "start_time": "2023-04-04T13:02:01.767Z"
   },
   {
    "duration": 92,
    "start_time": "2023-04-04T13:02:14.579Z"
   },
   {
    "duration": 105,
    "start_time": "2023-04-04T13:02:14.673Z"
   },
   {
    "duration": 6362,
    "start_time": "2023-04-04T13:02:14.780Z"
   },
   {
    "duration": 195224,
    "start_time": "2023-04-04T13:02:21.144Z"
   },
   {
    "duration": 14404,
    "start_time": "2023-04-04T13:05:36.371Z"
   },
   {
    "duration": 341,
    "start_time": "2023-04-04T13:05:50.777Z"
   },
   {
    "duration": 11,
    "start_time": "2023-04-04T13:05:51.120Z"
   },
   {
    "duration": 40,
    "start_time": "2023-04-04T13:05:51.133Z"
   },
   {
    "duration": 56,
    "start_time": "2023-04-04T13:05:51.259Z"
   },
   {
    "duration": 16,
    "start_time": "2023-04-04T13:05:51.317Z"
   },
   {
    "duration": 13,
    "start_time": "2023-04-04T13:06:51.952Z"
   },
   {
    "duration": 15,
    "start_time": "2023-04-04T13:07:12.542Z"
   },
   {
    "duration": 6,
    "start_time": "2023-04-04T13:16:34.295Z"
   },
   {
    "duration": 69,
    "start_time": "2023-04-04T13:17:27.367Z"
   },
   {
    "duration": 72,
    "start_time": "2023-04-04T13:17:49.718Z"
   },
   {
    "duration": 70,
    "start_time": "2023-04-04T13:18:01.970Z"
   },
   {
    "duration": 6,
    "start_time": "2023-04-04T13:18:47.649Z"
   },
   {
    "duration": 3,
    "start_time": "2023-04-04T13:19:54.317Z"
   },
   {
    "duration": 5,
    "start_time": "2023-04-04T13:19:55.309Z"
   },
   {
    "duration": 120,
    "start_time": "2023-04-04T13:19:56.411Z"
   },
   {
    "duration": 5,
    "start_time": "2023-04-04T13:20:27.815Z"
   },
   {
    "duration": 36,
    "start_time": "2023-04-04T13:20:27.991Z"
   },
   {
    "duration": 12,
    "start_time": "2023-04-04T13:20:28.172Z"
   },
   {
    "duration": 16,
    "start_time": "2023-04-04T13:20:28.340Z"
   },
   {
    "duration": 60,
    "start_time": "2023-04-04T13:20:28.563Z"
   },
   {
    "duration": 12,
    "start_time": "2023-04-04T13:20:29.206Z"
   },
   {
    "duration": 4,
    "start_time": "2023-04-04T13:20:31.415Z"
   },
   {
    "duration": 4,
    "start_time": "2023-04-04T13:20:31.750Z"
   },
   {
    "duration": 5,
    "start_time": "2023-04-04T13:20:32.342Z"
   },
   {
    "duration": 5,
    "start_time": "2023-04-04T13:20:34.337Z"
   },
   {
    "duration": 3,
    "start_time": "2023-04-04T13:20:34.802Z"
   },
   {
    "duration": 6,
    "start_time": "2023-04-04T13:20:36.253Z"
   },
   {
    "duration": 6,
    "start_time": "2023-04-04T13:20:38.115Z"
   },
   {
    "duration": 14,
    "start_time": "2023-04-04T13:20:40.335Z"
   },
   {
    "duration": 3,
    "start_time": "2023-04-04T13:21:38.728Z"
   },
   {
    "duration": 11,
    "start_time": "2023-04-04T13:21:53.556Z"
   },
   {
    "duration": 28,
    "start_time": "2023-04-04T13:24:09.111Z"
   },
   {
    "duration": 1194,
    "start_time": "2023-04-04T13:25:19.634Z"
   },
   {
    "duration": 1123,
    "start_time": "2023-04-04T13:25:52.594Z"
   },
   {
    "duration": 0,
    "start_time": "2023-04-04T13:25:53.719Z"
   },
   {
    "duration": 6,
    "start_time": "2023-04-04T13:26:01.148Z"
   },
   {
    "duration": 37,
    "start_time": "2023-04-04T13:26:01.315Z"
   },
   {
    "duration": 15,
    "start_time": "2023-04-04T13:26:01.461Z"
   },
   {
    "duration": 21,
    "start_time": "2023-04-04T13:26:01.634Z"
   },
   {
    "duration": 63,
    "start_time": "2023-04-04T13:26:01.831Z"
   },
   {
    "duration": 13,
    "start_time": "2023-04-04T13:26:02.612Z"
   },
   {
    "duration": 4,
    "start_time": "2023-04-04T13:26:04.820Z"
   },
   {
    "duration": 5,
    "start_time": "2023-04-04T13:26:05.661Z"
   },
   {
    "duration": 8,
    "start_time": "2023-04-04T13:26:06.154Z"
   },
   {
    "duration": 5,
    "start_time": "2023-04-04T13:26:08.771Z"
   },
   {
    "duration": 3,
    "start_time": "2023-04-04T13:26:09.388Z"
   },
   {
    "duration": 5,
    "start_time": "2023-04-04T13:26:11.886Z"
   },
   {
    "duration": 5,
    "start_time": "2023-04-04T13:26:15.460Z"
   },
   {
    "duration": 14,
    "start_time": "2023-04-04T13:26:16.771Z"
   },
   {
    "duration": 6,
    "start_time": "2023-04-04T13:26:19.704Z"
   },
   {
    "duration": 5,
    "start_time": "2023-04-04T13:26:20.535Z"
   },
   {
    "duration": 21,
    "start_time": "2023-04-04T13:26:22.002Z"
   },
   {
    "duration": 874190,
    "start_time": "2023-04-04T13:37:08.789Z"
   },
   {
    "duration": 183,
    "start_time": "2023-04-04T13:51:42.981Z"
   },
   {
    "duration": 8,
    "start_time": "2023-04-04T13:51:43.167Z"
   },
   {
    "duration": 88,
    "start_time": "2023-04-04T14:12:44.991Z"
   },
   {
    "duration": 22,
    "start_time": "2023-04-04T14:15:45.056Z"
   },
   {
    "duration": 21,
    "start_time": "2023-04-04T14:16:57.766Z"
   },
   {
    "duration": 19,
    "start_time": "2023-04-04T14:17:34.818Z"
   },
   {
    "duration": 11,
    "start_time": "2023-04-04T14:18:28.458Z"
   },
   {
    "duration": 25,
    "start_time": "2023-04-04T14:23:16.597Z"
   },
   {
    "duration": 5615,
    "start_time": "2023-04-04T14:26:32.966Z"
   },
   {
    "duration": 16093,
    "start_time": "2023-04-04T14:46:33.079Z"
   },
   {
    "duration": 5674,
    "start_time": "2023-04-04T14:47:08.515Z"
   },
   {
    "duration": 84,
    "start_time": "2023-04-04T14:48:51.786Z"
   },
   {
    "duration": 126,
    "start_time": "2023-04-04T14:49:17.737Z"
   },
   {
    "duration": 5473,
    "start_time": "2023-04-04T14:51:43.702Z"
   },
   {
    "duration": 4802,
    "start_time": "2023-04-04T14:54:48.561Z"
   },
   {
    "duration": 12834,
    "start_time": "2023-04-04T15:07:18.731Z"
   },
   {
    "duration": 12487,
    "start_time": "2023-04-04T15:07:54.184Z"
   },
   {
    "duration": 862064,
    "start_time": "2023-04-04T15:08:55.400Z"
   },
   {
    "duration": 5154,
    "start_time": "2023-04-04T15:26:29.345Z"
   },
   {
    "duration": 845115,
    "start_time": "2023-04-04T15:42:56.739Z"
   },
   {
    "duration": 4401,
    "start_time": "2023-04-04T15:57:01.861Z"
   },
   {
    "duration": 6,
    "start_time": "2023-04-04T15:57:06.298Z"
   },
   {
    "duration": 13261,
    "start_time": "2023-04-04T15:57:06.306Z"
   },
   {
    "duration": 73,
    "start_time": "2023-04-04T16:06:00.292Z"
   },
   {
    "duration": 9,
    "start_time": "2023-04-04T16:06:10.092Z"
   },
   {
    "duration": 6,
    "start_time": "2023-04-04T16:06:43.269Z"
   },
   {
    "duration": 5,
    "start_time": "2023-04-04T16:06:56.259Z"
   },
   {
    "duration": 4,
    "start_time": "2023-04-04T16:07:03.256Z"
   },
   {
    "duration": 6,
    "start_time": "2023-04-04T16:07:46.415Z"
   },
   {
    "duration": 4,
    "start_time": "2023-04-04T16:08:09.410Z"
   },
   {
    "duration": 6,
    "start_time": "2023-04-04T16:08:14.376Z"
   },
   {
    "duration": 10,
    "start_time": "2023-04-04T16:12:52.144Z"
   },
   {
    "duration": 28,
    "start_time": "2023-04-04T16:13:31.736Z"
   },
   {
    "duration": 11,
    "start_time": "2023-04-04T16:14:46.118Z"
   },
   {
    "duration": 8,
    "start_time": "2023-04-04T16:19:02.836Z"
   },
   {
    "duration": 8,
    "start_time": "2023-04-04T16:19:35.076Z"
   },
   {
    "duration": 5,
    "start_time": "2023-04-04T16:19:41.739Z"
   },
   {
    "duration": 4,
    "start_time": "2023-04-04T16:20:04.195Z"
   },
   {
    "duration": 11,
    "start_time": "2023-04-04T16:20:25.105Z"
   }
  ],
  "kernelspec": {
   "display_name": "Python 3 (ipykernel)",
   "language": "python",
   "name": "python3"
  },
  "language_info": {
   "codemirror_mode": {
    "name": "ipython",
    "version": 3
   },
   "file_extension": ".py",
   "mimetype": "text/x-python",
   "name": "python",
   "nbconvert_exporter": "python",
   "pygments_lexer": "ipython3",
   "version": "3.10.9"
  },
  "toc": {
   "base_numbering": 1,
   "nav_menu": {},
   "number_sections": true,
   "sideBar": true,
   "skip_h1_title": true,
   "title_cell": "Содержание",
   "title_sidebar": "Contents",
   "toc_cell": true,
   "toc_position": {
    "height": "calc(100% - 180px)",
    "left": "10px",
    "top": "150px",
    "width": "289.433px"
   },
   "toc_section_display": true,
   "toc_window_display": true
  }
 },
 "nbformat": 4,
 "nbformat_minor": 2
}
