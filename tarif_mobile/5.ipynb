{
 "cells": [
  {
   "cell_type": "markdown",
   "metadata": {},
   "source": [
    "# Рекомендация тарифов"
   ]
  },
  {
   "cell_type": "markdown",
   "metadata": {},
   "source": [
    "<b>Описание проекта</b>  \n",
    "\n",
    "Оператор мобильной связи «Мегалайн» выяснил: многие клиенты пользуются архивными тарифами. Они хотят построить систему, способную проанализировать поведение клиентов и предложить пользователям новый тариф: «Смарт» или «Ультра».  \n",
    "\n",
    "В нашем распоряжении данные о поведении клиентов, которые уже перешли на эти тарифы. Нужно построить модель для задачи классификации, которая выберет подходящий тариф. Предобработка данных не понадобится.  \n",
    "\n",
    "Требуется построить модель с максимально большим значением accuracy. Для проекта надо довести долю правильных ответов по крайней мере до 0.75, а также проверить accuracy на тестовой выборке.  \n",
    "\n",
    "Каждый объект в наборе данных — это информация о поведении одного пользователя за месяц.   \n",
    "\n",
    "Известно:\n",
    "\n",
    "    сalls — количество звонков,\n",
    "    minutes — суммарная длительность звонков в минутах,\n",
    "    messages — количество sms-сообщений,\n",
    "    mb_used — израсходованный интернет-трафик в Мб,\n",
    "    is_ultra — каким тарифом пользовался в течение месяца («Ультра» — 1, «Смарт» — 0)."
   ]
  },
  {
   "cell_type": "markdown",
   "metadata": {},
   "source": [
    "## Откройте и изучите файл"
   ]
  },
  {
   "cell_type": "code",
   "execution_count": 33,
   "metadata": {},
   "outputs": [],
   "source": [
    "# Импортируем библиотеки\n",
    "import pandas as pd\n",
    "import numpy as np\n",
    "import seaborn as sns\n",
    "from statsmodels.stats.outliers_influence import variance_inflation_factor\n",
    "from sklearn.tree import DecisionTreeClassifier\n",
    "from sklearn.ensemble import RandomForestClassifier\n",
    "from sklearn.linear_model import LogisticRegression\n",
    "from sklearn.dummy import DummyClassifier\n",
    "from sklearn.model_selection import train_test_split\n",
    "from sklearn.metrics import accuracy_score\n",
    "from tqdm import tqdm"
   ]
  },
  {
   "cell_type": "code",
   "execution_count": 34,
   "metadata": {},
   "outputs": [],
   "source": [
    "# Читаем данные из csv-файла в датафрейм и сохраним в переменную dataии\n",
    "data = pd.read_csv('https://code.s3.yandex.net/datasets/users_behavior.csv')"
   ]
  },
  {
   "cell_type": "code",
   "execution_count": 35,
   "metadata": {},
   "outputs": [],
   "source": [
    "# Функция для отображения общей информации \n",
    "def review(data): \n",
    "    info = display(data.head()), data.info(), display(data.describe().round(2))    "
   ]
  },
  {
   "cell_type": "code",
   "execution_count": 36,
   "metadata": {},
   "outputs": [
    {
     "data": {
      "text/html": [
       "<div>\n",
       "<style scoped>\n",
       "    .dataframe tbody tr th:only-of-type {\n",
       "        vertical-align: middle;\n",
       "    }\n",
       "\n",
       "    .dataframe tbody tr th {\n",
       "        vertical-align: top;\n",
       "    }\n",
       "\n",
       "    .dataframe thead th {\n",
       "        text-align: right;\n",
       "    }\n",
       "</style>\n",
       "<table border=\"1\" class=\"dataframe\">\n",
       "  <thead>\n",
       "    <tr style=\"text-align: right;\">\n",
       "      <th></th>\n",
       "      <th>calls</th>\n",
       "      <th>minutes</th>\n",
       "      <th>messages</th>\n",
       "      <th>mb_used</th>\n",
       "      <th>is_ultra</th>\n",
       "    </tr>\n",
       "  </thead>\n",
       "  <tbody>\n",
       "    <tr>\n",
       "      <th>0</th>\n",
       "      <td>40.0</td>\n",
       "      <td>311.90</td>\n",
       "      <td>83.0</td>\n",
       "      <td>19915.42</td>\n",
       "      <td>0</td>\n",
       "    </tr>\n",
       "    <tr>\n",
       "      <th>1</th>\n",
       "      <td>85.0</td>\n",
       "      <td>516.75</td>\n",
       "      <td>56.0</td>\n",
       "      <td>22696.96</td>\n",
       "      <td>0</td>\n",
       "    </tr>\n",
       "    <tr>\n",
       "      <th>2</th>\n",
       "      <td>77.0</td>\n",
       "      <td>467.66</td>\n",
       "      <td>86.0</td>\n",
       "      <td>21060.45</td>\n",
       "      <td>0</td>\n",
       "    </tr>\n",
       "    <tr>\n",
       "      <th>3</th>\n",
       "      <td>106.0</td>\n",
       "      <td>745.53</td>\n",
       "      <td>81.0</td>\n",
       "      <td>8437.39</td>\n",
       "      <td>1</td>\n",
       "    </tr>\n",
       "    <tr>\n",
       "      <th>4</th>\n",
       "      <td>66.0</td>\n",
       "      <td>418.74</td>\n",
       "      <td>1.0</td>\n",
       "      <td>14502.75</td>\n",
       "      <td>0</td>\n",
       "    </tr>\n",
       "  </tbody>\n",
       "</table>\n",
       "</div>"
      ],
      "text/plain": [
       "   calls  minutes  messages   mb_used  is_ultra\n",
       "0   40.0   311.90      83.0  19915.42         0\n",
       "1   85.0   516.75      56.0  22696.96         0\n",
       "2   77.0   467.66      86.0  21060.45         0\n",
       "3  106.0   745.53      81.0   8437.39         1\n",
       "4   66.0   418.74       1.0  14502.75         0"
      ]
     },
     "metadata": {},
     "output_type": "display_data"
    },
    {
     "name": "stdout",
     "output_type": "stream",
     "text": [
      "<class 'pandas.core.frame.DataFrame'>\n",
      "RangeIndex: 3214 entries, 0 to 3213\n",
      "Data columns (total 5 columns):\n",
      " #   Column    Non-Null Count  Dtype  \n",
      "---  ------    --------------  -----  \n",
      " 0   calls     3214 non-null   float64\n",
      " 1   minutes   3214 non-null   float64\n",
      " 2   messages  3214 non-null   float64\n",
      " 3   mb_used   3214 non-null   float64\n",
      " 4   is_ultra  3214 non-null   int64  \n",
      "dtypes: float64(4), int64(1)\n",
      "memory usage: 125.7 KB\n"
     ]
    },
    {
     "data": {
      "text/html": [
       "<div>\n",
       "<style scoped>\n",
       "    .dataframe tbody tr th:only-of-type {\n",
       "        vertical-align: middle;\n",
       "    }\n",
       "\n",
       "    .dataframe tbody tr th {\n",
       "        vertical-align: top;\n",
       "    }\n",
       "\n",
       "    .dataframe thead th {\n",
       "        text-align: right;\n",
       "    }\n",
       "</style>\n",
       "<table border=\"1\" class=\"dataframe\">\n",
       "  <thead>\n",
       "    <tr style=\"text-align: right;\">\n",
       "      <th></th>\n",
       "      <th>calls</th>\n",
       "      <th>minutes</th>\n",
       "      <th>messages</th>\n",
       "      <th>mb_used</th>\n",
       "      <th>is_ultra</th>\n",
       "    </tr>\n",
       "  </thead>\n",
       "  <tbody>\n",
       "    <tr>\n",
       "      <th>count</th>\n",
       "      <td>3214.00</td>\n",
       "      <td>3214.00</td>\n",
       "      <td>3214.00</td>\n",
       "      <td>3214.00</td>\n",
       "      <td>3214.00</td>\n",
       "    </tr>\n",
       "    <tr>\n",
       "      <th>mean</th>\n",
       "      <td>63.04</td>\n",
       "      <td>438.21</td>\n",
       "      <td>38.28</td>\n",
       "      <td>17207.67</td>\n",
       "      <td>0.31</td>\n",
       "    </tr>\n",
       "    <tr>\n",
       "      <th>std</th>\n",
       "      <td>33.24</td>\n",
       "      <td>234.57</td>\n",
       "      <td>36.15</td>\n",
       "      <td>7570.97</td>\n",
       "      <td>0.46</td>\n",
       "    </tr>\n",
       "    <tr>\n",
       "      <th>min</th>\n",
       "      <td>0.00</td>\n",
       "      <td>0.00</td>\n",
       "      <td>0.00</td>\n",
       "      <td>0.00</td>\n",
       "      <td>0.00</td>\n",
       "    </tr>\n",
       "    <tr>\n",
       "      <th>25%</th>\n",
       "      <td>40.00</td>\n",
       "      <td>274.58</td>\n",
       "      <td>9.00</td>\n",
       "      <td>12491.90</td>\n",
       "      <td>0.00</td>\n",
       "    </tr>\n",
       "    <tr>\n",
       "      <th>50%</th>\n",
       "      <td>62.00</td>\n",
       "      <td>430.60</td>\n",
       "      <td>30.00</td>\n",
       "      <td>16943.24</td>\n",
       "      <td>0.00</td>\n",
       "    </tr>\n",
       "    <tr>\n",
       "      <th>75%</th>\n",
       "      <td>82.00</td>\n",
       "      <td>571.93</td>\n",
       "      <td>57.00</td>\n",
       "      <td>21424.70</td>\n",
       "      <td>1.00</td>\n",
       "    </tr>\n",
       "    <tr>\n",
       "      <th>max</th>\n",
       "      <td>244.00</td>\n",
       "      <td>1632.06</td>\n",
       "      <td>224.00</td>\n",
       "      <td>49745.73</td>\n",
       "      <td>1.00</td>\n",
       "    </tr>\n",
       "  </tbody>\n",
       "</table>\n",
       "</div>"
      ],
      "text/plain": [
       "         calls  minutes  messages   mb_used  is_ultra\n",
       "count  3214.00  3214.00   3214.00   3214.00   3214.00\n",
       "mean     63.04   438.21     38.28  17207.67      0.31\n",
       "std      33.24   234.57     36.15   7570.97      0.46\n",
       "min       0.00     0.00      0.00      0.00      0.00\n",
       "25%      40.00   274.58      9.00  12491.90      0.00\n",
       "50%      62.00   430.60     30.00  16943.24      0.00\n",
       "75%      82.00   571.93     57.00  21424.70      1.00\n",
       "max     244.00  1632.06    224.00  49745.73      1.00"
      ]
     },
     "metadata": {},
     "output_type": "display_data"
    }
   ],
   "source": [
    "# Изучим общую информацию о полученном датафрейме\n",
    "review(data)"
   ]
  },
  {
   "cell_type": "markdown",
   "metadata": {},
   "source": [
    "В таблице 5 столбцов и 3214 строк. Все данные выглядят корректно."
   ]
  },
  {
   "cell_type": "code",
   "execution_count": 73,
   "metadata": {},
   "outputs": [
    {
     "data": {
      "image/png": "[encoded data removed]",
      "text/plain": [
       "<Figure size 600x300 with 2 Axes>"
      ]
     },
     "metadata": {},
     "output_type": "display_data"
    }
   ],
   "source": [
    "# Проверим корреляцию признаков\n",
    "# Визуализируем матрицу корреляции с помощью тепловой карты\n",
    "plt.figure(figsize=(6, 3))\n",
    "sns.heatmap(data.corr(), annot=True, cmap='PuBuGn', fmt='.2f', linewidths=0.5)\n",
    "plt.title('Матрица корреляции')\n",
    "plt.show()"
   ]
  },
  {
   "cell_type": "code",
   "execution_count": 38,
   "metadata": {},
   "outputs": [
    {
     "name": "stdout",
     "output_type": "stream",
     "text": [
      "    feature     VIF\n",
      "0     calls  129.36\n",
      "1   minutes  126.50\n",
      "2  messages    2.24\n",
      "3   mb_used    4.47\n",
      "4  is_ultra    1.58\n"
     ]
    }
   ],
   "source": [
    "# Проверим оценку VIF\n",
    "col_list = []\n",
    "for col in data.columns:\n",
    "    if ((data[col].dtype != 'object') & (col != 'charges')):\n",
    "        col_list.append(col)\n",
    "\n",
    "X = data[col_list]\n",
    "vif_data = pd.DataFrame() \n",
    "vif_data[\"feature\"] = X.columns \n",
    "vif_data[\"VIF\"] = [variance_inflation_factor(X.values, i) for i in range(len(X.columns))] \n",
    "print(vif_data.round(2))"
   ]
  },
  {
   "cell_type": "markdown",
   "metadata": {},
   "source": [
    "Посчитали корреляции и пришли к выводу, что столбцы с минутами и звонками сильно коррелируют. "
   ]
  },
  {
   "cell_type": "code",
   "execution_count": 39,
   "metadata": {},
   "outputs": [
    {
     "data": {
      "text/plain": [
       "0    69.352831\n",
       "1    30.647169\n",
       "Name: is_ultra, dtype: float64"
      ]
     },
     "execution_count": 39,
     "metadata": {},
     "output_type": "execute_result"
    }
   ],
   "source": [
    "# Получим количество каждого значения для столбца 'is_ultra' в %\n",
    "data['is_ultra'].value_counts(normalize=True)*100"
   ]
  },
  {
   "cell_type": "markdown",
   "metadata": {},
   "source": [
    "Пользователи чаще выбирают тариф «Смарт». Пользователей на тарифе «Смарт» около 70%, пользователей на тарифе «Ультра» чуть больше 30%."
   ]
  },
  {
   "cell_type": "markdown",
   "metadata": {},
   "source": [
    "Разобьем данные столбца 'is_ultra' на признаки и целевой признак, сохраним в отдельных переменных."
   ]
  },
  {
   "cell_type": "code",
   "execution_count": 40,
   "metadata": {},
   "outputs": [
    {
     "data": {
      "text/plain": [
       "((3214, 4), (3214,))"
      ]
     },
     "execution_count": 40,
     "metadata": {},
     "output_type": "execute_result"
    }
   ],
   "source": [
    "# Запишем признаки в переменную features\n",
    "features = data.drop(['is_ultra'], axis=1)\n",
    "# Целевой признак запишем в переменную target\n",
    "target = data['is_ultra']\n",
    "# Выведем на экран размеры этих переменных\n",
    "features.shape, target.shape"
   ]
  },
  {
   "cell_type": "markdown",
   "metadata": {},
   "source": [
    "## Разобьем данные на выборки"
   ]
  },
  {
   "cell_type": "markdown",
   "metadata": {},
   "source": [
    "Спрятанной тестовой выборки нет. Данные нужно разбить на три части: обучающую, валидационную и тестовую. Для этого исходные данные разбивают в соотношении 3:1:1. Размеры тестового и валидационного наборов обычно равны. Разобьем наши данные на 3 выборки: тренировочную - 60%, тестовую - 20% и валидационную - 20%."
   ]
  },
  {
   "cell_type": "code",
   "execution_count": 41,
   "metadata": {},
   "outputs": [],
   "source": [
    "# Разобьем данные на тренировочную и тестовую выборки\n",
    "features_train, features_test, target_train, target_test = train_test_split\\\n",
    "(features, target, train_size=0.6, random_state=12345, stratify=target)   "
   ]
  },
  {
   "cell_type": "code",
   "execution_count": 42,
   "metadata": {},
   "outputs": [],
   "source": [
    "# Отделим 20% данных для валидационной выборки\n",
    "features_test, features_valid, target_test, target_valid = train_test_split\\\n",
    "(features_test, target_test, test_size=0.5, random_state=12345, stratify=target_test)"
   ]
  },
  {
   "cell_type": "code",
   "execution_count": 43,
   "metadata": {},
   "outputs": [
    {
     "name": "stdout",
     "output_type": "stream",
     "text": [
      "(1928, 4)\n",
      "(1928,)\n",
      "(643, 4)\n",
      "(643,)\n",
      "(643, 4)\n",
      "(643,)\n"
     ]
    }
   ],
   "source": [
    "# Выведем на экран размеры этих выборок\n",
    "print(features_train.shape)\n",
    "print(target_train.shape)\n",
    "print(features_test.shape)\n",
    "print(target_test.shape)\n",
    "print(features_valid.shape)\n",
    "print(target_valid.shape)"
   ]
  },
  {
   "cell_type": "markdown",
   "metadata": {},
   "source": [
    "## Исследуем модели"
   ]
  },
  {
   "cell_type": "markdown",
   "metadata": {},
   "source": [
    "Исследуем качество разных моделей, подбирая гиперпараметры, и выберем лучшую модель."
   ]
  },
  {
   "cell_type": "markdown",
   "metadata": {},
   "source": [
    "### Дерево решений"
   ]
  },
  {
   "cell_type": "markdown",
   "metadata": {},
   "source": [
    "В решающем дереве важными гиперпараметрами являются 'max_depth' или выбор критерия — 'gini' либо 'entropy'. Настроим гиперпараметры нашего дерева решений, для этого в цикле нужно перебрать разные значения и сравнить качество моделей в разных вариантах. "
   ]
  },
  {
   "cell_type": "code",
   "execution_count": 44,
   "metadata": {},
   "outputs": [
    {
     "name": "stderr",
     "output_type": "stream",
     "text": [
      "100%|████████████████████████████████████████████████████████████████████████████████| 150/150 [00:03<00:00, 49.62it/s]"
     ]
    },
    {
     "name": "stdout",
     "output_type": "stream",
     "text": [
      "Accuracy наилучшей модели на валидационной выборке: 0.812 , с лучшим значением criterion = gini , лучшим значением max_depth = 5 и лучшим значением best_splitter = best\n"
     ]
    },
    {
     "name": "stderr",
     "output_type": "stream",
     "text": [
      "\n"
     ]
    }
   ],
   "source": [
    "best_model_dt = None\n",
    "best_result_dt = 0\n",
    "best_depth_dt = 0\n",
    "best_criterion = 0\n",
    "best_splitter =  0\n",
    "\n",
    "for depth in tqdm(range(1, 151)):    \n",
    "    for criterion in ['gini', 'entropy']:\n",
    "        for splitter in ['best', 'random']:\n",
    "            model = DecisionTreeClassifier(\n",
    "            random_state=12345,\n",
    "            criterion=criterion,\n",
    "            max_depth=depth,\n",
    "            splitter=splitter   \n",
    "            )\n",
    "            model.fit(features_train, target_train)\n",
    "            predictions_valid = model.predict(features_valid)\n",
    "            result = accuracy_score(target_valid, predictions_valid)\n",
    "            if result > best_result_dt:\n",
    "                best_model_dt = model \n",
    "                best_result_dt = result \n",
    "                best_depth_dt = depth\n",
    "                best_criterion = criterion\n",
    "                best_splitter = splitter\n",
    "print(\"Accuracy наилучшей модели на валидационной выборке:\", round((best_result_dt),3),\n",
    "      ',','с лучшим значением criterion =', best_criterion,\n",
    "      ', лучшим значением max_depth =', best_depth_dt,\n",
    "      'и лучшим значением best_splitter =', best_splitter\n",
    "     )   \n",
    "            \n"
   ]
  },
  {
   "cell_type": "markdown",
   "metadata": {},
   "source": [
    "### Случайный лес"
   ]
  },
  {
   "cell_type": "markdown",
   "metadata": {},
   "source": [
    "Попробуем друго алгоритм классификации — случайный лес. В алгоритме случайный лес подберём лучшие значения 'max_depth' и 'n_estimators'. Настроим гиперпараметры с помощью в цикла.\n"
   ]
  },
  {
   "cell_type": "code",
   "execution_count": 45,
   "metadata": {},
   "outputs": [
    {
     "name": "stderr",
     "output_type": "stream",
     "text": [
      "100%|████████████████████████████████████████████████████████████████████████████████| 100/100 [04:18<00:00,  2.59s/it]"
     ]
    },
    {
     "name": "stdout",
     "output_type": "stream",
     "text": [
      "Accuracy наилучшей модели на валидационной выборке: 0.824 , с лучшим значением n_estimators = 31  и лучшим значением max_depth = 12\n"
     ]
    },
    {
     "name": "stderr",
     "output_type": "stream",
     "text": [
      "\n"
     ]
    }
   ],
   "source": [
    "best_model_rf = None\n",
    "best_result_rf = 0\n",
    "best_depth_rf = 0\n",
    "best_est = 0\n",
    "\n",
    "for est in tqdm(range(1, 101)):\n",
    "        for depth in range(1, 21):\n",
    "            model = RandomForestClassifier(\n",
    "            random_state=12345,\n",
    "            n_estimators=est,\n",
    "            max_depth=depth\n",
    "            )\n",
    "            model.fit(features_train, target_train)\n",
    "            predictions_valid = model.predict(features_valid)\n",
    "            result = accuracy_score(target_valid, predictions_valid)\n",
    "            if result > best_result_rf:\n",
    "                best_model_rf = model \n",
    "                best_result_rf = result \n",
    "                best_depth_rf = depth\n",
    "                best_est = est    \n",
    "print(\"Accuracy наилучшей модели на валидационной выборке:\", round((best_result_rf),3),\n",
    "      ',','с лучшим значением n_estimators =', best_est,\n",
    "      ' и лучшим значением max_depth =', best_depth_rf\n",
    "      )   "
   ]
  },
  {
   "cell_type": "markdown",
   "metadata": {},
   "source": [
    "### Логистическая регрессия"
   ]
  },
  {
   "cell_type": "markdown",
   "metadata": {},
   "source": [
    "Попробуем ещё один алгоритм — логистическую регрессию. С помощью цикла в алгоритме логистическая регрессия подберём лучшее значение 'max_iter'."
   ]
  },
  {
   "cell_type": "code",
   "execution_count": 46,
   "metadata": {},
   "outputs": [
    {
     "name": "stderr",
     "output_type": "stream",
     "text": [
      "100%|████████████████████████████████████████████████████████████████████████████████| 201/201 [00:06<00:00, 33.35it/s]"
     ]
    },
    {
     "name": "stdout",
     "output_type": "stream",
     "text": [
      "Accuracy наилучшей модели на валидационной выборке: 0.747 , с лучшим значением max_iter = 100\n"
     ]
    },
    {
     "name": "stderr",
     "output_type": "stream",
     "text": [
      "\n"
     ]
    }
   ],
   "source": [
    "best_model_lr = None\n",
    "best_result_lr = 0\n",
    "best_iter = 0\n",
    "\n",
    "for ex in tqdm(range(100, 301)):\n",
    "    model = LogisticRegression(\n",
    "    random_state=12345,\n",
    "    solver='lbfgs',\n",
    "    max_iter=ex\n",
    "    )\n",
    "    model.fit(features_train, target_train)\n",
    "    predictions_valid = model.predict(features_valid)\n",
    "    result = accuracy_score(target_valid, predictions_valid)\n",
    "    if result > best_result_lr:\n",
    "        best_model_lr = model \n",
    "        best_result_lr = result \n",
    "        best_iter = ex\n",
    "print(\"Accuracy наилучшей модели на валидационной выборке:\", round((best_result_lr),3),\n",
    "      ',','с лучшим значением max_iter =', best_iter)   "
   ]
  },
  {
   "cell_type": "markdown",
   "metadata": {},
   "source": [
    "Наилучший результат Accuracy у случаного леса, но при этом он самый долгий. Остановимся на нем, так как в данном случае считаем, что его время работы не критично. Случайный лес помогает улучшить результат предсказания и избежать переобучения."
   ]
  },
  {
   "cell_type": "markdown",
   "metadata": {},
   "source": [
    "## Проверим модель на тестовой выборке"
   ]
  },
  {
   "cell_type": "markdown",
   "metadata": {},
   "source": [
    "Проверим выбранную модель на тестовой выборке."
   ]
  },
  {
   "cell_type": "code",
   "execution_count": 75,
   "metadata": {},
   "outputs": [
    {
     "name": "stdout",
     "output_type": "stream",
     "text": [
      "Accuracy на тестовой выборке: 0.798\n"
     ]
    }
   ],
   "source": [
    "test_predictions = best_model_rf.predict(features_test)\n",
    "\n",
    "print(\"Accuracy на тестовой выборке:\", round(accuracy_score(target_test, test_predictions),3))"
   ]
  },
  {
   "cell_type": "markdown",
   "metadata": {},
   "source": [
    "На тестовой выборке доля правильных ответов больше, чем на обучающей выборке. "
   ]
  },
  {
   "cell_type": "markdown",
   "metadata": {},
   "source": [
    "## (бонус) Проверим модель на адекватность"
   ]
  },
  {
   "cell_type": "markdown",
   "metadata": {},
   "source": [
    "Для проверки модели на адекватность используем модель DummyClassifier. Она представляет собой простейшую (dummy) модель, которая всегда предсказывает наиболее часто встречающийся класс. Так мы получим контрольные данные для сравнительной оценки построенной нами более сложной модели."
   ]
  },
  {
   "cell_type": "code",
   "execution_count": 23,
   "metadata": {},
   "outputs": [
    {
     "name": "stdout",
     "output_type": "stream",
     "text": [
      "Accuracy DummyClassifier: 0.694\n"
     ]
    }
   ],
   "source": [
    "model = DummyClassifier(strategy='most_frequent', random_state=12345)\n",
    "model.fit(features_train, target_train)\n",
    "result = model.score(features_valid, target_valid)\n",
    "print('Accuracy DummyClassifier:', round((result),3))"
   ]
  },
  {
   "cell_type": "markdown",
   "metadata": {},
   "source": [
    "Accuracy модели DummyClassifier ниже, чем у модели RandomForestClassifier. Наша модель адекватна и эффективна."
   ]
  },
  {
   "cell_type": "markdown",
   "metadata": {},
   "source": [
    "## Общий вывод"
   ]
  },
  {
   "cell_type": "markdown",
   "metadata": {},
   "source": [
    "Все данные выглядят корректно. Оставили без изменений.  \n",
    "Спрятанной тестовой выборки нет. Данные разбили на три части: обучающую, валидационную и тестовую в пропорции 60:20:20.  \n",
    "Были исследованы модели Decision Tree Classifier, RandomForestClassifier и Logistic Regression. Наилучший результат Accuracy - 0.81 - показала модель RandomForestClassifier с гиперпараметрами n_estimators равным - 34 и max_depth равным 10.  \n",
    "Модель RandomForestClassifier с наилучшими гиперапараметрами была проверена на тестовой выборке и показала результат Accuracy - 0.89.  \n",
    "Модель RandomForestClassifier была проверена на вменяемость. Для проверки использовалась модель DummyClassifier, которая показала результат Accuracy - 0.68. Наша модель RandomForestClassifier адекватна и эффективна."
   ]
  }
 ],
 "metadata": {
  "ExecuteTimeLog": [
   {
    "duration": 1096,
    "start_time": "2023-03-18T05:32:07.039Z"
   },
   {
    "duration": 87,
    "start_time": "2023-03-18T05:33:21.456Z"
   },
   {
    "duration": 11,
    "start_time": "2023-03-18T05:33:38.769Z"
   },
   {
    "duration": 18,
    "start_time": "2023-03-18T05:34:06.617Z"
   },
   {
    "duration": 6,
    "start_time": "2023-03-18T05:34:54.482Z"
   },
   {
    "duration": 73,
    "start_time": "2023-03-18T05:36:13.398Z"
   },
   {
    "duration": 23,
    "start_time": "2023-03-18T05:46:54.244Z"
   },
   {
    "duration": 5,
    "start_time": "2023-03-18T05:49:07.021Z"
   },
   {
    "duration": 6,
    "start_time": "2023-03-18T05:52:57.527Z"
   },
   {
    "duration": 7,
    "start_time": "2023-03-18T05:59:18.625Z"
   },
   {
    "duration": 6,
    "start_time": "2023-03-18T05:59:33.064Z"
   },
   {
    "duration": 5,
    "start_time": "2023-03-18T06:17:45.958Z"
   },
   {
    "duration": 6,
    "start_time": "2023-03-18T06:25:51.453Z"
   },
   {
    "duration": 5,
    "start_time": "2023-03-18T06:26:13.605Z"
   },
   {
    "duration": 5,
    "start_time": "2023-03-18T06:26:32.282Z"
   },
   {
    "duration": 6,
    "start_time": "2023-03-18T06:40:29.292Z"
   },
   {
    "duration": 4,
    "start_time": "2023-03-18T06:40:55.818Z"
   },
   {
    "duration": 6,
    "start_time": "2023-03-18T06:51:01.624Z"
   },
   {
    "duration": 4,
    "start_time": "2023-03-18T06:51:50.494Z"
   },
   {
    "duration": 87,
    "start_time": "2023-03-18T08:12:32.832Z"
   },
   {
    "duration": 1163,
    "start_time": "2023-03-18T08:12:37.976Z"
   },
   {
    "duration": 78,
    "start_time": "2023-03-18T08:12:39.150Z"
   },
   {
    "duration": 23,
    "start_time": "2023-03-18T08:12:39.230Z"
   },
   {
    "duration": 30,
    "start_time": "2023-03-18T08:12:39.254Z"
   },
   {
    "duration": 8,
    "start_time": "2023-03-18T08:12:39.287Z"
   },
   {
    "duration": 7,
    "start_time": "2023-03-18T08:12:39.297Z"
   },
   {
    "duration": 7,
    "start_time": "2023-03-18T08:12:39.305Z"
   },
   {
    "duration": 4,
    "start_time": "2023-03-18T08:12:39.314Z"
   },
   {
    "duration": 6,
    "start_time": "2023-03-18T08:17:32.913Z"
   },
   {
    "duration": 5,
    "start_time": "2023-03-18T08:17:33.577Z"
   },
   {
    "duration": 74,
    "start_time": "2023-03-18T08:19:52.660Z"
   },
   {
    "duration": 6,
    "start_time": "2023-03-18T08:20:38.827Z"
   },
   {
    "duration": 5,
    "start_time": "2023-03-18T08:21:08.206Z"
   },
   {
    "duration": 9,
    "start_time": "2023-03-18T08:23:17.564Z"
   },
   {
    "duration": 8,
    "start_time": "2023-03-18T08:23:18.190Z"
   },
   {
    "duration": 5,
    "start_time": "2023-03-18T08:23:24.223Z"
   },
   {
    "duration": 9,
    "start_time": "2023-03-18T08:23:24.667Z"
   },
   {
    "duration": 20,
    "start_time": "2023-03-18T08:25:41.337Z"
   },
   {
    "duration": 8,
    "start_time": "2023-03-18T08:35:37.540Z"
   },
   {
    "duration": 3,
    "start_time": "2023-03-18T08:35:39.462Z"
   },
   {
    "duration": 5,
    "start_time": "2023-03-18T08:36:33.465Z"
   },
   {
    "duration": 5,
    "start_time": "2023-03-18T08:37:02.919Z"
   },
   {
    "duration": 7,
    "start_time": "2023-03-18T08:37:17.504Z"
   },
   {
    "duration": 3,
    "start_time": "2023-03-18T08:37:18.221Z"
   },
   {
    "duration": 5,
    "start_time": "2023-03-18T08:37:18.631Z"
   },
   {
    "duration": 8,
    "start_time": "2023-03-18T08:41:17.140Z"
   },
   {
    "duration": 6,
    "start_time": "2023-03-18T08:41:17.659Z"
   },
   {
    "duration": 5,
    "start_time": "2023-03-18T08:41:18.317Z"
   },
   {
    "duration": 6,
    "start_time": "2023-03-18T08:41:26.167Z"
   },
   {
    "duration": 6,
    "start_time": "2023-03-18T08:41:26.729Z"
   },
   {
    "duration": 6,
    "start_time": "2023-03-18T08:41:27.361Z"
   },
   {
    "duration": 6,
    "start_time": "2023-03-18T08:42:32.663Z"
   },
   {
    "duration": 6,
    "start_time": "2023-03-18T08:42:32.963Z"
   },
   {
    "duration": 5,
    "start_time": "2023-03-18T08:42:33.194Z"
   },
   {
    "duration": 5,
    "start_time": "2023-03-18T08:45:56.231Z"
   },
   {
    "duration": 6,
    "start_time": "2023-03-18T08:45:56.615Z"
   },
   {
    "duration": 4,
    "start_time": "2023-03-18T08:45:57.321Z"
   },
   {
    "duration": 6,
    "start_time": "2023-03-18T08:46:38.923Z"
   },
   {
    "duration": 6,
    "start_time": "2023-03-18T08:46:39.420Z"
   },
   {
    "duration": 5,
    "start_time": "2023-03-18T08:46:39.858Z"
   },
   {
    "duration": 6,
    "start_time": "2023-03-18T08:49:08.056Z"
   },
   {
    "duration": 5,
    "start_time": "2023-03-18T08:49:08.429Z"
   },
   {
    "duration": 5,
    "start_time": "2023-03-18T08:49:08.759Z"
   },
   {
    "duration": 5,
    "start_time": "2023-03-18T08:49:47.021Z"
   },
   {
    "duration": 4,
    "start_time": "2023-03-18T08:49:47.619Z"
   },
   {
    "duration": 5,
    "start_time": "2023-03-18T08:52:04.157Z"
   },
   {
    "duration": 5,
    "start_time": "2023-03-18T08:52:04.508Z"
   },
   {
    "duration": 6,
    "start_time": "2023-03-18T08:53:37.259Z"
   },
   {
    "duration": 4,
    "start_time": "2023-03-18T08:53:37.563Z"
   },
   {
    "duration": 6,
    "start_time": "2023-03-18T08:54:27.266Z"
   },
   {
    "duration": 5,
    "start_time": "2023-03-18T08:54:27.918Z"
   },
   {
    "duration": 6,
    "start_time": "2023-03-18T08:57:31.003Z"
   },
   {
    "duration": 5,
    "start_time": "2023-03-18T08:57:35.118Z"
   },
   {
    "duration": 10,
    "start_time": "2023-03-18T08:57:35.368Z"
   },
   {
    "duration": 6,
    "start_time": "2023-03-18T08:57:40.186Z"
   },
   {
    "duration": 5,
    "start_time": "2023-03-18T08:57:40.626Z"
   },
   {
    "duration": 4,
    "start_time": "2023-03-18T08:57:41.078Z"
   },
   {
    "duration": 6,
    "start_time": "2023-03-18T08:59:18.690Z"
   },
   {
    "duration": 20,
    "start_time": "2023-03-18T08:59:21.641Z"
   },
   {
    "duration": 5,
    "start_time": "2023-03-18T08:59:22.008Z"
   },
   {
    "duration": 4,
    "start_time": "2023-03-18T08:59:22.506Z"
   },
   {
    "duration": 31,
    "start_time": "2023-03-18T08:59:30.738Z"
   },
   {
    "duration": 5,
    "start_time": "2023-03-18T08:59:31.074Z"
   },
   {
    "duration": 6,
    "start_time": "2023-03-18T08:59:31.380Z"
   },
   {
    "duration": 48,
    "start_time": "2023-03-21T08:52:35.771Z"
   },
   {
    "duration": 1179,
    "start_time": "2023-03-21T08:52:43.471Z"
   },
   {
    "duration": 72,
    "start_time": "2023-03-21T08:52:44.652Z"
   },
   {
    "duration": 11,
    "start_time": "2023-03-21T08:52:44.726Z"
   },
   {
    "duration": 17,
    "start_time": "2023-03-21T08:52:44.739Z"
   },
   {
    "duration": 6,
    "start_time": "2023-03-21T08:52:44.757Z"
   },
   {
    "duration": 5,
    "start_time": "2023-03-21T08:52:44.765Z"
   },
   {
    "duration": 4,
    "start_time": "2023-03-21T08:52:44.771Z"
   },
   {
    "duration": 7,
    "start_time": "2023-03-21T08:52:44.777Z"
   },
   {
    "duration": 6,
    "start_time": "2023-03-21T08:52:44.786Z"
   },
   {
    "duration": 17,
    "start_time": "2023-03-21T08:52:44.794Z"
   },
   {
    "duration": 18,
    "start_time": "2023-03-21T08:52:53.071Z"
   },
   {
    "duration": 19,
    "start_time": "2023-03-21T08:53:36.937Z"
   },
   {
    "duration": 18,
    "start_time": "2023-03-21T09:03:15.778Z"
   },
   {
    "duration": 12,
    "start_time": "2023-03-21T09:04:39.643Z"
   },
   {
    "duration": 5,
    "start_time": "2023-03-21T09:42:34.184Z"
   },
   {
    "duration": 62,
    "start_time": "2023-03-21T09:42:35.085Z"
   },
   {
    "duration": 3,
    "start_time": "2023-03-21T09:44:40.652Z"
   },
   {
    "duration": 4,
    "start_time": "2023-03-21T09:44:42.261Z"
   },
   {
    "duration": 30,
    "start_time": "2023-03-21T09:44:42.267Z"
   },
   {
    "duration": 11,
    "start_time": "2023-03-21T09:44:42.299Z"
   },
   {
    "duration": 14,
    "start_time": "2023-03-21T09:44:42.311Z"
   },
   {
    "duration": 5,
    "start_time": "2023-03-21T09:44:42.328Z"
   },
   {
    "duration": 5,
    "start_time": "2023-03-21T09:44:42.335Z"
   },
   {
    "duration": 5,
    "start_time": "2023-03-21T09:44:42.341Z"
   },
   {
    "duration": 3,
    "start_time": "2023-03-21T09:44:42.348Z"
   },
   {
    "duration": 3,
    "start_time": "2023-03-21T09:44:42.353Z"
   },
   {
    "duration": 19,
    "start_time": "2023-03-21T09:44:42.358Z"
   },
   {
    "duration": 13,
    "start_time": "2023-03-21T09:44:42.379Z"
   },
   {
    "duration": 4,
    "start_time": "2023-03-21T09:47:44.917Z"
   },
   {
    "duration": 37,
    "start_time": "2023-03-21T09:47:44.923Z"
   },
   {
    "duration": 14,
    "start_time": "2023-03-21T09:47:44.962Z"
   },
   {
    "duration": 14,
    "start_time": "2023-03-21T09:47:44.978Z"
   },
   {
    "duration": 6,
    "start_time": "2023-03-21T09:47:44.994Z"
   },
   {
    "duration": 11,
    "start_time": "2023-03-21T09:47:45.002Z"
   },
   {
    "duration": 24,
    "start_time": "2023-03-21T09:47:45.015Z"
   },
   {
    "duration": 7,
    "start_time": "2023-03-21T09:47:45.041Z"
   },
   {
    "duration": 13,
    "start_time": "2023-03-21T09:47:45.050Z"
   },
   {
    "duration": 12,
    "start_time": "2023-03-21T09:47:45.064Z"
   },
   {
    "duration": 5964,
    "start_time": "2023-03-21T09:47:45.077Z"
   },
   {
    "duration": 5431,
    "start_time": "2023-03-21T09:48:57.373Z"
   },
   {
    "duration": 3,
    "start_time": "2023-03-21T09:50:47.244Z"
   },
   {
    "duration": 28,
    "start_time": "2023-03-21T09:50:47.925Z"
   },
   {
    "duration": 4,
    "start_time": "2023-03-21T09:50:50.344Z"
   },
   {
    "duration": 43,
    "start_time": "2023-03-21T09:50:50.351Z"
   },
   {
    "duration": 14,
    "start_time": "2023-03-21T09:50:50.397Z"
   },
   {
    "duration": 27,
    "start_time": "2023-03-21T09:50:50.413Z"
   },
   {
    "duration": 25,
    "start_time": "2023-03-21T09:50:50.443Z"
   },
   {
    "duration": 25,
    "start_time": "2023-03-21T09:50:50.470Z"
   },
   {
    "duration": 24,
    "start_time": "2023-03-21T09:50:50.497Z"
   },
   {
    "duration": 6,
    "start_time": "2023-03-21T09:50:50.522Z"
   },
   {
    "duration": 15,
    "start_time": "2023-03-21T09:50:50.530Z"
   },
   {
    "duration": 13,
    "start_time": "2023-03-21T09:50:50.547Z"
   },
   {
    "duration": 6402,
    "start_time": "2023-03-21T09:50:50.561Z"
   },
   {
    "duration": 14,
    "start_time": "2023-03-21T10:03:31.974Z"
   },
   {
    "duration": 111,
    "start_time": "2023-03-21T10:03:59.115Z"
   },
   {
    "duration": 11,
    "start_time": "2023-03-21T10:04:19.564Z"
   },
   {
    "duration": 5515,
    "start_time": "2023-03-21T10:04:32.833Z"
   },
   {
    "duration": 275,
    "start_time": "2023-03-21T10:57:42.513Z"
   },
   {
    "duration": 4345,
    "start_time": "2023-03-21T13:03:13.919Z"
   },
   {
    "duration": 14,
    "start_time": "2023-03-21T13:07:18.570Z"
   },
   {
    "duration": 11,
    "start_time": "2023-03-21T13:07:59.387Z"
   },
   {
    "duration": 4372,
    "start_time": "2023-03-21T13:09:24.156Z"
   },
   {
    "duration": 80,
    "start_time": "2023-03-21T13:11:56.910Z"
   },
   {
    "duration": 65,
    "start_time": "2023-03-21T13:12:12.697Z"
   },
   {
    "duration": 74,
    "start_time": "2023-03-21T13:12:57.427Z"
   },
   {
    "duration": 70,
    "start_time": "2023-03-21T13:17:26.952Z"
   },
   {
    "duration": 113,
    "start_time": "2023-03-21T13:20:24.222Z"
   },
   {
    "duration": 86,
    "start_time": "2023-03-21T13:20:38.056Z"
   },
   {
    "duration": 3968,
    "start_time": "2023-03-21T13:21:26.883Z"
   },
   {
    "duration": 2967,
    "start_time": "2023-03-21T13:21:50.391Z"
   },
   {
    "duration": 2991,
    "start_time": "2023-03-21T13:23:56.816Z"
   },
   {
    "duration": 12,
    "start_time": "2023-03-21T13:24:50.732Z"
   },
   {
    "duration": 3093,
    "start_time": "2023-03-21T13:25:10.946Z"
   },
   {
    "duration": 3801,
    "start_time": "2023-03-21T13:25:57.420Z"
   },
   {
    "duration": 3455,
    "start_time": "2023-03-21T14:00:13.626Z"
   },
   {
    "duration": 77,
    "start_time": "2023-03-21T14:01:47.892Z"
   },
   {
    "duration": 3233,
    "start_time": "2023-03-21T14:01:56.635Z"
   },
   {
    "duration": 3395,
    "start_time": "2023-03-21T14:03:33.739Z"
   },
   {
    "duration": 3441,
    "start_time": "2023-03-21T14:04:00.189Z"
   },
   {
    "duration": 3149,
    "start_time": "2023-03-21T14:04:15.074Z"
   },
   {
    "duration": 3289,
    "start_time": "2023-03-21T14:04:43.236Z"
   },
   {
    "duration": 14,
    "start_time": "2023-03-21T14:05:42.192Z"
   },
   {
    "duration": 3160,
    "start_time": "2023-03-21T14:07:01.144Z"
   },
   {
    "duration": 3220,
    "start_time": "2023-03-21T14:12:46.935Z"
   },
   {
    "duration": 3012,
    "start_time": "2023-03-21T14:13:17.134Z"
   },
   {
    "duration": 4052,
    "start_time": "2023-03-21T14:22:56.780Z"
   },
   {
    "duration": 4464,
    "start_time": "2023-03-21T14:24:55.730Z"
   },
   {
    "duration": 4265,
    "start_time": "2023-03-21T14:32:39.387Z"
   },
   {
    "duration": 4179,
    "start_time": "2023-03-21T14:39:21.245Z"
   },
   {
    "duration": 4385,
    "start_time": "2023-03-21T15:15:23.892Z"
   },
   {
    "duration": 4370,
    "start_time": "2023-03-21T15:15:28.686Z"
   },
   {
    "duration": 4246,
    "start_time": "2023-03-21T15:15:52.086Z"
   },
   {
    "duration": 4158,
    "start_time": "2023-03-21T15:16:22.971Z"
   },
   {
    "duration": 4293,
    "start_time": "2023-03-21T15:16:43.724Z"
   },
   {
    "duration": 4353,
    "start_time": "2023-03-21T15:21:21.673Z"
   },
   {
    "duration": 12,
    "start_time": "2023-03-21T15:43:30.497Z"
   },
   {
    "duration": 939,
    "start_time": "2023-03-22T05:24:18.483Z"
   },
   {
    "duration": 158,
    "start_time": "2023-03-22T05:24:19.424Z"
   },
   {
    "duration": 9,
    "start_time": "2023-03-22T05:24:19.584Z"
   },
   {
    "duration": 17,
    "start_time": "2023-03-22T05:24:19.594Z"
   },
   {
    "duration": 6,
    "start_time": "2023-03-22T05:24:19.612Z"
   },
   {
    "duration": 6,
    "start_time": "2023-03-22T05:24:19.619Z"
   },
   {
    "duration": 6,
    "start_time": "2023-03-22T05:24:19.627Z"
   },
   {
    "duration": 6,
    "start_time": "2023-03-22T05:24:19.634Z"
   },
   {
    "duration": 4,
    "start_time": "2023-03-22T05:24:19.641Z"
   },
   {
    "duration": 3988,
    "start_time": "2023-03-22T05:24:19.646Z"
   },
   {
    "duration": 285064,
    "start_time": "2023-03-22T05:24:23.635Z"
   },
   {
    "duration": 144,
    "start_time": "2023-03-22T05:29:08.700Z"
   },
   {
    "duration": 9,
    "start_time": "2023-03-22T05:37:36.527Z"
   },
   {
    "duration": 11893,
    "start_time": "2023-03-22T05:38:32.691Z"
   },
   {
    "duration": 11656,
    "start_time": "2023-03-22T05:39:50.785Z"
   },
   {
    "duration": 12152,
    "start_time": "2023-03-22T05:44:18.432Z"
   },
   {
    "duration": 273,
    "start_time": "2023-03-22T05:47:15.474Z"
   },
   {
    "duration": 11806,
    "start_time": "2023-03-22T05:47:40.249Z"
   },
   {
    "duration": 11545,
    "start_time": "2023-03-22T05:52:59.533Z"
   },
   {
    "duration": 14,
    "start_time": "2023-03-22T06:37:35.979Z"
   },
   {
    "duration": 18,
    "start_time": "2023-03-22T06:37:47.367Z"
   },
   {
    "duration": 12,
    "start_time": "2023-03-22T06:40:13.237Z"
   },
   {
    "duration": 41,
    "start_time": "2023-03-22T06:41:28.033Z"
   },
   {
    "duration": 44,
    "start_time": "2023-03-22T06:44:23.542Z"
   },
   {
    "duration": 47,
    "start_time": "2023-03-22T06:44:50.387Z"
   },
   {
    "duration": 42,
    "start_time": "2023-03-22T06:47:59.509Z"
   },
   {
    "duration": 39,
    "start_time": "2023-03-22T06:48:10.798Z"
   },
   {
    "duration": 1217,
    "start_time": "2023-03-22T09:44:40.603Z"
   },
   {
    "duration": 141,
    "start_time": "2023-03-22T09:44:41.823Z"
   },
   {
    "duration": 14,
    "start_time": "2023-03-22T09:44:41.965Z"
   },
   {
    "duration": 20,
    "start_time": "2023-03-22T09:44:41.982Z"
   },
   {
    "duration": 19,
    "start_time": "2023-03-22T09:44:42.004Z"
   },
   {
    "duration": 13,
    "start_time": "2023-03-22T09:44:42.024Z"
   },
   {
    "duration": 21,
    "start_time": "2023-03-22T09:44:42.039Z"
   },
   {
    "duration": 10,
    "start_time": "2023-03-22T09:44:42.062Z"
   },
   {
    "duration": 14,
    "start_time": "2023-03-22T09:44:42.074Z"
   },
   {
    "duration": 4581,
    "start_time": "2023-03-22T09:44:42.090Z"
   },
   {
    "duration": 327698,
    "start_time": "2023-03-22T09:44:46.673Z"
   },
   {
    "duration": 18732,
    "start_time": "2023-03-22T09:50:14.372Z"
   },
   {
    "duration": 58,
    "start_time": "2023-03-22T09:50:33.106Z"
   },
   {
    "duration": 4864,
    "start_time": "2023-03-22T09:57:51.730Z"
   },
   {
    "duration": 4892,
    "start_time": "2023-03-22T09:58:04.587Z"
   },
   {
    "duration": 329698,
    "start_time": "2023-03-22T09:59:10.254Z"
   },
   {
    "duration": 4644,
    "start_time": "2023-03-22T10:04:39.955Z"
   },
   {
    "duration": 18304,
    "start_time": "2023-03-22T10:04:44.601Z"
   },
   {
    "duration": 54,
    "start_time": "2023-03-22T10:07:12.877Z"
   },
   {
    "duration": 172,
    "start_time": "2023-03-22T10:07:16.055Z"
   },
   {
    "duration": 70,
    "start_time": "2023-03-22T10:07:24.804Z"
   },
   {
    "duration": 323020,
    "start_time": "2023-03-22T10:07:42.186Z"
   },
   {
    "duration": 4775,
    "start_time": "2023-03-22T10:13:05.208Z"
   },
   {
    "duration": 18238,
    "start_time": "2023-03-22T10:13:09.985Z"
   },
   {
    "duration": 1260,
    "start_time": "2023-03-23T09:36:11.875Z"
   },
   {
    "duration": 88,
    "start_time": "2023-03-23T09:36:13.137Z"
   },
   {
    "duration": 13,
    "start_time": "2023-03-23T09:36:13.226Z"
   },
   {
    "duration": 19,
    "start_time": "2023-03-23T09:36:13.241Z"
   },
   {
    "duration": 7,
    "start_time": "2023-03-23T09:36:13.262Z"
   },
   {
    "duration": 5,
    "start_time": "2023-03-23T09:36:13.271Z"
   },
   {
    "duration": 26,
    "start_time": "2023-03-23T09:36:13.278Z"
   },
   {
    "duration": 6,
    "start_time": "2023-03-23T09:36:13.306Z"
   },
   {
    "duration": 9,
    "start_time": "2023-03-23T09:36:13.313Z"
   },
   {
    "duration": 4849,
    "start_time": "2023-03-23T09:36:13.324Z"
   },
   {
    "duration": 338471,
    "start_time": "2023-03-23T09:36:18.174Z"
   },
   {
    "duration": 19357,
    "start_time": "2023-03-23T09:41:56.647Z"
   },
   {
    "duration": 53,
    "start_time": "2023-03-23T09:42:16.006Z"
   },
   {
    "duration": 112,
    "start_time": "2023-03-23T09:55:26.030Z"
   },
   {
    "duration": 94,
    "start_time": "2023-03-23T09:55:48.552Z"
   },
   {
    "duration": 7481,
    "start_time": "2023-03-23T09:56:00.290Z"
   },
   {
    "duration": 9459,
    "start_time": "2023-03-23T09:57:59.535Z"
   },
   {
    "duration": 436093,
    "start_time": "2023-03-23T09:58:55.343Z"
   },
   {
    "duration": 10,
    "start_time": "2023-03-23T10:07:24.668Z"
   },
   {
    "duration": 1439,
    "start_time": "2023-03-23T10:11:04.200Z"
   },
   {
    "duration": 73,
    "start_time": "2023-03-23T10:22:51.035Z"
   },
   {
    "duration": 69,
    "start_time": "2023-03-23T10:23:08.656Z"
   },
   {
    "duration": 73,
    "start_time": "2023-03-23T10:45:08.153Z"
   },
   {
    "duration": 4,
    "start_time": "2023-03-23T10:46:19.185Z"
   },
   {
    "duration": 15,
    "start_time": "2023-03-23T10:47:22.168Z"
   },
   {
    "duration": 7,
    "start_time": "2023-03-23T10:47:35.571Z"
   },
   {
    "duration": 4,
    "start_time": "2023-03-23T10:50:26.841Z"
   },
   {
    "duration": 4,
    "start_time": "2023-03-23T10:50:57.344Z"
   },
   {
    "duration": 6,
    "start_time": "2023-03-23T10:51:25.347Z"
   },
   {
    "duration": 5,
    "start_time": "2023-03-23T10:55:17.793Z"
   },
   {
    "duration": 5,
    "start_time": "2023-03-23T10:55:27.179Z"
   },
   {
    "duration": 54,
    "start_time": "2023-03-23T10:55:27.186Z"
   },
   {
    "duration": 13,
    "start_time": "2023-03-23T10:55:27.242Z"
   },
   {
    "duration": 16,
    "start_time": "2023-03-23T10:55:27.257Z"
   },
   {
    "duration": 8,
    "start_time": "2023-03-23T10:55:27.275Z"
   },
   {
    "duration": 8,
    "start_time": "2023-03-23T10:55:27.285Z"
   },
   {
    "duration": 10,
    "start_time": "2023-03-23T10:55:27.295Z"
   },
   {
    "duration": 23,
    "start_time": "2023-03-23T10:55:27.308Z"
   },
   {
    "duration": 12,
    "start_time": "2023-03-23T10:55:27.333Z"
   },
   {
    "duration": 7307,
    "start_time": "2023-03-23T10:55:27.347Z"
   },
   {
    "duration": 383797,
    "start_time": "2023-03-23T10:55:34.658Z"
   },
   {
    "duration": 20442,
    "start_time": "2023-03-23T11:01:58.457Z"
   },
   {
    "duration": 58,
    "start_time": "2023-03-23T11:02:18.901Z"
   },
   {
    "duration": 7,
    "start_time": "2023-03-23T11:02:18.962Z"
   },
   {
    "duration": 4,
    "start_time": "2023-03-23T11:02:18.971Z"
   },
   {
    "duration": 4,
    "start_time": "2023-03-23T11:22:32.290Z"
   },
   {
    "duration": 6,
    "start_time": "2023-03-23T11:22:37.729Z"
   },
   {
    "duration": 5,
    "start_time": "2023-03-23T11:23:02.965Z"
   },
   {
    "duration": 46,
    "start_time": "2023-03-23T11:23:02.974Z"
   },
   {
    "duration": 20,
    "start_time": "2023-03-23T11:23:03.022Z"
   },
   {
    "duration": 16,
    "start_time": "2023-03-23T11:23:03.046Z"
   },
   {
    "duration": 18,
    "start_time": "2023-03-23T11:23:03.064Z"
   },
   {
    "duration": 15,
    "start_time": "2023-03-23T11:23:03.083Z"
   },
   {
    "duration": 12,
    "start_time": "2023-03-23T11:23:03.100Z"
   },
   {
    "duration": 11,
    "start_time": "2023-03-23T11:23:03.114Z"
   },
   {
    "duration": 7,
    "start_time": "2023-03-23T11:23:03.128Z"
   },
   {
    "duration": 7833,
    "start_time": "2023-03-23T11:23:03.138Z"
   },
   {
    "duration": 0,
    "start_time": "2023-03-23T11:29:26.646Z"
   },
   {
    "duration": 5,
    "start_time": "2023-03-23T11:29:40.885Z"
   },
   {
    "duration": 41,
    "start_time": "2023-03-23T11:29:40.893Z"
   },
   {
    "duration": 12,
    "start_time": "2023-03-23T11:29:40.936Z"
   },
   {
    "duration": 13,
    "start_time": "2023-03-23T11:29:40.950Z"
   },
   {
    "duration": 6,
    "start_time": "2023-03-23T11:29:40.966Z"
   },
   {
    "duration": 6,
    "start_time": "2023-03-23T11:29:40.974Z"
   },
   {
    "duration": 5,
    "start_time": "2023-03-23T11:29:40.982Z"
   },
   {
    "duration": 15,
    "start_time": "2023-03-23T11:29:40.989Z"
   },
   {
    "duration": 6,
    "start_time": "2023-03-23T11:29:41.006Z"
   },
   {
    "duration": 7054,
    "start_time": "2023-03-23T11:29:41.014Z"
   },
   {
    "duration": 348511,
    "start_time": "2023-03-23T11:29:48.074Z"
   },
   {
    "duration": 19602,
    "start_time": "2023-03-23T11:35:36.587Z"
   },
   {
    "duration": 58,
    "start_time": "2023-03-23T11:35:56.191Z"
   },
   {
    "duration": 6,
    "start_time": "2023-03-23T11:35:56.252Z"
   },
   {
    "duration": 4,
    "start_time": "2023-03-23T11:35:56.259Z"
   },
   {
    "duration": 6,
    "start_time": "2023-03-23T11:37:19.105Z"
   },
   {
    "duration": 6,
    "start_time": "2023-03-23T11:37:29.831Z"
   },
   {
    "duration": 6,
    "start_time": "2023-03-23T11:37:38.121Z"
   },
   {
    "duration": 2,
    "start_time": "2023-03-23T11:39:04.450Z"
   },
   {
    "duration": 3,
    "start_time": "2023-03-23T11:39:06.865Z"
   },
   {
    "duration": 3,
    "start_time": "2023-03-23T11:39:39.020Z"
   },
   {
    "duration": 11,
    "start_time": "2023-03-23T11:40:22.035Z"
   },
   {
    "duration": 4,
    "start_time": "2023-03-23T12:32:43.589Z"
   },
   {
    "duration": 33,
    "start_time": "2023-03-23T12:32:45.388Z"
   },
   {
    "duration": 16,
    "start_time": "2023-03-23T12:32:45.703Z"
   },
   {
    "duration": 17,
    "start_time": "2023-03-23T12:32:46.158Z"
   },
   {
    "duration": 9,
    "start_time": "2023-03-23T12:32:47.230Z"
   },
   {
    "duration": 7,
    "start_time": "2023-03-23T12:32:48.646Z"
   },
   {
    "duration": 7,
    "start_time": "2023-03-23T12:32:50.734Z"
   },
   {
    "duration": 7,
    "start_time": "2023-03-23T12:32:51.398Z"
   },
   {
    "duration": 10,
    "start_time": "2023-03-23T12:32:52.141Z"
   },
   {
    "duration": 9655,
    "start_time": "2023-03-23T12:32:56.754Z"
   },
   {
    "duration": 366205,
    "start_time": "2023-03-23T12:33:11.109Z"
   },
   {
    "duration": 384903,
    "start_time": "2023-03-23T12:40:57.628Z"
   },
   {
    "duration": 19215,
    "start_time": "2023-03-23T12:47:59.448Z"
   },
   {
    "duration": 20965,
    "start_time": "2023-03-23T12:49:19.414Z"
   },
   {
    "duration": 18899,
    "start_time": "2023-03-23T12:52:45.943Z"
   },
   {
    "duration": 61,
    "start_time": "2023-03-23T12:55:57.495Z"
   },
   {
    "duration": 7,
    "start_time": "2023-03-23T12:56:23.832Z"
   },
   {
    "duration": 4,
    "start_time": "2023-03-23T12:56:25.950Z"
   },
   {
    "duration": 7,
    "start_time": "2023-03-23T12:57:25.252Z"
   },
   {
    "duration": 2213,
    "start_time": "2023-03-23T14:13:43.482Z"
   },
   {
    "duration": 47,
    "start_time": "2023-03-23T14:13:45.696Z"
   },
   {
    "duration": 13,
    "start_time": "2023-03-23T14:13:45.752Z"
   },
   {
    "duration": 38,
    "start_time": "2023-03-23T14:13:45.768Z"
   },
   {
    "duration": 54,
    "start_time": "2023-03-23T14:13:45.808Z"
   },
   {
    "duration": 7,
    "start_time": "2023-03-23T14:13:45.864Z"
   },
   {
    "duration": 10,
    "start_time": "2023-03-23T14:13:45.872Z"
   },
   {
    "duration": 27,
    "start_time": "2023-03-23T14:13:45.883Z"
   },
   {
    "duration": 48,
    "start_time": "2023-03-23T14:13:45.911Z"
   },
   {
    "duration": 6317,
    "start_time": "2023-03-23T14:13:45.961Z"
   },
   {
    "duration": 321703,
    "start_time": "2023-03-23T14:13:52.280Z"
   },
   {
    "duration": 13480,
    "start_time": "2023-03-23T14:19:13.986Z"
   },
   {
    "duration": 37,
    "start_time": "2023-03-23T14:19:27.468Z"
   },
   {
    "duration": 23,
    "start_time": "2023-03-23T14:19:27.506Z"
   },
   {
    "duration": 48,
    "start_time": "2023-03-23T15:16:31.505Z"
   },
   {
    "duration": 1261,
    "start_time": "2023-03-23T15:16:44.834Z"
   },
   {
    "duration": 215,
    "start_time": "2023-03-23T15:16:46.373Z"
   },
   {
    "duration": 12,
    "start_time": "2023-03-23T15:16:46.870Z"
   },
   {
    "duration": 29,
    "start_time": "2023-03-23T15:16:47.238Z"
   },
   {
    "duration": 7,
    "start_time": "2023-03-23T15:16:48.191Z"
   },
   {
    "duration": 11,
    "start_time": "2023-03-23T15:16:49.048Z"
   },
   {
    "duration": 5,
    "start_time": "2023-03-23T15:16:50.812Z"
   },
   {
    "duration": 5,
    "start_time": "2023-03-23T15:16:52.233Z"
   },
   {
    "duration": 4,
    "start_time": "2023-03-23T15:16:52.487Z"
   },
   {
    "duration": 6365,
    "start_time": "2023-03-23T15:16:59.289Z"
   },
   {
    "duration": 1126,
    "start_time": "2023-03-25T04:55:02.762Z"
   },
   {
    "duration": 135,
    "start_time": "2023-03-25T04:55:03.890Z"
   },
   {
    "duration": 13,
    "start_time": "2023-03-25T04:55:04.027Z"
   },
   {
    "duration": 50,
    "start_time": "2023-03-25T04:55:04.042Z"
   },
   {
    "duration": 22,
    "start_time": "2023-03-25T04:55:04.094Z"
   },
   {
    "duration": 13,
    "start_time": "2023-03-25T04:55:04.118Z"
   },
   {
    "duration": 36,
    "start_time": "2023-03-25T04:55:04.133Z"
   },
   {
    "duration": 19,
    "start_time": "2023-03-25T04:55:04.171Z"
   },
   {
    "duration": 21,
    "start_time": "2023-03-25T04:55:04.192Z"
   },
   {
    "duration": 6509,
    "start_time": "2023-03-25T04:55:04.215Z"
   },
   {
    "duration": 325960,
    "start_time": "2023-03-25T04:55:10.726Z"
   },
   {
    "duration": 18915,
    "start_time": "2023-03-25T05:00:36.688Z"
   },
   {
    "duration": 118,
    "start_time": "2023-03-25T05:00:55.605Z"
   },
   {
    "duration": 0,
    "start_time": "2023-03-25T05:00:55.725Z"
   },
   {
    "duration": 6682,
    "start_time": "2023-03-25T05:12:43.424Z"
   },
   {
    "duration": 6614,
    "start_time": "2023-03-25T05:13:37.178Z"
   },
   {
    "duration": 315138,
    "start_time": "2023-03-25T05:16:02.081Z"
   },
   {
    "duration": 14,
    "start_time": "2023-03-25T05:24:13.783Z"
   },
   {
    "duration": 13,
    "start_time": "2023-03-25T05:24:17.145Z"
   },
   {
    "duration": 13,
    "start_time": "2023-03-25T05:24:44.921Z"
   },
   {
    "duration": 13,
    "start_time": "2023-03-25T05:25:16.428Z"
   },
   {
    "duration": 17,
    "start_time": "2023-03-25T05:34:30.321Z"
   },
   {
    "duration": 52,
    "start_time": "2023-03-25T05:34:37.148Z"
   },
   {
    "duration": 44,
    "start_time": "2023-03-25T05:34:56.454Z"
   },
   {
    "duration": 54,
    "start_time": "2023-03-25T05:35:07.506Z"
   },
   {
    "duration": 79,
    "start_time": "2023-03-25T05:35:41.245Z"
   },
   {
    "duration": 43,
    "start_time": "2023-03-25T05:35:53.564Z"
   },
   {
    "duration": 48,
    "start_time": "2023-03-25T05:36:20.164Z"
   },
   {
    "duration": 55,
    "start_time": "2023-03-25T05:36:37.493Z"
   },
   {
    "duration": 28,
    "start_time": "2023-03-25T05:43:02.640Z"
   },
   {
    "duration": 9,
    "start_time": "2023-03-25T05:57:10.199Z"
   },
   {
    "duration": 6,
    "start_time": "2023-03-25T05:57:11.779Z"
   },
   {
    "duration": 6,
    "start_time": "2023-03-25T05:57:12.474Z"
   },
   {
    "duration": 8,
    "start_time": "2023-03-25T05:57:32.475Z"
   },
   {
    "duration": 16,
    "start_time": "2023-03-25T05:57:32.838Z"
   },
   {
    "duration": 7,
    "start_time": "2023-03-25T05:57:53.892Z"
   },
   {
    "duration": 5,
    "start_time": "2023-03-25T05:57:54.359Z"
   },
   {
    "duration": 6,
    "start_time": "2023-03-25T05:58:46.423Z"
   },
   {
    "duration": 6,
    "start_time": "2023-03-25T05:59:03.265Z"
   },
   {
    "duration": 5,
    "start_time": "2023-03-25T05:59:03.716Z"
   },
   {
    "duration": 6,
    "start_time": "2023-03-25T05:59:04.267Z"
   },
   {
    "duration": 12,
    "start_time": "2023-03-25T05:59:34.396Z"
   },
   {
    "duration": 34,
    "start_time": "2023-03-25T05:59:52.600Z"
   },
   {
    "duration": 7,
    "start_time": "2023-03-25T06:00:14.466Z"
   },
   {
    "duration": 20,
    "start_time": "2023-03-25T06:00:35.953Z"
   },
   {
    "duration": 16,
    "start_time": "2023-03-25T06:01:03.878Z"
   },
   {
    "duration": 6,
    "start_time": "2023-03-25T06:01:12.963Z"
   },
   {
    "duration": 7,
    "start_time": "2023-03-25T06:02:09.775Z"
   },
   {
    "duration": 5,
    "start_time": "2023-03-25T06:03:11.451Z"
   },
   {
    "duration": 13,
    "start_time": "2023-03-25T06:11:26.237Z"
   },
   {
    "duration": 7,
    "start_time": "2023-03-25T06:11:37.292Z"
   },
   {
    "duration": 30,
    "start_time": "2023-03-25T06:11:38.275Z"
   },
   {
    "duration": 11,
    "start_time": "2023-03-25T06:11:38.855Z"
   },
   {
    "duration": 23,
    "start_time": "2023-03-25T06:11:39.274Z"
   },
   {
    "duration": 11,
    "start_time": "2023-03-25T06:11:39.953Z"
   },
   {
    "duration": 7,
    "start_time": "2023-03-25T06:11:40.871Z"
   },
   {
    "duration": 7,
    "start_time": "2023-03-25T06:11:42.453Z"
   },
   {
    "duration": 7,
    "start_time": "2023-03-25T06:11:44.765Z"
   },
   {
    "duration": 5,
    "start_time": "2023-03-25T06:11:45.452Z"
   },
   {
    "duration": 6,
    "start_time": "2023-03-25T06:11:46.035Z"
   },
   {
    "duration": 6981,
    "start_time": "2023-03-25T06:11:50.335Z"
   },
   {
    "duration": 318375,
    "start_time": "2023-03-25T06:12:15.036Z"
   },
   {
    "duration": 30947,
    "start_time": "2023-03-25T06:17:50.330Z"
   },
   {
    "duration": 1241,
    "start_time": "2023-03-25T11:40:41.307Z"
   },
   {
    "duration": 130,
    "start_time": "2023-03-25T11:40:42.550Z"
   },
   {
    "duration": 18,
    "start_time": "2023-03-25T11:40:42.682Z"
   },
   {
    "duration": 42,
    "start_time": "2023-03-25T11:40:42.703Z"
   },
   {
    "duration": 12,
    "start_time": "2023-03-25T11:40:42.747Z"
   },
   {
    "duration": 18,
    "start_time": "2023-03-25T11:40:42.761Z"
   },
   {
    "duration": 7,
    "start_time": "2023-03-25T11:40:42.781Z"
   },
   {
    "duration": 12,
    "start_time": "2023-03-25T11:40:42.790Z"
   },
   {
    "duration": 7,
    "start_time": "2023-03-25T11:40:42.804Z"
   },
   {
    "duration": 28,
    "start_time": "2023-03-25T11:40:42.813Z"
   },
   {
    "duration": 7199,
    "start_time": "2023-03-25T11:40:42.843Z"
   },
   {
    "duration": 329732,
    "start_time": "2023-03-25T11:40:50.044Z"
   },
   {
    "duration": 6768,
    "start_time": "2023-03-25T11:46:19.778Z"
   },
   {
    "duration": 46,
    "start_time": "2023-03-25T11:46:26.548Z"
   },
   {
    "duration": 6,
    "start_time": "2023-03-25T11:46:26.596Z"
   },
   {
    "duration": 22,
    "start_time": "2023-03-25T11:47:30.945Z"
   },
   {
    "duration": 11,
    "start_time": "2023-03-25T11:49:44.730Z"
   },
   {
    "duration": 7,
    "start_time": "2023-03-25T11:51:26.203Z"
   },
   {
    "duration": 6,
    "start_time": "2023-03-25T11:52:03.780Z"
   },
   {
    "duration": 11,
    "start_time": "2023-03-25T11:52:14.387Z"
   },
   {
    "duration": 6750,
    "start_time": "2023-03-25T11:52:25.853Z"
   },
   {
    "duration": 6843,
    "start_time": "2023-03-25T11:52:45.716Z"
   },
   {
    "duration": 320779,
    "start_time": "2023-03-25T11:53:02.232Z"
   },
   {
    "duration": 904,
    "start_time": "2023-03-25T11:59:20.247Z"
   },
   {
    "duration": 6,
    "start_time": "2023-03-25T11:59:51.078Z"
   },
   {
    "duration": 6,
    "start_time": "2023-03-25T11:59:53.222Z"
   },
   {
    "duration": 5,
    "start_time": "2023-03-25T11:59:58.988Z"
   },
   {
    "duration": 6,
    "start_time": "2023-03-25T12:01:59.371Z"
   },
   {
    "duration": 14,
    "start_time": "2023-03-25T12:04:48.012Z"
   },
   {
    "duration": 6,
    "start_time": "2023-03-25T12:05:10.675Z"
   },
   {
    "duration": 6,
    "start_time": "2023-03-25T12:26:01.842Z"
   },
   {
    "duration": 6,
    "start_time": "2023-03-25T12:26:35.267Z"
   },
   {
    "duration": 5,
    "start_time": "2023-03-25T12:27:09.011Z"
   },
   {
    "duration": 6,
    "start_time": "2023-03-25T12:27:16.558Z"
   },
   {
    "duration": 7,
    "start_time": "2023-03-25T12:27:34.000Z"
   },
   {
    "duration": 6,
    "start_time": "2023-03-25T12:27:49.044Z"
   },
   {
    "duration": 10,
    "start_time": "2023-03-25T12:44:45.184Z"
   },
   {
    "duration": 57,
    "start_time": "2023-03-25T13:38:38.509Z"
   },
   {
    "duration": 137,
    "start_time": "2023-03-25T13:38:54.308Z"
   },
   {
    "duration": 19,
    "start_time": "2023-03-25T13:43:43.892Z"
   },
   {
    "duration": 21,
    "start_time": "2023-03-25T13:55:13.799Z"
   },
   {
    "duration": 11,
    "start_time": "2023-03-25T13:56:13.039Z"
   },
   {
    "duration": 12,
    "start_time": "2023-03-25T13:56:21.483Z"
   },
   {
    "duration": 5,
    "start_time": "2023-03-25T13:57:00.931Z"
   },
   {
    "duration": 19,
    "start_time": "2023-03-25T13:57:15.772Z"
   },
   {
    "duration": 51,
    "start_time": "2023-03-25T14:03:40.235Z"
   },
   {
    "duration": 49,
    "start_time": "2023-03-25T14:07:27.192Z"
   },
   {
    "duration": 17,
    "start_time": "2023-03-25T14:49:40.433Z"
   },
   {
    "duration": 200,
    "start_time": "2023-03-25T14:49:40.452Z"
   },
   {
    "duration": 14,
    "start_time": "2023-03-25T14:49:43.973Z"
   },
   {
    "duration": 4,
    "start_time": "2023-03-25T14:49:53.129Z"
   },
   {
    "duration": 31,
    "start_time": "2023-03-25T14:49:55.491Z"
   },
   {
    "duration": 10,
    "start_time": "2023-03-25T14:49:56.395Z"
   },
   {
    "duration": 23,
    "start_time": "2023-03-25T14:49:58.220Z"
   },
   {
    "duration": 11,
    "start_time": "2023-03-25T14:49:59.595Z"
   },
   {
    "duration": 7,
    "start_time": "2023-03-25T14:50:15.760Z"
   },
   {
    "duration": 62,
    "start_time": "2023-03-25T14:50:17.779Z"
   },
   {
    "duration": 4,
    "start_time": "2023-03-25T14:50:19.131Z"
   },
   {
    "duration": 16,
    "start_time": "2023-03-25T14:50:38.304Z"
   },
   {
    "duration": 8,
    "start_time": "2023-03-25T14:50:40.097Z"
   },
   {
    "duration": 5,
    "start_time": "2023-03-25T14:50:45.306Z"
   },
   {
    "duration": 7,
    "start_time": "2023-03-25T14:51:05.900Z"
   },
   {
    "duration": 4,
    "start_time": "2023-03-25T14:51:06.470Z"
   },
   {
    "duration": 6,
    "start_time": "2023-03-25T14:51:06.683Z"
   },
   {
    "duration": 6120,
    "start_time": "2023-03-25T14:51:16.903Z"
   },
   {
    "duration": 255881,
    "start_time": "2023-03-25T14:51:30.631Z"
   },
   {
    "duration": 9,
    "start_time": "2023-03-25T14:55:46.541Z"
   },
   {
    "duration": 18,
    "start_time": "2023-03-25T14:56:18.837Z"
   },
   {
    "duration": 15,
    "start_time": "2023-03-25T14:56:21.851Z"
   },
   {
    "duration": 8,
    "start_time": "2023-03-25T14:56:27.976Z"
   },
   {
    "duration": 97,
    "start_time": "2023-03-25T14:56:28.844Z"
   },
   {
    "duration": 25,
    "start_time": "2023-03-25T14:56:29.536Z"
   },
   {
    "duration": 30,
    "start_time": "2023-03-25T14:56:42.226Z"
   },
   {
    "duration": 12,
    "start_time": "2023-03-25T14:56:42.695Z"
   },
   {
    "duration": 27,
    "start_time": "2023-03-25T14:56:46.616Z"
   },
   {
    "duration": 11,
    "start_time": "2023-03-25T14:56:48.839Z"
   },
   {
    "duration": 8,
    "start_time": "2023-03-25T14:56:51.482Z"
   },
   {
    "duration": 19,
    "start_time": "2023-03-25T14:56:56.277Z"
   },
   {
    "duration": 4,
    "start_time": "2023-03-25T14:56:57.373Z"
   },
   {
    "duration": 16,
    "start_time": "2023-03-25T14:56:59.666Z"
   },
   {
    "duration": 7,
    "start_time": "2023-03-25T14:57:03.148Z"
   },
   {
    "duration": 6,
    "start_time": "2023-03-25T14:57:07.566Z"
   },
   {
    "duration": 8,
    "start_time": "2023-03-25T14:57:13.181Z"
   },
   {
    "duration": 6,
    "start_time": "2023-03-25T14:57:14.232Z"
   },
   {
    "duration": 6,
    "start_time": "2023-03-25T14:57:14.988Z"
   },
   {
    "duration": 2942,
    "start_time": "2023-03-25T14:57:22.284Z"
   },
   {
    "duration": 27,
    "start_time": "2023-03-25T15:00:33.722Z"
   },
   {
    "duration": 7378,
    "start_time": "2023-03-25T15:04:50.398Z"
   },
   {
    "duration": 264050,
    "start_time": "2023-03-25T15:05:03.391Z"
   },
   {
    "duration": 3594,
    "start_time": "2023-03-25T15:10:44.531Z"
   },
   {
    "duration": 92,
    "start_time": "2023-03-25T15:11:06.052Z"
   },
   {
    "duration": 120,
    "start_time": "2023-03-25T15:11:12.908Z"
   },
   {
    "duration": 2857,
    "start_time": "2023-03-25T15:11:20.704Z"
   },
   {
    "duration": 7,
    "start_time": "2023-03-25T15:15:26.706Z"
   },
   {
    "duration": 66841,
    "start_time": "2023-03-25T15:25:00.588Z"
   },
   {
    "duration": 20,
    "start_time": "2023-03-25T15:26:16.169Z"
   },
   {
    "duration": 4379,
    "start_time": "2023-03-25T15:29:46.901Z"
   },
   {
    "duration": 67579,
    "start_time": "2023-03-25T15:30:33.865Z"
   },
   {
    "duration": 2234,
    "start_time": "2023-03-25T15:31:43.403Z"
   },
   {
    "duration": 4859,
    "start_time": "2023-03-25T15:31:55.248Z"
   },
   {
    "duration": 67644,
    "start_time": "2023-03-25T15:32:46.788Z"
   },
   {
    "duration": 3077,
    "start_time": "2023-03-25T15:34:03.591Z"
   },
   {
    "duration": 17,
    "start_time": "2023-03-25T15:34:11.670Z"
   },
   {
    "duration": 1153,
    "start_time": "2023-03-26T03:22:34.350Z"
   },
   {
    "duration": 4,
    "start_time": "2023-03-26T03:22:35.505Z"
   },
   {
    "duration": 3,
    "start_time": "2023-03-26T03:23:05.627Z"
   },
   {
    "duration": 4,
    "start_time": "2023-03-26T03:23:06.024Z"
   },
   {
    "duration": 131,
    "start_time": "2023-03-26T03:23:06.634Z"
   },
   {
    "duration": 54,
    "start_time": "2023-03-26T03:23:07.193Z"
   },
   {
    "duration": 3,
    "start_time": "2023-03-26T03:23:32.426Z"
   },
   {
    "duration": 31,
    "start_time": "2023-03-26T03:23:34.158Z"
   },
   {
    "duration": 38,
    "start_time": "2023-03-26T03:23:34.577Z"
   },
   {
    "duration": 3,
    "start_time": "2023-03-26T03:26:01.454Z"
   },
   {
    "duration": 21,
    "start_time": "2023-03-26T03:26:01.460Z"
   },
   {
    "duration": 72,
    "start_time": "2023-03-26T03:26:01.484Z"
   },
   {
    "duration": 37,
    "start_time": "2023-03-26T03:26:01.558Z"
   },
   {
    "duration": 11,
    "start_time": "2023-03-26T03:26:01.598Z"
   },
   {
    "duration": 17,
    "start_time": "2023-03-26T03:26:01.611Z"
   },
   {
    "duration": 37,
    "start_time": "2023-03-26T03:26:01.629Z"
   },
   {
    "duration": 11,
    "start_time": "2023-03-26T03:26:01.668Z"
   },
   {
    "duration": 25,
    "start_time": "2023-03-26T03:26:01.681Z"
   },
   {
    "duration": 67,
    "start_time": "2023-03-26T03:26:01.708Z"
   },
   {
    "duration": 5,
    "start_time": "2023-03-26T03:26:01.842Z"
   },
   {
    "duration": 121,
    "start_time": "2023-03-26T03:26:01.850Z"
   },
   {
    "duration": 9,
    "start_time": "2023-03-26T03:26:02.042Z"
   },
   {
    "duration": 17,
    "start_time": "2023-03-26T03:26:02.141Z"
   },
   {
    "duration": 25,
    "start_time": "2023-03-26T03:26:02.160Z"
   },
   {
    "duration": 30,
    "start_time": "2023-03-26T03:26:02.187Z"
   },
   {
    "duration": 23,
    "start_time": "2023-03-26T03:26:02.218Z"
   },
   {
    "duration": 4583,
    "start_time": "2023-03-26T03:26:02.243Z"
   },
   {
    "duration": 64432,
    "start_time": "2023-03-26T03:26:06.828Z"
   },
   {
    "duration": 2828,
    "start_time": "2023-03-26T03:27:11.262Z"
   },
   {
    "duration": 132,
    "start_time": "2023-03-26T03:27:14.092Z"
   },
   {
    "duration": 0,
    "start_time": "2023-03-26T03:27:14.227Z"
   },
   {
    "duration": 241870,
    "start_time": "2023-03-26T03:27:56.225Z"
   },
   {
    "duration": 31,
    "start_time": "2023-03-26T03:32:15.334Z"
   },
   {
    "duration": 2769,
    "start_time": "2023-03-26T03:32:34.420Z"
   },
   {
    "duration": 29,
    "start_time": "2023-03-26T03:32:42.672Z"
   },
   {
    "duration": 4,
    "start_time": "2023-03-26T03:32:57.752Z"
   },
   {
    "duration": 3,
    "start_time": "2023-03-26T03:32:58.194Z"
   },
   {
    "duration": 30,
    "start_time": "2023-03-26T03:32:58.590Z"
   },
   {
    "duration": 35,
    "start_time": "2023-03-26T03:32:58.950Z"
   },
   {
    "duration": 32,
    "start_time": "2023-03-26T03:33:00.153Z"
   },
   {
    "duration": 11,
    "start_time": "2023-03-26T03:33:00.537Z"
   },
   {
    "duration": 25,
    "start_time": "2023-03-26T03:33:01.819Z"
   },
   {
    "duration": 11,
    "start_time": "2023-03-26T03:33:02.411Z"
   },
   {
    "duration": 7,
    "start_time": "2023-03-26T03:33:05.410Z"
   },
   {
    "duration": 193,
    "start_time": "2023-03-26T03:33:05.956Z"
   },
   {
    "duration": 4,
    "start_time": "2023-03-26T03:33:06.842Z"
   },
   {
    "duration": 18,
    "start_time": "2023-03-26T03:33:07.425Z"
   },
   {
    "duration": 7,
    "start_time": "2023-03-26T03:33:07.960Z"
   },
   {
    "duration": 6,
    "start_time": "2023-03-26T03:33:09.806Z"
   },
   {
    "duration": 7,
    "start_time": "2023-03-26T03:33:14.457Z"
   },
   {
    "duration": 5,
    "start_time": "2023-03-26T03:33:15.043Z"
   },
   {
    "duration": 6,
    "start_time": "2023-03-26T03:33:15.836Z"
   },
   {
    "duration": 30,
    "start_time": "2023-03-26T03:33:22.733Z"
   },
   {
    "duration": 26,
    "start_time": "2023-03-26T03:33:44.471Z"
   },
   {
    "duration": 3,
    "start_time": "2023-03-26T03:34:11.746Z"
   },
   {
    "duration": 18,
    "start_time": "2023-03-26T03:34:12.330Z"
   },
   {
    "duration": 6,
    "start_time": "2023-03-26T03:34:12.855Z"
   },
   {
    "duration": 5,
    "start_time": "2023-03-26T03:34:13.946Z"
   },
   {
    "duration": 6,
    "start_time": "2023-03-26T03:34:16.900Z"
   },
   {
    "duration": 5,
    "start_time": "2023-03-26T03:34:17.181Z"
   },
   {
    "duration": 5,
    "start_time": "2023-03-26T03:34:17.437Z"
   },
   {
    "duration": 245573,
    "start_time": "2023-03-26T03:34:24.759Z"
   },
   {
    "duration": 20,
    "start_time": "2023-03-26T03:38:47.454Z"
   },
   {
    "duration": 5,
    "start_time": "2023-03-26T03:39:17.842Z"
   },
   {
    "duration": 5,
    "start_time": "2023-03-26T03:39:18.291Z"
   },
   {
    "duration": 5,
    "start_time": "2023-03-26T03:39:18.765Z"
   },
   {
    "duration": 4281,
    "start_time": "2023-03-26T03:39:25.382Z"
   },
   {
    "duration": 241488,
    "start_time": "2023-03-26T03:39:36.633Z"
   },
   {
    "duration": 8,
    "start_time": "2023-03-26T04:10:48.622Z"
   },
   {
    "duration": 20,
    "start_time": "2023-03-26T04:13:05.017Z"
   },
   {
    "duration": 6,
    "start_time": "2023-03-26T04:13:07.533Z"
   },
   {
    "duration": 13,
    "start_time": "2023-03-26T04:13:08.184Z"
   },
   {
    "duration": 4,
    "start_time": "2023-03-26T04:14:06.040Z"
   },
   {
    "duration": 4601,
    "start_time": "2023-03-26T04:14:11.846Z"
   },
   {
    "duration": 247681,
    "start_time": "2023-03-26T04:14:33.137Z"
   },
   {
    "duration": 57,
    "start_time": "2023-04-01T09:07:49.049Z"
   },
   {
    "duration": 12,
    "start_time": "2023-04-01T11:25:10.454Z"
   },
   {
    "duration": 2592,
    "start_time": "2023-04-03T07:54:00.209Z"
   },
   {
    "duration": 65,
    "start_time": "2023-04-03T07:54:02.805Z"
   },
   {
    "duration": 84,
    "start_time": "2023-04-03T07:54:02.877Z"
   },
   {
    "duration": 131,
    "start_time": "2023-04-03T07:54:02.965Z"
   },
   {
    "duration": 20,
    "start_time": "2023-04-03T07:54:03.102Z"
   },
   {
    "duration": 51,
    "start_time": "2023-04-03T07:54:03.124Z"
   },
   {
    "duration": 99,
    "start_time": "2023-04-03T07:54:03.182Z"
   },
   {
    "duration": 21,
    "start_time": "2023-04-03T07:54:03.283Z"
   },
   {
    "duration": 69,
    "start_time": "2023-04-03T07:54:03.307Z"
   },
   {
    "duration": 405,
    "start_time": "2023-04-03T07:54:03.383Z"
   },
   {
    "duration": 8,
    "start_time": "2023-04-03T07:54:03.863Z"
   },
   {
    "duration": 87,
    "start_time": "2023-04-03T07:54:03.878Z"
   },
   {
    "duration": 225,
    "start_time": "2023-04-03T07:54:03.975Z"
   },
   {
    "duration": 79,
    "start_time": "2023-04-03T07:54:04.211Z"
   },
   {
    "duration": 72,
    "start_time": "2023-04-03T07:54:04.298Z"
   },
   {
    "duration": 9,
    "start_time": "2023-04-03T07:54:04.372Z"
   },
   {
    "duration": 13,
    "start_time": "2023-04-03T07:54:04.386Z"
   },
   {
    "duration": 12,
    "start_time": "2023-04-03T07:54:04.405Z"
   },
   {
    "duration": 14679,
    "start_time": "2023-04-03T07:54:04.419Z"
   },
   {
    "duration": 645055,
    "start_time": "2023-04-03T07:54:19.100Z"
   },
   {
    "duration": 7533,
    "start_time": "2023-04-03T08:05:04.162Z"
   },
   {
    "duration": 13,
    "start_time": "2023-04-03T08:05:11.697Z"
   },
   {
    "duration": 7,
    "start_time": "2023-04-03T08:05:11.711Z"
   },
   {
    "duration": 11,
    "start_time": "2023-08-17T09:00:53.987Z"
   }
  ],
  "kernelspec": {
   "display_name": "Python 3 (ipykernel)",
   "language": "python",
   "name": "python3"
  },
  "language_info": {
   "codemirror_mode": {
    "name": "ipython",
    "version": 3
   },
   "file_extension": ".py",
   "mimetype": "text/x-python",
   "name": "python",
   "nbconvert_exporter": "python",
   "pygments_lexer": "ipython3",
   "version": "3.10.9"
  },
  "toc": {
   "base_numbering": 1,
   "nav_menu": {},
   "number_sections": true,
   "sideBar": true,
   "skip_h1_title": true,
   "title_cell": "Table of Contents",
   "title_sidebar": "Contents",
   "toc_cell": false,
   "toc_position": {
    "height": "calc(100% - 180px)",
    "left": "10px",
    "top": "150px",
    "width": "316.067px"
   },
   "toc_section_display": true,
   "toc_window_display": true
  }
 },
 "nbformat": 4,
 "nbformat_minor": 2
}
