{
 "cells": [
  {
   "cell_type": "markdown",
   "metadata": {
    "toc": true
   },
   "source": [
    "<h1>Содержание<span class=\"tocSkip\"></span></h1>\n",
    "<div class=\"toc\"><ul class=\"toc-item\"><li><span><a href=\"#Загрузка-данных\" data-toc-modified-id=\"Загрузка-данных-1\"><span class=\"toc-item-num\">1&nbsp;&nbsp;</span>Загрузка данных</a></span></li><li><span><a href=\"#Умножение-матриц\" data-toc-modified-id=\"Умножение-матриц-2\"><span class=\"toc-item-num\">2&nbsp;&nbsp;</span>Умножение матриц</a></span></li><li><span><a href=\"#Алгоритм-преобразования\" data-toc-modified-id=\"Алгоритм-преобразования-3\"><span class=\"toc-item-num\">3&nbsp;&nbsp;</span>Алгоритм преобразования</a></span></li><li><span><a href=\"#Проверка-алгоритма\" data-toc-modified-id=\"Проверка-алгоритма-4\"><span class=\"toc-item-num\">4&nbsp;&nbsp;</span>Проверка алгоритма</a></span></li><li><span><a href=\"#Общий-вывод\" data-toc-modified-id=\"Общий-вывод-5\"><span class=\"toc-item-num\">5&nbsp;&nbsp;</span>Общий вывод</a></span></li><li><span><a href=\"#Чек-лист-проверки\" data-toc-modified-id=\"Чек-лист-проверки-6\"><span class=\"toc-item-num\">6&nbsp;&nbsp;</span>Чек-лист проверки</a></span></li></ul></div>"
   ]
  },
  {
   "cell_type": "markdown",
   "metadata": {},
   "source": [
    "# Защита персональных данных клиентов"
   ]
  },
  {
   "cell_type": "markdown",
   "metadata": {},
   "source": [
    "<b>Описание проекта</b>  "
   ]
  },
  {
   "cell_type": "markdown",
   "metadata": {},
   "source": [
    "Нам надо защитить данные клиентов страховой компании «Хоть потоп». Требуется разработь такой метод преобразования данных, чтобы по ним было сложно восстановить персональную информацию. Надо обосновать корректность его работы.\n",
    "\n",
    "Нужно защитить данные, чтобы при преобразовании качество моделей машинного обучения не ухудшилось. Подбирать наилучшую модель не требуется.  \n",
    "\n",
    "Наша задача:  \n",
    "- Загрузить и изучить данные.  \n",
    "- Ответить на вопрос и обосновать решение:   \n",
    "  Признаки умножают на обратимую матрицу. Изменится ли качество линейной регрессии? (Её можно обучить заново.)  \n",
    "  a. Изменится. Привести примеры матриц.  \n",
    "  b. Не изменится. Указать, как связаны параметры линейной регрессии в исходной задаче и в преобразованной.  \n",
    "- Предложить алгоритм преобразования данных для решения задачи. Обосновать, почему качество линейной регрессии не поменяется. \n",
    "- Запрограммировать этот алгоритм, применив матричные операции. Проверить, что качество линейной регрессии из sklearn не отличается до и после преобразования. Применить метрику R2.  \n",
    "\n",
    "Описание данных:   \n",
    "- Признаки: пол, возраст и зарплата застрахованного, количество членов его семьи.  \n",
    "- Целевой признак: количество страховых выплат клиенту за последние 5 лет."
   ]
  },
  {
   "cell_type": "markdown",
   "metadata": {},
   "source": [
    "## Загрузка данных"
   ]
  },
  {
   "cell_type": "code",
   "execution_count": 18,
   "metadata": {},
   "outputs": [],
   "source": [
    "import pandas as pd\n",
    "import numpy as np\n",
    "\n",
    "from sklearn.linear_model import LinearRegression\n",
    "from sklearn.metrics import r2_score"
   ]
  },
  {
   "cell_type": "code",
   "execution_count": 19,
   "metadata": {},
   "outputs": [],
   "source": [
    "# Читаем данные из csv-файла и сохраним в переменную\n",
    "data = pd.read_csv('https://code.s3.yandex.net/datasets/insurance.csv')"
   ]
  },
  {
   "cell_type": "code",
   "execution_count": 20,
   "metadata": {},
   "outputs": [
    {
     "name": "stdout",
     "output_type": "stream",
     "text": [
      "<class 'pandas.core.frame.DataFrame'>\n",
      "RangeIndex: 5000 entries, 0 to 4999\n",
      "Data columns (total 5 columns):\n",
      " #   Column             Non-Null Count  Dtype  \n",
      "---  ------             --------------  -----  \n",
      " 0   Пол                5000 non-null   int64  \n",
      " 1   Возраст            5000 non-null   float64\n",
      " 2   Зарплата           5000 non-null   float64\n",
      " 3   Члены семьи        5000 non-null   int64  \n",
      " 4   Страховые выплаты  5000 non-null   int64  \n",
      "dtypes: float64(2), int64(3)\n",
      "memory usage: 195.4 KB\n"
     ]
    },
    {
     "data": {
      "text/plain": [
       "None"
      ]
     },
     "metadata": {},
     "output_type": "display_data"
    },
    {
     "data": {
      "text/html": [
       "<div>\n",
       "<style scoped>\n",
       "    .dataframe tbody tr th:only-of-type {\n",
       "        vertical-align: middle;\n",
       "    }\n",
       "\n",
       "    .dataframe tbody tr th {\n",
       "        vertical-align: top;\n",
       "    }\n",
       "\n",
       "    .dataframe thead th {\n",
       "        text-align: right;\n",
       "    }\n",
       "</style>\n",
       "<table border=\"1\" class=\"dataframe\">\n",
       "  <thead>\n",
       "    <tr style=\"text-align: right;\">\n",
       "      <th></th>\n",
       "      <th>Пол</th>\n",
       "      <th>Возраст</th>\n",
       "      <th>Зарплата</th>\n",
       "      <th>Члены семьи</th>\n",
       "      <th>Страховые выплаты</th>\n",
       "    </tr>\n",
       "  </thead>\n",
       "  <tbody>\n",
       "    <tr>\n",
       "      <th>0</th>\n",
       "      <td>1</td>\n",
       "      <td>41.0</td>\n",
       "      <td>49600.0</td>\n",
       "      <td>1</td>\n",
       "      <td>0</td>\n",
       "    </tr>\n",
       "    <tr>\n",
       "      <th>1</th>\n",
       "      <td>0</td>\n",
       "      <td>46.0</td>\n",
       "      <td>38000.0</td>\n",
       "      <td>1</td>\n",
       "      <td>1</td>\n",
       "    </tr>\n",
       "    <tr>\n",
       "      <th>2</th>\n",
       "      <td>0</td>\n",
       "      <td>29.0</td>\n",
       "      <td>21000.0</td>\n",
       "      <td>0</td>\n",
       "      <td>0</td>\n",
       "    </tr>\n",
       "    <tr>\n",
       "      <th>3</th>\n",
       "      <td>0</td>\n",
       "      <td>21.0</td>\n",
       "      <td>41700.0</td>\n",
       "      <td>2</td>\n",
       "      <td>0</td>\n",
       "    </tr>\n",
       "    <tr>\n",
       "      <th>4</th>\n",
       "      <td>1</td>\n",
       "      <td>28.0</td>\n",
       "      <td>26100.0</td>\n",
       "      <td>0</td>\n",
       "      <td>0</td>\n",
       "    </tr>\n",
       "  </tbody>\n",
       "</table>\n",
       "</div>"
      ],
      "text/plain": [
       "   Пол  Возраст  Зарплата  Члены семьи  Страховые выплаты\n",
       "0    1     41.0   49600.0            1                  0\n",
       "1    0     46.0   38000.0            1                  1\n",
       "2    0     29.0   21000.0            0                  0\n",
       "3    0     21.0   41700.0            2                  0\n",
       "4    1     28.0   26100.0            0                  0"
      ]
     },
     "metadata": {},
     "output_type": "display_data"
    },
    {
     "data": {
      "text/html": [
       "<div>\n",
       "<style scoped>\n",
       "    .dataframe tbody tr th:only-of-type {\n",
       "        vertical-align: middle;\n",
       "    }\n",
       "\n",
       "    .dataframe tbody tr th {\n",
       "        vertical-align: top;\n",
       "    }\n",
       "\n",
       "    .dataframe thead th {\n",
       "        text-align: right;\n",
       "    }\n",
       "</style>\n",
       "<table border=\"1\" class=\"dataframe\">\n",
       "  <thead>\n",
       "    <tr style=\"text-align: right;\">\n",
       "      <th></th>\n",
       "      <th>Пол</th>\n",
       "      <th>Возраст</th>\n",
       "      <th>Зарплата</th>\n",
       "      <th>Члены семьи</th>\n",
       "      <th>Страховые выплаты</th>\n",
       "    </tr>\n",
       "  </thead>\n",
       "  <tbody>\n",
       "    <tr>\n",
       "      <th>count</th>\n",
       "      <td>5000.0</td>\n",
       "      <td>5000.00</td>\n",
       "      <td>5000.00</td>\n",
       "      <td>5000.00</td>\n",
       "      <td>5000.00</td>\n",
       "    </tr>\n",
       "    <tr>\n",
       "      <th>mean</th>\n",
       "      <td>0.5</td>\n",
       "      <td>30.95</td>\n",
       "      <td>39916.36</td>\n",
       "      <td>1.19</td>\n",
       "      <td>0.15</td>\n",
       "    </tr>\n",
       "    <tr>\n",
       "      <th>std</th>\n",
       "      <td>0.5</td>\n",
       "      <td>8.44</td>\n",
       "      <td>9900.08</td>\n",
       "      <td>1.09</td>\n",
       "      <td>0.46</td>\n",
       "    </tr>\n",
       "    <tr>\n",
       "      <th>min</th>\n",
       "      <td>0.0</td>\n",
       "      <td>18.00</td>\n",
       "      <td>5300.00</td>\n",
       "      <td>0.00</td>\n",
       "      <td>0.00</td>\n",
       "    </tr>\n",
       "    <tr>\n",
       "      <th>25%</th>\n",
       "      <td>0.0</td>\n",
       "      <td>24.00</td>\n",
       "      <td>33300.00</td>\n",
       "      <td>0.00</td>\n",
       "      <td>0.00</td>\n",
       "    </tr>\n",
       "    <tr>\n",
       "      <th>50%</th>\n",
       "      <td>0.0</td>\n",
       "      <td>30.00</td>\n",
       "      <td>40200.00</td>\n",
       "      <td>1.00</td>\n",
       "      <td>0.00</td>\n",
       "    </tr>\n",
       "    <tr>\n",
       "      <th>75%</th>\n",
       "      <td>1.0</td>\n",
       "      <td>37.00</td>\n",
       "      <td>46600.00</td>\n",
       "      <td>2.00</td>\n",
       "      <td>0.00</td>\n",
       "    </tr>\n",
       "    <tr>\n",
       "      <th>max</th>\n",
       "      <td>1.0</td>\n",
       "      <td>65.00</td>\n",
       "      <td>79000.00</td>\n",
       "      <td>6.00</td>\n",
       "      <td>5.00</td>\n",
       "    </tr>\n",
       "  </tbody>\n",
       "</table>\n",
       "</div>"
      ],
      "text/plain": [
       "          Пол  Возраст  Зарплата  Члены семьи  Страховые выплаты\n",
       "count  5000.0  5000.00   5000.00      5000.00            5000.00\n",
       "mean      0.5    30.95  39916.36         1.19               0.15\n",
       "std       0.5     8.44   9900.08         1.09               0.46\n",
       "min       0.0    18.00   5300.00         0.00               0.00\n",
       "25%       0.0    24.00  33300.00         0.00               0.00\n",
       "50%       0.0    30.00  40200.00         1.00               0.00\n",
       "75%       1.0    37.00  46600.00         2.00               0.00\n",
       "max       1.0    65.00  79000.00         6.00               5.00"
      ]
     },
     "metadata": {},
     "output_type": "display_data"
    },
    {
     "data": {
      "text/html": [
       "<style type=\"text/css\">\n",
       "#T_a40d4_row0_col0, #T_a40d4_row1_col1, #T_a40d4_row2_col2, #T_a40d4_row3_col3, #T_a40d4_row4_col4 {\n",
       "  background-color: #014636;\n",
       "  color: #f1f1f1;\n",
       "}\n",
       "#T_a40d4_row0_col1, #T_a40d4_row2_col4 {\n",
       "  background-color: #fcf4f9;\n",
       "  color: #000000;\n",
       "}\n",
       "#T_a40d4_row0_col2, #T_a40d4_row0_col4 {\n",
       "  background-color: #f8f0f7;\n",
       "  color: #000000;\n",
       "}\n",
       "#T_a40d4_row0_col3, #T_a40d4_row2_col0 {\n",
       "  background-color: #fbf3f9;\n",
       "  color: #000000;\n",
       "}\n",
       "#T_a40d4_row1_col0, #T_a40d4_row1_col2 {\n",
       "  background-color: #fef6fa;\n",
       "  color: #000000;\n",
       "}\n",
       "#T_a40d4_row1_col3 {\n",
       "  background-color: #fbf2f9;\n",
       "  color: #000000;\n",
       "}\n",
       "#T_a40d4_row1_col4 {\n",
       "  background-color: #268bb0;\n",
       "  color: #f1f1f1;\n",
       "}\n",
       "#T_a40d4_row2_col1, #T_a40d4_row3_col0, #T_a40d4_row3_col2, #T_a40d4_row3_col4, #T_a40d4_row4_col3 {\n",
       "  background-color: #fff7fb;\n",
       "  color: #000000;\n",
       "}\n",
       "#T_a40d4_row2_col3 {\n",
       "  background-color: #fef6fb;\n",
       "  color: #000000;\n",
       "}\n",
       "#T_a40d4_row3_col1, #T_a40d4_row4_col2 {\n",
       "  background-color: #fdf5fa;\n",
       "  color: #000000;\n",
       "}\n",
       "#T_a40d4_row4_col0 {\n",
       "  background-color: #fdf4fa;\n",
       "  color: #000000;\n",
       "}\n",
       "#T_a40d4_row4_col1 {\n",
       "  background-color: #288cb1;\n",
       "  color: #f1f1f1;\n",
       "}\n",
       "</style>\n",
       "<table id=\"T_a40d4\">\n",
       "  <thead>\n",
       "    <tr>\n",
       "      <th class=\"blank level0\" >&nbsp;</th>\n",
       "      <th id=\"T_a40d4_level0_col0\" class=\"col_heading level0 col0\" >Пол</th>\n",
       "      <th id=\"T_a40d4_level0_col1\" class=\"col_heading level0 col1\" >Возраст</th>\n",
       "      <th id=\"T_a40d4_level0_col2\" class=\"col_heading level0 col2\" >Зарплата</th>\n",
       "      <th id=\"T_a40d4_level0_col3\" class=\"col_heading level0 col3\" >Члены семьи</th>\n",
       "      <th id=\"T_a40d4_level0_col4\" class=\"col_heading level0 col4\" >Страховые выплаты</th>\n",
       "    </tr>\n",
       "  </thead>\n",
       "  <tbody>\n",
       "    <tr>\n",
       "      <th id=\"T_a40d4_level0_row0\" class=\"row_heading level0 row0\" >Пол</th>\n",
       "      <td id=\"T_a40d4_row0_col0\" class=\"data row0 col0\" >1.000000</td>\n",
       "      <td id=\"T_a40d4_row0_col1\" class=\"data row0 col1\" >0.002074</td>\n",
       "      <td id=\"T_a40d4_row0_col2\" class=\"data row0 col2\" >0.014910</td>\n",
       "      <td id=\"T_a40d4_row0_col3\" class=\"data row0 col3\" >-0.008991</td>\n",
       "      <td id=\"T_a40d4_row0_col4\" class=\"data row0 col4\" >0.010140</td>\n",
       "    </tr>\n",
       "    <tr>\n",
       "      <th id=\"T_a40d4_level0_row1\" class=\"row_heading level0 row1\" >Возраст</th>\n",
       "      <td id=\"T_a40d4_row1_col0\" class=\"data row1 col0\" >0.002074</td>\n",
       "      <td id=\"T_a40d4_row1_col1\" class=\"data row1 col1\" >1.000000</td>\n",
       "      <td id=\"T_a40d4_row1_col2\" class=\"data row1 col2\" >-0.019093</td>\n",
       "      <td id=\"T_a40d4_row1_col3\" class=\"data row1 col3\" >-0.006692</td>\n",
       "      <td id=\"T_a40d4_row1_col4\" class=\"data row1 col4\" >0.651030</td>\n",
       "    </tr>\n",
       "    <tr>\n",
       "      <th id=\"T_a40d4_level0_row2\" class=\"row_heading level0 row2\" >Зарплата</th>\n",
       "      <td id=\"T_a40d4_row2_col0\" class=\"data row2 col0\" >0.014910</td>\n",
       "      <td id=\"T_a40d4_row2_col1\" class=\"data row2 col1\" >-0.019093</td>\n",
       "      <td id=\"T_a40d4_row2_col2\" class=\"data row2 col2\" >1.000000</td>\n",
       "      <td id=\"T_a40d4_row2_col3\" class=\"data row2 col3\" >-0.030296</td>\n",
       "      <td id=\"T_a40d4_row2_col4\" class=\"data row2 col4\" >-0.014963</td>\n",
       "    </tr>\n",
       "    <tr>\n",
       "      <th id=\"T_a40d4_level0_row3\" class=\"row_heading level0 row3\" >Члены семьи</th>\n",
       "      <td id=\"T_a40d4_row3_col0\" class=\"data row3 col0\" >-0.008991</td>\n",
       "      <td id=\"T_a40d4_row3_col1\" class=\"data row3 col1\" >-0.006692</td>\n",
       "      <td id=\"T_a40d4_row3_col2\" class=\"data row3 col2\" >-0.030296</td>\n",
       "      <td id=\"T_a40d4_row3_col3\" class=\"data row3 col3\" >1.000000</td>\n",
       "      <td id=\"T_a40d4_row3_col4\" class=\"data row3 col4\" >-0.036290</td>\n",
       "    </tr>\n",
       "    <tr>\n",
       "      <th id=\"T_a40d4_level0_row4\" class=\"row_heading level0 row4\" >Страховые выплаты</th>\n",
       "      <td id=\"T_a40d4_row4_col0\" class=\"data row4 col0\" >0.010140</td>\n",
       "      <td id=\"T_a40d4_row4_col1\" class=\"data row4 col1\" >0.651030</td>\n",
       "      <td id=\"T_a40d4_row4_col2\" class=\"data row4 col2\" >-0.014963</td>\n",
       "      <td id=\"T_a40d4_row4_col3\" class=\"data row4 col3\" >-0.036290</td>\n",
       "      <td id=\"T_a40d4_row4_col4\" class=\"data row4 col4\" >1.000000</td>\n",
       "    </tr>\n",
       "  </tbody>\n",
       "</table>\n"
      ],
      "text/plain": [
       "<pandas.io.formats.style.Styler at 0x1f7dd70cc70>"
      ]
     },
     "metadata": {},
     "output_type": "display_data"
    },
    {
     "data": {
      "text/plain": [
       "Пол                  0\n",
       "Возраст              0\n",
       "Зарплата             0\n",
       "Члены семьи          0\n",
       "Страховые выплаты    0\n",
       "dtype: int64"
      ]
     },
     "metadata": {},
     "output_type": "display_data"
    },
    {
     "data": {
      "text/plain": [
       "(5000, 5)"
      ]
     },
     "metadata": {},
     "output_type": "display_data"
    },
    {
     "name": "stdout",
     "output_type": "stream",
     "text": [
      "Количество дупликатов: 153\n"
     ]
    }
   ],
   "source": [
    "# Изучим общую информацию о полученном датафрейме\n",
    "display(data.info(), data.head(), \n",
    "        data.describe(include='all').round(2),\n",
    "        data.corr().style.background_gradient(cmap='PuBuGn'), \n",
    "        data.isna().sum(), data.shape)                                    \n",
    "print('Количество дупликатов:', data.duplicated().sum()) "
   ]
  },
  {
   "cell_type": "markdown",
   "metadata": {},
   "source": [
    "В таблице 5 столбцов и 5000 строк. Пропусков в данных нет. Все данные выглядят корректно. Нет явно выбивающихся значений. Имеется высокая зависимость признаков 'Страховые выплаты' и 'Возраст'. Таблица содержит 153 явных дупликата. Т.к. нет уникальных идентификаторов клиентов, мы можем предположить, что данные могут совпадать полностью у разных клиентов. Оставим эти данные без изменений. "
   ]
  },
  {
   "cell_type": "markdown",
   "metadata": {},
   "source": [
    "## Умножение матриц"
   ]
  },
  {
   "cell_type": "markdown",
   "metadata": {},
   "source": [
    "Признаки умножают на обратимую матрицу. Изменится ли качество линейной регрессии? (Её можно обучить заново.)"
   ]
  },
  {
   "cell_type": "markdown",
   "metadata": {},
   "source": [
    "Обозначения:\n",
    "\n",
    "- $X$ — матрица признаков (нулевой столбец состоит из единиц)\n",
    "\n",
    "- $y$ — вектор целевого признака\n",
    "\n",
    "- $P$ — матрица, на которую умножаются признаки\n",
    "\n",
    "- $w$ — вектор весов линейной регрессии (нулевой элемент равен сдвигу)"
   ]
  },
  {
   "cell_type": "markdown",
   "metadata": {},
   "source": [
    "Предсказания:\n",
    "\n",
    "$$\n",
    "a = Xw\n",
    "$$\n",
    "\n",
    "Задача обучения:\n",
    "\n",
    "$$\n",
    "w = \\arg\\min_w MSE(Xw, y)\n",
    "$$\n",
    "\n",
    "Формула обучения:\n",
    "\n",
    "$$\n",
    "w = (X^T X)^{-1} X^T y\n",
    "$$"
   ]
  },
  {
   "cell_type": "markdown",
   "metadata": {},
   "source": [
    "**Ответ:** Не изменится\n",
    "\n",
    "**Обоснование:**   \n",
    "\n",
    "Запишем новое представление матрицы признаков с учетом умнажения на обратную матрицу:  \n",
    "\n",
    "$$ B = XP $$  \n",
    "\n",
    "Тогда формулы c учетом новых введений будут иметь следующий вид:  \n",
    "\n",
    "Предсказания:  $$ A = BW $$  \n",
    "\n",
    "Формула обучения:  $$ W = (B^TB)^{-1}B^Ty $$, где W - вектор весов  \n",
    "\n",
    "Подставим значение $ B $ в формулу обучения и преобразуем ее:  \n",
    "\n",
    "\n",
    "$$ W = ((XP)^T(XP))^{-1}(XP)^T y $$  \n",
    "\n",
    "$$ W = (P^T X^T X P)^{-1} P^T X^T y $$   \n",
    "\n",
    "$$ W = (P^T(X^TX)P)^{-1}P^T X^T y $$   \n",
    "\n",
    "$$ W = ((X^TX)P)^{-1} P^{T^{-1}} P^T X^T y $$ \n",
    "\n",
    "\n",
    "По свойству обратной матрицы - при умножение матрицы на обратную ей получается единичная матрица:  \n",
    "\n",
    "$$ (P^T)^{-1}  P^T = E $$  \n",
    "\n",
    "Вектор весов линейной регрессии имеет следующий вид:    \n",
    "\n",
    "$$ W = ((X^TX)P)^{-1} E X^T y $$ \n",
    "\n",
    "\n",
    "Так как при умножение любой матрицы на единичную матрицу получается таже самая матрица, получаем:  \n",
    "\n",
    "$$ W = P^{-1}(X^T X)^{-1}  X^T y $$    \n",
    "\n",
    "Полученную выше формулу можно представить в виде: $$ W=P^{-1}w $$, так как по условию: $$ w = (X^T X)^{-1} X^T y $$  \n",
    "\n",
    "Подставим полученное значение вектора весов линейной регрессии в формулу предсказаний:  \n",
    "\n",
    "$$ A = B (P^{-1}w) $$  \n",
    "\n",
    "$$ A = XP (P^{-1}w) $$  \n",
    "\n",
    "По свойству обратной матрицы и еденичной матрицы сократим $ P $  и $ P^{-1} $ :  \n",
    "\n",
    "$$ A = X w $$\n",
    "\n"
   ]
  },
  {
   "cell_type": "markdown",
   "metadata": {},
   "source": [
    "Таким образом, мы получили аналогичную формулу предсказаний, что и была в начале, значит умножение признаков на обратимую матрицу не влияет на предсказания модели."
   ]
  },
  {
   "cell_type": "markdown",
   "metadata": {},
   "source": [
    "## Алгоритм преобразования"
   ]
  },
  {
   "cell_type": "markdown",
   "metadata": {},
   "source": [
    "**Алгоритм**\n",
    "\n",
    "В качестве алгоритма защиты данных клиентов страховой компании будем использовать умножение матрицы признаков $ X $ на случайную обратимую матрицу $ P $ размером 4х4. Создадим модель линейной регрессии для исходных признаков и посчитаем метрику R2. Далее умножим исходные признаки на обратимую матрицу и опять посчитаем метрику R2. Умножение признаков на обратимую матрицу не приводит к изменению предсказаний, поэтому результаты R2 должны оказаться равны."
   ]
  },
  {
   "cell_type": "markdown",
   "metadata": {},
   "source": [
    "**Обоснование**\n",
    "\n",
    "Необходимо создать обратимую матрицу размером 4х4. При этом важно не создать случайную необратимую матрицу, т.к. это нарушит наш алгоритм. "
   ]
  },
  {
   "cell_type": "code",
   "execution_count": 21,
   "metadata": {},
   "outputs": [
    {
     "data": {
      "text/plain": [
       "array([[0.22733602, 0.31675834, 0.79736546, 0.67625467],\n",
       "       [0.39110955, 0.33281393, 0.59830875, 0.18673419],\n",
       "       [0.67275604, 0.94180287, 0.24824571, 0.94888115],\n",
       "       [0.66723745, 0.09589794, 0.44183967, 0.88647992]])"
      ]
     },
     "execution_count": 21,
     "metadata": {},
     "output_type": "execute_result"
    }
   ],
   "source": [
    "# Создадим рандомную матрицу 4х4\n",
    "rng = np.random.default_rng(seed=12345)\n",
    "P = rng.random((4, 4))\n",
    "P"
   ]
  },
  {
   "cell_type": "code",
   "execution_count": 22,
   "metadata": {},
   "outputs": [
    {
     "data": {
      "text/plain": [
       "array([[-1.97240014,  1.76004024, -0.08309671,  1.22285233],\n",
       "       [ 0.14111106,  0.32873452,  1.02824721, -1.27752175],\n",
       "       [ 0.8908452 ,  0.90302415, -0.59501472, -0.23290483],\n",
       "       [ 1.02530945, -1.81039816,  0.24787878,  0.46192295]])"
      ]
     },
     "execution_count": 22,
     "metadata": {},
     "output_type": "execute_result"
    }
   ],
   "source": [
    "# Проверим матрицу на обратимость\n",
    "np.linalg.inv(P)"
   ]
  },
  {
   "cell_type": "markdown",
   "metadata": {},
   "source": [
    "Сообщения об ошибке нет, значит матрица обратима. "
   ]
  },
  {
   "cell_type": "code",
   "execution_count": 23,
   "metadata": {},
   "outputs": [],
   "source": [
    "# Разобьем данные data на признаки и целевой признак, сохраним в отдельных переменных\n",
    "features = data.drop('Страховые выплаты', axis=1)\n",
    "target = data['Страховые выплаты']"
   ]
  },
  {
   "cell_type": "code",
   "execution_count": 24,
   "metadata": {},
   "outputs": [
    {
     "name": "stdout",
     "output_type": "stream",
     "text": [
      "(5000, 4)\n",
      "(5000,)\n"
     ]
    }
   ],
   "source": [
    "# Выведем на экран размеры этих выборок\n",
    "print(features.shape)\n",
    "print(target.shape)"
   ]
  },
  {
   "cell_type": "markdown",
   "metadata": {},
   "source": [
    "Применим формулы: \n",
    "$$ a = Xw $$\n",
    "$$ w = (X^T X)^{-1} X^T y $$"
   ]
  },
  {
   "cell_type": "code",
   "execution_count": 25,
   "metadata": {},
   "outputs": [],
   "source": [
    "# Рассчитаем результаты для исходных признаков\n",
    "w = np.linalg.inv(features.T.dot(features)).dot(features.T).dot(target)\n",
    "a = features @ w"
   ]
  },
  {
   "cell_type": "code",
   "execution_count": 26,
   "metadata": {},
   "outputs": [
    {
     "name": "stdout",
     "output_type": "stream",
     "text": [
      "(5000, 4)\n"
     ]
    }
   ],
   "source": [
    "# Умножим исходные признаки на нашу случайную матрицу\n",
    "features_random = features @ P\n",
    "# Выведем на экран размер выборки\n",
    "print(features_random.shape)"
   ]
  },
  {
   "cell_type": "code",
   "execution_count": 27,
   "metadata": {},
   "outputs": [],
   "source": [
    "# Рассчитаем результаты для признаков, умноженных на обратимую матрицу\n",
    "w2 = np.linalg.inv(features_random.T.dot(features_random)).dot(features_random.T).dot(target)\n",
    "a2 = features_random @ w2"
   ]
  },
  {
   "cell_type": "code",
   "execution_count": 28,
   "metadata": {},
   "outputs": [
    {
     "name": "stdout",
     "output_type": "stream",
     "text": [
      "0.0\n"
     ]
    }
   ],
   "source": [
    "# Определим разницу между полученными результатами\n",
    "print(round((a - a2).sum(),2))"
   ]
  },
  {
   "cell_type": "markdown",
   "metadata": {},
   "source": [
    "Выбранный нами алгоритм защиты данных клиентов не создает разницы в предсказаниях при использовании исходных признаков и при использовании преобразованных признаков. Качество модели линейной регрессии не поменяется.  "
   ]
  },
  {
   "cell_type": "markdown",
   "metadata": {},
   "source": [
    "## Проверка алгоритма"
   ]
  },
  {
   "cell_type": "code",
   "execution_count": 29,
   "metadata": {},
   "outputs": [
    {
     "name": "stdout",
     "output_type": "stream",
     "text": [
      "Метрика R2 при использовании исходных признаков - 0.425\n"
     ]
    }
   ],
   "source": [
    "# Обучим модель линейной регрессии для исходных признаков\n",
    "model1 = LinearRegression()\n",
    "model1.fit(features, target)\n",
    "predictions1 = model1.predict(features)\n",
    "# Вычислим результат метрики для исходных признаков\n",
    "R2 = r2_score(target, predictions1)\n",
    "print(f'Метрика R2 при использовании исходных признаков - {round((R2),3)}')"
   ]
  },
  {
   "cell_type": "code",
   "execution_count": 30,
   "metadata": {},
   "outputs": [
    {
     "name": "stdout",
     "output_type": "stream",
     "text": [
      "Метрика R2 при использовании признаков, умноженых на обратимую матрицу - 0.425\n"
     ]
    }
   ],
   "source": [
    "# Обучим модель линейной регрессии для признаков, умноженных на обратимую матрицу\n",
    "model2 = LinearRegression()\n",
    "model2.fit(features_random, target)\n",
    "predictions2 = model2.predict(features_random)\n",
    "# Вычислим результат метрики для признаков, умноженных на обратимую матрицу\n",
    "R2_random = r2_score(target, predictions2)\n",
    "print(f'Метрика R2 при использовании признаков, умноженых на обратимую матрицу - {round((R2_random),3)}')"
   ]
  },
  {
   "cell_type": "markdown",
   "metadata": {},
   "source": [
    "Метрики R2 обеих моделей одиннаковые, следовательно умножение исходных данных на случайную обратимую матрицу может быть применено в качестве алгоритма защиты данные клиентов страховой компании."
   ]
  },
  {
   "cell_type": "markdown",
   "metadata": {},
   "source": [
    "##  Общий вывод"
   ]
  },
  {
   "cell_type": "markdown",
   "metadata": {},
   "source": [
    "Было проведено исследование, чтобы защитить данные клиентов страховой компании «Хоть потоп». Требовалось разработь такой метод преобразования данных, чтобы по ним было сложно восстановить персональную информацию.  \n",
    "В ходе работы были изучены предоставленные данные. Таблица состоит из 5 столбцов и 5000 строк. Пропусков в данных нет. Все данные выглядят корректно. Нет явно выбивающихся значений. Имеется высокая зависимость признаков 'Страховые выплаты' и 'Возраст'. Таблица содержит 153 явных дупликата. Т.к. нет уникальных идентификаторов клиентов, мы предположили, что данные могут совпадать полностью у разных клиентов. Оставили эти данные без изменений.  \n",
    "Было обосновано, что при умножении признаков на обратимую матрицу, качество модели линейной регрессии не меняется.  \n",
    "В качестве алгоритма защиты данных клиентов страховой компании использовали умножение матрицы признаков 𝑋 на случайную обратимую матрицу 𝑃 размером 4х4. Создали модель линейной регрессии для исходных признаков и посчитали метрику R2. Далее умножили исходные признаки на обратимую матрицу, провели машинное обучение с помощью алгоритма линейной регрессии и опять посчитали метрику R2. Метрики R2 обеих моделей одиннаковые, следовательно умножение исходных данных на случайную обратимую матрицу может быть применено в качестве алгоритма защиты данные клиентов страховой компании.  \n"
   ]
  }
 ],
 "metadata": {
  "ExecuteTimeLog": [
   {
    "duration": 1685,
    "start_time": "2023-05-13T05:56:50.355Z"
   },
   {
    "duration": 201,
    "start_time": "2023-05-13T05:56:52.041Z"
   },
   {
    "duration": 182,
    "start_time": "2023-05-13T05:57:26.244Z"
   },
   {
    "duration": 176,
    "start_time": "2023-05-13T05:57:57.538Z"
   },
   {
    "duration": 237,
    "start_time": "2023-05-13T05:58:07.373Z"
   },
   {
    "duration": 105,
    "start_time": "2023-05-13T06:00:05.131Z"
   },
   {
    "duration": 90,
    "start_time": "2023-05-13T06:00:14.578Z"
   },
   {
    "duration": 23,
    "start_time": "2023-05-13T06:02:35.815Z"
   },
   {
    "duration": 24,
    "start_time": "2023-05-13T06:03:07.911Z"
   },
   {
    "duration": 135,
    "start_time": "2023-05-13T06:03:36.387Z"
   },
   {
    "duration": 11,
    "start_time": "2023-05-13T06:42:26.744Z"
   },
   {
    "duration": 81,
    "start_time": "2023-05-13T07:01:51.831Z"
   },
   {
    "duration": 14,
    "start_time": "2023-05-13T08:08:41.510Z"
   },
   {
    "duration": 6,
    "start_time": "2023-05-13T08:22:16.172Z"
   },
   {
    "duration": 10,
    "start_time": "2023-05-13T08:22:19.846Z"
   },
   {
    "duration": 14,
    "start_time": "2023-05-13T08:22:24.420Z"
   },
   {
    "duration": 10,
    "start_time": "2023-05-13T08:23:56.949Z"
   },
   {
    "duration": 6,
    "start_time": "2023-05-13T08:24:02.576Z"
   },
   {
    "duration": 31,
    "start_time": "2023-05-13T08:26:41.408Z"
   },
   {
    "duration": 5,
    "start_time": "2023-05-13T08:26:50.047Z"
   },
   {
    "duration": 5,
    "start_time": "2023-05-13T08:30:06.745Z"
   },
   {
    "duration": 1332,
    "start_time": "2023-05-13T08:30:51.031Z"
   },
   {
    "duration": 8,
    "start_time": "2023-05-13T08:32:43.140Z"
   },
   {
    "duration": 6,
    "start_time": "2023-05-13T08:32:49.261Z"
   },
   {
    "duration": 5,
    "start_time": "2023-05-13T08:32:53.069Z"
   },
   {
    "duration": 8,
    "start_time": "2023-05-13T08:33:05.708Z"
   },
   {
    "duration": 5,
    "start_time": "2023-05-13T08:33:08.280Z"
   },
   {
    "duration": 9,
    "start_time": "2023-05-13T08:33:14.664Z"
   },
   {
    "duration": 20,
    "start_time": "2023-05-13T08:33:20.186Z"
   },
   {
    "duration": 7,
    "start_time": "2023-05-13T08:33:24.579Z"
   },
   {
    "duration": 5,
    "start_time": "2023-05-13T08:33:27.241Z"
   },
   {
    "duration": 7,
    "start_time": "2023-05-13T08:34:55.035Z"
   },
   {
    "duration": 7,
    "start_time": "2023-05-13T08:34:58.660Z"
   },
   {
    "duration": 14,
    "start_time": "2023-05-13T08:35:05.210Z"
   },
   {
    "duration": 3,
    "start_time": "2023-05-13T08:38:34.935Z"
   },
   {
    "duration": 5,
    "start_time": "2023-05-13T08:38:36.871Z"
   },
   {
    "duration": 5,
    "start_time": "2023-05-13T08:38:41.814Z"
   },
   {
    "duration": 4,
    "start_time": "2023-05-13T08:38:44.320Z"
   },
   {
    "duration": 4,
    "start_time": "2023-05-13T08:38:47.414Z"
   },
   {
    "duration": 41,
    "start_time": "2023-05-13T08:40:24.199Z"
   },
   {
    "duration": 1767,
    "start_time": "2023-05-13T08:45:33.613Z"
   },
   {
    "duration": 20,
    "start_time": "2023-05-13T08:45:42.990Z"
   },
   {
    "duration": 31,
    "start_time": "2023-05-13T08:45:47.344Z"
   },
   {
    "duration": 6,
    "start_time": "2023-05-13T08:45:48.451Z"
   },
   {
    "duration": 5,
    "start_time": "2023-05-13T08:53:38.929Z"
   },
   {
    "duration": 4,
    "start_time": "2023-05-13T08:53:39.411Z"
   },
   {
    "duration": 19,
    "start_time": "2023-05-13T08:56:50.015Z"
   },
   {
    "duration": 4,
    "start_time": "2023-05-13T08:56:58.318Z"
   },
   {
    "duration": 51,
    "start_time": "2023-05-13T08:56:58.785Z"
   },
   {
    "duration": 20,
    "start_time": "2023-05-13T08:57:01.948Z"
   },
   {
    "duration": 9,
    "start_time": "2023-05-13T08:57:04.868Z"
   },
   {
    "duration": 32,
    "start_time": "2023-05-13T08:58:32.790Z"
   },
   {
    "duration": 46,
    "start_time": "2023-05-13T08:59:03.249Z"
   },
   {
    "duration": 36,
    "start_time": "2023-05-13T08:59:33.119Z"
   },
   {
    "duration": 4,
    "start_time": "2023-05-13T08:59:48.525Z"
   },
   {
    "duration": 139,
    "start_time": "2023-05-13T08:59:48.675Z"
   },
   {
    "duration": 76,
    "start_time": "2023-05-13T08:59:48.834Z"
   },
   {
    "duration": 6,
    "start_time": "2023-05-13T08:59:50.533Z"
   },
   {
    "duration": 23,
    "start_time": "2023-05-13T08:59:50.701Z"
   },
   {
    "duration": 8,
    "start_time": "2023-05-13T08:59:51.339Z"
   },
   {
    "duration": 8,
    "start_time": "2023-05-13T08:59:51.505Z"
   },
   {
    "duration": 4,
    "start_time": "2023-05-13T08:59:51.676Z"
   },
   {
    "duration": 102,
    "start_time": "2023-05-13T08:59:51.836Z"
   },
   {
    "duration": 17,
    "start_time": "2023-05-13T08:59:52.015Z"
   },
   {
    "duration": 11,
    "start_time": "2023-05-13T08:59:52.158Z"
   },
   {
    "duration": 25,
    "start_time": "2023-05-13T09:00:29.119Z"
   },
   {
    "duration": 91,
    "start_time": "2023-05-13T09:03:47.066Z"
   },
   {
    "duration": 49,
    "start_time": "2023-05-13T09:04:39.448Z"
   },
   {
    "duration": 47,
    "start_time": "2023-05-13T09:05:18.451Z"
   },
   {
    "duration": 126,
    "start_time": "2023-05-13T09:05:21.005Z"
   },
   {
    "duration": 39,
    "start_time": "2023-05-13T09:05:50.425Z"
   },
   {
    "duration": 36,
    "start_time": "2023-05-13T09:06:54.719Z"
   },
   {
    "duration": 16,
    "start_time": "2023-05-13T09:07:09.437Z"
   },
   {
    "duration": 52,
    "start_time": "2023-05-13T09:07:17.124Z"
   },
   {
    "duration": 87,
    "start_time": "2023-05-13T09:13:58.095Z"
   },
   {
    "duration": 147,
    "start_time": "2023-05-13T09:15:00.067Z"
   },
   {
    "duration": 43,
    "start_time": "2023-05-13T09:16:06.527Z"
   },
   {
    "duration": 44,
    "start_time": "2023-05-13T09:16:06.892Z"
   },
   {
    "duration": 23,
    "start_time": "2023-05-13T09:16:07.665Z"
   },
   {
    "duration": 35,
    "start_time": "2023-05-13T09:16:49.639Z"
   },
   {
    "duration": 74,
    "start_time": "2023-05-13T09:16:59.407Z"
   },
   {
    "duration": 68,
    "start_time": "2023-05-13T09:17:24.955Z"
   },
   {
    "duration": 103,
    "start_time": "2023-05-13T09:30:47.556Z"
   },
   {
    "duration": 5,
    "start_time": "2023-05-13T09:33:20.966Z"
   },
   {
    "duration": 19,
    "start_time": "2023-05-13T09:49:18.487Z"
   },
   {
    "duration": 3,
    "start_time": "2023-05-13T10:13:08.328Z"
   },
   {
    "duration": 57,
    "start_time": "2023-05-13T10:13:08.334Z"
   },
   {
    "duration": 86,
    "start_time": "2023-05-13T10:13:08.393Z"
   },
   {
    "duration": 28,
    "start_time": "2023-05-13T10:13:08.482Z"
   },
   {
    "duration": 22,
    "start_time": "2023-05-13T10:13:08.512Z"
   },
   {
    "duration": 181,
    "start_time": "2023-05-13T10:13:08.536Z"
   },
   {
    "duration": 28,
    "start_time": "2023-05-13T10:13:08.719Z"
   },
   {
    "duration": 32,
    "start_time": "2023-05-13T10:13:08.749Z"
   },
   {
    "duration": 138,
    "start_time": "2023-05-13T10:13:08.790Z"
   },
   {
    "duration": 59,
    "start_time": "2023-05-13T10:13:08.932Z"
   },
   {
    "duration": 7,
    "start_time": "2023-05-13T10:23:13.842Z"
   },
   {
    "duration": 31,
    "start_time": "2023-05-13T10:24:05.210Z"
   },
   {
    "duration": 13,
    "start_time": "2023-05-13T10:24:05.709Z"
   },
   {
    "duration": 4,
    "start_time": "2023-05-13T10:25:01.370Z"
   },
   {
    "duration": 13,
    "start_time": "2023-05-13T10:25:39.282Z"
   },
   {
    "duration": 23,
    "start_time": "2023-05-13T10:25:39.622Z"
   },
   {
    "duration": 4,
    "start_time": "2023-05-13T10:26:07.737Z"
   },
   {
    "duration": 4,
    "start_time": "2023-05-13T10:26:21.274Z"
   },
   {
    "duration": 5,
    "start_time": "2023-05-13T10:28:28.703Z"
   },
   {
    "duration": 6,
    "start_time": "2023-05-13T10:29:31.119Z"
   },
   {
    "duration": 82,
    "start_time": "2023-05-13T10:29:39.077Z"
   },
   {
    "duration": 7,
    "start_time": "2023-05-13T10:29:44.830Z"
   },
   {
    "duration": 15,
    "start_time": "2023-05-13T10:29:51.522Z"
   },
   {
    "duration": 3,
    "start_time": "2023-05-13T10:37:44.138Z"
   },
   {
    "duration": 33,
    "start_time": "2023-05-13T10:37:44.143Z"
   },
   {
    "duration": 65,
    "start_time": "2023-05-13T10:37:44.178Z"
   },
   {
    "duration": 7,
    "start_time": "2023-05-13T10:37:44.245Z"
   },
   {
    "duration": 43,
    "start_time": "2023-05-13T10:37:44.254Z"
   },
   {
    "duration": 25,
    "start_time": "2023-05-13T10:37:44.300Z"
   },
   {
    "duration": 9,
    "start_time": "2023-05-13T10:37:44.389Z"
   },
   {
    "duration": 108,
    "start_time": "2023-05-13T10:37:44.401Z"
   },
   {
    "duration": 106,
    "start_time": "2023-05-13T10:37:44.515Z"
   },
   {
    "duration": 6,
    "start_time": "2023-05-13T10:37:44.624Z"
   },
   {
    "duration": 12,
    "start_time": "2023-05-13T10:37:44.631Z"
   },
   {
    "duration": 106,
    "start_time": "2023-05-13T10:37:44.690Z"
   },
   {
    "duration": 209,
    "start_time": "2023-05-13T10:37:44.798Z"
   },
   {
    "duration": 56,
    "start_time": "2023-05-13T16:56:53.005Z"
   },
   {
    "duration": 41,
    "start_time": "2023-05-13T16:58:36.475Z"
   }
  ],
  "kernelspec": {
   "display_name": "Python 3 (ipykernel)",
   "language": "python",
   "name": "python3"
  },
  "language_info": {
   "codemirror_mode": {
    "name": "ipython",
    "version": 3
   },
   "file_extension": ".py",
   "mimetype": "text/x-python",
   "name": "python",
   "nbconvert_exporter": "python",
   "pygments_lexer": "ipython3",
   "version": "3.10.9"
  },
  "toc": {
   "base_numbering": 1,
   "nav_menu": {},
   "number_sections": true,
   "sideBar": true,
   "skip_h1_title": true,
   "title_cell": "Содержание",
   "title_sidebar": "Contents",
   "toc_cell": true,
   "toc_position": {
    "height": "calc(100% - 180px)",
    "left": "10px",
    "top": "150px",
    "width": "294.233px"
   },
   "toc_section_display": true,
   "toc_window_display": true
  }
 },
 "nbformat": 4,
 "nbformat_minor": 2
}
